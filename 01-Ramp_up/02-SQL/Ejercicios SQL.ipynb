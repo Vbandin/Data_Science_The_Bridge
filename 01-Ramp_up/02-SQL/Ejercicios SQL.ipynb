{
 "cells": [
  {
   "cell_type": "markdown",
   "metadata": {},
   "source": [
    "# Ejercicio SQL\n",
    "Para este ejercicio usaremos una base de datos de Pokemon. **Asegúrante que tienes el archivo \"pokemon.sqlite\" en la misma carpeta donde está este Notebook**. Esta base de datos solamente contiene una tabla llamada `pokemon`\n",
    "\n",
    "\n",
    "Realiza los siguientes apartados:\n",
    "\n",
    "1. Obten una tabla con todos los campos\n",
    "2. Obten una tabla con los campos \"Name\", \"Type 1\", \"Type 2\"\n",
    "3. Obten la misma tabla que el apartado anterior, pero en este caso renombrando los campos al castellano.\n",
    "4. ¿Cuales son todos los \"Type 1\" diferentes?\n",
    "5. ¿Cuales son todos los \"Type 1\" y \"Type 2\" diferentes?\n",
    "6. ¿Cuáles son los pokemon de agua? \"Type 1\" = \"Water\"\n",
    "7. Obtén una tabla con los pokemon legendarios\n",
    "8. Obtén una tabla con los pokemon legendarios de fuego (\"Type 1\" = \"Fire\")\n",
    "9. Obtén una tabla con los pokemon cuyo nombre empieze por \"W\" y tenga una defensa mayor de 100 puntos\n",
    "10. Saca una tabla con los pokemon de la primera generación, que NO sean \"Type 1\" = \"Psychic\" y tengan una velocidad superior a 130\n",
    "11. ¿Cuál es el pokemon con el ataque más alto?\n",
    "12. ¿Cuál es la media de la defensa de todos los pokemon?\n",
    "13. ¿Cuál es la media de la defensa por generación?\n",
    "14. Calcula el máximo HP por \"Type 1\"\n",
    "\n",
    "**NOTA**: se recomienda añadir un `LIMIT 5` en la mayoría de apartados para evitar grandes outputs de las queries."
   ]
  },
  {
   "cell_type": "code",
   "execution_count": null,
   "metadata": {},
   "outputs": [],
   "source": [
    "import sqlite3\n",
    "import pandas as pd"
   ]
  },
  {
   "cell_type": "code",
   "execution_count": null,
   "metadata": {},
   "outputs": [],
   "source": [
    "# Conectamos con la base de datos pokemon.sqlite\n",
    "connection = sqlite3.connect(\"pokemon.sqlite\")\n",
    "\n",
    "# Obtenemos un cursor que utilizaremos para hacer las queries\n",
    "crsr = connection.cursor()\n",
    "\n",
    "# Con esta función leemos los datos y lo pasamos a un DataFrame de Pandas\n",
    "def sql_query(query):\n",
    "\n",
    "    # Ejecuta la query\n",
    "    crsr.execute(query)\n",
    "\n",
    "    # Almacena los datos de la query \n",
    "    ans = crsr.fetchall()\n",
    "\n",
    "    # Obtenemos los nombres de las columnas de la tabla\n",
    "    names = [description[0] for description in crsr.description]\n",
    "\n",
    "    return pd.DataFrame(ans,columns=names)"
   ]
  },
  {
   "cell_type": "code",
   "execution_count": null,
   "metadata": {},
   "outputs": [],
   "source": [
    "# 1. Obten una tabla con todos los campos\n"
   ]
  },
  {
   "cell_type": "code",
   "execution_count": null,
   "metadata": {},
   "outputs": [],
   "source": [
    "# 2. Obten una tabla con los campos \"Name\", \"Type 1\", \"Type 2\"\n"
   ]
  },
  {
   "cell_type": "code",
   "execution_count": null,
   "metadata": {},
   "outputs": [],
   "source": [
    "# 3. Obten la misma tabla que el apartado anterior, pero en este caso renombrando los campos al castellano.\n"
   ]
  },
  {
   "cell_type": "code",
   "execution_count": null,
   "metadata": {},
   "outputs": [],
   "source": [
    "# 4. ¿Cuales son todos los \"Type 1\" diferentes?\n"
   ]
  },
  {
   "cell_type": "code",
   "execution_count": null,
   "metadata": {},
   "outputs": [],
   "source": [
    "# 5. ¿Cuales son todos los \"Type 1\" y \"Type 2\" diferentes?\n"
   ]
  },
  {
   "cell_type": "code",
   "execution_count": null,
   "metadata": {},
   "outputs": [],
   "source": [
    "# 6. ¿Cuáles son los pokemon de agua? \"Type 1\" = \"Water\"\n"
   ]
  },
  {
   "cell_type": "code",
   "execution_count": null,
   "metadata": {},
   "outputs": [],
   "source": [
    "# 7. Obtén una tabla con los pokemon legendarios\n"
   ]
  },
  {
   "cell_type": "code",
   "execution_count": null,
   "metadata": {},
   "outputs": [],
   "source": [
    "# 8. Obtén una tabla con los pokemon legendarios de fuego (\"Type 1\" = \"Fire\")\n"
   ]
  },
  {
   "cell_type": "code",
   "execution_count": null,
   "metadata": {},
   "outputs": [],
   "source": [
    "# 9. Obtén una tabla con los pokemon cuyo nombre empieze por \"W\" y tenga una defensa mayor de 100 puntos\n"
   ]
  },
  {
   "cell_type": "code",
   "execution_count": null,
   "metadata": {},
   "outputs": [],
   "source": [
    "# 10. Saca una tabla con los pokemon de la primera generación, que NO sean \"Type 1\" = \"Psychic\" y tengan una velocidad superior a 130\n"
   ]
  },
  {
   "cell_type": "code",
   "execution_count": null,
   "metadata": {},
   "outputs": [],
   "source": [
    "# 11. ¿Cuál es el pokemon con el ataque más alto?\n"
   ]
  },
  {
   "cell_type": "code",
   "execution_count": null,
   "metadata": {},
   "outputs": [],
   "source": [
    "# 12. ¿Cuál es la media de la defensa de todos los pokemon?\n"
   ]
  },
  {
   "cell_type": "code",
   "execution_count": null,
   "metadata": {},
   "outputs": [],
   "source": [
    "# 13. ¿Cuál es la media de la defensa por generación?\n"
   ]
  },
  {
   "cell_type": "code",
   "execution_count": null,
   "metadata": {},
   "outputs": [],
   "source": [
    "# Apartado 14. Calcula el máximo HP por \"Type 1\"\n"
   ]
  }
 ],
 "metadata": {
  "kernelspec": {
   "display_name": "Python 3 (ipykernel)",
   "language": "python",
   "name": "python3"
  },
  "language_info": {
   "codemirror_mode": {
    "name": "ipython",
    "version": 3
   },
   "file_extension": ".py",
   "mimetype": "text/x-python",
   "name": "python",
   "nbconvert_exporter": "python",
   "pygments_lexer": "ipython3",
   "version": "3.9.7"
  }
 },
 "nbformat": 4,
 "nbformat_minor": 4
}
