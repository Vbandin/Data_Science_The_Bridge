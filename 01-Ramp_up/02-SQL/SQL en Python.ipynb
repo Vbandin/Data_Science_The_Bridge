{
 "cells": [
  {
   "cell_type": "markdown",
   "metadata": {},
   "source": [
    "# SQL en Python\n",
    "Podrás atacar a una base de datos SQL desde muchas plataformas/lenguajes. Por supuesto, Python es uno de ellos. \n",
    "\n",
    "En este taller usaremos SQLite, que es un sistema de gestión de bases de datos basado en SQL optimizado para entornos pequeños como aplicaciones móviles. Puede integrarse con Python gracias a la librería `sqlite3`, incluida por defecto en las versiones más recientes de Python.\n",
    "\n",
    "\n",
    "1. [Configuración del entorno](#1.-Configuración-del-entorno)\n",
    "2. [Modelo de datos](#2.-Modelo-de-datos)\n",
    "3. [Queries](#3.-Queries)\n",
    "\n",
    "    3.1 [Primera query](#3.1-Primera-query)\n",
    "    \n",
    "    3.2 [SELECT](#3.2-SELECT)\n",
    "    \n",
    "    3.3 [LIMIT](#3.3-LIMIT)\n",
    "    \n",
    "    3.4 [DISTINCT](#3.4-DISTINCT)\n",
    "    \n",
    "    3.5 [WHERE](#3.5-WHERE)\n",
    "    \n",
    "    3.6 [ORDER BY](#3.6-ORDER-BY)\n",
    "    \n",
    "    3.7 [Agregaciones](#3.7-Agregaciones)\n",
    "    \n",
    "    3.8 [GROUP BY](#3.8-GROUP-BY)\n",
    "    \n",
    "    3.9 [JOIN](#3.9-JOIN)\n",
    "    \n",
    "    \n",
    "4. [Errores](#4.-Errores)\n",
    "\n",
    "5. [Resumen](#5.-Resumen)\n"
   ]
  },
  {
   "cell_type": "markdown",
   "metadata": {},
   "source": [
    "## 1. Configuración del entorno\n",
    "En este taller usaremos también *Pandas*, que es el módulo para tratamiento de datos tabular que más se usa en Python.\n",
    "\n",
    "Importamos ambos paquetes"
   ]
  },
  {
   "cell_type": "code",
   "execution_count": null,
   "metadata": {},
   "outputs": [],
   "source": [
    "import pandas as pd\n",
    "import sqlite3"
   ]
  },
  {
   "cell_type": "markdown",
   "metadata": {},
   "source": [
    "Lo primero que hacemos es **establecer conexión con la base de datos**. En este taller simplemente leeremos la base de datos de un archivo, pero lo normal es que tengamos que configurar la conexión a una base de datos de la empresa. Para ello existen otras librerías como `pyodbc` en el caso de un SQLServer o `cx_Oracle`, si el servidor es Oracle.\n",
    "\n",
    "**¡Asegurate que tienes el archivo chinook.db en la ruta donde se encuentra este Notebook!**"
   ]
  },
  {
   "cell_type": "code",
   "execution_count": null,
   "metadata": {},
   "outputs": [],
   "source": [
    "# Conectamos con la base de datos chinook.db\n",
    "connection = sqlite3.connect(\"chinook.db\")\n",
    "\n",
    "# Obtenemos un cursor que utilizaremos para hacer las queries\n",
    "crsr = connection.cursor()"
   ]
  },
  {
   "cell_type": "code",
   "execution_count": null,
   "metadata": {},
   "outputs": [],
   "source": [
    "# Con esta función leemos los datos y lo pasamos a un DataFrame de Pandas\n",
    "def sql_query(query):\n",
    "\n",
    "    # Ejecuta la query\n",
    "    crsr.execute(query)\n",
    "\n",
    "    # Almacena los datos de la query \n",
    "    ans = crsr.fetchall()\n",
    "\n",
    "    # Obtenemos los nombres de las columnas de la tabla\n",
    "    names = [description[0] for description in crsr.description]\n",
    "\n",
    "    return pd.DataFrame(ans,columns=names)"
   ]
  },
  {
   "cell_type": "markdown",
   "metadata": {},
   "source": [
    "## 2. Modelo de datos\n",
    "Antes de empezar a atacar una base de datos, tendremos que saber qué hay dentro, y para ello lo mejor es ver cómo es su **modelo de datos**\n",
    "\n",
    "![imagen](./img/chinook_data_model.png)"
   ]
  },
  {
   "cell_type": "markdown",
   "metadata": {},
   "source": [
    "Puedes ver todas las tablas que hay en la base de datos con la siguiente sentencia"
   ]
  },
  {
   "cell_type": "code",
   "execution_count": null,
   "metadata": {},
   "outputs": [],
   "source": [
    "query = \"SELECT name FROM sqlite_master WHERE type='table'\"\n",
    "sql_query(query)"
   ]
  },
  {
   "cell_type": "markdown",
   "metadata": {},
   "source": [
    "## 3. Queries\n",
    "En las *queries* o consultas, escribiremos nuestra sentencia SQL para poder traernos datos de la base de datos. Las queries tienen esta pinta:\n",
    "\n",
    "```SQL\n",
    "SELECT campo1, campo2, campo3...\n",
    "FROM tabla\n",
    "WHERE condiciones\n",
    "```\n",
    "\n",
    "Por supuesto, hay más sentencias propias de SQL que iremos viendo a lo largo del Notebook. Fíjate que las **palabras reservadas en SQL se suelen poner en mayúsculas**, para diferenciarlas del resto. No da error si se pone de otra manera, ya que SQL **no es *case sensitive***, pero sí se suele hacer así."
   ]
  },
  {
   "cell_type": "markdown",
   "metadata": {},
   "source": [
    "### 3.1 Primera query"
   ]
  },
  {
   "cell_type": "code",
   "execution_count": null,
   "metadata": {},
   "outputs": [],
   "source": [
    "# Muestra la tabla tracks entera\n"
   ]
  },
  {
   "cell_type": "markdown",
   "metadata": {},
   "source": [
    "### 3.2 SELECT\n",
    "**La sentencia `SELECT` se usa para filtrar columnas**. Podremos incluso renombrar algunas columnas dentro del propio `SELECT`. Dos opciones:\n",
    "* **SELECT * :** de esta forma lo que haremos es traer todos los campos de la tabla. NO es lo recomendable ya que hay tablas que pueden tener cientos de columnas y probablemente no necesitemos todas, por lo que afectará al rendimiento de la maquina y en definitiva al resto de usuarios. **Recuerda que las bases de datos son normalmente entornos compartidos por varios usuarios :)**\n",
    "* **SELECT campo1, campo2...:** sentencia para escoger los campos concretos que necesitamos.\n",
    "\n",
    "Además en la propia query podrás renombrar campos mediante la sintaxis `campo as nuevo_nombre`. **Si quieres poner espacios en el nombre del campo, tendrás que rodear el string con comillas dobles**\n",
    "\n",
    "SQL no es sensible a mayusculas y minusculas."
   ]
  },
  {
   "cell_type": "code",
   "execution_count": null,
   "metadata": {},
   "outputs": [],
   "source": [
    "# De la tabla tracks, renombra Name a \"Nombre Cancion\" y muestra también la columna \"Composer\"\n"
   ]
  },
  {
   "cell_type": "markdown",
   "metadata": {},
   "source": [
    "### 3.3 LIMIT\n",
    "Se usa para acotar el número de registros de la query. Va siempre al final. Por ejemplo `LIMIT 10`"
   ]
  },
  {
   "cell_type": "code",
   "execution_count": null,
   "metadata": {},
   "outputs": [],
   "source": [
    "# Limita a 10 filas la tabla anterior usando LIMIT\n"
   ]
  },
  {
   "cell_type": "markdown",
   "metadata": {},
   "source": [
    "### 3.4 DISTINCT\n",
    "Se usa para obtener todos los registros únicos, es decir, sin duplicados. Muy útil tanto para eliminar dupicados, como para ver todas las casuísticas de un campo en concreto.\n",
    "\n",
    "**Mucho cuidado con esta sentencia ya que si la tabla tiene miles o millones de registros, puede ralentizar mucho la query.**"
   ]
  },
  {
   "cell_type": "code",
   "execution_count": null,
   "metadata": {},
   "outputs": [],
   "source": [
    "# Muestra los compositores diferentes de la base de datos\n"
   ]
  },
  {
   "cell_type": "markdown",
   "metadata": {},
   "source": [
    "### 3.5 WHERE\n",
    "Se usa para filtrar filas. Ejemplos de uso:\n",
    "* **Un valor numérico**\n",
    "    * UnitPrice = 0.99\n",
    "    * UnitPrice >= 0.99\n",
    "    * UnitPrice < 0.99\n",
    "* **Un valor string**: Name = 'Restless and Wild'\n",
    "* **Varios valores**: GenreId in (1, 5, 12)\n",
    "* **string contenido**:\n",
    "    * strings que empiecen por 'A': Name like 'A%'\n",
    "    * strings que acaben en 'A': Name like '%A'\n",
    "    * strings que lleven 'A' en algun punto: Name like '%A%'\n",
    "* **Distinto de**: UnitPrice <> 0.99\n",
    "\n",
    "Probamos el `WHERE`"
   ]
  },
  {
   "cell_type": "code",
   "execution_count": null,
   "metadata": {},
   "outputs": [],
   "source": [
    "# Filtra la tabla tracks mostrando únicamente aquellas con precio unitario superior a 0.99\n"
   ]
  },
  {
   "cell_type": "markdown",
   "metadata": {},
   "source": [
    "Veamos qué tal funciona el `LIKE`"
   ]
  },
  {
   "cell_type": "code",
   "execution_count": null,
   "metadata": {},
   "outputs": [],
   "source": [
    "# Filtra la tabla tracks para que en el campo \"Composer\" aparezca \"Brian Johnson\"\n"
   ]
  },
  {
   "cell_type": "markdown",
   "metadata": {},
   "source": [
    "Compliquemos un poco más el `WHERE`"
   ]
  },
  {
   "cell_type": "code",
   "execution_count": null,
   "metadata": {},
   "outputs": [],
   "source": [
    "# Filtra la tabla tracks para obtener canciones con precio unitario superior a 0.99, bytes superiores a 100000000 \n",
    "# y el identificador de género valga 21, 22 o 23\n"
   ]
  },
  {
   "cell_type": "markdown",
   "metadata": {},
   "source": [
    "### 3.6 ORDER BY\n",
    "Podemos **ordenar la tabla por el campo/s que queramos**. Por defecto ordena alfabéticamente los strings y de menor a mayor los tipos numéricos. Si quieres que ordene al revés, tienes que poner `DESC` de la forma `ORDER BY campo DESC`"
   ]
  },
  {
   "cell_type": "code",
   "execution_count": null,
   "metadata": {},
   "outputs": [],
   "source": [
    "# Ordena la tabal tracks por nombre, de forma descendiente\n"
   ]
  },
  {
   "cell_type": "markdown",
   "metadata": {},
   "source": [
    "### 3.7 Agregaciones\n",
    "En ocasiones nos interesa obtener algún estadístico como el máximo de un campo, su desviación estándar o simplemente un conteo de registros no nulos. Para ello podemos usar funciones como `MAX`, `COUNT` o `AVG`. En [esta página](https://www.sqlservertutorial.net/sql-server-aggregate-functions/) encontrarás un resumen con las principales funciones."
   ]
  },
  {
   "cell_type": "code",
   "execution_count": null,
   "metadata": {},
   "outputs": [],
   "source": [
    "# Cuenta el número de canciones cuyo nombre comienza por la letra 'A'\n"
   ]
  },
  {
   "cell_type": "code",
   "execution_count": null,
   "metadata": {},
   "outputs": [],
   "source": [
    "# ¿Cuál es el mayor precio unitario de la tabla invoice_items?\n"
   ]
  },
  {
   "cell_type": "markdown",
   "metadata": {},
   "source": [
    "### 3.8 GROUP BY\n",
    "Es una sentencia muy útil para **calcular agregados en función de otro campo**. Por ejemplo, para calcular el total del precio unitario en función del género\n"
   ]
  },
  {
   "cell_type": "code",
   "execution_count": null,
   "metadata": {},
   "outputs": [],
   "source": [
    "# Obtén la suma de los precios unitarios en función del género en la tabla tracks\n"
   ]
  },
  {
   "cell_type": "markdown",
   "metadata": {},
   "source": [
    "O calcular cuantas canciones hay por compositor"
   ]
  },
  {
   "cell_type": "code",
   "execution_count": null,
   "metadata": {},
   "outputs": [],
   "source": []
  },
  {
   "cell_type": "markdown",
   "metadata": {},
   "source": [
    "### 3.9 JOIN\n",
    "Hasta ahora hemos hecho queries sobre una única tabla, pero **¿y si queremos juntar datos de varias tablas?** Para eso están los `JOIN`s. Para ello **necesitas tener uno o varios campos comunes entre ambas tablas, que denominan CLAVES**.\n",
    "\n",
    "**¿Cuándo usarlos?** Por ejemplo, si tenemos una tabla con un conjunto de clientes y necesitamos añadirles campos nuevos, tendremos que acudir a otras tablas donde esté ese identificador de cliente y aplicar un `JOIN`. Es lo que se conoce como *pegar campos* a otra tabla.\n",
    "\n",
    "O imagina que tienes una tabla con todos tus pedidos, con muchos campos(ciudad, dirección, cliente...) y en otra tabla únicamente los números de pedido que no se llegaron a entregar. Si quieres filtrar dentro de tu tabla total de pedidos los que no se llegaron a entregar, podrías aplicar un `INNER JOIN` de manera que te quedes con lo común en ambas tablas, siendo tu clave el identificativo del pedido..\n",
    "\n",
    "Existen varios tipos de JOINs:\n",
    "\n",
    "![imagen](./img/joins.jpg)"
   ]
  },
  {
   "cell_type": "code",
   "execution_count": null,
   "metadata": {},
   "outputs": [],
   "source": [
    "# Une las tablas tracks y genres con un INNER JOIN, mostrando las columnas nombre y compositor (de tracks) y nombre (de genres)\n",
    "# Filtra los registros para que el nombre del género empiece por la letra 'B'\n"
   ]
  },
  {
   "cell_type": "code",
   "execution_count": null,
   "metadata": {},
   "outputs": [],
   "source": [
    "# Une las tablas tracks e invoice_item con un LEFT JOIN, mostrando las columnas trackid, name y composer de la tabla tracks,\n",
    "# e invoicelineid, invoiceid de la tabla invoice_items\n"
   ]
  },
  {
   "cell_type": "code",
   "execution_count": null,
   "metadata": {},
   "outputs": [],
   "source": [
    "# Une las tablas tracks y albums con un LEFT JOIN, mostrando las columnas trackid, name y albumid de la tabla tracks,\n",
    "# y la columna title de la tabla albums\n",
    "\n"
   ]
  },
  {
   "cell_type": "markdown",
   "metadata": {},
   "source": [
    "<table align=\"left\">\n",
    " <tr><td width=\"80\"><img src=\"./img/error.png\" style=\"width:auto;height:auto\"></td>\n",
    "     <td style=\"text-align:left\">\n",
    "         <h3>ERRORES en la query</h3>\n",
    "         \n",
    " </td></tr>\n",
    "</table>"
   ]
  },
  {
   "cell_type": "markdown",
   "metadata": {},
   "source": [
    "Los errores son todos del mismo tipo: `OperationalError`. Esto nos indica que lo da el propio SQL, no es un error del intérprete de Python como tal. Ahora bien, aunque lo de SQL, devuelve un descriptivo con el tipo de error, que está bastante bien para ver por donde van los tiros."
   ]
  },
  {
   "cell_type": "code",
   "execution_count": null,
   "metadata": {},
   "outputs": [],
   "source": [
    "query = '''\n",
    "SEECT * \n",
    "FROM tracks\n",
    "'''\n",
    "\n",
    "sql_query(query)"
   ]
  },
  {
   "cell_type": "code",
   "execution_count": null,
   "metadata": {},
   "outputs": [],
   "source": [
    "query = '''\n",
    "SELECT * \n",
    "FROM tracksssss\n",
    "'''\n",
    "\n",
    "sql_query(query)"
   ]
  },
  {
   "cell_type": "code",
   "execution_count": null,
   "metadata": {},
   "outputs": [],
   "source": [
    "query = '''\n",
    "SELECT campo1, campo2\n",
    "FROM tracks\n",
    "'''\n",
    "\n",
    "sql_query(query)"
   ]
  },
  {
   "cell_type": "markdown",
   "metadata": {},
   "source": [
    "## 5. Resumen\n",
    "**SQL es el estándar que se utiliza en el acceso a las BBDD relacionales**, por lo que en prácticamente cualquier empresa te vas a encontrar una BD de este tipo. La sintaxis es:\n",
    "\n",
    "```SQL\n",
    "SELECT campo1, campo2, campo3...\n",
    "FROM tabla\n",
    "WHERE condicionales\n",
    "```\n",
    "\n",
    "Y podrás realizar las siguientes acciones:\n",
    "1. **Filtrar columnas**: mediante `SELECT`\n",
    "2. **Renombrar campos**: mediante `SELECT campo as nuevo_nombre`\n",
    "3. **Eliminar duplicados**: mediante `DISTINCT`\n",
    "4. **Limitar el número de registros**: `LIMIT`\n",
    "5. **Filtrar filas**: `WHERE`\n",
    "6. **Ordenar una tabla**: `ORDER BY campo1, campo2` y `DESC`\n",
    "7. **Agregar información**: sacar un KPI como un máximo o un conteo: `MAX`,`COUNT`,`AVG`...\n",
    "8. **Agregado a nivel grupo**: con `GROUP BY`. Se calculan las funciones de agregación para cada grupo de una columna.\n",
    "9. **Juntar datos**: mediante `JOIN`. Hay de varios tipos: `LEFT`, `RIGHT`, `FULL`, `INNER` y `OUTER`.\n",
    "10. **Tablas temporales**: con `VIEW`\n",
    "11. **Eliminar tablas o vistas**: con `DROP`\n",
    "\n",
    "Y si te manejas de maravilla con la librería pandas, **siempre puedes obtener tus datos mediante una query con sqlite3, y tratarlos posteriormente en Python, mediante las funciones de pandas.**"
   ]
  }
 ],
 "metadata": {
  "kernelspec": {
   "display_name": "Python 3 (ipykernel)",
   "language": "python",
   "name": "python3"
  },
  "language_info": {
   "codemirror_mode": {
    "name": "ipython",
    "version": 3
   },
   "file_extension": ".py",
   "mimetype": "text/x-python",
   "name": "python",
   "nbconvert_exporter": "python",
   "pygments_lexer": "ipython3",
   "version": "3.9.7"
  }
 },
 "nbformat": 4,
 "nbformat_minor": 4
}
