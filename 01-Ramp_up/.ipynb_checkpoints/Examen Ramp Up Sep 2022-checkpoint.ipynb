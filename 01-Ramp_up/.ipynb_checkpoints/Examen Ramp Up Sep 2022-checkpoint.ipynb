{
 "cells": [
  {
   "cell_type": "markdown",
   "metadata": {},
   "source": [
    "# Examen Ramp Up"
   ]
  },
  {
   "cell_type": "markdown",
   "metadata": {},
   "source": [
    "## Primera parte (preuntas de Test)\n",
    "\n",
    "https://forms.gle/g2unegpLAwMV1NaL7"
   ]
  },
  {
   "cell_type": "markdown",
   "metadata": {},
   "source": [
    "#### Notas y pruebas de apoyo para contestar las preguntas tipo test\n",
    "Esto no es necesario usarlo, aunque verlo aquí te puede dar la respuesta a alguna de las preguntas tipo test.\n",
    "\n",
    "Cualquier código aunque no esté correcto, nos dirá más de ti, que no escribir nada. "
   ]
  },
  {
   "cell_type": "code",
   "execution_count": 9,
   "metadata": {},
   "outputs": [
    {
     "name": "stdout",
     "output_type": "stream",
     "text": [
      "True\n"
     ]
    }
   ],
   "source": [
    "A=1\n",
    "B=1\n",
    "C=2\n",
    "D = A==B or not C==A\n",
    "\n",
    "print(D)"
   ]
  },
  {
   "cell_type": "code",
   "execution_count": 1,
   "metadata": {},
   "outputs": [],
   "source": [
    "# crea todas las celdas que necesites"
   ]
  },
  {
   "cell_type": "markdown",
   "metadata": {},
   "source": [
    "## Segunda parte (ejercicios prácticos):"
   ]
  },
  {
   "cell_type": "markdown",
   "metadata": {},
   "source": [
    "### Ejercicio 1\n",
    "En este ejercicio se va a crear una lista con los siguientes elementos. Primero, crearemos las variables que luego añadiremos a la lista. Las variables son las siguientes:\n",
    "\n",
    "1. Crea una variable llamada `num_dni` de tipo Integer que represente el primer número de tu DNI. \n",
    "2. Crea una variable llamada `let_dni` de tipo String y que represente la letra de vuestro DNI.\n",
    "3. Crea una variable llamada `tip_ord` de tipo Boolean indicando si usas Windows o no.\n",
    "4. Crea una variable llamada `nada` de tipo None cuyo valor sea None.\n",
    "5. Crea una variable llamada `lista_deseo` de tipo List que contenga los cuatro objetos que te llevarías a una isla desierta. Cada elemento ha de ser de tipo String y el tamaño de la lista ha de ser 4.\n",
    "6. Crea una variable llamada `tupla_ropa` de tipo Tuple con la marca de la prenda superior, inferior y calzado que llevas puesto.\n",
    "7. Crea una variable llamada `dict_info` con dos claves y dos valores. Una clave es 'nombre', teniendo como valor vuestro nombre. Otra key es 'edad', teniendo como valor vuestra edad.\n",
    "8. Crea una variable llamada `flo_hor` con la hora actual separada por punto en vez de dos puntos. Ejemplo: si son las 10:06, el valor de la variable sería 10.06\n",
    "\n",
    "Añade todos estos elementos en una lista llamada `lista_examen` en el orden de aparición:\n",
    "```Python\n",
    "lista_examen = [num_dni, let_dni, ...]\n",
    "```"
   ]
  },
  {
   "cell_type": "code",
   "execution_count": 2,
   "metadata": {},
   "outputs": [
    {
     "name": "stdout",
     "output_type": "stream",
     "text": [
      "C:\\Users\\Victor\\Documents\\Data-Science-The-Bridge\\Data_Science_The_Bridge\\01-Ramp_up\n",
      "[7, 'q', True, None, ['Cuchillo', 'Mechero', 'Toalla', 'Jabon'], ('Tommy', 'Levis', 'Sneakers'), {'nombre': 'Victor', 'edad': 41}, 18.58]\n"
     ]
    }
   ],
   "source": [
    "import os\n",
    "print(os.getcwd())\n",
    "\n",
    "# tu respuesta aquí\n",
    "num_dni = 7\n",
    "let_dni = 'q'\n",
    "tip_ord = True\n",
    "nada = None\n",
    "lista_deseo = ['Cuchillo','Mechero','Toalla','Jabon']\n",
    "tupla_ropa = ('Tommy','Levis','Sneakers')\n",
    "dict_info = {'nombre':'Victor', 'edad':41}\n",
    "flo_hor = 18.58\n",
    "\n",
    "lista_examen = [num_dni, let_dni, tip_ord, nada, lista_deseo, tupla_ropa, dict_info, flo_hor]\n",
    "\n",
    "print(lista_examen)"
   ]
  },
  {
   "cell_type": "markdown",
   "metadata": {},
   "source": [
    "### Ejercicio 2\n",
    "\n",
    "Para resolver este ejercicio necesitarás la lista del ejercicio anterior (`lista_examen`). Se recomienda leer cada punto hasta el final antes de resolver el ejercicio.\n",
    "\n",
    "Se repite para que quede aún más claro: **SOLO USAR LA VARIABLE** `lista_examen`. Usar las demás variables se calificará como error.  \n",
    "\n",
    "1. Mostrar por pantalla, sin uso de funciones ni bucles: \n",
    "    - El segundo elemento de `lista_deseo` desde `lista_examen`.\n",
    "    - El calzado que llevas puesto.\n",
    "    - Vuestro nombre.\n",
    "    - La hora almacenada concatenada con vuestra edad y el número de vuestro de DNI. No debe haber espacios entre la concatenación.\n",
    "    - Si tenéis más de 20 años, el primer número de vuestro DNI es mayor a 7 y usas Mac, mostrar la posición 5 de `lista_examen`. En caso contrario, imprime el mensaje 'No se cumple'\n",
    "    "
   ]
  },
  {
   "cell_type": "code",
   "execution_count": 3,
   "metadata": {},
   "outputs": [
    {
     "name": "stdout",
     "output_type": "stream",
     "text": [
      "Mechero\n",
      "Sneakers\n",
      "Victor\n",
      "18.58417\n",
      "No se cumple\n"
     ]
    }
   ],
   "source": [
    "# tu respuesta aquí\n",
    "print(lista_examen[4][1])\n",
    "print(lista_examen[5][2])\n",
    "print(lista_examen[6]['nombre'])\n",
    "print(str(lista_examen[7])+str(lista_examen[6]['edad'])+str(lista_examen[0]))\n",
    "\n",
    "if lista_examen[6]['edad'] > 20 and lista_examen[0] > 7 and lista_examen[2] == False:\n",
    "    print(lista_examen[5])\n",
    "    \n",
    "else:\n",
    "    print('No se cumple')\n"
   ]
  },
  {
   "cell_type": "markdown",
   "metadata": {},
   "source": [
    "2. Mostrar por pantalla, con uso de un bucle `for`:\n",
    "    - Todos los elementos de `lista_examen`.\n",
    "    - Todos los elementos de `lista_deseo` desde `lista_examen`.\n",
    "    - Todos los elementos que ocupen una posición menor a 4 en `lista_examen`.\n"
   ]
  },
  {
   "cell_type": "code",
   "execution_count": 4,
   "metadata": {},
   "outputs": [
    {
     "name": "stdout",
     "output_type": "stream",
     "text": [
      "7\n",
      "q\n",
      "True\n",
      "None\n",
      "['Cuchillo', 'Mechero', 'Toalla', 'Jabon']\n",
      "('Tommy', 'Levis', 'Sneakers')\n",
      "{'nombre': 'Victor', 'edad': 41}\n",
      "18.58\n",
      "\n",
      "\n",
      "Cuchillo\n",
      "Mechero\n",
      "Toalla\n",
      "Jabon\n",
      "\n",
      "\n",
      "7\n",
      "q\n",
      "True\n",
      "None\n"
     ]
    }
   ],
   "source": [
    "# tu respuesta aquí\n",
    "for elemento in lista_examen:\n",
    "    print(elemento)\n",
    "\n",
    "print('\\n')    \n",
    "\n",
    "for elemento in lista_examen[4]:\n",
    "    print(elemento)\n",
    "\n",
    "print('\\n')    \n",
    "\n",
    "i = 0\n",
    "for elemento in lista_examen:\n",
    "    if i < 4:\n",
    "        print(lista_examen[i])\n",
    "        i += 1"
   ]
  },
  {
   "cell_type": "markdown",
   "metadata": {},
   "source": [
    "### Ejercicio 3 \n",
    "Implementa una función que reciba una lista como argumento, calcule la raíz cuadrada de cada uno de los elementos de la lista y devuelva en un diccionario el valor máximo y mínimo de la lista de raíces. \n",
    "\n",
    "Ejemplo:\n",
    "```Python\n",
    "entrada: [4,9,36]\n",
    "salida: {'max':6.0,'min':2.0}\n",
    "```"
   ]
  },
  {
   "cell_type": "code",
   "execution_count": 5,
   "metadata": {},
   "outputs": [
    {
     "data": {
      "text/plain": [
       "{'max': 6.0, 'min': 2.0}"
      ]
     },
     "execution_count": 5,
     "metadata": {},
     "output_type": "execute_result"
    }
   ],
   "source": [
    "# tu respuesta aquí\n",
    "import math\n",
    "\n",
    "def raiz_lista(lista):\n",
    "    lista_raiz = []\n",
    "    for el in lista:\n",
    "        lista_raiz.append(math.sqrt(el))\n",
    "        dic_lista_raiz = {'max':max(lista_raiz), 'min':min(lista_raiz)}\n",
    "    return dic_lista_raiz\n",
    "\n",
    "raiz_lista([4,9,36])"
   ]
  },
  {
   "cell_type": "markdown",
   "metadata": {},
   "source": [
    "### Ejercicio 4\n",
    "\n",
    "Crea una clase \"Jugador\" que instancie objetos con 3 atributos: \"goles\", \"dorsal\" y \"nombre\". Además, debe contar con dos métodos: \n",
    "\n",
    "- `marcar_gol`: al llamar a este método se debe sumar 1 a los goles actuales del jugador\n",
    "- `cambiar_dorsal` que recibe parametro \"nuevo_dorsal\": al llamar a esta función con un parámetro de entrada, esta función debe cambiar el número del dorsal por el \"nuevo_dorsal\""
   ]
  },
  {
   "cell_type": "code",
   "execution_count": 6,
   "metadata": {},
   "outputs": [
    {
     "name": "stdout",
     "output_type": "stream",
     "text": [
      "5\n",
      "6\n",
      "10\n",
      "5\n"
     ]
    }
   ],
   "source": [
    "# tu respuesta aqui\n",
    "class Jugador:\n",
    "    def __init__(self, goles, dorsal, nombre): \n",
    "        self.goles = goles\n",
    "        self.dorsal = dorsal\n",
    "        self.nombre = nombre\n",
    "    def marcar_gol(self):\n",
    "        self.goles += 1\n",
    "    def cambiar_dorsal(self, nuevo_dorsal):\n",
    "        self.dorsal = nuevo_dorsal\n",
    "\n",
    "        \n",
    "    \n",
    "zidane = Jugador(5,10,'Zinedine')\n",
    "\n",
    "print(zidane.goles)\n",
    "zidane.marcar_gol()\n",
    "print(zidane.goles)\n",
    "\n",
    "\n",
    "print(zidane.dorsal)\n",
    "zidane.cambiar_dorsal(5)\n",
    "print(zidane.dorsal)"
   ]
  },
  {
   "cell_type": "markdown",
   "metadata": {},
   "source": [
    "Crea un jugador llamado \"Rafinha\" que lleva 0 goles y usa el dorsal 99. A Rafinha nunca le gustó su dorsal. Por eso, usa la función correspondiente para cambiarle su dorsal al 13. Además, en el último partido marcó un golazo: utiliza la función para aumentar sus goles anotados. \n",
    "\n",
    "Muestra por pantalla el dorsal del jugador antes y después de cambiarse de dorsal. Muestra también los goles de Rafinha antes y después de haber marcado."
   ]
  },
  {
   "cell_type": "code",
   "execution_count": 7,
   "metadata": {},
   "outputs": [
    {
     "name": "stdout",
     "output_type": "stream",
     "text": [
      "{'goles': 0, 'dorsal': 99, 'nombre': 'Rafinha'}\n"
     ]
    }
   ],
   "source": [
    "rafinha = Jugador(0,99,'Rafinha')\n",
    "\n",
    "print(vars(rafinha))"
   ]
  },
  {
   "cell_type": "code",
   "execution_count": 8,
   "metadata": {},
   "outputs": [
    {
     "name": "stdout",
     "output_type": "stream",
     "text": [
      "0\n",
      "1\n",
      "99\n",
      "13\n"
     ]
    }
   ],
   "source": [
    "print(rafinha.goles)\n",
    "rafinha.marcar_gol()\n",
    "print(rafinha.goles)\n",
    "\n",
    "\n",
    "print(rafinha.dorsal)\n",
    "rafinha.cambiar_dorsal(13)\n",
    "print(rafinha.dorsal)\n"
   ]
  },
  {
   "cell_type": "code",
   "execution_count": null,
   "metadata": {},
   "outputs": [],
   "source": []
  }
 ],
 "metadata": {
  "kernelspec": {
   "display_name": "Python 3 (ipykernel)",
   "language": "python",
   "name": "python3"
  },
  "language_info": {
   "codemirror_mode": {
    "name": "ipython",
    "version": 3
   },
   "file_extension": ".py",
   "mimetype": "text/x-python",
   "name": "python",
   "nbconvert_exporter": "python",
   "pygments_lexer": "ipython3",
   "version": "3.10.4"
  }
 },
 "nbformat": 4,
 "nbformat_minor": 2
}
