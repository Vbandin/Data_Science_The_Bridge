{
 "cells": [
  {
   "cell_type": "markdown",
   "id": "metallic-rwanda",
   "metadata": {},
   "source": [
    "# Parte 1: Optimización "
   ]
  },
  {
   "cell_type": "markdown",
   "id": "agreed-posting",
   "metadata": {},
   "source": [
    "En este notebook vamos a comenzar trabajando con la librería **Scipy**, que usa numpy como base e introduce módulos para la programación científica, como los módulos de optimización"
   ]
  },
  {
   "cell_type": "markdown",
   "id": "adult-springer",
   "metadata": {},
   "source": [
    "En los problemas de optimización matemática vamos a tener los siguientes puntos clave:\n",
    "1. **Objetivo a optimizar**: por ejemplo, maximizar las ventas de una empresa, o minimizar los costes\n",
    "2. **Variables**: qué variables afectan a nuestro objetivo\n",
    "3. **Restricciones**: qué limitaciones pueden existir para llegar al objetivo"
   ]
  },
  {
   "cell_type": "markdown",
   "id": "approximate-crime",
   "metadata": {},
   "source": [
    "<img src='./img/opt.jpg' width = 500>"
   ]
  },
  {
   "cell_type": "markdown",
   "id": "chinese-medium",
   "metadata": {},
   "source": [
    "Generalmente, los métodos de optimización que encontremos al programar van a buscar **minimizar**. \n",
    "\n",
    "Si nuestro problema consiste en maximizar una función ***f***, lo que haremos será minimizar ***-f***, lo cual es equivalente"
   ]
  },
  {
   "cell_type": "markdown",
   "id": "afraid-opinion",
   "metadata": {},
   "source": [
    "### Ejemplo 1"
   ]
  },
  {
   "cell_type": "markdown",
   "id": "involved-plasma",
   "metadata": {},
   "source": [
    "En una fábrica en la que se producen piezas para automóviles existen dos costes predominantes: el coste de los empleados (20€ por hora), y el coste del acero (170€ por tonelada). Los beneficios se modelan con la siguiente función:\n",
    "\n",
    "$$B(h,a)=200\\cdot h \\cdot a$$\n",
    "\n",
    "donde h representa las horas de trabajo y a representa las toneladas de acero. Se quiere optimizar el beneficio, con un presupuesto limitado de 20.000€."
   ]
  },
  {
   "cell_type": "markdown",
   "id": "killing-rhythm",
   "metadata": {},
   "source": [
    "**Solución**: Siendo el coste por hora de 20€ y el coste por tonelada de acero de 170€, tenemos que el coste total de producción, en términos de h y a es:\n",
    "\n",
    "$20h+170a$\n",
    "\n",
    "Por tanto, si el presupuesto es de 20.000€, podemos definir la restricción:\n",
    "\n",
    "$20h+170a=20000$\n",
    "\n",
    "Por tanto, tratamos de resolver el siguiente problema:\n",
    "\n",
    "**Maximizar**  \n",
    "$B(h,a)=200 \\cdot h \\cdot a$  \n",
    "sujeto a $20h+170a=20000$"
   ]
  },
  {
   "cell_type": "code",
   "execution_count": 1,
   "id": "applied-argument",
   "metadata": {},
   "outputs": [],
   "source": [
    "import numpy as np\n",
    "from scipy.optimize import minimize"
   ]
  },
  {
   "cell_type": "markdown",
   "id": "alien-registrar",
   "metadata": {},
   "source": [
    "```Python\n",
    "parametros = [h,a]\n",
    "```"
   ]
  },
  {
   "cell_type": "markdown",
   "id": "short-referral",
   "metadata": {},
   "source": [
    "1. Define la función objetivo a minimizar"
   ]
  },
  {
   "cell_type": "code",
   "execution_count": 2,
   "id": "victorian-hammer",
   "metadata": {},
   "outputs": [],
   "source": [
    "def objetive(x):\n",
    "    h = x[0]\n",
    "    a = x[1]\n",
    "    return -200*h*a # Minimizamos por convención, asi que cuando quiero minimizar lo pongo en negativo"
   ]
  },
  {
   "cell_type": "markdown",
   "id": "golden-integral",
   "metadata": {},
   "source": [
    "2. Define las restricciones"
   ]
  },
  {
   "cell_type": "code",
   "execution_count": 3,
   "id": "fossil-kruger",
   "metadata": {},
   "outputs": [],
   "source": [
    "def constraint(x):\n",
    "    h = x[0]\n",
    "    a = x[1]\n",
    "    return 20*h+170*a - 20000 # 20*h+170*a = 20000 para pasarlo al otro lado, lo paso en negativo y se resta\n",
    "\n",
    "constraint1 = {'type':'eq', 'fun':constraint}\n",
    "\n",
    "constraint = [constraint1]"
   ]
  },
  {
   "cell_type": "markdown",
   "id": "curious-branch",
   "metadata": {},
   "source": [
    "3. Definimos límites de nuestras variables"
   ]
  },
  {
   "cell_type": "code",
   "execution_count": 4,
   "id": "native-criticism",
   "metadata": {},
   "outputs": [],
   "source": [
    "bounds_h = (0,1000)\n",
    "bounds_a = (0,1000)\n",
    "\n",
    "bounds = [bounds_h, bounds_a]"
   ]
  },
  {
   "cell_type": "markdown",
   "id": "activated-teddy",
   "metadata": {},
   "source": [
    "4. Define un valor inicial para *h* y *a*"
   ]
  },
  {
   "cell_type": "code",
   "execution_count": 5,
   "id": "completed-russia",
   "metadata": {},
   "outputs": [],
   "source": [
    "x0 = [10,10]"
   ]
  },
  {
   "cell_type": "markdown",
   "id": "combined-unknown",
   "metadata": {},
   "source": [
    "5. Aplicamos la función de minimización [scipy.optimize.minimize](https://docs.scipy.org/doc/scipy/reference/generated/scipy.optimize.minimize.html), con los siguientes parámetros:\n",
    "* `fun`: función objetivo a minimizar\n",
    "* `x0`: lista con los valores iniciales\n",
    "* `method`: tipo de método de optimización (lo dejamos por defecto)\n",
    "* `bounds`: límites de las variables\n",
    "* `constraints`: lista de restricciones"
   ]
  },
  {
   "cell_type": "code",
   "execution_count": 6,
   "id": "supposed-romance",
   "metadata": {},
   "outputs": [],
   "source": [
    "result = minimize(objetive, x0, bounds=bounds, constraints=constraint) "
   ]
  },
  {
   "cell_type": "code",
   "execution_count": 7,
   "id": "altered-lobby",
   "metadata": {},
   "outputs": [
    {
     "name": "stdout",
     "output_type": "stream",
     "text": [
      "     fun: -5882352.9411764415\n",
      "     jac: array([ -11764.6875, -100000.    ])\n",
      " message: 'Optimization terminated successfully'\n",
      "    nfev: 33\n",
      "     nit: 7\n",
      "    njev: 7\n",
      "  status: 0\n",
      " success: True\n",
      "       x: array([500.00003479,  58.82352532])\n"
     ]
    }
   ],
   "source": [
    "print(result) #  x: array([500.00003479,  58.82352532]) La solución son 500 horas y 58.8 Toneladas de acero"
   ]
  },
  {
   "cell_type": "code",
   "execution_count": 8,
   "id": "operating-grave",
   "metadata": {},
   "outputs": [
    {
     "name": "stdout",
     "output_type": "stream",
     "text": [
      "[500.00003479  58.82352532]\n"
     ]
    }
   ],
   "source": [
    "res = result.x\n",
    "\n",
    "print(res)"
   ]
  },
  {
   "cell_type": "markdown",
   "id": "closing-purple",
   "metadata": {},
   "source": [
    "Calculamos el beneficio máximo"
   ]
  },
  {
   "cell_type": "code",
   "execution_count": 9,
   "id": "communist-helena",
   "metadata": {},
   "outputs": [
    {
     "data": {
      "text/plain": [
       "588235.2941176441"
      ]
     },
     "execution_count": 9,
     "metadata": {},
     "output_type": "execute_result"
    }
   ],
   "source": [
    "20*res[0]*res[1]"
   ]
  },
  {
   "cell_type": "markdown",
   "id": "proper-senator",
   "metadata": {},
   "source": [
    "Nos aseguramos que se cumple la restricción"
   ]
  },
  {
   "cell_type": "code",
   "execution_count": 10,
   "id": "silent-intake",
   "metadata": {},
   "outputs": [
    {
     "data": {
      "text/plain": [
       "20000.0"
      ]
     },
     "execution_count": 10,
     "metadata": {},
     "output_type": "execute_result"
    }
   ],
   "source": [
    "20*res[0] + 170*res[1]"
   ]
  },
  {
   "cell_type": "markdown",
   "id": "normal-thought",
   "metadata": {},
   "source": [
    "## Ejemplo 2"
   ]
  },
  {
   "cell_type": "markdown",
   "id": "heard-recipient",
   "metadata": {},
   "source": [
    "El Levante vende 1000 camisetas cada mes a un precio de 12 euros. Tras realizar una encuesta, se estima que por cada incremento de 1 euro en el precio, se venderían 10 camisetas menos. El levante quiere vender al menos 800 camisetas al mes.\n",
    "\n",
    "¿A qué precio debe vender el Levante las camisetas para maximizar sus beneficios? ¿Cuál será el nuevo beneficio esperado?\n",
    "\n",
    "$$Beneficio(B) = Precio(P) \\times Cantidad(C)$$\n",
    "$$B=(12+x) \\times (1000-10x)$$\n",
    "\n",
    "<span style=\"color:blue\">$$\\text{Maximizar  } B = -10x^2+880x+12000 \\\\ \\text{ sujeto a } 1000-10x\\geq800$$</span> \n",
    "\n",
    "<span style=\"color:green\">$$\\text{Maximizar  } B = -10x^2+880x+12000 \\\\ \\text{ sujeto a } x\\leq20$$</span> "
   ]
  },
  {
   "cell_type": "code",
   "execution_count": 11,
   "id": "employed-round",
   "metadata": {},
   "outputs": [],
   "source": [
    "# 1. Define la función objetivo a minimizar\n",
    "def objetive(x):\n",
    "    return -(-10*x**2+880*x+12000) # Minimizando el negativo = Maximizando -> Hay que añadirle el \"-\""
   ]
  },
  {
   "cell_type": "code",
   "execution_count": 19,
   "id": "bacf10c9",
   "metadata": {},
   "outputs": [
    {
     "name": "stdout",
     "output_type": "stream",
     "text": [
      "-31000\n"
     ]
    }
   ],
   "source": [
    "print(objetive(50))\n"
   ]
  },
  {
   "cell_type": "code",
   "execution_count": 12,
   "id": "asian-munich",
   "metadata": {},
   "outputs": [],
   "source": [
    "# 2. Define las restricciones\n",
    "def constraint(x):\n",
    "    return 20-x\n",
    "\n",
    "constraint1 = {'type':'ineq', 'fun':constraint} # A diferencia del ejemplo anterior ('type':'eq'), donde se trataba de una igualdad\n",
    "# en esta el type es 'ineq' porque es una desigualdad\n",
    "\n",
    "cons = [constraint1]"
   ]
  },
  {
   "cell_type": "code",
   "execution_count": 13,
   "id": "anticipated-designation",
   "metadata": {},
   "outputs": [],
   "source": [
    "# 3. Definir límites\n",
    "bounds_x = (0,1000)\n",
    "\n",
    "bounds = [bounds_x]"
   ]
  },
  {
   "cell_type": "code",
   "execution_count": 20,
   "id": "vietnamese-boutique",
   "metadata": {
    "scrolled": true
   },
   "outputs": [],
   "source": [
    "# 4. Definir valores iniciales\n",
    "\n",
    "x0 = 10\n"
   ]
  },
  {
   "cell_type": "code",
   "execution_count": 21,
   "id": "c73bad09",
   "metadata": {},
   "outputs": [],
   "source": [
    "result = minimize(objetive, x0, bounds = bounds, constraints = cons)"
   ]
  },
  {
   "cell_type": "code",
   "execution_count": 22,
   "id": "ready-married",
   "metadata": {},
   "outputs": [
    {
     "name": "stdout",
     "output_type": "stream",
     "text": [
      "     fun: -25599.999999992488\n",
      "     jac: array([-480.])\n",
      " message: 'Optimization terminated successfully'\n",
      "    nfev: 5\n",
      "     nit: 2\n",
      "    njev: 2\n",
      "  status: 0\n",
      " success: True\n",
      "       x: array([20.])\n"
     ]
    }
   ],
   "source": [
    "# 5. Aplicar la optimización\n",
    "print(result)"
   ]
  },
  {
   "cell_type": "code",
   "execution_count": null,
   "id": "regulation-interim",
   "metadata": {},
   "outputs": [],
   "source": []
  },
  {
   "cell_type": "markdown",
   "id": "boxed-cholesterol",
   "metadata": {},
   "source": [
    "Por tanto, el incremento óptimo es $x=20$.   \n",
    "El precio que maximiza los beneficios será $P=12+1\\times20=32€$  \n",
    "El beneficio esperado será $B=32\\times(1000-10\\times20)=25600€$"
   ]
  },
  {
   "cell_type": "markdown",
   "id": "occupational-future",
   "metadata": {},
   "source": [
    "# Parte 2: Mínimos cuadrados "
   ]
  },
  {
   "cell_type": "markdown",
   "id": "scientific-front",
   "metadata": {},
   "source": [
    "Se ha hecho una encuesta a 20 personas, preguntándoles por sus ingresos anuales en miles de euros y su nivel de felicidad en una escala del 0 al 10.   \n",
    "Los resultados obtenidos se guardan en las listas `x` (ingresos) e `y` (felicidad)\n",
    "\n",
    "```Python\n",
    "x = [25.2, 15.6, 26, 24, 39.2, 17.6, 3.6, 24, 10, 8.8, 35.2, 22.8, 31.6, 6, 11.2, 5.2, 22.4, 20.4, 31.2, 19.6]\n",
    "y = [10, 5, 9, 8, 10, 8, 1, 9, 3, 3, 11, 5, 11, 2, 4, 4, 9, 6, 10, 7]\n",
    "```"
   ]
  },
  {
   "cell_type": "code",
   "execution_count": 23,
   "id": "suffering-nebraska",
   "metadata": {},
   "outputs": [],
   "source": [
    "x = [25.2, 15.6, 26, 24, 39.2, 17.6, 3.6, 24, 10, 8.8, 35.2, 22.8, 31.6, 6, 11.2, 5.2, 22.4, 20.4, 31.2, 19.6]\n",
    "y = [10, 5, 9, 8, 10, 8, 1, 9, 3, 3, 10, 5, 10, 2, 4, 4, 9, 6, 10, 7]"
   ]
  },
  {
   "cell_type": "code",
   "execution_count": 34,
   "id": "genuine-registrar",
   "metadata": {},
   "outputs": [
    {
     "data": {
      "text/plain": [
       "Text(0, 0.5, 'Felicidad')"
      ]
     },
     "execution_count": 34,
     "metadata": {},
     "output_type": "execute_result"
    },
    {
     "data": {
      "image/png": "[encoded data removed]",
      "text/plain": [
       "<Figure size 800x400 with 1 Axes>"
      ]
     },
     "metadata": {},
     "output_type": "display_data"
    }
   ],
   "source": [
    "import matplotlib.pyplot as plt\n",
    "\n",
    "plt.figure(figsize=(8,4))\n",
    "ax = plt.axes()\n",
    "\n",
    "ax.scatter(x,y)\n",
    "\n",
    "ax.set_xlabel('Ingresos')\n",
    "ax.set_ylabel('Felicidad')"
   ]
  },
  {
   "cell_type": "markdown",
   "id": "shaped-noise",
   "metadata": {},
   "source": [
    "Buscamos la recta $h(x)=w_0+w_1x$ que mejor ajuste los puntos, aplicando mínimos cuadrados"
   ]
  },
  {
   "cell_type": "markdown",
   "id": "religious-opportunity",
   "metadata": {},
   "source": [
    "1. Creamos la matrix $X=\\begin{bmatrix} 1 & x_0 \\\\ 1 & x_1 \\\\ \\vdots & \\vdots \\\\ 1 & x_n \\end{bmatrix}$"
   ]
  },
  {
   "cell_type": "code",
   "execution_count": 44,
   "id": "employed-charge",
   "metadata": {},
   "outputs": [
    {
     "name": "stdout",
     "output_type": "stream",
     "text": [
      "(20, 2)\n"
     ]
    },
    {
     "data": {
      "text/plain": [
       "array([[ 1. , 25.2],\n",
       "       [ 1. , 15.6],\n",
       "       [ 1. , 26. ],\n",
       "       [ 1. , 24. ],\n",
       "       [ 1. , 39.2],\n",
       "       [ 1. , 17.6],\n",
       "       [ 1. ,  3.6],\n",
       "       [ 1. , 24. ],\n",
       "       [ 1. , 10. ],\n",
       "       [ 1. ,  8.8],\n",
       "       [ 1. , 35.2],\n",
       "       [ 1. , 22.8],\n",
       "       [ 1. , 31.6],\n",
       "       [ 1. ,  6. ],\n",
       "       [ 1. , 11.2],\n",
       "       [ 1. ,  5.2],\n",
       "       [ 1. , 22.4],\n",
       "       [ 1. , 20.4],\n",
       "       [ 1. , 31.2],\n",
       "       [ 1. , 19.6]])"
      ]
     },
     "execution_count": 44,
     "metadata": {},
     "output_type": "execute_result"
    }
   ],
   "source": [
    "X = np.array([np.ones(len(x)),\n",
    "              np.array(x)]).transpose()\n",
    "\n",
    "print(X.shape)\n",
    "\n",
    "X"
   ]
  },
  {
   "cell_type": "markdown",
   "id": "regulation-receptor",
   "metadata": {},
   "source": [
    "2. Creamos el vector $y=\\begin{bmatrix} y_0 \\\\ y_1 \\\\ \\vdots \\\\ y_n\\end{bmatrix}$ "
   ]
  },
  {
   "cell_type": "code",
   "execution_count": 31,
   "id": "hundred-rapid",
   "metadata": {},
   "outputs": [
    {
     "data": {
      "text/plain": [
       "array([10,  5,  9,  8, 10,  8,  1,  9,  3,  3, 10,  5, 10,  2,  4,  4,  9,\n",
       "        6, 10,  7])"
      ]
     },
     "execution_count": 31,
     "metadata": {},
     "output_type": "execute_result"
    }
   ],
   "source": [
    "y = np.array(y)\n",
    "\n",
    "y"
   ]
  },
  {
   "cell_type": "markdown",
   "id": "compound-header",
   "metadata": {},
   "source": [
    "3. Resolvemos la ecuación matricial para obtener los coeficientes óptimos de la recta\n",
    "\n",
    "  $w = (X^TX)^{-1}X^Ty$"
   ]
  },
  {
   "cell_type": "code",
   "execution_count": 36,
   "id": "standing-castle",
   "metadata": {},
   "outputs": [
    {
     "data": {
      "text/plain": [
       "array([1.20002504, 0.27277152])"
      ]
     },
     "execution_count": 36,
     "metadata": {},
     "output_type": "execute_result"
    }
   ],
   "source": [
    "# Definimos la ecuacion, la igualamos a 0 y la derivamos\n",
    "\n",
    "# Felicidad = a + b * Ingresos\n",
    "\n",
    "# a = 1.2 y b = 0.27\n",
    "\n",
    "# 1.2 + 0.27 * 16 = 5.52 de felicidad\n",
    "\n",
    "W = np.linalg.inv(X.transpose().dot(X)).dot(X.transpose()).dot(y)\n",
    "\n",
    "W"
   ]
  },
  {
   "cell_type": "markdown",
   "id": "boring-nudist",
   "metadata": {},
   "source": [
    "Comprueba que la recta se ajusta a los puntos llamando a la siguiente función"
   ]
  },
  {
   "cell_type": "code",
   "execution_count": 40,
   "id": "upper-mount",
   "metadata": {},
   "outputs": [],
   "source": [
    "def plot_all(w0,w1):\n",
    "\n",
    "    plt.figure(figsize=(8, 4))\n",
    "    ax = plt.axes()\n",
    "    ax.scatter(x, y)\n",
    "    ax.set_ylim([0,12])\n",
    "    ax.set_xlim([0,45])\n",
    "    ax.set_xlabel('Ingresos')\n",
    "    ax.set_ylabel('Felicidad')\n",
    "    e = np.linspace(0,45,len(x))\n",
    "    z = w0+w1*e\n",
    "\n",
    "    plt.plot(e, z, '-r', label='h(x)='+str(round(w0,2))+' + '+ str(round(w1,2))+'x')\n",
    "    plt.legend(loc='upper left')\n",
    "    plt.show()"
   ]
  },
  {
   "cell_type": "code",
   "execution_count": 41,
   "id": "republican-madrid",
   "metadata": {},
   "outputs": [
    {
     "data": {
      "image/png": "[encoded data removed]",
      "text/plain": [
       "<Figure size 800x400 with 1 Axes>"
      ]
     },
     "metadata": {},
     "output_type": "display_data"
    }
   ],
   "source": [
    "plot_all(W[0],W[1])"
   ]
  },
  {
   "cell_type": "markdown",
   "id": "sublime-system",
   "metadata": {},
   "source": [
    "¿Cuál sería el nivel de felicidad de los que ganan 20.000€?"
   ]
  },
  {
   "cell_type": "code",
   "execution_count": 42,
   "id": "speaking-simon",
   "metadata": {},
   "outputs": [
    {
     "data": {
      "text/plain": [
       "6.65545543038788"
      ]
     },
     "execution_count": 42,
     "metadata": {},
     "output_type": "execute_result"
    }
   ],
   "source": [
    "W[0]+W[1]*20"
   ]
  },
  {
   "cell_type": "code",
   "execution_count": 45,
   "id": "6d717593",
   "metadata": {},
   "outputs": [
    {
     "data": {
      "text/plain": [
       "28.47717698189263"
      ]
     },
     "execution_count": 45,
     "metadata": {},
     "output_type": "execute_result"
    }
   ],
   "source": [
    "# Y si quiero ver la felicidad del que gana 100 M?\n",
    "\n",
    "W[0]+W[1]*100\n",
    "\n",
    "# Ojo: hay que poner limites (este ejemplo no los tiene: da 28 de felicidad)\n",
    "# Cuidado con la extrapolación: El modelo funciona en el dominio definido (Ingres€os entre 0 y 45.000 €)\n",
    "# Evitar variables muy correlacionadas (con relacion lineal: Ejem: Ingresos en usd y euros), \n",
    "# porque no tendriamos una matriz inversa"
   ]
  },
  {
   "cell_type": "code",
   "execution_count": 46,
   "id": "cec62c3a",
   "metadata": {},
   "outputs": [],
   "source": [
    "def prediction(w, ingresos):\n",
    "    output = w[0] + w[1]* ingresos\n",
    "    if output > 10:\n",
    "        output = 10\n",
    "    elif output < 0:\n",
    "        output = 0\n",
    "    return output\n",
    "        "
   ]
  },
  {
   "cell_type": "code",
   "execution_count": null,
   "id": "52688c4c",
   "metadata": {},
   "outputs": [],
   "source": []
  }
 ],
 "metadata": {
  "kernelspec": {
   "display_name": "Python 3 (ipykernel)",
   "language": "python",
   "name": "python3"
  },
  "language_info": {
   "codemirror_mode": {
    "name": "ipython",
    "version": 3
   },
   "file_extension": ".py",
   "mimetype": "text/x-python",
   "name": "python",
   "nbconvert_exporter": "python",
   "pygments_lexer": "ipython3",
   "version": "3.10.4"
  }
 },
 "nbformat": 4,
 "nbformat_minor": 5
}
