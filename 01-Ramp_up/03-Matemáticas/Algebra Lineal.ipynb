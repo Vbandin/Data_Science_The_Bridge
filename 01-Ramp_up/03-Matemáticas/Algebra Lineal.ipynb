{
 "cells": [
  {
   "cell_type": "markdown",
   "metadata": {
    "colab_type": "text",
    "id": "GLie_cEH_lZm"
   },
   "source": [
    "# Algebra Lineal con Python"
   ]
  },
  {
   "cell_type": "markdown",
   "metadata": {
    "colab_type": "text",
    "id": "9n56-m2h_lZn"
   },
   "source": [
    "<img alt=\"Algebra lineal\" title=\"Algebra lineal\" src=\"http://relopezbriega.github.io/images/lin-alg.jpg\">"
   ]
  },
  {
   "cell_type": "markdown",
   "metadata": {
    "colab_type": "text",
    "id": "sENBeN2i_lZn"
   },
   "source": [
    "## Introducción\n",
    "\n",
    "Una de las herramientas matemáticas más utilizadas en machine learning y data mining es el [Álgebra lineal](http://es.wikipedia.org/wiki/%C3%81lgebra_lineal); por tanto, si queremos incursionar en el fascinante mundo del aprendizaje automático y el análisis de datos es importante reforzar los conceptos que forman parte de sus cimientos. \n",
    "\n",
    "El Álgebra lineal es una rama de las matemáticas que es sumamente utilizada en el estudio de una gran variedad de ciencias, como ingeniería, finanzas, investigación operativa, entre otras. Es una extensión del álgebra que aprendemos en la escuela secundaria, hacia un mayor número de dimensiones; en lugar de trabajar con incógnitas a nivel de escalares comenzamos a trabajar con matrices y vectores.  \n",
    "\n",
    "El estudio del Álgebra lineal implica trabajar con varios objetos matemáticos como:\n",
    "\n",
    "* **Los <a href=\"http://es.wikipedia.org/wiki/Escalar_(matem%C3%A1tica)\">Escalares</a>**: Un *escalar* es un solo número, en contraste con la mayoría de los otros objetos estudiados en [Álgebra lineal](http://es.wikipedia.org/wiki/%C3%81lgebra_lineal), que son generalmente una colección de múltiples números.\n",
    "\n",
    "* **Los [Vectores](http://es.wikipedia.org/wiki/Vector)**:Un *vector* es una serie de números. Los números tienen una orden preestablecido, y podemos identificar cada número individual por su índice en ese orden. Podemos pensar en los  *vectores* como la identificación de puntos en el espacio, con cada elemento que da la coordenada a lo largo de un eje diferente. Existen dos tipos de *vectores*, los *vectores de fila* y los *vectores de columna*. Podemos representarlos de la siguiente manera, dónde *f* es un vector de fila y *c* es un vector de columna:\n",
    "$$f=\\begin{bmatrix}0&1&-1\\end{bmatrix}   \\\\ \\\\\n",
    "c=\\begin{bmatrix}0\\\\1\\\\-1\\end{bmatrix}$$\n",
    "\n",
    "* **Las <a href=\"http://es.wikipedia.org/wiki/Matriz_(matem%C3%A1ticas)\">Matrices</a>**: Una *matriz* es un arreglo bidimensional de números (llamados entradas de la matriz) ordenados en filas (o renglones) y columnas, donde una fila es cada una de las líneas horizontales de la matriz y una columna es cada una de las líneas verticales. En una *matriz* cada elemento puede ser identificado utilizando dos índices, uno para la fila y otro para la columna en que se encuentra. Las podemos representar de la siguiente manera, *A* es una matriz de 3x2.\n",
    "$$A=\\begin{bmatrix}0 & 1& \\\\-1 & 2 \\\\ -2 & 3\\end{bmatrix}$$\n",
    "\n",
    "* **Los [Tensores](http://es.wikipedia.org/wiki/C%C3%A1lculo_tensorial)**:En algunos casos necesitaremos una matriz con más de dos ejes. En general, una serie de números dispuestos en una cuadrícula regular con un número variable de ejes es conocido como un *tensor*.\n",
    "\n",
    "Sobre estos objetos podemos realizar las operaciones matemáticas básicas, como sumas, multiplicaciones, restas y divisiones"
   ]
  },
  {
   "cell_type": "markdown",
   "metadata": {
    "colab_type": "text",
    "id": "7YWQ9vG__lZo"
   },
   "source": [
    "## Numpy\n",
    "\n",
    "La librería principal que Python nos ofrece para realizar operaciones de Álgebra linea es **[Numpy](http://www.numpy.org/)**, la cual nos va a permitir crear *vectores*, *matrices* y *tensores* con suma facilidad.\n",
    "\n",
    "**Recuerda!**\n",
    "<img src=\"./img/import_numpy_meme.png\">\n"
   ]
  },
  {
   "cell_type": "code",
   "execution_count": 19,
   "metadata": {},
   "outputs": [],
   "source": [
    "import numpy as np"
   ]
  },
  {
   "cell_type": "markdown",
   "metadata": {
    "colab_type": "text",
    "id": "C5da7Osq_lZp"
   },
   "source": [
    "## Vectores\n",
    "\n",
    "Un *[vector](http://es.wikipedia.org/wiki/Vector)* de largo `n` es una secuencia (o *array*, o *tupla*) de `n` números. La solemos escribir como x=(x1,...,xn) o x=[x1,...,xn]\n",
    "\n",
    "En [Python](http://python.org/), un *[vector](http://es.wikipedia.org/wiki/Vector)* puede ser representado con una simple *lista*, o con un *array* de [Numpy](http://www.numpy.org/); siendo preferible utilizar esta última opción."
   ]
  },
  {
   "cell_type": "code",
   "execution_count": 20,
   "metadata": {
    "colab": {},
    "colab_type": "code",
    "id": "HZ7H_sTn_lZp",
    "jupyter": {
     "outputs_hidden": false
    },
    "outputId": "ac39aa7c-2a89-4501-c66e-3000f3227a2f"
   },
   "outputs": [
    {
     "data": {
      "text/plain": [
       "[2, 4, 6]"
      ]
     },
     "execution_count": 20,
     "metadata": {},
     "output_type": "execute_result"
    }
   ],
   "source": [
    "# Vector como lista de Python\n",
    "v1 = [2,4,6]\n",
    "v1"
   ]
  },
  {
   "cell_type": "code",
   "execution_count": 21,
   "metadata": {
    "colab": {},
    "colab_type": "code",
    "id": "27fz9iqG_lZw",
    "jupyter": {
     "outputs_hidden": false
    },
    "outputId": "bd28923c-bc05-4731-ceb5-d99578cbfd04"
   },
   "outputs": [
    {
     "name": "stdout",
     "output_type": "stream",
     "text": [
      "<class 'numpy.ndarray'>\n"
     ]
    },
    {
     "data": {
      "text/plain": [
       "array([1, 2, 3])"
      ]
     },
     "execution_count": 21,
     "metadata": {},
     "output_type": "execute_result"
    }
   ],
   "source": [
    "# Vectores con numpy\n",
    "v3 = np.array([1,2,3]) # Pasando una lista a los arrays de numpy\n",
    "print(type(v3))\n",
    "v3"
   ]
  },
  {
   "cell_type": "code",
   "execution_count": 22,
   "metadata": {
    "colab": {},
    "colab_type": "code",
    "id": "6dsVtrVP_lZt",
    "jupyter": {
     "outputs_hidden": false
    },
    "outputId": "fe736923-76c8-455f-c8ce-6f1341b9fd6c"
   },
   "outputs": [
    {
     "data": {
      "text/plain": [
       "array([1., 1., 1.])"
      ]
     },
     "execution_count": 22,
     "metadata": {},
     "output_type": "execute_result"
    }
   ],
   "source": [
    "# Vectores con numpy\n",
    "v2 = np.ones(3) # Vector de 1s\n",
    "v2"
   ]
  },
  {
   "cell_type": "code",
   "execution_count": 23,
   "metadata": {
    "colab": {},
    "colab_type": "code",
    "id": "RJ_jKS9O_lZy",
    "jupyter": {
     "outputs_hidden": false
    },
    "outputId": "f5bcd9de-7380-4ba4-ecba-17f440ded6c7"
   },
   "outputs": [
    {
     "data": {
      "text/plain": [
       "array([1, 2, 3, 4, 5, 6, 7])"
      ]
     },
     "execution_count": 23,
     "metadata": {},
     "output_type": "execute_result"
    }
   ],
   "source": [
    "# Utilizando la funcion arange de numpy\n",
    "v4 =np.arange(1,8)\n",
    "v4"
   ]
  },
  {
   "cell_type": "code",
   "execution_count": 24,
   "metadata": {},
   "outputs": [
    {
     "data": {
      "text/plain": [
       "3"
      ]
     },
     "execution_count": 24,
     "metadata": {},
     "output_type": "execute_result"
    }
   ],
   "source": [
    "# Se puede indexar igual que una lista\n",
    "v4[2]"
   ]
  },
  {
   "cell_type": "markdown",
   "metadata": {
    "colab_type": "text",
    "id": "dz8UK9fc_lZ9"
   },
   "source": [
    "### Operaciones con vectores\n",
    "\n",
    "Las operaciones más comunes que utilizamos cuando trabajamos con vectores son la *suma*, la *resta* y la *multiplicación por escalares*.\n",
    "\n",
    "\n",
    "$$ \\begin{split}x + y\n",
    "=\n",
    "\\left[\n",
    "\\begin{array}{c}\n",
    "    x_1 \\\\\n",
    "    x_2 \\\\\n",
    "    \\vdots \\\\\n",
    "    x_n\n",
    "\\end{array}\n",
    "\\right]\n",
    "+\n",
    "\\left[\n",
    "\\begin{array}{c}\n",
    "     y_1 \\\\\n",
    "     y_2 \\\\\n",
    "    \\vdots \\\\\n",
    "     y_n\n",
    "\\end{array}\n",
    "\\right]\n",
    ":=\n",
    "\\left[\n",
    "\\begin{array}{c}\n",
    "    x_1 + y_1 \\\\\n",
    "    x_2 + y_2 \\\\\n",
    "    \\vdots \\\\\n",
    "    x_n + y_n\n",
    "\\end{array}\n",
    "\\right]\\end{split}$$\n",
    "\n",
    "De forma similar funciona la operación de resta.\n",
    "\n",
    "$$ \\begin{split}x - y\n",
    "=\n",
    "\\left[\n",
    "\\begin{array}{c}\n",
    "    x_1 \\\\\n",
    "    x_2 \\\\\n",
    "    \\vdots \\\\\n",
    "    x_n\n",
    "\\end{array}\n",
    "\\right]\n",
    "-\n",
    "\\left[\n",
    "\\begin{array}{c}\n",
    "     y_1 \\\\\n",
    "     y_2 \\\\\n",
    "    \\vdots \\\\\n",
    "     y_n\n",
    "\\end{array}\n",
    "\\right]\n",
    ":=\n",
    "\\left[\n",
    "\\begin{array}{c}\n",
    "    x_1 - y_1 \\\\\n",
    "    x_2 - y_2 \\\\\n",
    "    \\vdots \\\\\n",
    "    x_n - y_n\n",
    "\\end{array}\n",
    "\\right]\\end{split}$$\n",
    "\n",
    "\n",
    "$$\\begin{split}\\gamma x\n",
    ":=\n",
    "\\left[\n",
    "\\begin{array}{c}\n",
    "    \\gamma x_1 \\\\\n",
    "    \\gamma x_2 \\\\\n",
    "    \\vdots \\\\\n",
    "    \\gamma x_n\n",
    "\\end{array}\n",
    "\\right]\\end{split}$$\n"
   ]
  },
  {
   "cell_type": "code",
   "execution_count": 25,
   "metadata": {
    "colab": {},
    "colab_type": "code",
    "id": "mJcgEr0Y_lZ-",
    "jupyter": {
     "outputs_hidden": false
    },
    "outputId": "64d60323-318e-4f9e-bad8-44d0a329e81f"
   },
   "outputs": [],
   "source": [
    "# Ejemplo en Python\n",
    "x = np.arange(1,5)\n",
    "y = np.array([1,2,3,4])"
   ]
  },
  {
   "cell_type": "code",
   "execution_count": 26,
   "metadata": {
    "colab": {},
    "colab_type": "code",
    "id": "A-RiJr5m_laA",
    "jupyter": {
     "outputs_hidden": false
    },
    "outputId": "821a10dc-0b63-4e31-8a53-6bde455f6446"
   },
   "outputs": [
    {
     "data": {
      "text/plain": [
       "array([2, 4, 6, 8])"
      ]
     },
     "execution_count": 26,
     "metadata": {},
     "output_type": "execute_result"
    }
   ],
   "source": [
    "# sumando dos vectores numpy\n",
    "x+y"
   ]
  },
  {
   "cell_type": "code",
   "execution_count": 27,
   "metadata": {
    "colab": {},
    "colab_type": "code",
    "id": "77_U5taW_laC",
    "jupyter": {
     "outputs_hidden": false
    },
    "outputId": "5244b5ca-86f6-45a0-a738-cb308e683b54"
   },
   "outputs": [
    {
     "data": {
      "text/plain": [
       "array([0, 0, 0, 0])"
      ]
     },
     "execution_count": 27,
     "metadata": {},
     "output_type": "execute_result"
    }
   ],
   "source": [
    "# restando dos vectores\n",
    "x-y"
   ]
  },
  {
   "cell_type": "code",
   "execution_count": 28,
   "metadata": {
    "colab": {},
    "colab_type": "code",
    "id": "GL21Dre0_laF",
    "jupyter": {
     "outputs_hidden": false
    },
    "outputId": "0a2039c0-ecc3-4627-cf84-1715b3191d76"
   },
   "outputs": [
    {
     "data": {
      "text/plain": [
       "array([2, 4, 6, 8])"
      ]
     },
     "execution_count": 28,
     "metadata": {},
     "output_type": "execute_result"
    }
   ],
   "source": [
    "# multiplicando por un escalar\n",
    "x * 2"
   ]
  },
  {
   "cell_type": "code",
   "execution_count": null,
   "metadata": {
    "colab": {},
    "colab_type": "code",
    "id": "BLOOKDUK_laH",
    "jupyter": {
     "outputs_hidden": false
    },
    "outputId": "cb00dc9a-6a67-486c-dc1a-8f313d23259e"
   },
   "outputs": [],
   "source": []
  },
  {
   "cell_type": "markdown",
   "metadata": {
    "colab_type": "text",
    "id": "Gr1bhr-R_laJ"
   },
   "source": [
    "#### Producto escalar \n",
    "\n",
    "El [producto escalar](https://es.wikipedia.org/wiki/Producto_escalar) de dos vectores se define como la suma de los productos de sus elementos, suele representarse matemáticamente como < x, y > o x'y, donde x e y son dos vectores.\n",
    "\n",
    "$$< x, y > := \\sum_{i=1}^n x_i y_i$$\n",
    "\n",
    "\n",
    "Todo producto escalar induce una [norma](https://es.wikipedia.org/wiki/Norma_vectorial) sobre el espacio en el que está definido, de la siguiente manera:\n",
    "\n",
    "$$\\| x \\| := \\sqrt{< x, x>} := \\left( \\sum_{i=1}^n x_i^2 \\right)^{1/2}$$\n",
    "\n"
   ]
  },
  {
   "cell_type": "code",
   "execution_count": 29,
   "metadata": {
    "colab": {},
    "colab_type": "code",
    "id": "SCzHGxxE_laK",
    "jupyter": {
     "outputs_hidden": false
    },
    "outputId": "024d8667-cdca-4554-dafe-7ac8daa86c3b"
   },
   "outputs": [
    {
     "data": {
      "text/plain": [
       "30"
      ]
     },
     "execution_count": 29,
     "metadata": {},
     "output_type": "execute_result"
    }
   ],
   "source": [
    "# Calculando el producto escalar de los vectores x e y\n",
    "np.dot(x,y)"
   ]
  },
  {
   "cell_type": "code",
   "execution_count": 30,
   "metadata": {
    "colab": {},
    "colab_type": "code",
    "id": "41pSfiUV_laM",
    "jupyter": {
     "outputs_hidden": false
    },
    "outputId": "a7502d06-d40c-4ecb-91c1-65d1a3ae2834"
   },
   "outputs": [
    {
     "data": {
      "text/plain": [
       "30"
      ]
     },
     "execution_count": 30,
     "metadata": {},
     "output_type": "execute_result"
    }
   ],
   "source": [
    "# o lo que es lo mismo, que:\n",
    "sum(x*y)"
   ]
  },
  {
   "cell_type": "code",
   "execution_count": 31,
   "metadata": {
    "colab": {},
    "colab_type": "code",
    "id": "uv9BwLKw_laO",
    "jupyter": {
     "outputs_hidden": false
    },
    "outputId": "93cb041e-de5c-4506-95a1-db25f4eb7962"
   },
   "outputs": [
    {
     "data": {
      "text/plain": [
       "5.477225575051661"
      ]
     },
     "execution_count": 31,
     "metadata": {},
     "output_type": "execute_result"
    }
   ],
   "source": [
    "# Calculando la norma del vector X\n",
    "np.linalg.norm(x)"
   ]
  },
  {
   "cell_type": "code",
   "execution_count": 32,
   "metadata": {
    "colab": {},
    "colab_type": "code",
    "id": "mKWoq-6e_laR",
    "jupyter": {
     "outputs_hidden": false
    },
    "outputId": "a391a193-5e08-45b1-8115-5e6889eee886"
   },
   "outputs": [
    {
     "data": {
      "text/plain": [
       "5.477225575051661"
      ]
     },
     "execution_count": 32,
     "metadata": {},
     "output_type": "execute_result"
    }
   ],
   "source": [
    "# otra forma de calcular la norma de x\n",
    "np.sqrt(np.dot(x,x)) # La raiz 2 de un producto escalar es lo mismo que la norma"
   ]
  },
  {
   "cell_type": "code",
   "execution_count": 33,
   "metadata": {
    "colab": {},
    "colab_type": "code",
    "id": "tihUgXuk_laT",
    "jupyter": {
     "outputs_hidden": false
    },
    "outputId": "1d4c98d9-8db3-4944-f786-1bbe6fe436b7"
   },
   "outputs": [
    {
     "data": {
      "text/plain": [
       "0"
      ]
     },
     "execution_count": 33,
     "metadata": {},
     "output_type": "execute_result"
    }
   ],
   "source": [
    "# vectores ortogonales\n",
    "v1 = np.array([3,4])\n",
    "v2 = np.array([4,-3])\n",
    "\n",
    "np.dot(v1,v2)"
   ]
  },
  {
   "cell_type": "markdown",
   "metadata": {},
   "source": [
    "### Ejemplo práctico\n",
    "Vamos a calcular similitudes entre películas. Representaremos a las películas con vectores binarios en función de sus géneros:\n",
    "\n",
    "$$[Acción,  Aventura , Animación, Comedia, Romance]$$\n",
    "\n",
    "\n",
    "* Toy Story: Aventura, Animación, Comedia\n",
    "* Jumanji: Aventura   \n",
    "* Mortal Kombat: Acción, Aventura  \n",
    "* Pocahontas: Animación, Romance\n",
    "\n",
    "La similitud del coseno permite calcular similitudes entre vectores.       \n",
    "\n",
    "\n",
    " <img src =\"https://goodboychan.github.io/chans_jupyter/images/cos_sim.png\" width=\"300\">\n",
    " \n",
    "Vamos a calcular la similitud entre cada par de películas. ¿Cuáles son las más parecidas?"
   ]
  },
  {
   "cell_type": "code",
   "execution_count": 34,
   "metadata": {},
   "outputs": [
    {
     "name": "stdout",
     "output_type": "stream",
     "text": [
      "Toy Story - Toy Story 1.0\n",
      "Toy Story - Jumanji 0.58\n",
      "Toy Story - Mortal Kombat 0.41\n",
      "Toy Story - Pocahontas 0.41\n",
      "Jumanji - Toy Story 0.58\n",
      "Jumanji - Jumanji 1.0\n",
      "Jumanji - Mortal Kombat 0.71\n",
      "Jumanji - Pocahontas 0.0\n",
      "Mortal Kombat - Toy Story 0.41\n",
      "Mortal Kombat - Jumanji 0.71\n",
      "Mortal Kombat - Mortal Kombat 1.0\n",
      "Mortal Kombat - Pocahontas 0.0\n",
      "Pocahontas - Toy Story 0.41\n",
      "Pocahontas - Jumanji 0.0\n",
      "Pocahontas - Mortal Kombat 0.0\n",
      "Pocahontas - Pocahontas 1.0\n"
     ]
    }
   ],
   "source": [
    "toystory = np.array([0,1,1,1,0])\n",
    "jumanji = np.array([0,1,0,0,0])\n",
    "mortal_kombat = np.array([1,1,0,0,0])\n",
    "pocahontas = np.array([0,0,1,0,1])\n",
    "\n",
    "def similitud(a,b):\n",
    "    producto_escalar = np.dot(a,b)\n",
    "    norma1 = np.linalg.norm(a)\n",
    "    norma2 = np.linalg.norm(b)\n",
    "    return producto_escalar/(norma1*norma2)\n",
    "\n",
    "peliculas = ['Toy Story', 'Jumanji', 'Mortal Kombat', 'Pocahontas']\n",
    "\n",
    "vectores = [toystory, jumanji, mortal_kombat, pocahontas]\n",
    "\n",
    "for k in range(len(peliculas)):\n",
    "    for j in range(len(peliculas)):\n",
    "        print(peliculas[k], '-',peliculas[j], round(similitud(vectores[k],vectores[j]),2))\n",
    "    "
   ]
  },
  {
   "cell_type": "markdown",
   "metadata": {},
   "source": [
    "<table align=\"left\">\n",
    " <tr><td width=\"80\"><img src=\"./img/ejercicio.png\" style=\"width:auto;height:auto\"></td>\n",
    "     <td style=\"text-align:left\">\n",
    "         <h3>Ejercicio de distancias</h3>\n",
    "\n",
    "Implementa una función que reciba dos vectores y calcule la distancia entre ellos.  \n",
    "Por ejemplo, la distancia entre $[x_1,y_1]$ y $[x_2, y_2]$ se calcula como\n",
    "         \n",
    "$$d = \\sqrt {\\left( {x_1 - x_2 } \\right)^2 + \\left( {y_1 - y_2 } \\right)^2 }$$\n",
    "         \n",
    "         \n",
    "comprueba que obtienes el mismo resultado con el método de numpy\n",
    "```Python\n",
    "        dist = np.linalg.norm(a-b)\n",
    "```\n",
    "         \n",
    "NOTA: Los vectores pueden ser de cualquier dimensión\n",
    "         \n",
    "Aplica la función para calcular la distancia entre los dos jugadores de la imagen\n",
    " </td></tr>\n",
    "</table>\n",
    "\n",
    "\n",
    "<img src=./img/distancias2.png align=\"left\" >"
   ]
  },
  {
   "cell_type": "code",
   "execution_count": 35,
   "metadata": {},
   "outputs": [
    {
     "ename": "IndentationError",
     "evalue": "expected an indented block after 'for' statement on line 5 (3687675086.py, line 7)",
     "output_type": "error",
     "traceback": [
      "\u001b[1;36m  File \u001b[1;32m\"C:\\Users\\Victor\\AppData\\Local\\Temp\\ipykernel_20304\\3687675086.py\"\u001b[1;36m, line \u001b[1;32m7\u001b[0m\n\u001b[1;33m    return np.sqrt(((79.8-75.3)**2)+((20.2-6.1)**2))\u001b[0m\n\u001b[1;37m    ^\u001b[0m\n\u001b[1;31mIndentationError\u001b[0m\u001b[1;31m:\u001b[0m expected an indented block after 'for' statement on line 5\n"
     ]
    }
   ],
   "source": [
    "a = np.array([79.8,20.2])\n",
    "b = np.array([75.3,6.1])\n",
    "\n",
    "def distancia(v1,v2):\n",
    "    for k in range(len(v1)):\n",
    "        \n",
    "    return np.sqrt(((79.8-75.3)**2)+((20.2-6.1)**2))\n",
    "\n",
    "distancia(a,b)"
   ]
  },
  {
   "cell_type": "code",
   "execution_count": 36,
   "metadata": {},
   "outputs": [
    {
     "data": {
      "text/plain": [
       "14.800675660252812"
      ]
     },
     "execution_count": 36,
     "metadata": {},
     "output_type": "execute_result"
    }
   ],
   "source": [
    "def distance(v1,v2):\n",
    "    d = 0\n",
    "    for k in range(len(v1)):\n",
    "        d += (v1[k]-v2[k])**2\n",
    "    \n",
    "    return np.sqrt(d)\n",
    "    \n",
    "v1 = np.array([79.8,20.2])\n",
    "v2 = np.array([75.3,6.1])\n",
    "\n",
    "distance(v1,v2)\n"
   ]
  },
  {
   "cell_type": "code",
   "execution_count": 37,
   "metadata": {},
   "outputs": [
    {
     "ename": "NameError",
     "evalue": "name 'a' is not defined",
     "output_type": "error",
     "traceback": [
      "\u001b[1;31m---------------------------------------------------------------------------\u001b[0m",
      "\u001b[1;31mNameError\u001b[0m                                 Traceback (most recent call last)",
      "\u001b[1;32m~\\AppData\\Local\\Temp\\ipykernel_20304\\3740821215.py\u001b[0m in \u001b[0;36m<module>\u001b[1;34m\u001b[0m\n\u001b[1;32m----> 1\u001b[1;33m \u001b[0mdist\u001b[0m \u001b[1;33m=\u001b[0m \u001b[0mnp\u001b[0m\u001b[1;33m.\u001b[0m\u001b[0mlinalg\u001b[0m\u001b[1;33m.\u001b[0m\u001b[0mnorm\u001b[0m\u001b[1;33m(\u001b[0m\u001b[0ma\u001b[0m\u001b[1;33m-\u001b[0m\u001b[0mb\u001b[0m\u001b[1;33m)\u001b[0m\u001b[1;33m\u001b[0m\u001b[1;33m\u001b[0m\u001b[0m\n\u001b[0m\u001b[0;32m      2\u001b[0m \u001b[0mdist\u001b[0m\u001b[1;33m\u001b[0m\u001b[1;33m\u001b[0m\u001b[0m\n",
      "\u001b[1;31mNameError\u001b[0m: name 'a' is not defined"
     ]
    }
   ],
   "source": [
    "dist = np.linalg.norm(a-b)\n",
    "dist"
   ]
  },
  {
   "cell_type": "markdown",
   "metadata": {
    "colab_type": "text",
    "id": "6NS_n_g8_laV"
   },
   "source": [
    "## Matrices\n",
    "\n",
    "Las matrices son una forma clara y sencilla de organizar los datos para su uso en operaciones lineales.\n",
    "\n",
    "Una matriz `n × k` es una agrupación rectangular de números con n filas y k columnas; se representa de la siguiente forma:\n",
    "\n",
    "$$\\begin{split}A =\n",
    "\\left[\n",
    "\\begin{array}{cccc}\n",
    "    a_{11} & a_{12} & \\cdots & a_{1k} \\\\\n",
    "    a_{21} & a_{22} & \\cdots & a_{2k} \\\\\n",
    "    \\vdots & \\vdots &  & \\vdots \\\\\n",
    "    a_{n1} & a_{n2} & \\cdots & a_{nk}\n",
    "\\end{array}\n",
    "\\right]\\end{split}$$\n",
    "\n",
    "En la matriz A, el símbolo $a_{nk}$ representa el elemento  n-ésimo de la fila en la k-ésima columna. La matriz A también puede ser llamada un vector si cualquiera de n o k son iguales a 1. En el caso de n=1, A se llama un vector fila, mientras que en el caso de k=1 se denomina un vector columna.\n"
   ]
  },
  {
   "cell_type": "markdown",
   "metadata": {
    "colab_type": "text",
    "id": "ph96Q7dS_laV"
   },
   "source": [
    "### Operaciones con matrices\n",
    "\n",
    "Al igual que con los *vectores*, que no son más que un caso particular, las matrices se pueden *sumar*, *restar* y la *multiplicar por escalares*.\n",
    "\n",
    "Multiplicacion por escalares:\n",
    "$$\\begin{split}\\gamma A\n",
    "\\left[\n",
    "\\begin{array}{ccc}\n",
    "    a_{11} &  \\cdots & a_{1k} \\\\\n",
    "    \\vdots & \\vdots  & \\vdots \\\\\n",
    "    a_{n1} &  \\cdots & a_{nk} \\\\\n",
    "\\end{array}\n",
    "\\right]\n",
    ":=\n",
    "\\left[\n",
    "\\begin{array}{ccc}\n",
    "    \\gamma a_{11} & \\cdots & \\gamma a_{1k} \\\\\n",
    "    \\vdots & \\vdots & \\vdots \\\\\n",
    "    \\gamma a_{n1} & \\cdots & \\gamma a_{nk} \\\\\n",
    "\\end{array}\n",
    "\\right]\\end{split}$$\n",
    "\n",
    "Suma de matrices: $$\\begin{split}A + B =\n",
    "\\left[\n",
    "\\begin{array}{ccc}\n",
    "    a_{11} & \\cdots & a_{1k} \\\\\n",
    "    \\vdots & \\vdots & \\vdots \\\\\n",
    "    a_{n1} & \\cdots & a_{nk} \\\\\n",
    "\\end{array}\n",
    "\\right]\n",
    "+\n",
    "\\left[\n",
    "\\begin{array}{ccc}\n",
    "    b_{11} & \\cdots & b_{1k} \\\\\n",
    "    \\vdots & \\vdots & \\vdots \\\\\n",
    "    b_{n1} & \\cdots & b_{nk} \\\\\n",
    "\\end{array}\n",
    "\\right]\n",
    ":=\n",
    "\\left[\n",
    "\\begin{array}{ccc}\n",
    "    a_{11} + b_{11} &  \\cdots & a_{1k} + b_{1k} \\\\\n",
    "    \\vdots & \\vdots & \\vdots \\\\\n",
    "    a_{n1} + b_{n1} &  \\cdots & a_{nk} + b_{nk} \\\\\n",
    "\\end{array}\n",
    "\\right]\\end{split}$$\n",
    "\n",
    "Resta de matrices: $$\\begin{split}A - B =\n",
    "\\left[\n",
    "\\begin{array}{ccc}\n",
    "    a_{11} & \\cdots & a_{1k} \\\\\n",
    "    \\vdots & \\vdots & \\vdots \\\\\n",
    "    a_{n1} & \\cdots & a_{nk} \\\\\n",
    "\\end{array}\n",
    "\\right]-\n",
    "\\left[\n",
    "\\begin{array}{ccc}\n",
    "    b_{11} & \\cdots & b_{1k} \\\\\n",
    "    \\vdots & \\vdots & \\vdots \\\\\n",
    "    b_{n1} & \\cdots & b_{nk} \\\\\n",
    "\\end{array}\n",
    "\\right]\n",
    ":=\n",
    "\\left[\n",
    "\\begin{array}{ccc}\n",
    "    a_{11} - b_{11} &  \\cdots & a_{1k} - b_{1k} \\\\\n",
    "    \\vdots & \\vdots & \\vdots \\\\\n",
    "    a_{n1} - b_{n1} &  \\cdots & a_{nk} - b_{nk} \\\\\n",
    "\\end{array}\n",
    "\\right]\\end{split}$$\n",
    "\n",
    "Para los casos de suma y resta, hay que tener en cuenta que solo se pueden sumar o restar matrices que tengan las mismas dimensiones, es decir que si tengo una matriz A de dimensión 3x2 (3 filas y 2 columnas) solo voy a poder sumar o restar la matriz B si esta también tiene 3 filas y 2 columnas."
   ]
  },
  {
   "cell_type": "code",
   "execution_count": 38,
   "metadata": {
    "colab": {},
    "colab_type": "code",
    "id": "ebC-pToF_laW",
    "jupyter": {
     "outputs_hidden": false
    }
   },
   "outputs": [],
   "source": [
    "# Ejemplo en Python\n",
    "A = np.array([[1,3,2],\n",
    "              [1,0,0],\n",
    "              [1,2,2]])\n",
    "\n",
    "B = np.array([[1,0,5],\n",
    "              [7,5,0],\n",
    "              [2,1,1]])"
   ]
  },
  {
   "cell_type": "code",
   "execution_count": 39,
   "metadata": {
    "colab": {},
    "colab_type": "code",
    "id": "o2NX2cHS_laX",
    "jupyter": {
     "outputs_hidden": false
    },
    "outputId": "8bdc4242-ea27-4e94-a790-b78be371e41b"
   },
   "outputs": [
    {
     "data": {
      "text/plain": [
       "array([[2, 3, 7],\n",
       "       [8, 5, 0],\n",
       "       [3, 3, 3]])"
      ]
     },
     "execution_count": 39,
     "metadata": {},
     "output_type": "execute_result"
    }
   ],
   "source": [
    "# suma de las matrices A y B\n",
    "A + B"
   ]
  },
  {
   "cell_type": "code",
   "execution_count": 40,
   "metadata": {
    "colab": {},
    "colab_type": "code",
    "id": "gaf6T5aj_laZ",
    "jupyter": {
     "outputs_hidden": false
    },
    "outputId": "e6a16eba-46d8-45b9-9b5a-f3f07ac86f59"
   },
   "outputs": [
    {
     "data": {
      "text/plain": [
       "array([[ 0,  3, -3],\n",
       "       [-6, -5,  0],\n",
       "       [-1,  1,  1]])"
      ]
     },
     "execution_count": 40,
     "metadata": {},
     "output_type": "execute_result"
    }
   ],
   "source": [
    "# resta de matricesA - B\n",
    "\n",
    "A - B"
   ]
  },
  {
   "cell_type": "code",
   "execution_count": 41,
   "metadata": {
    "colab": {},
    "colab_type": "code",
    "id": "NRIOiz7A_lab",
    "jupyter": {
     "outputs_hidden": false
    },
    "outputId": "c059eb40-d82a-406b-c448-00cb6de77f76"
   },
   "outputs": [
    {
     "data": {
      "text/plain": [
       "array([[ 3,  0, 15],\n",
       "       [21, 15,  0],\n",
       "       [ 6,  3,  3]])"
      ]
     },
     "execution_count": 41,
     "metadata": {},
     "output_type": "execute_result"
    }
   ],
   "source": [
    "# multiplicando matrices por escalares\n",
    "3 * B"
   ]
  },
  {
   "cell_type": "code",
   "execution_count": 42,
   "metadata": {
    "colab": {},
    "colab_type": "code",
    "id": "VTIJPRsx_lak",
    "jupyter": {
     "outputs_hidden": false
    },
    "outputId": "55bcf643-e12c-48cf-f580-75750f7f9416"
   },
   "outputs": [
    {
     "data": {
      "text/plain": [
       "(3, 3)"
      ]
     },
     "execution_count": 42,
     "metadata": {},
     "output_type": "execute_result"
    }
   ],
   "source": [
    "# ver la dimension de una matriz\n",
    "A.shape # Es un atributo de la clase np"
   ]
  },
  {
   "cell_type": "code",
   "execution_count": 43,
   "metadata": {
    "colab": {},
    "colab_type": "code",
    "id": "ijzgWTV9_lan",
    "jupyter": {
     "outputs_hidden": false
    },
    "outputId": "6f2ff593-9630-478e-86b0-d03c599de1f2"
   },
   "outputs": [
    {
     "data": {
      "text/plain": [
       "9"
      ]
     },
     "execution_count": 43,
     "metadata": {},
     "output_type": "execute_result"
    }
   ],
   "source": [
    "# ver cantidad de elementos de una matriz\n",
    "A.size # Otro atributo"
   ]
  },
  {
   "cell_type": "code",
   "execution_count": 44,
   "metadata": {},
   "outputs": [
    {
     "data": {
      "text/plain": [
       "array([3, 5, 4])"
      ]
     },
     "execution_count": 44,
     "metadata": {},
     "output_type": "execute_result"
    }
   ],
   "source": [
    "# sumar las columnas de la matriz\n",
    "np.sum(A, axis=0) # El argumento axis nos sirve para sumar las columnas"
   ]
  },
  {
   "cell_type": "code",
   "execution_count": 45,
   "metadata": {},
   "outputs": [
    {
     "data": {
      "text/plain": [
       "array([6, 1, 5])"
      ]
     },
     "execution_count": 45,
     "metadata": {},
     "output_type": "execute_result"
    }
   ],
   "source": [
    "# sumar las filas de la matriz\n",
    "np.sum(A, axis=1)"
   ]
  },
  {
   "cell_type": "code",
   "execution_count": 46,
   "metadata": {},
   "outputs": [
    {
     "data": {
      "text/plain": [
       "12"
      ]
     },
     "execution_count": 46,
     "metadata": {},
     "output_type": "execute_result"
    }
   ],
   "source": [
    "# sumar todos los elementos de la matriz\n",
    "np.sum(A)"
   ]
  },
  {
   "cell_type": "markdown",
   "metadata": {
    "colab_type": "text",
    "id": "pN9kyy80_lap"
   },
   "source": [
    "#### Multiplicacion o Producto de matrices\n",
    "\n",
    "Cuando multiplicamos matrices, el número de columnas de la primera matriz debe ser igual al número de filas de la segunda matriz; y el resultado de esta multiplicación va a tener el mismo número de filas que la primer matriz y el número de la columnas de la segunda matriz. Es decir, que si yo tengo una  matriz A de dimensión 3x4 y la multiplico por una matriz B de dimensión 4x2, el resultado va a ser una matriz C de dimensión 3x2.\n",
    "\n",
    "Algo a tener en cuenta a la hora de multiplicar matrices es que la propiedad [connmutativa](https://es.wikipedia.org/wiki/Conmutatividad) no se cumple. AxB no es lo mismo que BxA.\n"
   ]
  },
  {
   "cell_type": "code",
   "execution_count": 47,
   "metadata": {
    "colab": {},
    "colab_type": "code",
    "id": "QrUMaUGz_lap",
    "jupyter": {
     "outputs_hidden": false
    },
    "outputId": "b732d20f-5611-4908-ef88-c17e0e6cc2ca"
   },
   "outputs": [
    {
     "data": {
      "text/plain": [
       "array([[ 1,  2,  3,  4],\n",
       "       [ 5,  6,  7,  8],\n",
       "       [ 9, 10, 11, 12]])"
      ]
     },
     "execution_count": 47,
     "metadata": {},
     "output_type": "execute_result"
    }
   ],
   "source": [
    "# Ejemplo multiplicación de matrices\n",
    "A = np.arange(1,13).reshape(3,4) # matriz de dimension 3X4\n",
    "\n",
    "A"
   ]
  },
  {
   "cell_type": "code",
   "execution_count": 48,
   "metadata": {
    "colab": {},
    "colab_type": "code",
    "id": "uNXjexLW_lar",
    "jupyter": {
     "outputs_hidden": false
    },
    "outputId": "e3c1eb74-fb4a-4398-e496-77727984eb76"
   },
   "outputs": [
    {
     "data": {
      "text/plain": [
       "array([[0, 1],\n",
       "       [2, 3],\n",
       "       [4, 5],\n",
       "       [6, 7]])"
      ]
     },
     "execution_count": 48,
     "metadata": {},
     "output_type": "execute_result"
    }
   ],
   "source": [
    "\n",
    "\n",
    "B = np.arange(8).reshape(4,2) # matriz de dimension 4X2\n",
    "\n",
    "B"
   ]
  },
  {
   "cell_type": "code",
   "execution_count": 49,
   "metadata": {
    "colab": {},
    "colab_type": "code",
    "id": "WQDDLg-G_las",
    "jupyter": {
     "outputs_hidden": false
    },
    "outputId": "f0462713-c592-4025-e09c-3b3cda1157e7"
   },
   "outputs": [
    {
     "data": {
      "text/plain": [
       "array([[ 40,  50],\n",
       "       [ 88, 114],\n",
       "       [136, 178]])"
      ]
     },
     "execution_count": 49,
     "metadata": {},
     "output_type": "execute_result"
    }
   ],
   "source": [
    "# Multiplicando A x B\n",
    "A.dot(B) # Resulta en una matriz de 3x2"
   ]
  },
  {
   "cell_type": "code",
   "execution_count": 50,
   "metadata": {},
   "outputs": [
    {
     "data": {
      "text/plain": [
       "array([[ 40,  50],\n",
       "       [ 88, 114],\n",
       "       [136, 178]])"
      ]
     },
     "execution_count": 50,
     "metadata": {},
     "output_type": "execute_result"
    }
   ],
   "source": [
    "np.dot(A,B)"
   ]
  },
  {
   "cell_type": "code",
   "execution_count": 51,
   "metadata": {
    "colab": {},
    "colab_type": "code",
    "id": "FPWPxLIb_lau",
    "jupyter": {
     "outputs_hidden": false
    },
    "outputId": "5ff11851-850e-47a3-b410-290e26325dce"
   },
   "outputs": [
    {
     "ename": "ValueError",
     "evalue": "shapes (4,2) and (3,4) not aligned: 2 (dim 1) != 3 (dim 0)",
     "output_type": "error",
     "traceback": [
      "\u001b[1;31m---------------------------------------------------------------------------\u001b[0m",
      "\u001b[1;31mValueError\u001b[0m                                Traceback (most recent call last)",
      "\u001b[1;32m~\\AppData\\Local\\Temp\\ipykernel_20304\\639876193.py\u001b[0m in \u001b[0;36m<module>\u001b[1;34m\u001b[0m\n\u001b[0;32m      1\u001b[0m \u001b[1;31m# Multiplicando B x A\u001b[0m\u001b[1;33m\u001b[0m\u001b[1;33m\u001b[0m\u001b[0m\n\u001b[1;32m----> 2\u001b[1;33m \u001b[0mB\u001b[0m\u001b[1;33m.\u001b[0m\u001b[0mdot\u001b[0m\u001b[1;33m(\u001b[0m\u001b[0mA\u001b[0m\u001b[1;33m)\u001b[0m\u001b[1;33m\u001b[0m\u001b[1;33m\u001b[0m\u001b[0m\n\u001b[0m",
      "\u001b[1;31mValueError\u001b[0m: shapes (4,2) and (3,4) not aligned: 2 (dim 1) != 3 (dim 0)"
     ]
    }
   ],
   "source": [
    "# Multiplicando B x A\n",
    "B.dot(A)"
   ]
  },
  {
   "cell_type": "markdown",
   "metadata": {
    "colab_type": "text",
    "id": "zkNjYkh1_law"
   },
   "source": [
    "Este ultimo ejemplo vemos que la propiedad conmutativa no se cumple, es más, Python nos arroja un error, ya que el número de columnas de B no coincide con el número de filas de A, por lo que ni siquiera se puede realizar la multiplicación de B x A.\n",
    "\n"
   ]
  },
  {
   "cell_type": "markdown",
   "metadata": {
    "colab_type": "text",
    "id": "MJ7kfMWO_lax"
   },
   "source": [
    "#### La matriz identidad,  la matriz inversa y  la matrix transpuesta \n",
    "\n",
    "La **matriz identidad** es el elemento neutro en la multiplicación de matrices, es el equivalente al número 1. Cualquier matriz multiplicada por la matriz identidad nos da como resultado la misma matriz. La matriz identidad es una matriz cuadrada (tiene siempre el mismo número de filas que de columnas); y su diagonal principal se compone de todos elementos 1 y el resto de los elementos se completan con 0. Suele representase con la letra I\n",
    "\n",
    "Por ejemplo la matriz identidad de 3x3 sería la siguiente:\n",
    "\n",
    "$$I=\\begin{bmatrix}1 & 0 & 0 & \\\\0 & 1 & 0\\\\ 0 & 0 & 1\\end{bmatrix}$$\n",
    "\n",
    "Ahora que conocemos el concepto de la matriz identidad, podemos llegar al concepto de la **matriz inversa**. Si tenemos una matriz A, la matriz inversa de A, que se representa como $A^{-1}$ es aquella matriz cuadrada que hace que la multiplicación $A$x$A^{-1}$ sea igual a la matriz identidad I. Es decir que es la matriz recíproca de A.\n",
    "\n",
    "$$A × A^{-1} = A^{-1} × A = I$$\n",
    "\n",
    "Tener en cuenta que esta matriz inversa en muchos casos puede no existir.En este caso se dice que la matriz es singular o degenerada. \n",
    "\n",
    "Por último, la **matriz transpuesta** es aquella en que las filas se transforman en columnas y las columnas en filas. Se representa con el símbolo $A^\\intercal$\n",
    "\n",
    "$$\\begin{bmatrix}a & b & \\\\c & d & \\\\ e & f & \\end{bmatrix}^T:=\\begin{bmatrix}a & c & e &\\\\b & d & f & \\end{bmatrix}$$\n",
    "\n"
   ]
  },
  {
   "cell_type": "code",
   "execution_count": 52,
   "metadata": {
    "colab": {},
    "colab_type": "code",
    "id": "H6chu8kJ_lax",
    "jupyter": {
     "outputs_hidden": false
    },
    "outputId": "8d597371-2582-4631-f2fb-7505ff9c898b"
   },
   "outputs": [
    {
     "data": {
      "text/plain": [
       "array([[1., 0.],\n",
       "       [0., 1.]])"
      ]
     },
     "execution_count": 52,
     "metadata": {},
     "output_type": "execute_result"
    }
   ],
   "source": [
    "# Creando una matriz identidad de 2x2\n",
    "I = np.eye(2)\n",
    "I"
   ]
  },
  {
   "cell_type": "code",
   "execution_count": 53,
   "metadata": {
    "colab": {},
    "colab_type": "code",
    "id": "P8nKrQdB_laz",
    "jupyter": {
     "outputs_hidden": false
    },
    "outputId": "97230bc0-11a5-4b8c-8855-d1052f1df5c7"
   },
   "outputs": [
    {
     "data": {
      "text/plain": [
       "array([[4, 7],\n",
       "       [2, 6]])"
      ]
     },
     "execution_count": 53,
     "metadata": {},
     "output_type": "execute_result"
    }
   ],
   "source": [
    "# Multiplicar una matriz por la identidad nos da la misma matriz\n",
    "A = np.array([[4,7],\n",
    "              [2,6]])\n",
    "\n",
    "A"
   ]
  },
  {
   "cell_type": "code",
   "execution_count": 54,
   "metadata": {
    "colab": {},
    "colab_type": "code",
    "id": "TjiAKfqj_la0",
    "jupyter": {
     "outputs_hidden": false
    },
    "outputId": "91dd0009-e5d7-433f-cf68-bc2dfe503ac9"
   },
   "outputs": [
    {
     "data": {
      "text/plain": [
       "array([[4., 7.],\n",
       "       [2., 6.]])"
      ]
     },
     "execution_count": 54,
     "metadata": {},
     "output_type": "execute_result"
    }
   ],
   "source": [
    "# AxI = A\n",
    "A.dot(I)"
   ]
  },
  {
   "cell_type": "code",
   "execution_count": 55,
   "metadata": {
    "colab": {},
    "colab_type": "code",
    "id": "dlXXWPTe_la4",
    "jupyter": {
     "outputs_hidden": false
    },
    "outputId": "56c9635f-b563-4dad-dae3-0ce60c5e5d1e"
   },
   "outputs": [
    {
     "data": {
      "text/plain": [
       "array([[ 0.6, -0.7],\n",
       "       [-0.2,  0.4]])"
      ]
     },
     "execution_count": 55,
     "metadata": {},
     "output_type": "execute_result"
    }
   ],
   "source": [
    "# Calculando la inversa de A.\n",
    "A_inv = np.linalg.inv(A)\n",
    "A_inv"
   ]
  },
  {
   "cell_type": "code",
   "execution_count": 56,
   "metadata": {
    "colab": {},
    "colab_type": "code",
    "id": "iZRBBMbB_la6",
    "jupyter": {
     "outputs_hidden": false
    },
    "outputId": "904bb2cc-d248-4ad2-aedf-8dd80d426911"
   },
   "outputs": [
    {
     "data": {
      "text/plain": [
       "array([[ 1.00000000e+00, -1.11022302e-16],\n",
       "       [ 1.11022302e-16,  1.00000000e+00]])"
      ]
     },
     "execution_count": 56,
     "metadata": {},
     "output_type": "execute_result"
    }
   ],
   "source": [
    "# A x A_inv nos da como resultado I.\n",
    "A.dot(A_inv)"
   ]
  },
  {
   "cell_type": "code",
   "execution_count": 57,
   "metadata": {
    "colab": {},
    "colab_type": "code",
    "id": "MRY9I8QV_la8",
    "jupyter": {
     "outputs_hidden": false
    },
    "outputId": "50ae6792-407c-4acf-e2c9-e9c9bf10e9e7"
   },
   "outputs": [
    {
     "data": {
      "text/plain": [
       "array([[0, 1],\n",
       "       [2, 3],\n",
       "       [4, 5]])"
      ]
     },
     "execution_count": 57,
     "metadata": {},
     "output_type": "execute_result"
    }
   ],
   "source": [
    "# Trasponiendo una matriz\n",
    "A = np.arange(6).reshape(3,2)\n",
    "\n",
    "A"
   ]
  },
  {
   "cell_type": "code",
   "execution_count": 58,
   "metadata": {
    "colab": {},
    "colab_type": "code",
    "id": "NZeH2cbE_la9",
    "jupyter": {
     "outputs_hidden": false
    },
    "outputId": "2f14c0b6-88b5-4c3e-96d3-e62eaf8e650c"
   },
   "outputs": [
    {
     "data": {
      "text/plain": [
       "array([[0, 2, 4],\n",
       "       [1, 3, 5]])"
      ]
     },
     "execution_count": 58,
     "metadata": {},
     "output_type": "execute_result"
    }
   ],
   "source": [
    "np.transpose(A)"
   ]
  },
  {
   "cell_type": "markdown",
   "metadata": {
    "colab": {},
    "colab_type": "code",
    "id": "0vZnk7FE_lcd"
   },
   "source": [
    "### Ejemplo Práctico: Detección de bordes en imágenes\n",
    "¿Sabías que las imágenes se representan digitalmente como una matriz de píxeles?   \n",
    "![imagen](./img/Imagen.png)\n",
    "\n",
    "El álgebra lineal se usa en muchas aplicaciones como el reconocimiento de imágenes. \n",
    "Por ejemplo, para detectar bordes y otros patrones en imágenes, se aplica una técnica conocida como **convolución**, en la que una pequeña matriz llamada *kernel* recorre la imagen original, aplicando una operación matemática, y produciendo una nueva matriz (una nueva imagen)\n",
    "\n",
    "<img src='./img/kernel2.gif' width = 500>\n",
    "\n",
    "![imagen](./img/convolution.png)\n",
    "\n",
    "Si te fijas, el *kernel* multiplica elemento a elemento en cada posición de la matriz y suma el resultado para producir un nuevo pixel en la imagen resultante. Dependiendo del tipo de *kernel* empleado, se destacarán diferentes aspectos de la imagen original (bordes, relieves, etc.).\n",
    "\n",
    "En este ejemplo, vamos a utilizar una imagen \"fake\", con solo 4 pixeles:  \n",
    "\n",
    "$$\\begin{bmatrix}100 & 100\\\\100 & 100 \\end{bmatrix}$$\n",
    "\n",
    "y el siguiente *kernel* para detectar bordes:\n",
    "\n",
    "$$\\begin{bmatrix}2 & -2 \\\\ 2 & -2\\end{bmatrix}$$"
   ]
  },
  {
   "cell_type": "markdown",
   "metadata": {},
   "source": [
    "1. Crea la imagen con la matriz correspondiente en la variable `plain_img`"
   ]
  },
  {
   "cell_type": "code",
   "execution_count": 59,
   "metadata": {},
   "outputs": [],
   "source": [
    "plain_img = np.array([[100,100],\n",
    "                      [100,100]])"
   ]
  },
  {
   "cell_type": "markdown",
   "metadata": {},
   "source": [
    "2. Crea el kernel en la variable `kernel` "
   ]
  },
  {
   "cell_type": "code",
   "execution_count": 60,
   "metadata": {},
   "outputs": [],
   "source": [
    "kernel = np.array([[2,-2],\n",
    "                   [2,-2]])"
   ]
  },
  {
   "cell_type": "markdown",
   "metadata": {},
   "source": [
    "3. Implementa una función llamada `apply_kernel`, que reciba como argumentos una imagen y un kernel, aplique la función `multiply()` de numpy y sume todos los elementos de la matriz resultante con la función `sum()` de numpy.\n",
    "Si la suma es distinta de cero, significará que ha detectado un borde y la función devolverá `True`. En caso contrario devuelve `False`"
   ]
  },
  {
   "cell_type": "code",
   "execution_count": 61,
   "metadata": {},
   "outputs": [],
   "source": [
    "def apply_kernel(imagen, kernel):\n",
    "    mult = np.multiply(imagen, kernel)\n",
    "    result = np.sum(mult)\n",
    "    if result != 0:\n",
    "        return True\n",
    "    else:\n",
    "        return False"
   ]
  },
  {
   "cell_type": "markdown",
   "metadata": {},
   "source": [
    "4. Ejecuta el siguiente código para dibujar la imagen e imprimir por pantalla si se han detectado bordes\n",
    "```Python\n",
    "import matplotlib.pyplot as plt \n",
    "plt.imshow(plain_img) \n",
    "plt.axis('off') \n",
    "plt.show() \n",
    "if apply_kernel(plain_img,kernel):\n",
    "    print(\"Se ha detectado un borde\")\n",
    "else:\n",
    "    print(\"No se han detectado bordes\")\n",
    "```"
   ]
  },
  {
   "cell_type": "code",
   "execution_count": 62,
   "metadata": {},
   "outputs": [
    {
     "data": {
      "image/png": "[encoded data removed]",
      "text/plain": [
       "<Figure size 640x480 with 1 Axes>"
      ]
     },
     "metadata": {},
     "output_type": "display_data"
    },
    {
     "name": "stdout",
     "output_type": "stream",
     "text": [
      "No se han detectado bordes\n"
     ]
    }
   ],
   "source": [
    "import matplotlib.pyplot as plt \n",
    "\n",
    "plt.imshow(plain_img)\n",
    "\n",
    "plt.axis('off') \n",
    "plt.show() \n",
    "if apply_kernel(plain_img,kernel):\n",
    " print(\"Se ha detectado un borde\")\n",
    "else:\n",
    " print(\"No se han detectado bordes\")"
   ]
  },
  {
   "cell_type": "markdown",
   "metadata": {},
   "source": [
    "5. Repite el proceso con la imagen \n",
    "$$\\begin{bmatrix}100 & 0\\\\100 & 0 \\end{bmatrix}$$"
   ]
  },
  {
   "cell_type": "markdown",
   "metadata": {},
   "source": [
    "Si tienes curiosidad sobre la convolución en imágenes, visita esta página: https://setosa.io/ev/image-kernels/"
   ]
  }
 ],
 "metadata": {
  "colab": {
   "name": "1-Algebra_Lineal.ipynb",
   "provenance": []
  },
  "kernelspec": {
   "display_name": "Python 3 (ipykernel)",
   "language": "python",
   "name": "python3"
  },
  "language_info": {
   "codemirror_mode": {
    "name": "ipython",
    "version": 3
   },
   "file_extension": ".py",
   "mimetype": "text/x-python",
   "name": "python",
   "nbconvert_exporter": "python",
   "pygments_lexer": "ipython3",
   "version": "3.10.4"
  }
 },
 "nbformat": 4,
 "nbformat_minor": 4
}
