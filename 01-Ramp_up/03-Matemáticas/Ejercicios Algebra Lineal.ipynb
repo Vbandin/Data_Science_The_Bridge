{
 "cells": [
  {
   "cell_type": "markdown",
   "id": "alike-moderator",
   "metadata": {},
   "source": [
    "# Ejercicio 1\n",
    "\n",
    "<img src ='https://estaticos-cdn.prensaiberica.es/clip/23bf0054-14a8-40d0-8700-dc653638d702_16-9-discover-aspect-ratio_default_0.jpg' width=300>\n",
    "\n",
    "Rafa, Nacho y Clara quieren comprar palmeras, donuts, hojaldres y tartas. Cada uno necesita diferentes cantidades y pueden elegir dos tiendas: *Manolo Bakes* y *Starbucks*. \n",
    "\n",
    "Las siguiente tablas muestran, respectivamente, la cantidad que cada uno necesita, y los precios en cada una de las tiendas\n",
    "\n",
    "<table><thead><tr><th></th><th>Palmeras</th><th>Donuts</th><th>Hojaldres</th><th>Tartas</th></tr></thead><tbody><tr><td>Rafa</td><td>6</td><td>5</td><td>3</td><td>1</td></tr><tr><td>Nacho</td><td>3</td><td>6</td><td>2</td><td>2</td></tr><tr><td>Clara</td><td>3</td><td>4</td><td>3</td><td>1</td></tr></tbody></table>\n",
    "\n",
    "<table><thead><tr><th></th><th>Manolo Bakes</th><th>Starbucks</th></tr></thead><tbody><tr><td>Palmera</td><td>1.50</td><td>1.00</td></tr><tr><td>Donut</td><td>2.00</td><td>2.50</td></tr><tr><td>Hojaldre</td><td>5.00</td><td>4.50</td></tr><tr><td>Tarta</td><td>16.00</td><td>17.00</td></tr></tbody></table>\n",
    "\n",
    "Por ejemplo, si Rafa compra en *Manolo Bakes* gastaría:  \n",
    "\n",
    "$6\\cdot1.50+5\\cdot2+3\\cdot5+1\\cdot16=50$  \n",
    "\n",
    "y si compra en *Starbucks* gastaría:  \n",
    "\n",
    "$6\\cdot1+5\\cdot2.50+3\\cdot4.50+1\\cdot17=49$  \n",
    "\n",
    "**SE PIDE**: Genera la matriz que exprese la cantidad que cada persona gastaría en cada tienda, y recomienda a cada uno dónde debería hacer sus compras"
   ]
  },
  {
   "cell_type": "code",
   "execution_count": 1,
   "id": "cloudy-airline",
   "metadata": {},
   "outputs": [
    {
     "name": "stdout",
     "output_type": "stream",
     "text": [
      "[[50.  49. ]\n",
      " [58.5 61. ]\n",
      " [43.5 43.5]]\n",
      "Rafa debería comprar en Starbucks\n",
      "Nacho debería comprar en Manolo Bakes\n",
      "Clara puede comprar en cualquiera de los dos con el mismo gasto\n"
     ]
    }
   ],
   "source": [
    "import numpy as np\n",
    "\n",
    "Compras = np.array([[6,5,3,1],\n",
    "                    [3,6,2,2],\n",
    "                    [3,4,3,1]])\n",
    "\n",
    "Precios = np.array([[1.5,1.0],\n",
    "                    [2.0,2.5],\n",
    "                    [5.0,4.5],\n",
    "                    [16.0,17.0]])\n",
    "\n",
    "# Compras es una matriz de 3x4 y Precios una matriz de 4x2, así que pueden multiplicarse y dara como resultado una matriz de 3x2\n",
    "\n",
    "# Matriz Inversion = Compras x Precios\n",
    "\n",
    "Inversion = Compras.dot(Precios)\n",
    "\n",
    "print(Inversion)\n",
    "\n",
    "# Accedo a los valores de la matriz Inversion de 3x2 y los comparo para recomendar la mejor opción\n",
    "\n",
    "if Inversion[0][0] < Inversion[0][1]:\n",
    "    print('Rafa debería comprar en Manolo Bakes')\n",
    "elif Inversion[0][0] > Inversion[0][1]:\n",
    "    print('Rafa debería comprar en Starbucks')\n",
    "else:\n",
    "    print('Rafa puede comprar en cualquiera de los dos con el mismo gasto')\n",
    "    \n",
    "if Inversion[1][0] < Inversion[1][1]:\n",
    "    print('Nacho debería comprar en Manolo Bakes')\n",
    "elif Inversion[1][0] > Inversion[1][1]:\n",
    "    print('Nacho debería comprar en Starbucks')\n",
    "else:\n",
    "    print('Nacho puede comprar en cualquiera de los dos con el mismo gasto')\n",
    "    \n",
    "if Inversion[2][0] < Inversion[2][1]:\n",
    "    print('Clara debería comprar en Manolo Bakes')\n",
    "elif Inversion[2][0] > Inversion[2][1]:\n",
    "    print('Clara debería comprar en Starbucks')\n",
    "else:\n",
    "    print('Clara puede comprar en cualquiera de los dos con el mismo gasto')\n"
   ]
  },
  {
   "cell_type": "code",
   "execution_count": 3,
   "id": "4fa84ebc",
   "metadata": {},
   "outputs": [
    {
     "name": "stdout",
     "output_type": "stream",
     "text": [
      "Rafa debe comprar en Starbucks\n",
      "Nacho debe comprar en Manolo Bakes\n",
      "Clara debe comprar en Manolo Bakes\n"
     ]
    }
   ],
   "source": [
    "# Corrección:\n",
    "recom = Inversion.argmin(axis=1) # \"argmin\" me dice si el minimo está en la primera o en la segunda posicion\n",
    "\n",
    "tiendas = ['Manolo Bakes', 'Starbucks']\n",
    "personas = ['Rafa', 'Nacho', 'Clara']\n",
    "\n",
    "for index, persona in enumerate(personas):\n",
    "    print(persona,'debe comprar en',tiendas[recom[index]])\n",
    "    \n",
    "# enumerate nos da el indice y el valor"
   ]
  },
  {
   "cell_type": "markdown",
   "id": "computational-federation",
   "metadata": {},
   "source": [
    "# Ejercicio 2\n",
    "<img src='https://i0.wp.com/contraste.info/desarrollo/wp-content/uploads/2015/04/Marsattacks_FichaCine_5566706.jpg?fit=260%2C180&ssl=1' width=\"300\">\n",
    "                                                                                                \n",
    "Hemos sido invadidos por los extraterrestres. El Gobierno ha prohibido toda comunicación escrita en castellano. Para poder comunicarnos, debemos generar mensajes de hasta 9 letras, codificados conforme al siguiente diccionario:\n",
    "\n",
    "```Python\n",
    "{'A':8,\n",
    " 'B':7,\n",
    " 'C':5,\n",
    " 'D':13,\n",
    " 'E':9,\n",
    " 'F':16,\n",
    " 'G':18,\n",
    " 'H':22,\n",
    " 'I':4,\n",
    " 'J':23,\n",
    " 'K':11,\n",
    " 'L':3,\n",
    " 'M':21,\n",
    " 'N':1,\n",
    " 'O':6,\n",
    " 'P':15,\n",
    " 'Q':12,\n",
    " 'R':19,\n",
    " 'S':2,\n",
    " 'T':14,\n",
    " 'U':17,\n",
    " 'V':20,\n",
    " 'W':25,\n",
    " 'X':24,\n",
    " 'Y':10,\n",
    " 'Z':26\n",
    "}\n",
    " \n",
    "```\n",
    "\n",
    "Por ejemplo, el mensaje \"MARCIANOS\" lo codificaríamos como \"21 8 19 5 4 8 1 6 2\"\n",
    "\n",
    "Para poder enviar mensajes, debemos introducir los dígitos en una matriz 3x3. En este ejemplo, la matriz sería:\n",
    "\n",
    "$$A=\\begin{bmatrix}21 & 8 & 19 \\\\ 5 & 4 & 8 \\\\ 1 & 6 & 2\\end{bmatrix}$$\n",
    "\n",
    "A continuación, hay que multiplicar por la izquierda esta matriz por otra proporcionada por el Gobierno:\n",
    "\n",
    "$$C=\\begin{bmatrix}2 & 0 & 1 \\\\ 1 & 0 & 1 \\\\ 0 & 1 & 0\\end{bmatrix}$$\n",
    "\n",
    "Por tanto, el mensaje resultante sería:\n",
    "\n",
    "$$Z = CA=\\begin{bmatrix}2 & 0 & 1 \\\\ 1 & 0 & 1 \\\\ 0 & 1 & 0\\end{bmatrix}\\begin{bmatrix}21 & 8 & 19 \\\\ 5 & 4 & 8 \\\\ 1 & 6 & 2\\end{bmatrix}=\\begin{bmatrix}43 & 22 & 40 \\\\ 22 & 14 & 21 \\\\ 5 & 4 & 8\\end{bmatrix}$$\n",
    "\n",
    "El receptor del mensaje deberá decodificarlo multiplicando la matriz $Z$ por la matriz $C^{-1}$ (por la izquierda):\n",
    "\n",
    "$$C^{-1}Z=A$$\n",
    "\n",
    "**SE PIDE:**\n",
    "1. Implementa una función para enviar mensajes de 9 letras codificados\n",
    "> 1.1 Genera los dígitos correspondientes al mensaje a partir del diccionario y guárdalo en una lista  \n",
    "> 1.2 Haz un reshape de la lista para transformarlo en un array de numpy 3x3  \n",
    "> 1.3 Genera la matriz $Z=CA$, que será el output de la función\n",
    "2. Implementa una función para decodificar mensajes de 9 letras\n",
    "> 2.1 Crea un nuevo diccionario, donde se inviertan las claves y los valores del original  \n",
    "> 2.2 Realiza la operación $C^{-1}Z=A$ y convierte la matriz a un vector con el método `flatten()`  \n",
    "> 2.3 Recorre los elementos del vector para generar el mensaje decodificado usando el diccionario creado en 2.1\n",
    "\n",
    "Consejo: Antes de implementar la función, reproduce el ejemplo del enunciado. Cuando te funcione, encapsula tu código en funciones"
   ]
  },
  {
   "cell_type": "code",
   "execution_count": 7,
   "id": "pharmaceutical-extreme",
   "metadata": {},
   "outputs": [
    {
     "name": "stdout",
     "output_type": "stream",
     "text": [
      "[[43 22 40]\n",
      " [22 14 21]\n",
      " [ 5  4  8]]\n"
     ]
    }
   ],
   "source": [
    "def codifica_mensajes_9_letras(palabra):\n",
    "    palabra = palabra.upper()\n",
    "    codigo = {'A':8,\n",
    "             'B':7,\n",
    "             'C':5,\n",
    "             'D':13,\n",
    "             'E':9,\n",
    "             'F':16,\n",
    "             'G':18,\n",
    "             'H':22,\n",
    "             'I':4,\n",
    "             'J':23,\n",
    "             'K':11,\n",
    "             'L':3,\n",
    "             'M':21,\n",
    "             'N':1,\n",
    "             'O':6,\n",
    "             'P':15,\n",
    "             'Q':12,\n",
    "             'R':19,\n",
    "             'S':2,\n",
    "             'T':14,\n",
    "             'U':17,\n",
    "             'V':20,\n",
    "             'W':25,\n",
    "             'X':24,\n",
    "             'Y':10,\n",
    "             'Z':26\n",
    "            }\n",
    "    codificado = []\n",
    "    for letra in palabra:\n",
    "        codificado.append(codigo[letra])\n",
    "    A = np.array(codificado).reshape(3,3)\n",
    "    C = np.array([[2,0,1],\n",
    "                  [1,0,1],\n",
    "                  [0,1,0]])\n",
    "    Z = C.dot(A)\n",
    "\n",
    "    return Z\n",
    "\n",
    "print(codifica_mensajes_9_letras(\"marcianos\"))"
   ]
  },
  {
   "cell_type": "code",
   "execution_count": 44,
   "id": "sixth-fighter",
   "metadata": {},
   "outputs": [],
   "source": [
    "# np.power(C,-1) Metodo Numpy para elevar una matriz a una potencia (No admite potencias negativas)\n",
    "\n",
    "def decodifica_mensajes_9_letras(matriz):\n",
    "    codigo = {'A':8,\n",
    "             'B':7,\n",
    "             'C':5,\n",
    "             'D':13,\n",
    "             'E':9,\n",
    "             'F':16,\n",
    "             'G':18,\n",
    "             'H':22,\n",
    "             'I':4,\n",
    "             'J':23,\n",
    "             'K':11,\n",
    "             'L':3,\n",
    "             'M':21,\n",
    "             'N':1,\n",
    "             'O':6,\n",
    "             'P':15,\n",
    "             'Q':12,\n",
    "             'R':19,\n",
    "             'S':2,\n",
    "             'T':14,\n",
    "             'U':17,\n",
    "             'V':20,\n",
    "             'W':25,\n",
    "             'X':24,\n",
    "             'Y':10,\n",
    "             'Z':26\n",
    "            }\n",
    "    decodificador = {}\n",
    "    for key,value in codigo.items():\n",
    "        decodificador[value] = key\n",
    "    C = np.array([[2,0,1],\n",
    "                  [1,0,1],\n",
    "                  [0,1,0]])\n",
    "    C_inv = np.linalg.inv(C)\n",
    "    A = (C_inv).dot(matriz)\n",
    "    vector = A.flatten()\n",
    "    palabra_codificada = []\n",
    "    for i in vector:\n",
    "        palabra_codificada.append(decodificador[i])\n",
    "    palabra = ''.join(palabra_codificada)\n",
    "    return palabra"
   ]
  },
  {
   "cell_type": "code",
   "execution_count": 45,
   "id": "ebf8e5d6",
   "metadata": {},
   "outputs": [
    {
     "name": "stdout",
     "output_type": "stream",
     "text": [
      "[[21 48 18]\n",
      " [17 27 10]\n",
      " [ 1 14  8]]\n",
      "IMANTADOS\n"
     ]
    }
   ],
   "source": [
    "M = codifica_mensajes_9_letras('imantados')\n",
    "print(M)\n",
    "print(decodifica_mensajes_9_letras(M))"
   ]
  },
  {
   "cell_type": "code",
   "execution_count": null,
   "id": "3c5f3ac3",
   "metadata": {},
   "outputs": [],
   "source": [
    "'''\n",
    "Corrección Rafa:\n",
    "\n",
    "def decodificador(Z,C):\n",
    "    A2 = np.linalg.inv(C).dot(Z)\n",
    "    \n",
    "    mensaje = ''\n",
    "    for dig in A2.flatten():\n",
    "        mensaje += dic2[dig]\n",
    "    return mensaje\n",
    "    \n",
    "Como la matriz del gobierno se actualiza, la función la coge como parametro de entrada\n",
    "'''"
   ]
  },
  {
   "cell_type": "markdown",
   "id": "personalized-prisoner",
   "metadata": {},
   "source": [
    "# Ejercicio 3 "
   ]
  },
  {
   "cell_type": "markdown",
   "id": "domestic-suicide",
   "metadata": {},
   "source": [
    "En el álgebra de matrices, existen tres tipos de matrices de especial interés:\n",
    "\n",
    "1. **Matriz diagonal**: Todos los elementos son 0 excepto los de la diagonal\n",
    "<img src='./img/diagonal.png' width = 200>\n",
    "\n",
    "2. **Triangular superior**: Todos los elementos por encima de la diagonal son 0\n",
    "<img src='./img/upper.png' width = 200>\n",
    "\n",
    "3. **Triangular inferior**: Todos los elementos por debajo de la diagonal son 0\n",
    "<img src='./img/lower.png' width = 200>\n",
    "\n",
    "En numpy, las funciones `diag()`, `triu()` y `tril()` permiten hacer transformaciones de una matriz a cualquiera de las 3 anteriores\n",
    "\n",
    "**CASO DE USO**\n",
    "\n",
    "\n",
    "<img src='./img/bets.jpg' width=400>\n",
    "\n",
    "\n",
    "En LaLiga se generan matrices como la siguiente, que indican la probabilidad estimada de cada resultado en un determinado partido:  \n",
    "\n",
    "![SegmentLocal](./img/match_matrix.gif \"segment\")\n",
    "\n",
    "Por ejemplo, la probabilidad estimada de que acaben 1-2 es del 3.37%  \n",
    "La probabilidad de que acaben en empate sería la suma de la diagonal: $(0.0373+0.078+0.0409+0.0095+0.0012+0.0001)=16.7\\%$\n",
    "\n",
    "**SE PIDE**: \n",
    "\n",
    "1. Implementa una función que reciba una matriz cuadrada nxn y devuelva un diccionario con la probabilidad de empate, victoria local y victoria visitante. Asegúrate de que la suma de estas tres probabilidades es próxima a 1.\n",
    "\n",
    "2. Implementa otra función que transforme el diccionario con las probabilidades a un diccionario de cuotas redondeado a 2 decimales (la cuota la calculamos como la inversa de la probabilidad)\n",
    "\n",
    "Prueba con esta matriz\n",
    "$$ P=\\begin{bmatrix}0.0373 & 0.082 & 0.013 & 0.004\\\\ 0.1504 & 0.098 & 0.0337 & 0.0097 \\\\\n",
    "0.121 & 0.194 & 0.04 & 0.0118 \\\\ 0.088 &  0.076 & 0.032 & 0.0091\\end{bmatrix}$$"
   ]
  },
  {
   "cell_type": "code",
   "execution_count": 6,
   "id": "competitive-russian",
   "metadata": {},
   "outputs": [
    {
     "name": "stdout",
     "output_type": "stream",
     "text": [
      "[[0.0373 0.082  0.013  0.004 ]\n",
      " [0.1504 0.098  0.0337 0.0097]\n",
      " [0.121  0.194  0.04   0.0118]\n",
      " [0.088  0.076  0.032  0.0091]]\n",
      "1.0\n",
      "[0.0373 0.098  0.04   0.0091]\n",
      "La probabilidad de empate es del 18.44%\n",
      "[[0.     0.082  0.013  0.004 ]\n",
      " [0.     0.     0.0337 0.0097]\n",
      " [0.     0.     0.     0.0118]\n",
      " [0.     0.     0.     0.    ]]\n",
      "La probabilidad de victoria del equipo visitante es del 15.42%\n",
      "[[0.     0.     0.     0.    ]\n",
      " [0.1504 0.     0.     0.    ]\n",
      " [0.121  0.194  0.     0.    ]\n",
      " [0.088  0.076  0.032  0.    ]]\n",
      "La probabilidad de victoria del equipo local es del 66.14%\n"
     ]
    }
   ],
   "source": [
    "Probabilidades = np.array([[0.0373,0.082,0.013,0.004],\n",
    "                           [0.1504,0.098,0.0337,0.0097],\n",
    "                           [0.121,0.194,0.04,0.0118],\n",
    "                           [0.088,0.076,0.032,0.0091]])\n",
    "\n",
    "print(Probabilidades)\n",
    "\n",
    "print(np.sum(Probabilidades)) # Me aseguro de que suma 1 para validar que los datos son correctos\n",
    "\n",
    "print(np.diag(Probabilidades))\n",
    "\n",
    "p_empate = sum(np.diag(Probabilidades))\n",
    "\n",
    "print('La probabilidad de empate es del',str(p_empate*100)+'%')\n",
    "\n",
    "print(np.triu(Probabilidades,1)) # También print(np.triu(Probabilidades,k=1))\n",
    "\n",
    "\n",
    "p_visitante = np.sum(np.triu(Probabilidades,1)) # También print(np.triu(Probabilidades,k=1))\n",
    "\n",
    "print('La probabilidad de victoria del equipo visitante es del',str(p_visitante*100)+'%')\n",
    "\n",
    "\n",
    "print(np.tril(Probabilidades,-1)) # También print(np.tril(Probabilidades,k=-1))\n",
    "\n",
    "p_local = np.sum(np.tril(Probabilidades,-1)) # También print(np.tril(Probabilidades,k=-1))\n",
    "\n",
    "print('La probabilidad de victoria del equipo local es del',str(p_local*100)+'%')"
   ]
  },
  {
   "cell_type": "code",
   "execution_count": 18,
   "id": "presidential-toddler",
   "metadata": {},
   "outputs": [],
   "source": [
    "def resultado_probable(matriz):\n",
    "    p_empate = sum(np.diag(matriz))\n",
    "    p_visitante = np.sum(np.triu(matriz,1))\n",
    "    p_local = np.sum(np.tril(matriz,-1))\n",
    "    dic_results = {'Victoria Local': (p_local),'Victoria Visitante': (p_visitante),'Empate': (p_empate)}\n",
    "    return dic_results\n",
    "\n",
    "# Mejor guardar en el diccionario el float que multiplicarlo por 100 para expresarlo como %"
   ]
  },
  {
   "cell_type": "code",
   "execution_count": 19,
   "id": "0bcecca6",
   "metadata": {},
   "outputs": [
    {
     "data": {
      "text/plain": [
       "{'Victoria Local': 0.6614, 'Victoria Visitante': 0.1542, 'Empate': 0.1844}"
      ]
     },
     "execution_count": 19,
     "metadata": {},
     "output_type": "execute_result"
    }
   ],
   "source": [
    "resultado_probable(Probabilidades)"
   ]
  },
  {
   "cell_type": "code",
   "execution_count": 16,
   "id": "23d809df",
   "metadata": {},
   "outputs": [],
   "source": [
    "def cuotas_resultados(dic_results):\n",
    "    dic_cuotas = dic_results.copy()\n",
    "    for key,value in dic_results.items():\n",
    "        dic_cuotas[key] = round(1/value,2)\n",
    "    return dic_cuotas"
   ]
  },
  {
   "cell_type": "code",
   "execution_count": 17,
   "id": "2ba4a156",
   "metadata": {},
   "outputs": [
    {
     "data": {
      "text/plain": [
       "{'Victoria Local': 0.02, 'Victoria Visitante': 0.06, 'Empate': 0.05}"
      ]
     },
     "execution_count": 17,
     "metadata": {},
     "output_type": "execute_result"
    }
   ],
   "source": [
    "cuotas_resultados(resultado_probable(Probabilidades))"
   ]
  },
  {
   "cell_type": "code",
   "execution_count": null,
   "id": "1ea557fa",
   "metadata": {},
   "outputs": [],
   "source": [
    "# Corrección Rafa:\n",
    "\n",
    "def prob2cuota(d):\n",
    "    cuota1 = round"
   ]
  }
 ],
 "metadata": {
  "kernelspec": {
   "display_name": "Python 3 (ipykernel)",
   "language": "python",
   "name": "python3"
  },
  "language_info": {
   "codemirror_mode": {
    "name": "ipython",
    "version": 3
   },
   "file_extension": ".py",
   "mimetype": "text/x-python",
   "name": "python",
   "nbconvert_exporter": "python",
   "pygments_lexer": "ipython3",
   "version": "3.10.4"
  }
 },
 "nbformat": 4,
 "nbformat_minor": 5
}
