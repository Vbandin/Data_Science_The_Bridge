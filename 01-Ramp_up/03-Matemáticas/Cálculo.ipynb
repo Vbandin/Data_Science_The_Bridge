{
 "cells": [
  {
   "cell_type": "markdown",
   "id": "metallic-rwanda",
   "metadata": {},
   "source": [
    "# Parte 1: Optimización "
   ]
  },
  {
   "cell_type": "markdown",
   "id": "agreed-posting",
   "metadata": {},
   "source": [
    "En este notebook vamos a comenzar trabajando con la librería **Scipy**, que usa numpy como base e introduce módulos para la programación científica, como los módulos de optimización"
   ]
  },
  {
   "cell_type": "markdown",
   "id": "adult-springer",
   "metadata": {},
   "source": [
    "En los problemas de optimización matemática vamos a tener los siguientes puntos clave:\n",
    "1. **Objetivo a optimizar**: por ejemplo, maximizar las ventas de una empresa, o minimizar los costes\n",
    "2. **Variables**: qué variables afectan a nuestro objetivo\n",
    "3. **Restricciones**: qué limitaciones pueden existir para llegar al objetivo"
   ]
  },
  {
   "cell_type": "markdown",
   "id": "approximate-crime",
   "metadata": {},
   "source": [
    "<img src='./img/opt.jpg' width = 500>"
   ]
  },
  {
   "cell_type": "markdown",
   "id": "chinese-medium",
   "metadata": {},
   "source": [
    "Generalmente, los métodos de optimización que encontremos al programar van a buscar **minimizar**. \n",
    "\n",
    "Si nuestro problema consiste en maximizar una función ***f***, lo que haremos será minimizar ***-f***, lo cual es equivalente"
   ]
  },
  {
   "cell_type": "markdown",
   "id": "afraid-opinion",
   "metadata": {},
   "source": [
    "### Ejemplo 1"
   ]
  },
  {
   "cell_type": "markdown",
   "id": "involved-plasma",
   "metadata": {},
   "source": [
    "En una fábrica en la que se producen piezas para automóviles existen dos costes predominantes: el coste de los empleados (20€ por hora), y el coste del acero (170€ por tonelada). Los beneficios se modelan con la siguiente función:\n",
    "\n",
    "$$B(h,a)=200\\cdot h \\cdot a$$\n",
    "\n",
    "donde h representa las horas de trabajo y a representa las toneladas de acero. Se quiere optimizar el beneficio, con un presupuesto limitado de 20.000€."
   ]
  },
  {
   "cell_type": "markdown",
   "id": "killing-rhythm",
   "metadata": {},
   "source": [
    "**Solución**: Siendo el coste por hora de 20€ y el coste por tonelada de acero de 170€, tenemos que el coste total de producción, en términos de h y a es:\n",
    "\n",
    "$20h+170a$\n",
    "\n",
    "Por tanto, si el presupuesto es de 20.000€, podemos definir la restricción:\n",
    "\n",
    "$20h+170a=20000$\n",
    "\n",
    "Por tanto, tratamos de resolver el siguiente problema:\n",
    "\n",
    "**Maximizar**  \n",
    "$B(h,a)=200 \\cdot h \\cdot a$  \n",
    "sujeto a $20h+170a=20000$"
   ]
  },
  {
   "cell_type": "code",
   "execution_count": null,
   "id": "applied-argument",
   "metadata": {},
   "outputs": [],
   "source": []
  },
  {
   "cell_type": "markdown",
   "id": "alien-registrar",
   "metadata": {},
   "source": [
    "```Python\n",
    "parametros = [h,a]\n",
    "```"
   ]
  },
  {
   "cell_type": "markdown",
   "id": "short-referral",
   "metadata": {},
   "source": [
    "1. Define la función objetivo a minimizar"
   ]
  },
  {
   "cell_type": "code",
   "execution_count": null,
   "id": "victorian-hammer",
   "metadata": {},
   "outputs": [],
   "source": []
  },
  {
   "cell_type": "markdown",
   "id": "golden-integral",
   "metadata": {},
   "source": [
    "2. Define las restricciones"
   ]
  },
  {
   "cell_type": "code",
   "execution_count": null,
   "id": "fossil-kruger",
   "metadata": {},
   "outputs": [],
   "source": []
  },
  {
   "cell_type": "markdown",
   "id": "curious-branch",
   "metadata": {},
   "source": [
    "3. Definimos límites de nuestras variables"
   ]
  },
  {
   "cell_type": "code",
   "execution_count": null,
   "id": "native-criticism",
   "metadata": {},
   "outputs": [],
   "source": []
  },
  {
   "cell_type": "markdown",
   "id": "activated-teddy",
   "metadata": {},
   "source": [
    "4. Define un valor inicial para *h* y *a*"
   ]
  },
  {
   "cell_type": "code",
   "execution_count": null,
   "id": "completed-russia",
   "metadata": {},
   "outputs": [],
   "source": []
  },
  {
   "cell_type": "markdown",
   "id": "combined-unknown",
   "metadata": {},
   "source": [
    "5. Aplicamos la función de minimización [scipy.optimize.minimize](https://docs.scipy.org/doc/scipy/reference/generated/scipy.optimize.minimize.html), con los siguientes parámetros:\n",
    "* `fun`: función objetivo a minimizar\n",
    "* `x0`: lista con los valores iniciales\n",
    "* `method`: tipo de método de optimización (lo dejamos por defecto)\n",
    "* `bounds`: límites de las variables\n",
    "* `constraints`: lista de restricciones"
   ]
  },
  {
   "cell_type": "code",
   "execution_count": null,
   "id": "supposed-romance",
   "metadata": {},
   "outputs": [],
   "source": []
  },
  {
   "cell_type": "code",
   "execution_count": null,
   "id": "altered-lobby",
   "metadata": {},
   "outputs": [],
   "source": []
  },
  {
   "cell_type": "code",
   "execution_count": null,
   "id": "operating-grave",
   "metadata": {},
   "outputs": [],
   "source": []
  },
  {
   "cell_type": "markdown",
   "id": "closing-purple",
   "metadata": {},
   "source": [
    "Calculamos el beneficio máximo"
   ]
  },
  {
   "cell_type": "code",
   "execution_count": null,
   "id": "communist-helena",
   "metadata": {},
   "outputs": [],
   "source": []
  },
  {
   "cell_type": "markdown",
   "id": "proper-senator",
   "metadata": {},
   "source": [
    "Nos aseguramos que se cumple la restricción"
   ]
  },
  {
   "cell_type": "code",
   "execution_count": null,
   "id": "silent-intake",
   "metadata": {},
   "outputs": [],
   "source": []
  },
  {
   "cell_type": "markdown",
   "id": "normal-thought",
   "metadata": {},
   "source": [
    "## Ejemplo 2"
   ]
  },
  {
   "cell_type": "markdown",
   "id": "heard-recipient",
   "metadata": {},
   "source": [
    "El Levante vende 1000 camisetas cada mes a un precio de 12 euros. Tras realizar una encuesta, se estima que por cada incremento de 1 euro en el precio, se venderían 10 camisetas menos. El levante quiere vender al menos 800 camisetas al mes.\n",
    "\n",
    "¿A qué precio debe vender el Levante las camisetas para maximizar sus beneficios? ¿Cuál será el nuevo beneficio esperado?\n",
    "\n",
    "$$Beneficio(B) = Precio(P) \\times Cantidad(C)$$\n",
    "$$B=(12+x) \\times (1000-10x)$$\n",
    "\n",
    "<span style=\"color:blue\">$$\\text{Maximizar  } B = -10x^2+880x+12000 \\\\ \\text{ sujeto a } 1000-10x\\geq800$$</span> \n",
    "\n",
    "<span style=\"color:green\">$$\\text{Maximizar  } B = -10x^2+880x+12000 \\\\ \\text{ sujeto a } x\\leq20$$</span> "
   ]
  },
  {
   "cell_type": "code",
   "execution_count": null,
   "id": "employed-round",
   "metadata": {},
   "outputs": [],
   "source": [
    "# 1. Define la función objetivo a minimizar\n"
   ]
  },
  {
   "cell_type": "code",
   "execution_count": null,
   "id": "asian-munich",
   "metadata": {},
   "outputs": [],
   "source": [
    "# 2. Define las restricciones\n"
   ]
  },
  {
   "cell_type": "code",
   "execution_count": null,
   "id": "anticipated-designation",
   "metadata": {},
   "outputs": [],
   "source": [
    "# 3. Definir límites\n"
   ]
  },
  {
   "cell_type": "code",
   "execution_count": null,
   "id": "vietnamese-boutique",
   "metadata": {},
   "outputs": [],
   "source": [
    "# 4. Definir valores iniciales\n"
   ]
  },
  {
   "cell_type": "code",
   "execution_count": null,
   "id": "ready-married",
   "metadata": {},
   "outputs": [],
   "source": [
    "# 5. Aplicar la optimización\n"
   ]
  },
  {
   "cell_type": "code",
   "execution_count": null,
   "id": "regulation-interim",
   "metadata": {},
   "outputs": [],
   "source": []
  },
  {
   "cell_type": "markdown",
   "id": "boxed-cholesterol",
   "metadata": {},
   "source": [
    "Por tanto, el incremento óptimo es $x=20$.   \n",
    "El precio que maximiza los beneficios será $P=12+1\\times20=32€$  \n",
    "El beneficio esperado será $B=32\\times(1000-10\\times20)=25600€$"
   ]
  },
  {
   "cell_type": "markdown",
   "id": "occupational-future",
   "metadata": {},
   "source": [
    "# Parte 2: Mínimos cuadrados "
   ]
  },
  {
   "cell_type": "markdown",
   "id": "scientific-front",
   "metadata": {},
   "source": [
    "Se ha hecho una encuesta a 20 personas, preguntándoles por sus ingresos anuales en miles de euros y su nivel de felicidad en una escala del 0 al 10.   \n",
    "Los resultados obtenidos se guardan en las listas `x` (ingresos) e `y` (felicidad)\n",
    "\n",
    "```Python\n",
    "x = [25.2, 15.6, 26, 24, 39.2, 17.6, 3.6, 24, 10, 8.8, 35.2, 22.8, 31.6, 6, 11.2, 5.2, 22.4, 20.4, 31.2, 19.6]\n",
    "y = [10, 5, 9, 8, 10, 8, 1, 9, 3, 3, 11, 5, 11, 2, 4, 4, 9, 6, 10, 7]\n",
    "```"
   ]
  },
  {
   "cell_type": "code",
   "execution_count": null,
   "id": "suffering-nebraska",
   "metadata": {},
   "outputs": [],
   "source": []
  },
  {
   "cell_type": "code",
   "execution_count": null,
   "id": "genuine-registrar",
   "metadata": {},
   "outputs": [],
   "source": []
  },
  {
   "cell_type": "markdown",
   "id": "shaped-noise",
   "metadata": {},
   "source": [
    "Buscamos la recta $h(x)=w_0+w_1x$ que mejor ajuste los puntos, aplicando mínimos cuadrados"
   ]
  },
  {
   "cell_type": "markdown",
   "id": "religious-opportunity",
   "metadata": {},
   "source": [
    "1. Creamos la matrix $X=\\begin{bmatrix} 1 & x_0 \\\\ 1 & x_1 \\\\ \\vdots & \\vdots \\\\ 1 & x_n \\end{bmatrix}$"
   ]
  },
  {
   "cell_type": "code",
   "execution_count": null,
   "id": "employed-charge",
   "metadata": {},
   "outputs": [],
   "source": []
  },
  {
   "cell_type": "markdown",
   "id": "regulation-receptor",
   "metadata": {},
   "source": [
    "2. Creamos el vector $y=\\begin{bmatrix} y_0 \\\\ y_1 \\\\ \\vdots \\\\ y_n\\end{bmatrix}$ "
   ]
  },
  {
   "cell_type": "code",
   "execution_count": null,
   "id": "hundred-rapid",
   "metadata": {},
   "outputs": [],
   "source": []
  },
  {
   "cell_type": "markdown",
   "id": "compound-header",
   "metadata": {},
   "source": [
    "3. Resolvemos la ecuación matricial para obtener los coeficientes óptimos de la recta\n",
    "\n",
    "  $w = (X^TX)^{-1}X^Ty$"
   ]
  },
  {
   "cell_type": "code",
   "execution_count": null,
   "id": "standing-castle",
   "metadata": {},
   "outputs": [],
   "source": []
  },
  {
   "cell_type": "markdown",
   "id": "boring-nudist",
   "metadata": {},
   "source": [
    "Comprueba que la recta se ajusta a los puntos llamando a la siguiente función"
   ]
  },
  {
   "cell_type": "code",
   "execution_count": null,
   "id": "upper-mount",
   "metadata": {},
   "outputs": [],
   "source": [
    "def plot_all(w0,w1):\n",
    "\n",
    "    plt.figure(figsize=(8, 4))\n",
    "    ax = plt.axes()\n",
    "    ax.scatter(x, y)\n",
    "    ax.set_ylim([0,12])\n",
    "    ax.set_xlim([0,45])\n",
    "    ax.set_xlabel('Ingresos')\n",
    "    ax.set_ylabel('Felicidad')\n",
    "    e = np.linspace(0,45,len(x))\n",
    "    z = w0+w1*e\n",
    "\n",
    "    plt.plot(e, z, '-r', label='h(x)='+str(round(w0,2))+' + '+ str(round(w1,2))+'x')\n",
    "    plt.legend(loc='upper left')\n",
    "    plt.show()"
   ]
  },
  {
   "cell_type": "code",
   "execution_count": null,
   "id": "republican-madrid",
   "metadata": {},
   "outputs": [],
   "source": []
  },
  {
   "cell_type": "markdown",
   "id": "sublime-system",
   "metadata": {},
   "source": [
    "¿Cuál sería el nivel de felicidad de los que ganan 20.000€?"
   ]
  },
  {
   "cell_type": "code",
   "execution_count": null,
   "id": "speaking-simon",
   "metadata": {},
   "outputs": [],
   "source": []
  }
 ],
 "metadata": {
  "kernelspec": {
   "display_name": "Python 3 (ipykernel)",
   "language": "python",
   "name": "python3"
  },
  "language_info": {
   "codemirror_mode": {
    "name": "ipython",
    "version": 3
   },
   "file_extension": ".py",
   "mimetype": "text/x-python",
   "name": "python",
   "nbconvert_exporter": "python",
   "pygments_lexer": "ipython3",
   "version": "3.9.7"
  }
 },
 "nbformat": 4,
 "nbformat_minor": 5
}
