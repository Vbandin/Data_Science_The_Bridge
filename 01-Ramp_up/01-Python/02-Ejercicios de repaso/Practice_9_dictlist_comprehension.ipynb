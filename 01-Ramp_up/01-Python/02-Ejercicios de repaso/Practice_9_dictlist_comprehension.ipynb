{
 "cells": [
  {
   "cell_type": "markdown",
   "metadata": {},
   "source": [
    "# Python | day 9 | list/dict comprehension"
   ]
  },
  {
   "cell_type": "markdown",
   "metadata": {},
   "source": [
    "List comprehension in Python is a compact way of creating a list from a sequence. It is a short way to create a new list. List comprehension is considerably faster than processing a list using the for loop."
   ]
  },
  {
   "cell_type": "markdown",
   "metadata": {},
   "source": [
    "```python\n",
    "# syntax\n",
    "[i for i in iterable if expression]\n",
    "```"
   ]
  },
  {
   "cell_type": "markdown",
   "metadata": {},
   "source": [
    "Dictionary comprehension is the same as list comprehension but with dictionaries. I know, you didn't see that coming. "
   ]
  },
  {
   "cell_type": "markdown",
   "metadata": {},
   "source": [
    "```python\n",
    "# syntax\n",
    "\n",
    "{key: value for i in iterable}\n",
    "```\n"
   ]
  },
  {
   "cell_type": "markdown",
   "metadata": {},
   "source": [
    "- https://www.programiz.com/python-programming/list-comprehension\n",
    "- https://www.programiz.com/python-programming/dictionary-comprehension"
   ]
  },
  {
   "cell_type": "markdown",
   "metadata": {},
   "source": [
    "### Exercise 1.\n",
    "\n",
    "Use list comprehension and print the result to solve these problems: "
   ]
  },
  {
   "cell_type": "markdown",
   "metadata": {},
   "source": [
    "1. Make a list with the square number of numbers from 0 to 20. "
   ]
  },
  {
   "cell_type": "code",
   "execution_count": null,
   "metadata": {},
   "outputs": [],
   "source": []
  },
  {
   "cell_type": "markdown",
   "metadata": {},
   "source": [
    "2. Make a list with the first 50 power of two. "
   ]
  },
  {
   "cell_type": "code",
   "execution_count": null,
   "metadata": {},
   "outputs": [],
   "source": []
  },
  {
   "cell_type": "markdown",
   "metadata": {},
   "source": [
    "3. Calculate the square root of the first 100 numbers. \n",
    "\n",
    "**You will probably need to install math library with pip and import it in this file.** \n",
    "\n",
    "\n",
    "\n"
   ]
  },
  {
   "cell_type": "code",
   "execution_count": null,
   "metadata": {},
   "outputs": [],
   "source": []
  },
  {
   "cell_type": "markdown",
   "metadata": {},
   "source": [
    "4. Create this list `[-10,-9,-8,-7,-6,-5,-4,-3,-2,-1,0]`. "
   ]
  },
  {
   "cell_type": "code",
   "execution_count": null,
   "metadata": {},
   "outputs": [],
   "source": []
  },
  {
   "cell_type": "markdown",
   "metadata": {},
   "source": [
    "5. Filter only negative and zero in the list `numbers`."
   ]
  },
  {
   "cell_type": "code",
   "execution_count": null,
   "metadata": {},
   "outputs": [],
   "source": [
    "\n",
    "numbers = [-4, -3, -2, -1, 0, 2, 4, 6]"
   ]
  },
  {
   "cell_type": "code",
   "execution_count": null,
   "metadata": {},
   "outputs": [],
   "source": []
  },
  {
   "cell_type": "markdown",
   "metadata": {},
   "source": [
    "6. Find the odd numbers from 1-100 and put them on a list. \n",
    "\n",
    "\n"
   ]
  },
  {
   "cell_type": "code",
   "execution_count": null,
   "metadata": {},
   "outputs": [],
   "source": []
  },
  {
   "cell_type": "markdown",
   "metadata": {},
   "source": [
    "7. Find all of the numbers from 1-1000 that are divisible by 7.\n",
    "\n"
   ]
  },
  {
   "cell_type": "code",
   "execution_count": null,
   "metadata": {},
   "outputs": [],
   "source": []
  },
  {
   "cell_type": "markdown",
   "metadata": {},
   "source": [
    "8. Remove all of the vowels in a string. \n",
    "\n",
    "   Hint: make a list of the non-vowels. \n",
    "\n",
    "\n",
    "\n",
    "\n"
   ]
  },
  {
   "cell_type": "code",
   "execution_count": null,
   "metadata": {},
   "outputs": [],
   "source": [
    "teststring = \"When you reach the end of your rope, tie a knot in it and hang on.\""
   ]
  },
  {
   "cell_type": "code",
   "execution_count": null,
   "metadata": {},
   "outputs": [],
   "source": []
  },
  {
   "cell_type": "markdown",
   "metadata": {},
   "source": [
    "9. Find the capital letters (and not white space) in the sentence `\"The Way To Get Started Is To Quit Talking And Begin Doing.\"`. \n"
   ]
  },
  {
   "cell_type": "code",
   "execution_count": null,
   "metadata": {},
   "outputs": [],
   "source": []
  },
  {
   "cell_type": "markdown",
   "metadata": {},
   "source": [
    "10. Find all the consonants in the sentence `\"Tell me and I forget. Teach me and I remember. Involve me and I learn.\"`.\n"
   ]
  },
  {
   "cell_type": "code",
   "execution_count": null,
   "metadata": {},
   "outputs": [],
   "source": []
  },
  {
   "cell_type": "markdown",
   "metadata": {},
   "source": [
    "11. Create 4 lists of 10 random numbers between 0 and 100 each. \n",
    "\n",
    "**You will probably need to import random module.**\n",
    "\n"
   ]
  },
  {
   "cell_type": "code",
   "execution_count": null,
   "metadata": {},
   "outputs": [],
   "source": []
  },
  {
   "cell_type": "markdown",
   "metadata": {},
   "source": [
    "### Exercise 2. "
   ]
  },
  {
   "cell_type": "markdown",
   "metadata": {},
   "source": [
    "1. Flatten the following list of lists of lists to a one dimensional list :\n",
    "```python\n",
    "expected output:\n",
    "[1, 2, 3, 4, 5, 6, 7, 8, 9]\n",
    "```"
   ]
  },
  {
   "cell_type": "code",
   "execution_count": null,
   "metadata": {},
   "outputs": [],
   "source": [
    "list_of_lists =[[1, 2, 3], [4, 5, 6], [7, 8, 9]]"
   ]
  },
  {
   "cell_type": "code",
   "execution_count": null,
   "metadata": {},
   "outputs": [],
   "source": []
  },
  {
   "cell_type": "markdown",
   "metadata": {},
   "source": [
    "2. Flatten the following list to a new list, and capitalize the elements of the new list:\n",
    "```python\n",
    "expected output:\n",
    "['SPAIN', 'MADRID', 'FRANCE', 'PARIS', 'PORTUGAL', 'LISBON']\n",
    "```"
   ]
  },
  {
   "cell_type": "code",
   "execution_count": null,
   "metadata": {},
   "outputs": [],
   "source": [
    "countries = [[('Spain', 'Madrid')], [('France', 'Paris')], [('Portugal', 'Lisbon')]]"
   ]
  },
  {
   "cell_type": "code",
   "execution_count": null,
   "metadata": {},
   "outputs": [],
   "source": []
  },
  {
   "cell_type": "markdown",
   "metadata": {},
   "source": [
    "3. Change the `countries` list to a list of dictionaries:\n",
    "```python\n",
    "expected output:\n",
    "[{'country': 'SPAIN', 'city': 'MADRID'},\n",
    "{'country': 'FRANCE', 'city': 'PARIS'},\n",
    "{'country': 'PORTUGAL', 'city': 'LISBON'}]\n",
    "```"
   ]
  },
  {
   "cell_type": "code",
   "execution_count": null,
   "metadata": {},
   "outputs": [],
   "source": []
  },
  {
   "cell_type": "markdown",
   "metadata": {},
   "source": [
    "4. Change the following list of lists to a list of concatenated strings:\n",
    "```python\n",
    "expected output:\n",
    "['Gabriel Vazquez', 'Clara Piniella', 'Diomedes Barbero']\n",
    "```"
   ]
  },
  {
   "cell_type": "code",
   "execution_count": null,
   "metadata": {},
   "outputs": [],
   "source": [
    "names = [[('Gabriel', 'Vazquez')], [('Clara', 'Piniella')], [('Diomedes', 'Barbero')]]"
   ]
  },
  {
   "cell_type": "code",
   "execution_count": null,
   "metadata": {},
   "outputs": [],
   "source": []
  },
  {
   "cell_type": "markdown",
   "metadata": {},
   "source": [
    "5. Convert the numbers of the following nested list to floats. Use **floats_list** as the name of the list. "
   ]
  },
  {
   "cell_type": "code",
   "execution_count": null,
   "metadata": {},
   "outputs": [],
   "source": [
    "big_list_of_lists = [['40', '20', '10', '30'], ['20', '20', '20', '20', '20', '30', '20'], \\\n",
    "['30', '20', '30', '50', '10', '30', '20', '20', '20'], ['100', '100'], ['100', '100', '100', '100', '100'], \\\n",
    "['100', '100', '100', '100']]"
   ]
  },
  {
   "cell_type": "code",
   "execution_count": null,
   "metadata": {},
   "outputs": [],
   "source": []
  },
  {
   "cell_type": "markdown",
   "metadata": {},
   "source": [
    "6. Using list comprehension create the following list of tuples:\n",
    "```python\n",
    "expected output: \n",
    "[(0, 1, 0, 0, 0, 0, 0),\n",
    "(1, 1, 1, 1, 1, 1, 1),\n",
    "(2, 1, 2, 4, 8, 16, 32),\n",
    "(3, 1, 3, 9, 27, 81, 243),\n",
    "(4, 1, 4, 16, 64, 256, 1024),\n",
    "(5, 1, 5, 25, 125, 625, 3125),\n",
    "(6, 1, 6, 36, 216, 1296, 7776),\n",
    "(7, 1, 7, 49, 343, 2401, 16807),\n",
    "(8, 1, 8, 64, 512, 4096, 32768),\n",
    "(9, 1, 9, 81, 729, 6561, 59049),\n",
    "(10, 1, 10, 100, 1000, 10000, 100000)]\n",
    "```\n",
    "\n",
    "\n"
   ]
  },
  {
   "cell_type": "code",
   "execution_count": null,
   "metadata": {},
   "outputs": [],
   "source": []
  },
  {
   "cell_type": "markdown",
   "metadata": {},
   "source": [
    "### Exercise 3. "
   ]
  },
  {
   "cell_type": "markdown",
   "metadata": {},
   "source": [
    "1. First, create a range from 100 to 160 with steps of 10.\n",
    "   Second, using **dict comprehension**, create a dictionary where each number in the range is the key and each item divided by 100 is the value."
   ]
  },
  {
   "cell_type": "code",
   "execution_count": null,
   "metadata": {},
   "outputs": [],
   "source": []
  },
  {
   "cell_type": "markdown",
   "metadata": {},
   "source": [
    "2. Using **dict comprehension** and a conditional argument create a dictionary from `curr_dict` where only the key:value pairs with value above 2000 are taken to the new dictionary.\n",
    "    "
   ]
  },
  {
   "cell_type": "code",
   "execution_count": null,
   "metadata": {},
   "outputs": [],
   "source": [
    "curr_dict = {\"Netflix\":4950,\"HBO\":2400,\"Amazon\":1800, \"Movistar\":1700}"
   ]
  },
  {
   "cell_type": "code",
   "execution_count": null,
   "metadata": {},
   "outputs": [],
   "source": []
  },
  {
   "cell_type": "markdown",
   "metadata": {},
   "source": [
    "3. Create a function that receives two lists `list1` and `list2` by parameter and returns a dictionary with each element of `list1` as keys and the elements of `list2` as values. This time use **dict comprehension** to do so.  "
   ]
  },
  {
   "cell_type": "code",
   "execution_count": null,
   "metadata": {},
   "outputs": [],
   "source": []
  },
  {
   "cell_type": "markdown",
   "metadata": {},
   "source": [
    "### Bonus Track. "
   ]
  },
  {
   "cell_type": "markdown",
   "metadata": {},
   "source": [
    "To solve this exercise you can either use `for/while` or try to solve it using both. From now on you should be able to find out whether to use for or while. "
   ]
  },
  {
   "cell_type": "markdown",
   "metadata": {},
   "source": [
    "1. Define a function `string_greater_5` that receives as a parameter `whichever_list`. You must go through `whichever_list` transforming each element into a string and, if the size of the string is longer than 5, the loop must stop. The function must return the first element which is a string longer than 5. Pass as an argument `info_list` when you call the function `string_greater_5`."
   ]
  },
  {
   "cell_type": "code",
   "execution_count": null,
   "metadata": {},
   "outputs": [],
   "source": [
    "# you can use this list or take yours from Practice 3\n",
    "info_list = [15, 'Recoletos', True, ['Recoletos', 15],  None, '8'] "
   ]
  },
  {
   "cell_type": "markdown",
   "metadata": {},
   "source": [
    "2. Define a function `list_consecutive` that receives as a parameter `limit`. It should return a list with numbers starting at 0 and ending at the `limit` number. When calling the function `limit` will be 18.\n"
   ]
  },
  {
   "cell_type": "code",
   "execution_count": null,
   "metadata": {},
   "outputs": [],
   "source": []
  },
  {
   "cell_type": "markdown",
   "metadata": {},
   "source": [
    "3. Define a function called `position_15`. This gets two parameters, `some_function` and `whichever_list`. `position_15` should return the element in 15th position of the list that `some_function` returns. Pass to `some_function` the `list_consecutive` function as the value of the argument. \n",
    "\n",
    "   You should call the function `some_function` inside `position_15` and give it the lenght of `whichever_list` multiply by 2 as an argument. \n",
    "\n",
    "```python\n",
    "# example:\n",
    "position_15(some_function = list_consecutive,\n",
    "                whichever_list = info_list)\n",
    "``` "
   ]
  },
  {
   "cell_type": "code",
   "execution_count": null,
   "metadata": {},
   "outputs": [],
   "source": []
  },
  {
   "cell_type": "markdown",
   "metadata": {},
   "source": [
    "### Bonus Track of the Bonus Track. \n",
    "\n",
    "1. Make a Python program that, from the strings `\" | \"` and `\" _ \"`, shows an 8x8 **chessboard** on the screen.\n",
    "\n",
    "   Develop the program in a `.py` file that will be run through the terminal. \n",
    " \n",
    "   From the folder that contains the corresponding `.py`, it will be executed with the following command:` python3 program_name.py`"
   ]
  },
  {
   "cell_type": "code",
   "execution_count": null,
   "metadata": {},
   "outputs": [],
   "source": []
  },
  {
   "cell_type": "markdown",
   "metadata": {},
   "source": [
    "!['togood'](https://i.pinimg.com/originals/de/f5/2f/def52fe41d695d8feebd2cdc194da929.png)"
   ]
  },
  {
   "cell_type": "code",
   "execution_count": null,
   "metadata": {},
   "outputs": [],
   "source": []
  }
 ],
 "metadata": {
  "kernelspec": {
   "display_name": "Python 3",
   "language": "python",
   "name": "python3"
  },
  "language_info": {
   "codemirror_mode": {
    "name": "ipython",
    "version": 3
   },
   "file_extension": ".py",
   "mimetype": "text/x-python",
   "name": "python",
   "nbconvert_exporter": "python",
   "pygments_lexer": "ipython3",
   "version": "3.8.3"
  }
 },
 "nbformat": 4,
 "nbformat_minor": 4
}
