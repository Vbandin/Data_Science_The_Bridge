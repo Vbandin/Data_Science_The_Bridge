{
 "cells": [
  {
   "cell_type": "markdown",
   "metadata": {},
   "source": [
    "# Ejercicios funciones\n",
    "## Ejercicio 1\n",
    "Escribe una función que convierta números del 1 al 7 en nombres de los dias de la semana. La función constará de un único argumento numérico y una salida de tipo string"
   ]
  },
  {
   "cell_type": "code",
   "execution_count": 4,
   "metadata": {},
   "outputs": [
    {
     "name": "stdout",
     "output_type": "stream",
     "text": [
      "Introduce un numero del 1 al 7\n",
      "None\n"
     ]
    }
   ],
   "source": [
    "def dias_semana(num):\n",
    "    if num == 1:\n",
    "        print('Lunes')\n",
    "    elif num == 2:\n",
    "        print('Martes')\n",
    "    elif num == 3:\n",
    "        print('Miercoles')\n",
    "    elif num == 4:\n",
    "        print('Jueves')\n",
    "    elif num == 5:\n",
    "        print('Viernes')\n",
    "    elif num == 6:\n",
    "        print('Sabado')\n",
    "    elif num == 7:\n",
    "        print('Domingo')\n",
    "    else:\n",
    "        print('Introduce un numero del 1 al 7')\n",
    "        \n",
    "print(dias_semana(8))"
   ]
  },
  {
   "cell_type": "markdown",
   "metadata": {},
   "source": [
    "## Ejercicio 2\n",
    "Implementa una función que imprima una pirámide como la siguiente\n",
    "\n",
    "5 4 3 2 1  \n",
    "4 3 2 1  \n",
    "3 2 1  \n",
    "2 1  \n",
    "1  \n",
    "\n",
    "de altura variable según el argumento de entrada que indiquemos (en el ejemplo la altura sería 5)"
   ]
  },
  {
   "cell_type": "code",
   "execution_count": 51,
   "metadata": {},
   "outputs": [
    {
     "name": "stdout",
     "output_type": "stream",
     "text": [
      "Introduce un número: 5\n",
      "5 4 3 2 1\n",
      "4 3 2 1\n",
      "3 2 1\n",
      "2 1\n",
      "1\n"
     ]
    }
   ],
   "source": [
    "#Se crea la función\n",
    "def piramide(num):\n",
    "    for k in range(num, 0 , -1):\n",
    "        print(*range(num, 0 , -1))\n",
    "        num -= 1\n",
    "        \n",
    "num = int(input(\"Introduce un número: \"))\n",
    "piramide(num)"
   ]
  },
  {
   "cell_type": "code",
   "execution_count": 52,
   "metadata": {},
   "outputs": [
    {
     "name": "stdout",
     "output_type": "stream",
     "text": [
      "Introduce un número: 5\n",
      "5 4 3 2 1 \n",
      "4 3 2 1 \n",
      "3 2 1 \n",
      "2 1 \n",
      "1 \n"
     ]
    }
   ],
   "source": [
    "def piramide(altura):\n",
    "    lista = list(range(1, altura+1))\n",
    "    lista.reverse()\n",
    "    while len(lista)>0:\n",
    "        txt = \"\"\n",
    "        for k in lista:\n",
    "            txt += str(k) + \" \"\n",
    "        print(txt)\n",
    "        lista.pop(0)\n",
    "        \n",
    "num = int(input(\"Introduce un número: \"))\n",
    "piramide(num)"
   ]
  },
  {
   "cell_type": "markdown",
   "metadata": {},
   "source": [
    "## Ejercicio 3\n",
    "Escibe una función que compare dos números. La función tiene dos argumentos y hay tres salidas posibles: que sean iguales, que el primero se  mayor que el segundo, o que el segundo sea mayor que el primero"
   ]
  },
  {
   "cell_type": "code",
   "execution_count": 8,
   "metadata": {},
   "outputs": [
    {
     "name": "stdout",
     "output_type": "stream",
     "text": [
      "Son iguales\n"
     ]
    }
   ],
   "source": [
    "def compara(x,y):\n",
    "    if x == y:\n",
    "        return print('Son iguales')\n",
    "    elif x > y:\n",
    "        return print('El primer número es mayor')\n",
    "    elif x < y:\n",
    "        return print('El segundo número es mayor')\n",
    "\n",
    "compara(8,8)"
   ]
  },
  {
   "cell_type": "markdown",
   "metadata": {},
   "source": [
    "## Ejercicio 4\n",
    "Escribe una función que sea un contador de letras. En el primer argumento tienes que introducir un texto, y el segundo que sea la letra a contar. La función tiene que devolver un entero con el número de veces que aparece esa letra, tanto mayuscula, como minúscula"
   ]
  },
  {
   "cell_type": "code",
   "execution_count": 21,
   "metadata": {},
   "outputs": [
    {
     "data": {
      "text/plain": [
       "2"
      ]
     },
     "execution_count": 21,
     "metadata": {},
     "output_type": "execute_result"
    }
   ],
   "source": [
    "def contador(texto,letra):\n",
    "        texto = texto.lower()\n",
    "        letra = letra.lower()\n",
    "        return texto.count(letra)\n",
    "\n",
    "contador('Bootcamp','o')"
   ]
  },
  {
   "cell_type": "code",
   "execution_count": 18,
   "metadata": {},
   "outputs": [],
   "source": [
    "palabra = 'coco'\n",
    "letra = 'c'\n",
    "contador = 0\n",
    "\n",
    "def cuenta_letras(palabra,letra):\n",
    "    contador = 0\n",
    "    for l in palabra:\n",
    "        if l == letra:\n",
    "            contador = contador + 1\n",
    "    return contador"
   ]
  },
  {
   "cell_type": "code",
   "execution_count": 20,
   "metadata": {},
   "outputs": [
    {
     "data": {
      "text/plain": [
       "0"
      ]
     },
     "execution_count": 20,
     "metadata": {},
     "output_type": "execute_result"
    }
   ],
   "source": [
    "cuenta_letras('juancho','i')"
   ]
  },
  {
   "cell_type": "markdown",
   "metadata": {},
   "source": [
    "## Ejercicio 5\n",
    "Escribe una función que tenga un único argumento, un string. La salida de la función tiene que ser un diccionario con el conteo de todas las letras de ese string."
   ]
  },
  {
   "cell_type": "code",
   "execution_count": 24,
   "metadata": {},
   "outputs": [
    {
     "name": "stdout",
     "output_type": "stream",
     "text": [
      "abcdefghijklmnopqrstuvwxyz\n",
      "{'e': 2, 'n': 3, ' ': 5, 'u': 2, 'l': 2, 'g': 1, 'a': 4, 'r': 1, 'd': 1, 'm': 1, 'c': 1, 'h': 1}\n"
     ]
    }
   ],
   "source": [
    "import string\n",
    "\n",
    "print(string.ascii_lowercase)\n",
    "\n",
    "type(string.ascii_lowercase)\n",
    "\n",
    "string.ascii_lowercase.split()\n",
    "\n",
    "def contador_letras(texto):\n",
    "    texto = texto.lower()\n",
    "    dic = {}\n",
    "    for i in texto:\n",
    "        dic[i] = texto.count(i)\n",
    "    return print(dic)\n",
    "\n",
    "contador_letras('En un Lugar de La MANCHA')"
   ]
  },
  {
   "cell_type": "code",
   "execution_count": null,
   "metadata": {},
   "outputs": [],
   "source": [
    "def contador(texto):\n",
    "    diccionario = {}\n",
    "    \n",
    "    for letra in texto:\n",
    "        diccionario[letra = diccionario.get(letra,0)+1]"
   ]
  },
  {
   "cell_type": "markdown",
   "metadata": {},
   "source": [
    "## Ejercicio 6\n",
    "Escribir una función que añada o elimine elementos en una lista. La función necesita los siguientes argumentos:\n",
    "* lista: la lista donde se añadirán o eliminarán los elementos\n",
    "* comando: \"add\" o \"remove\"\n",
    "* elemento: Por defecto es None."
   ]
  },
  {
   "cell_type": "code",
   "execution_count": 3,
   "metadata": {},
   "outputs": [
    {
     "name": "stdout",
     "output_type": "stream",
     "text": [
      "[1, 2, 3, 4, 5, 6]\n"
     ]
    }
   ],
   "source": [
    "def funcion(lista,comando,elemento=None):\n",
    "    if comando == 'add':\n",
    "        lista.append(elemento)\n",
    "        print(lista)\n",
    "            \n",
    "    if comando == 'remove' and elemento in lista:\n",
    "        lista.remove(elemento)\n",
    "        print(lista)\n",
    "\n",
    "funcion([1,2,3,4,5],'add',6)\n",
    "\n",
    "funcion(['lunes','martes','miercoles','jueves'],'remove','viernes')\n"
   ]
  },
  {
   "cell_type": "code",
   "execution_count": 6,
   "metadata": {},
   "outputs": [
    {
     "data": {
      "text/plain": [
       "[1, 2, 4]"
      ]
     },
     "execution_count": 6,
     "metadata": {},
     "output_type": "execute_result"
    }
   ],
   "source": [
    "lista = [1,2,3,4]\n",
    "comando = 'remove'\n",
    "elemento = 3\n",
    "\n",
    "def lista_programa(lista,comando,elemento):\n",
    "    if comando ==\"add\":\n",
    "        lista.append(elemento)\n",
    "\n",
    "    elif comando =='remove' and elemento in lista:\n",
    "        lista2 = lista.copy()    \n",
    "        for el in lista2:\n",
    "            if el == elemento:\n",
    "                lista.remove(el)\n",
    "    else:\n",
    "        print('error')\n",
    "    return lista\n",
    "\n",
    "lista_programa(lista,comando,elemento)"
   ]
  },
  {
   "cell_type": "markdown",
   "metadata": {},
   "source": [
    "## Ejercicio 7\n",
    "Crea una función que reciba un número arbitrario de palabras, y devuelva una frase completa, separando las palabras con espacios."
   ]
  },
  {
   "cell_type": "code",
   "execution_count": 26,
   "metadata": {},
   "outputs": [
    {
     "name": "stdout",
     "output_type": "stream",
     "text": [
      "mariposa oruga abeja\n"
     ]
    }
   ],
   "source": [
    "def construye_frase(*palabra):\n",
    "    frase = []\n",
    "    for i in palabra:\n",
    "        frase.append(i)\n",
    "    return print(' '.join(frase))\n",
    "\n",
    "construye_frase('mariposa','oruga','abeja')"
   ]
  },
  {
   "cell_type": "markdown",
   "metadata": {},
   "source": [
    "## Ejercicio 8\n",
    "Escribe un programa que obtenga el n-ésimo número de la [serie de Fibonacci](https://es.wikipedia.org/wiki/Sucesi%C3%B3n_de_Fibonacci). Tienes que crear una función recursiva con un único argumento.\n",
    "\n",
    "```Python\n",
    "fibonacci(2) = 1\n",
    "fibonacci(4) = 3\n",
    "fibonacci(5) = 5\n",
    "fibonacci(8) = 21\n",
    "```"
   ]
  },
  {
   "cell_type": "code",
   "execution_count": 10,
   "metadata": {},
   "outputs": [],
   "source": [
    "def fibonacci(num):\n",
    "    if num == 0:\n",
    "        return 0\n",
    "    elif num==1:\n",
    "        return 1\n",
    "    else:\n",
    "        return fibonacci(num-1)+fibonacci(num-2)\n",
    "    "
   ]
  },
  {
   "cell_type": "code",
   "execution_count": 12,
   "metadata": {},
   "outputs": [
    {
     "data": {
      "text/plain": [
       "21"
      ]
     },
     "execution_count": 12,
     "metadata": {},
     "output_type": "execute_result"
    }
   ],
   "source": [
    "fibonacci(8)"
   ]
  },
  {
   "cell_type": "markdown",
   "metadata": {},
   "source": [
    "## Ejercicio 9\n",
    "Define en una única celda las siguientes funciones:\n",
    "* Función que calcule el área de un cuadrado\n",
    "* Función que calcule el area de un triángulo\n",
    "* Función que calcule el área de un círculo\n",
    "\n",
    "En otra celda, calcular el area de:\n",
    "* Dos círculos de radio 10 + un triángulo de base 3 y altura 7\n",
    "* Un cuadrado de lado = 10 + 3 círculos (uno de radio = 4 y los otros dos de radio = 6) + 5 triángulos de base = 2 + altura = 4"
   ]
  },
  {
   "cell_type": "code",
   "execution_count": 21,
   "metadata": {},
   "outputs": [
    {
     "data": {
      "text/plain": [
       "50.26548245743669"
      ]
     },
     "execution_count": 21,
     "metadata": {},
     "output_type": "execute_result"
    }
   ],
   "source": [
    "import math\n",
    "\n",
    "def area_cuadrado(lado):\n",
    "    return lado**2\n",
    "\n",
    "area_cuadrado(3)\n",
    "\n",
    "def area_triangulo(base,altura):\n",
    "    return base*altura/2\n",
    "\n",
    "area_triangulo(3,4)\n",
    "\n",
    "def area_circulo(radio):\n",
    "    return math.pi * radio**2\n",
    "\n",
    "area_circulo(4)"
   ]
  },
  {
   "cell_type": "code",
   "execution_count": 23,
   "metadata": {},
   "outputs": [
    {
     "name": "stdout",
     "output_type": "stream",
     "text": [
      "638.8185307179587\n",
      "396.4601535159018\n"
     ]
    }
   ],
   "source": [
    "print((area_circulo(10)*2)+area_triangulo(3,7))\n",
    "\n",
    "print(area_cuadrado(10)+(area_circulo(6)*2)+area_circulo(4)+(area_triangulo(2,4)*5))\n"
   ]
  },
  {
   "cell_type": "markdown",
   "metadata": {},
   "source": [
    "## Ejercicio 10\n",
    "Solicitar al usuario que ingrese su dirección email. Imprimir un mensaje indicando si la dirección es válida o no, valiéndose de una función para decidirlo. Una dirección se considerará válida si contiene el símbolo \"@\"."
   ]
  },
  {
   "cell_type": "code",
   "execution_count": 35,
   "metadata": {},
   "outputs": [
    {
     "name": "stdout",
     "output_type": "stream",
     "text": [
      "Introduzca su email: victor@@test.es\n",
      "La dirección de correo no es valida\n"
     ]
    }
   ],
   "source": [
    "email = input('Introduzca su email: ')\n",
    "\n",
    "def valida_email(email):\n",
    "    if email.count('@') == 1:\n",
    "        return print('La dirección de correo es valida')\n",
    "    else:\n",
    "        return print('La dirección de correo no es valida')\n",
    "    \n",
    "valida_email(email)"
   ]
  },
  {
   "cell_type": "code",
   "execution_count": 27,
   "metadata": {},
   "outputs": [
    {
     "name": "stdout",
     "output_type": "stream",
     "text": [
      "Introduzca su email: victor.com\n",
      "La dirección de correo no es valida\n"
     ]
    }
   ],
   "source": [
    "email = input('Introduzca su email: ')\n",
    "\n",
    "def valida_email2(email):\n",
    "    if '@' in email:\n",
    "        return print('La dirección de correo es valida')\n",
    "    else:\n",
    "        return print('La dirección de correo no es valida')\n",
    "    \n",
    "valida_email2(email)"
   ]
  },
  {
   "cell_type": "markdown",
   "metadata": {},
   "source": [
    "## Ejercicio 11\n",
    "Escribe una función que compruebe si un DNI es válido, devolviendo `True` en caso afirmativo.  \n",
    "En primer lugar, el DNI debe tener entre 7 y 8 dígitos numéricos.  \n",
    "Para saber si la letra del DNI es correcta puedes utilizar el siguiente fragmento de código:\n",
    ">```Python\n",
    ">DNI= 55555555\n",
    ">palabra='TRWAGMYFPDXBNJZSQVHLCKE'\n",
    ">print('La letra del DNI es: ', palabra[DNI%23])\n",
    ">````\n"
   ]
  },
  {
   "cell_type": "code",
   "execution_count": 7,
   "metadata": {},
   "outputs": [
    {
     "name": "stdout",
     "output_type": "stream",
     "text": [
      "Introduzca los números de su DNI: 7777777\n",
      "Introduzca la letra de su DNI: e\n"
     ]
    }
   ],
   "source": [
    "dni = input('Introduzca los números de su DNI: ')\n",
    "\n",
    "palabra='TRWAGMYFPDXBNJZSQVHLCKE'\n",
    "\n",
    "def valida_dni(dni):\n",
    "    if len(dni) >=7 and len(dni) < 9:\n",
    "        letra = input('Introduzca la letra de su DNI: ')\n",
    "        \n",
    "        if letra == palabra[int(dni)%23]:\n",
    "            return print(True)\n",
    "    else:\n",
    "        return print(False)\n",
    "    \n",
    "valida_dni(dni)"
   ]
  },
  {
   "cell_type": "code",
   "execution_count": 6,
   "metadata": {},
   "outputs": [
    {
     "name": "stdout",
     "output_type": "stream",
     "text": [
      "5\n"
     ]
    }
   ],
   "source": [
    "print(7777777%23)"
   ]
  },
  {
   "cell_type": "code",
   "execution_count": 49,
   "metadata": {},
   "outputs": [],
   "source": [
    "def check_dni(dni):\n",
    "    '''\n",
    "    Función que comprueba si un dni es valido.\n",
    "    Input:\n",
    "        dni: str\n",
    "    Output:\n",
    "        bool\n",
    "    '''\n",
    "    palabra='TRWAGMYFPDXBNJZSQVHLCKE'\n",
    "    numero = dni[0:-1]\n",
    "    if len(numero) ==7 or len(numero) ==8:\n",
    "        letra = dni[-1]\n",
    "        resto = int(numero)%23\n",
    "        letra_correcta = palabra[resto]\n",
    "        if letra == letra_correcta:\n",
    "            return True\n",
    "        else:\n",
    "            return False\n",
    "    else:\n",
    "        return False"
   ]
  },
  {
   "cell_type": "code",
   "execution_count": 50,
   "metadata": {},
   "outputs": [
    {
     "data": {
      "text/plain": [
       "True"
      ]
     },
     "execution_count": 50,
     "metadata": {},
     "output_type": "execute_result"
    }
   ],
   "source": [
    "check_dni('51233982X')"
   ]
  },
  {
   "cell_type": "code",
   "execution_count": null,
   "metadata": {},
   "outputs": [],
   "source": []
  }
 ],
 "metadata": {
  "kernelspec": {
   "display_name": "Python 3 (ipykernel)",
   "language": "python",
   "name": "python3"
  },
  "language_info": {
   "codemirror_mode": {
    "name": "ipython",
    "version": 3
   },
   "file_extension": ".py",
   "mimetype": "text/x-python",
   "name": "python",
   "nbconvert_exporter": "python",
   "pygments_lexer": "ipython3",
   "version": "3.10.4"
  }
 },
 "nbformat": 4,
 "nbformat_minor": 4
}
