{
 "cells": [
  {
   "cell_type": "markdown",
   "metadata": {},
   "source": [
    "# Ejercicios Clases y Objetos"
   ]
  },
  {
   "cell_type": "markdown",
   "metadata": {},
   "source": [
    "## Ejercicio 1\n",
    "Somos una empresa que tiene varias tiendas de electrodomesticos. Necesitamos un programa para manejar las tiendas, ver las ventas que han tenido, cuántos empleados hay, etc... Para ello vamos a modelizar la tienda en una clase, que tendrá las siguientes características:\n",
    "* Nombre clase: \"Tienda\"\n",
    "* Atributos comunes:\n",
    "    * Tipo: \"Electrodomésticos\"\n",
    "    * Abierta: True\n",
    "* Atributos propios de cada tienda:\n",
    "    * Nombre - String\n",
    "    * Dirección - String\n",
    "    * Número de empleados - int\n",
    "    * Ventas ultimos 3 meses - Lista de 3 numeros\n",
    "* Método para calcular las ventas de todos los meses, que devuelva un numero con todas las ventas.\n",
    "* Método que calcula la media de ventas de los ultimos meses, por empleado\n",
    "* Método que devuelve en un string el nombre de la tienda, junto con su dirección.\n",
    "* Método que obtiene las ventas del último mes.\n",
    "* Método para dar una proyección de las ventas en caso de haber invertido X dinero en marketing en esa tienda. Siendo X el parámetro de entrada. Si X es menor de 1000, las ventas de los ultimos 3 meses hubiesen sido de (1.2 x ventas), si es mayor o igual de 1000, las ventas hubiesen sido de (1.5 x venta). El método reescribe el atributo de ventas en los últimos 3 meses, y además devuelve las ventas con el aumento.\n",
    "\n",
    "Se pide:\n",
    "1. Implementar la clase \"Tienda\"\n",
    "2. Crear tres tiendas con datos inventados\n",
    "3. Comprueba en al menos una de ellas, todo lo implementado en la clase tienda (sus atributos, media de ventas, ventas/empleado...)\n",
    "3. Calcular las ventas del último mes de todas las tiendas. Para ello usa el bucle `for`\n",
    "4. Imprime por pantalla los nombres de las tiendas cuya dirección lleve el string \"Avenida\"\n",
    "5. Seguro que ya has hecho este apartado... Documenta la clase :)"
   ]
  },
  {
   "cell_type": "code",
   "execution_count": 1,
   "metadata": {},
   "outputs": [],
   "source": [
    "class Tienda:\n",
    "    '''\n",
    "    Clase con los componentes de una tienda de electrodomesticos\n",
    "    Atributos:\n",
    "        tipo = \"Electrodomestico\" -> str\n",
    "        abierta = True\n",
    "    '''\n",
    "    tipo = \"Electrodomésticos\"\n",
    "    abierta = True\n",
    "    \n",
    "    def __init__(self,nombre,direccion,num_empleados,ventas3meses):\n",
    "        '''\n",
    "        Elementos particulares de cada tienda\n",
    "        Input:\n",
    "            nombre: string\n",
    "            direccion:string\n",
    "            num_emp: int\n",
    "            ventas3meses: list\n",
    "        '''\n",
    "        self.nombre = nombre\n",
    "        self.direccion = direccion\n",
    "        self.num_empleados = num_empleados\n",
    "        self.ventas3meses = ventas3meses\n",
    "        \n",
    "    def tot_ventas(self):\n",
    "        '''\n",
    "        Metodo que suma todas las ventas\n",
    "        Output:\n",
    "            Total de ventas -> float/int\n",
    "        '''\n",
    "        return sum(self.ventas3meses)\n",
    "    \n",
    "    def vent_emp(self):\n",
    "        '''\n",
    "        Calcula la media de las ventas por empleado\n",
    "        Output:\n",
    "            float con la media\n",
    "        '''\n",
    "        \n",
    "        # Opcion 1\n",
    "        return sum(self.ventas3meses)/self.num_empleados\n",
    "        '''\n",
    "        # Opcion 2\n",
    "        return self.tot_ventas()/self.num_empleados\n",
    "        '''\n",
    "    def nombre_direc(self):\n",
    "        '''\n",
    "        Output:\n",
    "        '''\n",
    "        return \"Nombre tienda: \" + self.nombre + \"\\nDireccion: \" + self.direccion\n",
    "    \n",
    "    def ventas_ult_mes(self):\n",
    "        '''\n",
    "        Metodo para obtener las ventas de la tienda durante el mes anterior\n",
    "        Output:\n",
    "            ventas del ultimo mes -> int\n",
    "        '''\n",
    "        ventas_ult = self.ventas3meses[-1]\n",
    "        return ventas_ult\n",
    "\n",
    "    def proyect_mkt(self,marketing):\n",
    "        '''\n",
    "        Metodo para dar una proyeccion de las ventas en caso de haber invertido \n",
    "        en marketing.\n",
    "        Output:\n",
    "            lista con el resultado de aplicar el algoritmo -> list\n",
    "        '''\n",
    "        output = []\n",
    "        for v in self.ventas3meses:\n",
    "            if marketing < 1000:\n",
    "                output.append(v*1.2)\n",
    "            else:\n",
    "                output.append(v*1.5)\n",
    "                \n",
    "        self.ventas3meses = output\n",
    "        return output"
   ]
  },
  {
   "cell_type": "code",
   "execution_count": 2,
   "metadata": {},
   "outputs": [],
   "source": [
    "# Apartado 2\n",
    "\n",
    "tienda1 = Tienda(\"Mi tienda 1\",\n",
    "                 \"Avenida del electordoméstico 2\",\n",
    "                 3,\n",
    "                 [1000,2000,1500])\n",
    "\n",
    "tienda2 = Tienda(\"Mi tienda 2\",\n",
    "                 \"Calle de la batidora 23\",\n",
    "                 5,\n",
    "                 [2000,5000,1500])\n",
    "\n",
    "tienda3 = Tienda(\"Mi tienda 3\",\n",
    "                 \"Camino de la tablet 10\",\n",
    "                 10,\n",
    "                 [10000,6000,12000])"
   ]
  },
  {
   "cell_type": "code",
   "execution_count": 3,
   "metadata": {},
   "outputs": [
    {
     "name": "stdout",
     "output_type": "stream",
     "text": [
      "Electrodomésticos\n",
      "True\n",
      "Mi tienda 1\n",
      "Avenida del electordoméstico 2\n",
      "Avenida del electrodoméstico 56\n",
      "3\n",
      "\r\n",
      "4500\n",
      "1500.0\n",
      "Nombre tienda: Mi tienda 1\n",
      "Direccion: Avenida del electrodoméstico 56\n",
      "1500\n",
      "[1500.0, 3000.0, 2250.0]\n"
     ]
    }
   ],
   "source": [
    "# Apartado 3\n",
    "\n",
    "# Atributos\n",
    "\n",
    "print(tienda1.tipo)\n",
    "print(tienda1.abierta)\n",
    "print(tienda1.nombre)\n",
    "print(tienda1.direccion)\n",
    "tienda1.direccion = \"Avenida del electrodoméstico 56\"\n",
    "print(tienda1.direccion)\n",
    "print(tienda1.num_empleados)\n",
    "\n",
    "print('\\r')\n",
    "\n",
    "# Metodos\n",
    "\n",
    "print(tienda1.tot_ventas())\n",
    "print(tienda1.vent_emp())\n",
    "print(tienda1.nombre_direc())\n",
    "print(tienda1.ventas_ult_mes())\n",
    "print(tienda1.proyect_mkt(2000))"
   ]
  },
  {
   "cell_type": "code",
   "execution_count": 4,
   "metadata": {},
   "outputs": [
    {
     "data": {
      "text/plain": [
       "15750.0"
      ]
     },
     "execution_count": 4,
     "metadata": {},
     "output_type": "execute_result"
    }
   ],
   "source": [
    "# Apartado 4\n",
    "\n",
    "tot_tiendas = [tienda1, tienda2, tienda3]\n",
    "total_ventas = 0\n",
    "\n",
    "for tienda in tot_tiendas:\n",
    "    total_ventas += tienda.ventas_ult_mes()\n",
    "    \n",
    "total_ventas"
   ]
  },
  {
   "cell_type": "code",
   "execution_count": 6,
   "metadata": {},
   "outputs": [
    {
     "name": "stdout",
     "output_type": "stream",
     "text": [
      "Mi tienda 1\n"
     ]
    }
   ],
   "source": [
    "# Apartado 5\n",
    "\n",
    "for tienda in tot_tiendas:\n",
    "    if 'avenida' in tienda.direccion.lower():\n",
    "        print(tienda.nombre)"
   ]
  },
  {
   "cell_type": "code",
   "execution_count": 7,
   "metadata": {},
   "outputs": [],
   "source": [
    "class Tienda:\n",
    "    Tipo = \"Electrodomésticos\"\n",
    "    Abierta = True\n",
    "    # Constructor de la clase\n",
    "    def __init__(self, nombre_tienda, dir_tienda, empleados, ventas_3_meses):\n",
    "        # Atributos particulares de cada instancia\n",
    "        self.nombre = nombre_tienda\n",
    "        self.dir_tienda = dir_tienda\n",
    "        self.plantilla = empleados\n",
    "        self.ventas_trim = ventas_3_meses\n",
    "        \n",
    "    def ventas_totales(self):\n",
    "        suma_ventas = 0\n",
    "        for ventas in self.ventas_trim:\n",
    "            suma_ventas = float(suma_ventas + ventas)\n",
    "        return print(suma_ventas)\n",
    "    \n",
    "    def rev_empleado(self):\n",
    "        suma_ventas = 0\n",
    "        for ventas in self.ventas_trim:\n",
    "            suma_ventas = suma_ventas + ventas\n",
    "        return print((suma_ventas/3)/self.plantilla)    \n",
    "    def datos_tienda(self):\n",
    "        return print(self.nombre,self.dir_tienda)\n",
    "    def ventas_mes(self):\n",
    "        return print(self.ventas_trim[-1])\n",
    "    #def proyeccion_ventas\n",
    "            "
   ]
  },
  {
   "cell_type": "code",
   "execution_count": 7,
   "metadata": {},
   "outputs": [],
   "source": [
    "rioShopping = Tienda('RioShopping','C/ Me falta un tornillo',5,[50000,60000,48000])"
   ]
  },
  {
   "cell_type": "code",
   "execution_count": 8,
   "metadata": {},
   "outputs": [
    {
     "data": {
      "text/plain": [
       "{'nombre': 'RioShopping',\n",
       " 'dir_tienda': 'C/ Me falta un tornillo',\n",
       " 'plantilla': 5,\n",
       " 'ventas_trim': [50000, 60000, 48000]}"
      ]
     },
     "execution_count": 8,
     "metadata": {},
     "output_type": "execute_result"
    }
   ],
   "source": [
    "vars(rioShopping)"
   ]
  },
  {
   "cell_type": "code",
   "execution_count": 9,
   "metadata": {},
   "outputs": [
    {
     "name": "stdout",
     "output_type": "stream",
     "text": [
      "158000.0\n"
     ]
    }
   ],
   "source": [
    "rioShopping.ventas_totales()"
   ]
  },
  {
   "cell_type": "code",
   "execution_count": 10,
   "metadata": {},
   "outputs": [
    {
     "name": "stdout",
     "output_type": "stream",
     "text": [
      "10533.333333333332\n"
     ]
    }
   ],
   "source": [
    "rioShopping.rev_empleado()"
   ]
  },
  {
   "cell_type": "code",
   "execution_count": 11,
   "metadata": {
    "scrolled": true
   },
   "outputs": [
    {
     "name": "stdout",
     "output_type": "stream",
     "text": [
      "RioShopping C/ Me falta un tornillo\n"
     ]
    }
   ],
   "source": [
    "rioShopping.datos_tienda()"
   ]
  },
  {
   "cell_type": "code",
   "execution_count": 12,
   "metadata": {},
   "outputs": [
    {
     "name": "stdout",
     "output_type": "stream",
     "text": [
      "48000\n"
     ]
    }
   ],
   "source": [
    "rioShopping.ventas_mes()"
   ]
  },
  {
   "cell_type": "markdown",
   "metadata": {},
   "source": [
    "## Ejercicio 2\n",
    "En este ejercicio vamos a implementar una clase *Perro* en Python. La clase tiene las siguientes características:\n",
    "* Cosas que sabemos seguro que tiene un perro\n",
    "    * Tiene 4 patas\n",
    "    * 2 orejas\n",
    "    * 2 ojos\n",
    "    * Una velocidad de 0. Por defecto, el perro está parado\n",
    "* Cuando se inicialice:\n",
    "    * El perro será de una determinada raza\n",
    "    * Por defecto tendrá pelo \"Marrón\", a no ser que se diga lo contrario.\n",
    "    * Por defecto no tendrá dueño, a no ser que se diga lo contrario.\n",
    "    \n",
    "* Dispondrá también de un método llamado andar, que tiene un argumento de entrada (aumento_velocidad). Este valor se le sumará a la velocidad que ya llevaba el perro.\n",
    "* Necesita otro método (parar), donde pondremos la velocidad a 0.\n",
    "* Otro método llamado \"ladrar\", que tendrá un argumento de entrada, y la salida será el siguiente string: \"GUAU!\" + el argumento de entrada.\n",
    "\n",
    "\n",
    "Se pide:\n",
    "* Implementa la clase *Perro*\n",
    "* Crea un objeto de tipo *Perro*, sin dueño\n",
    "* Comprueba que están bien todos sus atributos\n",
    "* Prueba que ande, y comprueba su velocidad\n",
    "* Páralo\n",
    "* Documenta la clase *Perro*"
   ]
  },
  {
   "cell_type": "code",
   "execution_count": 8,
   "metadata": {},
   "outputs": [],
   "source": [
    "class Perro:\n",
    "    num_patas = 4\n",
    "    num_orejas = 2\n",
    "    num_ojos = 2\n",
    "    velocidad = 0\n",
    "    \n",
    "    def __init__(self,raza,pelo=\"Marrón\",dueno=None):\n",
    "        self.raza = raza\n",
    "        self.pelo = pelo\n",
    "        self.dueno = dueno\n",
    "        \n",
    "    def andar(self,aumento_velocidad):\n",
    "        self.velocidad += aumento_velocidad\n",
    "        \n",
    "    def parar(self):\n",
    "        self.velocidad = 0\n",
    "        \n",
    "    def ladrar(self,mensaje):\n",
    "        return 'GUAU!, ' + mensaje"
   ]
  },
  {
   "cell_type": "code",
   "execution_count": 10,
   "metadata": {},
   "outputs": [
    {
     "name": "stdout",
     "output_type": "stream",
     "text": [
      "San Bernardo\n",
      "Marrón\n",
      "None\n",
      "0\n",
      "2\n",
      "0\n",
      "GUAU!, quiero comer\n"
     ]
    }
   ],
   "source": [
    "sanber = Perro(\"San Bernardo\")\n",
    "print(sanber.raza)\n",
    "print(sanber.pelo)\n",
    "print(sanber.dueno)\n",
    "print(sanber.velocidad)\n",
    "\n",
    "sanber.andar(2)\n",
    "print(sanber.velocidad)\n",
    "\n",
    "sanber.parar()\n",
    "print(sanber.velocidad)\n",
    "\n",
    "print(sanber.ladrar('quiero comer'))"
   ]
  },
  {
   "cell_type": "code",
   "execution_count": null,
   "metadata": {},
   "outputs": [],
   "source": []
  }
 ],
 "metadata": {
  "kernelspec": {
   "display_name": "Python 3 (ipykernel)",
   "language": "python",
   "name": "python3"
  },
  "language_info": {
   "codemirror_mode": {
    "name": "ipython",
    "version": 3
   },
   "file_extension": ".py",
   "mimetype": "text/x-python",
   "name": "python",
   "nbconvert_exporter": "python",
   "pygments_lexer": "ipython3",
   "version": "3.10.4"
  }
 },
 "nbformat": 4,
 "nbformat_minor": 4
}
