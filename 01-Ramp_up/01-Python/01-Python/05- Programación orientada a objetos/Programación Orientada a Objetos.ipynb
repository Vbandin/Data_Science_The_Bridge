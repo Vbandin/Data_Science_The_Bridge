{
 "cells": [
  {
   "cell_type": "markdown",
   "metadata": {},
   "source": [
    "![imagen](./img/python.jpg)"
   ]
  },
  {
   "cell_type": "markdown",
   "metadata": {},
   "source": [
    "# Clases y Objetos en Python\n",
    "\n",
    "\n",
    "Como sabes, Python es un lenguaje de programación orientado a objetos. ¿Esto qué es? El código se organiza en elementos denominados objetos, que vienen definidos por clases. Es una manera de expresar en lenguaje máquina cosas de la vida real.\n",
    "\n",
    "1. [Clases](#1.-Clases)\n",
    "1. [Atributos](#2.-Atributos)\n",
    "3. [Constructor](#3.-Constructor)\n",
    "4. [Métodos](#4.-Métodos)\n",
    "5. [Documentación](#5.-Documentación)\n",
    "6. [Resumen](#6.-Resumen)"
   ]
  },
  {
   "cell_type": "markdown",
   "metadata": {},
   "source": [
    "## 1. Clases\n",
    "Las clases son la manera que tenemos de describir los objetos. Hasta ahora hemos visto clases básicas que vienen incluidas en Python como *int*, *str* o clases algo más complejas como los *dict*. Pero, **¿y si queremos crear nuestros propios objetos?** En los lenguajes orientados a objetos tenemos la posibilidad de definir nuevos objetos que se asemejen más a nuestros casos de uso y hagan la programación más sencilla de desarrollar y entender.\n",
    "\n",
    "**Un número entero es un objeto de la clase *int* que posee unas características diferentes a un texto**, que es de la clase *str*. Por ejemplo, **¿cómo sabemos que un coche es un coche?** ¿qué características tiene? Los coches tienen una marca, una cantidad de caballos, hay unos automáticos, otros no… De esta manera traducimos a lenguaje de maquina, a programación, un concepto que tenemos nosotros muy claro e interiorizado.\n",
    " \n",
    "Hasta ahora, hemos visto varias clases, por ejemplo la clase *str*. Cuando veiamos el tipo de dato, Python imprimía por pantalla `str`. Y al ser `str`, tenía unas propiedades que no tenían otros objetos, como los métodos `upper()` o `lower()`.\n",
    "\n",
    "La sintaxis para crear una clase es:\n",
    "```Python\n",
    "class NombreClase:\n",
    "    # Cosas de la clase\n",
    "```\n",
    "\n",
    "Normalmente para el nombre de la clase se usa *CamelCase*, que quiere decir que se define en minúsculas, sin espacios ni guiones, y jugando con las mayúsculas para diferenciar palabras.\n",
    "\n",
    "Mira cómo es la [clase *built_in* de *String*](https://docs.python.org/3/library/stdtypes.html#str)"
   ]
  },
  {
   "cell_type": "code",
   "execution_count": 2,
   "metadata": {},
   "outputs": [],
   "source": [
    "class Coche:\n",
    "    # Cosas de la clase\n",
    "    pass"
   ]
  },
  {
   "cell_type": "markdown",
   "metadata": {},
   "source": [
    "La sentencia `pass` se usa para forzar el fin de la clase *Coche*. La hemos declarado, pero no lleva nada. Python demanda una definición de la clase y podemos ignorar esa demanda mediante la sentencia `pass`."
   ]
  },
  {
   "cell_type": "code",
   "execution_count": 3,
   "metadata": {},
   "outputs": [
    {
     "name": "stdout",
     "output_type": "stream",
     "text": [
      "<class 'type'>\n"
     ]
    }
   ],
   "source": [
    "print(type(Coche))"
   ]
  },
  {
   "cell_type": "markdown",
   "metadata": {},
   "source": [
    "Bien, coche es de tipo `type`, claro porque **no es un objeto con tal**, sino que es una clase. Cuando creemos coches, estos serán de clase *Coche*, es decir, de tipo *Coche*, por lo que tiene sentido que *Coche* sea de tipo `type`."
   ]
  },
  {
   "cell_type": "markdown",
   "metadata": {},
   "source": [
    "### Clase vs Objeto\n",
    "**La clase se usa para definir algo**. Al igual que con las funciones. Creamos el esqueleto de lo que será un objeto de esa clase. Por tanto, **una vez tengamos la clase definida, instanciaremos un objeto de esa clase**.  Es como crear el concepto de coche, con todas sus características y funcionalidades. Después, a lo largo del programa, podremos crear objetos de tipo coche, que se ajusten a lo definido en la clase coche. Cada coche tendrá una marca, una potencia, etc…"
   ]
  },
  {
   "cell_type": "code",
   "execution_count": 7,
   "metadata": {},
   "outputs": [
    {
     "name": "stdout",
     "output_type": "stream",
     "text": [
      "<__main__.Coche object at 0x00000199F48F10F0>\n",
      "<class '__main__.Coche'>\n"
     ]
    }
   ],
   "source": [
    "primer_coche = Coche()\n",
    "print(primer_coche)\n",
    "print(type(primer_coche))"
   ]
  },
  {
   "cell_type": "markdown",
   "metadata": {},
   "source": [
    "Ahora sí tenemos un objeto de tipo Coche, que se llama `primer_coche`. Cuando imprimimos su tipo, vemos que es de tipo Coche, y cuando lo imprimes el objeto por pantalla, simplemente nos dice su tipo y un identificador.\n",
    "\n",
    "Podremos crear todos los coches que queramos"
   ]
  },
  {
   "cell_type": "code",
   "execution_count": 8,
   "metadata": {},
   "outputs": [
    {
     "name": "stdout",
     "output_type": "stream",
     "text": [
      "<__main__.Coche object at 0x00000199F490A7D0>\n",
      "<class '__main__.Coche'>\n",
      "False\n"
     ]
    }
   ],
   "source": [
    "citroen = Coche()\n",
    "seat = Coche()\n",
    "\n",
    "print(citroen)\n",
    "print(type(citroen))\n",
    "\n",
    "print(citroen == seat)"
   ]
  },
  {
   "cell_type": "markdown",
   "metadata": {},
   "source": [
    "De momento todos nuestros coches son iguales, no hemos definido bien la clase, por lo que va a ser difícil diferenciar un coche de otro. Vamos a ver cómo lograr esa diferenciación."
   ]
  },
  {
   "cell_type": "markdown",
   "metadata": {},
   "source": [
    "![imagen](./img/dogs.jpg)"
   ]
  },
  {
   "cell_type": "markdown",
   "metadata": {},
   "source": [
    "## 2. Atributos\n",
    "Son las **características que definen a los objetos de una clase**. La marca, el color, potencia del coche. Estos son atributos, que se definen de manera genérica en la clase y luego cada objeto *Coche* tendrá un valor para cada uno de sus atributos.\n",
    "\n",
    "Los atributos los definimos tras la declaración de la clase. Y luego se accede a ellos mediante la sintaxis `objeto.atributo`\n",
    "\n",
    "Vamos a empezar a definir atributos en los coches."
   ]
  },
  {
   "cell_type": "code",
   "execution_count": 9,
   "metadata": {},
   "outputs": [],
   "source": [
    "class Coche:\n",
    "    puertas = 4\n",
    "    ruedas = 4"
   ]
  },
  {
   "cell_type": "markdown",
   "metadata": {},
   "source": [
    "Ahora todos los coches que creamos, tendrán 4 puertas y 4 ruedas."
   ]
  },
  {
   "cell_type": "code",
   "execution_count": 12,
   "metadata": {},
   "outputs": [
    {
     "name": "stdout",
     "output_type": "stream",
     "text": [
      "4\n",
      "4\n",
      "4\n",
      "4\n"
     ]
    }
   ],
   "source": [
    "citroen = Coche()\n",
    "print(citroen.puertas)\n",
    "print(citroen.ruedas)\n",
    "\n",
    "seat = Coche()\n",
    "print(seat.puertas)\n",
    "print(seat.ruedas)"
   ]
  },
  {
   "cell_type": "markdown",
   "metadata": {},
   "source": [
    "También podemos modificar los atributos. Esto Python lo hace muy sencillo, los cambiamos directamente reasignando valores. En otros lenguajes de programación hay que implementar esto mediante métodos  denominados `getters` y `setters`."
   ]
  },
  {
   "cell_type": "code",
   "execution_count": 13,
   "metadata": {},
   "outputs": [
    {
     "name": "stdout",
     "output_type": "stream",
     "text": [
      "2\n"
     ]
    }
   ],
   "source": [
    "citroen = Coche()\n",
    "citroen.puertas = 2\n",
    "print(citroen.puertas)\n"
   ]
  },
  {
   "cell_type": "markdown",
   "metadata": {},
   "source": [
    "<table align=\"left\">\n",
    " <tr><td width=\"80\"><img src=\"./img/error.png\" style=\"width:auto;height:auto\"></td>\n",
    "     <td style=\"text-align:left\">\n",
    "         <h3>ERRORES atributos que no existen</h3>\n",
    "         \n",
    " </td></tr>\n",
    "</table>"
   ]
  },
  {
   "cell_type": "code",
   "execution_count": 14,
   "metadata": {},
   "outputs": [
    {
     "ename": "AttributeError",
     "evalue": "'Coche' object has no attribute 'motor'",
     "output_type": "error",
     "traceback": [
      "\u001b[1;31m---------------------------------------------------------------------------\u001b[0m",
      "\u001b[1;31mAttributeError\u001b[0m                            Traceback (most recent call last)",
      "Input \u001b[1;32mIn [14]\u001b[0m, in \u001b[0;36m<cell line: 2>\u001b[1;34m()\u001b[0m\n\u001b[0;32m      1\u001b[0m seat \u001b[38;5;241m=\u001b[39m Coche()\n\u001b[1;32m----> 2\u001b[0m \u001b[43mseat\u001b[49m\u001b[38;5;241;43m.\u001b[39;49m\u001b[43mmotor\u001b[49m\n",
      "\u001b[1;31mAttributeError\u001b[0m: 'Coche' object has no attribute 'motor'"
     ]
    }
   ],
   "source": [
    "seat = Coche()\n",
    "seat.motor\n"
   ]
  },
  {
   "cell_type": "markdown",
   "metadata": {},
   "source": [
    "Seguimos sin poder diferenciar claramente un coche de otro, pero ya vamos definiendo sus características, que será posible ir modificándolas tanto en la inicialización del objeto, como después. De momento, tenemos características comunes a todos los coches... o no, ¿todos los coches tienen 4 puertas?"
   ]
  },
  {
   "cell_type": "markdown",
   "metadata": {},
   "source": [
    "## 3. Constructor\n",
    "Cuando creamos un objeto de la clase *Coche*, tenemos que definirlo bien para diferenciarlo de otros coches. Esa definición inicial se realiza en el constructor de la clase. Son unos argumentos de entrada que nos pide el objeto, para definir esa instancia de otras instancias de la misma clase.\n",
    "\n",
    "**¿Cómo definimos esto?** Mediante la sentencia `__init__`, dentro de la clase."
   ]
  },
  {
   "cell_type": "code",
   "execution_count": 15,
   "metadata": {},
   "outputs": [],
   "source": [
    "class Coche:\n",
    "    puertas = 4\n",
    "    ruedas = 4\n",
    "    \n",
    "    def __init__(self,marca_coche):\n",
    "        self.marca = marca_coche"
   ]
  },
  {
   "cell_type": "markdown",
   "metadata": {},
   "source": [
    "En la declaración del constructor hemos metido la palabra `self`. **Lo tendremos que poner siempre**. Hace referencia a la propia instancia de coche, es decir, a cuando creemos coches nuevos.\n",
    "\n",
    "En este caso estamos diferenciando los atributos comunes de la clase *Coche*, de los atributos particulares de los coches, como por ejemplo, la marca. Por eso la marca va junto con `self`, porque no hace referencia a la clase genércia de coche, sino a cada coche que creemos."
   ]
  },
  {
   "cell_type": "code",
   "execution_count": 20,
   "metadata": {},
   "outputs": [
    {
     "name": "stdout",
     "output_type": "stream",
     "text": [
      "<__main__.Coche object at 0x00000199F48798A0>\n",
      "4\n",
      "4\n",
      "Citroen\n"
     ]
    }
   ],
   "source": [
    "citroen = Coche(\"Citroen\")\n",
    "print(citroen)\n",
    "\n",
    "print(citroen.puertas)\n",
    "print(citroen.ruedas)\n",
    "print(citroen.marca)"
   ]
  },
  {
   "cell_type": "markdown",
   "metadata": {},
   "source": [
    "Ahora ya podemos diferenciar los coches por su marca. Para acceder al atributo de la marca, lo hacemos igual que con los anteriores."
   ]
  },
  {
   "cell_type": "code",
   "execution_count": 21,
   "metadata": {},
   "outputs": [
    {
     "name": "stdout",
     "output_type": "stream",
     "text": [
      "Seat\n",
      "Renault\n"
     ]
    }
   ],
   "source": [
    "citroen = Coche('Citroen')\n",
    "seat = Coche('Seat')\n",
    "renault = Coche('Renault')\n",
    "\n",
    "print(seat.marca)\n",
    "print(renault.marca)"
   ]
  },
  {
   "cell_type": "markdown",
   "metadata": {},
   "source": [
    "Ya podemos solucionar el tema de que no todos los coches tienen 4 puertas"
   ]
  },
  {
   "cell_type": "code",
   "execution_count": 22,
   "metadata": {},
   "outputs": [],
   "source": [
    "class Coche:\n",
    "    ruedas = 4\n",
    "    def __init__(self, marca_coche, num_puertas):\n",
    "        self.marca = marca_coche\n",
    "        self.puertas = num_puertas"
   ]
  },
  {
   "cell_type": "code",
   "execution_count": 23,
   "metadata": {},
   "outputs": [
    {
     "data": {
      "text/plain": [
       "5"
      ]
     },
     "execution_count": 23,
     "metadata": {},
     "output_type": "execute_result"
    }
   ],
   "source": [
    "micoche = Coche('Tesla',5)\n",
    "micoche.puertas"
   ]
  },
  {
   "cell_type": "markdown",
   "metadata": {},
   "source": [
    "<table align=\"left\">\n",
    " <tr><td width=\"80\"><img src=\"./img/ejercicio.png\" style=\"width:auto;height:auto\"></td>\n",
    "     <td style=\"text-align:left\">\n",
    "         <h3>Ejercicio. Crea tu clase coche</h3>\n",
    "\n",
    "Crea tu propia clase coche a partir de la que acabamos de ver. La clase coche tiene que llevar un par de atributos comunes a todos los coches, y otros tres que los introduciremos mediante el constructor.\n",
    "         \n",
    " </td></tr>\n",
    "</table>"
   ]
  },
  {
   "cell_type": "code",
   "execution_count": 25,
   "metadata": {},
   "outputs": [],
   "source": [
    "class Coche:\n",
    "    ruedas = 4\n",
    "    retrovisores = 3\n",
    "    def __init__(self, marca_coche, combustible, traccion):\n",
    "        self.marca = marca_coche\n",
    "        self.combustible = combustible\n",
    "        self.traccion = traccion"
   ]
  },
  {
   "cell_type": "code",
   "execution_count": 26,
   "metadata": {},
   "outputs": [
    {
     "name": "stdout",
     "output_type": "stream",
     "text": [
      "Ferrari\n",
      "Gasolina\n",
      "Trasera\n"
     ]
    }
   ],
   "source": [
    "ferrari = Coche('Ferrari','Gasolina','Trasera')\n",
    "\n",
    "print(ferrari.marca)\n",
    "print(ferrari.combustible)\n",
    "print(ferrari.traccion)"
   ]
  },
  {
   "cell_type": "code",
   "execution_count": 27,
   "metadata": {
    "scrolled": false
   },
   "outputs": [
    {
     "data": {
      "text/plain": [
       "{'marca': 'Ferrari', 'combustible': 'Gasolina', 'traccion': 'Trasera'}"
      ]
     },
     "execution_count": 27,
     "metadata": {},
     "output_type": "execute_result"
    }
   ],
   "source": [
    "vars(ferrari) # Con vars me da un diccionario con los atributos propios del objeto"
   ]
  },
  {
   "cell_type": "code",
   "execution_count": 28,
   "metadata": {},
   "outputs": [
    {
     "data": {
      "text/plain": [
       "['__class__',\n",
       " '__delattr__',\n",
       " '__dict__',\n",
       " '__dir__',\n",
       " '__doc__',\n",
       " '__eq__',\n",
       " '__format__',\n",
       " '__ge__',\n",
       " '__getattribute__',\n",
       " '__gt__',\n",
       " '__hash__',\n",
       " '__init__',\n",
       " '__init_subclass__',\n",
       " '__le__',\n",
       " '__lt__',\n",
       " '__module__',\n",
       " '__ne__',\n",
       " '__new__',\n",
       " '__reduce__',\n",
       " '__reduce_ex__',\n",
       " '__repr__',\n",
       " '__setattr__',\n",
       " '__sizeof__',\n",
       " '__str__',\n",
       " '__subclasshook__',\n",
       " '__weakref__',\n",
       " 'combustible',\n",
       " 'marca',\n",
       " 'retrovisores',\n",
       " 'ruedas',\n",
       " 'traccion']"
      ]
     },
     "execution_count": 28,
     "metadata": {},
     "output_type": "execute_result"
    }
   ],
   "source": [
    "dir(ferrari) # Con dir me da todos los metodos propios del objeto"
   ]
  },
  {
   "cell_type": "markdown",
   "metadata": {},
   "source": [
    "## 4. Métodos\n",
    "Son funciones que podemos definir dentro de las clases. Estas funciones cambiarán el estado de algún atributo o realizarán calculos que nos sirvan de output. Un ejemplo sencillo puede ser, un método de la clase coche que saque la potencia en kilovatios, en vez de en caballos. O si tiene un estado de mantenimiento (ITV pasada o no), que modifique ese estado.\n",
    "\n",
    "El constructor es un tipo de método. La diferencia con el resto de métodos radica en su nombre, `__init__`. La sintaxis para definir los métodos es como si fuese una función. Y luego para llamar al método se utiliza `objeto.metodo(argumentos_metodo)`. Esto ya lo hemos usado anteriormente, cuando haciamos un `string.lower()`, simplemente llamábamos al método `lower()`, que no requería de argumentos, de la clase *string*."
   ]
  },
  {
   "cell_type": "code",
   "execution_count": 33,
   "metadata": {},
   "outputs": [],
   "source": [
    "class Coche:\n",
    "    ruedas = 4\n",
    "    def __init__(self,marca_coche,num_puertas):\n",
    "        self.marca = marca_coche\n",
    "        self.puertas = num_puertas\n",
    "    def caracteristicas(self):\n",
    "        return \"Marca: \" + self.marca + \". Num Puertas: \" + str(self.puertas) + \". Ruedas: \" + str(self.ruedas)"
   ]
  },
  {
   "cell_type": "code",
   "execution_count": 34,
   "metadata": {},
   "outputs": [
    {
     "name": "stdout",
     "output_type": "stream",
     "text": [
      "Marca: Audi. Num Puertas: 4. Ruedas: 4\n"
     ]
    }
   ],
   "source": [
    "mi_coche = Coche('Audi',4)\n",
    "\n",
    "print(mi_coche.caracteristicas())"
   ]
  },
  {
   "cell_type": "markdown",
   "metadata": {},
   "source": [
    "Fíjate que para llamar a las ruedas se usa `self`, a pesar de que no lo habíamos metido en el constructor. Así evitamos llamar a otra variable del programa que se llame *ruedas*. Nos aseguramos que son las ruedas de ese coche con el `self`."
   ]
  },
  {
   "cell_type": "markdown",
   "metadata": {},
   "source": [
    "<table align=\"left\">\n",
    " <tr><td width=\"80\"><img src=\"./img/ejercicio.png\" style=\"width:auto;height:auto\"></td>\n",
    "     <td style=\"text-align:left\">\n",
    "         <h3>Ejercicio. Crea nuevos métodos</h3>\n",
    "\n",
    "Crea dos métodos nuevos en la clase coche.\n",
    "<ol>\n",
    "    <li>Introduce dos atributos nuevos en el constructor: Años desde su compra, y precio de compra.</li>\n",
    "    <li>Crea un método nuevo que calcule su precio actual. Si el coche tiene 5 años o menos, su precio será del 50% del precio de compra, en caso de que sean más años, será de un 30%</li>\n",
    "\n",
    "</ol>\n",
    " \n",
    " </td></tr>\n",
    "</table>"
   ]
  },
  {
   "cell_type": "code",
   "execution_count": 47,
   "metadata": {},
   "outputs": [],
   "source": [
    "class Coche:\n",
    "    ruedas = 4\n",
    "    def __init__(self,marca_coche,num_puertas,anios_compra,precio_compra):\n",
    "        self.marca = marca_coche\n",
    "        self.puertas = num_puertas\n",
    "        self.old = anios_compra\n",
    "        self.pvp = precio_compra\n",
    "        \n",
    "    def caracteristicas(self):\n",
    "        return \"Marca: \" + self.marca + \". Num Puertas: \" + str(self.puertas) + \". Ruedas: \" + str(self.ruedas)\n",
    "    \n",
    "    def precio_actual(self):\n",
    "        if self.old <= 5:\n",
    "            return self.pvp * 0.5\n",
    "        elif self.old > 5:\n",
    "            return self.pvp * 0.3"
   ]
  },
  {
   "cell_type": "code",
   "execution_count": 48,
   "metadata": {},
   "outputs": [
    {
     "name": "stdout",
     "output_type": "stream",
     "text": [
      "180.0\n"
     ]
    }
   ],
   "source": [
    "r5 = Coche('Renault',3,25,600)\n",
    "\n",
    "print(r5.precio_actual())"
   ]
  },
  {
   "cell_type": "markdown",
   "metadata": {},
   "source": [
    "## 5. Documentación\n",
    "Al igual que con las funciones, en las clases también podemos documentar con el método *built-in* `__doc__`. Es un método de `class`. Por tanto, podremos poner al principio de la clase una documentación con todo lo que hace esta clase. Ocurre lo mismo con los métodos de la clase. Se recomienda dar una breve definición de las funcionalidades de las clases/métodos y describir cómo son las entradas y salidas de los métodos. Qué espera recibir y de qué tipo."
   ]
  },
  {
   "cell_type": "code",
   "execution_count": 49,
   "metadata": {},
   "outputs": [
    {
     "name": "stdout",
     "output_type": "stream",
     "text": [
      "Built-in mutable sequence.\n",
      "\n",
      "If no argument is given, the constructor creates a new empty list.\n",
      "The argument must be an iterable if specified.\n"
     ]
    }
   ],
   "source": [
    "print(list.__doc__)"
   ]
  },
  {
   "cell_type": "code",
   "execution_count": 51,
   "metadata": {},
   "outputs": [],
   "source": [
    "class Coche:\n",
    "    '''\n",
    "    Clase coche utilizada como ejemplo para la sesión\n",
    "    Parameters:\n",
    "        marca_coche: Distingue el fabricante del coche\n",
    "        num_puertas: Hay cohces de 2 y 4 puertas\n",
    "    '''\n",
    "    ruedas = 4\n",
    "    def __init__(self,marca_coche,num_puertas):\n",
    "        '''\n",
    "        Documentacion del init\n",
    "        '''\n",
    "        self.marca = marca_coche\n",
    "        self.puertas = num_puertas\n",
    "    def caracteristicas(self):\n",
    "        '''\n",
    "        Devuelve un string con los atributos del objeto\n",
    "        '''\n",
    "        return \"Marca: \" + self.marca + \". Num Puertas: \" + str(self.puertas) + \". Ruedas: \" + str(self.ruedas)"
   ]
  },
  {
   "cell_type": "code",
   "execution_count": 52,
   "metadata": {},
   "outputs": [
    {
     "name": "stdout",
     "output_type": "stream",
     "text": [
      "\n",
      "    Clase coche utilizada como ejemplo para la sesión\n",
      "    Parameters:\n",
      "        marca_coche: Distingue el fabricante del coche\n",
      "        num_puertas: Hay cohces de 2 y 4 puertas\n",
      "    \n",
      "\n",
      "        Devuelve un string con los atributos del objeto\n",
      "        \n"
     ]
    }
   ],
   "source": [
    "print(Coche.__doc__)\n",
    "print(Coche.caracteristicas.__doc__)"
   ]
  },
  {
   "cell_type": "markdown",
   "metadata": {},
   "source": [
    "## 6. Resumen"
   ]
  },
  {
   "cell_type": "code",
   "execution_count": null,
   "metadata": {},
   "outputs": [],
   "source": [
    "# Las clases se declaran con la siguiente sintaxis\n",
    "class Coche:\n",
    "    # Estos son los atributos comunes a los objetos de esta clase\n",
    "    ruedas = 4\n",
    "    \n",
    "    # Constructor de la clase\n",
    "    def __init__(self, marca_coche, num_puertas):\n",
    "        # Atributos particulares de cada instancia\n",
    "        self.marca_coche = marca_coche\n",
    "        self.num_puertas = num_puertas\n",
    "    \n",
    "    # Metodo propio de esta clase\n",
    "    def caracteristicas(self):\n",
    "        return \"Marca: \" + self.marca_coche + \". Num Puertas: \" + str(self.num_puertas) + \". Num Ruedas: \" + str(self.ruedas)\n",
    "\n",
    "audi = Coche(\"Audi\", 2)\n",
    "print(audi.ruedas)\n",
    "print(audi.marca_coche)\n",
    "print(audi.num_puertas)\n",
    "print(audi.caracteristicas())"
   ]
  }
 ],
 "metadata": {
  "kernelspec": {
   "display_name": "Python 3 (ipykernel)",
   "language": "python",
   "name": "python3"
  },
  "language_info": {
   "codemirror_mode": {
    "name": "ipython",
    "version": 3
   },
   "file_extension": ".py",
   "mimetype": "text/x-python",
   "name": "python",
   "nbconvert_exporter": "python",
   "pygments_lexer": "ipython3",
   "version": "3.10.4"
  }
 },
 "nbformat": 4,
 "nbformat_minor": 4
}
