{
 "cells": [
  {
   "cell_type": "markdown",
   "metadata": {},
   "source": [
    "# Ejercicios Flujos de control"
   ]
  },
  {
   "cell_type": "markdown",
   "metadata": {},
   "source": [
    "## Ejercicio 1\n",
    "Declara una variable numérica que será una hora cualquiera del día. Implementa mediante sentencias `if/elif/else` la siguiente casuística:\n",
    "\n",
    "* Si es entre las 0 y las 8, print \"Durmiendo\"\n",
    "* Si es entre las 9 y las 18, print \"Trabajando\"\n",
    "* Si es entre las 19 y las 21, print \"Clase\"\n",
    "* Si es entre las 22 y las 24, print \"Descanso\"\n",
    "* En cualquier otro caso, print \"Transporte o error\""
   ]
  },
  {
   "cell_type": "code",
   "execution_count": 6,
   "metadata": {},
   "outputs": [
    {
     "name": "stdout",
     "output_type": "stream",
     "text": [
      "Transporte o error\n"
     ]
    }
   ],
   "source": [
    "hora = -1\n",
    "\n",
    "if hora >= 0 and hora <= 8:\n",
    "    print('Durmiendo')\n",
    "\n",
    "elif hora >= 9 and hora <= 18:\n",
    "    print('Trabajando')\n",
    "\n",
    "elif hora >= 19 and hora <= 21:\n",
    "    print('Clase')\n",
    "    \n",
    "elif hora >= 22 and hora <= 24:\n",
    "    print('Descanso')\n",
    "    \n",
    "else:\n",
    "    print('Transporte o error')"
   ]
  },
  {
   "cell_type": "markdown",
   "metadata": {},
   "source": [
    "## Ejercicio 2\n",
    "En este ejercicio vamos a implementar un calculador de precios de casas muy sencillo. Tenemos las siguientes variables:\n",
    "\n",
    "> superficie\n",
    ">\n",
    "> distrito\n",
    "\n",
    "Implementa mediante sentencias `if/elif/else` la siguiente casuística:\n",
    "\n",
    "1. Si el distrito es \"Moncloa\" o \"Centro\", y además la superficie es superior a 100 metros cuadrados, el precio de la casa es de 1000\n",
    "2. Si el distrito es \"Salamanca\", y además la superficie de la casa es al menos de 150 metros, el precio de la casa es de 1500\n",
    "3. Si el distrito no es \"Retiro\" y la superficie está entre 60 y 80 metros, el precio es de 600\n",
    "4. En cualquier otro caso, el precio será de 0"
   ]
  },
  {
   "cell_type": "code",
   "execution_count": 3,
   "metadata": {},
   "outputs": [
    {
     "name": "stdout",
     "output_type": "stream",
     "text": [
      "Indica los m2 del piso: 23\n",
      "Indica el distrito donde se ubica el piso: MONCLOA\n",
      "El precio del piso es: 1000 euros\n"
     ]
    }
   ],
   "source": [
    "superficie = float(input('Indica los m2 del piso: '))\n",
    "\n",
    "distrito = input('Indica el distrito donde se ubica el piso: ')\n",
    "\n",
    "distrito = distrito.title().replace('á','a').replace('é','e').replace('í','i').replace('ó','o').replace('ú','u')\n",
    "\n",
    "if superficie >= 100 and distrito == 'Centro' or distrito == 'Moncloa':\n",
    "    precio = 1000\n",
    "    \n",
    "elif superficie >= 150 and distrito == 'Salamanca':\n",
    "    precio = 1500\n",
    "    \n",
    "elif superficie >= 60 and superficie <=80 and distrito == 'Retiro':\n",
    "    precio = 600\n",
    "\n",
    "else:\n",
    "    precio = 0\n",
    "    \n",
    "print('El precio del piso es:', precio, 'euros')"
   ]
  },
  {
   "cell_type": "markdown",
   "metadata": {},
   "source": [
    "## Ejercicio 3\n",
    "En este ejercicio vamos a realizar un programa muy parecido. Para este caso queremos que se cumplan las siguientes condiciones:\n",
    "\n",
    "1. Primero se compruebe si el distrito es \"Retiro\". Si es asi, que imprima \"Distrito Retiro\", y si no, \"Otro distrito\"\n",
    "2. Si el distrito es \"Retiro\", comprueba si si la superficie es mayor de 100 metros cuadrados. En tal caso que imprima un precio de 1000, y si no, de 500.\n",
    "\n",
    "Hay que usar `ifs` anidados"
   ]
  },
  {
   "cell_type": "code",
   "execution_count": 7,
   "metadata": {},
   "outputs": [
    {
     "name": "stdout",
     "output_type": "stream",
     "text": [
      "Indica los m2 del piso: 300\n",
      "Indica el distrito donde se ubica el piso: RETIRO\n",
      "Distrito Retiro\n",
      "1000\n"
     ]
    }
   ],
   "source": [
    "superficie = float(input('Indica los m2 del piso: '))\n",
    "\n",
    "distrito = input('Indica el distrito donde se ubica el piso: ')\n",
    "\n",
    "distrito = distrito.title().replace('á','a').replace('é','e').replace('í','i').replace('ó','o').replace('ú','u')\n",
    "\n",
    "if distrito == 'Retiro':\n",
    "    print('Distrito Retiro')\n",
    "    if superficie >= 100:\n",
    "        precio = 1000\n",
    "        print(precio)\n",
    "    else:\n",
    "        precio = 500\n",
    "        print(precio)\n",
    "        \n",
    "else:\n",
    "    print('Otro distrito')"
   ]
  },
  {
   "cell_type": "markdown",
   "metadata": {},
   "source": [
    "## Ejercicio 4\n",
    "Escribe un programa que tenga dos variables: un numero, y una lista numérica. El programa debe recorrer la lista e imprimir por pantalla cada elemento de la lista multiplicado por el número"
   ]
  },
  {
   "cell_type": "code",
   "execution_count": 2,
   "metadata": {},
   "outputs": [
    {
     "name": "stdout",
     "output_type": "stream",
     "text": [
      "Inserta un numero: 2\n",
      "46.0\n",
      "106.0\n",
      "138.0\n",
      "42.0\n",
      "24.0\n",
      "92.0\n",
      "156.0\n"
     ]
    }
   ],
   "source": [
    "var_num = input('Inserta un numero: ')\n",
    "\n",
    "lista_nums = [23, 53, 69, 21, 12, 46, 78]\n",
    "\n",
    "for num in lista_nums:\n",
    "    print(float(var_num)*num)"
   ]
  },
  {
   "cell_type": "markdown",
   "metadata": {},
   "source": [
    "## Ejercicio 5\n",
    "Imprime por pantalla los números -10 al -1. En ese orden. Consulta [la documentación](https://www.w3schools.com/python/ref_func_range.asp) de `range`"
   ]
  },
  {
   "cell_type": "code",
   "execution_count": 36,
   "metadata": {},
   "outputs": [
    {
     "name": "stdout",
     "output_type": "stream",
     "text": [
      "-10\n",
      "-9\n",
      "-8\n",
      "-7\n",
      "-6\n",
      "-5\n",
      "-4\n",
      "-3\n",
      "-2\n",
      "-1\n"
     ]
    }
   ],
   "source": [
    "x = range(-10,0,1)\n",
    "\n",
    "for i in x:\n",
    "    print(i)\n",
    "    \n",
    "# No es necesario declarar el range y guardarlo en una variable\n",
    "\n",
    "# Mejor:\n",
    "\n",
    "'''\n",
    "for i in range(-10,0,1):\n",
    "    print(i)\n",
    "'''"
   ]
  },
  {
   "cell_type": "markdown",
   "metadata": {},
   "source": [
    "## Ejercicio 6\n",
    "Dada la siguiente lista:\n",
    "\n",
    "> list1 = [12, 15, 32, 42, 55, 75, 122, 132, 150, 180, 200]\n",
    "\n",
    "Implementa un programa que los recorra e imprima por pantalla todos los divisibles por 5. Si nos encontramos con alguno que sea mayor que 150, detener el bucle."
   ]
  },
  {
   "cell_type": "code",
   "execution_count": 13,
   "metadata": {},
   "outputs": [
    {
     "name": "stdout",
     "output_type": "stream",
     "text": [
      "15\n",
      "55\n",
      "75\n",
      "150\n",
      "150\n"
     ]
    }
   ],
   "source": [
    "list1 = [12, 15, 32, 42, 55, 75, 122, 132, 150, 180, 200]\n",
    "\n",
    "for num in list1:\n",
    "    if num %5 == 0:\n",
    "        print(num)\n",
    "        if num >= 150:\n",
    "            break\n",
    "            \n",
    "print(num)"
   ]
  },
  {
   "cell_type": "markdown",
   "metadata": {},
   "source": [
    "## Ejercicio 7\n",
    "Escribe un programa en Python que imprima por pantalla todos los números divisibles por 5 y divisibles por 7, dentro del rango de valores (150, 350)"
   ]
  },
  {
   "cell_type": "code",
   "execution_count": 16,
   "metadata": {},
   "outputs": [
    {
     "name": "stdout",
     "output_type": "stream",
     "text": [
      "175\n",
      "210\n",
      "245\n",
      "280\n",
      "315\n",
      "350\n"
     ]
    }
   ],
   "source": [
    "for i in range(150,351,1):\n",
    "    if i %5 == 0 and i %7 == 0:\n",
    "        print(i)"
   ]
  },
  {
   "cell_type": "markdown",
   "metadata": {},
   "source": [
    "## Ejercicio 8\n",
    "Implementa un programa que imprima por pantalla el siguiente patrón\n",
    "\n",
    "5 4 3 2 1   \n",
    "4 3 2 1   \n",
    "3 2 1   \n",
    "2 1   \n",
    "1\n"
   ]
  },
  {
   "cell_type": "code",
   "execution_count": 22,
   "metadata": {
    "scrolled": true
   },
   "outputs": [
    {
     "name": "stdout",
     "output_type": "stream",
     "text": [
      "5 4 3 2 1 \n",
      "4 3 2 1 \n",
      "3 2 1 \n",
      "2 1 \n",
      "1 \n",
      "\n",
      "5 4 3 2 1\n",
      "4 3 2 1\n",
      "3 2 1\n",
      "2 1\n",
      "1\n"
     ]
    },
    {
     "data": {
      "text/plain": [
       "'\\nOtra más:\\n\\nlista = [5,4,3,2,1]\\n\\nprint(*lista)\\nfor n in lista:\\n    lista.pop(0)\\n    print(*lista)\\nprint(lista[1])\\n'"
      ]
     },
     "execution_count": 22,
     "metadata": {},
     "output_type": "execute_result"
    }
   ],
   "source": [
    "'''\n",
    "# Mi intento\n",
    "x1 = list(range(1,y,1))\n",
    "x2 = list(range(1,y,1))\n",
    "x3 = list(range(1,y,1))\n",
    "x4 = list(range(1,y,1))\n",
    "x5 = list(range(1,y,1))\n",
    "\n",
    "\n",
    "y = 6\n",
    "\n",
    "z = len(x1)-1\n",
    "\n",
    "for i in x1:\n",
    "        print(x1[z],x2[z-1],x3[z-2],x4[z-3],x5[z-4],)\n",
    "        z = z -1\n",
    "'''\n",
    "    \n",
    "for i in reversed(range(0,6)):        # 5, 4, 3, 2, 1\n",
    "    for j in reversed(range(1,i+1)):  #\n",
    "        print(j,'',end = '')\n",
    "    print('')\n",
    "\n",
    "'''\n",
    "Otra solucion que tambien funciona:\n",
    "\n",
    "L = [5,4,3,2,1]\n",
    "\n",
    "txt = ''\n",
    "while len(L)>0:\n",
    "    txt = ''\n",
    "    for el in L:\n",
    "        txt += str(el) + ' '\n",
    "    print(txt)\n",
    "    L.pop(0)\n",
    "\n",
    "'''\n",
    "\n",
    "'''\n",
    "Otra más:\n",
    "\n",
    "lista = [5,4,3,2,1]\n",
    "\n",
    "print(*lista)\n",
    "for n in lista:\n",
    "    lista.pop(0)\n",
    "    print(*lista)\n",
    "print(lista[1])\n",
    "'''"
   ]
  },
  {
   "cell_type": "markdown",
   "metadata": {},
   "source": [
    "## Ejercicio 9\n",
    "En este ejercicio vamos a crear un pequeño juego. Se trata de intentar adivinar un numero del 1 al 5. Tenemos dos intentos para acertar. Pasos a seguir:\n",
    "\n",
    "1. En la siguiente celda ya viene implementado cómo obtener un número aleatorio del 1 al 5\n",
    "2. Tendrás que declarar en una variable el numero de vidas, y mediante un bucle while, comprobar que todavia quedan vidas.\n",
    "3. Dentro del bucle, pedir al usuario que introduzca un número y comprobar si es ese el numero a adivinar. Si no, actualizar las vidas.\n",
    "4. Si acertamos, salimos del bucle e imprimimos por pantalla \"You win\". Y si perdemos también salimos del bucle, pero en este caso imprimimos por pantalla \"You lose\"."
   ]
  },
  {
   "cell_type": "code",
   "execution_count": 26,
   "metadata": {},
   "outputs": [
    {
     "name": "stdout",
     "output_type": "stream",
     "text": [
      "Introduce un numero entre el 1 y el 5: 1\n",
      "Introduce un numero entre el 1 y el 5: 1\n",
      "Introduce un numero entre el 1 y el 5: 1\n",
      "You Lose 3\n"
     ]
    }
   ],
   "source": [
    "from random import randint\n",
    "\n",
    "# Genera un numero aleatorio del 1 al 5\n",
    "random_number = randint(1, 5)\n",
    "\n",
    "vidas = 3\n",
    "'''\n",
    "while vidas >= 1:\n",
    "    user_num = input('Introduce un numero entre el 1 y el 5: ')\n",
    "    if int(user_num) == random_number:\n",
    "        print('You win')\n",
    "        break\n",
    "    else:\n",
    "        vidas -= 1\n",
    "        print('You Lose')\n",
    "\n",
    "# Fundamental cambiar el tipo del input a int\n",
    "'''\n",
    "\n",
    "# Mejor:\n",
    "while vidas >= 1:\n",
    "    user_num = input('Introduce un numero entre el 1 y el 5: ')\n",
    "    if int(user_num) == random_number:\n",
    "        print('You win')\n",
    "        break\n",
    "    else:\n",
    "        vidas -= 1\n",
    "        \n",
    "if vidas == 0:\n",
    "        print('You Lose', random_number)"
   ]
  },
  {
   "cell_type": "markdown",
   "metadata": {},
   "source": []
  },
  {
   "cell_type": "markdown",
   "metadata": {},
   "source": [
    "# Ejercicios extra"
   ]
  },
  {
   "cell_type": "markdown",
   "metadata": {},
   "source": [
    "Más ejercicios en [este link](https://www.w3resource.com/python-exercises/python-conditional-statements-and-loop-exercises.php)\n",
    "\n",
    "Y [aquí](https://erlerobotics.gitbooks.io/erle-robotics-learning-python-gitbook-free/loops/exercises_loops.html)"
   ]
  }
 ],
 "metadata": {
  "kernelspec": {
   "display_name": "Python 3 (ipykernel)",
   "language": "python",
   "name": "python3"
  },
  "language_info": {
   "codemirror_mode": {
    "name": "ipython",
    "version": 3
   },
   "file_extension": ".py",
   "mimetype": "text/x-python",
   "name": "python",
   "nbconvert_exporter": "python",
   "pygments_lexer": "ipython3",
   "version": "3.10.4"
  }
 },
 "nbformat": 4,
 "nbformat_minor": 4
}
