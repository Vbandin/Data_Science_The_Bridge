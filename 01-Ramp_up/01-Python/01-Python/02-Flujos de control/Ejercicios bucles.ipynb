{
 "cells": [
  {
   "cell_type": "markdown",
   "metadata": {},
   "source": [
    "## Ejercicio 1\n",
    "\n",
    "Dada la siguiente lista\n",
    "> ejer_1 = [\"VW\", \"Audi\", \"Renault\", \"VW\", \"BMW\"]\n",
    "\n"
   ]
  },
  {
   "cell_type": "markdown",
   "metadata": {},
   "source": [
    "1. Elimina todos los VW de la siguiente lista. Crea una lista nueva para ello."
   ]
  },
  {
   "cell_type": "code",
   "execution_count": 1,
   "metadata": {},
   "outputs": [
    {
     "name": "stdout",
     "output_type": "stream",
     "text": [
      "['VW', 'Audi', 'Renault', 'VW', 'BMW']\n",
      "['Audi', 'Renault', 'BMW']\n"
     ]
    }
   ],
   "source": [
    "ejer_1 = [\"VW\", \"Audi\", \"Renault\", \"VW\", \"BMW\"]\n",
    "ejer_1_2 = ejer_1.copy() # Copia la lista original\n",
    "\n",
    "for brand in ejer_1:\n",
    "    if brand == 'VW':\n",
    "        ejer_1_2.remove(\"VW\")\n",
    "        \n",
    "print(ejer_1)\n",
    "print(ejer_1_2)"
   ]
  },
  {
   "cell_type": "markdown",
   "metadata": {},
   "source": [
    "2. Hazlo de otra manera. Crea una lista nueva, y ve añadiendo todos los que no sean VW"
   ]
  },
  {
   "cell_type": "code",
   "execution_count": 2,
   "metadata": {},
   "outputs": [
    {
     "name": "stdout",
     "output_type": "stream",
     "text": [
      "['Audi', 'Renault', 'BMW']\n"
     ]
    }
   ],
   "source": [
    "ejer_1 = [\"VW\", \"Audi\", \"Renault\", \"VW\", \"BMW\"]\n",
    "\n",
    "new_list = []\n",
    "\n",
    "for brand in ejer_1:\n",
    "    if brand != 'VW':\n",
    "        new_list.append(brand)\n",
    "        \n",
    "print(new_list)"
   ]
  },
  {
   "cell_type": "markdown",
   "metadata": {},
   "source": [
    "3. En vez de `for`, usa un bucle `while`"
   ]
  },
  {
   "cell_type": "code",
   "execution_count": 2,
   "metadata": {},
   "outputs": [
    {
     "name": "stdout",
     "output_type": "stream",
     "text": [
      "['VW', 'Audi', 'Renault', 'VW', 'BMW']\n",
      "0\n",
      "[]\n",
      "1\n",
      "[]\n",
      "2\n",
      "['Audi']\n",
      "3\n",
      "['Audi', 'Renault']\n",
      "4\n",
      "['Audi', 'Renault']\n"
     ]
    }
   ],
   "source": [
    "ejer_1 = [\"VW\", \"Audi\", \"Renault\", \"VW\", \"BMW\"]\n",
    "\n",
    "new_list = []\n",
    "'''\n",
    "i = int(len(ejer_1)-1)\n",
    "\n",
    "print(ejer_1[i])\n",
    "while ejer_1[i] != '':\n",
    "    if ejer_1[i] != 'VW':\n",
    "        new_list.append(ejer_1[i])\n",
    "        i = i-1\n",
    "    else:\n",
    "        i = i-1        \n",
    "        \n",
    "print(new_list)\n",
    "\n",
    "'''\n",
    "\n",
    "i = 0\n",
    "\n",
    "print(ejer_1)\n",
    "\n",
    "while i < len(ejer_1):\n",
    "    print(i)\n",
    "    print(new_list)\n",
    "    if ejer_1[i] != 'VW':\n",
    "        new_list.append(ejer_1[i])\n",
    "        \n",
    "    i += 1 # i = i + 1"
   ]
  },
  {
   "cell_type": "markdown",
   "metadata": {},
   "source": [
    "## Ejercicio 2\n",
    "Imprime por pantalla la siguiente secuencia: 10, 9, 8.... -8, -9, -10"
   ]
  },
  {
   "cell_type": "code",
   "execution_count": 10,
   "metadata": {},
   "outputs": [
    {
     "name": "stdout",
     "output_type": "stream",
     "text": [
      "10\n",
      "9\n",
      "8\n",
      "7\n",
      "6\n",
      "5\n",
      "4\n",
      "3\n",
      "2\n",
      "1\n",
      "0\n",
      "-1\n",
      "-2\n",
      "-3\n",
      "-4\n",
      "-5\n",
      "-6\n",
      "-7\n",
      "-8\n",
      "-9\n",
      "-10\n"
     ]
    },
    {
     "data": {
      "text/plain": [
       "'\\nfor i in range range(10,-11,-1):\\n    print(i)\\n'"
      ]
     },
     "execution_count": 10,
     "metadata": {},
     "output_type": "execute_result"
    }
   ],
   "source": [
    "'''x = range(10,-10,1)\n",
    "\n",
    "for i in x:\n",
    "    print(i)\n",
    "'''\n",
    "\n",
    "num = 11\n",
    "while num > -10:\n",
    "    num -=1\n",
    "    print(num)\n",
    "\n",
    "'''\n",
    "for i in range range(10,-11,-1):\n",
    "    print(i)\n",
    "'''"
   ]
  },
  {
   "cell_type": "markdown",
   "metadata": {},
   "source": [
    "## Ejercicio 3\n",
    "1. Escribe un programa que vaya pidiendo numeros al usuario. Cuando el usuario introduzca el 0, el programa tiene que imprimir por pantalla el sumatorio de todos los numeros positivos introducidos"
   ]
  },
  {
   "cell_type": "code",
   "execution_count": 1,
   "metadata": {},
   "outputs": [
    {
     "name": "stdout",
     "output_type": "stream",
     "text": [
      "Introduzca un número: 1\n",
      "Introduzca un número: 2\n",
      "Introduzca un número: 3\n",
      "Introduzca un número: 0\n",
      "El sumatorio de numeros: 6\n"
     ]
    }
   ],
   "source": [
    "'''\n",
    "user_num = input('Introduce un numero: ')\n",
    "suma = []\n",
    "\n",
    "suma_de_notas = 0\n",
    "    \n",
    "while user_num != 0:\n",
    "    if user_num == 0:\n",
    "        break\n",
    "    else:\n",
    "        suma.append(user_num)\n",
    "        print(suma)\n",
    "        user_num = input('Introduce otro numero: ')\n",
    "\n",
    "for num in suma:\n",
    "    suma_de_notas  += num\n",
    "    print(suma_de_notas)\n",
    "'''\n",
    "num = 1\n",
    "\n",
    "temp = []\n",
    "\n",
    "while num!= 0:\n",
    "    num = int(input('Introduzca un número: '))\n",
    "    if num > 0:\n",
    "        temp.append(num)\n",
    "        continue\n",
    "    \n",
    "snum = sum(temp)\n",
    "print('El sumatorio de numeros:',snum)"
   ]
  },
  {
   "cell_type": "markdown",
   "metadata": {},
   "source": [
    "2. Además de la suma, queremos que imprima también una lista con todos los números."
   ]
  },
  {
   "cell_type": "code",
   "execution_count": 3,
   "metadata": {},
   "outputs": [
    {
     "name": "stdout",
     "output_type": "stream",
     "text": [
      "Introduzca un número: 1\n",
      "Introduzca un número: 2\n",
      "Introduzca un número: -3\n",
      "Introduzca un número: -5\n",
      "Introduzca un número: 0\n",
      "El sumatorio de numeros: 3\n",
      "1 2 -3 -5\n"
     ]
    }
   ],
   "source": [
    "num = 1\n",
    "\n",
    "temp = []\n",
    "\n",
    "while num!= 0:\n",
    "    num = int(input('Introduzca un número: '))\n",
    "    temp.append(num)\n",
    "\n",
    "suma = 0\n",
    "for el in temp:\n",
    "    if el>0:\n",
    "        suma+=el # suma = suma + el\n",
    "\n",
    "print('El sumatorio de numeros:',suma)\n",
    "temp.pop()\n",
    "print(*temp)"
   ]
  },
  {
   "cell_type": "markdown",
   "metadata": {},
   "source": [
    "## Ejercicio 4\n",
    "Escribe un programa que calcule la cantidad de veces que está la letra \"m\" o \"M\" en la frase:\n",
    "> \"En un lugar de La Mancha, de cuyo nombre no quiero acordarme\""
   ]
  },
  {
   "cell_type": "code",
   "execution_count": 5,
   "metadata": {},
   "outputs": [
    {
     "name": "stdout",
     "output_type": "stream",
     "text": [
      "Número de m: 3\n"
     ]
    }
   ],
   "source": [
    "frase = \"En un lugar de La Mancha, de cuyo nombre no quiero acordarme\"\n",
    "\n",
    "contador = 0\n",
    "\n",
    "for letra in frase:\n",
    "    if letra == 'm' or letra == 'M':\n",
    "        contador += 1\n",
    "        \n",
    "print('Número de m:', contador)"
   ]
  },
  {
   "cell_type": "markdown",
   "metadata": {},
   "source": [
    "## Ejercicio 5\n",
    "Imprime toda la secuencia de numeros del 1 al 10, excepto el 3, 4 y 9. Impleméntalo de dos maneras diferentes"
   ]
  },
  {
   "cell_type": "code",
   "execution_count": 9,
   "metadata": {},
   "outputs": [
    {
     "name": "stdout",
     "output_type": "stream",
     "text": [
      "[0, 1, 2, 5, 6, 7, 8]\n"
     ]
    }
   ],
   "source": [
    "'''numeros = list(range(10))\n",
    "for num in numeros:\n",
    "    if num == 3 or num == 4 or num == 9:\n",
    "        numeros.remove(num)\n",
    "print(numeros)\n",
    "'''\n",
    "numeros = list(range(10))\n",
    "\n",
    "numeros2 = numeros.copy()\n",
    "\n",
    "for num in numeros:\n",
    "    if num == 3 or num == 4 or num == 9:\n",
    "        numeros2.remove(num)\n",
    "        \n",
    "print(numeros2)\n"
   ]
  },
  {
   "cell_type": "code",
   "execution_count": 10,
   "metadata": {
    "scrolled": false
   },
   "outputs": [
    {
     "name": "stdout",
     "output_type": "stream",
     "text": [
      "1\n",
      "2\n",
      "5\n",
      "6\n",
      "7\n",
      "8\n",
      "10\n"
     ]
    }
   ],
   "source": [
    "for i in range(1,11):\n",
    "    if i not in [3,4,9]: # i != 3 and i != 4 and i != 9\n",
    "        print(i)"
   ]
  },
  {
   "cell_type": "code",
   "execution_count": 13,
   "metadata": {},
   "outputs": [
    {
     "name": "stdout",
     "output_type": "stream",
     "text": [
      "1\n",
      "2\n",
      "5\n",
      "6\n",
      "7\n",
      "8\n",
      "10\n"
     ]
    }
   ],
   "source": [
    "n = 1\n",
    "while n < 11:\n",
    "    if n!=3 and n != 4 and n != 9:\n",
    "        print(n)\n",
    "    n += 1\n"
   ]
  },
  {
   "cell_type": "markdown",
   "metadata": {},
   "source": [
    "## Ejercicio 6\n",
    "Suponiendo que siempre se cumple que las dos listas del ejercicio son iguales de tamaño, implementa un programa que calcule el ratio ingreso/gasto de cada elemento, y lo guarde en una nueva lista. Si hubiese algún problema con los datos, hay que almacenar un mensaje de error en la lista del resultado. Usa `try/except`\n",
    "> ingresos = [100, 200, 500, 100, 600]\n",
    ">\n",
    "> gastos = [50, 20, 70, 0, 25]"
   ]
  },
  {
   "cell_type": "code",
   "execution_count": 15,
   "metadata": {},
   "outputs": [
    {
     "name": "stdout",
     "output_type": "stream",
     "text": [
      "[2.0, 10.0, 7.142857142857143, ZeroDivisionError('division by zero'), 24.0]\n"
     ]
    }
   ],
   "source": [
    "ingresos = [100, 200, 500, 100, 600]\n",
    "\n",
    "gastos = [50, 20, 70, 0, 25]\n",
    "\n",
    "ratio = []\n",
    "\n",
    "for i in range(len(ingresos)):\n",
    "    try:\n",
    "        ratio.append(ingresos[i]/gastos[i])\n",
    "    \n",
    "    except Exception as ex:\n",
    "        ratio.append(ex)\n",
    "\n",
    "print(ratio)\n",
    "        "
   ]
  },
  {
   "cell_type": "code",
   "execution_count": null,
   "metadata": {},
   "outputs": [],
   "source": []
  }
 ],
 "metadata": {
  "kernelspec": {
   "display_name": "Python 3 (ipykernel)",
   "language": "python",
   "name": "python3"
  },
  "language_info": {
   "codemirror_mode": {
    "name": "ipython",
    "version": 3
   },
   "file_extension": ".py",
   "mimetype": "text/x-python",
   "name": "python",
   "nbconvert_exporter": "python",
   "pygments_lexer": "ipython3",
   "version": "3.10.4"
  }
 },
 "nbformat": 4,
 "nbformat_minor": 4
}
