{
 "cells": [
  {
   "attachments": {
    "python.jpg": {
     "image/jpeg": "[encoded data removed]"
    }
   },
   "cell_type": "markdown",
   "metadata": {},
   "source": [
    "![python.jpg](attachment:python.jpg)"
   ]
  },
  {
   "cell_type": "markdown",
   "metadata": {},
   "source": [
    "# Python Basics I\n",
    "\n",
    "\n",
    "Bienvenido a tu primer asalto con Python. En este notebook encontrarás los primeros pasos para empezar a familiarizarte con este lenguaje.\n",
    "\n",
    "1. [Variables](#1.-Variables)\n",
    "2. [Print](#2.-Print)\n",
    "3. [Comentarios](#3.-Comentarios)\n",
    "4. [Flujos de ejecución](#4.-Flujos-de-ejecución)\n",
    "5. [Del](#5.-Del)\n",
    "6. [Tipos de los datos](#6.-Tipos-de-los-datos)\n",
    "7. [Conversión de tipos](#7.-Conversión-de-tipos)\n",
    "8. [Input](#8.-Input)\n",
    "9. [None](#9.-None)\n",
    "10. [Sintaxis y best practices](#10.-Sintaxis-y-best-practices)\n",
    "11. [Resumen](#11.-Resumen)\n"
   ]
  },
  {
   "cell_type": "markdown",
   "metadata": {},
   "source": [
    "## 1. Variables\n",
    "Empezamos nuestra aventura en Python declarando variables. ¿Qué es esto y para qué sirve? Simplemente es una manera de etiquetar los datos del programa. Empezaremos declarando variables muy simples, como números y texto, pero acabaremos implementando estructuras más complejas.\n",
    "\n",
    "\n",
    "### Variables numéricas"
   ]
  },
  {
   "cell_type": "code",
   "execution_count": null,
   "metadata": {},
   "outputs": [],
   "source": []
  },
  {
   "cell_type": "markdown",
   "metadata": {},
   "source": [
    "**Esto es una asignación**. A la palabra *ingresos*, le asignamos un valor mediante `=`.\n",
    "Si queremos ver el valor de la variable, simplemente escribimos su nombre en una celda."
   ]
  },
  {
   "cell_type": "code",
   "execution_count": null,
   "metadata": {},
   "outputs": [],
   "source": []
  },
  {
   "cell_type": "code",
   "execution_count": null,
   "metadata": {},
   "outputs": [],
   "source": []
  },
  {
   "cell_type": "markdown",
   "metadata": {},
   "source": [
    "### Cadenas de texto\n",
    "Las cadenas de texto se declaran con comillas simples o dobles"
   ]
  },
  {
   "cell_type": "code",
   "execution_count": null,
   "metadata": {},
   "outputs": [],
   "source": []
  },
  {
   "cell_type": "markdown",
   "metadata": {},
   "source": [
    "Python es un lenguaje dinámico por lo que simpre podremos actualizar los valores de las variables. **Se recomienda usar nombres descriptivos para declarar las variables, pero no excesivamente largos**. Así evitamos sobreescribirlas sin querer.\n",
    "\n",
    "Por otro lado, cuidado con los caracteres ele y uno (`l` vs `1`), así como con cero y o (`0` vs `O`). Se suelen confundir.\n",
    "\n",
    "fatal vs fata1\n",
    "\n",
    "clarO vs clar0\n",
    "\n",
    "Reasignamos valor a gastos"
   ]
  },
  {
   "cell_type": "code",
   "execution_count": null,
   "metadata": {},
   "outputs": [],
   "source": []
  },
  {
   "cell_type": "code",
   "execution_count": null,
   "metadata": {},
   "outputs": [],
   "source": []
  },
  {
   "cell_type": "markdown",
   "metadata": {},
   "source": [
    "Ahora la variable gastos vale 200. Si la última línea de una celda es una variable, su valor será el *output* de la celda: 200.\n",
    "\n",
    "Vale, ¿y de qué nos sirve guardar variables?\n",
    "\n",
    "Podremos usar estos datos posteriormente, en otro lugar del programa. Por ejemplo, si ahora en una celda nueva queremos obtener el beneficio, simplemente restamos los nombres de las variables"
   ]
  },
  {
   "cell_type": "code",
   "execution_count": null,
   "metadata": {},
   "outputs": [],
   "source": []
  },
  {
   "cell_type": "markdown",
   "metadata": {},
   "source": [
    "El `print` sirve para ver el output de la celda, imprimiendo valores por pantalla. Lo veremos en el siguiente apartado.\n",
    "\n",
    "Si has programado en otros lenguajes, te llamará la atención que en Python no hay que especificar los tipos de los datos cuando declaramos una variable. No tenemos que decirle a Python que *ingresos* es un valor numerico o que *ingresos_texto* es una cadena de texto. Python lo interpreta y sabe qué tipo de datos son. Cada variable tiene su tipo de datos ya que **Python es un lenguaje fuertemente tipado**. Lo veremos más adelante, en el apartado *Tipos de datos*."
   ]
  },
  {
   "attachments": {
    "error.png": {
     "image/png": "[encoded data removed]"
    }
   },
   "cell_type": "markdown",
   "metadata": {},
   "source": [
    "![error.png](attachment:error.png)<table>\n",
    " <tr>\n",
    "     <td style=\"text-align:left\">\n",
    "         <h3>ERRORES en variables</h3>\n",
    " </td></tr>\n",
    "</table>"
   ]
  },
  {
   "cell_type": "markdown",
   "metadata": {},
   "source": [
    "### Escribir mal el nombre\n",
    "Un error típico cuando declaramos variables es **escribir su nombre mal, o llamar despues a la variable de forma errónea**. En tal caso, aparece un `NameError: name 'variable_que_no_existe' is not defined`"
   ]
  },
  {
   "cell_type": "code",
   "execution_count": null,
   "metadata": {},
   "outputs": [],
   "source": []
  },
  {
   "cell_type": "markdown",
   "metadata": {},
   "source": [
    "Fíjate que te indica la línea donde se produce el error, el tipo de error (`NameError`), y una breve descripción del error."
   ]
  },
  {
   "cell_type": "markdown",
   "metadata": {},
   "source": [
    "### Cerrar bien los strings\n",
    "Cuidado tambien cuando definamos una cadena de texto, y se nos olvide cerrarla con sus correspondientes comillas. Nos dará un `SyntaxError: EOL while scanning string literal` (End Of Line)"
   ]
  },
  {
   "cell_type": "code",
   "execution_count": null,
   "metadata": {},
   "outputs": [],
   "source": []
  },
  {
   "cell_type": "markdown",
   "metadata": {},
   "source": [
    "### Prohibido espacios en los nombres de las variables\n",
    "También dará error si tenemos un espacio en la declaración de la variable. Se recomienda mínusculas y guiones bajos para simular los espacios.\n",
    "\n",
    "**Los espacios que encuentres alrededor del igual se pueden usar perfectamente**. Es pura estética a la hora de leer el código."
   ]
  },
  {
   "cell_type": "code",
   "execution_count": null,
   "metadata": {},
   "outputs": [],
   "source": []
  },
  {
   "cell_type": "markdown",
   "metadata": {},
   "source": [
    "### Números en el nombre de la variable\n",
    "Ojo con los números cuando declaremos variables. En ocasiones es determinante describir nuestra variable con algún número. En tal caso, ponlo siempre al final del nombre de la variable, ya que sino saltará un error."
   ]
  },
  {
   "cell_type": "code",
   "execution_count": null,
   "metadata": {},
   "outputs": [],
   "source": []
  },
  {
   "cell_type": "code",
   "execution_count": null,
   "metadata": {},
   "outputs": [],
   "source": []
  },
  {
   "cell_type": "markdown",
   "metadata": {},
   "source": [
    "### Sensible a mayusculas\n",
    "Mucho cuidado con las mayusculas y minusculas porque Python no las ignora. Si todas las letras de una variable están en mayusculas, tendremos que usarla en mayusculas, sino dará un error de que no encuentra la variable."
   ]
  },
  {
   "cell_type": "code",
   "execution_count": null,
   "metadata": {},
   "outputs": [],
   "source": []
  },
  {
   "cell_type": "markdown",
   "metadata": {},
   "source": [
    "### Palabras reservadas\n",
    "En Python, como en otros lenguajes, hay una serie de palabras reservadas que tienen un significado para el intérprete de Python y por lo tanto no podemos usar para ponerle nombre a nuestras variables.\n",
    "\n",
    "Por ejemplo, `def` se usa para definir funciones en Python (lo veremos en otros notebooks), por lo que no podemos emplear `def` para nombrar a nuestras variables"
   ]
  },
  {
   "cell_type": "code",
   "execution_count": null,
   "metadata": {},
   "outputs": [],
   "source": []
  },
  {
   "cell_type": "code",
   "execution_count": null,
   "metadata": {},
   "outputs": [],
   "source": []
  },
  {
   "cell_type": "markdown",
   "metadata": {},
   "source": [
    "Consulta la lista de palabras reservadas de Python"
   ]
  },
  {
   "cell_type": "code",
   "execution_count": null,
   "metadata": {},
   "outputs": [],
   "source": []
  },
  {
   "cell_type": "markdown",
   "metadata": {},
   "source": [
    "### Resumen variables\n",
    "En resumen:\n",
    "* Usar minusculas. Sensible a mayusculas/minusculas\n",
    "* No usar espacios\n",
    "* No usar palabras reservadas\n",
    "* No usar numeros al principio de la variable\n",
    "* Cuidado con los caracteres `l`, `1`, `O`, `0`"
   ]
  },
  {
   "attachments": {
    "ejercicio.png": {
     "image/png": "[encoded data removed]"
    }
   },
   "cell_type": "markdown",
   "metadata": {},
   "source": [
    "![ejercicio.png](attachment:ejercicio.png)<table align=\"left\">\n",
    " <tr>\n",
    "     <td style=\"text-align:left\">\n",
    "         <h3>Ejercicio variables</h3>\n",
    "\n",
    "      \n",
    "<ol>\n",
    "    <li>Crea un programa que almacene tu nombre y tus apellidos en dos variables diferentes. </li>\n",
    "    <li>Guarda tu edad en otra variable</li>\n",
    "    <li>Modifica la variable de tu edad</li>\n",
    "    <li>Comprueba que todas las variables tienen los valores que les corresponde</li>\n",
    "</ol>\n",
    "         \n",
    " </td></tr>\n",
    "</table>"
   ]
  },
  {
   "cell_type": "code",
   "execution_count": null,
   "metadata": {},
   "outputs": [],
   "source": []
  },
  {
   "cell_type": "markdown",
   "metadata": {},
   "source": [
    "## 2. Print"
   ]
  },
  {
   "cell_type": "markdown",
   "metadata": {},
   "source": [
    "Hasta ahora hemos visto en Jupyter dos tipos de celdas:\n",
    "* **Markdown**: básicamente texto para las explicaciones\n",
    "* **Código**: donde insertamos el código Python y lo ejecutamos\n",
    "\n",
    "Las celdas de código, no solo corren el código y realizan todas las operaciones que le indiquemos, sino que también tienen un output, una salida de ese código. Tenemos dos opciones para ver el output del código, o bien mediante `print`, o poniendo una variable al final de la celda. En este último caso, veremos el valor de esa variable"
   ]
  },
  {
   "cell_type": "code",
   "execution_count": null,
   "metadata": {},
   "outputs": [],
   "source": []
  },
  {
   "cell_type": "markdown",
   "metadata": {},
   "source": [
    "Si hacemos un print de un texto, podemos concatenar valores de variables mediante `%s`."
   ]
  },
  {
   "cell_type": "code",
   "execution_count": null,
   "metadata": {},
   "outputs": [],
   "source": []
  },
  {
   "cell_type": "markdown",
   "metadata": {},
   "source": [
    "Otra opcion si queremos imprimir por pantalla varios strings, es separandolos por comas en el `print`. Fíjate que le añade espacios en la salida cada vez que ponemos un valor nuevo entre comas."
   ]
  },
  {
   "cell_type": "code",
   "execution_count": null,
   "metadata": {},
   "outputs": [],
   "source": []
  },
  {
   "cell_type": "markdown",
   "metadata": {},
   "source": [
    "## 3. Comentarios\n",
    "Se trata de texto que va junto con el código, y que el intérprete de Python ignora por completo. Muy útil para documentar y explicar el código"
   ]
  },
  {
   "cell_type": "code",
   "execution_count": null,
   "metadata": {},
   "outputs": [],
   "source": []
  },
  {
   "cell_type": "markdown",
   "metadata": {},
   "source": [
    "**IMPORTATE**. SIEMPRE comentar el código. Nunca sabes quén lo puede heredar. Te dejo en [este link](https://realpython.com/python-comments-guide/) una guía interesante sobre cómo comentar tu código."
   ]
  },
  {
   "cell_type": "markdown",
   "metadata": {},
   "source": [
    "## 4. Flujos de ejecución\n",
    "Los programas de Python se ejecutan secuencialmente, por lo que el orden en el que escribas las operaciones es determinante"
   ]
  },
  {
   "cell_type": "code",
   "execution_count": null,
   "metadata": {},
   "outputs": [],
   "source": []
  },
  {
   "cell_type": "markdown",
   "metadata": {},
   "source": [
    "**Da error**, primero tenemos que declarar las ventas, y luego sumarlas.\n",
    "\n",
    "**¿Cuándo acaba una línea de código?**. El salto de línea lo interpreta Python como una nueva instrucción. En muchos lengujes, como Java hay que especificar el fin de la sentencia de código mediante `;`. En Python no es necesario, aunque se puede usar igualmente."
   ]
  },
  {
   "cell_type": "code",
   "execution_count": null,
   "metadata": {},
   "outputs": [],
   "source": []
  },
  {
   "cell_type": "markdown",
   "metadata": {},
   "source": [
    "## 5. Del\n",
    "Es la sentencia que usaremos para borrar una variable. La verdad, no se suelen borrar variables. Vamos desarrollando los programas de Python sin preocuparnos de limpiar aquellas variables que no usamos. Normalmente no borrarlas no suele ser un problema, pero cuando manejamos un gran volumen de datos, podemos sufrir problemas de rendimiento ya que **las variables ocupan memoria**.\n",
    "\n",
    "Cuando las variables son las que hemos visto hasta ahora, no pasa nada, pero si son más pesadas, como por ejemplo datasets de imágenes que ocupan mucho, sí va a venir bien eliminar aquellas que no usemos."
   ]
  },
  {
   "cell_type": "code",
   "execution_count": null,
   "metadata": {},
   "outputs": [],
   "source": []
  },
  {
   "cell_type": "markdown",
   "metadata": {},
   "source": [
    "## 6. Tipos de los datos\n",
    "Python es un lenguaje fuertemente tipado. Eso significa que las variables que usamos pertenecen a un tipo de datos: numero entero (int), real (float), texto (String), u otro tipo de objetos.\n",
    "\n",
    "**¿Por qué es importante saber bien de que tipos son los datos?** Porque cada tipo de dato tiene una serie propiedades y operaciones asociadas. Por ejemplo, a un texto no lo puedo sumar 5. Por lo que cuando vayamos a hacer operaciones entre ellos, tenemos que asegurarnos de que son del mismo tipo para que el resultado sea el esperado. `texto + 5` no tiene sentido y va a dar error. Parece obvio, pero hay ocasiones en las que los tipos de los datos no son los esperados.\n",
    "\n",
    "**¿Cuántos tipos de datos hay?** Básicamente aquí no hay límites. En este notebook veremos los más básicos, pero en notebooks posteriores verás que puedes crearte tus propios tipos de datos mediante las **clases**. En Python hay una serie de tipos de datos básicos, que podremos usar sin importar ningun módulo externo, son los llamados [*built-in Types*](https://docs.python.org/3/library/stdtypes.html). Estos son los más comunes:\n",
    "\n",
    "* **Numérico**: tenemos `int`, `float` y `complex`. Dependiendo de si es un numero entero, uno real o un complejo.\n",
    "* **String**: o Cadena. Cadena de texto plano\n",
    "* **Booleano**: o Lógico. `True`/`False`\n",
    "\n",
    "**¿Cómo sabemos el tipo de datos de una variable?** Mediante `type(nombre_variable)`"
   ]
  },
  {
   "cell_type": "markdown",
   "metadata": {},
   "source": [
    "### Numéricos"
   ]
  },
  {
   "cell_type": "code",
   "execution_count": null,
   "metadata": {},
   "outputs": [],
   "source": []
  },
  {
   "cell_type": "markdown",
   "metadata": {},
   "source": [
    "Bien, es un ***int***, un número entero. Si lo que quiero es un numero real, es decir, que tenga decimales, le añado un punto"
   ]
  },
  {
   "cell_type": "code",
   "execution_count": null,
   "metadata": {},
   "outputs": [],
   "source": []
  },
  {
   "cell_type": "markdown",
   "metadata": {},
   "source": [
    "Aunque no le haya añadido decimales como tal, ya le estoy diciendo a Python que esta variable es un numero real (***float***)."
   ]
  },
  {
   "cell_type": "code",
   "execution_count": null,
   "metadata": {},
   "outputs": [],
   "source": []
  },
  {
   "cell_type": "markdown",
   "metadata": {},
   "source": [
    "Algunas operaciones básicas que podemos hacer con los numeros:\n",
    "* Sumar: `+`\n",
    "* Restar: `-`\n",
    "* Multiplicar: `*`\n",
    "* Dividir: `/`\n",
    "* Elevar: `**`\n",
    "* Cociente division: `//`\n",
    "* Resto de la división: `%`"
   ]
  },
  {
   "cell_type": "code",
   "execution_count": null,
   "metadata": {},
   "outputs": [],
   "source": []
  },
  {
   "cell_type": "code",
   "execution_count": null,
   "metadata": {},
   "outputs": [],
   "source": []
  },
  {
   "cell_type": "markdown",
   "metadata": {},
   "source": [
    "### Strings\n",
    "El tercer tipo de datos más común es el *String*, o cadena de texto. Hay varias maneras de declararlo:"
   ]
  },
  {
   "cell_type": "code",
   "execution_count": null,
   "metadata": {},
   "outputs": [],
   "source": []
  },
  {
   "cell_type": "markdown",
   "metadata": {},
   "source": [
    "Si da la casualidad de que en el texto hay comillas, tenemos la posibilidad de que Python las interprete como parte del texto y no como comando de inicio/cierre de String"
   ]
  },
  {
   "cell_type": "code",
   "execution_count": null,
   "metadata": {},
   "outputs": [],
   "source": []
  },
  {
   "cell_type": "markdown",
   "metadata": {},
   "source": [
    "En ocasiones queremos poner saltos de línea o tabulaciones en los prints, o simplemente en una variable de tipo String. Para ello usamos los [*escape characters*](https://www.w3schools.com/python/gloss_python_escape_characters.asp) como `\\n` para saltos de línea o `\\t` para tabulaciones."
   ]
  },
  {
   "cell_type": "code",
   "execution_count": null,
   "metadata": {},
   "outputs": [],
   "source": []
  },
  {
   "cell_type": "markdown",
   "metadata": {},
   "source": [
    "Para unir dos variables de tipo String, simplemente usamos el `+`"
   ]
  },
  {
   "cell_type": "code",
   "execution_count": null,
   "metadata": {},
   "outputs": [],
   "source": []
  },
  {
   "cell_type": "markdown",
   "metadata": {},
   "source": [
    "### Booleano\n",
    "Por último, el cuarto tipo de datos basiquísimo es el *booleano*: `True`/`False`. Para que Python reconoza este tipo de datos, hay que escribirlos con la primera letra en mayúscula"
   ]
  },
  {
   "cell_type": "code",
   "execution_count": null,
   "metadata": {},
   "outputs": [],
   "source": []
  },
  {
   "cell_type": "markdown",
   "metadata": {},
   "source": [
    "Tipos de datos hay muchos, verás más adelante cómo crear tus propios tipos de datos mediante las clases y los objetos. Pero por ahora, quédate con los tipos de datos más simples:\n",
    "* **int**: entero\n",
    "* **float**: real\n",
    "* **str**: cadena de texto\n",
    "* **booleano**: true/false"
   ]
  },
  {
   "cell_type": "markdown",
   "metadata": {},
   "source": [
    "En otros lenguajes de programación el valor numérico suele ir más desagregado dependiendo del volumen del mismo. No es lo mismo tener un `double`, que un `float`. Por suerte en Python no hay que preocuparse de eso :)\n",
    "\n",
    "Veamos más ejemplos"
   ]
  },
  {
   "cell_type": "code",
   "execution_count": null,
   "metadata": {},
   "outputs": [],
   "source": []
  },
  {
   "attachments": {
    "error.png": {
     "image/png": "[encoded data removed]"
    }
   },
   "cell_type": "markdown",
   "metadata": {},
   "source": [
    "![error.png](attachment:error.png)<table >\n",
    " <tr>\n",
    "     <td style=\"text-align:left\">\n",
    "         <h3>ERRORES en tipos de datos</h3>\n",
    "         \n",
    " </td></tr>\n",
    "</table>"
   ]
  },
  {
   "cell_type": "code",
   "execution_count": null,
   "metadata": {},
   "outputs": [],
   "source": []
  },
  {
   "cell_type": "markdown",
   "metadata": {},
   "source": [
    "## 7. Conversión de tipos\n",
    "Como en otros lenguajes, en Python también tenemos la posibilidad de realizar conversiones entre los tipos de datos. Hasta ahora hemos visto pocos, pero cuando descubramos más tipos de datos y objetos, verás que son muy comunes estas transformaciones.\n",
    "\n",
    "Un caso muy habitual es leer un archivo datos numéricos, y que Python interprete los números como caracteres. No es un error, pero posteriormente, cuando hagamos operaciones con nuestros números, tendremos errores, ya que en realidad son cadenas de texto. Si forzamos el cambio a numerico, nos evitaremos futuros problemas.\n",
    "\n",
    "**Mucho cuidado en los cambios de tipos**. Tenemos que estar seguros de lo que hacemos ya que podemos perder información, o lo más probable, puede dar error, al no ser compatible el cambio.\n",
    "\n",
    "Veamos como cambiar los tipos"
   ]
  },
  {
   "cell_type": "code",
   "execution_count": null,
   "metadata": {},
   "outputs": [],
   "source": []
  },
  {
   "cell_type": "markdown",
   "metadata": {},
   "source": [
    "Perdemos unos decimales, normalmente nada grave, aunque depende de la aplicación.\n",
    "\n",
    "**NOTA**: si lo que queremos es redondear, podemos usar la función `round()`"
   ]
  },
  {
   "cell_type": "code",
   "execution_count": null,
   "metadata": {},
   "outputs": [],
   "source": []
  },
  {
   "cell_type": "code",
   "execution_count": null,
   "metadata": {},
   "outputs": [],
   "source": []
  },
  {
   "cell_type": "markdown",
   "metadata": {},
   "source": [
    "Para pasar de un **numero a string**, no hay problema"
   ]
  },
  {
   "cell_type": "code",
   "execution_count": null,
   "metadata": {},
   "outputs": [],
   "source": []
  },
  {
   "cell_type": "markdown",
   "metadata": {},
   "source": [
    "De **String a un número** tampoco suele haber problema. Hay que tener mucho cuidado con los puntos de los decimales. **Puntos, NO comas**"
   ]
  },
  {
   "cell_type": "code",
   "execution_count": null,
   "metadata": {},
   "outputs": [],
   "source": []
  },
  {
   "cell_type": "markdown",
   "metadata": {},
   "source": [
    "Pasar de **numero a boleano y viceversa**, tambien es bastante sencillo. Simplemente ten en cuenta que los 0s son `False`, y el resto de numeros equivalen a un `True`"
   ]
  },
  {
   "cell_type": "code",
   "execution_count": null,
   "metadata": {},
   "outputs": [],
   "source": []
  },
  {
   "cell_type": "code",
   "execution_count": null,
   "metadata": {},
   "outputs": [],
   "source": []
  },
  {
   "cell_type": "markdown",
   "metadata": {},
   "source": [
    "En el caso de transformar **String a booleano**, los strings vacíos serán `False`, mientras que los que tengan cualquier cadena, equivaldrán a `True`.\n",
    "\n",
    "Sin embargo, si la operación es la inversa, el booleano `True` pasará a valer una cadena de texto como `True`, y para `False` lo mismo."
   ]
  },
  {
   "cell_type": "code",
   "execution_count": null,
   "metadata": {},
   "outputs": [],
   "source": []
  },
  {
   "attachments": {
    "error.png": {
     "image/png": "[encoded data removed]"
    }
   },
   "cell_type": "markdown",
   "metadata": {},
   "source": [
    "![error.png](attachment:error.png)<table>\n",
    " <tr>\n",
    "     <td style=\"text-align:left\">\n",
    "         <h3>ERRORES en conversion de tipos</h3>\n",
    "         \n",
    " </td></tr>\n",
    "</table>"
   ]
  },
  {
   "cell_type": "markdown",
   "metadata": {},
   "source": [
    "Ojo si intentamos pasar a entero un string con pinta de real. En cuanto lleva el punto, ya tiene que ser un numero real. A no ser que lo pasemos a real y posteriormente a entero (`int()`), o usando el `round()` como vimos anteriormente"
   ]
  },
  {
   "cell_type": "code",
   "execution_count": null,
   "metadata": {},
   "outputs": [],
   "source": []
  },
  {
   "cell_type": "markdown",
   "metadata": {},
   "source": [
    "Si leemos datos con decimales y tenemos comas en vez de puntos, habrá errores."
   ]
  },
  {
   "cell_type": "code",
   "execution_count": null,
   "metadata": {},
   "outputs": [],
   "source": []
  },
  {
   "cell_type": "markdown",
   "metadata": {},
   "source": [
    "Para solventar esto utilizaremos funciones que sustituyan unos caracteres por otros"
   ]
  },
  {
   "cell_type": "code",
   "execution_count": null,
   "metadata": {},
   "outputs": [],
   "source": []
  },
  {
   "cell_type": "markdown",
   "metadata": {},
   "source": [
    "Es fudndamental operar con los mismos tipos de datos. Mira lo que ocurre cuando sumamos texto con un numero. Da un `TypeError`. Básicamente nos dice que no puedes concatenar un texto con un numero entero"
   ]
  },
  {
   "cell_type": "code",
   "execution_count": null,
   "metadata": {},
   "outputs": [],
   "source": []
  },
  {
   "attachments": {
    "ejercicio.png": {
     "image/png": "[encoded data removed]"
    }
   },
   "cell_type": "markdown",
   "metadata": {},
   "source": [
    "![ejercicio.png](attachment:ejercicio.png)<table align=\"left\">\n",
    " <tr>\n",
    "     <td style=\"text-align:left\">\n",
    "         <h3>Ejercicio tipos de datos</h3>\n",
    "\n",
    "      \n",
    "<ol>\n",
    "    <li>Crea una variable de tipo String en la que se incluyan unas comillas dobles </li>\n",
    "    <li>Comprueba su tipo</li>\n",
    "    <li>Crea otro string guardándolo en otra variable, y prueba a sumarlos</li>\n",
    "    <li>Ahora declara una variable entera. Imprímela por pantalla</li>\n",
    "    <li>Cambia el tipo de la variable entera a float. Imprime por pantalla tanto la nueva variable obtenida, como su tipo</li>\n",
    "</ol>\n",
    "         \n",
    " </td></tr>\n",
    "</table>"
   ]
  },
  {
   "cell_type": "code",
   "execution_count": null,
   "metadata": {},
   "outputs": [],
   "source": []
  },
  {
   "cell_type": "markdown",
   "metadata": {},
   "source": [
    "## 8. Input\n",
    "Esta sentencia se usa en Python para recoger un valor que escriba el usuario del programa. Los programas suelen funcionar de esa manera, reciben un input, realizan operaciones, y acaban sacando un output para el usuario.\n",
    "\n",
    "Por ejemplo, en la siguiente celda recojo un input, que luego podremos usar en celdas posteriores.\n",
    "\n",
    "**CUIDADO**. Si corres una celda con un `input()` el programa se queda esperando a que el usuario meta un valor. Si en el momento en el que está esperando, vuelves a correr la misma celda, se te puede quedar pillado, depende del ordendaor/versión de Jupyter. Si eso ocurre, pincha en la celda y dale despues al botón de stop de arriba, o sino a Kernel -> Restart Kernel..."
   ]
  },
  {
   "cell_type": "code",
   "execution_count": null,
   "metadata": {},
   "outputs": [],
   "source": []
  },
  {
   "cell_type": "code",
   "execution_count": null,
   "metadata": {},
   "outputs": [],
   "source": []
  },
  {
   "cell_type": "markdown",
   "metadata": {},
   "source": [
    "Puedes poner ints, floats, strings, lo que quieras recoger en texto plano.\n",
    "\n",
    "Mira que fácil es hacer un chatbot un poco tonto, mediante el que hacemos preguntas al usuario, y almacenamos sus respuestas."
   ]
  },
  {
   "cell_type": "code",
   "execution_count": null,
   "metadata": {},
   "outputs": [],
   "source": []
  },
  {
   "attachments": {
    "ejercicio.png": {
     "image/png": "[encoded data removed]"
    }
   },
   "cell_type": "markdown",
   "metadata": {},
   "source": [
    "![ejercicio.png](attachment:ejercicio.png)<table>\n",
    " <tr>\n",
    "     <td style=\"text-align:left\">\n",
    "         <h3>ERRORES con input</h3>\n",
    "         \n",
    " </td></tr>\n",
    "</table>"
   ]
  },
  {
   "cell_type": "code",
   "execution_count": null,
   "metadata": {},
   "outputs": [],
   "source": [
    "\"\"\"\n",
    "Por defecto, el input del usuario es de tipo texto. Habrá que convertirlo a numerico con int(numero_input)\n",
    "o con float(numero_input). Lo vemos en el siguiente notebook.\n",
    "\"\"\"\n"
   ]
  },
  {
   "cell_type": "code",
   "execution_count": null,
   "metadata": {},
   "outputs": [],
   "source": []
  },
  {
   "attachments": {
    "ejercicio.png": {
     "image/png": "[encoded data removed]"
    }
   },
   "cell_type": "markdown",
   "metadata": {},
   "source": [
    "![ejercicio.png](attachment:ejercicio.png)<table align=\"left\">\n",
    " <tr>\n",
    "     <td style=\"text-align:left\">\n",
    "         <h3>Ejercicio input</h3>\n",
    "\n",
    "En este ejemplo vamos a simular un chatbot al que le haremos pedidos de pizzas.\n",
    "<ol>\n",
    "    <li>El chatbot tiene que saludar con un: \"Buenas tardes, bienvenido al servicio de pedido online, ¿Cuántas pizzas desea?\"</li>\n",
    "    <li>El ususario tiene que introducir un número de pizzas en una variable llamada 'pizz'</li>\n",
    "    <li>Respuesta del chatbot: \"Estupendo, se están preparando 'pizz' pizzas. Digame su dirección\"</li>\n",
    "    <li>El ususario tiene que introducir una direccion en formato String en otra variable llamada 'direcc'</li>\n",
    "    <li>Respuesta final del chatbot: \"Le mandaremos las 'pizz' pizzas a la dirección 'direcc'. Muchas gracias por su pedido.\"</li>\n",
    "</ol>\n",
    "         \n",
    " </td></tr>\n",
    "</table>"
   ]
  },
  {
   "cell_type": "code",
   "execution_count": null,
   "metadata": {},
   "outputs": [],
   "source": []
  },
  {
   "cell_type": "code",
   "execution_count": null,
   "metadata": {},
   "outputs": [],
   "source": []
  },
  {
   "cell_type": "code",
   "execution_count": null,
   "metadata": {},
   "outputs": [],
   "source": []
  },
  {
   "cell_type": "code",
   "execution_count": null,
   "metadata": {},
   "outputs": [],
   "source": []
  },
  {
   "cell_type": "markdown",
   "metadata": {},
   "source": [
    "## 9. None\n",
    "Palabra reservada en Python para designar al valor nulo. `None` no es 0, tampoco es un string vacio, ni `False`, simplemente es un tipo de datos más para representar el conjunto vacío."
   ]
  },
  {
   "cell_type": "code",
   "execution_count": null,
   "metadata": {},
   "outputs": [],
   "source": []
  },
  {
   "cell_type": "markdown",
   "metadata": {},
   "source": [
    "## 10. Sintaxis y best practices\n",
    "A la hora de escribir en Python, existen ciertas normas que hay que tener en cuenta:\n",
    "* Todo lo que abras, lo tienes que cerrar: paréntesis, llaves, corchetes...\n",
    "* Los decimales se ponen con puntos `.`\n",
    "* Best practices\n",
    "    * **Caracteres**: NO se recomienda usar Ñs, acentos o caracteres raros (ª,º,@,ç...) en el codigo. Ponerlo únicamente en los comentarios.\n",
    "    * **Espacios**: NO usar espacios en los nombres de las variables ni de las funciones. Se recomienda usar guión bajo para simular el espacio. O también juntar las palabras y usar mayuscula para diferenciarlas `miVariable`. Lo normal es todo minúscula y guiones bajos\n",
    "    * Ahora bien, sí se recomienda usar espacios entre cada comando, para facilitar la lectura, aunque esto ya es más cuestión de gustos. `mi_variable = 36`.\n",
    "    * Se suelen declarar las variables en minuscula.\n",
    "    * Las constantes (variables que no van a cambiar nunca) en mayuscula. `MI_PAIS = \"España\"`\n",
    "    * **Cada sentencia en una linea**. Se puede usar el `;` para declarar varias variables, pero no es lo habitual\n",
    "    * **Comentarios**: TODOS los que se pueda. Nunca sabes cuándo otra persona va a coger tu espectacular código, o si tu *yo* del futuro se acordará de por qué hiciste ese bucle while en vez de un for.\n",
    "    * **Case sensitive**: sensible a mayusculas y minusculas. CUIDADO con esto cuando declaremos variables o usemos Strings\n",
    "    * **Sintaxis de línea**: para una correcta lectura del codigo lo mejor es aplicar sintaxis de línea en la medida de lo posible"
   ]
  },
  {
   "cell_type": "code",
   "execution_count": null,
   "metadata": {},
   "outputs": [],
   "source": []
  },
  {
   "cell_type": "markdown",
   "metadata": {},
   "source": [
    "### The Zen of Python\n",
    "Cualquier consejo que te haya podido dar hasta ahora se queda en nada comparado con los 20 principios que definió *Tim Peters* en 1999. Uno de los mayores colaboradores en la creación de este lenguaje"
   ]
  },
  {
   "cell_type": "code",
   "execution_count": null,
   "metadata": {},
   "outputs": [],
   "source": []
  },
  {
   "cell_type": "markdown",
   "metadata": {},
   "source": [
    "## 11. Resumen"
   ]
  },
  {
   "cell_type": "code",
   "execution_count": null,
   "metadata": {},
   "outputs": [],
   "source": [
    "# Declarar variables\n",
    "var = 10\n",
    "\n",
    "# Reasignar valores\n",
    "var = 12\n",
    "\n",
    "# Imprimir por pantalla\n",
    "print(\"Primera linea\")\n",
    "print(\"Variable declarada es:\", var)\n",
    "print(\"Variable declarada es: %s\" %(var))\n",
    "\n",
    "\"\"\"\n",
    "Comentarios\n",
    "Multilínea\n",
    "\"\"\"\n",
    "\n",
    "# Eliminar variables\n",
    "del var\n",
    "\n",
    "# Tipos de datos\n",
    "print(\"\\n\") # Simplemente para que haya un salto de linea en el output\n",
    "print(type(1)) # Int\n",
    "print(type(1.0)) # Float\n",
    "print(type(\"1\")) # String\n",
    "print(type(True)) # Boolean\n",
    "\n",
    "# Conversiones de tipos\n",
    "print(\"\\n\")\n",
    "var2 = 4\n",
    "print(type(var2))\n",
    "var2 = str(var2)\n",
    "print(type(var2))\n",
    "var2 = bool(var2)\n",
    "print(type(var2))\n",
    "\n",
    "# El valor nulo\n",
    "print(None)\n",
    "\n",
    "# Input de variables\n",
    "var3 = input(\"Inserta variable \")"
   ]
  }
 ],
 "metadata": {
  "kernelspec": {
   "display_name": "Python 3 (ipykernel)",
   "language": "python",
   "name": "python3"
  },
  "language_info": {
   "codemirror_mode": {
    "name": "ipython",
    "version": 3
   },
   "file_extension": ".py",
   "mimetype": "text/x-python",
   "name": "python",
   "nbconvert_exporter": "python",
   "pygments_lexer": "ipython3",
   "version": "3.9.7"
  },
  "nbTranslate": {
   "displayLangs": [
    "*"
   ],
   "hotkey": "alt-t",
   "langInMainMenu": true,
   "sourceLang": "en",
   "targetLang": "fr",
   "useGoogleTranslate": true
  },
  "varInspector": {
   "cols": {
    "lenName": 16,
    "lenType": 16,
    "lenVar": 40
   },
   "kernels_config": {
    "python": {
     "delete_cmd_postfix": "",
     "delete_cmd_prefix": "del ",
     "library": "var_list.py",
     "varRefreshCmd": "print(var_dic_list())"
    },
    "r": {
     "delete_cmd_postfix": ") ",
     "delete_cmd_prefix": "rm(",
     "library": "var_list.r",
     "varRefreshCmd": "cat(var_dic_list()) "
    }
   },
   "types_to_exclude": [
    "module",
    "function",
    "builtin_function_or_method",
    "instance",
    "_Feature"
   ],
   "window_display": false
  }
 },
 "nbformat": 4,
 "nbformat_minor": 4
}
