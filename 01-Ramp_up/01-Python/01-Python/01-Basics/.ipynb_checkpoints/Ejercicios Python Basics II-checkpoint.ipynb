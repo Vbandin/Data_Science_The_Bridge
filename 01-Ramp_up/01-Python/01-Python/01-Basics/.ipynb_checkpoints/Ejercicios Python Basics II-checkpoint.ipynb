{
 "cells": [
  {
   "cell_type": "markdown",
   "metadata": {},
   "source": [
    "# Ejercicios Python Basics II"
   ]
  },
  {
   "cell_type": "markdown",
   "metadata": {},
   "source": [
    "## Ejercicio 1\n",
    "* Crea dos variables numericas: un `int` y un `float`\n",
    "* Comprueba sus tipos\n",
    "* Sumalas en otra nueva\n",
    "* ¿De qué tipo es la nueva variable?\n",
    "* Elimina las dos primeras variables creadas"
   ]
  },
  {
   "cell_type": "code",
   "execution_count": 7,
   "metadata": {},
   "outputs": [
    {
     "name": "stdout",
     "output_type": "stream",
     "text": [
      "<class 'int'>\n",
      "<class 'float'>\n",
      "10.0\n",
      "<class 'float'>\n"
     ]
    },
    {
     "ename": "NameError",
     "evalue": "name 'num_int' is not defined",
     "output_type": "error",
     "traceback": [
      "\u001b[1;31m---------------------------------------------------------------------------\u001b[0m",
      "\u001b[1;31mNameError\u001b[0m                                 Traceback (most recent call last)",
      "Input \u001b[1;32mIn [7]\u001b[0m, in \u001b[0;36m<cell line: 17>\u001b[1;34m()\u001b[0m\n\u001b[0;32m     13\u001b[0m \u001b[38;5;28;01mdel\u001b[39;00m num_int\n\u001b[0;32m     15\u001b[0m \u001b[38;5;28;01mdel\u001b[39;00m num_float\n\u001b[1;32m---> 17\u001b[0m \u001b[38;5;28mprint\u001b[39m(\u001b[43mnum_int\u001b[49m)\n\u001b[0;32m     19\u001b[0m \u001b[38;5;28mprint\u001b[39m(num_float)\n",
      "\u001b[1;31mNameError\u001b[0m: name 'num_int' is not defined"
     ]
    }
   ],
   "source": [
    "num_int = 5\n",
    "num_float = 5.0\n",
    "\n",
    "print(type(num_int))\n",
    "\n",
    "print(type(num_float))\n",
    "\n",
    "suma = num_int + num_float\n",
    "print(suma)\n",
    "\n",
    "print(type(suma))\n",
    "\n",
    "del num_int\n",
    "\n",
    "del num_float\n",
    "\n",
    "print(num_int)\n",
    "\n",
    "print(num_float)\n"
   ]
  },
  {
   "cell_type": "markdown",
   "metadata": {},
   "source": [
    "## Ejercicio 2\n",
    "Escribe un programa para pasar de grados a radianes. Hay que usar `input`. Recuerda que la conversión se realiza mediante\n",
    "\n",
    "radianes = grados*(pi/180)"
   ]
  },
  {
   "cell_type": "code",
   "execution_count": 13,
   "metadata": {},
   "outputs": [
    {
     "name": "stdout",
     "output_type": "stream",
     "text": [
      "¿Cuantos grados quieres pasar a radianes? 90\n",
      "90 grados son 1.5707963267948966 radianes.\n"
     ]
    }
   ],
   "source": [
    "import math\n",
    "\n",
    "grados = input(\"¿Cuantos grados quieres pasar a radianes? \")\n",
    "\n",
    "radianes = float(grados)*(math.pi/180)\n",
    "\n",
    "print(grados + \" grados son \" + str(radianes) + \" radianes.\")"
   ]
  },
  {
   "cell_type": "markdown",
   "metadata": {},
   "source": [
    "## Ejercicio 3\n",
    "Escribe un programa que calcule el area de un paralelogramo (base x altura). También con `input`"
   ]
  },
  {
   "cell_type": "code",
   "execution_count": 16,
   "metadata": {},
   "outputs": [
    {
     "name": "stdout",
     "output_type": "stream",
     "text": [
      "Para calcular el área de un paralelogramo necesito que me indiques su base: 3\n",
      "Para terminar el calculo también necesito que me indiques su altura: 4\n",
      "El área de tu paralelogramo es 12.0\n"
     ]
    }
   ],
   "source": [
    "base = input(\"Para calcular el área de un paralelogramo necesito que me indiques su base: \")\n",
    "altura = input(\"Para terminar el calculo también necesito que me indiques su altura: \")\n",
    "\n",
    "area = float(base) * float(altura)\n",
    "\n",
    "print(\"El área de tu paralelogramo es \" + str(area))"
   ]
  },
  {
   "cell_type": "markdown",
   "metadata": {},
   "source": [
    "## Ejercicio 4\n",
    "Tenemos las siguientes variables:\n",
    "\n",
    "```Python\n",
    "A = 4\n",
    "B = \"Text\"\n",
    "C = 4.1\n",
    "```\n",
    "\n",
    "Comprueba:\n",
    "1. Si A y B son equivalentes\n",
    "2. Si A y C NO son equivalentes\n",
    "3. Si A es mayor que C \n",
    "4. Si C es menor o igual que A\n",
    "5. Si B NO es equivalente a C"
   ]
  },
  {
   "cell_type": "code",
   "execution_count": 18,
   "metadata": {},
   "outputs": [
    {
     "name": "stdout",
     "output_type": "stream",
     "text": [
      "False\n",
      "True\n",
      "False\n",
      "False\n",
      "True\n"
     ]
    }
   ],
   "source": [
    "A = 4\n",
    "B = \"Text\"\n",
    "C = 4.1\n",
    "\n",
    "print(A == B)\n",
    "print(A != C)\n",
    "print(A > C)\n",
    "print(C <= A)\n",
    "print(B != C)"
   ]
  },
  {
   "cell_type": "markdown",
   "metadata": {},
   "source": [
    "## Ejercicio 5\n",
    "Crea un programa donde se recojan dos inputs del usuario, y el output del programa sea si esos inputs son iguales o no"
   ]
  },
  {
   "cell_type": "code",
   "execution_count": 20,
   "metadata": {},
   "outputs": [
    {
     "name": "stdout",
     "output_type": "stream",
     "text": [
      "3\n",
      "5\n",
      "False\n"
     ]
    }
   ],
   "source": [
    "var1 = input()\n",
    "var2 = input()\n",
    "\n",
    "print(var1 == var2)"
   ]
  },
  {
   "cell_type": "markdown",
   "metadata": {},
   "source": [
    "## Ejercicio 6\n",
    "Mismo programa que en 5, pero en esta ocasión tienen que ser tres inputs y dos salidas. Una de las salidas que nos indique si todos son iguales, y la otra si al menos dos inputs sí que lo son"
   ]
  },
  {
   "cell_type": "code",
   "execution_count": 28,
   "metadata": {},
   "outputs": [
    {
     "name": "stdout",
     "output_type": "stream",
     "text": [
      "2\n",
      "3\n",
      "2\n",
      "True\n"
     ]
    }
   ],
   "source": [
    "var1 = input()\n",
    "var2 = input()\n",
    "var3 = input()\n",
    "\n",
    "#print(var1 == var2 and var1 == var3 and var2 == var3)\n",
    "print((var1 == var2 or var1 == var3) or (var2 == var3 or var2 == var1) or (var3 == var1 or var3 == var2))\n"
   ]
  },
  {
   "cell_type": "markdown",
   "metadata": {},
   "source": [
    "## Ejercicio 7\n",
    "Crea un programa que recoja dos inputs. Tiene que comprobar si su suma es igual, superior o inferior a 10"
   ]
  },
  {
   "cell_type": "code",
   "execution_count": 32,
   "metadata": {},
   "outputs": [
    {
     "name": "stdout",
     "output_type": "stream",
     "text": [
      "5\n",
      "6\n",
      "La suma es igual que 10: False\n",
      "La suma es mayor que 10: True\n",
      "La suma es menor que 10: False\n"
     ]
    }
   ],
   "source": [
    "var1 = input()\n",
    "var2 = input()\n",
    "suma = float(var1) + float(var2)\n",
    "print(\"La suma es igual que 10: \" + str(suma == 10))\n",
    "print(\"La suma es mayor que 10: \" + str(suma > 10))\n",
    "print(\"La suma es menor que 10: \" + str(suma < 10))\n",
    "\n",
    " #print((suma == 10) or (suma > 10) or (suma < 10))\n"
   ]
  },
  {
   "cell_type": "markdown",
   "metadata": {},
   "source": [
    "## Ejercicio 8\n",
    "Razona sin ejecutar código el output que obtendremos de las siguientes sentencias\n",
    "1. True and True and False\n",
    "2. not ((True or False) and (True or False))\n",
    "3. (False or False or False or True) and False\n",
    "4. not False and True and not True"
   ]
  },
  {
   "cell_type": "markdown",
   "metadata": {},
   "source": [
    "1. False\n",
    "2. False\n",
    "3. False\n",
    "4. False"
   ]
  },
  {
   "cell_type": "markdown",
   "metadata": {},
   "source": [
    "## Ejercicio 9\n",
    "Para este ejercicio vamos a poner en práctica [las funciones built in](https://docs.python.org/3/library/functions.html).\n",
    "\n",
    "1. Calcula el máximo de la lista: [4, 6, 8, -1]\n",
    "2. Suma todos los elementos de la lista anterior\n",
    "3. Redondea este float a 3 dígitos decimales: 63.451256965\n",
    "4. Valor absoluto de: -74"
   ]
  },
  {
   "cell_type": "code",
   "execution_count": 40,
   "metadata": {},
   "outputs": [
    {
     "name": "stdout",
     "output_type": "stream",
     "text": [
      "8\n",
      "17\n",
      "63.451\n",
      "74.0\n"
     ]
    }
   ],
   "source": [
    "lista = [4, 6, 8, -1]\n",
    "\n",
    "print(max(lista))\n",
    "\n",
    "suma_lista = lista[0]+lista[1]+lista[2]+lista[3]\n",
    "\n",
    "print(suma_lista)\n",
    "\n",
    "print(round(63.451256965,3))\n",
    "\n",
    "print(math.fabs(-74))"
   ]
  },
  {
   "cell_type": "markdown",
   "metadata": {},
   "source": [
    "## Ejercicio 10\n",
    "Para el siguiente string se pide imprimir por pantalla los siguientes casos\n",
    "\n",
    "    \"A quien madruga, dios le ayuda\"\n",
    "\n",
    "1. Pasarlo todo a mayusculas\n",
    "2. Pasarlo todo a minusculas\n",
    "3. Solo las iniciales de las palabras\n",
    "4. Crea una lista dividiendolo por sus espacios\n",
    "5. Sustituye las comas `,` por puntos y comas `;`\n",
    "6. Elimina las `a` minusculas"
   ]
  },
  {
   "cell_type": "code",
   "execution_count": 48,
   "metadata": {},
   "outputs": [
    {
     "name": "stdout",
     "output_type": "stream",
     "text": [
      "A quien madruga, dios le ayuda\n",
      "A QUIEN MADRUGA, DIOS LE AYUDA\n",
      "a quien madruga, dios le ayuda\n",
      "['a', 'quien', 'madruga,', 'dios', 'le', 'ayuda']\n",
      "a quien madruga; dios le ayuda\n",
      " quien mdrug, dios le yud\n"
     ]
    }
   ],
   "source": [
    "refran = \"A quien madruga, dios le ayuda\"\n",
    "\n",
    "print(refran)\n",
    "\n",
    "refran = refran.upper()\n",
    "\n",
    "print(refran)\n",
    "\n",
    "refran = refran.lower()\n",
    "\n",
    "print(refran)\n",
    "\n",
    "lista_refran = refran.split()\n",
    "\n",
    "print(lista_refran)\n",
    "\n",
    "print(refran.replace(\",\",\";\"))\n",
    "\n",
    "print(refran.replace(\"a\",\"\"))\n"
   ]
  },
  {
   "cell_type": "markdown",
   "metadata": {},
   "source": [
    "## Ejercicio 11\n",
    "1. Crea una lista con 3 elementos numéricos\n",
    "2. Añade un cuarto elemento\n",
    "3. Calcula la suma de todos\n",
    "4. Elimina el segundo elemento de la lista\n",
    "5. Añade otro elemento en la posicion 3 de la lista\n",
    "6. Crea otra lista con 4 elementos y concaténala a la que ya tenías."
   ]
  },
  {
   "cell_type": "code",
   "execution_count": 53,
   "metadata": {},
   "outputs": [
    {
     "name": "stdout",
     "output_type": "stream",
     "text": [
      "[1, 2, 3, 4]\n",
      "[1, 3, 4]\n",
      "[1, 3, 9, 4]\n",
      "[1, 3, 9, 4, 5, 6, 7, 8]\n"
     ]
    }
   ],
   "source": [
    "lista = [1, 2, 3]\n",
    "\n",
    "lista.append(4)\n",
    "\n",
    "print(lista)\n",
    "\n",
    "lista.remove(lista[1])\n",
    "\n",
    "print(lista)\n",
    "\n",
    "lista.insert(2,9)\n",
    "\n",
    "print(lista)\n",
    "\n",
    "lista2 = [5,6,7,8]\n",
    "\n",
    "lista_maestra = lista + lista2\n",
    "\n",
    "print(lista_maestra)"
   ]
  },
  {
   "cell_type": "code",
   "execution_count": null,
   "metadata": {},
   "outputs": [],
   "source": []
  }
 ],
 "metadata": {
  "kernelspec": {
   "display_name": "Python 3 (ipykernel)",
   "language": "python",
   "name": "python3"
  },
  "language_info": {
   "codemirror_mode": {
    "name": "ipython",
    "version": 3
   },
   "file_extension": ".py",
   "mimetype": "text/x-python",
   "name": "python",
   "nbconvert_exporter": "python",
   "pygments_lexer": "ipython3",
   "version": "3.10.4"
  }
 },
 "nbformat": 4,
 "nbformat_minor": 4
}
