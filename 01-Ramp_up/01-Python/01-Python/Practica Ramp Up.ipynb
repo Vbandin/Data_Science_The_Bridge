{
 "cells": [
  {
   "cell_type": "markdown",
   "metadata": {},
   "source": [
    "# Entrega Ramp Up\n"
   ]
  },
  {
   "cell_type": "markdown",
   "metadata": {},
   "source": [
    "## Ejercicio 1\n",
    "#### Crear un programa que calcule la cuota de una hipoteca\n",
    "\n",
    "Las cuotas hipotecarias se calculan utilizando la fórmula del interés frances. El objetivo del ejercicio es crear un programa que solicite al usuario los datos de su hipoteca (cantidad, intereses, y plazo en años) y le devuelva la cuota mensual a pagar\n",
    "\n",
    "La formula del interés frances es la siguiente:\n",
    "\\begin{align*}\n",
    "C=V \\frac{(1+i)^n i}{(1+i)^n -1}\n",
    "\\end{align*}\n",
    "\n",
    "\n",
    "    C = Cuota a pagar\n",
    "    V = Cantidad del préstamo hipotecario\n",
    "    i = tipo de interés del período (tipo de interes de la hipoteca por mes)\n",
    "    n = número de cuotas (en meses)\n",
    "\n",
    "V = 300.000\n",
    "\n",
    "i = 2 %\n",
    "\n",
    "n = 20*12\n",
    "\n",
    "output: 1517"
   ]
  },
  {
   "cell_type": "code",
   "execution_count": null,
   "metadata": {},
   "outputs": [],
   "source": [
    "import math\n",
    "\n",
    "cantidad = 300000\n",
    "interes_mensual = 0.02 / 12\n",
    "plazo = 20*12\n",
    "cuota = math.floor(cantidad * ((((1+interes_mensual)**(plazo))*interes_mensual) / (((1+interes_mensual)**(plazo))-1)))\n",
    "                    \n",
    "print(cuota)"
   ]
  },
  {
   "cell_type": "markdown",
   "metadata": {},
   "source": [
    "## Ejercicio 2\n",
    "#### Crear un programa que calcule el plan de amortización\n",
    "\n",
    "El objetivo del ejercicio es crear un programa que solicite al usuario los datos de su hipoteca (cantidad, intereses, y plazo en años) y le devuelva el plan de amortización.\n",
    "\n",
    "En cada cuota se pagan intereses por el capital restante, y se devuelve capital hasta la cuota mensual. El capital restante ha de ser actualizado restandole el capital devuelto.\n",
    "\n",
    "Salida ejemplo:\n",
    "\n",
    "mes  cuota  intereses  principal  pendiente   \n",
    "\n",
    "0  758.89   450.00   308.89   179691.11 \n",
    "\n",
    "**NOTA**: Tienes que partir de tipo de interes por periodo calculado en el apartado anterior, y del total de la hipoteca. Para cada mes calcular:\n",
    "\n",
    "1. cuota (apartado anterior)\n",
    "2. intereses a pagar del mes (lo que quede por pagar * interes por periodo del apartado anterior)\n",
    "3. principal (cuota - interes)\n",
    "4. pendiente (lo que quede por pagar - principal)"
   ]
  },
  {
   "cell_type": "code",
   "execution_count": null,
   "metadata": {},
   "outputs": [],
   "source": [
    "cantidad = 300000\n",
    "interes_mensual = 0.02 / 12\n",
    "plazo = 20*12\n",
    "mes = 0\n",
    "\n",
    "while plazo >=1:\n",
    "\n",
    "#for m in range(0,plazo):\n",
    "    cuota = round(cantidad * ((((1+interes_mensual)**(plazo))*interes_mensual) / (((1+interes_mensual)**(plazo))-1)),2)\n",
    "    interes_cuota = round((cantidad*interes_mensual),2)\n",
    "    principal = round((cuota - interes_cuota),2)\n",
    "    pendiente = round((cantidad - principal),2)\n",
    "    mes += 1\n",
    "    plazo -=1\n",
    "    cantidad = pendiente\n",
    "\n",
    "    print('Cuota del mes ' + str(mes) + ': ' + str(cuota))\n",
    "    print('Interés pagado el mes ' + str(mes) + ': ' + str(interes_cuota))\n",
    "    print('Principal pagado el mes ' + str(mes) + ': ' + str(principal))\n",
    "    print('Capital pendiente el mes ' + str(mes) + ': ' + str(pendiente) + '\\n')"
   ]
  },
  {
   "cell_type": "markdown",
   "metadata": {},
   "source": [
    "## Ejercicio 3\n",
    "#### Crear un programa que resuelva una ecuacción de segundo grado\n",
    "\n",
    "El objetivo del programa es resolver la ecuacción de sgundo grado \n",
    "\n",
    "\\begin{align*}\n",
    "ax^2+bx+c = 0\n",
    "\\end{align*}\n",
    "\n",
    "Pasando como parámetros los coeficientes de la ecuacción. La resolución de la ecuacción es la siguiente:\n",
    "\n",
    "\\begin{align*}\n",
    "x=\\frac{-b \\pm \\sqrt{b^2-4ac}}{2a}\n",
    "\\end{align*}\n",
    "\n",
    "Para realizar este programa tienes que utilizar el metodo sqrt() para calcular la raiz cuadrada. Para ello tienes que importar el módulo math. Así que tu programa debería empezar con ```ìmport math```\n"
   ]
  },
  {
   "cell_type": "code",
   "execution_count": null,
   "metadata": {},
   "outputs": [],
   "source": [
    "import math\n",
    "\n",
    "def resolver_ecuacion(a,b,c):\n",
    "    if (b * b - 4 * a * c) < 0:\n",
    "        print('La ecuación no puede resolverse')\n",
    "        \n",
    "    else:\n",
    "        x1 = (-b + math.sqrt(b**2-(4*a*c)))/(2*a)\n",
    "    \n",
    "    if (b * b - 4 * a * c) != 0:\n",
    "        x2 = (-b - math.sqrt(b**2-(4*a*c)))/(2*a)\n",
    "        print(f'Hay dos soluciones: {x1} y {x2}.')\n",
    "    else:\n",
    "        print(f'Solo hay una solución: x = {x1}')    "
   ]
  },
  {
   "cell_type": "code",
   "execution_count": null,
   "metadata": {},
   "outputs": [],
   "source": [
    "resolver_ecuacion(1,-5,6)"
   ]
  },
  {
   "cell_type": "markdown",
   "metadata": {},
   "source": [
    "## Ejercicio 4\n",
    "#### Crear un programa que calcule el average\n",
    "\n",
    "El programa pedirá al usuario que introduzca numeros. En primer lugar le pedirá que indique cuantos números se quieren introducir, y enseñara un prompt para incluirlos, y calculará el average.\n",
    "\n",
    "> ¿Cuántos números vas a introducir?: 3  \n",
    "> Introduzca número: 10  \n",
    "> Introduzca número: 20  \n",
    "> Introduzca número: 30  \n",
    "> La media es de 20  "
   ]
  },
  {
   "cell_type": "code",
   "execution_count": null,
   "metadata": {},
   "outputs": [],
   "source": [
    "entradas = int(input('¿Cuántos números vas a introducir?: '))\n",
    "entradas2 = entradas\n",
    "suma = 0\n",
    "\n",
    "while entradas2 > 0:\n",
    "    numero = int(input('Introduzca número: '))\n",
    "    suma += numero\n",
    "    entradas2 -= 1\n",
    "    \n",
    "print(suma)\n",
    "\n",
    "media = suma/entradas\n",
    "\n",
    "print(media)"
   ]
  },
  {
   "cell_type": "markdown",
   "metadata": {},
   "source": [
    "## Ejercicio 5\n",
    "#### Crear un programa que calcule el average II\n",
    "\n",
    "El programa pedirá que se diga cuantos números se quieren introducir, y enseñara un prompt para incluir número a número en una lista, y calcule después el average.\n"
   ]
  },
  {
   "cell_type": "code",
   "execution_count": null,
   "metadata": {},
   "outputs": [],
   "source": [
    "entradas = int(input('¿Cuántos números vas a introducir?: '))\n",
    "entradas2 = entradas\n",
    "lista_num = []\n",
    "\n",
    "while entradas2 > 0:\n",
    "    numero = int(input('Introduzca número: '))\n",
    "    lista_num.append(numero)\n",
    "    entradas2 -= 1\n",
    "    \n",
    "print(lista_num)\n",
    "\n",
    "media = sum(lista_num)/entradas\n",
    "\n",
    "print(media)"
   ]
  },
  {
   "cell_type": "markdown",
   "metadata": {},
   "source": [
    "## Ejercicio 6\n",
    "#### Escribe un programa para convertir una lista a un string \n",
    "\n",
    "Ejemplo de lista : ['a','b','c','d']\n",
    "\n",
    "Salida esperada : abcd"
   ]
  },
  {
   "cell_type": "code",
   "execution_count": null,
   "metadata": {},
   "outputs": [],
   "source": [
    "lista = ['a','b','c','d']\n",
    "palabra = ''\n",
    "for i in lista:\n",
    "    palabra = palabra + i\n",
    "\n",
    "print(palabra)\n",
    "    \n"
   ]
  },
  {
   "cell_type": "markdown",
   "metadata": {},
   "source": [
    "## Ejercicio 7\n",
    "#### Función de varios tipos\n",
    "Define una función que reciba como argumentos un número entero y una lista, y devuelva los elementos de la lista multiplicados por el entero en formato lista.  \n",
    "\n",
    "Ejecuta la función con los siguientes argumentos:\n",
    "```Python\n",
    "L = [1,2,3]\n",
    "n = 5\n",
    "```\n",
    "\n",
    "Output esperado: \n",
    "```Python\n",
    "[5, 10, 15]\n",
    "```\n"
   ]
  },
  {
   "cell_type": "code",
   "execution_count": null,
   "metadata": {},
   "outputs": [],
   "source": [
    "def multiplica(num,lista):\n",
    "    i=0\n",
    "    for l in lista:\n",
    "        lista[i] = num * lista[i]\n",
    "        i +=1\n",
    "    return lista\n",
    "\n",
    "multiplica(2,[4,6,7,8])"
   ]
  },
  {
   "cell_type": "markdown",
   "metadata": {},
   "source": [
    "## Ejercicio 8\n",
    "#### Interactuando con listas\n",
    "\n",
    "Dada la lista \n",
    "\n",
    "gadgets = [\"Mobile\", \"Laptop\", 100, \"Camera\", 310.28, \"Speakers\", 27.00,\n",
    "\"Television\", 1000, \"Laptop Case\", \"Camera Lens\"]\n",
    "\n",
    "a) Crea listas separadas de strings y números   \n",
    "\n",
    "b) Ordena la lista de strings de forma ascendente   \n",
    "\n",
    "c) Ordena la lista de strings de forma descendente   \n",
    "\n",
    "d) Ordena la lista de números de menor a mayor  \n",
    "\n",
    "e) Ordena la lista de números de mayor a menor"
   ]
  },
  {
   "cell_type": "code",
   "execution_count": null,
   "metadata": {},
   "outputs": [],
   "source": [
    "gadgets = [\"Mobile\", \"Laptop\", 100, \"Camera\", 310.28, \"Speakers\", 27.00, \"Television\", 1000, \"Laptop Case\", \"Camera Lens\"]\n",
    "\n",
    "gadgets_str = []\n",
    "gadgets_num = []\n",
    "\n",
    "i = 0\n",
    "for g in gadgets:\n",
    "    if type(g) == str:\n",
    "        gadgets_str.append(g)\n",
    "    if type(g) == int or type(g) == float:\n",
    "        gadgets_num.append(g)\n",
    "\n",
    "print(gadgets_str)\n",
    "\n",
    "print(gadgets_num)\n",
    "\n",
    "print(sorted(gadgets_str))\n",
    "\n",
    "print(sorted(gadgets_str, reverse=True)) # Asi no: print(reversed(gadgets_str))\n",
    "\n",
    "\n",
    "print(sorted(gadgets_num))\n",
    "\n",
    "print(sorted(gadgets_num, reverse=True)) # Asi no: print(reversed(gadgets_num))\n",
    "\n",
    "        "
   ]
  },
  {
   "cell_type": "markdown",
   "metadata": {},
   "source": [
    "## Ejercicio 9\n",
    "#### Obtener los dos mayores valores de la lista\n",
    "\n",
    "L = [84,84,86,86,85,85,85,83,23,45,84,1,2,0]\n",
    "\n",
    "La salida debe ser 86 y 85"
   ]
  },
  {
   "cell_type": "code",
   "execution_count": null,
   "metadata": {},
   "outputs": [],
   "source": [
    "L = [84,84,86,86,85,85,85,83,23,45,84,1,2,0]\n",
    "\n",
    "S = set(L)\n",
    "\n",
    "max1 = max(S)\n",
    "\n",
    "S.remove(max1)\n",
    "max2 = max(S)\n",
    "\n",
    "print(max1,max2)"
   ]
  },
  {
   "cell_type": "markdown",
   "metadata": {},
   "source": [
    "## Ejercicio 10\n",
    "#### Detectar si un string es un palíndromo\n",
    "Solicita al usuario que introduzca una cadena de texto y comprueba si es un palíndromo (un palíndromo se lee igual de izquierda a derecha que de derecha a izquierda)\n",
    "\n",
    "Ejemplo de palíndromo: *amad a la dama*"
   ]
  },
  {
   "cell_type": "code",
   "execution_count": null,
   "metadata": {},
   "outputs": [],
   "source": [
    "frase = input('Introduce una palabra para comprobar si es un palindromo: ')\n",
    "print(frase)\n",
    "print(frase.split())\n",
    "\n",
    "print(''.join(frase.split()))\n",
    "i=0\n",
    "k=-1\n",
    "check = []\n",
    "\n",
    "for letra in (''.join(frase.split())):\n",
    "        if frase[i] != ' ' and frase[k] != ' ' and frase[i] == frase[k]:\n",
    "            check.append(True)\n",
    "            i+=1\n",
    "            k-=1\n",
    "            while i == int(len(frase)/2):\n",
    "                break\n",
    "\n",
    "if False not in check and True in check:\n",
    "    print('Es un palindromo')\n",
    "else:\n",
    "    print('No es un palindromo')\n"
   ]
  },
  {
   "cell_type": "markdown",
   "metadata": {},
   "source": []
  },
  {
   "cell_type": "code",
   "execution_count": null,
   "metadata": {},
   "outputs": [],
   "source": []
  },
  {
   "cell_type": "markdown",
   "metadata": {},
   "source": [
    "## (Bonus) Ejercicio 11\n",
    "#### Desarrolla el juego del ahorcado\n",
    "El juego del ahorcado consiste en adivinar una palabra, probando letra a letra. El jugador tiene permitidos 6 fallos, al 7º fallo pierde. \n",
    "\n",
    "* Habrá que imprimir por pantalla una cantidad de guiones igual al numero de letras e ir sustituyéndolos con los aciertos.\n",
    "* Necesitarás usar un bucle while con un input para modelar las jugadas del ahoracado. En cada ejecución del while comprueba las vidas del jugador, y los aciertos."
   ]
  },
  {
   "cell_type": "code",
   "execution_count": null,
   "metadata": {},
   "outputs": [
    {
     "name": "stdout",
     "output_type": "stream",
     "text": [
      "¿Quieres jugar? si quieres jugar pulsa \"y\" y si no quieres pulsa\"n\"y\n",
      "Prueba una letra: a\n",
      "¡Has acertado!\n",
      " ¡Solo te quedan 7 letras por acertar!\n",
      "-------a\n",
      "Prueba una letra: e\n",
      "¡Has acertado!\n",
      " ¡Solo te quedan 6 letras por acertar!\n",
      "-----e-a\n",
      "Prueba una letra: i\n",
      "te has equivocado, pero... ¡La partida continua!\n",
      " Te quedan 5 intentos.\n",
      "-----e-a\n",
      "Prueba una letra: o\n",
      "¡Has acertado!\n",
      " ¡Solo te quedan 5 letras por acertar!\n",
      "-o---e-a\n",
      "Prueba una letra: m\n",
      "¡Has acertado!\n",
      " ¡Solo te quedan 4 letras por acertar!\n",
      "mo---e-a\n",
      "Prueba una letra: n\n",
      "¡Has acertado!\n",
      " ¡Solo te quedan 3 letras por acertar!\n",
      "mon--e-a\n",
      "Prueba una letra: s\n",
      "¡Has acertado!\n",
      " ¡Solo te quedan 2 letras por acertar!\n",
      "mons-e-a\n",
      "Prueba una letra: t\n",
      "¡Has acertado!\n",
      " ¡Solo te quedan 1 letras por acertar!\n",
      "monste-a\n",
      "Prueba una letra: r\n",
      "Has completado la palabra!!! Enhorabuena!!!\n",
      "monstera\n"
     ]
    }
   ],
   "source": [
    "import random\n",
    "import os\n",
    "\n",
    "def clearConsole():\n",
    "    command = 'clear'\n",
    "    if os.name in ('nt', 'dos'):  # If Machine is running on Windows, use cls\n",
    "        command = 'cls'\n",
    "    os.system(command)\n",
    "\n",
    "sorteo = random.randint(0, 5)\n",
    "\n",
    "palabra = sorteo\n",
    "\n",
    "fallos = 6\n",
    "\n",
    "lista_palabras = ['jugador','vaso','reloj','cuadro','sillon','monstera']\n",
    "guiones =[]\n",
    "\n",
    "for letra in lista_palabras[palabra]:\n",
    "    guiones.append('-')      \n",
    "\n",
    "juego = ''.join(guiones)\n",
    "jugar = input('¿Quieres jugar? si quieres jugar pulsa \"y\" y si no quieres pulsa\"n\"')\n",
    "while jugar == 'y':\n",
    "    while guiones.count('-') > 0:\n",
    "        intento = input('Prueba una letra: ')\n",
    "        if len(intento) > 1:\n",
    "            print('Solo puedes introducir una única letra. Prueba otra vez: ')\n",
    "            continue\n",
    "        else:\n",
    "            intento = intento.lower()\n",
    "            if intento in lista_palabras[palabra]:\n",
    "                for letra in lista_palabras[palabra]:\n",
    "                    if letra in intento:\n",
    "                        i = lista_palabras[palabra].index(intento)\n",
    "                        guiones[i] = intento\n",
    "                        juego = ''.join(guiones)\n",
    "                        if guiones.count('-') >= 1:\n",
    "                            print('¡Has acertado!\\n ¡Solo te quedan '+ str(guiones.count('-')) + ' letras por acertar!\\n'+ juego)\n",
    "                        else:     \n",
    "                            print('Has completado la palabra!!! Enhorabuena!!!\\n' + juego)\n",
    "            else:\n",
    "                fallos -=1\n",
    "                if fallos <= 0:\n",
    "                    print('Has perdido! Ya no te quedan intentos...\\n La palabra era: '+ lista_palabras[palabra])\n",
    "                juego = ''.join(guiones)\n",
    "                if fallos > 0:\n",
    "                    print('te has equivocado, pero... ¡La partida continua!\\n Te quedan '+ str(fallos) + ' intentos.\\n'+ juego)"
   ]
  },
  {
   "cell_type": "code",
   "execution_count": null,
   "metadata": {},
   "outputs": [],
   "source": []
  },
  {
   "cell_type": "code",
   "execution_count": null,
   "metadata": {},
   "outputs": [],
   "source": []
  }
 ],
 "metadata": {
  "kernelspec": {
   "display_name": "Python 3 (ipykernel)",
   "language": "python",
   "name": "python3"
  },
  "language_info": {
   "codemirror_mode": {
    "name": "ipython",
    "version": 3
   },
   "file_extension": ".py",
   "mimetype": "text/x-python",
   "name": "python",
   "nbconvert_exporter": "python",
   "pygments_lexer": "ipython3",
   "version": "3.10.4"
  }
 },
 "nbformat": 4,
 "nbformat_minor": 4
}
