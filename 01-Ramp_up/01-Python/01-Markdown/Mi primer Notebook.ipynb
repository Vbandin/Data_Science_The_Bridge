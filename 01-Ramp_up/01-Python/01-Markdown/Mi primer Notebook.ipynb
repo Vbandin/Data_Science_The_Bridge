{
 "cells": [
  {
   "cell_type": "code",
   "execution_count": 3,
   "id": "59e1a132",
   "metadata": {},
   "outputs": [
    {
     "name": "stdout",
     "output_type": "stream",
     "text": [
      "Hola\n"
     ]
    }
   ],
   "source": [
    "print(\"Hola\")"
   ]
  },
  {
   "cell_type": "code",
   "execution_count": 4,
   "id": "241b3f6a",
   "metadata": {},
   "outputs": [
    {
     "name": "stdout",
     "output_type": "stream",
     "text": [
      "Bienvenidos\n"
     ]
    }
   ],
   "source": [
    "print(\"Bienvenidos\")"
   ]
  },
  {
   "cell_type": "markdown",
   "id": "422924fe",
   "metadata": {},
   "source": [
    "Prueba de celda de texto (Markdown)"
   ]
  },
  {
   "cell_type": "markdown",
   "id": "3e244d34",
   "metadata": {},
   "source": [
    "# Prueba"
   ]
  },
  {
   "cell_type": "markdown",
   "id": "d614eeca",
   "metadata": {},
   "source": [
    "## Prueba 2"
   ]
  },
  {
   "cell_type": "markdown",
   "id": "9e52bfd7",
   "metadata": {},
   "source": [
    "<b>negrita</b>"
   ]
  },
  {
   "cell_type": "code",
   "execution_count": null,
   "id": "9c5d4090",
   "metadata": {},
   "outputs": [],
   "source": []
  }
 ],
 "metadata": {
  "kernelspec": {
   "display_name": "Python 3 (ipykernel)",
   "language": "python",
   "name": "python3"
  },
  "language_info": {
   "codemirror_mode": {
    "name": "ipython",
    "version": 3
   },
   "file_extension": ".py",
   "mimetype": "text/x-python",
   "name": "python",
   "nbconvert_exporter": "python",
   "pygments_lexer": "ipython3",
   "version": "3.10.4"
  }
 },
 "nbformat": 4,
 "nbformat_minor": 5
}
