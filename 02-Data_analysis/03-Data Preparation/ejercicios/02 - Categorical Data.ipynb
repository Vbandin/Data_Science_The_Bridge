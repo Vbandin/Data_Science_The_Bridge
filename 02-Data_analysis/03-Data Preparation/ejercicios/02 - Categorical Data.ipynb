{
 "cells": [
  {
   "cell_type": "markdown",
   "metadata": {
    "colab_type": "text",
    "id": "_iUmrbFNopPz"
   },
   "source": [
    "# Import necessary dependencies and settings"
   ]
  },
  {
   "cell_type": "code",
   "execution_count": 1,
   "metadata": {
    "colab": {},
    "colab_type": "code",
    "id": "2Qf2H2QxopP0"
   },
   "outputs": [],
   "source": [
    "# importa pandas y numpy\n"
   ]
  },
  {
   "cell_type": "markdown",
   "metadata": {
    "colab_type": "text",
    "id": "5lrxGGVJopP4"
   },
   "source": [
    "# Transforming Nominal Features\n",
    "\n",
    "Nominal attributes consist of discrete categorical values with no notion or sense of order amongst them. The idea here is to transform these attributes into a more representative numerical format which can be easily understood by downstream code and pipelines. Let’s look at a new dataset pertaining to video game sales."
   ]
  },
  {
   "cell_type": "code",
   "execution_count": 1,
   "metadata": {
    "colab": {},
    "colab_type": "code",
    "id": "76tYH70CopP5",
    "jupyter": {
     "outputs_hidden": false
    },
    "outputId": "a546dcef-d358-4744-efa6-24509d49f335"
   },
   "outputs": [],
   "source": [
    "# lee 'vgsales.csv'\n",
    "# muestra las primeras 6 filas de las columnas 'Name', 'Platform', 'Year', 'Genre', 'Publisher'\n",
    "\n"
   ]
  },
  {
   "cell_type": "markdown",
   "metadata": {
    "colab_type": "text",
    "id": "H_esGbH8opP9"
   },
   "source": [
    "### Get the list of unique video game genres "
   ]
  },
  {
   "cell_type": "code",
   "execution_count": null,
   "metadata": {
    "colab": {},
    "colab_type": "code",
    "id": "-WyVbPi6opP-"
   },
   "outputs": [],
   "source": []
  },
  {
   "cell_type": "markdown",
   "metadata": {
    "colab_type": "text",
    "id": "KdJZtU6jopQB",
    "jupyter": {
     "outputs_hidden": false
    }
   },
   "source": [
    "This tells us that we have 12 distinct video game genres. \n",
    "\n",
    "### We can now generate a label encoding scheme for mapping each category to a numeric value by leveraging scikit-learn LabelEncoder"
   ]
  },
  {
   "cell_type": "code",
   "execution_count": 2,
   "metadata": {
    "colab": {},
    "colab_type": "code",
    "id": "pnTxPAbyopQB"
   },
   "outputs": [],
   "source": [
    "# usando LabelEncoder muestra los géneros y las categorías asociadas a cada género\n",
    "\n",
    "\n"
   ]
  },
  {
   "cell_type": "code",
   "execution_count": null,
   "metadata": {},
   "outputs": [],
   "source": []
  },
  {
   "cell_type": "markdown",
   "metadata": {
    "colab_type": "text",
    "id": "fcEuzQq7opQE"
   },
   "source": [
    "### Show the transformed labels values and the dataframe"
   ]
  },
  {
   "cell_type": "code",
   "execution_count": 3,
   "metadata": {},
   "outputs": [],
   "source": [
    "# primero muestra solo los géneros del DataFrame\n"
   ]
  },
  {
   "cell_type": "code",
   "execution_count": 4,
   "metadata": {
    "colab": {},
    "colab_type": "code",
    "id": "x3Ra1IB_opQF",
    "jupyter": {
     "outputs_hidden": false
    }
   },
   "outputs": [],
   "source": [
    "# muestra en el DataFrame los géneros y sus categorías asociadas \n",
    "\n"
   ]
  },
  {
   "cell_type": "markdown",
   "metadata": {
    "colab_type": "text",
    "id": "0-dyGZTqopQH"
   },
   "source": [
    "\n",
    "# Transforming Ordinal Features\n",
    "\n",
    "Ordinal attributes are categorical attributes with a sense of order amongst the values. Let’s consider the Pokémon dataset. Let’s focus more specifically on the Type 1 attribute. We will think that each Type 1 has a different power that we can order.\n"
   ]
  },
  {
   "cell_type": "code",
   "execution_count": 5,
   "metadata": {
    "colab": {},
    "colab_type": "code",
    "id": "5krwiGfMopQI",
    "jupyter": {
     "outputs_hidden": false
    },
    "outputId": "63558144-ef4e-4ffb-b5d4-96c037225f9c"
   },
   "outputs": [],
   "source": [
    "# lee Pokemon.csv y muestra un head()\n"
   ]
  },
  {
   "cell_type": "code",
   "execution_count": 6,
   "metadata": {},
   "outputs": [],
   "source": [
    "# usa un sample() con semilla 1 y toma todo el DataFrame para desordenarlo aleatoriamente\n",
    "# resetea los índices y haz un head()\n",
    "\n",
    "\n"
   ]
  },
  {
   "cell_type": "code",
   "execution_count": 7,
   "metadata": {},
   "outputs": [],
   "source": [
    "# muestra las columnas del DataFrame"
   ]
  },
  {
   "cell_type": "markdown",
   "metadata": {
    "colab_type": "text",
    "id": "gd-SelVvopQL"
   },
   "source": [
    "### Show the different type 1 present in the dataset"
   ]
  },
  {
   "cell_type": "markdown",
   "metadata": {
    "colab_type": "text",
    "id": "WOAF4a9CopQM"
   },
   "source": [
    "In general, there is no generic module or function to map and transform these features into numeric representations based on order automatically. Hence we can use a custom encoding\\mapping scheme based on a dictionary."
   ]
  },
  {
   "cell_type": "code",
   "execution_count": 8,
   "metadata": {
    "colab": {},
    "colab_type": "code",
    "id": "zEh6B8GkopQN",
    "jupyter": {
     "outputs_hidden": false
    }
   },
   "outputs": [],
   "source": [
    "# escribe un diccionario que mapee el Type 1 con un número asociado a cómo es de bueno el Type 1.\n",
    "# Es decir, presupón que se pueden ordenar esas etiquetas.\n",
    "# Usa DataFrame['Type 1'].unique() para seleccionar esos valores en ese orden y asignarles 1,2,3...\n",
    "# Por ejemplo: 'Bug' se corresponde con 1, 'Water' se corresponde con 2...\n",
    "\n",
    "#poke_df['Type 1'].unique()\n",
    "\n",
    "\n",
    "\n",
    "# mapea los valores en el DataFrame en una columna que se llame 'type_1_num'\n",
    "# haz un head()\n",
    "\n"
   ]
  },
  {
   "cell_type": "markdown",
   "metadata": {
    "colab_type": "text",
    "id": "fC1M1pwZopQP"
   },
   "source": [
    "# Encoding Categorical Features"
   ]
  },
  {
   "cell_type": "markdown",
   "metadata": {
    "colab_type": "text",
    "id": "793oTh9XopQQ"
   },
   "source": [
    "## One-hot Encoding Scheme"
   ]
  },
  {
   "cell_type": "code",
   "execution_count": 9,
   "metadata": {
    "colab": {},
    "colab_type": "code",
    "id": "FANwoVJwopQQ",
    "jupyter": {
     "outputs_hidden": false
    },
    "outputId": "6464b3f4-518b-4378-b129-fee86f2c76f1"
   },
   "outputs": [],
   "source": [
    "# poke_df[['Name', 'Stage', 'Legendary']].iloc[4:10]"
   ]
  },
  {
   "cell_type": "code",
   "execution_count": 10,
   "metadata": {
    "colab": {},
    "colab_type": "code",
    "id": "1FsiibbqopQT",
    "jupyter": {
     "outputs_hidden": false
    }
   },
   "outputs": [],
   "source": [
    "# usa LabelEncoder\n",
    "\n",
    "\n",
    "# transform and map pokemon Type 1 with LabelEncoder\n",
    "# el método zip te puede ayudar\n",
    "\n",
    "\n",
    "\n",
    "\n",
    "\n",
    "# transform and map pokemon legendary status with Label Encoder\n",
    "\n"
   ]
  },
  {
   "cell_type": "code",
   "execution_count": 14,
   "metadata": {},
   "outputs": [],
   "source": [
    "# Otra forma más sencilla utilizando transform\n",
    "# ¡Para esto vale fit y transform!\n",
    "# Muchas transformaciones se dividen en fit (ajusta los parámetros de la transformación)\n",
    "# y en transform (aplica los cambios)\n",
    "\n"
   ]
  },
  {
   "cell_type": "code",
   "execution_count": 11,
   "metadata": {},
   "outputs": [],
   "source": [
    "#haz un head()"
   ]
  },
  {
   "cell_type": "code",
   "execution_count": 12,
   "metadata": {},
   "outputs": [],
   "source": [
    "# comprobamos que la codificación del método es alfabética\n"
   ]
  },
  {
   "cell_type": "code",
   "execution_count": 13,
   "metadata": {},
   "outputs": [],
   "source": [
    "# haz un head()"
   ]
  },
  {
   "cell_type": "markdown",
   "metadata": {
    "colab_type": "text",
    "id": "SJnJ6WaQopQW"
   },
   "source": [
    "The features Type 1 zip and Legendary_zip now depict the numeric representations of our categorical features. Let’s now apply the one-hot encoding scheme on these features. Apply the get_dummies() method."
   ]
  },
  {
   "cell_type": "code",
   "execution_count": 14,
   "metadata": {
    "colab": {},
    "colab_type": "code",
    "id": "86AIHaKqopQX",
    "jupyter": {
     "outputs_hidden": false
    }
   },
   "outputs": [],
   "source": [
    "# encode Type 1 labels using one-hot encoding scheme\n",
    "\n",
    "\n",
    "# encode legendary status labels using one-hot encoding scheme\n"
   ]
  },
  {
   "cell_type": "code",
   "execution_count": 15,
   "metadata": {},
   "outputs": [],
   "source": [
    "\n",
    "# compruebo que solo hay 4 pokemon legendarios"
   ]
  },
  {
   "cell_type": "code",
   "execution_count": 16,
   "metadata": {
    "colab": {},
    "colab_type": "code",
    "id": "MlsZHro6opQa",
    "jupyter": {
     "outputs_hidden": false
    },
    "outputId": "f944c1e2-e145-4143-e17d-3e5de1591043"
   },
   "outputs": [],
   "source": [
    "# concatena el DataFrame original con la codificación de Type 1 y de Legendary \n",
    "\n",
    "\n"
   ]
  },
  {
   "cell_type": "markdown",
   "metadata": {
    "colab_type": "text",
    "id": "vlOA9PYVopQc"
   },
   "source": [
    "Consider you built this encoding scheme on your training data and built some model and now you have some new data which has to be engineered for features before predictions as follows."
   ]
  },
  {
   "cell_type": "code",
   "execution_count": 17,
   "metadata": {
    "colab": {},
    "colab_type": "code",
    "id": "U3EksIASopQd",
    "jupyter": {
     "outputs_hidden": false
    },
    "outputId": "2df5611e-99cb-4f29-e586-981c5f2a20be"
   },
   "outputs": [
    {
     "data": {
      "text/plain": [
       "\"\\n\\nnew_poke_df = pd.DataFrame([['PikaZoom', 'Bug', True], \\n                           ['CharMyToast', 'Water', False]],\\n                           columns=['Name', 'Type 1', 'Legendary'])\\nnew_poke_df\\n\""
      ]
     },
     "execution_count": 17,
     "metadata": {},
     "output_type": "execute_result"
    }
   ],
   "source": [
    "'''\n",
    "\n",
    "new_poke_df = pd.DataFrame([['PikaZoom', 'Bug', True], \n",
    "                           ['CharMyToast', 'Water', False]],\n",
    "                           columns=['Name', 'Type 1', 'Legendary'])\n",
    "new_poke_df\n",
    "'''"
   ]
  },
  {
   "cell_type": "code",
   "execution_count": 18,
   "metadata": {
    "colab": {},
    "colab_type": "code",
    "id": "XI1PLKljopQg",
    "jupyter": {
     "outputs_hidden": false
    },
    "outputId": "92340281-79dd-4e81-b5ab-ea681dd29933"
   },
   "outputs": [],
   "source": [
    "# usando fit() y transform(), añade Type1_Label y Lgnd_Label en el DataFrame\n",
    "\n"
   ]
  },
  {
   "cell_type": "markdown",
   "metadata": {
    "colab_type": "text",
    "id": "pwbAK6nnopQj"
   },
   "source": [
    "You can leverage scikit-learn’s excellent API here by calling the transform(…) function of the previously build LabeLEncoder objects on the new data."
   ]
  },
  {
   "cell_type": "markdown",
   "metadata": {
    "colab_type": "text",
    "id": "2i-I6wueopQq"
   },
   "source": [
    "## Dummy Coding Scheme\n",
    "\n",
    "Let’s try applying dummy coding scheme on Pokémon Type 1 by dropping the first level binary encoded feature (Type 1 = Bug).\n"
   ]
  },
  {
   "cell_type": "code",
   "execution_count": 19,
   "metadata": {
    "colab": {},
    "colab_type": "code",
    "id": "hF4q7G8CopQq",
    "jupyter": {
     "outputs_hidden": false
    },
    "outputId": "a6cebf80-fc40-4f3a-e938-21437e1810a6"
   },
   "outputs": [],
   "source": [
    "# haz un get_dummies para una codificación dummy\n",
    "# muestra las filas desde la 4 hasta la 9 (incluida)\n",
    "\n",
    "\n"
   ]
  },
  {
   "cell_type": "markdown",
   "metadata": {
    "colab_type": "text",
    "id": "ahtsKFXBopQt"
   },
   "source": [
    "If you want, you can also choose to drop the last level binary encoded feature"
   ]
  },
  {
   "cell_type": "code",
   "execution_count": 20,
   "metadata": {},
   "outputs": [],
   "source": [
    "# haz un fit() de Type 1 y mira las clases que aparecen\n",
    "\n"
   ]
  },
  {
   "cell_type": "code",
   "execution_count": 21,
   "metadata": {},
   "outputs": [],
   "source": [
    "# haz un dummies sin eliminar ninguna columna que se obtenga solo de Type 1\n",
    "# haz un head()\n",
    "\n"
   ]
  },
  {
   "cell_type": "code",
   "execution_count": 22,
   "metadata": {},
   "outputs": [],
   "source": [
    "# comprueba en la codificación con la columna eliminada (dummy)\n",
    "# pista: isin te puede ayudar\n",
    "\n"
   ]
  },
  {
   "cell_type": "code",
   "execution_count": 23,
   "metadata": {},
   "outputs": [],
   "source": [
    "# comprueba qué hace el signo ~\n",
    "\n"
   ]
  },
  {
   "cell_type": "code",
   "execution_count": 24,
   "metadata": {},
   "outputs": [],
   "source": [
    "# haz una lectura en el DataFrame con la última sentencia que emplea ~\n",
    "\n"
   ]
  },
  {
   "cell_type": "code",
   "execution_count": 25,
   "metadata": {},
   "outputs": [],
   "source": [
    "# asígnalo a una variable y muestra un head\n",
    "\n",
    "\n"
   ]
  },
  {
   "cell_type": "markdown",
   "metadata": {
    "colab_type": "text",
    "id": "JzWaGlWfopQv"
   },
   "source": [
    "## Feature Hashing scheme\n",
    "\n",
    "Find the number of different 'Genre' in the dataset."
   ]
  },
  {
   "cell_type": "code",
   "execution_count": 26,
   "metadata": {},
   "outputs": [],
   "source": [
    "# Usa vgsales.csv, léelo y haz un head()\n",
    "\n",
    "\n"
   ]
  },
  {
   "cell_type": "code",
   "execution_count": 27,
   "metadata": {},
   "outputs": [],
   "source": [
    "# print('Total game genres: ' + str(len(df_videojuegos.Genre.unique())))\n",
    "# print(df_videojuegos.Genre.sort_values().unique())"
   ]
  },
  {
   "cell_type": "markdown",
   "metadata": {
    "colab_type": "text",
    "id": "NPz9-23EopQy"
   },
   "source": [
    "### We can see that there are a total of 12 genres of video games. If we used a one-hot encoding scheme on the Genre feature, we would end up having 12 binary features. Instead, we will now use a feature hashing scheme by leveraging scikit-learn’s FeatureHasher class, which uses a signed 32-bit version of the Murmurhash3 hash function. We will pre-define the final feature vector size to be 6 in this case."
   ]
  },
  {
   "cell_type": "code",
   "execution_count": null,
   "metadata": {
    "colab": {},
    "colab_type": "code",
    "id": "qgE00tY-opQz",
    "jupyter": {
     "outputs_hidden": false
    }
   },
   "outputs": [],
   "source": []
  },
  {
   "cell_type": "code",
   "execution_count": null,
   "metadata": {},
   "outputs": [],
   "source": []
  },
  {
   "cell_type": "code",
   "execution_count": null,
   "metadata": {},
   "outputs": [],
   "source": []
  },
  {
   "cell_type": "code",
   "execution_count": null,
   "metadata": {},
   "outputs": [],
   "source": []
  }
 ],
 "metadata": {
  "anaconda-cloud": {},
  "colab": {
   "name": "2_FeatureEngineering_CategoricalData_ejercicios.ipynb",
   "provenance": []
  },
  "kernelspec": {
   "display_name": "Python 3 (ipykernel)",
   "language": "python",
   "name": "python3"
  },
  "language_info": {
   "codemirror_mode": {
    "name": "ipython",
    "version": 3
   },
   "file_extension": ".py",
   "mimetype": "text/x-python",
   "name": "python",
   "nbconvert_exporter": "python",
   "pygments_lexer": "ipython3",
   "version": "3.9.13"
  }
 },
 "nbformat": 4,
 "nbformat_minor": 4
}
