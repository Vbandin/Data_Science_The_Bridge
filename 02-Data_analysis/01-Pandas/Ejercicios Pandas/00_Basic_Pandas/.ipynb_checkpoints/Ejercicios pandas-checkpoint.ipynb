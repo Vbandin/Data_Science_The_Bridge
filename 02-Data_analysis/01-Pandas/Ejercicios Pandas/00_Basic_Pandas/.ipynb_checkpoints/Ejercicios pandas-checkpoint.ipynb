{
 "cells": [
  {
   "cell_type": "markdown",
   "metadata": {},
   "source": [
    "## Ejercicio 1\n",
    "Importa la libreria de pandas. ¿Qué versión de la librería tienes?"
   ]
  },
  {
   "cell_type": "code",
   "execution_count": 1,
   "metadata": {},
   "outputs": [
    {
     "name": "stdout",
     "output_type": "stream",
     "text": [
      "1.5.0\n"
     ]
    }
   ],
   "source": [
    "import pandas as pd\n",
    "print(pd.__version__)"
   ]
  },
  {
   "cell_type": "markdown",
   "metadata": {},
   "source": [
    "## Ejercicio 2\n",
    "Lee el archivo CSV de la liga. Guarda el DataFrame en una variable llamada `df`. [Usa el método `read_csv` de `pandas`](https://pandas.pydata.org/pandas-docs/stable/reference/api/pandas.read_csv.html)."
   ]
  },
  {
   "cell_type": "code",
   "execution_count": 2,
   "metadata": {
    "jupyter": {
     "outputs_hidden": true
    }
   },
   "outputs": [
    {
     "data": {
      "text/html": [
       "<div>\n",
       "<style scoped>\n",
       "    .dataframe tbody tr th:only-of-type {\n",
       "        vertical-align: middle;\n",
       "    }\n",
       "\n",
       "    .dataframe tbody tr th {\n",
       "        vertical-align: top;\n",
       "    }\n",
       "\n",
       "    .dataframe thead th {\n",
       "        text-align: right;\n",
       "    }\n",
       "</style>\n",
       "<table border=\"1\" class=\"dataframe\">\n",
       "  <thead>\n",
       "    <tr style=\"text-align: right;\">\n",
       "      <th></th>\n",
       "      <th>Unnamed: 0</th>\n",
       "      <th>season</th>\n",
       "      <th>division</th>\n",
       "      <th>round</th>\n",
       "      <th>localTeam</th>\n",
       "      <th>visitorTeam</th>\n",
       "      <th>localGoals</th>\n",
       "      <th>visitorGoals</th>\n",
       "      <th>date</th>\n",
       "      <th>timestamp</th>\n",
       "    </tr>\n",
       "  </thead>\n",
       "  <tbody>\n",
       "    <tr>\n",
       "      <th>0</th>\n",
       "      <td>26201</td>\n",
       "      <td>2005-06</td>\n",
       "      <td>1</td>\n",
       "      <td>1</td>\n",
       "      <td>Atletico de Bilbao</td>\n",
       "      <td>Real Sociedad</td>\n",
       "      <td>3</td>\n",
       "      <td>0</td>\n",
       "      <td>27/08/2005</td>\n",
       "      <td>1125093600</td>\n",
       "    </tr>\n",
       "    <tr>\n",
       "      <th>1</th>\n",
       "      <td>26202</td>\n",
       "      <td>2005-06</td>\n",
       "      <td>1</td>\n",
       "      <td>1</td>\n",
       "      <td>Alaves</td>\n",
       "      <td>Barcelona</td>\n",
       "      <td>0</td>\n",
       "      <td>0</td>\n",
       "      <td>27/08/2005</td>\n",
       "      <td>1125093600</td>\n",
       "    </tr>\n",
       "    <tr>\n",
       "      <th>2</th>\n",
       "      <td>26203</td>\n",
       "      <td>2005-06</td>\n",
       "      <td>1</td>\n",
       "      <td>1</td>\n",
       "      <td>Valencia</td>\n",
       "      <td>Betis</td>\n",
       "      <td>1</td>\n",
       "      <td>0</td>\n",
       "      <td>27/08/2005</td>\n",
       "      <td>1125093600</td>\n",
       "    </tr>\n",
       "    <tr>\n",
       "      <th>3</th>\n",
       "      <td>26204</td>\n",
       "      <td>2005-06</td>\n",
       "      <td>1</td>\n",
       "      <td>1</td>\n",
       "      <td>Atletico de Madrid</td>\n",
       "      <td>Zaragoza</td>\n",
       "      <td>0</td>\n",
       "      <td>0</td>\n",
       "      <td>28/08/2005</td>\n",
       "      <td>1125180000</td>\n",
       "    </tr>\n",
       "    <tr>\n",
       "      <th>4</th>\n",
       "      <td>26205</td>\n",
       "      <td>2005-06</td>\n",
       "      <td>1</td>\n",
       "      <td>1</td>\n",
       "      <td>Cadiz</td>\n",
       "      <td>Real Madrid</td>\n",
       "      <td>1</td>\n",
       "      <td>2</td>\n",
       "      <td>28/08/2005</td>\n",
       "      <td>1125180000</td>\n",
       "    </tr>\n",
       "    <tr>\n",
       "      <th>...</th>\n",
       "      <td>...</td>\n",
       "      <td>...</td>\n",
       "      <td>...</td>\n",
       "      <td>...</td>\n",
       "      <td>...</td>\n",
       "      <td>...</td>\n",
       "      <td>...</td>\n",
       "      <td>...</td>\n",
       "      <td>...</td>\n",
       "      <td>...</td>\n",
       "    </tr>\n",
       "    <tr>\n",
       "      <th>4935</th>\n",
       "      <td>36680</td>\n",
       "      <td>2017-18</td>\n",
       "      <td>1</td>\n",
       "      <td>38</td>\n",
       "      <td>Villarreal</td>\n",
       "      <td>Real Madrid</td>\n",
       "      <td>2</td>\n",
       "      <td>2</td>\n",
       "      <td>19/05/2018</td>\n",
       "      <td>1526680800</td>\n",
       "    </tr>\n",
       "    <tr>\n",
       "      <th>4936</th>\n",
       "      <td>36681</td>\n",
       "      <td>2017-18</td>\n",
       "      <td>1</td>\n",
       "      <td>38</td>\n",
       "      <td>Atletico de Bilbao</td>\n",
       "      <td>Espanol</td>\n",
       "      <td>0</td>\n",
       "      <td>1</td>\n",
       "      <td>20/05/2018</td>\n",
       "      <td>1526767200</td>\n",
       "    </tr>\n",
       "    <tr>\n",
       "      <th>4937</th>\n",
       "      <td>36682</td>\n",
       "      <td>2017-18</td>\n",
       "      <td>1</td>\n",
       "      <td>38</td>\n",
       "      <td>Barcelona</td>\n",
       "      <td>Real Sociedad</td>\n",
       "      <td>1</td>\n",
       "      <td>0</td>\n",
       "      <td>20/05/2018</td>\n",
       "      <td>1526767200</td>\n",
       "    </tr>\n",
       "    <tr>\n",
       "      <th>4938</th>\n",
       "      <td>36683</td>\n",
       "      <td>2017-18</td>\n",
       "      <td>1</td>\n",
       "      <td>38</td>\n",
       "      <td>Valencia</td>\n",
       "      <td>Deportivo</td>\n",
       "      <td>2</td>\n",
       "      <td>1</td>\n",
       "      <td>20/05/2018</td>\n",
       "      <td>1526767200</td>\n",
       "    </tr>\n",
       "    <tr>\n",
       "      <th>4939</th>\n",
       "      <td>36684</td>\n",
       "      <td>2017-18</td>\n",
       "      <td>1</td>\n",
       "      <td>38</td>\n",
       "      <td>Atletico de Madrid</td>\n",
       "      <td>Eibar</td>\n",
       "      <td>2</td>\n",
       "      <td>2</td>\n",
       "      <td>20/05/2018</td>\n",
       "      <td>1526767200</td>\n",
       "    </tr>\n",
       "  </tbody>\n",
       "</table>\n",
       "<p>4940 rows × 10 columns</p>\n",
       "</div>"
      ],
      "text/plain": [
       "      Unnamed: 0   season  division  round           localTeam    visitorTeam  \\\n",
       "0          26201  2005-06         1      1  Atletico de Bilbao  Real Sociedad   \n",
       "1          26202  2005-06         1      1              Alaves      Barcelona   \n",
       "2          26203  2005-06         1      1            Valencia          Betis   \n",
       "3          26204  2005-06         1      1  Atletico de Madrid       Zaragoza   \n",
       "4          26205  2005-06         1      1               Cadiz    Real Madrid   \n",
       "...          ...      ...       ...    ...                 ...            ...   \n",
       "4935       36680  2017-18         1     38          Villarreal    Real Madrid   \n",
       "4936       36681  2017-18         1     38  Atletico de Bilbao        Espanol   \n",
       "4937       36682  2017-18         1     38           Barcelona  Real Sociedad   \n",
       "4938       36683  2017-18         1     38            Valencia      Deportivo   \n",
       "4939       36684  2017-18         1     38  Atletico de Madrid          Eibar   \n",
       "\n",
       "      localGoals  visitorGoals        date   timestamp  \n",
       "0              3             0  27/08/2005  1125093600  \n",
       "1              0             0  27/08/2005  1125093600  \n",
       "2              1             0  27/08/2005  1125093600  \n",
       "3              0             0  28/08/2005  1125180000  \n",
       "4              1             2  28/08/2005  1125180000  \n",
       "...          ...           ...         ...         ...  \n",
       "4935           2             2  19/05/2018  1526680800  \n",
       "4936           0             1  20/05/2018  1526767200  \n",
       "4937           1             0  20/05/2018  1526767200  \n",
       "4938           2             1  20/05/2018  1526767200  \n",
       "4939           2             2  20/05/2018  1526767200  \n",
       "\n",
       "[4940 rows x 10 columns]"
      ]
     },
     "execution_count": 2,
     "metadata": {},
     "output_type": "execute_result"
    }
   ],
   "source": [
    "df = pd.read_csv(\"laliga.csv\")\n",
    "df"
   ]
  },
  {
   "cell_type": "markdown",
   "metadata": {},
   "source": [
    "## Ejercicio 3\n",
    "Obtén por pantalla los 4 primero registros"
   ]
  },
  {
   "cell_type": "code",
   "execution_count": 3,
   "metadata": {
    "jupyter": {
     "outputs_hidden": true
    }
   },
   "outputs": [
    {
     "data": {
      "text/html": [
       "<div>\n",
       "<style scoped>\n",
       "    .dataframe tbody tr th:only-of-type {\n",
       "        vertical-align: middle;\n",
       "    }\n",
       "\n",
       "    .dataframe tbody tr th {\n",
       "        vertical-align: top;\n",
       "    }\n",
       "\n",
       "    .dataframe thead th {\n",
       "        text-align: right;\n",
       "    }\n",
       "</style>\n",
       "<table border=\"1\" class=\"dataframe\">\n",
       "  <thead>\n",
       "    <tr style=\"text-align: right;\">\n",
       "      <th></th>\n",
       "      <th>Unnamed: 0</th>\n",
       "      <th>season</th>\n",
       "      <th>division</th>\n",
       "      <th>round</th>\n",
       "      <th>localTeam</th>\n",
       "      <th>visitorTeam</th>\n",
       "      <th>localGoals</th>\n",
       "      <th>visitorGoals</th>\n",
       "      <th>date</th>\n",
       "      <th>timestamp</th>\n",
       "    </tr>\n",
       "  </thead>\n",
       "  <tbody>\n",
       "    <tr>\n",
       "      <th>0</th>\n",
       "      <td>26201</td>\n",
       "      <td>2005-06</td>\n",
       "      <td>1</td>\n",
       "      <td>1</td>\n",
       "      <td>Atletico de Bilbao</td>\n",
       "      <td>Real Sociedad</td>\n",
       "      <td>3</td>\n",
       "      <td>0</td>\n",
       "      <td>27/08/2005</td>\n",
       "      <td>1125093600</td>\n",
       "    </tr>\n",
       "    <tr>\n",
       "      <th>1</th>\n",
       "      <td>26202</td>\n",
       "      <td>2005-06</td>\n",
       "      <td>1</td>\n",
       "      <td>1</td>\n",
       "      <td>Alaves</td>\n",
       "      <td>Barcelona</td>\n",
       "      <td>0</td>\n",
       "      <td>0</td>\n",
       "      <td>27/08/2005</td>\n",
       "      <td>1125093600</td>\n",
       "    </tr>\n",
       "    <tr>\n",
       "      <th>2</th>\n",
       "      <td>26203</td>\n",
       "      <td>2005-06</td>\n",
       "      <td>1</td>\n",
       "      <td>1</td>\n",
       "      <td>Valencia</td>\n",
       "      <td>Betis</td>\n",
       "      <td>1</td>\n",
       "      <td>0</td>\n",
       "      <td>27/08/2005</td>\n",
       "      <td>1125093600</td>\n",
       "    </tr>\n",
       "    <tr>\n",
       "      <th>3</th>\n",
       "      <td>26204</td>\n",
       "      <td>2005-06</td>\n",
       "      <td>1</td>\n",
       "      <td>1</td>\n",
       "      <td>Atletico de Madrid</td>\n",
       "      <td>Zaragoza</td>\n",
       "      <td>0</td>\n",
       "      <td>0</td>\n",
       "      <td>28/08/2005</td>\n",
       "      <td>1125180000</td>\n",
       "    </tr>\n",
       "  </tbody>\n",
       "</table>\n",
       "</div>"
      ],
      "text/plain": [
       "   Unnamed: 0   season  division  round           localTeam    visitorTeam  \\\n",
       "0       26201  2005-06         1      1  Atletico de Bilbao  Real Sociedad   \n",
       "1       26202  2005-06         1      1              Alaves      Barcelona   \n",
       "2       26203  2005-06         1      1            Valencia          Betis   \n",
       "3       26204  2005-06         1      1  Atletico de Madrid       Zaragoza   \n",
       "\n",
       "   localGoals  visitorGoals        date   timestamp  \n",
       "0           3             0  27/08/2005  1125093600  \n",
       "1           0             0  27/08/2005  1125093600  \n",
       "2           1             0  27/08/2005  1125093600  \n",
       "3           0             0  28/08/2005  1125180000  "
      ]
     },
     "execution_count": 3,
     "metadata": {},
     "output_type": "execute_result"
    }
   ],
   "source": [
    "df.head(4)"
   ]
  },
  {
   "cell_type": "markdown",
   "metadata": {},
   "source": [
    "## Ejercicio 4\n",
    "Obtén en un array de `numpy` todos los valores del DataFrame"
   ]
  },
  {
   "cell_type": "code",
   "execution_count": 4,
   "metadata": {
    "jupyter": {
     "outputs_hidden": true
    }
   },
   "outputs": [
    {
     "data": {
      "text/plain": [
       "array([[26201, '2005-06', 1, ..., 0, '27/08/2005', 1125093600],\n",
       "       [26202, '2005-06', 1, ..., 0, '27/08/2005', 1125093600],\n",
       "       [26203, '2005-06', 1, ..., 0, '27/08/2005', 1125093600],\n",
       "       ...,\n",
       "       [36682, '2017-18', 1, ..., 0, '20/05/2018', 1526767200],\n",
       "       [36683, '2017-18', 1, ..., 1, '20/05/2018', 1526767200],\n",
       "       [36684, '2017-18', 1, ..., 2, '20/05/2018', 1526767200]],\n",
       "      dtype=object)"
      ]
     },
     "execution_count": 4,
     "metadata": {},
     "output_type": "execute_result"
    }
   ],
   "source": [
    "df.values"
   ]
  },
  {
   "cell_type": "markdown",
   "metadata": {},
   "source": [
    "## Ejercicio 5\n",
    "¿Cuáles son las columnas de `df`?"
   ]
  },
  {
   "cell_type": "code",
   "execution_count": 5,
   "metadata": {},
   "outputs": [
    {
     "data": {
      "text/plain": [
       "Index(['Unnamed: 0', 'season', 'division', 'round', 'localTeam', 'visitorTeam',\n",
       "       'localGoals', 'visitorGoals', 'date', 'timestamp'],\n",
       "      dtype='object')"
      ]
     },
     "execution_count": 5,
     "metadata": {},
     "output_type": "execute_result"
    }
   ],
   "source": [
    "df.columns"
   ]
  },
  {
   "cell_type": "markdown",
   "metadata": {},
   "source": [
    "## Ejercicio 6\n",
    "Crea un `Series` con la [población de Madrid, Galicia, Murcia y Andalucía](https://es.wikipedia.org/wiki/Anexo:Comunidades_y_ciudades_aut%C3%B3nomas_de_Espa%C3%B1a). Llamalo `poblacion`. Créalo de dos maneras diferentes.\n",
    "\n",
    "Madrid: 6685471\n",
    "\n",
    "Galicia: 2698764\n",
    "\n",
    "Murcia: 1494442\n",
    "\n",
    "Andalucía: 8446561\n"
   ]
  },
  {
   "cell_type": "code",
   "execution_count": 6,
   "metadata": {},
   "outputs": [
    {
     "data": {
      "text/plain": [
       "Madrid       6685471\n",
       "Galicia      2698764\n",
       "Murcia       1494442\n",
       "Andalucía    8446561\n",
       "dtype: int64"
      ]
     },
     "execution_count": 6,
     "metadata": {},
     "output_type": "execute_result"
    }
   ],
   "source": [
    "poblacion = pd.Series([6685471,2698764,1494442,8446561], index=['Madrid','Galicia','Murcia','Andalucía'])\n",
    "poblacion"
   ]
  },
  {
   "cell_type": "code",
   "execution_count": 7,
   "metadata": {},
   "outputs": [
    {
     "data": {
      "text/plain": [
       "Madrid       6685471\n",
       "Galicia      2698764\n",
       "Murcia       1494442\n",
       "Andalucía    8446561\n",
       "dtype: int64"
      ]
     },
     "execution_count": 7,
     "metadata": {},
     "output_type": "execute_result"
    }
   ],
   "source": [
    "poblacion2 = pd.Series({'Madrid':6685471,'Galicia':2698764, 'Murcia':1494442, 'Andalucía':8446561})\n",
    "poblacion2"
   ]
  },
  {
   "cell_type": "markdown",
   "metadata": {},
   "source": [
    "## Ejercicio 7\n",
    "Obtén un array de `numpy` con los valores del `Series`.\n",
    "\n",
    "Saca también sus índices, y los valores de sus índices."
   ]
  },
  {
   "cell_type": "code",
   "execution_count": 8,
   "metadata": {},
   "outputs": [
    {
     "data": {
      "text/plain": [
       "array([6685471, 2698764, 1494442, 8446561], dtype=int64)"
      ]
     },
     "execution_count": 8,
     "metadata": {},
     "output_type": "execute_result"
    }
   ],
   "source": [
    "poblacion.values"
   ]
  },
  {
   "cell_type": "code",
   "execution_count": 9,
   "metadata": {},
   "outputs": [
    {
     "data": {
      "text/plain": [
       "Index(['Madrid', 'Galicia', 'Murcia', 'Andalucía'], dtype='object')"
      ]
     },
     "execution_count": 9,
     "metadata": {},
     "output_type": "execute_result"
    }
   ],
   "source": [
    "poblacion.index"
   ]
  },
  {
   "cell_type": "code",
   "execution_count": 10,
   "metadata": {},
   "outputs": [
    {
     "data": {
      "text/plain": [
       "Madrid       6685471\n",
       "Galicia      2698764\n",
       "Murcia       1494442\n",
       "Andalucía    8446561\n",
       "dtype: int64"
      ]
     },
     "execution_count": 10,
     "metadata": {},
     "output_type": "execute_result"
    }
   ],
   "source": [
    "poblacion"
   ]
  },
  {
   "cell_type": "markdown",
   "metadata": {},
   "source": [
    "## Ejercicio 8\n",
    "1. ¿Qué población hay en el primer elemento del `Series`?\n",
    "2. ¿Qué población hay en Galicia?\n",
    "3. Imprime por pantalla las poblaciones de Galicia, Andalucía y las comunidades autónomas que se encuentren entre ambas, dentro del `Series`.\n",
    "4. Comprueba con un output booleano que `Galicia` se encuentra entre los índices del `Index`.\n",
    "5. Realiza los apartados 1,2,3 pero esta vez de una manera diferente."
   ]
  },
  {
   "cell_type": "code",
   "execution_count": 11,
   "metadata": {
    "jupyter": {
     "outputs_hidden": true
    },
    "scrolled": true
   },
   "outputs": [
    {
     "name": "stdout",
     "output_type": "stream",
     "text": [
      "6685471\n"
     ]
    }
   ],
   "source": [
    "# 1. ¿Qué población hay en el primer elemento del `Series`?\n",
    "\n",
    "print(poblacion[0])"
   ]
  },
  {
   "cell_type": "code",
   "execution_count": 12,
   "metadata": {},
   "outputs": [
    {
     "name": "stdout",
     "output_type": "stream",
     "text": [
      "2698764\n"
     ]
    }
   ],
   "source": [
    "#2. ¿Qué población hay en Galicia?\n",
    "\n",
    "print(poblacion['Galicia'])"
   ]
  },
  {
   "cell_type": "code",
   "execution_count": 13,
   "metadata": {},
   "outputs": [
    {
     "name": "stdout",
     "output_type": "stream",
     "text": [
      "Galicia      2698764\n",
      "Murcia       1494442\n",
      "Andalucía    8446561\n",
      "dtype: int64\n"
     ]
    }
   ],
   "source": [
    "#3. Imprime por pantalla las poblaciones de Galicia, Andalucía y las comunidades autónomas que se encuentren entre ambas, dentro del `Series`.\n",
    "print(poblacion[1:4])"
   ]
  },
  {
   "cell_type": "code",
   "execution_count": 14,
   "metadata": {},
   "outputs": [
    {
     "data": {
      "text/plain": [
       "True"
      ]
     },
     "execution_count": 14,
     "metadata": {},
     "output_type": "execute_result"
    }
   ],
   "source": [
    "#4. Comprueba con un output booleano que `Galicia` se encuentra entre los índices del `Index`.\n",
    "\n",
    "'Galicia' in poblacion.index"
   ]
  },
  {
   "cell_type": "code",
   "execution_count": 15,
   "metadata": {},
   "outputs": [
    {
     "name": "stdout",
     "output_type": "stream",
     "text": [
      "6685471\n",
      "2698764\n"
     ]
    }
   ],
   "source": [
    "#5. Realiza los apartados 1,2,3 pero esta vez de una manera diferente.\n",
    "print(poblacion['Madrid'])\n",
    "print(poblacion[1])"
   ]
  },
  {
   "cell_type": "markdown",
   "metadata": {},
   "source": [
    "## Ejercicio 9\n",
    "A partir de las comunidades autónomas anteriores, crea un `Series` con [la tasa de paro](https://es.statista.com/estadisticas/941646/prevision-de-la-tasa-de-paro-por-comunidad-autonoma-espana/) en dichas comunidades autónomas.\n",
    "\n",
    "Con la tasa de paro y las poblaciones, crea un DataFrame de pandas. Llámalo `data`.\n",
    "\n",
    "Tasas de paro\n",
    "\n",
    "Madrid: 9.99\n",
    "\n",
    "Galicia: 11.74\n",
    "\n",
    "Murcia: 16.08\n",
    "\n",
    "Andalucía: 20.8"
   ]
  },
  {
   "cell_type": "code",
   "execution_count": 16,
   "metadata": {
    "jupyter": {
     "outputs_hidden": true
    }
   },
   "outputs": [
    {
     "data": {
      "text/plain": [
       "Madrid        9.99\n",
       "Galicia      11.74\n",
       "Murcia       16.08\n",
       "Andalucía    20.08\n",
       "dtype: float64"
      ]
     },
     "execution_count": 16,
     "metadata": {},
     "output_type": "execute_result"
    }
   ],
   "source": [
    "tasa_paro = pd.Series({'Madrid':9.99,'Galicia':11.74, 'Murcia':16.08, 'Andalucía':20.08})\n",
    "tasa_paro"
   ]
  },
  {
   "cell_type": "code",
   "execution_count": 17,
   "metadata": {
    "jupyter": {
     "outputs_hidden": true
    }
   },
   "outputs": [
    {
     "name": "stdout",
     "output_type": "stream",
     "text": [
      "           Tasa_Paro  Población\n",
      "Madrid          9.99    6685471\n",
      "Galicia        11.74    2698764\n",
      "Murcia         16.08    1494442\n",
      "Andalucía      20.08    8446561\n"
     ]
    }
   ],
   "source": [
    "data = pd.DataFrame(tasa_paro, columns=['Tasa_Paro'])\n",
    "data\n",
    "\n",
    "data['Población'] = poblacion\n",
    "print(data)"
   ]
  },
  {
   "cell_type": "markdown",
   "metadata": {},
   "source": [
    "## Ejercicio 10\n",
    "Imprime por pantalla la población, y la tasa de paro. Por separado"
   ]
  },
  {
   "cell_type": "code",
   "execution_count": 18,
   "metadata": {
    "jupyter": {
     "outputs_hidden": true
    }
   },
   "outputs": [
    {
     "name": "stdout",
     "output_type": "stream",
     "text": [
      "           Población  Tasa_Paro\n",
      "Madrid       6685471       9.99\n",
      "Galicia      2698764      11.74\n",
      "Murcia       1494442      16.08\n",
      "Andalucía    8446561      20.08\n"
     ]
    }
   ],
   "source": [
    "print(data[['Población','Tasa_Paro']])"
   ]
  },
  {
   "cell_type": "code",
   "execution_count": 19,
   "metadata": {
    "jupyter": {
     "outputs_hidden": true
    }
   },
   "outputs": [
    {
     "name": "stdout",
     "output_type": "stream",
     "text": [
      "           Población\n",
      "Madrid       6685471\n",
      "Galicia      2698764\n",
      "Murcia       1494442\n",
      "Andalucía    8446561\n",
      "           Tasa_Paro\n",
      "Madrid          9.99\n",
      "Galicia        11.74\n",
      "Murcia         16.08\n",
      "Andalucía      20.08\n"
     ]
    }
   ],
   "source": [
    "print(data[['Población']])\n",
    "print(data[['Tasa_Paro']])"
   ]
  },
  {
   "cell_type": "markdown",
   "metadata": {},
   "source": [
    "## Ejercicio 11\n",
    "Crea un nuevo Data Frame (`data2`), que sea igual que `data`, pero con una nueva columna, que lleve [la superficie de las Comunidades Autónomas](https://es.wikipedia.org/wiki/Anexo:Comunidades_y_ciudades_aut%C3%B3nomas_de_Espa%C3%B1a).\n",
    "\n",
    "Madrid: 8028\n",
    "\n",
    "Galicia: 29575\n",
    "\n",
    "Murcia: 11314\n",
    "\n",
    "Andalucía: 87599"
   ]
  },
  {
   "cell_type": "code",
   "execution_count": 22,
   "metadata": {},
   "outputs": [
    {
     "name": "stdout",
     "output_type": "stream",
     "text": [
      "Madrid        8028\n",
      "Galicia      29575\n",
      "Murcia       11314\n",
      "Andalucía    87599\n",
      "dtype: int64\n",
      "           Tasa_Paro  Población\n",
      "Madrid          9.99    6685471\n",
      "Galicia        11.74    2698764\n",
      "Murcia         16.08    1494442\n",
      "Andalucía      20.08    8446561\n",
      "           Tasa_Paro  Población  Superficie\n",
      "Madrid          9.99    6685471        8028\n",
      "Galicia        11.74    2698764       29575\n",
      "Murcia         16.08    1494442       11314\n",
      "Andalucía      20.08    8446561       87599\n"
     ]
    }
   ],
   "source": [
    "superficie = pd.Series({'Madrid': 8028, 'Galicia': 29575, 'Murcia': 11314, 'Andalucía': 87599})\n",
    "print(superficie)\n",
    "print(data)\n",
    "data2 = data\n",
    "data2['Superficie'] = superficie\n",
    "print(data2)\n"
   ]
  },
  {
   "cell_type": "code",
   "execution_count": null,
   "metadata": {
    "jupyter": {
     "outputs_hidden": true
    }
   },
   "outputs": [],
   "source": []
  },
  {
   "cell_type": "markdown",
   "metadata": {},
   "source": [
    "## Ejercicio 12\n",
    "Calcula en una nueva columna la densidad de población (hab/km^2)"
   ]
  },
  {
   "cell_type": "code",
   "execution_count": 24,
   "metadata": {
    "jupyter": {
     "outputs_hidden": true
    }
   },
   "outputs": [
    {
     "name": "stdout",
     "output_type": "stream",
     "text": [
      "           Tasa_Paro  Población  Superficie  Densidad_Población\n",
      "Madrid          9.99    6685471        8028              832.77\n",
      "Galicia        11.74    2698764       29575               91.25\n",
      "Murcia         16.08    1494442       11314              132.09\n",
      "Andalucía      20.08    8446561       87599               96.42\n"
     ]
    }
   ],
   "source": [
    "data2['Densidad_Población'] = round(poblacion/superficie,2)\n",
    "print(data2)"
   ]
  },
  {
   "cell_type": "code",
   "execution_count": null,
   "metadata": {},
   "outputs": [],
   "source": []
  }
 ],
 "metadata": {
  "kernelspec": {
   "display_name": "Python 3 (ipykernel)",
   "language": "python",
   "name": "python3"
  },
  "language_info": {
   "codemirror_mode": {
    "name": "ipython",
    "version": 3
   },
   "file_extension": ".py",
   "mimetype": "text/x-python",
   "name": "python",
   "nbconvert_exporter": "python",
   "pygments_lexer": "ipython3",
   "version": "3.10.4"
  }
 },
 "nbformat": 4,
 "nbformat_minor": 4
}
