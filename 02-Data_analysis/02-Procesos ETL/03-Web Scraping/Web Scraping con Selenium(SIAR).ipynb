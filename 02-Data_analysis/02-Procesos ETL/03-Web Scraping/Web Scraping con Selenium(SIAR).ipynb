{
 "cells": [
  {
   "cell_type": "markdown",
   "metadata": {},
   "source": [
    "Selenium es una librería que permite automatizar navegadores web\n",
    "\n",
    "Es necesario disponer del siguiente driver: http://chromedriver.chromium.org/downloads\n",
    "\n",
    "Documentación: https://selenium-python.readthedocs.io/\n",
    "\n",
    "Para instalar la librería, desde anaconda prompt:\n",
    "\n",
    "`conda install -c conda-forge selenium`  \n",
    "\n",
    "En este ejemplo vamos a extraer datos climáticos de la web http://eportal.mapa.gob.es/websiar/SeleccionParametrosMap.aspx?dst=1"
   ]
  },
  {
   "cell_type": "code",
   "execution_count": 1,
   "metadata": {},
   "outputs": [
    {
     "name": "stderr",
     "output_type": "stream",
     "text": [
      "\n",
      "\n",
      "====== WebDriver manager ======\n"
     ]
    },
    {
     "name": "stdout",
     "output_type": "stream",
     "text": [
      "Iniciando Scraper\n"
     ]
    },
    {
     "name": "stderr",
     "output_type": "stream",
     "text": [
      "Current google-chrome version is 106.0.5249\n",
      "Get LATEST chromedriver version for 106.0.5249 google-chrome\n",
      "Driver [C:\\Users\\rzambrano\\.wdm\\drivers\\chromedriver\\win32\\106.0.5249.61\\chromedriver.exe] found in cache\n"
     ]
    }
   ],
   "source": [
    "print('Iniciando Scraper')\n",
    "\n",
    "from selenium import webdriver\n",
    "from webdriver_manager.chrome import ChromeDriverManager\n",
    "from selenium.webdriver.common.keys import Keys\n",
    "import time\n",
    "\n",
    "driver = webdriver.Chrome(executable_path=ChromeDriverManager().install())\n",
    "\n",
    "driver.get('http://eportal.mapa.gob.es/websiar/SeleccionParametrosMap.aspx?dst=1')\n",
    "\n",
    "value_ccaa=8 # Comunidad autonoma\n",
    "value_ccaa_string = str(value_ccaa)\n",
    "string_ccaa = 'select[name=\"ctl00$ContentPlaceHolder1$DropDownListCCAA\"] option[value=\"'+value_ccaa_string+'\"]'\n",
    "desplegable_ccaa = driver.find_element_by_css_selector(string_ccaa)\n",
    "click_desplegable_ccaa = desplegable_ccaa.click()\n",
    "\n",
    "time.sleep(2)\n",
    "\n",
    "value_prov=50 # Provincia\n",
    "value_prov_string = str(value_prov)\n",
    "string_prov = 'select[name=\"ctl00$ContentPlaceHolder1$DropDownListProvincia\"] option[value=\"'+value_prov_string+'\"]'\n",
    "desplegable_prov = driver.find_element_by_css_selector(string_prov)\n",
    "click_desplegable_prov = desplegable_prov.click()\n",
    "\n",
    "time.sleep(2)\n",
    "\n",
    "value_est=2 # Estacion\n",
    "value_est_string = str(value_est)\n",
    "string_est = 'select[name=\"ctl00$ContentPlaceHolder1$DropDownListEstacion\"] option[value=\"'+value_est_string+'\"]'\n",
    "desplegable_est = driver.find_element_by_css_selector(string_est)\n",
    "click_desplegable_est = desplegable_est.click()\n",
    "\n",
    "time.sleep(2)\n",
    "\n",
    "agregar_estacion = driver.find_element_by_css_selector('input[name=\"ctl00$ContentPlaceHolder1$ButtonAgregar\"]')\n",
    "click_agregar_estacion=agregar_estacion.click()\n",
    "\n",
    "time.sleep(1)\n",
    "\n",
    "driver.find_element_by_id('txtFechaIni').clear() # Borra la fecha de inicio por defecto\n",
    "\n",
    "time.sleep(1)\n",
    "\n",
    "driver.find_element_by_id('txtFechaFin').clear() # Borra la fecha fin por defecto\n",
    "\n",
    "time.sleep(2)\n",
    "\n",
    "inputElement = driver.find_element_by_id(\"txtFechaIni\")\n",
    "inputElement.send_keys('10/11/2019') # Fecha de Inicio\n",
    "\n",
    "time.sleep(3)\n",
    "\n",
    "inputElement = driver.find_element_by_id(\"txtFechaFin\")\n",
    "inputElement.send_keys('11/11/2019') # Fecha de fin\n",
    "\n",
    "time.sleep(3)\n",
    "\n",
    "consultar_datos_button = driver.find_element_by_css_selector('input[name=\"ctl00$ContentPlaceHolder1$btnConsultar\"]')\n",
    "consultar_datos = consultar_datos_button.click()\n",
    "\n",
    "time.sleep(2)\n",
    "\n",
    "driver.switch_to.window(driver.window_handles[1]) # Cambia la ventana del navegador\n",
    "exportar_csv_link = driver.find_element_by_css_selector('a[id=\"ContentPlaceHolder1_ExportarCSV\"]')\n",
    "descargar_csv = exportar_csv_link.click()\n",
    "\n",
    "time.sleep(2)\n",
    "\n",
    "driver.quit() # Cierra el navegador\n",
    "\n"
   ]
  },
  {
   "cell_type": "markdown",
   "metadata": {},
   "source": [
    "Si queremos descomprimir el zip hay que especificar la carpeta en la que se ha descargado el archivo InformeDatos.zip"
   ]
  },
  {
   "cell_type": "code",
   "execution_count": 3,
   "metadata": {},
   "outputs": [],
   "source": [
    "import zipfile\n",
    "import os\n",
    "\n",
    "zip_ref = zipfile.ZipFile('C:/Users/rzambrano/Downloads/InformeDatos.zip', 'r') # Carga el zip de salida guardado en downloads\n",
    "\n",
    "if not os.path.exists('Resultados'): # Creo la carpeta 'Resultados' en caso de no existir\n",
    "    os.makedirs('Resultados')\n",
    "    \n",
    "zip_ref.extractall(\"Resultados/\") # Extrae el zip a la carpeta Resultados \n",
    "zip_ref.close()\n",
    "os.remove('C:/Users/rzambrano/Downloads/InformeDatos.zip') # Borra el archivo 'ImportarDatos.zip'\n",
    "\n"
   ]
  }
 ],
 "metadata": {
  "kernelspec": {
   "display_name": "Python 3 (ipykernel)",
   "language": "python",
   "name": "python3"
  },
  "language_info": {
   "codemirror_mode": {
    "name": "ipython",
    "version": 3
   },
   "file_extension": ".py",
   "mimetype": "text/x-python",
   "name": "python",
   "nbconvert_exporter": "python",
   "pygments_lexer": "ipython3",
   "version": "3.9.13"
  }
 },
 "nbformat": 4,
 "nbformat_minor": 2
}
