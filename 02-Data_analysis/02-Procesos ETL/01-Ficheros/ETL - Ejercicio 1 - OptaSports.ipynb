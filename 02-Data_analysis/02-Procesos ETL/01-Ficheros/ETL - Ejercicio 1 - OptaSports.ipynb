{
 "cells": [
  {
   "cell_type": "code",
   "execution_count": 1,
   "id": "bf9c2631",
   "metadata": {},
   "outputs": [],
   "source": [
    "import ftplib"
   ]
  },
  {
   "cell_type": "code",
   "execution_count": 2,
   "id": "532c5957",
   "metadata": {},
   "outputs": [],
   "source": [
    "ftp = ftplib.FTP('f31-preview.runhosting.com',\"4009006_DATOS\",\"Rafa9999\")"
   ]
  },
  {
   "cell_type": "code",
   "execution_count": 3,
   "id": "299b0a25",
   "metadata": {},
   "outputs": [
    {
     "data": {
      "text/plain": [
       "'226 Transfer complete'"
      ]
     },
     "execution_count": 3,
     "metadata": {},
     "output_type": "execute_result"
    }
   ],
   "source": [
    "filename = 'OptaF24.xml'\n",
    "ftp.retrbinary(\"RETR \"+filename,open(filename,'wb').write)"
   ]
  },
  {
   "cell_type": "code",
   "execution_count": 4,
   "id": "2c7665f1",
   "metadata": {},
   "outputs": [
    {
     "data": {
      "text/plain": [
       "'221 Goodbye.'"
      ]
     },
     "execution_count": 4,
     "metadata": {},
     "output_type": "execute_result"
    }
   ],
   "source": [
    "ftp.quit()"
   ]
  },
  {
   "cell_type": "code",
   "execution_count": 5,
   "id": "f7613d48",
   "metadata": {},
   "outputs": [],
   "source": [
    "f = open('OptaF24.xml', 'r').read()"
   ]
  },
  {
   "cell_type": "code",
   "execution_count": 5,
   "id": "6fb61c4b",
   "metadata": {},
   "outputs": [
    {
     "name": "stdout",
     "output_type": "stream",
     "text": [
      "Games\n"
     ]
    }
   ],
   "source": [
    "import xml.etree.ElementTree as ET\n",
    "tree = ET.parse('OptaF24.xml')\n",
    "gameFile = tree.getroot()\n",
    "print(gameFile.tag)"
   ]
  },
  {
   "cell_type": "code",
   "execution_count": 4,
   "id": "47b1cbd3",
   "metadata": {},
   "outputs": [
    {
     "name": "stdout",
     "output_type": "stream",
     "text": [
      "{'timestamp': '2012-09-11T10:20:32'}\n"
     ]
    }
   ],
   "source": [
    "print(gameFile.attrib)"
   ]
  },
  {
   "cell_type": "code",
   "execution_count": 12,
   "id": "bbaf5e87",
   "metadata": {},
   "outputs": [
    {
     "name": "stdout",
     "output_type": "stream",
     "text": [
      "Numero de partidos: 1\n"
     ]
    }
   ],
   "source": [
    "game = tree.findall('Game')\n",
    "print('Numero de partidos:', len(game))"
   ]
  },
  {
   "cell_type": "code",
   "execution_count": 14,
   "id": "04530971",
   "metadata": {},
   "outputs": [
    {
     "name": "stdout",
     "output_type": "stream",
     "text": [
      "Numero de eventos: 1673\n"
     ]
    }
   ],
   "source": [
    "eventos = game[0].findall('Event')\n",
    "print('Numero de eventos:', len(eventos))"
   ]
  },
  {
   "cell_type": "code",
   "execution_count": 39,
   "id": "28eac0f9",
   "metadata": {},
   "outputs": [],
   "source": [
    "team = []\n",
    "half = []\n",
    "minute = []\n",
    "second = []\n",
    "x_origin = []\n",
    "y_origin = []\n",
    "x_destination = []\n",
    "y_destination = []\n",
    "outcome = []"
   ]
  },
  {
   "cell_type": "code",
   "execution_count": 19,
   "id": "709cfa20",
   "metadata": {},
   "outputs": [
    {
     "data": {
      "text/plain": [
       "{'id': '301038339',\n",
       " 'event_id': '1',\n",
       " 'type_id': '34',\n",
       " 'period_id': '16',\n",
       " 'min': '0',\n",
       " 'sec': '0',\n",
       " 'team_id': '43',\n",
       " 'outcome': '1',\n",
       " 'x': '0.0',\n",
       " 'y': '0.0',\n",
       " 'timestamp': '2011-08-21T15:23:06.696',\n",
       " 'last_modified': '2011-08-21T15:54:56'}"
      ]
     },
     "execution_count": 19,
     "metadata": {},
     "output_type": "execute_result"
    }
   ],
   "source": [
    "eventos[0].attrib"
   ]
  },
  {
   "cell_type": "code",
   "execution_count": 40,
   "id": "87fdd594",
   "metadata": {},
   "outputs": [],
   "source": [
    "for evento in eventos:\n",
    "    if evento.attrib['type_id']=='1':\n",
    "        half.append(evento.attrib['period_id'])\n",
    "        minute.append(evento.attrib['min'])\n",
    "        second.append(evento.attrib['sec'])\n",
    "        team.append(evento.attrib['team_id'])\n",
    "        x_origin.append(evento.attrib['x'])\n",
    "        y_origin.append(evento.attrib['y'])\n",
    "        outcome.append(evento.attrib['outcome'])\n",
    "\n",
    "        qualifiers = evento.findall('Q')\n",
    "        for q in qualifiers:\n",
    "            if q.attrib['qualifier_id']=='140':\n",
    "                x_destination.append(q.attrib['value'])\n",
    "            if q.attrib['qualifier_id']=='141':\n",
    "                y_destination.append(q.attrib['value'])\n"
   ]
  },
  {
   "cell_type": "code",
   "execution_count": 25,
   "id": "aba04335",
   "metadata": {},
   "outputs": [
    {
     "data": {
      "text/plain": [
       "{'id': '1202220317', 'qualifier_id': '140', 'value': '52.4'}"
      ]
     },
     "execution_count": 25,
     "metadata": {},
     "output_type": "execute_result"
    }
   ],
   "source": [
    "q.attrib"
   ]
  },
  {
   "cell_type": "code",
   "execution_count": 41,
   "id": "335d9fb7",
   "metadata": {},
   "outputs": [
    {
     "data": {
      "text/plain": [
       "(946, 946, 946, 946, 946, 946, 946, 946, 946)"
      ]
     },
     "execution_count": 41,
     "metadata": {},
     "output_type": "execute_result"
    }
   ],
   "source": [
    "len(team),\\\n",
    "len(half),\\\n",
    "len(minute),\\\n",
    "len(second),\\\n",
    "len(x_origin),\\\n",
    "len(y_origin),\\\n",
    "len(x_destination),\\\n",
    "len(y_destination),\\\n",
    "len(outcome)"
   ]
  },
  {
   "cell_type": "code",
   "execution_count": null,
   "id": "0a5a80de",
   "metadata": {},
   "outputs": [],
   "source": [
    "equipos={game[0].attrib['home_team_id']: game[0].attrib['home_team_name'],\n",
    "         game[0].attrib['away_team_id']: game[0].attrib['away_team_name']}"
   ]
  },
  {
   "cell_type": "code",
   "execution_count": null,
   "id": "eb47729d",
   "metadata": {},
   "outputs": [],
   "source": []
  },
  {
   "cell_type": "code",
   "execution_count": null,
   "id": "dfd13ef5",
   "metadata": {},
   "outputs": [],
   "source": []
  },
  {
   "cell_type": "code",
   "execution_count": null,
   "id": "7fec7bb3",
   "metadata": {},
   "outputs": [],
   "source": [
    "pases.outcome = pases.outcome.astype('int')"
   ]
  },
  {
   "cell_type": "code",
   "execution_count": null,
   "id": "db0f8f34",
   "metadata": {},
   "outputs": [],
   "source": [
    "pases.outcome = pd.to_numeric(pases.outcome)"
   ]
  },
  {
   "cell_type": "code",
   "execution_count": null,
   "id": "d3ff5aca",
   "metadata": {},
   "outputs": [],
   "source": [
    "# ¿Que equipo ha dado mas pases buenos?\n",
    "\n",
    "pases[['team','outcome']].groupby('team',as_index=False).sum()"
   ]
  },
  {
   "cell_type": "code",
   "execution_count": null,
   "id": "0ace719e",
   "metadata": {},
   "outputs": [],
   "source": [
    "# Pases de más de 20 metros en el eje x\n",
    "\n",
    "pases['x_distance'] = pases.x_destination.astype('float') - pases.x_origin.astype('float')\n",
    "\n",
    "pases.loc[(pases.x_distance>20) & (pases.outcome==1)].team.value_counts()"
   ]
  }
 ],
 "metadata": {
  "kernelspec": {
   "display_name": "Python 3 (ipykernel)",
   "language": "python",
   "name": "python3"
  },
  "language_info": {
   "codemirror_mode": {
    "name": "ipython",
    "version": 3
   },
   "file_extension": ".py",
   "mimetype": "text/x-python",
   "name": "python",
   "nbconvert_exporter": "python",
   "pygments_lexer": "ipython3",
   "version": "3.10.4"
  }
 },
 "nbformat": 4,
 "nbformat_minor": 5
}
