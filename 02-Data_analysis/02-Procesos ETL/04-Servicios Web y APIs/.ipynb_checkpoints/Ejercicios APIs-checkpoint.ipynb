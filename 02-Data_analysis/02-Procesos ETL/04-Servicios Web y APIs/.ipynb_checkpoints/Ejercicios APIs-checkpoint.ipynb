{
 "cells": [
  {
   "attachments": {
    "image.png": {
     "image/png": "[encoded data removed]"
    }
   },
   "cell_type": "markdown",
   "id": "36777df5",
   "metadata": {},
   "source": [
    "![image.png](attachment:image.png)"
   ]
  },
  {
   "cell_type": "markdown",
   "id": "1a1b55e5",
   "metadata": {},
   "source": [
    "Queremos obtener los datos climáticos más recientes de una determinada dirección. Para ello, utilizaremos dos APIs:\n",
    "1)\tOpenWeather (https://openweathermap.org/): La API Current weather data proporciona información actual de ubicaciones, las cuales pueden ser nombres o códigos de ciudades, códigos postales, coordenadas geográficas...\n",
    "\n",
    "2)\tOpenCage (https://opencagedata.com/): Esta API permite transformar direcciones a coordenadas geográficas\n"
   ]
  },
  {
   "cell_type": "markdown",
   "id": "4c2a7993",
   "metadata": {},
   "source": [
    "Programar un código en Python que solicite al usuario introducir una dirección y devuelva la temperatura mínima, media y máxima (en grados centígrados) de dicha dirección, utilizando las dos APIs anteriores. Para ello:  \n",
    "\n",
    "i)\tLee detenidamente la documentación de ambas APIs y obtén la autenticación en cada una de ellas.  \n",
    "ii)\tTransforma la dirección a coordenadas geográficas utilizando la API de OpenCage.  \n",
    "iii)\tUtiliza las coordenadas obtenidas en el paso anterior como parámetro para llamar a la API de OpenWeather y obtener  las temperaturas deseadas.   \n",
    "\n",
    "PISTA: Las temperaturas por defecto se muestran en grados Kelvin, pero existe un parámetro de la API para cambiarlo.\n"
   ]
  },
  {
   "cell_type": "code",
   "execution_count": 33,
   "id": "85fe2c0c",
   "metadata": {},
   "outputs": [],
   "source": [
    "import urllib.request\n",
    "import json\n",
    "import requests\n",
    "import time"
   ]
  },
  {
   "cell_type": "code",
   "execution_count": 34,
   "id": "0fb97870",
   "metadata": {},
   "outputs": [
    {
     "name": "stdout",
     "output_type": "stream",
     "text": [
      "Introduce una dirección: Paseo Hospital Militar Valladolid España\n"
     ]
    }
   ],
   "source": [
    "from opencage.geocoder import OpenCageGeocode\n",
    "\n",
    "key = 'f991175b86104f63bb123db80f60b628'\n",
    "geocoder = OpenCageGeocode(key)\n",
    "\n",
    "address = input('Introduce una dirección: ')\n",
    "query = address\n",
    "results = geocoder.geocode(query)\n",
    "# Consulto la estructura del Json con https://codebeautify.org/jsonviewer\n",
    "latitud = results[0]['geometry']['lat']\n",
    "longitud = results[0]['geometry']['lng']"
   ]
  },
  {
   "cell_type": "code",
   "execution_count": 35,
   "id": "2df9d084",
   "metadata": {
    "scrolled": true
   },
   "outputs": [
    {
     "data": {
      "text/plain": [
       "\"\\nfor item in js['list']:\\n    print(item['dt_txt'])\\n    print(item['main']['temp'])\\n\""
      ]
     },
     "execution_count": 35,
     "metadata": {},
     "output_type": "execute_result"
    }
   ],
   "source": [
    "o_w_key = 'b02a11428d91d68b05fadcbb44722073'\n",
    "\n",
    "endpoint='http://api.openweathermap.org/data/2.5/forecast?lat='+str(latitud)+'&lon='+str(longitud)+'&exclude=minutely,hourly,daily,alerts&units=metric&appid='+o_w_key\n",
    "\n",
    "datos = requests.get(endpoint)\n",
    "\n",
    "js = datos.json()\n",
    "\n",
    "'''\n",
    "for item in js['list']:\n",
    "    print(item['dt_txt'])\n",
    "    print(item['main']['temp'])\n",
    "'''"
   ]
  },
  {
   "cell_type": "code",
   "execution_count": 37,
   "id": "776259da",
   "metadata": {},
   "outputs": [
    {
     "name": "stdout",
     "output_type": "stream",
     "text": [
      "La previsión de temperatura en Valladolid el dia 2022-11-01 a las 15:00 horas es de 15.37 ºC\n",
      "(Mínima 15.37 ºC y Máxima 16.18 ºC).\n"
     ]
    }
   ],
   "source": [
    "ciudad = js['city']['name']\n",
    "tempMin = js['list'][0]['main']['temp_min']\n",
    "temp = js['list'][0]['main']['temp']\n",
    "tempMax = js['list'][0]['main']['temp_max']\n",
    "fechaHora = js['list'][0]['dt_txt']\n",
    "fechaHora = fechaHora.split()\n",
    "fecha = fechaHora[0]\n",
    "hora = fechaHora[1][0:5]\n",
    "\n",
    "print('La previsión de temperatura en',ciudad,'el dia',fecha,'a las',hora,'horas es de',temp,'ºC\\n(Mínima',tempMin,'ºC y Máxima',tempMax,'ºC).')"
   ]
  },
  {
   "cell_type": "code",
   "execution_count": null,
   "id": "705fb01b",
   "metadata": {},
   "outputs": [],
   "source": []
  }
 ],
 "metadata": {
  "kernelspec": {
   "display_name": "Python 3 (ipykernel)",
   "language": "python",
   "name": "python3"
  },
  "language_info": {
   "codemirror_mode": {
    "name": "ipython",
    "version": 3
   },
   "file_extension": ".py",
   "mimetype": "text/x-python",
   "name": "python",
   "nbconvert_exporter": "python",
   "pygments_lexer": "ipython3",
   "version": "3.10.4"
  }
 },
 "nbformat": 4,
 "nbformat_minor": 5
}
