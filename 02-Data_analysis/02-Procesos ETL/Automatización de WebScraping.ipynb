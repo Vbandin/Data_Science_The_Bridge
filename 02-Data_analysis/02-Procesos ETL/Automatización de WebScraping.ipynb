{
 "cells": [
  {
   "cell_type": "code",
   "execution_count": null,
   "id": "c5263f99",
   "metadata": {},
   "outputs": [],
   "source": []
  },
  {
   "cell_type": "code",
   "execution_count": null,
   "id": "06fdc8d0",
   "metadata": {},
   "outputs": [],
   "source": [
    "import urllib.request\n",
    "from bs4 import BeautifulSoup\n",
    "url = 'https://www.carrefour.es/supermercado/leche-entera-pascual-brik-1-l/R-521006986/p?ic_source=portal-y-corporativo&ic_medium=search-empathy&ic_content=ns'\n",
    "html = urllib.request.urlopen(url)\n",
    "soup = BeautifulSoup(html)\n",
    "tags = soup.find_all('span',class_='buybox__price')\n",
    "precio = float(tags[0].text.strip().replace(' €','').replace(',','.'))\n",
    "precio"
   ]
  },
  {
   "cell_type": "code",
   "execution_count": null,
   "id": "b6290eb3",
   "metadata": {},
   "outputs": [],
   "source": [
    "import sqlite3\n",
    "leche = sqlite3.connect('leche.sqlite')"
   ]
  },
  {
   "cell_type": "code",
   "execution_count": null,
   "id": "e11af5d1",
   "metadata": {},
   "outputs": [],
   "source": [
    "from datetime import datetime\n",
    "import pandas as pd"
   ]
  }
 ],
 "metadata": {
  "kernelspec": {
   "display_name": "Python 3 (ipykernel)",
   "language": "python",
   "name": "python3"
  },
  "language_info": {
   "codemirror_mode": {
    "name": "ipython",
    "version": 3
   },
   "file_extension": ".py",
   "mimetype": "text/x-python",
   "name": "python",
   "nbconvert_exporter": "python",
   "pygments_lexer": "ipython3",
   "version": "3.10.4"
  }
 },
 "nbformat": 4,
 "nbformat_minor": 5
}
