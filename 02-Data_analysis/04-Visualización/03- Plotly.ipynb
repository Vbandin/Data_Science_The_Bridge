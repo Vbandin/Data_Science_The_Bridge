{
 "cells": [
  {
   "cell_type": "markdown",
   "metadata": {
    "id": "fBwh3Bypimha"
   },
   "source": [
    "# Interactive Visualization Lab - Superstore Dataset\n",
    "\n",
    "Complete the following set of exercises to solidify your knowledge of interactive visualization using"
   ]
  },
  {
   "cell_type": "code",
   "execution_count": 1,
   "metadata": {
    "id": "b-CJJ-68imhb",
    "outputId": "8ea87b64-66a4-4dd8-d905-2e4e1f387c0b"
   },
   "outputs": [
    {
     "data": {
      "text/html": [
       "<div>\n",
       "<style scoped>\n",
       "    .dataframe tbody tr th:only-of-type {\n",
       "        vertical-align: middle;\n",
       "    }\n",
       "\n",
       "    .dataframe tbody tr th {\n",
       "        vertical-align: top;\n",
       "    }\n",
       "\n",
       "    .dataframe thead th {\n",
       "        text-align: right;\n",
       "    }\n",
       "</style>\n",
       "<table border=\"1\" class=\"dataframe\">\n",
       "  <thead>\n",
       "    <tr style=\"text-align: right;\">\n",
       "      <th></th>\n",
       "      <th>Order ID</th>\n",
       "      <th>Order Date</th>\n",
       "      <th>Ship Date</th>\n",
       "      <th>Ship Mode</th>\n",
       "      <th>Customer ID</th>\n",
       "      <th>Customer Name</th>\n",
       "      <th>Segment</th>\n",
       "      <th>Country</th>\n",
       "      <th>City</th>\n",
       "      <th>State</th>\n",
       "      <th>Postal Code</th>\n",
       "      <th>Region</th>\n",
       "      <th>Product ID</th>\n",
       "      <th>Category</th>\n",
       "      <th>Sub-Category</th>\n",
       "      <th>Product Name</th>\n",
       "      <th>Sales</th>\n",
       "      <th>Quantity</th>\n",
       "      <th>Discount</th>\n",
       "      <th>Profit</th>\n",
       "    </tr>\n",
       "  </thead>\n",
       "  <tbody>\n",
       "    <tr>\n",
       "      <th>0</th>\n",
       "      <td>CA-2016-152156</td>\n",
       "      <td>2016-11-08</td>\n",
       "      <td>2016-11-11</td>\n",
       "      <td>Second Class</td>\n",
       "      <td>CG-12520</td>\n",
       "      <td>Claire Gute</td>\n",
       "      <td>Consumer</td>\n",
       "      <td>United States</td>\n",
       "      <td>Henderson</td>\n",
       "      <td>Kentucky</td>\n",
       "      <td>42420</td>\n",
       "      <td>South</td>\n",
       "      <td>FUR-BO-10001798</td>\n",
       "      <td>Furniture</td>\n",
       "      <td>Bookcases</td>\n",
       "      <td>Bush Somerset Collection Bookcase</td>\n",
       "      <td>261.9600</td>\n",
       "      <td>2</td>\n",
       "      <td>0.00</td>\n",
       "      <td>41.9136</td>\n",
       "    </tr>\n",
       "    <tr>\n",
       "      <th>1</th>\n",
       "      <td>CA-2016-152156</td>\n",
       "      <td>2016-11-08</td>\n",
       "      <td>2016-11-11</td>\n",
       "      <td>Second Class</td>\n",
       "      <td>CG-12520</td>\n",
       "      <td>Claire Gute</td>\n",
       "      <td>Consumer</td>\n",
       "      <td>United States</td>\n",
       "      <td>Henderson</td>\n",
       "      <td>Kentucky</td>\n",
       "      <td>42420</td>\n",
       "      <td>South</td>\n",
       "      <td>FUR-CH-10000454</td>\n",
       "      <td>Furniture</td>\n",
       "      <td>Chairs</td>\n",
       "      <td>Hon Deluxe Fabric Upholstered Stacking Chairs,...</td>\n",
       "      <td>731.9400</td>\n",
       "      <td>3</td>\n",
       "      <td>0.00</td>\n",
       "      <td>219.5820</td>\n",
       "    </tr>\n",
       "    <tr>\n",
       "      <th>2</th>\n",
       "      <td>CA-2016-138688</td>\n",
       "      <td>2016-06-12</td>\n",
       "      <td>2016-06-16</td>\n",
       "      <td>Second Class</td>\n",
       "      <td>DV-13045</td>\n",
       "      <td>Darrin Van Huff</td>\n",
       "      <td>Corporate</td>\n",
       "      <td>United States</td>\n",
       "      <td>Los Angeles</td>\n",
       "      <td>California</td>\n",
       "      <td>90036</td>\n",
       "      <td>West</td>\n",
       "      <td>OFF-LA-10000240</td>\n",
       "      <td>Office Supplies</td>\n",
       "      <td>Labels</td>\n",
       "      <td>Self-Adhesive Address Labels for Typewriters b...</td>\n",
       "      <td>14.6200</td>\n",
       "      <td>2</td>\n",
       "      <td>0.00</td>\n",
       "      <td>6.8714</td>\n",
       "    </tr>\n",
       "    <tr>\n",
       "      <th>3</th>\n",
       "      <td>US-2015-108966</td>\n",
       "      <td>2015-10-11</td>\n",
       "      <td>2015-10-18</td>\n",
       "      <td>Standard Class</td>\n",
       "      <td>SO-20335</td>\n",
       "      <td>Sean O'Donnell</td>\n",
       "      <td>Consumer</td>\n",
       "      <td>United States</td>\n",
       "      <td>Fort Lauderdale</td>\n",
       "      <td>Florida</td>\n",
       "      <td>33311</td>\n",
       "      <td>South</td>\n",
       "      <td>FUR-TA-10000577</td>\n",
       "      <td>Furniture</td>\n",
       "      <td>Tables</td>\n",
       "      <td>Bretford CR4500 Series Slim Rectangular Table</td>\n",
       "      <td>957.5775</td>\n",
       "      <td>5</td>\n",
       "      <td>0.45</td>\n",
       "      <td>-383.0310</td>\n",
       "    </tr>\n",
       "    <tr>\n",
       "      <th>4</th>\n",
       "      <td>US-2015-108966</td>\n",
       "      <td>2015-10-11</td>\n",
       "      <td>2015-10-18</td>\n",
       "      <td>Standard Class</td>\n",
       "      <td>SO-20335</td>\n",
       "      <td>Sean O'Donnell</td>\n",
       "      <td>Consumer</td>\n",
       "      <td>United States</td>\n",
       "      <td>Fort Lauderdale</td>\n",
       "      <td>Florida</td>\n",
       "      <td>33311</td>\n",
       "      <td>South</td>\n",
       "      <td>OFF-ST-10000760</td>\n",
       "      <td>Office Supplies</td>\n",
       "      <td>Storage</td>\n",
       "      <td>Eldon Fold 'N Roll Cart System</td>\n",
       "      <td>22.3680</td>\n",
       "      <td>2</td>\n",
       "      <td>0.20</td>\n",
       "      <td>2.5164</td>\n",
       "    </tr>\n",
       "  </tbody>\n",
       "</table>\n",
       "</div>"
      ],
      "text/plain": [
       "         Order ID Order Date  Ship Date       Ship Mode Customer ID  \\\n",
       "0  CA-2016-152156 2016-11-08 2016-11-11    Second Class    CG-12520   \n",
       "1  CA-2016-152156 2016-11-08 2016-11-11    Second Class    CG-12520   \n",
       "2  CA-2016-138688 2016-06-12 2016-06-16    Second Class    DV-13045   \n",
       "3  US-2015-108966 2015-10-11 2015-10-18  Standard Class    SO-20335   \n",
       "4  US-2015-108966 2015-10-11 2015-10-18  Standard Class    SO-20335   \n",
       "\n",
       "     Customer Name    Segment        Country             City       State  \\\n",
       "0      Claire Gute   Consumer  United States        Henderson    Kentucky   \n",
       "1      Claire Gute   Consumer  United States        Henderson    Kentucky   \n",
       "2  Darrin Van Huff  Corporate  United States      Los Angeles  California   \n",
       "3   Sean O'Donnell   Consumer  United States  Fort Lauderdale     Florida   \n",
       "4   Sean O'Donnell   Consumer  United States  Fort Lauderdale     Florida   \n",
       "\n",
       "   Postal Code Region       Product ID         Category Sub-Category  \\\n",
       "0        42420  South  FUR-BO-10001798        Furniture    Bookcases   \n",
       "1        42420  South  FUR-CH-10000454        Furniture       Chairs   \n",
       "2        90036   West  OFF-LA-10000240  Office Supplies       Labels   \n",
       "3        33311  South  FUR-TA-10000577        Furniture       Tables   \n",
       "4        33311  South  OFF-ST-10000760  Office Supplies      Storage   \n",
       "\n",
       "                                        Product Name     Sales  Quantity  \\\n",
       "0                  Bush Somerset Collection Bookcase  261.9600         2   \n",
       "1  Hon Deluxe Fabric Upholstered Stacking Chairs,...  731.9400         3   \n",
       "2  Self-Adhesive Address Labels for Typewriters b...   14.6200         2   \n",
       "3      Bretford CR4500 Series Slim Rectangular Table  957.5775         5   \n",
       "4                     Eldon Fold 'N Roll Cart System   22.3680         2   \n",
       "\n",
       "   Discount    Profit  \n",
       "0      0.00   41.9136  \n",
       "1      0.00  219.5820  \n",
       "2      0.00    6.8714  \n",
       "3      0.45 -383.0310  \n",
       "4      0.20    2.5164  "
      ]
     },
     "execution_count": 1,
     "metadata": {},
     "output_type": "execute_result"
    }
   ],
   "source": [
    "import pandas as pd\n",
    "df = pd.read_excel('data/Sample - Superstore.xlsx')\n",
    "df.head()"
   ]
  },
  {
   "cell_type": "markdown",
   "metadata": {
    "id": "0vbpV0ARimho"
   },
   "source": [
    "## 1. Create an interactive bar chart showing total sales by State for2014."
   ]
  },
  {
   "cell_type": "code",
   "execution_count": 13,
   "metadata": {},
   "outputs": [
    {
     "name": "stderr",
     "output_type": "stream",
     "text": [
      "C:\\Users\\Victor\\AppData\\Local\\Temp\\ipykernel_9740\\1268581606.py:3: FutureWarning:\n",
      "\n",
      "The default value of numeric_only in DataFrameGroupBy.sum is deprecated. In a future version, numeric_only will default to False. Either specify numeric_only or select only columns which should be valid for the function.\n",
      "\n"
     ]
    },
    {
     "data": {
      "text/plain": [
       "State\n",
       "California        91303.5310\n",
       "New York          64788.4870\n",
       "Texas             50625.1766\n",
       "Florida           34248.2605\n",
       "Washington        29871.5760\n",
       "Virginia          25802.0500\n",
       "Pennsylvania      20246.1480\n",
       "Illinois          16202.7070\n",
       "Minnesota         15883.3300\n",
       "Ohio              14134.8500\n",
       "Massachusetts      9900.1060\n",
       "North Carolina     8620.7410\n",
       "Arizona            8295.2350\n",
       "Kentucky           8280.4600\n",
       "Colorado           6502.2940\n",
       "Arkansas           6302.6900\n",
       "Michigan           6172.2510\n",
       "Alabama            6139.0900\n",
       "Rhode Island       5015.6860\n",
       "Wisconsin          4847.7100\n",
       "Oregon             4807.7830\n",
       "Delaware           4786.0300\n",
       "Georgia            4540.1000\n",
       "New Jersey         4192.2800\n",
       "Tennessee          3051.5120\n",
       "Utah               2943.6880\n",
       "Indiana            2936.8100\n",
       "Connecticut        2794.0200\n",
       "Oklahoma           2639.3500\n",
       "Nevada             2561.2100\n",
       "Louisiana          2534.9200\n",
       "South Carolina     2270.8600\n",
       "Mississippi        2055.1600\n",
       "Maryland           1701.2500\n",
       "Missouri           1648.0300\n",
       "Kansas             1319.7900\n",
       "Iowa               1190.8400\n",
       "New Mexico          708.0120\n",
       "Maine               617.1200\n",
       "New Hampshire       504.4800\n",
       "Idaho               465.2160\n",
       "Montana             424.4880\n",
       "Nebraska            210.0200\n",
       "South Dakota        162.1500\n",
       "Name: Sales, dtype: float64"
      ]
     },
     "execution_count": 13,
     "metadata": {},
     "output_type": "execute_result"
    }
   ],
   "source": [
    "df2014=df.loc[df['Order Date'].dt.year==2014]\n",
    "\n",
    "df2014 = df2014.groupby('State').sum()['Sales'].sort_values(ascending=False)\n",
    "df2014"
   ]
  },
  {
   "cell_type": "code",
   "execution_count": 14,
   "metadata": {},
   "outputs": [
    {
     "data": {
      "application/vnd.plotly.v1+json": {
       "config": {
        "plotlyServerURL": "https://plot.ly"
       },
       "data": [
        {
         "type": "bar",
         "x": [
          "California",
          "New York",
          "Texas",
          "Florida",
          "Washington",
          "Virginia",
          "Pennsylvania",
          "Illinois",
          "Minnesota",
          "Ohio",
          "Massachusetts",
          "North Carolina",
          "Arizona",
          "Kentucky",
          "Colorado",
          "Arkansas",
          "Michigan",
          "Alabama",
          "Rhode Island",
          "Wisconsin",
          "Oregon",
          "Delaware",
          "Georgia",
          "New Jersey",
          "Tennessee",
          "Utah",
          "Indiana",
          "Connecticut",
          "Oklahoma",
          "Nevada",
          "Louisiana",
          "South Carolina",
          "Mississippi",
          "Maryland",
          "Missouri",
          "Kansas",
          "Iowa",
          "New Mexico",
          "Maine",
          "New Hampshire",
          "Idaho",
          "Montana",
          "Nebraska",
          "South Dakota"
         ],
         "y": [
          91303.531,
          64788.487,
          50625.1766,
          34248.2605,
          29871.576,
          25802.05,
          20246.148,
          16202.707,
          15883.330000000002,
          14134.85,
          9900.106,
          8620.741,
          8295.235,
          8280.460000000001,
          6502.294000000001,
          6302.6900000000005,
          6172.251,
          6139.09,
          5015.686,
          4847.71,
          4807.783,
          4786.03,
          4540.1,
          4192.28,
          3051.512,
          2943.688,
          2936.81,
          2794.02,
          2639.35,
          2561.21,
          2534.92,
          2270.8599999999997,
          2055.16,
          1701.25,
          1648.03,
          1319.79,
          1190.84,
          708.012,
          617.12,
          504.48,
          465.216,
          424.488,
          210.01999999999998,
          162.15
         ]
        }
       ],
       "layout": {
        "template": {
         "data": {
          "bar": [
           {
            "error_x": {
             "color": "#2a3f5f"
            },
            "error_y": {
             "color": "#2a3f5f"
            },
            "marker": {
             "line": {
              "color": "#E5ECF6",
              "width": 0.5
             },
             "pattern": {
              "fillmode": "overlay",
              "size": 10,
              "solidity": 0.2
             }
            },
            "type": "bar"
           }
          ],
          "barpolar": [
           {
            "marker": {
             "line": {
              "color": "#E5ECF6",
              "width": 0.5
             },
             "pattern": {
              "fillmode": "overlay",
              "size": 10,
              "solidity": 0.2
             }
            },
            "type": "barpolar"
           }
          ],
          "carpet": [
           {
            "aaxis": {
             "endlinecolor": "#2a3f5f",
             "gridcolor": "white",
             "linecolor": "white",
             "minorgridcolor": "white",
             "startlinecolor": "#2a3f5f"
            },
            "baxis": {
             "endlinecolor": "#2a3f5f",
             "gridcolor": "white",
             "linecolor": "white",
             "minorgridcolor": "white",
             "startlinecolor": "#2a3f5f"
            },
            "type": "carpet"
           }
          ],
          "choropleth": [
           {
            "colorbar": {
             "outlinewidth": 0,
             "ticks": ""
            },
            "type": "choropleth"
           }
          ],
          "contour": [
           {
            "colorbar": {
             "outlinewidth": 0,
             "ticks": ""
            },
            "colorscale": [
             [
              0,
              "#0d0887"
             ],
             [
              0.1111111111111111,
              "#46039f"
             ],
             [
              0.2222222222222222,
              "#7201a8"
             ],
             [
              0.3333333333333333,
              "#9c179e"
             ],
             [
              0.4444444444444444,
              "#bd3786"
             ],
             [
              0.5555555555555556,
              "#d8576b"
             ],
             [
              0.6666666666666666,
              "#ed7953"
             ],
             [
              0.7777777777777778,
              "#fb9f3a"
             ],
             [
              0.8888888888888888,
              "#fdca26"
             ],
             [
              1,
              "#f0f921"
             ]
            ],
            "type": "contour"
           }
          ],
          "contourcarpet": [
           {
            "colorbar": {
             "outlinewidth": 0,
             "ticks": ""
            },
            "type": "contourcarpet"
           }
          ],
          "heatmap": [
           {
            "colorbar": {
             "outlinewidth": 0,
             "ticks": ""
            },
            "colorscale": [
             [
              0,
              "#0d0887"
             ],
             [
              0.1111111111111111,
              "#46039f"
             ],
             [
              0.2222222222222222,
              "#7201a8"
             ],
             [
              0.3333333333333333,
              "#9c179e"
             ],
             [
              0.4444444444444444,
              "#bd3786"
             ],
             [
              0.5555555555555556,
              "#d8576b"
             ],
             [
              0.6666666666666666,
              "#ed7953"
             ],
             [
              0.7777777777777778,
              "#fb9f3a"
             ],
             [
              0.8888888888888888,
              "#fdca26"
             ],
             [
              1,
              "#f0f921"
             ]
            ],
            "type": "heatmap"
           }
          ],
          "heatmapgl": [
           {
            "colorbar": {
             "outlinewidth": 0,
             "ticks": ""
            },
            "colorscale": [
             [
              0,
              "#0d0887"
             ],
             [
              0.1111111111111111,
              "#46039f"
             ],
             [
              0.2222222222222222,
              "#7201a8"
             ],
             [
              0.3333333333333333,
              "#9c179e"
             ],
             [
              0.4444444444444444,
              "#bd3786"
             ],
             [
              0.5555555555555556,
              "#d8576b"
             ],
             [
              0.6666666666666666,
              "#ed7953"
             ],
             [
              0.7777777777777778,
              "#fb9f3a"
             ],
             [
              0.8888888888888888,
              "#fdca26"
             ],
             [
              1,
              "#f0f921"
             ]
            ],
            "type": "heatmapgl"
           }
          ],
          "histogram": [
           {
            "marker": {
             "pattern": {
              "fillmode": "overlay",
              "size": 10,
              "solidity": 0.2
             }
            },
            "type": "histogram"
           }
          ],
          "histogram2d": [
           {
            "colorbar": {
             "outlinewidth": 0,
             "ticks": ""
            },
            "colorscale": [
             [
              0,
              "#0d0887"
             ],
             [
              0.1111111111111111,
              "#46039f"
             ],
             [
              0.2222222222222222,
              "#7201a8"
             ],
             [
              0.3333333333333333,
              "#9c179e"
             ],
             [
              0.4444444444444444,
              "#bd3786"
             ],
             [
              0.5555555555555556,
              "#d8576b"
             ],
             [
              0.6666666666666666,
              "#ed7953"
             ],
             [
              0.7777777777777778,
              "#fb9f3a"
             ],
             [
              0.8888888888888888,
              "#fdca26"
             ],
             [
              1,
              "#f0f921"
             ]
            ],
            "type": "histogram2d"
           }
          ],
          "histogram2dcontour": [
           {
            "colorbar": {
             "outlinewidth": 0,
             "ticks": ""
            },
            "colorscale": [
             [
              0,
              "#0d0887"
             ],
             [
              0.1111111111111111,
              "#46039f"
             ],
             [
              0.2222222222222222,
              "#7201a8"
             ],
             [
              0.3333333333333333,
              "#9c179e"
             ],
             [
              0.4444444444444444,
              "#bd3786"
             ],
             [
              0.5555555555555556,
              "#d8576b"
             ],
             [
              0.6666666666666666,
              "#ed7953"
             ],
             [
              0.7777777777777778,
              "#fb9f3a"
             ],
             [
              0.8888888888888888,
              "#fdca26"
             ],
             [
              1,
              "#f0f921"
             ]
            ],
            "type": "histogram2dcontour"
           }
          ],
          "mesh3d": [
           {
            "colorbar": {
             "outlinewidth": 0,
             "ticks": ""
            },
            "type": "mesh3d"
           }
          ],
          "parcoords": [
           {
            "line": {
             "colorbar": {
              "outlinewidth": 0,
              "ticks": ""
             }
            },
            "type": "parcoords"
           }
          ],
          "pie": [
           {
            "automargin": true,
            "type": "pie"
           }
          ],
          "scatter": [
           {
            "fillpattern": {
             "fillmode": "overlay",
             "size": 10,
             "solidity": 0.2
            },
            "type": "scatter"
           }
          ],
          "scatter3d": [
           {
            "line": {
             "colorbar": {
              "outlinewidth": 0,
              "ticks": ""
             }
            },
            "marker": {
             "colorbar": {
              "outlinewidth": 0,
              "ticks": ""
             }
            },
            "type": "scatter3d"
           }
          ],
          "scattercarpet": [
           {
            "marker": {
             "colorbar": {
              "outlinewidth": 0,
              "ticks": ""
             }
            },
            "type": "scattercarpet"
           }
          ],
          "scattergeo": [
           {
            "marker": {
             "colorbar": {
              "outlinewidth": 0,
              "ticks": ""
             }
            },
            "type": "scattergeo"
           }
          ],
          "scattergl": [
           {
            "marker": {
             "colorbar": {
              "outlinewidth": 0,
              "ticks": ""
             }
            },
            "type": "scattergl"
           }
          ],
          "scattermapbox": [
           {
            "marker": {
             "colorbar": {
              "outlinewidth": 0,
              "ticks": ""
             }
            },
            "type": "scattermapbox"
           }
          ],
          "scatterpolar": [
           {
            "marker": {
             "colorbar": {
              "outlinewidth": 0,
              "ticks": ""
             }
            },
            "type": "scatterpolar"
           }
          ],
          "scatterpolargl": [
           {
            "marker": {
             "colorbar": {
              "outlinewidth": 0,
              "ticks": ""
             }
            },
            "type": "scatterpolargl"
           }
          ],
          "scatterternary": [
           {
            "marker": {
             "colorbar": {
              "outlinewidth": 0,
              "ticks": ""
             }
            },
            "type": "scatterternary"
           }
          ],
          "surface": [
           {
            "colorbar": {
             "outlinewidth": 0,
             "ticks": ""
            },
            "colorscale": [
             [
              0,
              "#0d0887"
             ],
             [
              0.1111111111111111,
              "#46039f"
             ],
             [
              0.2222222222222222,
              "#7201a8"
             ],
             [
              0.3333333333333333,
              "#9c179e"
             ],
             [
              0.4444444444444444,
              "#bd3786"
             ],
             [
              0.5555555555555556,
              "#d8576b"
             ],
             [
              0.6666666666666666,
              "#ed7953"
             ],
             [
              0.7777777777777778,
              "#fb9f3a"
             ],
             [
              0.8888888888888888,
              "#fdca26"
             ],
             [
              1,
              "#f0f921"
             ]
            ],
            "type": "surface"
           }
          ],
          "table": [
           {
            "cells": {
             "fill": {
              "color": "#EBF0F8"
             },
             "line": {
              "color": "white"
             }
            },
            "header": {
             "fill": {
              "color": "#C8D4E3"
             },
             "line": {
              "color": "white"
             }
            },
            "type": "table"
           }
          ]
         },
         "layout": {
          "annotationdefaults": {
           "arrowcolor": "#2a3f5f",
           "arrowhead": 0,
           "arrowwidth": 1
          },
          "autotypenumbers": "strict",
          "coloraxis": {
           "colorbar": {
            "outlinewidth": 0,
            "ticks": ""
           }
          },
          "colorscale": {
           "diverging": [
            [
             0,
             "#8e0152"
            ],
            [
             0.1,
             "#c51b7d"
            ],
            [
             0.2,
             "#de77ae"
            ],
            [
             0.3,
             "#f1b6da"
            ],
            [
             0.4,
             "#fde0ef"
            ],
            [
             0.5,
             "#f7f7f7"
            ],
            [
             0.6,
             "#e6f5d0"
            ],
            [
             0.7,
             "#b8e186"
            ],
            [
             0.8,
             "#7fbc41"
            ],
            [
             0.9,
             "#4d9221"
            ],
            [
             1,
             "#276419"
            ]
           ],
           "sequential": [
            [
             0,
             "#0d0887"
            ],
            [
             0.1111111111111111,
             "#46039f"
            ],
            [
             0.2222222222222222,
             "#7201a8"
            ],
            [
             0.3333333333333333,
             "#9c179e"
            ],
            [
             0.4444444444444444,
             "#bd3786"
            ],
            [
             0.5555555555555556,
             "#d8576b"
            ],
            [
             0.6666666666666666,
             "#ed7953"
            ],
            [
             0.7777777777777778,
             "#fb9f3a"
            ],
            [
             0.8888888888888888,
             "#fdca26"
            ],
            [
             1,
             "#f0f921"
            ]
           ],
           "sequentialminus": [
            [
             0,
             "#0d0887"
            ],
            [
             0.1111111111111111,
             "#46039f"
            ],
            [
             0.2222222222222222,
             "#7201a8"
            ],
            [
             0.3333333333333333,
             "#9c179e"
            ],
            [
             0.4444444444444444,
             "#bd3786"
            ],
            [
             0.5555555555555556,
             "#d8576b"
            ],
            [
             0.6666666666666666,
             "#ed7953"
            ],
            [
             0.7777777777777778,
             "#fb9f3a"
            ],
            [
             0.8888888888888888,
             "#fdca26"
            ],
            [
             1,
             "#f0f921"
            ]
           ]
          },
          "colorway": [
           "#636efa",
           "#EF553B",
           "#00cc96",
           "#ab63fa",
           "#FFA15A",
           "#19d3f3",
           "#FF6692",
           "#B6E880",
           "#FF97FF",
           "#FECB52"
          ],
          "font": {
           "color": "#2a3f5f"
          },
          "geo": {
           "bgcolor": "white",
           "lakecolor": "white",
           "landcolor": "#E5ECF6",
           "showlakes": true,
           "showland": true,
           "subunitcolor": "white"
          },
          "hoverlabel": {
           "align": "left"
          },
          "hovermode": "closest",
          "mapbox": {
           "style": "light"
          },
          "paper_bgcolor": "white",
          "plot_bgcolor": "#E5ECF6",
          "polar": {
           "angularaxis": {
            "gridcolor": "white",
            "linecolor": "white",
            "ticks": ""
           },
           "bgcolor": "#E5ECF6",
           "radialaxis": {
            "gridcolor": "white",
            "linecolor": "white",
            "ticks": ""
           }
          },
          "scene": {
           "xaxis": {
            "backgroundcolor": "#E5ECF6",
            "gridcolor": "white",
            "gridwidth": 2,
            "linecolor": "white",
            "showbackground": true,
            "ticks": "",
            "zerolinecolor": "white"
           },
           "yaxis": {
            "backgroundcolor": "#E5ECF6",
            "gridcolor": "white",
            "gridwidth": 2,
            "linecolor": "white",
            "showbackground": true,
            "ticks": "",
            "zerolinecolor": "white"
           },
           "zaxis": {
            "backgroundcolor": "#E5ECF6",
            "gridcolor": "white",
            "gridwidth": 2,
            "linecolor": "white",
            "showbackground": true,
            "ticks": "",
            "zerolinecolor": "white"
           }
          },
          "shapedefaults": {
           "line": {
            "color": "#2a3f5f"
           }
          },
          "ternary": {
           "aaxis": {
            "gridcolor": "white",
            "linecolor": "white",
            "ticks": ""
           },
           "baxis": {
            "gridcolor": "white",
            "linecolor": "white",
            "ticks": ""
           },
           "bgcolor": "#E5ECF6",
           "caxis": {
            "gridcolor": "white",
            "linecolor": "white",
            "ticks": ""
           }
          },
          "title": {
           "x": 0.05
          },
          "xaxis": {
           "automargin": true,
           "gridcolor": "white",
           "linecolor": "white",
           "ticks": "",
           "title": {
            "standoff": 15
           },
           "zerolinecolor": "white",
           "zerolinewidth": 2
          },
          "yaxis": {
           "automargin": true,
           "gridcolor": "white",
           "linecolor": "white",
           "ticks": "",
           "title": {
            "standoff": 15
           },
           "zerolinecolor": "white",
           "zerolinewidth": 2
          }
         }
        },
        "title": {
         "text": "Total quantity sales in 2014"
        },
        "xaxis": {
         "title": {
          "text": "State"
         }
        }
       }
      },
      "text/html": [
       "<div>                            <div id=\"e1c2719f-25f6-45d7-9546-6623eb0d6c19\" class=\"plotly-graph-div\" style=\"height:525px; width:100%;\"></div>            <script type=\"text/javascript\">                require([\"plotly\"], function(Plotly) {                    window.PLOTLYENV=window.PLOTLYENV || {};                                    if (document.getElementById(\"e1c2719f-25f6-45d7-9546-6623eb0d6c19\")) {                    Plotly.newPlot(                        \"e1c2719f-25f6-45d7-9546-6623eb0d6c19\",                        [{\"x\":[\"California\",\"New York\",\"Texas\",\"Florida\",\"Washington\",\"Virginia\",\"Pennsylvania\",\"Illinois\",\"Minnesota\",\"Ohio\",\"Massachusetts\",\"North Carolina\",\"Arizona\",\"Kentucky\",\"Colorado\",\"Arkansas\",\"Michigan\",\"Alabama\",\"Rhode Island\",\"Wisconsin\",\"Oregon\",\"Delaware\",\"Georgia\",\"New Jersey\",\"Tennessee\",\"Utah\",\"Indiana\",\"Connecticut\",\"Oklahoma\",\"Nevada\",\"Louisiana\",\"South Carolina\",\"Mississippi\",\"Maryland\",\"Missouri\",\"Kansas\",\"Iowa\",\"New Mexico\",\"Maine\",\"New Hampshire\",\"Idaho\",\"Montana\",\"Nebraska\",\"South Dakota\"],\"y\":[91303.531,64788.487,50625.1766,34248.2605,29871.576,25802.05,20246.148,16202.707,15883.330000000002,14134.85,9900.106,8620.741,8295.235,8280.460000000001,6502.294000000001,6302.6900000000005,6172.251,6139.09,5015.686,4847.71,4807.783,4786.03,4540.1,4192.28,3051.512,2943.688,2936.81,2794.02,2639.35,2561.21,2534.92,2270.8599999999997,2055.16,1701.25,1648.03,1319.79,1190.84,708.012,617.12,504.48,465.216,424.488,210.01999999999998,162.15],\"type\":\"bar\"}],                        {\"title\":{\"text\":\"Total quantity sales in 2014\"},\"xaxis\":{\"title\":{\"text\":\"State\"}},\"template\":{\"data\":{\"histogram2dcontour\":[{\"type\":\"histogram2dcontour\",\"colorbar\":{\"outlinewidth\":0,\"ticks\":\"\"},\"colorscale\":[[0.0,\"#0d0887\"],[0.1111111111111111,\"#46039f\"],[0.2222222222222222,\"#7201a8\"],[0.3333333333333333,\"#9c179e\"],[0.4444444444444444,\"#bd3786\"],[0.5555555555555556,\"#d8576b\"],[0.6666666666666666,\"#ed7953\"],[0.7777777777777778,\"#fb9f3a\"],[0.8888888888888888,\"#fdca26\"],[1.0,\"#f0f921\"]]}],\"choropleth\":[{\"type\":\"choropleth\",\"colorbar\":{\"outlinewidth\":0,\"ticks\":\"\"}}],\"histogram2d\":[{\"type\":\"histogram2d\",\"colorbar\":{\"outlinewidth\":0,\"ticks\":\"\"},\"colorscale\":[[0.0,\"#0d0887\"],[0.1111111111111111,\"#46039f\"],[0.2222222222222222,\"#7201a8\"],[0.3333333333333333,\"#9c179e\"],[0.4444444444444444,\"#bd3786\"],[0.5555555555555556,\"#d8576b\"],[0.6666666666666666,\"#ed7953\"],[0.7777777777777778,\"#fb9f3a\"],[0.8888888888888888,\"#fdca26\"],[1.0,\"#f0f921\"]]}],\"heatmap\":[{\"type\":\"heatmap\",\"colorbar\":{\"outlinewidth\":0,\"ticks\":\"\"},\"colorscale\":[[0.0,\"#0d0887\"],[0.1111111111111111,\"#46039f\"],[0.2222222222222222,\"#7201a8\"],[0.3333333333333333,\"#9c179e\"],[0.4444444444444444,\"#bd3786\"],[0.5555555555555556,\"#d8576b\"],[0.6666666666666666,\"#ed7953\"],[0.7777777777777778,\"#fb9f3a\"],[0.8888888888888888,\"#fdca26\"],[1.0,\"#f0f921\"]]}],\"heatmapgl\":[{\"type\":\"heatmapgl\",\"colorbar\":{\"outlinewidth\":0,\"ticks\":\"\"},\"colorscale\":[[0.0,\"#0d0887\"],[0.1111111111111111,\"#46039f\"],[0.2222222222222222,\"#7201a8\"],[0.3333333333333333,\"#9c179e\"],[0.4444444444444444,\"#bd3786\"],[0.5555555555555556,\"#d8576b\"],[0.6666666666666666,\"#ed7953\"],[0.7777777777777778,\"#fb9f3a\"],[0.8888888888888888,\"#fdca26\"],[1.0,\"#f0f921\"]]}],\"contourcarpet\":[{\"type\":\"contourcarpet\",\"colorbar\":{\"outlinewidth\":0,\"ticks\":\"\"}}],\"contour\":[{\"type\":\"contour\",\"colorbar\":{\"outlinewidth\":0,\"ticks\":\"\"},\"colorscale\":[[0.0,\"#0d0887\"],[0.1111111111111111,\"#46039f\"],[0.2222222222222222,\"#7201a8\"],[0.3333333333333333,\"#9c179e\"],[0.4444444444444444,\"#bd3786\"],[0.5555555555555556,\"#d8576b\"],[0.6666666666666666,\"#ed7953\"],[0.7777777777777778,\"#fb9f3a\"],[0.8888888888888888,\"#fdca26\"],[1.0,\"#f0f921\"]]}],\"surface\":[{\"type\":\"surface\",\"colorbar\":{\"outlinewidth\":0,\"ticks\":\"\"},\"colorscale\":[[0.0,\"#0d0887\"],[0.1111111111111111,\"#46039f\"],[0.2222222222222222,\"#7201a8\"],[0.3333333333333333,\"#9c179e\"],[0.4444444444444444,\"#bd3786\"],[0.5555555555555556,\"#d8576b\"],[0.6666666666666666,\"#ed7953\"],[0.7777777777777778,\"#fb9f3a\"],[0.8888888888888888,\"#fdca26\"],[1.0,\"#f0f921\"]]}],\"mesh3d\":[{\"type\":\"mesh3d\",\"colorbar\":{\"outlinewidth\":0,\"ticks\":\"\"}}],\"scatter\":[{\"fillpattern\":{\"fillmode\":\"overlay\",\"size\":10,\"solidity\":0.2},\"type\":\"scatter\"}],\"parcoords\":[{\"type\":\"parcoords\",\"line\":{\"colorbar\":{\"outlinewidth\":0,\"ticks\":\"\"}}}],\"scatterpolargl\":[{\"type\":\"scatterpolargl\",\"marker\":{\"colorbar\":{\"outlinewidth\":0,\"ticks\":\"\"}}}],\"bar\":[{\"error_x\":{\"color\":\"#2a3f5f\"},\"error_y\":{\"color\":\"#2a3f5f\"},\"marker\":{\"line\":{\"color\":\"#E5ECF6\",\"width\":0.5},\"pattern\":{\"fillmode\":\"overlay\",\"size\":10,\"solidity\":0.2}},\"type\":\"bar\"}],\"scattergeo\":[{\"type\":\"scattergeo\",\"marker\":{\"colorbar\":{\"outlinewidth\":0,\"ticks\":\"\"}}}],\"scatterpolar\":[{\"type\":\"scatterpolar\",\"marker\":{\"colorbar\":{\"outlinewidth\":0,\"ticks\":\"\"}}}],\"histogram\":[{\"marker\":{\"pattern\":{\"fillmode\":\"overlay\",\"size\":10,\"solidity\":0.2}},\"type\":\"histogram\"}],\"scattergl\":[{\"type\":\"scattergl\",\"marker\":{\"colorbar\":{\"outlinewidth\":0,\"ticks\":\"\"}}}],\"scatter3d\":[{\"type\":\"scatter3d\",\"line\":{\"colorbar\":{\"outlinewidth\":0,\"ticks\":\"\"}},\"marker\":{\"colorbar\":{\"outlinewidth\":0,\"ticks\":\"\"}}}],\"scattermapbox\":[{\"type\":\"scattermapbox\",\"marker\":{\"colorbar\":{\"outlinewidth\":0,\"ticks\":\"\"}}}],\"scatterternary\":[{\"type\":\"scatterternary\",\"marker\":{\"colorbar\":{\"outlinewidth\":0,\"ticks\":\"\"}}}],\"scattercarpet\":[{\"type\":\"scattercarpet\",\"marker\":{\"colorbar\":{\"outlinewidth\":0,\"ticks\":\"\"}}}],\"carpet\":[{\"aaxis\":{\"endlinecolor\":\"#2a3f5f\",\"gridcolor\":\"white\",\"linecolor\":\"white\",\"minorgridcolor\":\"white\",\"startlinecolor\":\"#2a3f5f\"},\"baxis\":{\"endlinecolor\":\"#2a3f5f\",\"gridcolor\":\"white\",\"linecolor\":\"white\",\"minorgridcolor\":\"white\",\"startlinecolor\":\"#2a3f5f\"},\"type\":\"carpet\"}],\"table\":[{\"cells\":{\"fill\":{\"color\":\"#EBF0F8\"},\"line\":{\"color\":\"white\"}},\"header\":{\"fill\":{\"color\":\"#C8D4E3\"},\"line\":{\"color\":\"white\"}},\"type\":\"table\"}],\"barpolar\":[{\"marker\":{\"line\":{\"color\":\"#E5ECF6\",\"width\":0.5},\"pattern\":{\"fillmode\":\"overlay\",\"size\":10,\"solidity\":0.2}},\"type\":\"barpolar\"}],\"pie\":[{\"automargin\":true,\"type\":\"pie\"}]},\"layout\":{\"autotypenumbers\":\"strict\",\"colorway\":[\"#636efa\",\"#EF553B\",\"#00cc96\",\"#ab63fa\",\"#FFA15A\",\"#19d3f3\",\"#FF6692\",\"#B6E880\",\"#FF97FF\",\"#FECB52\"],\"font\":{\"color\":\"#2a3f5f\"},\"hovermode\":\"closest\",\"hoverlabel\":{\"align\":\"left\"},\"paper_bgcolor\":\"white\",\"plot_bgcolor\":\"#E5ECF6\",\"polar\":{\"bgcolor\":\"#E5ECF6\",\"angularaxis\":{\"gridcolor\":\"white\",\"linecolor\":\"white\",\"ticks\":\"\"},\"radialaxis\":{\"gridcolor\":\"white\",\"linecolor\":\"white\",\"ticks\":\"\"}},\"ternary\":{\"bgcolor\":\"#E5ECF6\",\"aaxis\":{\"gridcolor\":\"white\",\"linecolor\":\"white\",\"ticks\":\"\"},\"baxis\":{\"gridcolor\":\"white\",\"linecolor\":\"white\",\"ticks\":\"\"},\"caxis\":{\"gridcolor\":\"white\",\"linecolor\":\"white\",\"ticks\":\"\"}},\"coloraxis\":{\"colorbar\":{\"outlinewidth\":0,\"ticks\":\"\"}},\"colorscale\":{\"sequential\":[[0.0,\"#0d0887\"],[0.1111111111111111,\"#46039f\"],[0.2222222222222222,\"#7201a8\"],[0.3333333333333333,\"#9c179e\"],[0.4444444444444444,\"#bd3786\"],[0.5555555555555556,\"#d8576b\"],[0.6666666666666666,\"#ed7953\"],[0.7777777777777778,\"#fb9f3a\"],[0.8888888888888888,\"#fdca26\"],[1.0,\"#f0f921\"]],\"sequentialminus\":[[0.0,\"#0d0887\"],[0.1111111111111111,\"#46039f\"],[0.2222222222222222,\"#7201a8\"],[0.3333333333333333,\"#9c179e\"],[0.4444444444444444,\"#bd3786\"],[0.5555555555555556,\"#d8576b\"],[0.6666666666666666,\"#ed7953\"],[0.7777777777777778,\"#fb9f3a\"],[0.8888888888888888,\"#fdca26\"],[1.0,\"#f0f921\"]],\"diverging\":[[0,\"#8e0152\"],[0.1,\"#c51b7d\"],[0.2,\"#de77ae\"],[0.3,\"#f1b6da\"],[0.4,\"#fde0ef\"],[0.5,\"#f7f7f7\"],[0.6,\"#e6f5d0\"],[0.7,\"#b8e186\"],[0.8,\"#7fbc41\"],[0.9,\"#4d9221\"],[1,\"#276419\"]]},\"xaxis\":{\"gridcolor\":\"white\",\"linecolor\":\"white\",\"ticks\":\"\",\"title\":{\"standoff\":15},\"zerolinecolor\":\"white\",\"automargin\":true,\"zerolinewidth\":2},\"yaxis\":{\"gridcolor\":\"white\",\"linecolor\":\"white\",\"ticks\":\"\",\"title\":{\"standoff\":15},\"zerolinecolor\":\"white\",\"automargin\":true,\"zerolinewidth\":2},\"scene\":{\"xaxis\":{\"backgroundcolor\":\"#E5ECF6\",\"gridcolor\":\"white\",\"linecolor\":\"white\",\"showbackground\":true,\"ticks\":\"\",\"zerolinecolor\":\"white\",\"gridwidth\":2},\"yaxis\":{\"backgroundcolor\":\"#E5ECF6\",\"gridcolor\":\"white\",\"linecolor\":\"white\",\"showbackground\":true,\"ticks\":\"\",\"zerolinecolor\":\"white\",\"gridwidth\":2},\"zaxis\":{\"backgroundcolor\":\"#E5ECF6\",\"gridcolor\":\"white\",\"linecolor\":\"white\",\"showbackground\":true,\"ticks\":\"\",\"zerolinecolor\":\"white\",\"gridwidth\":2}},\"shapedefaults\":{\"line\":{\"color\":\"#2a3f5f\"}},\"annotationdefaults\":{\"arrowcolor\":\"#2a3f5f\",\"arrowhead\":0,\"arrowwidth\":1},\"geo\":{\"bgcolor\":\"white\",\"landcolor\":\"#E5ECF6\",\"subunitcolor\":\"white\",\"showland\":true,\"showlakes\":true,\"lakecolor\":\"white\"},\"title\":{\"x\":0.05},\"mapbox\":{\"style\":\"light\"}}}},                        {\"responsive\": true}                    ).then(function(){\n",
       "                            \n",
       "var gd = document.getElementById('e1c2719f-25f6-45d7-9546-6623eb0d6c19');\n",
       "var x = new MutationObserver(function (mutations, observer) {{\n",
       "        var display = window.getComputedStyle(gd).display;\n",
       "        if (!display || display === 'none') {{\n",
       "            console.log([gd, 'removed!']);\n",
       "            Plotly.purge(gd);\n",
       "            observer.disconnect();\n",
       "        }}\n",
       "}});\n",
       "\n",
       "// Listen for the removal of the full notebook cells\n",
       "var notebookContainer = gd.closest('#notebook-container');\n",
       "if (notebookContainer) {{\n",
       "    x.observe(notebookContainer, {childList: true});\n",
       "}}\n",
       "\n",
       "// Listen for the clearing of the current output cell\n",
       "var outputEl = gd.closest('.output');\n",
       "if (outputEl) {{\n",
       "    x.observe(outputEl, {childList: true});\n",
       "}}\n",
       "\n",
       "                        })                };                });            </script>        </div>"
      ]
     },
     "metadata": {},
     "output_type": "display_data"
    }
   ],
   "source": [
    "import plotly.graph_objs as go\n",
    "\n",
    "trace1 = {'x':df2014.index,\n",
    "         'y':df2014.values,\n",
    "         'type':'bar'}\n",
    "\n",
    "data = [trace1]\n",
    "\n",
    "layout = {'title':'Total quantity sales in 2014',\n",
    "         'xaxis':{'title':'State'}}\n",
    "\n",
    "fig = go.Figure(data=data, layout=layout)\n",
    "fig.show()"
   ]
  },
  {
   "cell_type": "markdown",
   "metadata": {
    "id": "ORjGPnb_imh0"
   },
   "source": [
    "## 2. Create an interactive line chart showing Sales and Profit in 2014."
   ]
  },
  {
   "cell_type": "code",
   "execution_count": 19,
   "metadata": {},
   "outputs": [
    {
     "data": {
      "text/html": [
       "<div>\n",
       "<style scoped>\n",
       "    .dataframe tbody tr th:only-of-type {\n",
       "        vertical-align: middle;\n",
       "    }\n",
       "\n",
       "    .dataframe tbody tr th {\n",
       "        vertical-align: top;\n",
       "    }\n",
       "\n",
       "    .dataframe thead th {\n",
       "        text-align: right;\n",
       "    }\n",
       "</style>\n",
       "<table border=\"1\" class=\"dataframe\">\n",
       "  <thead>\n",
       "    <tr style=\"text-align: right;\">\n",
       "      <th></th>\n",
       "      <th>Order Date</th>\n",
       "      <th>Sales</th>\n",
       "      <th>Profit</th>\n",
       "    </tr>\n",
       "  </thead>\n",
       "  <tbody>\n",
       "    <tr>\n",
       "      <th>0</th>\n",
       "      <td>2014-01-03</td>\n",
       "      <td>16.448</td>\n",
       "      <td>5.5512</td>\n",
       "    </tr>\n",
       "    <tr>\n",
       "      <th>1</th>\n",
       "      <td>2014-01-04</td>\n",
       "      <td>288.060</td>\n",
       "      <td>-65.9901</td>\n",
       "    </tr>\n",
       "    <tr>\n",
       "      <th>2</th>\n",
       "      <td>2014-01-05</td>\n",
       "      <td>19.536</td>\n",
       "      <td>4.8840</td>\n",
       "    </tr>\n",
       "    <tr>\n",
       "      <th>3</th>\n",
       "      <td>2014-01-06</td>\n",
       "      <td>4407.100</td>\n",
       "      <td>1358.0524</td>\n",
       "    </tr>\n",
       "    <tr>\n",
       "      <th>4</th>\n",
       "      <td>2014-01-07</td>\n",
       "      <td>87.158</td>\n",
       "      <td>-71.9621</td>\n",
       "    </tr>\n",
       "    <tr>\n",
       "      <th>...</th>\n",
       "      <td>...</td>\n",
       "      <td>...</td>\n",
       "      <td>...</td>\n",
       "    </tr>\n",
       "    <tr>\n",
       "      <th>300</th>\n",
       "      <td>2014-12-27</td>\n",
       "      <td>2966.388</td>\n",
       "      <td>-336.3251</td>\n",
       "    </tr>\n",
       "    <tr>\n",
       "      <th>301</th>\n",
       "      <td>2014-12-28</td>\n",
       "      <td>3732.296</td>\n",
       "      <td>706.8574</td>\n",
       "    </tr>\n",
       "    <tr>\n",
       "      <th>302</th>\n",
       "      <td>2014-12-29</td>\n",
       "      <td>2072.096</td>\n",
       "      <td>568.0095</td>\n",
       "    </tr>\n",
       "    <tr>\n",
       "      <th>303</th>\n",
       "      <td>2014-12-30</td>\n",
       "      <td>2172.651</td>\n",
       "      <td>-594.5496</td>\n",
       "    </tr>\n",
       "    <tr>\n",
       "      <th>304</th>\n",
       "      <td>2014-12-31</td>\n",
       "      <td>5253.270</td>\n",
       "      <td>1444.5131</td>\n",
       "    </tr>\n",
       "  </tbody>\n",
       "</table>\n",
       "<p>305 rows × 3 columns</p>\n",
       "</div>"
      ],
      "text/plain": [
       "    Order Date     Sales     Profit\n",
       "0   2014-01-03    16.448     5.5512\n",
       "1   2014-01-04   288.060   -65.9901\n",
       "2   2014-01-05    19.536     4.8840\n",
       "3   2014-01-06  4407.100  1358.0524\n",
       "4   2014-01-07    87.158   -71.9621\n",
       "..         ...       ...        ...\n",
       "300 2014-12-27  2966.388  -336.3251\n",
       "301 2014-12-28  3732.296   706.8574\n",
       "302 2014-12-29  2072.096   568.0095\n",
       "303 2014-12-30  2172.651  -594.5496\n",
       "304 2014-12-31  5253.270  1444.5131\n",
       "\n",
       "[305 rows x 3 columns]"
      ]
     },
     "execution_count": 19,
     "metadata": {},
     "output_type": "execute_result"
    }
   ],
   "source": [
    "df2014 = df.loc[df['Order Date'].dt.year==2014]\n",
    "df2014 = df2014[['Order Date', 'Sales', 'Profit']].groupby('Order Date',as_index=False).sum()\n",
    "df2014"
   ]
  },
  {
   "cell_type": "code",
   "execution_count": 20,
   "metadata": {},
   "outputs": [
    {
     "data": {
      "application/vnd.plotly.v1+json": {
       "config": {
        "plotlyServerURL": "https://plot.ly"
       },
       "data": [
        {
         "mode": "lines",
         "name": "Sales",
         "type": "scatter",
         "x": [
          "2014-01-03T00:00:00",
          "2014-01-04T00:00:00",
          "2014-01-05T00:00:00",
          "2014-01-06T00:00:00",
          "2014-01-07T00:00:00",
          "2014-01-09T00:00:00",
          "2014-01-10T00:00:00",
          "2014-01-11T00:00:00",
          "2014-01-13T00:00:00",
          "2014-01-14T00:00:00",
          "2014-01-15T00:00:00",
          "2014-01-16T00:00:00",
          "2014-01-18T00:00:00",
          "2014-01-19T00:00:00",
          "2014-01-20T00:00:00",
          "2014-01-21T00:00:00",
          "2014-01-23T00:00:00",
          "2014-01-26T00:00:00",
          "2014-01-27T00:00:00",
          "2014-01-28T00:00:00",
          "2014-01-30T00:00:00",
          "2014-01-31T00:00:00",
          "2014-02-01T00:00:00",
          "2014-02-02T00:00:00",
          "2014-02-03T00:00:00",
          "2014-02-04T00:00:00",
          "2014-02-06T00:00:00",
          "2014-02-07T00:00:00",
          "2014-02-08T00:00:00",
          "2014-02-11T00:00:00",
          "2014-02-12T00:00:00",
          "2014-02-14T00:00:00",
          "2014-02-15T00:00:00",
          "2014-02-16T00:00:00",
          "2014-02-17T00:00:00",
          "2014-02-18T00:00:00",
          "2014-02-20T00:00:00",
          "2014-02-21T00:00:00",
          "2014-02-22T00:00:00",
          "2014-02-23T00:00:00",
          "2014-02-24T00:00:00",
          "2014-02-27T00:00:00",
          "2014-03-01T00:00:00",
          "2014-03-02T00:00:00",
          "2014-03-03T00:00:00",
          "2014-03-04T00:00:00",
          "2014-03-05T00:00:00",
          "2014-03-07T00:00:00",
          "2014-03-10T00:00:00",
          "2014-03-11T00:00:00",
          "2014-03-14T00:00:00",
          "2014-03-15T00:00:00",
          "2014-03-16T00:00:00",
          "2014-03-17T00:00:00",
          "2014-03-18T00:00:00",
          "2014-03-19T00:00:00",
          "2014-03-21T00:00:00",
          "2014-03-22T00:00:00",
          "2014-03-23T00:00:00",
          "2014-03-24T00:00:00",
          "2014-03-25T00:00:00",
          "2014-03-26T00:00:00",
          "2014-03-28T00:00:00",
          "2014-03-29T00:00:00",
          "2014-03-30T00:00:00",
          "2014-03-31T00:00:00",
          "2014-04-01T00:00:00",
          "2014-04-02T00:00:00",
          "2014-04-03T00:00:00",
          "2014-04-04T00:00:00",
          "2014-04-05T00:00:00",
          "2014-04-06T00:00:00",
          "2014-04-07T00:00:00",
          "2014-04-08T00:00:00",
          "2014-04-11T00:00:00",
          "2014-04-12T00:00:00",
          "2014-04-13T00:00:00",
          "2014-04-15T00:00:00",
          "2014-04-16T00:00:00",
          "2014-04-18T00:00:00",
          "2014-04-19T00:00:00",
          "2014-04-20T00:00:00",
          "2014-04-21T00:00:00",
          "2014-04-22T00:00:00",
          "2014-04-23T00:00:00",
          "2014-04-25T00:00:00",
          "2014-04-26T00:00:00",
          "2014-04-28T00:00:00",
          "2014-04-29T00:00:00",
          "2014-04-30T00:00:00",
          "2014-05-02T00:00:00",
          "2014-05-03T00:00:00",
          "2014-05-04T00:00:00",
          "2014-05-05T00:00:00",
          "2014-05-06T00:00:00",
          "2014-05-07T00:00:00",
          "2014-05-08T00:00:00",
          "2014-05-09T00:00:00",
          "2014-05-10T00:00:00",
          "2014-05-11T00:00:00",
          "2014-05-12T00:00:00",
          "2014-05-13T00:00:00",
          "2014-05-14T00:00:00",
          "2014-05-16T00:00:00",
          "2014-05-17T00:00:00",
          "2014-05-18T00:00:00",
          "2014-05-19T00:00:00",
          "2014-05-20T00:00:00",
          "2014-05-21T00:00:00",
          "2014-05-22T00:00:00",
          "2014-05-23T00:00:00",
          "2014-05-24T00:00:00",
          "2014-05-25T00:00:00",
          "2014-05-26T00:00:00",
          "2014-05-27T00:00:00",
          "2014-05-28T00:00:00",
          "2014-05-30T00:00:00",
          "2014-05-31T00:00:00",
          "2014-06-01T00:00:00",
          "2014-06-02T00:00:00",
          "2014-06-03T00:00:00",
          "2014-06-04T00:00:00",
          "2014-06-06T00:00:00",
          "2014-06-07T00:00:00",
          "2014-06-08T00:00:00",
          "2014-06-09T00:00:00",
          "2014-06-10T00:00:00",
          "2014-06-13T00:00:00",
          "2014-06-14T00:00:00",
          "2014-06-15T00:00:00",
          "2014-06-16T00:00:00",
          "2014-06-17T00:00:00",
          "2014-06-18T00:00:00",
          "2014-06-20T00:00:00",
          "2014-06-21T00:00:00",
          "2014-06-22T00:00:00",
          "2014-06-23T00:00:00",
          "2014-06-24T00:00:00",
          "2014-06-25T00:00:00",
          "2014-06-27T00:00:00",
          "2014-06-28T00:00:00",
          "2014-06-29T00:00:00",
          "2014-06-30T00:00:00",
          "2014-07-01T00:00:00",
          "2014-07-02T00:00:00",
          "2014-07-04T00:00:00",
          "2014-07-05T00:00:00",
          "2014-07-06T00:00:00",
          "2014-07-07T00:00:00",
          "2014-07-08T00:00:00",
          "2014-07-09T00:00:00",
          "2014-07-11T00:00:00",
          "2014-07-12T00:00:00",
          "2014-07-13T00:00:00",
          "2014-07-14T00:00:00",
          "2014-07-15T00:00:00",
          "2014-07-18T00:00:00",
          "2014-07-19T00:00:00",
          "2014-07-20T00:00:00",
          "2014-07-21T00:00:00",
          "2014-07-22T00:00:00",
          "2014-07-23T00:00:00",
          "2014-07-25T00:00:00",
          "2014-07-26T00:00:00",
          "2014-07-27T00:00:00",
          "2014-07-28T00:00:00",
          "2014-07-30T00:00:00",
          "2014-08-01T00:00:00",
          "2014-08-02T00:00:00",
          "2014-08-03T00:00:00",
          "2014-08-04T00:00:00",
          "2014-08-05T00:00:00",
          "2014-08-06T00:00:00",
          "2014-08-08T00:00:00",
          "2014-08-09T00:00:00",
          "2014-08-11T00:00:00",
          "2014-08-12T00:00:00",
          "2014-08-15T00:00:00",
          "2014-08-16T00:00:00",
          "2014-08-17T00:00:00",
          "2014-08-19T00:00:00",
          "2014-08-20T00:00:00",
          "2014-08-22T00:00:00",
          "2014-08-23T00:00:00",
          "2014-08-24T00:00:00",
          "2014-08-25T00:00:00",
          "2014-08-26T00:00:00",
          "2014-08-27T00:00:00",
          "2014-08-29T00:00:00",
          "2014-08-30T00:00:00",
          "2014-08-31T00:00:00",
          "2014-09-01T00:00:00",
          "2014-09-02T00:00:00",
          "2014-09-03T00:00:00",
          "2014-09-05T00:00:00",
          "2014-09-06T00:00:00",
          "2014-09-07T00:00:00",
          "2014-09-08T00:00:00",
          "2014-09-09T00:00:00",
          "2014-09-10T00:00:00",
          "2014-09-11T00:00:00",
          "2014-09-12T00:00:00",
          "2014-09-13T00:00:00",
          "2014-09-14T00:00:00",
          "2014-09-15T00:00:00",
          "2014-09-16T00:00:00",
          "2014-09-17T00:00:00",
          "2014-09-19T00:00:00",
          "2014-09-20T00:00:00",
          "2014-09-21T00:00:00",
          "2014-09-22T00:00:00",
          "2014-09-23T00:00:00",
          "2014-09-24T00:00:00",
          "2014-09-25T00:00:00",
          "2014-09-26T00:00:00",
          "2014-09-27T00:00:00",
          "2014-09-28T00:00:00",
          "2014-09-29T00:00:00",
          "2014-09-30T00:00:00",
          "2014-10-01T00:00:00",
          "2014-10-02T00:00:00",
          "2014-10-03T00:00:00",
          "2014-10-04T00:00:00",
          "2014-10-05T00:00:00",
          "2014-10-06T00:00:00",
          "2014-10-07T00:00:00",
          "2014-10-08T00:00:00",
          "2014-10-09T00:00:00",
          "2014-10-10T00:00:00",
          "2014-10-11T00:00:00",
          "2014-10-12T00:00:00",
          "2014-10-13T00:00:00",
          "2014-10-14T00:00:00",
          "2014-10-15T00:00:00",
          "2014-10-16T00:00:00",
          "2014-10-17T00:00:00",
          "2014-10-18T00:00:00",
          "2014-10-19T00:00:00",
          "2014-10-20T00:00:00",
          "2014-10-21T00:00:00",
          "2014-10-22T00:00:00",
          "2014-10-24T00:00:00",
          "2014-10-25T00:00:00",
          "2014-10-26T00:00:00",
          "2014-10-27T00:00:00",
          "2014-10-28T00:00:00",
          "2014-10-29T00:00:00",
          "2014-10-31T00:00:00",
          "2014-11-01T00:00:00",
          "2014-11-02T00:00:00",
          "2014-11-03T00:00:00",
          "2014-11-04T00:00:00",
          "2014-11-05T00:00:00",
          "2014-11-06T00:00:00",
          "2014-11-07T00:00:00",
          "2014-11-08T00:00:00",
          "2014-11-09T00:00:00",
          "2014-11-10T00:00:00",
          "2014-11-11T00:00:00",
          "2014-11-12T00:00:00",
          "2014-11-14T00:00:00",
          "2014-11-15T00:00:00",
          "2014-11-16T00:00:00",
          "2014-11-17T00:00:00",
          "2014-11-18T00:00:00",
          "2014-11-19T00:00:00",
          "2014-11-20T00:00:00",
          "2014-11-21T00:00:00",
          "2014-11-22T00:00:00",
          "2014-11-23T00:00:00",
          "2014-11-24T00:00:00",
          "2014-11-25T00:00:00",
          "2014-11-26T00:00:00",
          "2014-11-27T00:00:00",
          "2014-11-28T00:00:00",
          "2014-11-29T00:00:00",
          "2014-11-30T00:00:00",
          "2014-12-01T00:00:00",
          "2014-12-02T00:00:00",
          "2014-12-03T00:00:00",
          "2014-12-04T00:00:00",
          "2014-12-05T00:00:00",
          "2014-12-06T00:00:00",
          "2014-12-07T00:00:00",
          "2014-12-08T00:00:00",
          "2014-12-09T00:00:00",
          "2014-12-10T00:00:00",
          "2014-12-12T00:00:00",
          "2014-12-13T00:00:00",
          "2014-12-14T00:00:00",
          "2014-12-15T00:00:00",
          "2014-12-16T00:00:00",
          "2014-12-17T00:00:00",
          "2014-12-19T00:00:00",
          "2014-12-20T00:00:00",
          "2014-12-21T00:00:00",
          "2014-12-22T00:00:00",
          "2014-12-23T00:00:00",
          "2014-12-24T00:00:00",
          "2014-12-26T00:00:00",
          "2014-12-27T00:00:00",
          "2014-12-28T00:00:00",
          "2014-12-29T00:00:00",
          "2014-12-30T00:00:00",
          "2014-12-31T00:00:00"
         ],
         "y": [
          16.448,
          288.06,
          19.536,
          4407.1,
          87.158,
          40.544000000000004,
          54.83,
          9.94,
          3553.795,
          61.96,
          149.95,
          299.964,
          64.864,
          378.59400000000005,
          2673.87,
          25.248,
          46.019999999999996,
          1097.25,
          426.67,
          3.9280000000000004,
          240.5,
          290.666,
          468.90000000000003,
          211.64600000000002,
          97.11200000000001,
          134.38400000000001,
          330.512,
          180.32,
          14.56,
          2043.4,
          129.568,
          576.7259999999999,
          21.36,
          9.039999999999997,
          54.208,
          37.784,
          95.59,
          8.849999999999998,
          19.44,
          11.364,
          55.672000000000004,
          19.456000000000003,
          2203.151,
          202.38400000000001,
          1345.892,
          370.45200000000006,
          705.562,
          1561.0620000000001,
          741.9560000000001,
          918.314,
          2108.55,
          370.78200000000004,
          471.92,
          3960.358,
          28106.716,
          590.7620000000001,
          4109.816000000001,
          464.09299999999996,
          945.064,
          65.38,
          459.146,
          145.13000000000002,
          1823.8039999999999,
          890.8409999999999,
          1170.3220000000001,
          1959.552,
          119.88799999999999,
          1458.558,
          233.45,
          475.844,
          5295.098,
          1650.6899999999998,
          1021.17,
          1958.75,
          1915.24,
          1912.123,
          638.576,
          294.71999999999997,
          39.072,
          1020.532,
          205.47,
          1250.45,
          845.3599999999999,
          257.752,
          643.9799999999999,
          2379.9939999999997,
          282.56800000000004,
          2578.476,
          768.844,
          1048.74,
          506.12000000000006,
          72.632,
          187.432,
          260.977,
          254.456,
          1091.35,
          1799.9699999999998,
          394.48,
          2343.799,
          1642.8019999999997,
          734.846,
          898.3820000000001,
          310.88000000000005,
          289.28,
          91.67999999999999,
          948.9480000000001,
          91.62,
          320.10400000000004,
          4264.328,
          180.93,
          323.75800000000004,
          116.28,
          119.53999999999998,
          1325.718,
          2157.394,
          221.96800000000002,
          1924.913,
          773.7,
          5188.52,
          738.598,
          741.336,
          456.272,
          1374.0010000000002,
          281.397,
          2501.264,
          5463.008000000001,
          491.55,
          14.52,
          212.94,
          942.9739999999999,
          763.792,
          3418.5020000000004,
          139.8,
          1828.9496000000001,
          4107.443,
          1975.498,
          109.49600000000001,
          4.272,
          792.76,
          616.14,
          1645.791,
          46.67999999999999,
          739.624,
          601.0239999999999,
          79.56,
          247.40800000000002,
          1444.104,
          1038.4720000000002,
          241.194,
          763.0740000000001,
          265.521,
          2187.206,
          1960.0120000000002,
          351.216,
          292.594,
          9.510000000000002,
          273.04,
          461.326,
          2285.786,
          1961.482,
          1348.344,
          2613.184,
          8341.289999999999,
          5039.994,
          580.06,
          193.152,
          1367.84,
          228.32800000000003,
          886.28,
          477.994,
          2743.154,
          2408.7239999999997,
          262.89,
          3955.629,
          3605.6850000000004,
          451.62,
          1832.38,
          842.7819999999999,
          853.0919999999999,
          500.342,
          1439.1060000000002,
          1838.722,
          23.104000000000003,
          565.224,
          59.74,
          1451.65,
          366.81,
          2070.13,
          832.3225000000001,
          121.24,
          92.52,
          469.43600000000004,
          3254.15,
          22.08,
          296.304,
          100.36,
          3523.875,
          14228.427999999998,
          4043.5879999999997,
          1855.2279999999998,
          127.94999999999999,
          4904.66,
          1275.408,
          5023.716,
          133.436,
          33.552,
          820.523,
          9338.636999999999,
          5335.968,
          2679.652,
          1240.266,
          10662.337000000001,
          211.96,
          354.8888,
          1480.614,
          773.4399999999999,
          490.29200000000003,
          8109.07,
          987.5320000000002,
          4.71,
          598.144,
          862.683,
          728.748,
          191.9,
          494.71,
          237.35999999999999,
          147.392,
          249.36,
          2049.3860000000004,
          1381.164,
          58.53,
          2212.182,
          4525.484,
          206.724,
          194.322,
          136.068,
          3134.916,
          641.104,
          1501.1040000000003,
          1356.602,
          223.808,
          56.49,
          103.882,
          447.88000000000005,
          22.320000000000004,
          1510.5819999999999,
          2813.8120000000004,
          5362.026,
          4732.08,
          2126.37,
          2784.163,
          6693.7480000000005,
          1694.564,
          43.68,
          1449.1419999999998,
          333.576,
          1574.094,
          2002.5559999999998,
          8114.548,
          1054.7612000000001,
          1034.73,
          1780.8220000000001,
          1355.9285,
          11544.274000000001,
          3406.855,
          7226.086,
          907.5600000000001,
          1249.6219999999998,
          1103.298,
          1363.28,
          5578.606,
          4415.695,
          1705.99,
          203.65999999999997,
          2280.83,
          649.044,
          219.15400000000002,
          5624.39,
          1771.808,
          505.88,
          129.98,
          2963.6420000000003,
          1970.978,
          548.3999999999999,
          1095.12,
          1522.652,
          573.336,
          4938.4045,
          293.152,
          7641.658,
          1264.466,
          4394.187000000001,
          45.534,
          3436.76,
          6962.4400000000005,
          1933.44,
          798.9680000000001,
          942.1080000000001,
          1950.2020000000002,
          2041.414,
          2966.3880000000004,
          3732.296,
          2072.096,
          2172.6510000000003,
          5253.2699999999995
         ]
        },
        {
         "mode": "lines",
         "name": "Profit",
         "type": "scatter",
         "x": [
          "2014-01-03T00:00:00",
          "2014-01-04T00:00:00",
          "2014-01-05T00:00:00",
          "2014-01-06T00:00:00",
          "2014-01-07T00:00:00",
          "2014-01-09T00:00:00",
          "2014-01-10T00:00:00",
          "2014-01-11T00:00:00",
          "2014-01-13T00:00:00",
          "2014-01-14T00:00:00",
          "2014-01-15T00:00:00",
          "2014-01-16T00:00:00",
          "2014-01-18T00:00:00",
          "2014-01-19T00:00:00",
          "2014-01-20T00:00:00",
          "2014-01-21T00:00:00",
          "2014-01-23T00:00:00",
          "2014-01-26T00:00:00",
          "2014-01-27T00:00:00",
          "2014-01-28T00:00:00",
          "2014-01-30T00:00:00",
          "2014-01-31T00:00:00",
          "2014-02-01T00:00:00",
          "2014-02-02T00:00:00",
          "2014-02-03T00:00:00",
          "2014-02-04T00:00:00",
          "2014-02-06T00:00:00",
          "2014-02-07T00:00:00",
          "2014-02-08T00:00:00",
          "2014-02-11T00:00:00",
          "2014-02-12T00:00:00",
          "2014-02-14T00:00:00",
          "2014-02-15T00:00:00",
          "2014-02-16T00:00:00",
          "2014-02-17T00:00:00",
          "2014-02-18T00:00:00",
          "2014-02-20T00:00:00",
          "2014-02-21T00:00:00",
          "2014-02-22T00:00:00",
          "2014-02-23T00:00:00",
          "2014-02-24T00:00:00",
          "2014-02-27T00:00:00",
          "2014-03-01T00:00:00",
          "2014-03-02T00:00:00",
          "2014-03-03T00:00:00",
          "2014-03-04T00:00:00",
          "2014-03-05T00:00:00",
          "2014-03-07T00:00:00",
          "2014-03-10T00:00:00",
          "2014-03-11T00:00:00",
          "2014-03-14T00:00:00",
          "2014-03-15T00:00:00",
          "2014-03-16T00:00:00",
          "2014-03-17T00:00:00",
          "2014-03-18T00:00:00",
          "2014-03-19T00:00:00",
          "2014-03-21T00:00:00",
          "2014-03-22T00:00:00",
          "2014-03-23T00:00:00",
          "2014-03-24T00:00:00",
          "2014-03-25T00:00:00",
          "2014-03-26T00:00:00",
          "2014-03-28T00:00:00",
          "2014-03-29T00:00:00",
          "2014-03-30T00:00:00",
          "2014-03-31T00:00:00",
          "2014-04-01T00:00:00",
          "2014-04-02T00:00:00",
          "2014-04-03T00:00:00",
          "2014-04-04T00:00:00",
          "2014-04-05T00:00:00",
          "2014-04-06T00:00:00",
          "2014-04-07T00:00:00",
          "2014-04-08T00:00:00",
          "2014-04-11T00:00:00",
          "2014-04-12T00:00:00",
          "2014-04-13T00:00:00",
          "2014-04-15T00:00:00",
          "2014-04-16T00:00:00",
          "2014-04-18T00:00:00",
          "2014-04-19T00:00:00",
          "2014-04-20T00:00:00",
          "2014-04-21T00:00:00",
          "2014-04-22T00:00:00",
          "2014-04-23T00:00:00",
          "2014-04-25T00:00:00",
          "2014-04-26T00:00:00",
          "2014-04-28T00:00:00",
          "2014-04-29T00:00:00",
          "2014-04-30T00:00:00",
          "2014-05-02T00:00:00",
          "2014-05-03T00:00:00",
          "2014-05-04T00:00:00",
          "2014-05-05T00:00:00",
          "2014-05-06T00:00:00",
          "2014-05-07T00:00:00",
          "2014-05-08T00:00:00",
          "2014-05-09T00:00:00",
          "2014-05-10T00:00:00",
          "2014-05-11T00:00:00",
          "2014-05-12T00:00:00",
          "2014-05-13T00:00:00",
          "2014-05-14T00:00:00",
          "2014-05-16T00:00:00",
          "2014-05-17T00:00:00",
          "2014-05-18T00:00:00",
          "2014-05-19T00:00:00",
          "2014-05-20T00:00:00",
          "2014-05-21T00:00:00",
          "2014-05-22T00:00:00",
          "2014-05-23T00:00:00",
          "2014-05-24T00:00:00",
          "2014-05-25T00:00:00",
          "2014-05-26T00:00:00",
          "2014-05-27T00:00:00",
          "2014-05-28T00:00:00",
          "2014-05-30T00:00:00",
          "2014-05-31T00:00:00",
          "2014-06-01T00:00:00",
          "2014-06-02T00:00:00",
          "2014-06-03T00:00:00",
          "2014-06-04T00:00:00",
          "2014-06-06T00:00:00",
          "2014-06-07T00:00:00",
          "2014-06-08T00:00:00",
          "2014-06-09T00:00:00",
          "2014-06-10T00:00:00",
          "2014-06-13T00:00:00",
          "2014-06-14T00:00:00",
          "2014-06-15T00:00:00",
          "2014-06-16T00:00:00",
          "2014-06-17T00:00:00",
          "2014-06-18T00:00:00",
          "2014-06-20T00:00:00",
          "2014-06-21T00:00:00",
          "2014-06-22T00:00:00",
          "2014-06-23T00:00:00",
          "2014-06-24T00:00:00",
          "2014-06-25T00:00:00",
          "2014-06-27T00:00:00",
          "2014-06-28T00:00:00",
          "2014-06-29T00:00:00",
          "2014-06-30T00:00:00",
          "2014-07-01T00:00:00",
          "2014-07-02T00:00:00",
          "2014-07-04T00:00:00",
          "2014-07-05T00:00:00",
          "2014-07-06T00:00:00",
          "2014-07-07T00:00:00",
          "2014-07-08T00:00:00",
          "2014-07-09T00:00:00",
          "2014-07-11T00:00:00",
          "2014-07-12T00:00:00",
          "2014-07-13T00:00:00",
          "2014-07-14T00:00:00",
          "2014-07-15T00:00:00",
          "2014-07-18T00:00:00",
          "2014-07-19T00:00:00",
          "2014-07-20T00:00:00",
          "2014-07-21T00:00:00",
          "2014-07-22T00:00:00",
          "2014-07-23T00:00:00",
          "2014-07-25T00:00:00",
          "2014-07-26T00:00:00",
          "2014-07-27T00:00:00",
          "2014-07-28T00:00:00",
          "2014-07-30T00:00:00",
          "2014-08-01T00:00:00",
          "2014-08-02T00:00:00",
          "2014-08-03T00:00:00",
          "2014-08-04T00:00:00",
          "2014-08-05T00:00:00",
          "2014-08-06T00:00:00",
          "2014-08-08T00:00:00",
          "2014-08-09T00:00:00",
          "2014-08-11T00:00:00",
          "2014-08-12T00:00:00",
          "2014-08-15T00:00:00",
          "2014-08-16T00:00:00",
          "2014-08-17T00:00:00",
          "2014-08-19T00:00:00",
          "2014-08-20T00:00:00",
          "2014-08-22T00:00:00",
          "2014-08-23T00:00:00",
          "2014-08-24T00:00:00",
          "2014-08-25T00:00:00",
          "2014-08-26T00:00:00",
          "2014-08-27T00:00:00",
          "2014-08-29T00:00:00",
          "2014-08-30T00:00:00",
          "2014-08-31T00:00:00",
          "2014-09-01T00:00:00",
          "2014-09-02T00:00:00",
          "2014-09-03T00:00:00",
          "2014-09-05T00:00:00",
          "2014-09-06T00:00:00",
          "2014-09-07T00:00:00",
          "2014-09-08T00:00:00",
          "2014-09-09T00:00:00",
          "2014-09-10T00:00:00",
          "2014-09-11T00:00:00",
          "2014-09-12T00:00:00",
          "2014-09-13T00:00:00",
          "2014-09-14T00:00:00",
          "2014-09-15T00:00:00",
          "2014-09-16T00:00:00",
          "2014-09-17T00:00:00",
          "2014-09-19T00:00:00",
          "2014-09-20T00:00:00",
          "2014-09-21T00:00:00",
          "2014-09-22T00:00:00",
          "2014-09-23T00:00:00",
          "2014-09-24T00:00:00",
          "2014-09-25T00:00:00",
          "2014-09-26T00:00:00",
          "2014-09-27T00:00:00",
          "2014-09-28T00:00:00",
          "2014-09-29T00:00:00",
          "2014-09-30T00:00:00",
          "2014-10-01T00:00:00",
          "2014-10-02T00:00:00",
          "2014-10-03T00:00:00",
          "2014-10-04T00:00:00",
          "2014-10-05T00:00:00",
          "2014-10-06T00:00:00",
          "2014-10-07T00:00:00",
          "2014-10-08T00:00:00",
          "2014-10-09T00:00:00",
          "2014-10-10T00:00:00",
          "2014-10-11T00:00:00",
          "2014-10-12T00:00:00",
          "2014-10-13T00:00:00",
          "2014-10-14T00:00:00",
          "2014-10-15T00:00:00",
          "2014-10-16T00:00:00",
          "2014-10-17T00:00:00",
          "2014-10-18T00:00:00",
          "2014-10-19T00:00:00",
          "2014-10-20T00:00:00",
          "2014-10-21T00:00:00",
          "2014-10-22T00:00:00",
          "2014-10-24T00:00:00",
          "2014-10-25T00:00:00",
          "2014-10-26T00:00:00",
          "2014-10-27T00:00:00",
          "2014-10-28T00:00:00",
          "2014-10-29T00:00:00",
          "2014-10-31T00:00:00",
          "2014-11-01T00:00:00",
          "2014-11-02T00:00:00",
          "2014-11-03T00:00:00",
          "2014-11-04T00:00:00",
          "2014-11-05T00:00:00",
          "2014-11-06T00:00:00",
          "2014-11-07T00:00:00",
          "2014-11-08T00:00:00",
          "2014-11-09T00:00:00",
          "2014-11-10T00:00:00",
          "2014-11-11T00:00:00",
          "2014-11-12T00:00:00",
          "2014-11-14T00:00:00",
          "2014-11-15T00:00:00",
          "2014-11-16T00:00:00",
          "2014-11-17T00:00:00",
          "2014-11-18T00:00:00",
          "2014-11-19T00:00:00",
          "2014-11-20T00:00:00",
          "2014-11-21T00:00:00",
          "2014-11-22T00:00:00",
          "2014-11-23T00:00:00",
          "2014-11-24T00:00:00",
          "2014-11-25T00:00:00",
          "2014-11-26T00:00:00",
          "2014-11-27T00:00:00",
          "2014-11-28T00:00:00",
          "2014-11-29T00:00:00",
          "2014-11-30T00:00:00",
          "2014-12-01T00:00:00",
          "2014-12-02T00:00:00",
          "2014-12-03T00:00:00",
          "2014-12-04T00:00:00",
          "2014-12-05T00:00:00",
          "2014-12-06T00:00:00",
          "2014-12-07T00:00:00",
          "2014-12-08T00:00:00",
          "2014-12-09T00:00:00",
          "2014-12-10T00:00:00",
          "2014-12-12T00:00:00",
          "2014-12-13T00:00:00",
          "2014-12-14T00:00:00",
          "2014-12-15T00:00:00",
          "2014-12-16T00:00:00",
          "2014-12-17T00:00:00",
          "2014-12-19T00:00:00",
          "2014-12-20T00:00:00",
          "2014-12-21T00:00:00",
          "2014-12-22T00:00:00",
          "2014-12-23T00:00:00",
          "2014-12-24T00:00:00",
          "2014-12-26T00:00:00",
          "2014-12-27T00:00:00",
          "2014-12-28T00:00:00",
          "2014-12-29T00:00:00",
          "2014-12-30T00:00:00",
          "2014-12-31T00:00:00"
         ],
         "y": [
          5.551199999999998,
          -65.99010000000001,
          4.884,
          1358.0523999999998,
          -71.96209999999999,
          10.917999999999996,
          22.6537,
          3.0813999999999995,
          673.6385999999999,
          -53.28560000000001,
          65.97800000000001,
          -5.933500000000016,
          6.486400000000003,
          -287.9976,
          584.3694999999999,
          4.102799999999999,
          19.2384,
          150.327,
          9.682700000000004,
          1.3256999999999999,
          11.650200000000002,
          3.4195999999999884,
          206.31600000000006,
          7.152499999999995,
          31.5614,
          51.1432,
          76.48329999999999,
          59.34880000000001,
          5.5328,
          293.52849999999995,
          -24.29400000000002,
          120.1764,
          7.209,
          -15.658000000000003,
          8.808799999999998,
          -13.846800000000002,
          35.5612,
          -13.717499999999998,
          9.3312,
          -4.522499999999998,
          18.789299999999997,
          3.404799999999998,
          -208.96140000000014,
          56.0112,
          -629.7989000000001,
          20.07779999999996,
          261.19010000000003,
          134.1538999999999,
          4.188599999999905,
          279.06100000000004,
          528.5024,
          33.59799999999998,
          29.49500000000002,
          -831.8571999999998,
          -954.7089000000022,
          68.63529999999997,
          1055.3735000000001,
          -50.93450000000001,
          126.92240000000002,
          26.275799999999997,
          96.6684,
          30.7658,
          -11.075399999999945,
          -152.7156,
          232.75289999999998,
          355.1097000000001,
          26.089599999999997,
          407.3962,
          85.6044,
          105.45209999999999,
          253.90440000000007,
          299.51519999999994,
          305.05600000000004,
          359.84810000000004,
          523.2729,
          152.65809999999996,
          -384.79419999999993,
          107.99999999999999,
          9.768,
          169.9373999999999,
          87.5664,
          -194.45280000000008,
          5.5755,
          124.78689999999999,
          -0.3052999999999848,
          332.86710000000005,
          40.74499999999999,
          292.1672000000001,
          101.68139999999991,
          276.49559999999997,
          91.95719999999999,
          28.862399999999994,
          58.5624,
          34.51309999999998,
          85.7158,
          215.8138,
          239.9960000000001,
          95.1736,
          57.82600000000002,
          -289.6088,
          -119.22550000000001,
          -242.28369999999993,
          23.31599999999999,
          20.85000000000001,
          45.839999999999996,
          -158.00399999999996,
          35.6472,
          62.05810000000001,
          1719.5087,
          46.581,
          58.050200000000004,
          56.977199999999996,
          -183.78380000000004,
          130.50859999999997,
          111.54079999999993,
          59.30879999999999,
          222.03579999999988,
          230.97269999999995,
          1576.7508999999998,
          218.36079999999995,
          96.1086,
          -6.493200000000024,
          -265.2367000000001,
          -230.33159999999998,
          193.3649999999999,
          629.0288999999998,
          240.8595,
          4.7916,
          57.4938,
          -78.241,
          76.68759999999993,
          1126.6297,
          12.232500000000009,
          -62.9594,
          849.4221,
          40.21470000000001,
          3.180299999999999,
          0.9611999999999998,
          49.71719999999997,
          76.10520000000002,
          109.762,
          8.557499999999997,
          249.55719999999997,
          75.33319999999998,
          22.150800000000004,
          83.94479999999999,
          182.79359999999997,
          222.8455,
          -34.65980000000001,
          -8.442000000000064,
          57.20779999999999,
          537.7298,
          88.45439999999992,
          4.390199999999979,
          -31.10140000000002,
          3.988200000000001,
          -21.39479999999999,
          103.20620000000002,
          162.1880999999999,
          34.12600000000003,
          229.8348,
          267.48439999999994,
          384.50839999999965,
          -3570.9710000000014,
          70.31220000000002,
          34.69839999999999,
          259.8896,
          66.475,
          248.02760000000004,
          -76.7149,
          833.4829000000001,
          504.1059000000001,
          106.6392,
          1129.1342,
          700.8937999999999,
          45.6444,
          357.593,
          118.18259999999995,
          -227.49120000000016,
          193.18359999999996,
          175.4619,
          569.8904999999999,
          4.8787,
          160.40159999999997,
          20.1332,
          118.8423,
          92.0889,
          513.7322999999999,
          -376.46949999999987,
          21.485,
          18.50399999999999,
          85.9402,
          916.2511999999999,
          -4.4639999999999995,
          21.822999999999997,
          39.630799999999994,
          -481.24629999999996,
          -1452.6877000000025,
          16.36159999999986,
          259.62080000000003,
          21.751499999999986,
          600.8836000000001,
          243.82370000000003,
          1530.7599,
          30.1722,
          12.581999999999999,
          233.5287,
          -1539.1441000000011,
          670.1013999999998,
          877.4457,
          87.47569999999996,
          4808.597500000001,
          8.478399999999993,
          -87.55940000000002,
          230.7266,
          123.10640000000001,
          64.36859999999997,
          890.2808999999997,
          119.49049999999998,
          0,
          133.76319999999998,
          -65.42790000000007,
          45.07089999999994,
          46.48299999999999,
          50.0395,
          31.85600000000001,
          60.751799999999996,
          70.00429999999997,
          169.9526,
          110.6137999999999,
          12.877099999999997,
          454.10329999999993,
          1059.3592,
          -0.9321000000000002,
          91.40880000000001,
          -36.83800000000003,
          606.1101999999998,
          124.54770000000002,
          -65.98380000000006,
          26.062299999999915,
          23.303199999999983,
          18.559199999999997,
          9.4491,
          41.59200000000001,
          7.6626,
          93.42820000000003,
          378.5485999999997,
          -48.10750000000027,
          663.3640999999997,
          286.57539999999995,
          -108.22130000000008,
          2443.392,
          -61.61160000000002,
          20.9664,
          155.48629999999997,
          25.018199999999993,
          222.6885999999999,
          436.63309999999996,
          -449.53110000000095,
          79.63399999999994,
          308.9068,
          400.0780999999999,
          137.55819999999994,
          1954.1345999999996,
          -347.52270000000004,
          1979.1982000000003,
          251.172,
          378.1698999999999,
          461.8921,
          -105.23840000000004,
          -97.3574000000001,
          148.62719999999993,
          -62.16120000000004,
          41.29599999999999,
          12.473199999999885,
          104.67719999999998,
          11.828999999999994,
          875.1448000000001,
          111.37489999999994,
          146.8304,
          62.3904,
          425.0407999999999,
          -19.019000000000013,
          201.7832,
          125.92729999999999,
          125.75129999999989,
          101.14259999999996,
          -72.10080000000005,
          8.731400000000015,
          2220.5214999999994,
          -144.73200000000003,
          415.6423999999999,
          7.192399999999999,
          356.9568999999999,
          1557.0101999999997,
          178.26479999999987,
          183.12109999999998,
          67.37939999999995,
          264.30799999999994,
          -3.5974000000001185,
          -336.3251,
          706.8573999999998,
          568.0095,
          -594.5496000000003,
          1444.5131
         ]
        }
       ],
       "layout": {
        "template": {
         "data": {
          "bar": [
           {
            "error_x": {
             "color": "#2a3f5f"
            },
            "error_y": {
             "color": "#2a3f5f"
            },
            "marker": {
             "line": {
              "color": "#E5ECF6",
              "width": 0.5
             },
             "pattern": {
              "fillmode": "overlay",
              "size": 10,
              "solidity": 0.2
             }
            },
            "type": "bar"
           }
          ],
          "barpolar": [
           {
            "marker": {
             "line": {
              "color": "#E5ECF6",
              "width": 0.5
             },
             "pattern": {
              "fillmode": "overlay",
              "size": 10,
              "solidity": 0.2
             }
            },
            "type": "barpolar"
           }
          ],
          "carpet": [
           {
            "aaxis": {
             "endlinecolor": "#2a3f5f",
             "gridcolor": "white",
             "linecolor": "white",
             "minorgridcolor": "white",
             "startlinecolor": "#2a3f5f"
            },
            "baxis": {
             "endlinecolor": "#2a3f5f",
             "gridcolor": "white",
             "linecolor": "white",
             "minorgridcolor": "white",
             "startlinecolor": "#2a3f5f"
            },
            "type": "carpet"
           }
          ],
          "choropleth": [
           {
            "colorbar": {
             "outlinewidth": 0,
             "ticks": ""
            },
            "type": "choropleth"
           }
          ],
          "contour": [
           {
            "colorbar": {
             "outlinewidth": 0,
             "ticks": ""
            },
            "colorscale": [
             [
              0,
              "#0d0887"
             ],
             [
              0.1111111111111111,
              "#46039f"
             ],
             [
              0.2222222222222222,
              "#7201a8"
             ],
             [
              0.3333333333333333,
              "#9c179e"
             ],
             [
              0.4444444444444444,
              "#bd3786"
             ],
             [
              0.5555555555555556,
              "#d8576b"
             ],
             [
              0.6666666666666666,
              "#ed7953"
             ],
             [
              0.7777777777777778,
              "#fb9f3a"
             ],
             [
              0.8888888888888888,
              "#fdca26"
             ],
             [
              1,
              "#f0f921"
             ]
            ],
            "type": "contour"
           }
          ],
          "contourcarpet": [
           {
            "colorbar": {
             "outlinewidth": 0,
             "ticks": ""
            },
            "type": "contourcarpet"
           }
          ],
          "heatmap": [
           {
            "colorbar": {
             "outlinewidth": 0,
             "ticks": ""
            },
            "colorscale": [
             [
              0,
              "#0d0887"
             ],
             [
              0.1111111111111111,
              "#46039f"
             ],
             [
              0.2222222222222222,
              "#7201a8"
             ],
             [
              0.3333333333333333,
              "#9c179e"
             ],
             [
              0.4444444444444444,
              "#bd3786"
             ],
             [
              0.5555555555555556,
              "#d8576b"
             ],
             [
              0.6666666666666666,
              "#ed7953"
             ],
             [
              0.7777777777777778,
              "#fb9f3a"
             ],
             [
              0.8888888888888888,
              "#fdca26"
             ],
             [
              1,
              "#f0f921"
             ]
            ],
            "type": "heatmap"
           }
          ],
          "heatmapgl": [
           {
            "colorbar": {
             "outlinewidth": 0,
             "ticks": ""
            },
            "colorscale": [
             [
              0,
              "#0d0887"
             ],
             [
              0.1111111111111111,
              "#46039f"
             ],
             [
              0.2222222222222222,
              "#7201a8"
             ],
             [
              0.3333333333333333,
              "#9c179e"
             ],
             [
              0.4444444444444444,
              "#bd3786"
             ],
             [
              0.5555555555555556,
              "#d8576b"
             ],
             [
              0.6666666666666666,
              "#ed7953"
             ],
             [
              0.7777777777777778,
              "#fb9f3a"
             ],
             [
              0.8888888888888888,
              "#fdca26"
             ],
             [
              1,
              "#f0f921"
             ]
            ],
            "type": "heatmapgl"
           }
          ],
          "histogram": [
           {
            "marker": {
             "pattern": {
              "fillmode": "overlay",
              "size": 10,
              "solidity": 0.2
             }
            },
            "type": "histogram"
           }
          ],
          "histogram2d": [
           {
            "colorbar": {
             "outlinewidth": 0,
             "ticks": ""
            },
            "colorscale": [
             [
              0,
              "#0d0887"
             ],
             [
              0.1111111111111111,
              "#46039f"
             ],
             [
              0.2222222222222222,
              "#7201a8"
             ],
             [
              0.3333333333333333,
              "#9c179e"
             ],
             [
              0.4444444444444444,
              "#bd3786"
             ],
             [
              0.5555555555555556,
              "#d8576b"
             ],
             [
              0.6666666666666666,
              "#ed7953"
             ],
             [
              0.7777777777777778,
              "#fb9f3a"
             ],
             [
              0.8888888888888888,
              "#fdca26"
             ],
             [
              1,
              "#f0f921"
             ]
            ],
            "type": "histogram2d"
           }
          ],
          "histogram2dcontour": [
           {
            "colorbar": {
             "outlinewidth": 0,
             "ticks": ""
            },
            "colorscale": [
             [
              0,
              "#0d0887"
             ],
             [
              0.1111111111111111,
              "#46039f"
             ],
             [
              0.2222222222222222,
              "#7201a8"
             ],
             [
              0.3333333333333333,
              "#9c179e"
             ],
             [
              0.4444444444444444,
              "#bd3786"
             ],
             [
              0.5555555555555556,
              "#d8576b"
             ],
             [
              0.6666666666666666,
              "#ed7953"
             ],
             [
              0.7777777777777778,
              "#fb9f3a"
             ],
             [
              0.8888888888888888,
              "#fdca26"
             ],
             [
              1,
              "#f0f921"
             ]
            ],
            "type": "histogram2dcontour"
           }
          ],
          "mesh3d": [
           {
            "colorbar": {
             "outlinewidth": 0,
             "ticks": ""
            },
            "type": "mesh3d"
           }
          ],
          "parcoords": [
           {
            "line": {
             "colorbar": {
              "outlinewidth": 0,
              "ticks": ""
             }
            },
            "type": "parcoords"
           }
          ],
          "pie": [
           {
            "automargin": true,
            "type": "pie"
           }
          ],
          "scatter": [
           {
            "fillpattern": {
             "fillmode": "overlay",
             "size": 10,
             "solidity": 0.2
            },
            "type": "scatter"
           }
          ],
          "scatter3d": [
           {
            "line": {
             "colorbar": {
              "outlinewidth": 0,
              "ticks": ""
             }
            },
            "marker": {
             "colorbar": {
              "outlinewidth": 0,
              "ticks": ""
             }
            },
            "type": "scatter3d"
           }
          ],
          "scattercarpet": [
           {
            "marker": {
             "colorbar": {
              "outlinewidth": 0,
              "ticks": ""
             }
            },
            "type": "scattercarpet"
           }
          ],
          "scattergeo": [
           {
            "marker": {
             "colorbar": {
              "outlinewidth": 0,
              "ticks": ""
             }
            },
            "type": "scattergeo"
           }
          ],
          "scattergl": [
           {
            "marker": {
             "colorbar": {
              "outlinewidth": 0,
              "ticks": ""
             }
            },
            "type": "scattergl"
           }
          ],
          "scattermapbox": [
           {
            "marker": {
             "colorbar": {
              "outlinewidth": 0,
              "ticks": ""
             }
            },
            "type": "scattermapbox"
           }
          ],
          "scatterpolar": [
           {
            "marker": {
             "colorbar": {
              "outlinewidth": 0,
              "ticks": ""
             }
            },
            "type": "scatterpolar"
           }
          ],
          "scatterpolargl": [
           {
            "marker": {
             "colorbar": {
              "outlinewidth": 0,
              "ticks": ""
             }
            },
            "type": "scatterpolargl"
           }
          ],
          "scatterternary": [
           {
            "marker": {
             "colorbar": {
              "outlinewidth": 0,
              "ticks": ""
             }
            },
            "type": "scatterternary"
           }
          ],
          "surface": [
           {
            "colorbar": {
             "outlinewidth": 0,
             "ticks": ""
            },
            "colorscale": [
             [
              0,
              "#0d0887"
             ],
             [
              0.1111111111111111,
              "#46039f"
             ],
             [
              0.2222222222222222,
              "#7201a8"
             ],
             [
              0.3333333333333333,
              "#9c179e"
             ],
             [
              0.4444444444444444,
              "#bd3786"
             ],
             [
              0.5555555555555556,
              "#d8576b"
             ],
             [
              0.6666666666666666,
              "#ed7953"
             ],
             [
              0.7777777777777778,
              "#fb9f3a"
             ],
             [
              0.8888888888888888,
              "#fdca26"
             ],
             [
              1,
              "#f0f921"
             ]
            ],
            "type": "surface"
           }
          ],
          "table": [
           {
            "cells": {
             "fill": {
              "color": "#EBF0F8"
             },
             "line": {
              "color": "white"
             }
            },
            "header": {
             "fill": {
              "color": "#C8D4E3"
             },
             "line": {
              "color": "white"
             }
            },
            "type": "table"
           }
          ]
         },
         "layout": {
          "annotationdefaults": {
           "arrowcolor": "#2a3f5f",
           "arrowhead": 0,
           "arrowwidth": 1
          },
          "autotypenumbers": "strict",
          "coloraxis": {
           "colorbar": {
            "outlinewidth": 0,
            "ticks": ""
           }
          },
          "colorscale": {
           "diverging": [
            [
             0,
             "#8e0152"
            ],
            [
             0.1,
             "#c51b7d"
            ],
            [
             0.2,
             "#de77ae"
            ],
            [
             0.3,
             "#f1b6da"
            ],
            [
             0.4,
             "#fde0ef"
            ],
            [
             0.5,
             "#f7f7f7"
            ],
            [
             0.6,
             "#e6f5d0"
            ],
            [
             0.7,
             "#b8e186"
            ],
            [
             0.8,
             "#7fbc41"
            ],
            [
             0.9,
             "#4d9221"
            ],
            [
             1,
             "#276419"
            ]
           ],
           "sequential": [
            [
             0,
             "#0d0887"
            ],
            [
             0.1111111111111111,
             "#46039f"
            ],
            [
             0.2222222222222222,
             "#7201a8"
            ],
            [
             0.3333333333333333,
             "#9c179e"
            ],
            [
             0.4444444444444444,
             "#bd3786"
            ],
            [
             0.5555555555555556,
             "#d8576b"
            ],
            [
             0.6666666666666666,
             "#ed7953"
            ],
            [
             0.7777777777777778,
             "#fb9f3a"
            ],
            [
             0.8888888888888888,
             "#fdca26"
            ],
            [
             1,
             "#f0f921"
            ]
           ],
           "sequentialminus": [
            [
             0,
             "#0d0887"
            ],
            [
             0.1111111111111111,
             "#46039f"
            ],
            [
             0.2222222222222222,
             "#7201a8"
            ],
            [
             0.3333333333333333,
             "#9c179e"
            ],
            [
             0.4444444444444444,
             "#bd3786"
            ],
            [
             0.5555555555555556,
             "#d8576b"
            ],
            [
             0.6666666666666666,
             "#ed7953"
            ],
            [
             0.7777777777777778,
             "#fb9f3a"
            ],
            [
             0.8888888888888888,
             "#fdca26"
            ],
            [
             1,
             "#f0f921"
            ]
           ]
          },
          "colorway": [
           "#636efa",
           "#EF553B",
           "#00cc96",
           "#ab63fa",
           "#FFA15A",
           "#19d3f3",
           "#FF6692",
           "#B6E880",
           "#FF97FF",
           "#FECB52"
          ],
          "font": {
           "color": "#2a3f5f"
          },
          "geo": {
           "bgcolor": "white",
           "lakecolor": "white",
           "landcolor": "#E5ECF6",
           "showlakes": true,
           "showland": true,
           "subunitcolor": "white"
          },
          "hoverlabel": {
           "align": "left"
          },
          "hovermode": "closest",
          "mapbox": {
           "style": "light"
          },
          "paper_bgcolor": "white",
          "plot_bgcolor": "#E5ECF6",
          "polar": {
           "angularaxis": {
            "gridcolor": "white",
            "linecolor": "white",
            "ticks": ""
           },
           "bgcolor": "#E5ECF6",
           "radialaxis": {
            "gridcolor": "white",
            "linecolor": "white",
            "ticks": ""
           }
          },
          "scene": {
           "xaxis": {
            "backgroundcolor": "#E5ECF6",
            "gridcolor": "white",
            "gridwidth": 2,
            "linecolor": "white",
            "showbackground": true,
            "ticks": "",
            "zerolinecolor": "white"
           },
           "yaxis": {
            "backgroundcolor": "#E5ECF6",
            "gridcolor": "white",
            "gridwidth": 2,
            "linecolor": "white",
            "showbackground": true,
            "ticks": "",
            "zerolinecolor": "white"
           },
           "zaxis": {
            "backgroundcolor": "#E5ECF6",
            "gridcolor": "white",
            "gridwidth": 2,
            "linecolor": "white",
            "showbackground": true,
            "ticks": "",
            "zerolinecolor": "white"
           }
          },
          "shapedefaults": {
           "line": {
            "color": "#2a3f5f"
           }
          },
          "ternary": {
           "aaxis": {
            "gridcolor": "white",
            "linecolor": "white",
            "ticks": ""
           },
           "baxis": {
            "gridcolor": "white",
            "linecolor": "white",
            "ticks": ""
           },
           "bgcolor": "#E5ECF6",
           "caxis": {
            "gridcolor": "white",
            "linecolor": "white",
            "ticks": ""
           }
          },
          "title": {
           "x": 0.05
          },
          "xaxis": {
           "automargin": true,
           "gridcolor": "white",
           "linecolor": "white",
           "ticks": "",
           "title": {
            "standoff": 15
           },
           "zerolinecolor": "white",
           "zerolinewidth": 2
          },
          "yaxis": {
           "automargin": true,
           "gridcolor": "white",
           "linecolor": "white",
           "ticks": "",
           "title": {
            "standoff": 15
           },
           "zerolinecolor": "white",
           "zerolinewidth": 2
          }
         }
        }
       }
      },
      "text/html": [
       "<div>                            <div id=\"a4547653-e371-4b32-a167-2c8197948100\" class=\"plotly-graph-div\" style=\"height:525px; width:100%;\"></div>            <script type=\"text/javascript\">                require([\"plotly\"], function(Plotly) {                    window.PLOTLYENV=window.PLOTLYENV || {};                                    if (document.getElementById(\"a4547653-e371-4b32-a167-2c8197948100\")) {                    Plotly.newPlot(                        \"a4547653-e371-4b32-a167-2c8197948100\",                        [{\"mode\":\"lines\",\"name\":\"Sales\",\"x\":[\"2014-01-03T00:00:00\",\"2014-01-04T00:00:00\",\"2014-01-05T00:00:00\",\"2014-01-06T00:00:00\",\"2014-01-07T00:00:00\",\"2014-01-09T00:00:00\",\"2014-01-10T00:00:00\",\"2014-01-11T00:00:00\",\"2014-01-13T00:00:00\",\"2014-01-14T00:00:00\",\"2014-01-15T00:00:00\",\"2014-01-16T00:00:00\",\"2014-01-18T00:00:00\",\"2014-01-19T00:00:00\",\"2014-01-20T00:00:00\",\"2014-01-21T00:00:00\",\"2014-01-23T00:00:00\",\"2014-01-26T00:00:00\",\"2014-01-27T00:00:00\",\"2014-01-28T00:00:00\",\"2014-01-30T00:00:00\",\"2014-01-31T00:00:00\",\"2014-02-01T00:00:00\",\"2014-02-02T00:00:00\",\"2014-02-03T00:00:00\",\"2014-02-04T00:00:00\",\"2014-02-06T00:00:00\",\"2014-02-07T00:00:00\",\"2014-02-08T00:00:00\",\"2014-02-11T00:00:00\",\"2014-02-12T00:00:00\",\"2014-02-14T00:00:00\",\"2014-02-15T00:00:00\",\"2014-02-16T00:00:00\",\"2014-02-17T00:00:00\",\"2014-02-18T00:00:00\",\"2014-02-20T00:00:00\",\"2014-02-21T00:00:00\",\"2014-02-22T00:00:00\",\"2014-02-23T00:00:00\",\"2014-02-24T00:00:00\",\"2014-02-27T00:00:00\",\"2014-03-01T00:00:00\",\"2014-03-02T00:00:00\",\"2014-03-03T00:00:00\",\"2014-03-04T00:00:00\",\"2014-03-05T00:00:00\",\"2014-03-07T00:00:00\",\"2014-03-10T00:00:00\",\"2014-03-11T00:00:00\",\"2014-03-14T00:00:00\",\"2014-03-15T00:00:00\",\"2014-03-16T00:00:00\",\"2014-03-17T00:00:00\",\"2014-03-18T00:00:00\",\"2014-03-19T00:00:00\",\"2014-03-21T00:00:00\",\"2014-03-22T00:00:00\",\"2014-03-23T00:00:00\",\"2014-03-24T00:00:00\",\"2014-03-25T00:00:00\",\"2014-03-26T00:00:00\",\"2014-03-28T00:00:00\",\"2014-03-29T00:00:00\",\"2014-03-30T00:00:00\",\"2014-03-31T00:00:00\",\"2014-04-01T00:00:00\",\"2014-04-02T00:00:00\",\"2014-04-03T00:00:00\",\"2014-04-04T00:00:00\",\"2014-04-05T00:00:00\",\"2014-04-06T00:00:00\",\"2014-04-07T00:00:00\",\"2014-04-08T00:00:00\",\"2014-04-11T00:00:00\",\"2014-04-12T00:00:00\",\"2014-04-13T00:00:00\",\"2014-04-15T00:00:00\",\"2014-04-16T00:00:00\",\"2014-04-18T00:00:00\",\"2014-04-19T00:00:00\",\"2014-04-20T00:00:00\",\"2014-04-21T00:00:00\",\"2014-04-22T00:00:00\",\"2014-04-23T00:00:00\",\"2014-04-25T00:00:00\",\"2014-04-26T00:00:00\",\"2014-04-28T00:00:00\",\"2014-04-29T00:00:00\",\"2014-04-30T00:00:00\",\"2014-05-02T00:00:00\",\"2014-05-03T00:00:00\",\"2014-05-04T00:00:00\",\"2014-05-05T00:00:00\",\"2014-05-06T00:00:00\",\"2014-05-07T00:00:00\",\"2014-05-08T00:00:00\",\"2014-05-09T00:00:00\",\"2014-05-10T00:00:00\",\"2014-05-11T00:00:00\",\"2014-05-12T00:00:00\",\"2014-05-13T00:00:00\",\"2014-05-14T00:00:00\",\"2014-05-16T00:00:00\",\"2014-05-17T00:00:00\",\"2014-05-18T00:00:00\",\"2014-05-19T00:00:00\",\"2014-05-20T00:00:00\",\"2014-05-21T00:00:00\",\"2014-05-22T00:00:00\",\"2014-05-23T00:00:00\",\"2014-05-24T00:00:00\",\"2014-05-25T00:00:00\",\"2014-05-26T00:00:00\",\"2014-05-27T00:00:00\",\"2014-05-28T00:00:00\",\"2014-05-30T00:00:00\",\"2014-05-31T00:00:00\",\"2014-06-01T00:00:00\",\"2014-06-02T00:00:00\",\"2014-06-03T00:00:00\",\"2014-06-04T00:00:00\",\"2014-06-06T00:00:00\",\"2014-06-07T00:00:00\",\"2014-06-08T00:00:00\",\"2014-06-09T00:00:00\",\"2014-06-10T00:00:00\",\"2014-06-13T00:00:00\",\"2014-06-14T00:00:00\",\"2014-06-15T00:00:00\",\"2014-06-16T00:00:00\",\"2014-06-17T00:00:00\",\"2014-06-18T00:00:00\",\"2014-06-20T00:00:00\",\"2014-06-21T00:00:00\",\"2014-06-22T00:00:00\",\"2014-06-23T00:00:00\",\"2014-06-24T00:00:00\",\"2014-06-25T00:00:00\",\"2014-06-27T00:00:00\",\"2014-06-28T00:00:00\",\"2014-06-29T00:00:00\",\"2014-06-30T00:00:00\",\"2014-07-01T00:00:00\",\"2014-07-02T00:00:00\",\"2014-07-04T00:00:00\",\"2014-07-05T00:00:00\",\"2014-07-06T00:00:00\",\"2014-07-07T00:00:00\",\"2014-07-08T00:00:00\",\"2014-07-09T00:00:00\",\"2014-07-11T00:00:00\",\"2014-07-12T00:00:00\",\"2014-07-13T00:00:00\",\"2014-07-14T00:00:00\",\"2014-07-15T00:00:00\",\"2014-07-18T00:00:00\",\"2014-07-19T00:00:00\",\"2014-07-20T00:00:00\",\"2014-07-21T00:00:00\",\"2014-07-22T00:00:00\",\"2014-07-23T00:00:00\",\"2014-07-25T00:00:00\",\"2014-07-26T00:00:00\",\"2014-07-27T00:00:00\",\"2014-07-28T00:00:00\",\"2014-07-30T00:00:00\",\"2014-08-01T00:00:00\",\"2014-08-02T00:00:00\",\"2014-08-03T00:00:00\",\"2014-08-04T00:00:00\",\"2014-08-05T00:00:00\",\"2014-08-06T00:00:00\",\"2014-08-08T00:00:00\",\"2014-08-09T00:00:00\",\"2014-08-11T00:00:00\",\"2014-08-12T00:00:00\",\"2014-08-15T00:00:00\",\"2014-08-16T00:00:00\",\"2014-08-17T00:00:00\",\"2014-08-19T00:00:00\",\"2014-08-20T00:00:00\",\"2014-08-22T00:00:00\",\"2014-08-23T00:00:00\",\"2014-08-24T00:00:00\",\"2014-08-25T00:00:00\",\"2014-08-26T00:00:00\",\"2014-08-27T00:00:00\",\"2014-08-29T00:00:00\",\"2014-08-30T00:00:00\",\"2014-08-31T00:00:00\",\"2014-09-01T00:00:00\",\"2014-09-02T00:00:00\",\"2014-09-03T00:00:00\",\"2014-09-05T00:00:00\",\"2014-09-06T00:00:00\",\"2014-09-07T00:00:00\",\"2014-09-08T00:00:00\",\"2014-09-09T00:00:00\",\"2014-09-10T00:00:00\",\"2014-09-11T00:00:00\",\"2014-09-12T00:00:00\",\"2014-09-13T00:00:00\",\"2014-09-14T00:00:00\",\"2014-09-15T00:00:00\",\"2014-09-16T00:00:00\",\"2014-09-17T00:00:00\",\"2014-09-19T00:00:00\",\"2014-09-20T00:00:00\",\"2014-09-21T00:00:00\",\"2014-09-22T00:00:00\",\"2014-09-23T00:00:00\",\"2014-09-24T00:00:00\",\"2014-09-25T00:00:00\",\"2014-09-26T00:00:00\",\"2014-09-27T00:00:00\",\"2014-09-28T00:00:00\",\"2014-09-29T00:00:00\",\"2014-09-30T00:00:00\",\"2014-10-01T00:00:00\",\"2014-10-02T00:00:00\",\"2014-10-03T00:00:00\",\"2014-10-04T00:00:00\",\"2014-10-05T00:00:00\",\"2014-10-06T00:00:00\",\"2014-10-07T00:00:00\",\"2014-10-08T00:00:00\",\"2014-10-09T00:00:00\",\"2014-10-10T00:00:00\",\"2014-10-11T00:00:00\",\"2014-10-12T00:00:00\",\"2014-10-13T00:00:00\",\"2014-10-14T00:00:00\",\"2014-10-15T00:00:00\",\"2014-10-16T00:00:00\",\"2014-10-17T00:00:00\",\"2014-10-18T00:00:00\",\"2014-10-19T00:00:00\",\"2014-10-20T00:00:00\",\"2014-10-21T00:00:00\",\"2014-10-22T00:00:00\",\"2014-10-24T00:00:00\",\"2014-10-25T00:00:00\",\"2014-10-26T00:00:00\",\"2014-10-27T00:00:00\",\"2014-10-28T00:00:00\",\"2014-10-29T00:00:00\",\"2014-10-31T00:00:00\",\"2014-11-01T00:00:00\",\"2014-11-02T00:00:00\",\"2014-11-03T00:00:00\",\"2014-11-04T00:00:00\",\"2014-11-05T00:00:00\",\"2014-11-06T00:00:00\",\"2014-11-07T00:00:00\",\"2014-11-08T00:00:00\",\"2014-11-09T00:00:00\",\"2014-11-10T00:00:00\",\"2014-11-11T00:00:00\",\"2014-11-12T00:00:00\",\"2014-11-14T00:00:00\",\"2014-11-15T00:00:00\",\"2014-11-16T00:00:00\",\"2014-11-17T00:00:00\",\"2014-11-18T00:00:00\",\"2014-11-19T00:00:00\",\"2014-11-20T00:00:00\",\"2014-11-21T00:00:00\",\"2014-11-22T00:00:00\",\"2014-11-23T00:00:00\",\"2014-11-24T00:00:00\",\"2014-11-25T00:00:00\",\"2014-11-26T00:00:00\",\"2014-11-27T00:00:00\",\"2014-11-28T00:00:00\",\"2014-11-29T00:00:00\",\"2014-11-30T00:00:00\",\"2014-12-01T00:00:00\",\"2014-12-02T00:00:00\",\"2014-12-03T00:00:00\",\"2014-12-04T00:00:00\",\"2014-12-05T00:00:00\",\"2014-12-06T00:00:00\",\"2014-12-07T00:00:00\",\"2014-12-08T00:00:00\",\"2014-12-09T00:00:00\",\"2014-12-10T00:00:00\",\"2014-12-12T00:00:00\",\"2014-12-13T00:00:00\",\"2014-12-14T00:00:00\",\"2014-12-15T00:00:00\",\"2014-12-16T00:00:00\",\"2014-12-17T00:00:00\",\"2014-12-19T00:00:00\",\"2014-12-20T00:00:00\",\"2014-12-21T00:00:00\",\"2014-12-22T00:00:00\",\"2014-12-23T00:00:00\",\"2014-12-24T00:00:00\",\"2014-12-26T00:00:00\",\"2014-12-27T00:00:00\",\"2014-12-28T00:00:00\",\"2014-12-29T00:00:00\",\"2014-12-30T00:00:00\",\"2014-12-31T00:00:00\"],\"y\":[16.448,288.06,19.536,4407.1,87.158,40.544000000000004,54.83,9.94,3553.795,61.96,149.95,299.964,64.864,378.59400000000005,2673.87,25.248,46.019999999999996,1097.25,426.67,3.9280000000000004,240.5,290.666,468.90000000000003,211.64600000000002,97.11200000000001,134.38400000000001,330.512,180.32,14.56,2043.4,129.568,576.7259999999999,21.36,9.039999999999997,54.208,37.784,95.59,8.849999999999998,19.44,11.364,55.672000000000004,19.456000000000003,2203.151,202.38400000000001,1345.892,370.45200000000006,705.562,1561.0620000000001,741.9560000000001,918.314,2108.55,370.78200000000004,471.92,3960.358,28106.716,590.7620000000001,4109.816000000001,464.09299999999996,945.064,65.38,459.146,145.13000000000002,1823.8039999999999,890.8409999999999,1170.3220000000001,1959.552,119.88799999999999,1458.558,233.45,475.844,5295.098,1650.6899999999998,1021.17,1958.75,1915.24,1912.123,638.576,294.71999999999997,39.072,1020.532,205.47,1250.45,845.3599999999999,257.752,643.9799999999999,2379.9939999999997,282.56800000000004,2578.476,768.844,1048.74,506.12000000000006,72.632,187.432,260.977,254.456,1091.35,1799.9699999999998,394.48,2343.799,1642.8019999999997,734.846,898.3820000000001,310.88000000000005,289.28,91.67999999999999,948.9480000000001,91.62,320.10400000000004,4264.328,180.93,323.75800000000004,116.28,119.53999999999998,1325.718,2157.394,221.96800000000002,1924.913,773.7,5188.52,738.598,741.336,456.272,1374.0010000000002,281.397,2501.264,5463.008000000001,491.55,14.52,212.94,942.9739999999999,763.792,3418.5020000000004,139.8,1828.9496000000001,4107.443,1975.498,109.49600000000001,4.272,792.76,616.14,1645.791,46.67999999999999,739.624,601.0239999999999,79.56,247.40800000000002,1444.104,1038.4720000000002,241.194,763.0740000000001,265.521,2187.206,1960.0120000000002,351.216,292.594,9.510000000000002,273.04,461.326,2285.786,1961.482,1348.344,2613.184,8341.289999999999,5039.994,580.06,193.152,1367.84,228.32800000000003,886.28,477.994,2743.154,2408.7239999999997,262.89,3955.629,3605.6850000000004,451.62,1832.38,842.7819999999999,853.0919999999999,500.342,1439.1060000000002,1838.722,23.104000000000003,565.224,59.74,1451.65,366.81,2070.13,832.3225000000001,121.24,92.52,469.43600000000004,3254.15,22.08,296.304,100.36,3523.875,14228.427999999998,4043.5879999999997,1855.2279999999998,127.94999999999999,4904.66,1275.408,5023.716,133.436,33.552,820.523,9338.636999999999,5335.968,2679.652,1240.266,10662.337000000001,211.96,354.8888,1480.614,773.4399999999999,490.29200000000003,8109.07,987.5320000000002,4.71,598.144,862.683,728.748,191.9,494.71,237.35999999999999,147.392,249.36,2049.3860000000004,1381.164,58.53,2212.182,4525.484,206.724,194.322,136.068,3134.916,641.104,1501.1040000000003,1356.602,223.808,56.49,103.882,447.88000000000005,22.320000000000004,1510.5819999999999,2813.8120000000004,5362.026,4732.08,2126.37,2784.163,6693.7480000000005,1694.564,43.68,1449.1419999999998,333.576,1574.094,2002.5559999999998,8114.548,1054.7612000000001,1034.73,1780.8220000000001,1355.9285,11544.274000000001,3406.855,7226.086,907.5600000000001,1249.6219999999998,1103.298,1363.28,5578.606,4415.695,1705.99,203.65999999999997,2280.83,649.044,219.15400000000002,5624.39,1771.808,505.88,129.98,2963.6420000000003,1970.978,548.3999999999999,1095.12,1522.652,573.336,4938.4045,293.152,7641.658,1264.466,4394.187000000001,45.534,3436.76,6962.4400000000005,1933.44,798.9680000000001,942.1080000000001,1950.2020000000002,2041.414,2966.3880000000004,3732.296,2072.096,2172.6510000000003,5253.2699999999995],\"type\":\"scatter\"},{\"mode\":\"lines\",\"name\":\"Profit\",\"x\":[\"2014-01-03T00:00:00\",\"2014-01-04T00:00:00\",\"2014-01-05T00:00:00\",\"2014-01-06T00:00:00\",\"2014-01-07T00:00:00\",\"2014-01-09T00:00:00\",\"2014-01-10T00:00:00\",\"2014-01-11T00:00:00\",\"2014-01-13T00:00:00\",\"2014-01-14T00:00:00\",\"2014-01-15T00:00:00\",\"2014-01-16T00:00:00\",\"2014-01-18T00:00:00\",\"2014-01-19T00:00:00\",\"2014-01-20T00:00:00\",\"2014-01-21T00:00:00\",\"2014-01-23T00:00:00\",\"2014-01-26T00:00:00\",\"2014-01-27T00:00:00\",\"2014-01-28T00:00:00\",\"2014-01-30T00:00:00\",\"2014-01-31T00:00:00\",\"2014-02-01T00:00:00\",\"2014-02-02T00:00:00\",\"2014-02-03T00:00:00\",\"2014-02-04T00:00:00\",\"2014-02-06T00:00:00\",\"2014-02-07T00:00:00\",\"2014-02-08T00:00:00\",\"2014-02-11T00:00:00\",\"2014-02-12T00:00:00\",\"2014-02-14T00:00:00\",\"2014-02-15T00:00:00\",\"2014-02-16T00:00:00\",\"2014-02-17T00:00:00\",\"2014-02-18T00:00:00\",\"2014-02-20T00:00:00\",\"2014-02-21T00:00:00\",\"2014-02-22T00:00:00\",\"2014-02-23T00:00:00\",\"2014-02-24T00:00:00\",\"2014-02-27T00:00:00\",\"2014-03-01T00:00:00\",\"2014-03-02T00:00:00\",\"2014-03-03T00:00:00\",\"2014-03-04T00:00:00\",\"2014-03-05T00:00:00\",\"2014-03-07T00:00:00\",\"2014-03-10T00:00:00\",\"2014-03-11T00:00:00\",\"2014-03-14T00:00:00\",\"2014-03-15T00:00:00\",\"2014-03-16T00:00:00\",\"2014-03-17T00:00:00\",\"2014-03-18T00:00:00\",\"2014-03-19T00:00:00\",\"2014-03-21T00:00:00\",\"2014-03-22T00:00:00\",\"2014-03-23T00:00:00\",\"2014-03-24T00:00:00\",\"2014-03-25T00:00:00\",\"2014-03-26T00:00:00\",\"2014-03-28T00:00:00\",\"2014-03-29T00:00:00\",\"2014-03-30T00:00:00\",\"2014-03-31T00:00:00\",\"2014-04-01T00:00:00\",\"2014-04-02T00:00:00\",\"2014-04-03T00:00:00\",\"2014-04-04T00:00:00\",\"2014-04-05T00:00:00\",\"2014-04-06T00:00:00\",\"2014-04-07T00:00:00\",\"2014-04-08T00:00:00\",\"2014-04-11T00:00:00\",\"2014-04-12T00:00:00\",\"2014-04-13T00:00:00\",\"2014-04-15T00:00:00\",\"2014-04-16T00:00:00\",\"2014-04-18T00:00:00\",\"2014-04-19T00:00:00\",\"2014-04-20T00:00:00\",\"2014-04-21T00:00:00\",\"2014-04-22T00:00:00\",\"2014-04-23T00:00:00\",\"2014-04-25T00:00:00\",\"2014-04-26T00:00:00\",\"2014-04-28T00:00:00\",\"2014-04-29T00:00:00\",\"2014-04-30T00:00:00\",\"2014-05-02T00:00:00\",\"2014-05-03T00:00:00\",\"2014-05-04T00:00:00\",\"2014-05-05T00:00:00\",\"2014-05-06T00:00:00\",\"2014-05-07T00:00:00\",\"2014-05-08T00:00:00\",\"2014-05-09T00:00:00\",\"2014-05-10T00:00:00\",\"2014-05-11T00:00:00\",\"2014-05-12T00:00:00\",\"2014-05-13T00:00:00\",\"2014-05-14T00:00:00\",\"2014-05-16T00:00:00\",\"2014-05-17T00:00:00\",\"2014-05-18T00:00:00\",\"2014-05-19T00:00:00\",\"2014-05-20T00:00:00\",\"2014-05-21T00:00:00\",\"2014-05-22T00:00:00\",\"2014-05-23T00:00:00\",\"2014-05-24T00:00:00\",\"2014-05-25T00:00:00\",\"2014-05-26T00:00:00\",\"2014-05-27T00:00:00\",\"2014-05-28T00:00:00\",\"2014-05-30T00:00:00\",\"2014-05-31T00:00:00\",\"2014-06-01T00:00:00\",\"2014-06-02T00:00:00\",\"2014-06-03T00:00:00\",\"2014-06-04T00:00:00\",\"2014-06-06T00:00:00\",\"2014-06-07T00:00:00\",\"2014-06-08T00:00:00\",\"2014-06-09T00:00:00\",\"2014-06-10T00:00:00\",\"2014-06-13T00:00:00\",\"2014-06-14T00:00:00\",\"2014-06-15T00:00:00\",\"2014-06-16T00:00:00\",\"2014-06-17T00:00:00\",\"2014-06-18T00:00:00\",\"2014-06-20T00:00:00\",\"2014-06-21T00:00:00\",\"2014-06-22T00:00:00\",\"2014-06-23T00:00:00\",\"2014-06-24T00:00:00\",\"2014-06-25T00:00:00\",\"2014-06-27T00:00:00\",\"2014-06-28T00:00:00\",\"2014-06-29T00:00:00\",\"2014-06-30T00:00:00\",\"2014-07-01T00:00:00\",\"2014-07-02T00:00:00\",\"2014-07-04T00:00:00\",\"2014-07-05T00:00:00\",\"2014-07-06T00:00:00\",\"2014-07-07T00:00:00\",\"2014-07-08T00:00:00\",\"2014-07-09T00:00:00\",\"2014-07-11T00:00:00\",\"2014-07-12T00:00:00\",\"2014-07-13T00:00:00\",\"2014-07-14T00:00:00\",\"2014-07-15T00:00:00\",\"2014-07-18T00:00:00\",\"2014-07-19T00:00:00\",\"2014-07-20T00:00:00\",\"2014-07-21T00:00:00\",\"2014-07-22T00:00:00\",\"2014-07-23T00:00:00\",\"2014-07-25T00:00:00\",\"2014-07-26T00:00:00\",\"2014-07-27T00:00:00\",\"2014-07-28T00:00:00\",\"2014-07-30T00:00:00\",\"2014-08-01T00:00:00\",\"2014-08-02T00:00:00\",\"2014-08-03T00:00:00\",\"2014-08-04T00:00:00\",\"2014-08-05T00:00:00\",\"2014-08-06T00:00:00\",\"2014-08-08T00:00:00\",\"2014-08-09T00:00:00\",\"2014-08-11T00:00:00\",\"2014-08-12T00:00:00\",\"2014-08-15T00:00:00\",\"2014-08-16T00:00:00\",\"2014-08-17T00:00:00\",\"2014-08-19T00:00:00\",\"2014-08-20T00:00:00\",\"2014-08-22T00:00:00\",\"2014-08-23T00:00:00\",\"2014-08-24T00:00:00\",\"2014-08-25T00:00:00\",\"2014-08-26T00:00:00\",\"2014-08-27T00:00:00\",\"2014-08-29T00:00:00\",\"2014-08-30T00:00:00\",\"2014-08-31T00:00:00\",\"2014-09-01T00:00:00\",\"2014-09-02T00:00:00\",\"2014-09-03T00:00:00\",\"2014-09-05T00:00:00\",\"2014-09-06T00:00:00\",\"2014-09-07T00:00:00\",\"2014-09-08T00:00:00\",\"2014-09-09T00:00:00\",\"2014-09-10T00:00:00\",\"2014-09-11T00:00:00\",\"2014-09-12T00:00:00\",\"2014-09-13T00:00:00\",\"2014-09-14T00:00:00\",\"2014-09-15T00:00:00\",\"2014-09-16T00:00:00\",\"2014-09-17T00:00:00\",\"2014-09-19T00:00:00\",\"2014-09-20T00:00:00\",\"2014-09-21T00:00:00\",\"2014-09-22T00:00:00\",\"2014-09-23T00:00:00\",\"2014-09-24T00:00:00\",\"2014-09-25T00:00:00\",\"2014-09-26T00:00:00\",\"2014-09-27T00:00:00\",\"2014-09-28T00:00:00\",\"2014-09-29T00:00:00\",\"2014-09-30T00:00:00\",\"2014-10-01T00:00:00\",\"2014-10-02T00:00:00\",\"2014-10-03T00:00:00\",\"2014-10-04T00:00:00\",\"2014-10-05T00:00:00\",\"2014-10-06T00:00:00\",\"2014-10-07T00:00:00\",\"2014-10-08T00:00:00\",\"2014-10-09T00:00:00\",\"2014-10-10T00:00:00\",\"2014-10-11T00:00:00\",\"2014-10-12T00:00:00\",\"2014-10-13T00:00:00\",\"2014-10-14T00:00:00\",\"2014-10-15T00:00:00\",\"2014-10-16T00:00:00\",\"2014-10-17T00:00:00\",\"2014-10-18T00:00:00\",\"2014-10-19T00:00:00\",\"2014-10-20T00:00:00\",\"2014-10-21T00:00:00\",\"2014-10-22T00:00:00\",\"2014-10-24T00:00:00\",\"2014-10-25T00:00:00\",\"2014-10-26T00:00:00\",\"2014-10-27T00:00:00\",\"2014-10-28T00:00:00\",\"2014-10-29T00:00:00\",\"2014-10-31T00:00:00\",\"2014-11-01T00:00:00\",\"2014-11-02T00:00:00\",\"2014-11-03T00:00:00\",\"2014-11-04T00:00:00\",\"2014-11-05T00:00:00\",\"2014-11-06T00:00:00\",\"2014-11-07T00:00:00\",\"2014-11-08T00:00:00\",\"2014-11-09T00:00:00\",\"2014-11-10T00:00:00\",\"2014-11-11T00:00:00\",\"2014-11-12T00:00:00\",\"2014-11-14T00:00:00\",\"2014-11-15T00:00:00\",\"2014-11-16T00:00:00\",\"2014-11-17T00:00:00\",\"2014-11-18T00:00:00\",\"2014-11-19T00:00:00\",\"2014-11-20T00:00:00\",\"2014-11-21T00:00:00\",\"2014-11-22T00:00:00\",\"2014-11-23T00:00:00\",\"2014-11-24T00:00:00\",\"2014-11-25T00:00:00\",\"2014-11-26T00:00:00\",\"2014-11-27T00:00:00\",\"2014-11-28T00:00:00\",\"2014-11-29T00:00:00\",\"2014-11-30T00:00:00\",\"2014-12-01T00:00:00\",\"2014-12-02T00:00:00\",\"2014-12-03T00:00:00\",\"2014-12-04T00:00:00\",\"2014-12-05T00:00:00\",\"2014-12-06T00:00:00\",\"2014-12-07T00:00:00\",\"2014-12-08T00:00:00\",\"2014-12-09T00:00:00\",\"2014-12-10T00:00:00\",\"2014-12-12T00:00:00\",\"2014-12-13T00:00:00\",\"2014-12-14T00:00:00\",\"2014-12-15T00:00:00\",\"2014-12-16T00:00:00\",\"2014-12-17T00:00:00\",\"2014-12-19T00:00:00\",\"2014-12-20T00:00:00\",\"2014-12-21T00:00:00\",\"2014-12-22T00:00:00\",\"2014-12-23T00:00:00\",\"2014-12-24T00:00:00\",\"2014-12-26T00:00:00\",\"2014-12-27T00:00:00\",\"2014-12-28T00:00:00\",\"2014-12-29T00:00:00\",\"2014-12-30T00:00:00\",\"2014-12-31T00:00:00\"],\"y\":[5.551199999999998,-65.99010000000001,4.884,1358.0523999999998,-71.96209999999999,10.917999999999996,22.6537,3.0813999999999995,673.6385999999999,-53.28560000000001,65.97800000000001,-5.933500000000016,6.486400000000003,-287.9976,584.3694999999999,4.102799999999999,19.2384,150.327,9.682700000000004,1.3256999999999999,11.650200000000002,3.4195999999999884,206.31600000000006,7.152499999999995,31.5614,51.1432,76.48329999999999,59.34880000000001,5.5328,293.52849999999995,-24.29400000000002,120.1764,7.209,-15.658000000000003,8.808799999999998,-13.846800000000002,35.5612,-13.717499999999998,9.3312,-4.522499999999998,18.789299999999997,3.404799999999998,-208.96140000000014,56.0112,-629.7989000000001,20.07779999999996,261.19010000000003,134.1538999999999,4.188599999999905,279.06100000000004,528.5024,33.59799999999998,29.49500000000002,-831.8571999999998,-954.7089000000022,68.63529999999997,1055.3735000000001,-50.93450000000001,126.92240000000002,26.275799999999997,96.6684,30.7658,-11.075399999999945,-152.7156,232.75289999999998,355.1097000000001,26.089599999999997,407.3962,85.6044,105.45209999999999,253.90440000000007,299.51519999999994,305.05600000000004,359.84810000000004,523.2729,152.65809999999996,-384.79419999999993,107.99999999999999,9.768,169.9373999999999,87.5664,-194.45280000000008,5.5755,124.78689999999999,-0.3052999999999848,332.86710000000005,40.74499999999999,292.1672000000001,101.68139999999991,276.49559999999997,91.95719999999999,28.862399999999994,58.5624,34.51309999999998,85.7158,215.8138,239.9960000000001,95.1736,57.82600000000002,-289.6088,-119.22550000000001,-242.28369999999993,23.31599999999999,20.85000000000001,45.839999999999996,-158.00399999999996,35.6472,62.05810000000001,1719.5087,46.581,58.050200000000004,56.977199999999996,-183.78380000000004,130.50859999999997,111.54079999999993,59.30879999999999,222.03579999999988,230.97269999999995,1576.7508999999998,218.36079999999995,96.1086,-6.493200000000024,-265.2367000000001,-230.33159999999998,193.3649999999999,629.0288999999998,240.8595,4.7916,57.4938,-78.241,76.68759999999993,1126.6297,12.232500000000009,-62.9594,849.4221,40.21470000000001,3.180299999999999,0.9611999999999998,49.71719999999997,76.10520000000002,109.762,8.557499999999997,249.55719999999997,75.33319999999998,22.150800000000004,83.94479999999999,182.79359999999997,222.8455,-34.65980000000001,-8.442000000000064,57.20779999999999,537.7298,88.45439999999992,4.390199999999979,-31.10140000000002,3.988200000000001,-21.39479999999999,103.20620000000002,162.1880999999999,34.12600000000003,229.8348,267.48439999999994,384.50839999999965,-3570.9710000000014,70.31220000000002,34.69839999999999,259.8896,66.475,248.02760000000004,-76.7149,833.4829000000001,504.1059000000001,106.6392,1129.1342,700.8937999999999,45.6444,357.593,118.18259999999995,-227.49120000000016,193.18359999999996,175.4619,569.8904999999999,4.8787,160.40159999999997,20.1332,118.8423,92.0889,513.7322999999999,-376.46949999999987,21.485,18.50399999999999,85.9402,916.2511999999999,-4.4639999999999995,21.822999999999997,39.630799999999994,-481.24629999999996,-1452.6877000000025,16.36159999999986,259.62080000000003,21.751499999999986,600.8836000000001,243.82370000000003,1530.7599,30.1722,12.581999999999999,233.5287,-1539.1441000000011,670.1013999999998,877.4457,87.47569999999996,4808.597500000001,8.478399999999993,-87.55940000000002,230.7266,123.10640000000001,64.36859999999997,890.2808999999997,119.49049999999998,0.0,133.76319999999998,-65.42790000000007,45.07089999999994,46.48299999999999,50.0395,31.85600000000001,60.751799999999996,70.00429999999997,169.9526,110.6137999999999,12.877099999999997,454.10329999999993,1059.3592,-0.9321000000000002,91.40880000000001,-36.83800000000003,606.1101999999998,124.54770000000002,-65.98380000000006,26.062299999999915,23.303199999999983,18.559199999999997,9.4491,41.59200000000001,7.6626,93.42820000000003,378.5485999999997,-48.10750000000027,663.3640999999997,286.57539999999995,-108.22130000000008,2443.392,-61.61160000000002,20.9664,155.48629999999997,25.018199999999993,222.6885999999999,436.63309999999996,-449.53110000000095,79.63399999999994,308.9068,400.0780999999999,137.55819999999994,1954.1345999999996,-347.52270000000004,1979.1982000000003,251.172,378.1698999999999,461.8921,-105.23840000000004,-97.3574000000001,148.62719999999993,-62.16120000000004,41.29599999999999,12.473199999999885,104.67719999999998,11.828999999999994,875.1448000000001,111.37489999999994,146.8304,62.3904,425.0407999999999,-19.019000000000013,201.7832,125.92729999999999,125.75129999999989,101.14259999999996,-72.10080000000005,8.731400000000015,2220.5214999999994,-144.73200000000003,415.6423999999999,7.192399999999999,356.9568999999999,1557.0101999999997,178.26479999999987,183.12109999999998,67.37939999999995,264.30799999999994,-3.5974000000001185,-336.3251,706.8573999999998,568.0095,-594.5496000000003,1444.5131],\"type\":\"scatter\"}],                        {\"template\":{\"data\":{\"histogram2dcontour\":[{\"type\":\"histogram2dcontour\",\"colorbar\":{\"outlinewidth\":0,\"ticks\":\"\"},\"colorscale\":[[0.0,\"#0d0887\"],[0.1111111111111111,\"#46039f\"],[0.2222222222222222,\"#7201a8\"],[0.3333333333333333,\"#9c179e\"],[0.4444444444444444,\"#bd3786\"],[0.5555555555555556,\"#d8576b\"],[0.6666666666666666,\"#ed7953\"],[0.7777777777777778,\"#fb9f3a\"],[0.8888888888888888,\"#fdca26\"],[1.0,\"#f0f921\"]]}],\"choropleth\":[{\"type\":\"choropleth\",\"colorbar\":{\"outlinewidth\":0,\"ticks\":\"\"}}],\"histogram2d\":[{\"type\":\"histogram2d\",\"colorbar\":{\"outlinewidth\":0,\"ticks\":\"\"},\"colorscale\":[[0.0,\"#0d0887\"],[0.1111111111111111,\"#46039f\"],[0.2222222222222222,\"#7201a8\"],[0.3333333333333333,\"#9c179e\"],[0.4444444444444444,\"#bd3786\"],[0.5555555555555556,\"#d8576b\"],[0.6666666666666666,\"#ed7953\"],[0.7777777777777778,\"#fb9f3a\"],[0.8888888888888888,\"#fdca26\"],[1.0,\"#f0f921\"]]}],\"heatmap\":[{\"type\":\"heatmap\",\"colorbar\":{\"outlinewidth\":0,\"ticks\":\"\"},\"colorscale\":[[0.0,\"#0d0887\"],[0.1111111111111111,\"#46039f\"],[0.2222222222222222,\"#7201a8\"],[0.3333333333333333,\"#9c179e\"],[0.4444444444444444,\"#bd3786\"],[0.5555555555555556,\"#d8576b\"],[0.6666666666666666,\"#ed7953\"],[0.7777777777777778,\"#fb9f3a\"],[0.8888888888888888,\"#fdca26\"],[1.0,\"#f0f921\"]]}],\"heatmapgl\":[{\"type\":\"heatmapgl\",\"colorbar\":{\"outlinewidth\":0,\"ticks\":\"\"},\"colorscale\":[[0.0,\"#0d0887\"],[0.1111111111111111,\"#46039f\"],[0.2222222222222222,\"#7201a8\"],[0.3333333333333333,\"#9c179e\"],[0.4444444444444444,\"#bd3786\"],[0.5555555555555556,\"#d8576b\"],[0.6666666666666666,\"#ed7953\"],[0.7777777777777778,\"#fb9f3a\"],[0.8888888888888888,\"#fdca26\"],[1.0,\"#f0f921\"]]}],\"contourcarpet\":[{\"type\":\"contourcarpet\",\"colorbar\":{\"outlinewidth\":0,\"ticks\":\"\"}}],\"contour\":[{\"type\":\"contour\",\"colorbar\":{\"outlinewidth\":0,\"ticks\":\"\"},\"colorscale\":[[0.0,\"#0d0887\"],[0.1111111111111111,\"#46039f\"],[0.2222222222222222,\"#7201a8\"],[0.3333333333333333,\"#9c179e\"],[0.4444444444444444,\"#bd3786\"],[0.5555555555555556,\"#d8576b\"],[0.6666666666666666,\"#ed7953\"],[0.7777777777777778,\"#fb9f3a\"],[0.8888888888888888,\"#fdca26\"],[1.0,\"#f0f921\"]]}],\"surface\":[{\"type\":\"surface\",\"colorbar\":{\"outlinewidth\":0,\"ticks\":\"\"},\"colorscale\":[[0.0,\"#0d0887\"],[0.1111111111111111,\"#46039f\"],[0.2222222222222222,\"#7201a8\"],[0.3333333333333333,\"#9c179e\"],[0.4444444444444444,\"#bd3786\"],[0.5555555555555556,\"#d8576b\"],[0.6666666666666666,\"#ed7953\"],[0.7777777777777778,\"#fb9f3a\"],[0.8888888888888888,\"#fdca26\"],[1.0,\"#f0f921\"]]}],\"mesh3d\":[{\"type\":\"mesh3d\",\"colorbar\":{\"outlinewidth\":0,\"ticks\":\"\"}}],\"scatter\":[{\"fillpattern\":{\"fillmode\":\"overlay\",\"size\":10,\"solidity\":0.2},\"type\":\"scatter\"}],\"parcoords\":[{\"type\":\"parcoords\",\"line\":{\"colorbar\":{\"outlinewidth\":0,\"ticks\":\"\"}}}],\"scatterpolargl\":[{\"type\":\"scatterpolargl\",\"marker\":{\"colorbar\":{\"outlinewidth\":0,\"ticks\":\"\"}}}],\"bar\":[{\"error_x\":{\"color\":\"#2a3f5f\"},\"error_y\":{\"color\":\"#2a3f5f\"},\"marker\":{\"line\":{\"color\":\"#E5ECF6\",\"width\":0.5},\"pattern\":{\"fillmode\":\"overlay\",\"size\":10,\"solidity\":0.2}},\"type\":\"bar\"}],\"scattergeo\":[{\"type\":\"scattergeo\",\"marker\":{\"colorbar\":{\"outlinewidth\":0,\"ticks\":\"\"}}}],\"scatterpolar\":[{\"type\":\"scatterpolar\",\"marker\":{\"colorbar\":{\"outlinewidth\":0,\"ticks\":\"\"}}}],\"histogram\":[{\"marker\":{\"pattern\":{\"fillmode\":\"overlay\",\"size\":10,\"solidity\":0.2}},\"type\":\"histogram\"}],\"scattergl\":[{\"type\":\"scattergl\",\"marker\":{\"colorbar\":{\"outlinewidth\":0,\"ticks\":\"\"}}}],\"scatter3d\":[{\"type\":\"scatter3d\",\"line\":{\"colorbar\":{\"outlinewidth\":0,\"ticks\":\"\"}},\"marker\":{\"colorbar\":{\"outlinewidth\":0,\"ticks\":\"\"}}}],\"scattermapbox\":[{\"type\":\"scattermapbox\",\"marker\":{\"colorbar\":{\"outlinewidth\":0,\"ticks\":\"\"}}}],\"scatterternary\":[{\"type\":\"scatterternary\",\"marker\":{\"colorbar\":{\"outlinewidth\":0,\"ticks\":\"\"}}}],\"scattercarpet\":[{\"type\":\"scattercarpet\",\"marker\":{\"colorbar\":{\"outlinewidth\":0,\"ticks\":\"\"}}}],\"carpet\":[{\"aaxis\":{\"endlinecolor\":\"#2a3f5f\",\"gridcolor\":\"white\",\"linecolor\":\"white\",\"minorgridcolor\":\"white\",\"startlinecolor\":\"#2a3f5f\"},\"baxis\":{\"endlinecolor\":\"#2a3f5f\",\"gridcolor\":\"white\",\"linecolor\":\"white\",\"minorgridcolor\":\"white\",\"startlinecolor\":\"#2a3f5f\"},\"type\":\"carpet\"}],\"table\":[{\"cells\":{\"fill\":{\"color\":\"#EBF0F8\"},\"line\":{\"color\":\"white\"}},\"header\":{\"fill\":{\"color\":\"#C8D4E3\"},\"line\":{\"color\":\"white\"}},\"type\":\"table\"}],\"barpolar\":[{\"marker\":{\"line\":{\"color\":\"#E5ECF6\",\"width\":0.5},\"pattern\":{\"fillmode\":\"overlay\",\"size\":10,\"solidity\":0.2}},\"type\":\"barpolar\"}],\"pie\":[{\"automargin\":true,\"type\":\"pie\"}]},\"layout\":{\"autotypenumbers\":\"strict\",\"colorway\":[\"#636efa\",\"#EF553B\",\"#00cc96\",\"#ab63fa\",\"#FFA15A\",\"#19d3f3\",\"#FF6692\",\"#B6E880\",\"#FF97FF\",\"#FECB52\"],\"font\":{\"color\":\"#2a3f5f\"},\"hovermode\":\"closest\",\"hoverlabel\":{\"align\":\"left\"},\"paper_bgcolor\":\"white\",\"plot_bgcolor\":\"#E5ECF6\",\"polar\":{\"bgcolor\":\"#E5ECF6\",\"angularaxis\":{\"gridcolor\":\"white\",\"linecolor\":\"white\",\"ticks\":\"\"},\"radialaxis\":{\"gridcolor\":\"white\",\"linecolor\":\"white\",\"ticks\":\"\"}},\"ternary\":{\"bgcolor\":\"#E5ECF6\",\"aaxis\":{\"gridcolor\":\"white\",\"linecolor\":\"white\",\"ticks\":\"\"},\"baxis\":{\"gridcolor\":\"white\",\"linecolor\":\"white\",\"ticks\":\"\"},\"caxis\":{\"gridcolor\":\"white\",\"linecolor\":\"white\",\"ticks\":\"\"}},\"coloraxis\":{\"colorbar\":{\"outlinewidth\":0,\"ticks\":\"\"}},\"colorscale\":{\"sequential\":[[0.0,\"#0d0887\"],[0.1111111111111111,\"#46039f\"],[0.2222222222222222,\"#7201a8\"],[0.3333333333333333,\"#9c179e\"],[0.4444444444444444,\"#bd3786\"],[0.5555555555555556,\"#d8576b\"],[0.6666666666666666,\"#ed7953\"],[0.7777777777777778,\"#fb9f3a\"],[0.8888888888888888,\"#fdca26\"],[1.0,\"#f0f921\"]],\"sequentialminus\":[[0.0,\"#0d0887\"],[0.1111111111111111,\"#46039f\"],[0.2222222222222222,\"#7201a8\"],[0.3333333333333333,\"#9c179e\"],[0.4444444444444444,\"#bd3786\"],[0.5555555555555556,\"#d8576b\"],[0.6666666666666666,\"#ed7953\"],[0.7777777777777778,\"#fb9f3a\"],[0.8888888888888888,\"#fdca26\"],[1.0,\"#f0f921\"]],\"diverging\":[[0,\"#8e0152\"],[0.1,\"#c51b7d\"],[0.2,\"#de77ae\"],[0.3,\"#f1b6da\"],[0.4,\"#fde0ef\"],[0.5,\"#f7f7f7\"],[0.6,\"#e6f5d0\"],[0.7,\"#b8e186\"],[0.8,\"#7fbc41\"],[0.9,\"#4d9221\"],[1,\"#276419\"]]},\"xaxis\":{\"gridcolor\":\"white\",\"linecolor\":\"white\",\"ticks\":\"\",\"title\":{\"standoff\":15},\"zerolinecolor\":\"white\",\"automargin\":true,\"zerolinewidth\":2},\"yaxis\":{\"gridcolor\":\"white\",\"linecolor\":\"white\",\"ticks\":\"\",\"title\":{\"standoff\":15},\"zerolinecolor\":\"white\",\"automargin\":true,\"zerolinewidth\":2},\"scene\":{\"xaxis\":{\"backgroundcolor\":\"#E5ECF6\",\"gridcolor\":\"white\",\"linecolor\":\"white\",\"showbackground\":true,\"ticks\":\"\",\"zerolinecolor\":\"white\",\"gridwidth\":2},\"yaxis\":{\"backgroundcolor\":\"#E5ECF6\",\"gridcolor\":\"white\",\"linecolor\":\"white\",\"showbackground\":true,\"ticks\":\"\",\"zerolinecolor\":\"white\",\"gridwidth\":2},\"zaxis\":{\"backgroundcolor\":\"#E5ECF6\",\"gridcolor\":\"white\",\"linecolor\":\"white\",\"showbackground\":true,\"ticks\":\"\",\"zerolinecolor\":\"white\",\"gridwidth\":2}},\"shapedefaults\":{\"line\":{\"color\":\"#2a3f5f\"}},\"annotationdefaults\":{\"arrowcolor\":\"#2a3f5f\",\"arrowhead\":0,\"arrowwidth\":1},\"geo\":{\"bgcolor\":\"white\",\"landcolor\":\"#E5ECF6\",\"subunitcolor\":\"white\",\"showland\":true,\"showlakes\":true,\"lakecolor\":\"white\"},\"title\":{\"x\":0.05},\"mapbox\":{\"style\":\"light\"}}}},                        {\"responsive\": true}                    ).then(function(){\n",
       "                            \n",
       "var gd = document.getElementById('a4547653-e371-4b32-a167-2c8197948100');\n",
       "var x = new MutationObserver(function (mutations, observer) {{\n",
       "        var display = window.getComputedStyle(gd).display;\n",
       "        if (!display || display === 'none') {{\n",
       "            console.log([gd, 'removed!']);\n",
       "            Plotly.purge(gd);\n",
       "            observer.disconnect();\n",
       "        }}\n",
       "}});\n",
       "\n",
       "// Listen for the removal of the full notebook cells\n",
       "var notebookContainer = gd.closest('#notebook-container');\n",
       "if (notebookContainer) {{\n",
       "    x.observe(notebookContainer, {childList: true});\n",
       "}}\n",
       "\n",
       "// Listen for the clearing of the current output cell\n",
       "var outputEl = gd.closest('.output');\n",
       "if (outputEl) {{\n",
       "    x.observe(outputEl, {childList: true});\n",
       "}}\n",
       "\n",
       "                        })                };                });            </script>        </div>"
      ]
     },
     "metadata": {},
     "output_type": "display_data"
    }
   ],
   "source": [
    "import plotly.graph_objects as go\n",
    "# Create traces\n",
    "fig = go.Figure()\n",
    "fig.add_trace(go.Scatter(x=df2014['Order Date'], y=df2014.Sales,\n",
    "                    mode='lines',\n",
    "                    name='Sales'))\n",
    "fig.add_trace(go.Scatter(x=df2014['Order Date'], y=df2014.Profit,\n",
    "                    mode='lines',\n",
    "                    name='Profit'))\n",
    "fig.show()"
   ]
  },
  {
   "cell_type": "markdown",
   "metadata": {
    "id": "XeZgfB8Dimh3"
   },
   "source": [
    "## 3. Create a set of 3 interactive histograms showing the distributions of quantity per order for the following states: California, New York and Texas."
   ]
  },
  {
   "cell_type": "code",
   "execution_count": 21,
   "metadata": {},
   "outputs": [],
   "source": [
    "df1 = df.loc[df.State=='California']\n",
    "df2 = df.loc[df.State=='New York']\n",
    "df3 = df.loc[df.State=='Texas']"
   ]
  },
  {
   "cell_type": "code",
   "execution_count": 25,
   "metadata": {},
   "outputs": [
    {
     "data": {
      "application/vnd.plotly.v1+json": {
       "config": {
        "plotlyServerURL": "https://plot.ly"
       },
       "data": [
        {
         "name": "California",
         "opacity": 0.75,
         "type": "histogram",
         "x": [
          2,
          7,
          4,
          6,
          3,
          5,
          9,
          4,
          2,
          3,
          4,
          2,
          3,
          2,
          2,
          6,
          3,
          4,
          5,
          1,
          3,
          2,
          1,
          3,
          2,
          3,
          3,
          1,
          4,
          2,
          3,
          6,
          14,
          3,
          3,
          3,
          7,
          7,
          4,
          6,
          1,
          3,
          2,
          7,
          8,
          7,
          4,
          6,
          3,
          2,
          2,
          1,
          13,
          2,
          4,
          7,
          3,
          3,
          2,
          1,
          5,
          2,
          6,
          1,
          1,
          2,
          4,
          2,
          3,
          3,
          4,
          7,
          3,
          5,
          3,
          5,
          7,
          1,
          9,
          1,
          13,
          2,
          8,
          5,
          4,
          1,
          2,
          3,
          2,
          4,
          6,
          7,
          5,
          6,
          3,
          2,
          5,
          5,
          8,
          4,
          2,
          9,
          3,
          2,
          3,
          2,
          1,
          3,
          2,
          2,
          2,
          4,
          5,
          3,
          7,
          3,
          14,
          4,
          2,
          4,
          2,
          3,
          5,
          8,
          5,
          3,
          5,
          4,
          2,
          7,
          1,
          5,
          3,
          3,
          2,
          10,
          4,
          3,
          4,
          9,
          3,
          3,
          4,
          1,
          2,
          2,
          2,
          4,
          5,
          1,
          2,
          2,
          2,
          7,
          4,
          3,
          4,
          4,
          2,
          2,
          2,
          6,
          2,
          2,
          4,
          3,
          12,
          6,
          7,
          3,
          3,
          2,
          2,
          2,
          4,
          2,
          2,
          4,
          2,
          2,
          2,
          3,
          5,
          3,
          4,
          5,
          2,
          3,
          12,
          1,
          4,
          2,
          4,
          7,
          3,
          1,
          9,
          2,
          5,
          4,
          3,
          1,
          3,
          3,
          2,
          1,
          2,
          2,
          3,
          2,
          4,
          1,
          2,
          1,
          1,
          3,
          5,
          4,
          4,
          8,
          3,
          4,
          4,
          9,
          8,
          2,
          1,
          2,
          6,
          12,
          3,
          3,
          1,
          6,
          4,
          5,
          3,
          5,
          1,
          2,
          2,
          2,
          7,
          3,
          2,
          3,
          2,
          6,
          8,
          5,
          4,
          3,
          8,
          3,
          5,
          3,
          1,
          2,
          5,
          2,
          4,
          3,
          3,
          2,
          5,
          5,
          14,
          2,
          3,
          3,
          4,
          4,
          7,
          3,
          7,
          3,
          3,
          5,
          2,
          2,
          4,
          6,
          2,
          8,
          9,
          7,
          2,
          3,
          4,
          2,
          6,
          3,
          5,
          3,
          1,
          2,
          3,
          5,
          3,
          5,
          1,
          4,
          3,
          2,
          2,
          2,
          7,
          5,
          3,
          2,
          2,
          3,
          3,
          3,
          1,
          3,
          2,
          7,
          5,
          6,
          2,
          2,
          1,
          5,
          14,
          2,
          3,
          2,
          5,
          8,
          2,
          9,
          2,
          2,
          4,
          6,
          3,
          9,
          5,
          5,
          7,
          7,
          7,
          3,
          2,
          3,
          2,
          3,
          5,
          2,
          1,
          4,
          3,
          3,
          2,
          1,
          4,
          3,
          3,
          2,
          3,
          5,
          8,
          3,
          6,
          3,
          4,
          5,
          7,
          2,
          2,
          4,
          6,
          5,
          2,
          4,
          6,
          3,
          5,
          2,
          13,
          3,
          4,
          3,
          9,
          3,
          4,
          3,
          5,
          3,
          7,
          3,
          6,
          2,
          1,
          3,
          3,
          5,
          4,
          3,
          4,
          2,
          1,
          7,
          3,
          1,
          6,
          1,
          3,
          3,
          2,
          3,
          1,
          13,
          2,
          4,
          4,
          1,
          4,
          2,
          2,
          1,
          7,
          2,
          2,
          2,
          1,
          3,
          2,
          5,
          5,
          6,
          3,
          3,
          3,
          2,
          7,
          2,
          1,
          3,
          7,
          2,
          1,
          3,
          5,
          2,
          5,
          6,
          2,
          2,
          3,
          6,
          7,
          5,
          1,
          3,
          1,
          5,
          4,
          9,
          4,
          4,
          2,
          2,
          2,
          2,
          6,
          9,
          7,
          10,
          5,
          3,
          8,
          5,
          2,
          3,
          2,
          1,
          8,
          2,
          5,
          2,
          5,
          7,
          4,
          3,
          6,
          3,
          2,
          1,
          2,
          4,
          5,
          8,
          3,
          6,
          4,
          6,
          3,
          4,
          1,
          1,
          3,
          1,
          2,
          3,
          6,
          2,
          13,
          2,
          5,
          3,
          1,
          4,
          3,
          9,
          5,
          7,
          3,
          2,
          5,
          2,
          2,
          6,
          3,
          11,
          2,
          2,
          3,
          5,
          5,
          2,
          1,
          5,
          3,
          2,
          4,
          2,
          14,
          4,
          7,
          3,
          3,
          6,
          5,
          3,
          3,
          1,
          3,
          5,
          4,
          3,
          7,
          3,
          4,
          1,
          8,
          2,
          7,
          4,
          2,
          3,
          2,
          5,
          2,
          2,
          2,
          1,
          9,
          1,
          7,
          3,
          14,
          5,
          4,
          4,
          2,
          2,
          5,
          2,
          1,
          4,
          5,
          7,
          4,
          3,
          3,
          2,
          2,
          8,
          2,
          10,
          2,
          2,
          2,
          2,
          8,
          2,
          3,
          2,
          2,
          5,
          4,
          5,
          2,
          5,
          3,
          9,
          2,
          3,
          1,
          4,
          8,
          1,
          2,
          8,
          5,
          8,
          5,
          9,
          6,
          3,
          1,
          2,
          7,
          3,
          8,
          5,
          6,
          3,
          5,
          5,
          1,
          3,
          2,
          3,
          5,
          2,
          9,
          3,
          4,
          4,
          4,
          3,
          9,
          3,
          5,
          5,
          3,
          2,
          2,
          6,
          2,
          2,
          9,
          2,
          4,
          2,
          2,
          2,
          8,
          7,
          4,
          2,
          3,
          2,
          9,
          1,
          2,
          5,
          1,
          2,
          2,
          2,
          7,
          6,
          2,
          6,
          5,
          2,
          8,
          4,
          4,
          4,
          5,
          2,
          2,
          6,
          7,
          2,
          4,
          4,
          2,
          2,
          1,
          1,
          2,
          2,
          1,
          5,
          12,
          2,
          1,
          1,
          2,
          8,
          2,
          2,
          1,
          5,
          1,
          4,
          2,
          3,
          3,
          5,
          2,
          4,
          2,
          5,
          3,
          3,
          2,
          5,
          2,
          2,
          2,
          6,
          6,
          7,
          6,
          1,
          3,
          4,
          2,
          2,
          2,
          6,
          5,
          1,
          5,
          4,
          2,
          9,
          1,
          7,
          2,
          4,
          3,
          2,
          6,
          8,
          14,
          5,
          5,
          2,
          3,
          3,
          3,
          3,
          9,
          4,
          5,
          1,
          3,
          11,
          5,
          4,
          5,
          4,
          6,
          3,
          3,
          9,
          6,
          5,
          7,
          3,
          2,
          3,
          3,
          5,
          2,
          2,
          3,
          7,
          8,
          5,
          7,
          7,
          3,
          1,
          4,
          2,
          7,
          2,
          5,
          9,
          2,
          5,
          3,
          8,
          2,
          4,
          3,
          3,
          2,
          9,
          1,
          3,
          4,
          3,
          2,
          7,
          4,
          3,
          3,
          4,
          2,
          3,
          3,
          2,
          3,
          3,
          6,
          6,
          2,
          4,
          4,
          2,
          5,
          3,
          5,
          3,
          3,
          4,
          3,
          2,
          2,
          6,
          2,
          5,
          2,
          1,
          3,
          5,
          2,
          5,
          4,
          2,
          2,
          5,
          7,
          2,
          12,
          3,
          2,
          3,
          3,
          3,
          9,
          6,
          2,
          2,
          5,
          7,
          2,
          3,
          3,
          1,
          1,
          3,
          4,
          3,
          2,
          2,
          3,
          3,
          3,
          3,
          3,
          5,
          3,
          2,
          2,
          7,
          5,
          6,
          3,
          3,
          7,
          2,
          2,
          3,
          2,
          3,
          3,
          8,
          6,
          3,
          5,
          3,
          6,
          1,
          3,
          4,
          3,
          2,
          5,
          4,
          1,
          5,
          3,
          2,
          3,
          7,
          7,
          2,
          7,
          6,
          3,
          3,
          3,
          2,
          1,
          3,
          3,
          3,
          4,
          3,
          3,
          4,
          1,
          2,
          10,
          3,
          3,
          4,
          5,
          2,
          4,
          2,
          3,
          3,
          3,
          3,
          4,
          9,
          5,
          2,
          4,
          1,
          5,
          3,
          5,
          2,
          2,
          2,
          7,
          3,
          1,
          1,
          1,
          2,
          2,
          3,
          3,
          4,
          1,
          5,
          1,
          2,
          3,
          3,
          2,
          2,
          3,
          4,
          3,
          1,
          8,
          3,
          4,
          9,
          5,
          4,
          3,
          5,
          5,
          6,
          5,
          4,
          2,
          3,
          1,
          3,
          8,
          2,
          2,
          2,
          4,
          4,
          2,
          3,
          2,
          2,
          2,
          2,
          2,
          7,
          3,
          3,
          3,
          5,
          5,
          3,
          3,
          2,
          2,
          5,
          1,
          7,
          1,
          3,
          2,
          2,
          3,
          2,
          6,
          5,
          4,
          5,
          4,
          7,
          4,
          2,
          3,
          2,
          4,
          5,
          6,
          3,
          4,
          3,
          2,
          6,
          2,
          5,
          1,
          2,
          2,
          3,
          6,
          3,
          3,
          2,
          5,
          12,
          5,
          5,
          1,
          3,
          4,
          1,
          3,
          1,
          3,
          5,
          6,
          5,
          3,
          5,
          3,
          6,
          8,
          3,
          3,
          3,
          3,
          1,
          2,
          4,
          2,
          2,
          4,
          4,
          2,
          5,
          6,
          4,
          12,
          2,
          1,
          3,
          7,
          6,
          3,
          2,
          5,
          9,
          2,
          5,
          3,
          2,
          2,
          4,
          4,
          2,
          5,
          3,
          6,
          3,
          5,
          5,
          2,
          5,
          1,
          2,
          6,
          2,
          2,
          2,
          3,
          2,
          1,
          2,
          4,
          3,
          7,
          7,
          3,
          5,
          4,
          1,
          3,
          4,
          3,
          3,
          4,
          7,
          1,
          1,
          3,
          1,
          3,
          1,
          4,
          4,
          7,
          1,
          2,
          1,
          2,
          2,
          4,
          2,
          3,
          2,
          1,
          5,
          4,
          4,
          4,
          4,
          5,
          4,
          7,
          5,
          2,
          3,
          2,
          7,
          2,
          9,
          9,
          2,
          3,
          3,
          3,
          3,
          3,
          5,
          1,
          9,
          3,
          4,
          5,
          4,
          1,
          2,
          3,
          3,
          3,
          12,
          2,
          4,
          1,
          5,
          4,
          4,
          5,
          5,
          4,
          3,
          4,
          9,
          2,
          4,
          3,
          6,
          3,
          1,
          2,
          4,
          3,
          7,
          7,
          3,
          4,
          3,
          3,
          6,
          3,
          3,
          5,
          8,
          2,
          7,
          3,
          1,
          3,
          3,
          3,
          3,
          5,
          3,
          3,
          8,
          1,
          1,
          3,
          2,
          3,
          6,
          5,
          2,
          1,
          4,
          2,
          4,
          2,
          3,
          4,
          4,
          2,
          2,
          6,
          10,
          4,
          4,
          2,
          5,
          1,
          9,
          3,
          2,
          1,
          1,
          9,
          5,
          5,
          5,
          3,
          6,
          4,
          8,
          3,
          3,
          3,
          3,
          3,
          5,
          6,
          5,
          4,
          4,
          5,
          1,
          3,
          2,
          2,
          5,
          2,
          8,
          2,
          7,
          7,
          6,
          4,
          7,
          2,
          3,
          5,
          10,
          2,
          1,
          2,
          5,
          5,
          1,
          8,
          3,
          3,
          5,
          3,
          7,
          4,
          6,
          3,
          3,
          2,
          6,
          4,
          6,
          8,
          1,
          2,
          7,
          6,
          4,
          4,
          2,
          2,
          3,
          2,
          3,
          3,
          8,
          5,
          2,
          3,
          3,
          3,
          9,
          4,
          3,
          2,
          1,
          6,
          5,
          1,
          2,
          5,
          1,
          2,
          5,
          1,
          5,
          5,
          2,
          4,
          4,
          3,
          2,
          5,
          11,
          8,
          3,
          2,
          5,
          3,
          2,
          9,
          2,
          9,
          3,
          3,
          5,
          1,
          3,
          4,
          5,
          7,
          3,
          4,
          3,
          7,
          1,
          5,
          2,
          3,
          4,
          5,
          2,
          1,
          3,
          2,
          3,
          5,
          2,
          7,
          2,
          3,
          3,
          1,
          4,
          5,
          2,
          1,
          4,
          5,
          3,
          9,
          7,
          3,
          2,
          2,
          7,
          6,
          1,
          2,
          9,
          3,
          1,
          2,
          4,
          1,
          4,
          3,
          10,
          3,
          3,
          5,
          3,
          3,
          5,
          2,
          2,
          11,
          3,
          3,
          2,
          4,
          2,
          3,
          7,
          4,
          6,
          3,
          3,
          7,
          7,
          7,
          6,
          2,
          7,
          5,
          2,
          3,
          7,
          2,
          4,
          2,
          3,
          4,
          9,
          2,
          9,
          7,
          4,
          2,
          3,
          2,
          4,
          7,
          1,
          7,
          5,
          3,
          3,
          3,
          11,
          3,
          7,
          1,
          3,
          5,
          3,
          5,
          5,
          3,
          2,
          3,
          8,
          3,
          6,
          5,
          5,
          2,
          3,
          4,
          2,
          2,
          8,
          2,
          8,
          4,
          1,
          2,
          6,
          2,
          3,
          4,
          4,
          3,
          3,
          3,
          2,
          1,
          2,
          2,
          6,
          3,
          6,
          3,
          3,
          3,
          2,
          9,
          4,
          3,
          2,
          4,
          3,
          3,
          4,
          7,
          3,
          1,
          5,
          5,
          4,
          3,
          3,
          2,
          4,
          2,
          4,
          5,
          3,
          6,
          4,
          6,
          4,
          3,
          2,
          1,
          4,
          2,
          2,
          3,
          1,
          3,
          3,
          3,
          2,
          2,
          2,
          8,
          5,
          3,
          3,
          3,
          3,
          2,
          2,
          2,
          2,
          2,
          4,
          2,
          2,
          5,
          2,
          3,
          8,
          3,
          2,
          2,
          2,
          3,
          2,
          3,
          9,
          3,
          8,
          2,
          10,
          4,
          5,
          4,
          5,
          3,
          1,
          4,
          1,
          5,
          12,
          6,
          7,
          1,
          3,
          5,
          2,
          9,
          5,
          3,
          2,
          3,
          6,
          2,
          2,
          3,
          3,
          2,
          7,
          7,
          6,
          3,
          5,
          2,
          3,
          11,
          2,
          2,
          2,
          4,
          3,
          3,
          7,
          3,
          3,
          4,
          4,
          7,
          5,
          6,
          7,
          3,
          3,
          7,
          1,
          6,
          4,
          5,
          2,
          6,
          2,
          5,
          2,
          8,
          3,
          4,
          3,
          5,
          3,
          2,
          4,
          9,
          6,
          3,
          4,
          2,
          5,
          3,
          2,
          1,
          6,
          6,
          2,
          3,
          2,
          4,
          4,
          5,
          2,
          2,
          2,
          2,
          2,
          2,
          3,
          3,
          2,
          3,
          2,
          7,
          2,
          3,
          2,
          5,
          3,
          4,
          3,
          2,
          5,
          5,
          4,
          3,
          3,
          2,
          1,
          5,
          2,
          3,
          7,
          3,
          5,
          5,
          4,
          2,
          7,
          2,
          5,
          2,
          5,
          1,
          4,
          3,
          3,
          3,
          3,
          6,
          5,
          2,
          2,
          2,
          1,
          2,
          2,
          5,
          5,
          4,
          4,
          3,
          2,
          3,
          3,
          2,
          6,
          2,
          5,
          2,
          11,
          3,
          2,
          9,
          9,
          3,
          3,
          3,
          4,
          7,
          8,
          5,
          2,
          5,
          2,
          3,
          3,
          1,
          2,
          7,
          5,
          5,
          5,
          3,
          3,
          2,
          5,
          5,
          5,
          3,
          2,
          2,
          4,
          2,
          2,
          7,
          3,
          4,
          4,
          6,
          3,
          2,
          5,
          7,
          5,
          7,
          1,
          5,
          2,
          4,
          1,
          3,
          2,
          1,
          3,
          3,
          3,
          3,
          3,
          4,
          2,
          1,
          1,
          5,
          2,
          5,
          6,
          1,
          8,
          3,
          2,
          3,
          5,
          7,
          4,
          3,
          9,
          9,
          3,
          4,
          7,
          3,
          1,
          6,
          1,
          2,
          5,
          3,
          1,
          2,
          1,
          2,
          2,
          4,
          6,
          8,
          2,
          3,
          4,
          5,
          1,
          6,
          3,
          5,
          3,
          7,
          8,
          2,
          7,
          2,
          5,
          6,
          5,
          3,
          3,
          2,
          2,
          3,
          6,
          3,
          2,
          3,
          1,
          6,
          6,
          8,
          3,
          6,
          1,
          3,
          4,
          2,
          2,
          3,
          2,
          3,
          5,
          3,
          2,
          3,
          3,
          4,
          9,
          2,
          2,
          2,
          8,
          9,
          2,
          6,
          5,
          9,
          2,
          3,
          3,
          2,
          3,
          3,
          7,
          3,
          5,
          4,
          2,
          9,
          3,
          6,
          8,
          2,
          1,
          6,
          6,
          2,
          3,
          4,
          3,
          2,
          3,
          3,
          3,
          2,
          3,
          2,
          8,
          2,
          6,
          5,
          3,
          5,
          2,
          2,
          5,
          5,
          6,
          7,
          3,
          3,
          4,
          3,
          4,
          5,
          2,
          1,
          3,
          8,
          2,
          4,
          5,
          5,
          5,
          2,
          4,
          2,
          2,
          3,
          2,
          7,
          3,
          3,
          5,
          3,
          2,
          3,
          3,
          3,
          5,
          2,
          4,
          7,
          2,
          14,
          9,
          5,
          2,
          1,
          3,
          2,
          5,
          7,
          2,
          2,
          7,
          4,
          14,
          1,
          2,
          2,
          4,
          2
         ]
        },
        {
         "name": "New York",
         "opacity": 0.75,
         "type": "histogram",
         "x": [
          7,
          5,
          6,
          5,
          5,
          2,
          2,
          4,
          1,
          1,
          7,
          2,
          1,
          4,
          6,
          8,
          3,
          5,
          6,
          4,
          3,
          3,
          5,
          2,
          1,
          2,
          6,
          4,
          1,
          1,
          2,
          1,
          4,
          4,
          6,
          2,
          4,
          5,
          2,
          3,
          2,
          8,
          4,
          2,
          3,
          1,
          3,
          3,
          3,
          6,
          3,
          3,
          4,
          1,
          3,
          5,
          5,
          2,
          2,
          5,
          3,
          5,
          4,
          6,
          2,
          7,
          4,
          7,
          3,
          2,
          2,
          9,
          1,
          3,
          7,
          10,
          2,
          8,
          5,
          3,
          2,
          4,
          2,
          4,
          5,
          8,
          1,
          6,
          2,
          3,
          8,
          2,
          3,
          3,
          2,
          3,
          7,
          2,
          7,
          9,
          3,
          4,
          4,
          2,
          3,
          2,
          10,
          2,
          2,
          7,
          3,
          5,
          2,
          5,
          3,
          8,
          4,
          7,
          3,
          3,
          1,
          5,
          2,
          2,
          3,
          2,
          4,
          3,
          3,
          7,
          3,
          6,
          5,
          3,
          2,
          7,
          7,
          3,
          2,
          3,
          5,
          5,
          2,
          3,
          2,
          2,
          3,
          4,
          2,
          8,
          1,
          2,
          7,
          1,
          3,
          5,
          2,
          3,
          3,
          4,
          6,
          1,
          3,
          7,
          7,
          2,
          4,
          3,
          1,
          1,
          4,
          3,
          2,
          2,
          2,
          4,
          3,
          4,
          6,
          9,
          13,
          2,
          3,
          3,
          2,
          4,
          3,
          2,
          3,
          8,
          3,
          5,
          4,
          2,
          4,
          1,
          2,
          2,
          2,
          4,
          7,
          2,
          6,
          3,
          7,
          2,
          4,
          1,
          6,
          3,
          6,
          7,
          1,
          4,
          5,
          3,
          2,
          9,
          2,
          2,
          3,
          2,
          5,
          3,
          3,
          4,
          13,
          2,
          1,
          5,
          4,
          2,
          9,
          2,
          2,
          5,
          5,
          4,
          8,
          4,
          2,
          3,
          1,
          1,
          8,
          3,
          6,
          2,
          4,
          1,
          3,
          7,
          4,
          2,
          5,
          2,
          2,
          2,
          1,
          1,
          8,
          3,
          6,
          5,
          3,
          2,
          3,
          4,
          4,
          5,
          5,
          3,
          2,
          4,
          2,
          1,
          3,
          3,
          9,
          2,
          3,
          5,
          2,
          7,
          3,
          4,
          5,
          5,
          8,
          4,
          1,
          1,
          1,
          1,
          1,
          1,
          4,
          5,
          1,
          7,
          4,
          5,
          3,
          1,
          2,
          4,
          4,
          7,
          4,
          3,
          7,
          4,
          1,
          7,
          9,
          4,
          2,
          2,
          5,
          7,
          5,
          6,
          3,
          3,
          8,
          8,
          1,
          6,
          3,
          5,
          2,
          1,
          1,
          3,
          4,
          4,
          7,
          2,
          1,
          2,
          8,
          7,
          1,
          2,
          7,
          3,
          3,
          1,
          4,
          4,
          8,
          5,
          1,
          4,
          3,
          3,
          4,
          11,
          2,
          6,
          9,
          2,
          3,
          3,
          4,
          1,
          1,
          4,
          3,
          2,
          5,
          11,
          3,
          5,
          2,
          4,
          5,
          4,
          3,
          1,
          1,
          1,
          3,
          2,
          3,
          4,
          1,
          5,
          2,
          11,
          3,
          1,
          3,
          3,
          6,
          4,
          2,
          3,
          3,
          5,
          2,
          2,
          2,
          3,
          2,
          5,
          1,
          3,
          3,
          2,
          1,
          5,
          3,
          3,
          3,
          11,
          6,
          5,
          2,
          3,
          3,
          3,
          3,
          4,
          3,
          3,
          5,
          4,
          2,
          3,
          7,
          5,
          2,
          14,
          3,
          7,
          2,
          4,
          5,
          3,
          2,
          10,
          3,
          3,
          3,
          4,
          1,
          1,
          3,
          4,
          9,
          3,
          2,
          3,
          3,
          3,
          2,
          6,
          6,
          2,
          9,
          3,
          3,
          3,
          2,
          2,
          1,
          7,
          2,
          4,
          2,
          5,
          8,
          7,
          2,
          3,
          3,
          10,
          3,
          2,
          2,
          3,
          3,
          2,
          3,
          3,
          3,
          3,
          2,
          3,
          4,
          3,
          3,
          3,
          1,
          2,
          6,
          7,
          4,
          7,
          2,
          2,
          2,
          2,
          9,
          2,
          3,
          7,
          2,
          3,
          3,
          3,
          3,
          3,
          3,
          9,
          2,
          2,
          2,
          5,
          7,
          6,
          2,
          5,
          4,
          2,
          3,
          11,
          1,
          3,
          2,
          7,
          5,
          2,
          5,
          3,
          2,
          3,
          9,
          4,
          3,
          3,
          4,
          2,
          2,
          1,
          3,
          3,
          1,
          4,
          3,
          3,
          1,
          3,
          3,
          6,
          3,
          5,
          3,
          3,
          2,
          5,
          2,
          6,
          5,
          4,
          2,
          3,
          3,
          1,
          3,
          7,
          9,
          9,
          7,
          4,
          2,
          1,
          3,
          9,
          7,
          4,
          3,
          5,
          6,
          8,
          1,
          3,
          1,
          3,
          3,
          2,
          2,
          1,
          2,
          5,
          1,
          3,
          5,
          5,
          6,
          2,
          4,
          1,
          8,
          5,
          3,
          2,
          2,
          1,
          5,
          4,
          5,
          6,
          2,
          5,
          1,
          4,
          1,
          2,
          1,
          13,
          3,
          6,
          5,
          2,
          3,
          2,
          6,
          2,
          3,
          2,
          3,
          2,
          5,
          4,
          3,
          3,
          6,
          5,
          2,
          5,
          5,
          6,
          7,
          1,
          3,
          3,
          3,
          2,
          7,
          3,
          3,
          9,
          3,
          5,
          10,
          3,
          9,
          4,
          3,
          2,
          3,
          4,
          3,
          4,
          9,
          4,
          4,
          1,
          2,
          2,
          4,
          5,
          7,
          2,
          4,
          6,
          5,
          3,
          2,
          2,
          4,
          2,
          5,
          2,
          1,
          2,
          2,
          2,
          5,
          2,
          5,
          4,
          3,
          6,
          2,
          3,
          3,
          3,
          2,
          9,
          2,
          4,
          2,
          1,
          3,
          2,
          11,
          2,
          5,
          3,
          3,
          4,
          3,
          6,
          14,
          3,
          2,
          3,
          6,
          6,
          9,
          3,
          8,
          4,
          3,
          4,
          1,
          1,
          3,
          4,
          5,
          4,
          2,
          4,
          5,
          1,
          2,
          1,
          1,
          2,
          2,
          4,
          3,
          3,
          2,
          2,
          6,
          4,
          1,
          2,
          5,
          5,
          3,
          2,
          5,
          3,
          1,
          7,
          2,
          6,
          4,
          5,
          3,
          5,
          3,
          3,
          4,
          3,
          10,
          4,
          9,
          2,
          4,
          14,
          3,
          6,
          3,
          3,
          1,
          5,
          1,
          3,
          2,
          3,
          2,
          4,
          9,
          3,
          4,
          7,
          1,
          7,
          12,
          2,
          5,
          4,
          3,
          5,
          7,
          3,
          3,
          4,
          3,
          2,
          5,
          2,
          1,
          7,
          6,
          4,
          2,
          3,
          2,
          3,
          3,
          3,
          3,
          2,
          3,
          2,
          3,
          6,
          2,
          5,
          9,
          6,
          2,
          2,
          4,
          2,
          2,
          5,
          2,
          3,
          3,
          3,
          3,
          3,
          8,
          3,
          2,
          2,
          2,
          5,
          2,
          3,
          8,
          2,
          2,
          3,
          3,
          1,
          5,
          5,
          2,
          3,
          2,
          2,
          3,
          2,
          6,
          2,
          3,
          4,
          2,
          3,
          2,
          4,
          6,
          3,
          6,
          3,
          4,
          3,
          3,
          6,
          2,
          3,
          2,
          5,
          9,
          1,
          3,
          2,
          2,
          3,
          4,
          6,
          4,
          3,
          2,
          3,
          1,
          3,
          1,
          2,
          2,
          5,
          3,
          4,
          3,
          5,
          3,
          3,
          1,
          3,
          3,
          2,
          4,
          5,
          5,
          8,
          1,
          3,
          2,
          1,
          1,
          4,
          5,
          7,
          3,
          5,
          2,
          4,
          3,
          2,
          3,
          2,
          8,
          5,
          9,
          6,
          2,
          6,
          9,
          6,
          4,
          5,
          2,
          3,
          4,
          2,
          2,
          2,
          3,
          2,
          3,
          3,
          7,
          8,
          7,
          2,
          1,
          2,
          5,
          4,
          5,
          3,
          2,
          3,
          4,
          2,
          3,
          3,
          2,
          6,
          2,
          2,
          2,
          2,
          7,
          13,
          2,
          2,
          3,
          2,
          4,
          2,
          2,
          4,
          3,
          5,
          2,
          2,
          4,
          6,
          2,
          2,
          4,
          3,
          2,
          6,
          2,
          3,
          3,
          3,
          2,
          2,
          4,
          1,
          3,
          9,
          2,
          2,
          7,
          1,
          3,
          4,
          3,
          2,
          4,
          2,
          3,
          11,
          6,
          4,
          2,
          1,
          3,
          5,
          1,
          7,
          1,
          3,
          7,
          6,
          3,
          4,
          8,
          2,
          2,
          4,
          2,
          5,
          3,
          1,
          7,
          2,
          6,
          4,
          5,
          2,
          2,
          6,
          1,
          9,
          2,
          6,
          9,
          1,
          6,
          5,
          2,
          3,
          6,
          2,
          2,
          2,
          2,
          1,
          2,
          5,
          9,
          1,
          7,
          2,
          9,
          14,
          7,
          2,
          2,
          3,
          1,
          5,
          5,
          1,
          2,
          2,
          3,
          6,
          3,
          3,
          6,
          3,
          1,
          4,
          4,
          3,
          1,
          4,
          3,
          3,
          13,
          3,
          2,
          2,
          1,
          1,
          2,
          3,
          2,
          3,
          2,
          5,
          7,
          3,
          1,
          2,
          7,
          2,
          1,
          1,
          3,
          1,
          8,
          2,
          4,
          3,
          5,
          4,
          7,
          5,
          4,
          2,
          10,
          4
         ],
         "xaxis": "x2"
        },
        {
         "name": "Texas",
         "opacity": 0.75,
         "type": "histogram",
         "x": [
          5,
          3,
          3,
          7,
          5,
          9,
          3,
          3,
          4,
          3,
          3,
          3,
          5,
          7,
          3,
          3,
          8,
          3,
          9,
          6,
          5,
          3,
          4,
          3,
          3,
          2,
          2,
          2,
          3,
          7,
          5,
          7,
          4,
          5,
          3,
          3,
          3,
          4,
          3,
          4,
          4,
          2,
          6,
          8,
          2,
          1,
          2,
          2,
          1,
          2,
          9,
          2,
          1,
          4,
          3,
          2,
          3,
          3,
          4,
          7,
          14,
          5,
          3,
          3,
          3,
          3,
          3,
          3,
          3,
          3,
          2,
          1,
          5,
          1,
          1,
          4,
          4,
          3,
          2,
          5,
          4,
          2,
          4,
          3,
          3,
          1,
          2,
          2,
          2,
          4,
          3,
          2,
          2,
          1,
          3,
          3,
          6,
          2,
          5,
          12,
          3,
          5,
          2,
          2,
          3,
          9,
          4,
          4,
          2,
          5,
          3,
          1,
          3,
          7,
          7,
          3,
          2,
          3,
          11,
          1,
          2,
          7,
          3,
          4,
          3,
          5,
          4,
          2,
          6,
          4,
          7,
          1,
          5,
          3,
          9,
          3,
          3,
          5,
          4,
          4,
          2,
          2,
          6,
          3,
          4,
          3,
          5,
          7,
          5,
          4,
          1,
          4,
          2,
          5,
          3,
          3,
          2,
          3,
          3,
          3,
          4,
          2,
          3,
          2,
          6,
          3,
          4,
          2,
          3,
          2,
          11,
          6,
          6,
          2,
          4,
          7,
          2,
          4,
          3,
          3,
          7,
          4,
          2,
          5,
          4,
          4,
          3,
          2,
          7,
          3,
          9,
          3,
          4,
          2,
          5,
          4,
          3,
          2,
          3,
          2,
          1,
          3,
          2,
          1,
          5,
          4,
          3,
          3,
          3,
          2,
          5,
          1,
          7,
          2,
          3,
          4,
          2,
          1,
          3,
          5,
          2,
          5,
          7,
          4,
          4,
          7,
          4,
          1,
          2,
          5,
          5,
          4,
          9,
          9,
          2,
          3,
          6,
          2,
          8,
          7,
          2,
          3,
          1,
          5,
          2,
          3,
          3,
          3,
          1,
          3,
          4,
          2,
          7,
          3,
          5,
          7,
          5,
          2,
          2,
          2,
          8,
          2,
          2,
          2,
          2,
          2,
          1,
          3,
          2,
          4,
          8,
          3,
          7,
          2,
          8,
          3,
          5,
          2,
          4,
          2,
          2,
          2,
          4,
          4,
          4,
          5,
          3,
          1,
          2,
          2,
          3,
          2,
          7,
          5,
          3,
          3,
          7,
          3,
          6,
          3,
          7,
          3,
          1,
          2,
          5,
          7,
          3,
          5,
          3,
          4,
          8,
          3,
          2,
          3,
          3,
          2,
          5,
          5,
          1,
          3,
          5,
          8,
          2,
          3,
          3,
          2,
          3,
          9,
          6,
          3,
          2,
          1,
          4,
          2,
          2,
          6,
          4,
          2,
          3,
          2,
          4,
          4,
          3,
          2,
          2,
          7,
          6,
          8,
          8,
          4,
          1,
          1,
          2,
          6,
          4,
          3,
          2,
          3,
          7,
          8,
          7,
          5,
          2,
          1,
          5,
          1,
          3,
          10,
          3,
          5,
          3,
          7,
          3,
          3,
          2,
          2,
          3,
          5,
          1,
          7,
          3,
          3,
          2,
          2,
          2,
          2,
          6,
          8,
          10,
          3,
          3,
          3,
          4,
          7,
          2,
          8,
          3,
          9,
          4,
          2,
          1,
          1,
          8,
          2,
          3,
          3,
          6,
          3,
          1,
          1,
          4,
          5,
          7,
          1,
          2,
          5,
          9,
          9,
          3,
          6,
          1,
          8,
          3,
          7,
          3,
          5,
          2,
          2,
          2,
          1,
          5,
          3,
          7,
          2,
          5,
          2,
          4,
          5,
          9,
          3,
          5,
          6,
          1,
          2,
          2,
          3,
          6,
          3,
          9,
          3,
          10,
          7,
          5,
          2,
          2,
          2,
          1,
          2,
          7,
          2,
          3,
          4,
          5,
          3,
          4,
          3,
          7,
          8,
          6,
          6,
          2,
          5,
          3,
          1,
          3,
          7,
          3,
          2,
          9,
          5,
          3,
          9,
          5,
          5,
          2,
          2,
          2,
          1,
          3,
          3,
          2,
          3,
          6,
          2,
          3,
          1,
          3,
          7,
          3,
          3,
          2,
          1,
          4,
          3,
          6,
          2,
          5,
          6,
          2,
          2,
          3,
          5,
          6,
          2,
          1,
          5,
          4,
          2,
          5,
          1,
          3,
          7,
          2,
          5,
          8,
          2,
          7,
          2,
          1,
          3,
          4,
          2,
          3,
          1,
          6,
          3,
          7,
          1,
          1,
          5,
          2,
          2,
          3,
          1,
          7,
          4,
          5,
          6,
          6,
          2,
          4,
          2,
          4,
          3,
          7,
          3,
          1,
          5,
          1,
          4,
          4,
          3,
          2,
          4,
          7,
          1,
          8,
          2,
          2,
          2,
          9,
          5,
          6,
          9,
          2,
          1,
          6,
          2,
          5,
          4,
          3,
          6,
          3,
          5,
          5,
          5,
          7,
          4,
          1,
          3,
          4,
          5,
          3,
          5,
          5,
          4,
          2,
          8,
          1,
          2,
          5,
          5,
          3,
          1,
          2,
          4,
          5,
          1,
          1,
          2,
          10,
          2,
          3,
          2,
          3,
          3,
          5,
          4,
          5,
          2,
          3,
          3,
          3,
          1,
          4,
          7,
          2,
          5,
          2,
          4,
          5,
          5,
          5,
          3,
          2,
          1,
          5,
          3,
          3,
          2,
          5,
          3,
          6,
          1,
          3,
          2,
          2,
          2,
          2,
          1,
          2,
          2,
          9,
          2,
          1,
          5,
          4,
          2,
          2,
          3,
          5,
          5,
          3,
          8,
          3,
          2,
          3,
          4,
          2,
          4,
          2,
          3,
          2,
          6,
          3,
          3,
          2,
          2,
          2,
          3,
          3,
          5,
          5,
          6,
          3,
          5,
          2,
          2,
          6,
          7,
          5,
          1,
          3,
          3,
          4,
          2,
          5,
          7,
          7,
          3,
          2,
          3,
          7,
          5,
          4,
          1,
          4,
          4,
          2,
          3,
          2,
          2,
          4,
          2,
          4,
          2,
          3,
          3,
          2,
          2,
          1,
          10,
          1,
          6,
          9,
          7,
          2,
          5,
          3,
          5,
          6,
          6,
          3,
          2,
          3,
          5,
          5,
          1,
          6,
          3,
          5,
          3,
          2,
          9,
          2,
          5,
          5,
          4,
          4,
          5,
          14,
          2,
          1,
          6,
          4,
          5,
          4,
          2,
          5,
          3,
          2,
          3,
          3,
          3,
          5,
          3,
          3,
          3,
          2,
          3,
          4,
          2,
          3,
          3,
          3,
          2,
          7,
          3,
          2,
          2,
          2,
          2,
          5,
          3,
          1,
          1,
          3,
          7,
          4,
          5,
          4,
          10,
          3,
          4,
          2,
          5,
          2,
          4,
          3,
          5,
          3,
          3,
          8,
          3,
          1,
          4,
          9,
          5,
          3,
          2,
          6,
          3,
          4,
          3,
          9,
          3,
          3,
          2,
          3,
          4,
          3,
          5,
          3,
          2,
          2,
          5,
          2,
          3,
          5,
          5,
          5,
          4,
          6,
          7,
          5,
          8,
          5,
          8,
          4,
          2,
          8,
          3,
          2,
          9,
          2,
          2,
          2,
          3,
          5,
          5,
          8,
          2,
          6,
          7,
          4,
          5,
          7,
          5,
          2,
          1,
          2,
          6,
          4,
          4,
          2,
          6,
          4,
          2,
          3,
          5,
          5,
          5,
          4,
          2,
          7,
          2,
          1,
          2,
          1,
          2,
          2,
          7,
          2,
          3,
          2,
          5,
          7,
          2,
          3,
          3,
          2,
          5,
          10,
          2,
          3,
          2,
          7,
          2,
          3,
          4,
          3,
          7,
          2,
          1,
          6,
          2,
          4,
          3,
          3,
          3,
          1,
          2,
          4,
          3,
          2,
          1,
          2,
          3,
          3,
          1,
          2,
          4,
          1,
          3,
          4,
          5,
          2,
          2,
          6,
          8,
          5,
          1,
          4,
          2,
          10,
          9,
          1,
          2,
          2,
          3,
          5,
          2,
          3,
          2,
          1,
          2,
          5,
          5,
          5,
          8,
          2,
          3,
          3,
          2,
          1,
          9,
          3,
          5,
          5,
          8,
          3,
          4,
          9,
          5,
          2,
          5,
          3,
          1,
          2,
          6,
          2,
          1,
          3,
          4,
          7,
          1,
          4,
          2,
          3,
          2,
          5,
          7,
          2,
          4,
          2
         ],
         "xaxis": "x3"
        }
       ],
       "layout": {
        "template": {
         "data": {
          "bar": [
           {
            "error_x": {
             "color": "#2a3f5f"
            },
            "error_y": {
             "color": "#2a3f5f"
            },
            "marker": {
             "line": {
              "color": "#E5ECF6",
              "width": 0.5
             },
             "pattern": {
              "fillmode": "overlay",
              "size": 10,
              "solidity": 0.2
             }
            },
            "type": "bar"
           }
          ],
          "barpolar": [
           {
            "marker": {
             "line": {
              "color": "#E5ECF6",
              "width": 0.5
             },
             "pattern": {
              "fillmode": "overlay",
              "size": 10,
              "solidity": 0.2
             }
            },
            "type": "barpolar"
           }
          ],
          "carpet": [
           {
            "aaxis": {
             "endlinecolor": "#2a3f5f",
             "gridcolor": "white",
             "linecolor": "white",
             "minorgridcolor": "white",
             "startlinecolor": "#2a3f5f"
            },
            "baxis": {
             "endlinecolor": "#2a3f5f",
             "gridcolor": "white",
             "linecolor": "white",
             "minorgridcolor": "white",
             "startlinecolor": "#2a3f5f"
            },
            "type": "carpet"
           }
          ],
          "choropleth": [
           {
            "colorbar": {
             "outlinewidth": 0,
             "ticks": ""
            },
            "type": "choropleth"
           }
          ],
          "contour": [
           {
            "colorbar": {
             "outlinewidth": 0,
             "ticks": ""
            },
            "colorscale": [
             [
              0,
              "#0d0887"
             ],
             [
              0.1111111111111111,
              "#46039f"
             ],
             [
              0.2222222222222222,
              "#7201a8"
             ],
             [
              0.3333333333333333,
              "#9c179e"
             ],
             [
              0.4444444444444444,
              "#bd3786"
             ],
             [
              0.5555555555555556,
              "#d8576b"
             ],
             [
              0.6666666666666666,
              "#ed7953"
             ],
             [
              0.7777777777777778,
              "#fb9f3a"
             ],
             [
              0.8888888888888888,
              "#fdca26"
             ],
             [
              1,
              "#f0f921"
             ]
            ],
            "type": "contour"
           }
          ],
          "contourcarpet": [
           {
            "colorbar": {
             "outlinewidth": 0,
             "ticks": ""
            },
            "type": "contourcarpet"
           }
          ],
          "heatmap": [
           {
            "colorbar": {
             "outlinewidth": 0,
             "ticks": ""
            },
            "colorscale": [
             [
              0,
              "#0d0887"
             ],
             [
              0.1111111111111111,
              "#46039f"
             ],
             [
              0.2222222222222222,
              "#7201a8"
             ],
             [
              0.3333333333333333,
              "#9c179e"
             ],
             [
              0.4444444444444444,
              "#bd3786"
             ],
             [
              0.5555555555555556,
              "#d8576b"
             ],
             [
              0.6666666666666666,
              "#ed7953"
             ],
             [
              0.7777777777777778,
              "#fb9f3a"
             ],
             [
              0.8888888888888888,
              "#fdca26"
             ],
             [
              1,
              "#f0f921"
             ]
            ],
            "type": "heatmap"
           }
          ],
          "heatmapgl": [
           {
            "colorbar": {
             "outlinewidth": 0,
             "ticks": ""
            },
            "colorscale": [
             [
              0,
              "#0d0887"
             ],
             [
              0.1111111111111111,
              "#46039f"
             ],
             [
              0.2222222222222222,
              "#7201a8"
             ],
             [
              0.3333333333333333,
              "#9c179e"
             ],
             [
              0.4444444444444444,
              "#bd3786"
             ],
             [
              0.5555555555555556,
              "#d8576b"
             ],
             [
              0.6666666666666666,
              "#ed7953"
             ],
             [
              0.7777777777777778,
              "#fb9f3a"
             ],
             [
              0.8888888888888888,
              "#fdca26"
             ],
             [
              1,
              "#f0f921"
             ]
            ],
            "type": "heatmapgl"
           }
          ],
          "histogram": [
           {
            "marker": {
             "pattern": {
              "fillmode": "overlay",
              "size": 10,
              "solidity": 0.2
             }
            },
            "type": "histogram"
           }
          ],
          "histogram2d": [
           {
            "colorbar": {
             "outlinewidth": 0,
             "ticks": ""
            },
            "colorscale": [
             [
              0,
              "#0d0887"
             ],
             [
              0.1111111111111111,
              "#46039f"
             ],
             [
              0.2222222222222222,
              "#7201a8"
             ],
             [
              0.3333333333333333,
              "#9c179e"
             ],
             [
              0.4444444444444444,
              "#bd3786"
             ],
             [
              0.5555555555555556,
              "#d8576b"
             ],
             [
              0.6666666666666666,
              "#ed7953"
             ],
             [
              0.7777777777777778,
              "#fb9f3a"
             ],
             [
              0.8888888888888888,
              "#fdca26"
             ],
             [
              1,
              "#f0f921"
             ]
            ],
            "type": "histogram2d"
           }
          ],
          "histogram2dcontour": [
           {
            "colorbar": {
             "outlinewidth": 0,
             "ticks": ""
            },
            "colorscale": [
             [
              0,
              "#0d0887"
             ],
             [
              0.1111111111111111,
              "#46039f"
             ],
             [
              0.2222222222222222,
              "#7201a8"
             ],
             [
              0.3333333333333333,
              "#9c179e"
             ],
             [
              0.4444444444444444,
              "#bd3786"
             ],
             [
              0.5555555555555556,
              "#d8576b"
             ],
             [
              0.6666666666666666,
              "#ed7953"
             ],
             [
              0.7777777777777778,
              "#fb9f3a"
             ],
             [
              0.8888888888888888,
              "#fdca26"
             ],
             [
              1,
              "#f0f921"
             ]
            ],
            "type": "histogram2dcontour"
           }
          ],
          "mesh3d": [
           {
            "colorbar": {
             "outlinewidth": 0,
             "ticks": ""
            },
            "type": "mesh3d"
           }
          ],
          "parcoords": [
           {
            "line": {
             "colorbar": {
              "outlinewidth": 0,
              "ticks": ""
             }
            },
            "type": "parcoords"
           }
          ],
          "pie": [
           {
            "automargin": true,
            "type": "pie"
           }
          ],
          "scatter": [
           {
            "fillpattern": {
             "fillmode": "overlay",
             "size": 10,
             "solidity": 0.2
            },
            "type": "scatter"
           }
          ],
          "scatter3d": [
           {
            "line": {
             "colorbar": {
              "outlinewidth": 0,
              "ticks": ""
             }
            },
            "marker": {
             "colorbar": {
              "outlinewidth": 0,
              "ticks": ""
             }
            },
            "type": "scatter3d"
           }
          ],
          "scattercarpet": [
           {
            "marker": {
             "colorbar": {
              "outlinewidth": 0,
              "ticks": ""
             }
            },
            "type": "scattercarpet"
           }
          ],
          "scattergeo": [
           {
            "marker": {
             "colorbar": {
              "outlinewidth": 0,
              "ticks": ""
             }
            },
            "type": "scattergeo"
           }
          ],
          "scattergl": [
           {
            "marker": {
             "colorbar": {
              "outlinewidth": 0,
              "ticks": ""
             }
            },
            "type": "scattergl"
           }
          ],
          "scattermapbox": [
           {
            "marker": {
             "colorbar": {
              "outlinewidth": 0,
              "ticks": ""
             }
            },
            "type": "scattermapbox"
           }
          ],
          "scatterpolar": [
           {
            "marker": {
             "colorbar": {
              "outlinewidth": 0,
              "ticks": ""
             }
            },
            "type": "scatterpolar"
           }
          ],
          "scatterpolargl": [
           {
            "marker": {
             "colorbar": {
              "outlinewidth": 0,
              "ticks": ""
             }
            },
            "type": "scatterpolargl"
           }
          ],
          "scatterternary": [
           {
            "marker": {
             "colorbar": {
              "outlinewidth": 0,
              "ticks": ""
             }
            },
            "type": "scatterternary"
           }
          ],
          "surface": [
           {
            "colorbar": {
             "outlinewidth": 0,
             "ticks": ""
            },
            "colorscale": [
             [
              0,
              "#0d0887"
             ],
             [
              0.1111111111111111,
              "#46039f"
             ],
             [
              0.2222222222222222,
              "#7201a8"
             ],
             [
              0.3333333333333333,
              "#9c179e"
             ],
             [
              0.4444444444444444,
              "#bd3786"
             ],
             [
              0.5555555555555556,
              "#d8576b"
             ],
             [
              0.6666666666666666,
              "#ed7953"
             ],
             [
              0.7777777777777778,
              "#fb9f3a"
             ],
             [
              0.8888888888888888,
              "#fdca26"
             ],
             [
              1,
              "#f0f921"
             ]
            ],
            "type": "surface"
           }
          ],
          "table": [
           {
            "cells": {
             "fill": {
              "color": "#EBF0F8"
             },
             "line": {
              "color": "white"
             }
            },
            "header": {
             "fill": {
              "color": "#C8D4E3"
             },
             "line": {
              "color": "white"
             }
            },
            "type": "table"
           }
          ]
         },
         "layout": {
          "annotationdefaults": {
           "arrowcolor": "#2a3f5f",
           "arrowhead": 0,
           "arrowwidth": 1
          },
          "autotypenumbers": "strict",
          "coloraxis": {
           "colorbar": {
            "outlinewidth": 0,
            "ticks": ""
           }
          },
          "colorscale": {
           "diverging": [
            [
             0,
             "#8e0152"
            ],
            [
             0.1,
             "#c51b7d"
            ],
            [
             0.2,
             "#de77ae"
            ],
            [
             0.3,
             "#f1b6da"
            ],
            [
             0.4,
             "#fde0ef"
            ],
            [
             0.5,
             "#f7f7f7"
            ],
            [
             0.6,
             "#e6f5d0"
            ],
            [
             0.7,
             "#b8e186"
            ],
            [
             0.8,
             "#7fbc41"
            ],
            [
             0.9,
             "#4d9221"
            ],
            [
             1,
             "#276419"
            ]
           ],
           "sequential": [
            [
             0,
             "#0d0887"
            ],
            [
             0.1111111111111111,
             "#46039f"
            ],
            [
             0.2222222222222222,
             "#7201a8"
            ],
            [
             0.3333333333333333,
             "#9c179e"
            ],
            [
             0.4444444444444444,
             "#bd3786"
            ],
            [
             0.5555555555555556,
             "#d8576b"
            ],
            [
             0.6666666666666666,
             "#ed7953"
            ],
            [
             0.7777777777777778,
             "#fb9f3a"
            ],
            [
             0.8888888888888888,
             "#fdca26"
            ],
            [
             1,
             "#f0f921"
            ]
           ],
           "sequentialminus": [
            [
             0,
             "#0d0887"
            ],
            [
             0.1111111111111111,
             "#46039f"
            ],
            [
             0.2222222222222222,
             "#7201a8"
            ],
            [
             0.3333333333333333,
             "#9c179e"
            ],
            [
             0.4444444444444444,
             "#bd3786"
            ],
            [
             0.5555555555555556,
             "#d8576b"
            ],
            [
             0.6666666666666666,
             "#ed7953"
            ],
            [
             0.7777777777777778,
             "#fb9f3a"
            ],
            [
             0.8888888888888888,
             "#fdca26"
            ],
            [
             1,
             "#f0f921"
            ]
           ]
          },
          "colorway": [
           "#636efa",
           "#EF553B",
           "#00cc96",
           "#ab63fa",
           "#FFA15A",
           "#19d3f3",
           "#FF6692",
           "#B6E880",
           "#FF97FF",
           "#FECB52"
          ],
          "font": {
           "color": "#2a3f5f"
          },
          "geo": {
           "bgcolor": "white",
           "lakecolor": "white",
           "landcolor": "#E5ECF6",
           "showlakes": true,
           "showland": true,
           "subunitcolor": "white"
          },
          "hoverlabel": {
           "align": "left"
          },
          "hovermode": "closest",
          "mapbox": {
           "style": "light"
          },
          "paper_bgcolor": "white",
          "plot_bgcolor": "#E5ECF6",
          "polar": {
           "angularaxis": {
            "gridcolor": "white",
            "linecolor": "white",
            "ticks": ""
           },
           "bgcolor": "#E5ECF6",
           "radialaxis": {
            "gridcolor": "white",
            "linecolor": "white",
            "ticks": ""
           }
          },
          "scene": {
           "xaxis": {
            "backgroundcolor": "#E5ECF6",
            "gridcolor": "white",
            "gridwidth": 2,
            "linecolor": "white",
            "showbackground": true,
            "ticks": "",
            "zerolinecolor": "white"
           },
           "yaxis": {
            "backgroundcolor": "#E5ECF6",
            "gridcolor": "white",
            "gridwidth": 2,
            "linecolor": "white",
            "showbackground": true,
            "ticks": "",
            "zerolinecolor": "white"
           },
           "zaxis": {
            "backgroundcolor": "#E5ECF6",
            "gridcolor": "white",
            "gridwidth": 2,
            "linecolor": "white",
            "showbackground": true,
            "ticks": "",
            "zerolinecolor": "white"
           }
          },
          "shapedefaults": {
           "line": {
            "color": "#2a3f5f"
           }
          },
          "ternary": {
           "aaxis": {
            "gridcolor": "white",
            "linecolor": "white",
            "ticks": ""
           },
           "baxis": {
            "gridcolor": "white",
            "linecolor": "white",
            "ticks": ""
           },
           "bgcolor": "#E5ECF6",
           "caxis": {
            "gridcolor": "white",
            "linecolor": "white",
            "ticks": ""
           }
          },
          "title": {
           "x": 0.05
          },
          "xaxis": {
           "automargin": true,
           "gridcolor": "white",
           "linecolor": "white",
           "ticks": "",
           "title": {
            "standoff": 15
           },
           "zerolinecolor": "white",
           "zerolinewidth": 2
          },
          "yaxis": {
           "automargin": true,
           "gridcolor": "white",
           "linecolor": "white",
           "ticks": "",
           "title": {
            "standoff": 15
           },
           "zerolinecolor": "white",
           "zerolinewidth": 2
          }
         }
        },
        "title": {
         "text": "Quantity per order"
        },
        "xaxis": {
         "domain": [
          0,
          0.3
         ]
        },
        "xaxis2": {
         "domain": [
          0.35,
          0.65
         ]
        },
        "xaxis3": {
         "domain": [
          0.7,
          1
         ]
        }
       }
      },
      "text/html": [
       "<div>                            <div id=\"6fd7fbb4-0085-402c-864b-4fb814bf6f07\" class=\"plotly-graph-div\" style=\"height:525px; width:100%;\"></div>            <script type=\"text/javascript\">                require([\"plotly\"], function(Plotly) {                    window.PLOTLYENV=window.PLOTLYENV || {};                                    if (document.getElementById(\"6fd7fbb4-0085-402c-864b-4fb814bf6f07\")) {                    Plotly.newPlot(                        \"6fd7fbb4-0085-402c-864b-4fb814bf6f07\",                        [{\"name\":\"California\",\"opacity\":0.75,\"x\":[2,7,4,6,3,5,9,4,2,3,4,2,3,2,2,6,3,4,5,1,3,2,1,3,2,3,3,1,4,2,3,6,14,3,3,3,7,7,4,6,1,3,2,7,8,7,4,6,3,2,2,1,13,2,4,7,3,3,2,1,5,2,6,1,1,2,4,2,3,3,4,7,3,5,3,5,7,1,9,1,13,2,8,5,4,1,2,3,2,4,6,7,5,6,3,2,5,5,8,4,2,9,3,2,3,2,1,3,2,2,2,4,5,3,7,3,14,4,2,4,2,3,5,8,5,3,5,4,2,7,1,5,3,3,2,10,4,3,4,9,3,3,4,1,2,2,2,4,5,1,2,2,2,7,4,3,4,4,2,2,2,6,2,2,4,3,12,6,7,3,3,2,2,2,4,2,2,4,2,2,2,3,5,3,4,5,2,3,12,1,4,2,4,7,3,1,9,2,5,4,3,1,3,3,2,1,2,2,3,2,4,1,2,1,1,3,5,4,4,8,3,4,4,9,8,2,1,2,6,12,3,3,1,6,4,5,3,5,1,2,2,2,7,3,2,3,2,6,8,5,4,3,8,3,5,3,1,2,5,2,4,3,3,2,5,5,14,2,3,3,4,4,7,3,7,3,3,5,2,2,4,6,2,8,9,7,2,3,4,2,6,3,5,3,1,2,3,5,3,5,1,4,3,2,2,2,7,5,3,2,2,3,3,3,1,3,2,7,5,6,2,2,1,5,14,2,3,2,5,8,2,9,2,2,4,6,3,9,5,5,7,7,7,3,2,3,2,3,5,2,1,4,3,3,2,1,4,3,3,2,3,5,8,3,6,3,4,5,7,2,2,4,6,5,2,4,6,3,5,2,13,3,4,3,9,3,4,3,5,3,7,3,6,2,1,3,3,5,4,3,4,2,1,7,3,1,6,1,3,3,2,3,1,13,2,4,4,1,4,2,2,1,7,2,2,2,1,3,2,5,5,6,3,3,3,2,7,2,1,3,7,2,1,3,5,2,5,6,2,2,3,6,7,5,1,3,1,5,4,9,4,4,2,2,2,2,6,9,7,10,5,3,8,5,2,3,2,1,8,2,5,2,5,7,4,3,6,3,2,1,2,4,5,8,3,6,4,6,3,4,1,1,3,1,2,3,6,2,13,2,5,3,1,4,3,9,5,7,3,2,5,2,2,6,3,11,2,2,3,5,5,2,1,5,3,2,4,2,14,4,7,3,3,6,5,3,3,1,3,5,4,3,7,3,4,1,8,2,7,4,2,3,2,5,2,2,2,1,9,1,7,3,14,5,4,4,2,2,5,2,1,4,5,7,4,3,3,2,2,8,2,10,2,2,2,2,8,2,3,2,2,5,4,5,2,5,3,9,2,3,1,4,8,1,2,8,5,8,5,9,6,3,1,2,7,3,8,5,6,3,5,5,1,3,2,3,5,2,9,3,4,4,4,3,9,3,5,5,3,2,2,6,2,2,9,2,4,2,2,2,8,7,4,2,3,2,9,1,2,5,1,2,2,2,7,6,2,6,5,2,8,4,4,4,5,2,2,6,7,2,4,4,2,2,1,1,2,2,1,5,12,2,1,1,2,8,2,2,1,5,1,4,2,3,3,5,2,4,2,5,3,3,2,5,2,2,2,6,6,7,6,1,3,4,2,2,2,6,5,1,5,4,2,9,1,7,2,4,3,2,6,8,14,5,5,2,3,3,3,3,9,4,5,1,3,11,5,4,5,4,6,3,3,9,6,5,7,3,2,3,3,5,2,2,3,7,8,5,7,7,3,1,4,2,7,2,5,9,2,5,3,8,2,4,3,3,2,9,1,3,4,3,2,7,4,3,3,4,2,3,3,2,3,3,6,6,2,4,4,2,5,3,5,3,3,4,3,2,2,6,2,5,2,1,3,5,2,5,4,2,2,5,7,2,12,3,2,3,3,3,9,6,2,2,5,7,2,3,3,1,1,3,4,3,2,2,3,3,3,3,3,5,3,2,2,7,5,6,3,3,7,2,2,3,2,3,3,8,6,3,5,3,6,1,3,4,3,2,5,4,1,5,3,2,3,7,7,2,7,6,3,3,3,2,1,3,3,3,4,3,3,4,1,2,10,3,3,4,5,2,4,2,3,3,3,3,4,9,5,2,4,1,5,3,5,2,2,2,7,3,1,1,1,2,2,3,3,4,1,5,1,2,3,3,2,2,3,4,3,1,8,3,4,9,5,4,3,5,5,6,5,4,2,3,1,3,8,2,2,2,4,4,2,3,2,2,2,2,2,7,3,3,3,5,5,3,3,2,2,5,1,7,1,3,2,2,3,2,6,5,4,5,4,7,4,2,3,2,4,5,6,3,4,3,2,6,2,5,1,2,2,3,6,3,3,2,5,12,5,5,1,3,4,1,3,1,3,5,6,5,3,5,3,6,8,3,3,3,3,1,2,4,2,2,4,4,2,5,6,4,12,2,1,3,7,6,3,2,5,9,2,5,3,2,2,4,4,2,5,3,6,3,5,5,2,5,1,2,6,2,2,2,3,2,1,2,4,3,7,7,3,5,4,1,3,4,3,3,4,7,1,1,3,1,3,1,4,4,7,1,2,1,2,2,4,2,3,2,1,5,4,4,4,4,5,4,7,5,2,3,2,7,2,9,9,2,3,3,3,3,3,5,1,9,3,4,5,4,1,2,3,3,3,12,2,4,1,5,4,4,5,5,4,3,4,9,2,4,3,6,3,1,2,4,3,7,7,3,4,3,3,6,3,3,5,8,2,7,3,1,3,3,3,3,5,3,3,8,1,1,3,2,3,6,5,2,1,4,2,4,2,3,4,4,2,2,6,10,4,4,2,5,1,9,3,2,1,1,9,5,5,5,3,6,4,8,3,3,3,3,3,5,6,5,4,4,5,1,3,2,2,5,2,8,2,7,7,6,4,7,2,3,5,10,2,1,2,5,5,1,8,3,3,5,3,7,4,6,3,3,2,6,4,6,8,1,2,7,6,4,4,2,2,3,2,3,3,8,5,2,3,3,3,9,4,3,2,1,6,5,1,2,5,1,2,5,1,5,5,2,4,4,3,2,5,11,8,3,2,5,3,2,9,2,9,3,3,5,1,3,4,5,7,3,4,3,7,1,5,2,3,4,5,2,1,3,2,3,5,2,7,2,3,3,1,4,5,2,1,4,5,3,9,7,3,2,2,7,6,1,2,9,3,1,2,4,1,4,3,10,3,3,5,3,3,5,2,2,11,3,3,2,4,2,3,7,4,6,3,3,7,7,7,6,2,7,5,2,3,7,2,4,2,3,4,9,2,9,7,4,2,3,2,4,7,1,7,5,3,3,3,11,3,7,1,3,5,3,5,5,3,2,3,8,3,6,5,5,2,3,4,2,2,8,2,8,4,1,2,6,2,3,4,4,3,3,3,2,1,2,2,6,3,6,3,3,3,2,9,4,3,2,4,3,3,4,7,3,1,5,5,4,3,3,2,4,2,4,5,3,6,4,6,4,3,2,1,4,2,2,3,1,3,3,3,2,2,2,8,5,3,3,3,3,2,2,2,2,2,4,2,2,5,2,3,8,3,2,2,2,3,2,3,9,3,8,2,10,4,5,4,5,3,1,4,1,5,12,6,7,1,3,5,2,9,5,3,2,3,6,2,2,3,3,2,7,7,6,3,5,2,3,11,2,2,2,4,3,3,7,3,3,4,4,7,5,6,7,3,3,7,1,6,4,5,2,6,2,5,2,8,3,4,3,5,3,2,4,9,6,3,4,2,5,3,2,1,6,6,2,3,2,4,4,5,2,2,2,2,2,2,3,3,2,3,2,7,2,3,2,5,3,4,3,2,5,5,4,3,3,2,1,5,2,3,7,3,5,5,4,2,7,2,5,2,5,1,4,3,3,3,3,6,5,2,2,2,1,2,2,5,5,4,4,3,2,3,3,2,6,2,5,2,11,3,2,9,9,3,3,3,4,7,8,5,2,5,2,3,3,1,2,7,5,5,5,3,3,2,5,5,5,3,2,2,4,2,2,7,3,4,4,6,3,2,5,7,5,7,1,5,2,4,1,3,2,1,3,3,3,3,3,4,2,1,1,5,2,5,6,1,8,3,2,3,5,7,4,3,9,9,3,4,7,3,1,6,1,2,5,3,1,2,1,2,2,4,6,8,2,3,4,5,1,6,3,5,3,7,8,2,7,2,5,6,5,3,3,2,2,3,6,3,2,3,1,6,6,8,3,6,1,3,4,2,2,3,2,3,5,3,2,3,3,4,9,2,2,2,8,9,2,6,5,9,2,3,3,2,3,3,7,3,5,4,2,9,3,6,8,2,1,6,6,2,3,4,3,2,3,3,3,2,3,2,8,2,6,5,3,5,2,2,5,5,6,7,3,3,4,3,4,5,2,1,3,8,2,4,5,5,5,2,4,2,2,3,2,7,3,3,5,3,2,3,3,3,5,2,4,7,2,14,9,5,2,1,3,2,5,7,2,2,7,4,14,1,2,2,4,2],\"type\":\"histogram\"},{\"name\":\"New York\",\"opacity\":0.75,\"x\":[7,5,6,5,5,2,2,4,1,1,7,2,1,4,6,8,3,5,6,4,3,3,5,2,1,2,6,4,1,1,2,1,4,4,6,2,4,5,2,3,2,8,4,2,3,1,3,3,3,6,3,3,4,1,3,5,5,2,2,5,3,5,4,6,2,7,4,7,3,2,2,9,1,3,7,10,2,8,5,3,2,4,2,4,5,8,1,6,2,3,8,2,3,3,2,3,7,2,7,9,3,4,4,2,3,2,10,2,2,7,3,5,2,5,3,8,4,7,3,3,1,5,2,2,3,2,4,3,3,7,3,6,5,3,2,7,7,3,2,3,5,5,2,3,2,2,3,4,2,8,1,2,7,1,3,5,2,3,3,4,6,1,3,7,7,2,4,3,1,1,4,3,2,2,2,4,3,4,6,9,13,2,3,3,2,4,3,2,3,8,3,5,4,2,4,1,2,2,2,4,7,2,6,3,7,2,4,1,6,3,6,7,1,4,5,3,2,9,2,2,3,2,5,3,3,4,13,2,1,5,4,2,9,2,2,5,5,4,8,4,2,3,1,1,8,3,6,2,4,1,3,7,4,2,5,2,2,2,1,1,8,3,6,5,3,2,3,4,4,5,5,3,2,4,2,1,3,3,9,2,3,5,2,7,3,4,5,5,8,4,1,1,1,1,1,1,4,5,1,7,4,5,3,1,2,4,4,7,4,3,7,4,1,7,9,4,2,2,5,7,5,6,3,3,8,8,1,6,3,5,2,1,1,3,4,4,7,2,1,2,8,7,1,2,7,3,3,1,4,4,8,5,1,4,3,3,4,11,2,6,9,2,3,3,4,1,1,4,3,2,5,11,3,5,2,4,5,4,3,1,1,1,3,2,3,4,1,5,2,11,3,1,3,3,6,4,2,3,3,5,2,2,2,3,2,5,1,3,3,2,1,5,3,3,3,11,6,5,2,3,3,3,3,4,3,3,5,4,2,3,7,5,2,14,3,7,2,4,5,3,2,10,3,3,3,4,1,1,3,4,9,3,2,3,3,3,2,6,6,2,9,3,3,3,2,2,1,7,2,4,2,5,8,7,2,3,3,10,3,2,2,3,3,2,3,3,3,3,2,3,4,3,3,3,1,2,6,7,4,7,2,2,2,2,9,2,3,7,2,3,3,3,3,3,3,9,2,2,2,5,7,6,2,5,4,2,3,11,1,3,2,7,5,2,5,3,2,3,9,4,3,3,4,2,2,1,3,3,1,4,3,3,1,3,3,6,3,5,3,3,2,5,2,6,5,4,2,3,3,1,3,7,9,9,7,4,2,1,3,9,7,4,3,5,6,8,1,3,1,3,3,2,2,1,2,5,1,3,5,5,6,2,4,1,8,5,3,2,2,1,5,4,5,6,2,5,1,4,1,2,1,13,3,6,5,2,3,2,6,2,3,2,3,2,5,4,3,3,6,5,2,5,5,6,7,1,3,3,3,2,7,3,3,9,3,5,10,3,9,4,3,2,3,4,3,4,9,4,4,1,2,2,4,5,7,2,4,6,5,3,2,2,4,2,5,2,1,2,2,2,5,2,5,4,3,6,2,3,3,3,2,9,2,4,2,1,3,2,11,2,5,3,3,4,3,6,14,3,2,3,6,6,9,3,8,4,3,4,1,1,3,4,5,4,2,4,5,1,2,1,1,2,2,4,3,3,2,2,6,4,1,2,5,5,3,2,5,3,1,7,2,6,4,5,3,5,3,3,4,3,10,4,9,2,4,14,3,6,3,3,1,5,1,3,2,3,2,4,9,3,4,7,1,7,12,2,5,4,3,5,7,3,3,4,3,2,5,2,1,7,6,4,2,3,2,3,3,3,3,2,3,2,3,6,2,5,9,6,2,2,4,2,2,5,2,3,3,3,3,3,8,3,2,2,2,5,2,3,8,2,2,3,3,1,5,5,2,3,2,2,3,2,6,2,3,4,2,3,2,4,6,3,6,3,4,3,3,6,2,3,2,5,9,1,3,2,2,3,4,6,4,3,2,3,1,3,1,2,2,5,3,4,3,5,3,3,1,3,3,2,4,5,5,8,1,3,2,1,1,4,5,7,3,5,2,4,3,2,3,2,8,5,9,6,2,6,9,6,4,5,2,3,4,2,2,2,3,2,3,3,7,8,7,2,1,2,5,4,5,3,2,3,4,2,3,3,2,6,2,2,2,2,7,13,2,2,3,2,4,2,2,4,3,5,2,2,4,6,2,2,4,3,2,6,2,3,3,3,2,2,4,1,3,9,2,2,7,1,3,4,3,2,4,2,3,11,6,4,2,1,3,5,1,7,1,3,7,6,3,4,8,2,2,4,2,5,3,1,7,2,6,4,5,2,2,6,1,9,2,6,9,1,6,5,2,3,6,2,2,2,2,1,2,5,9,1,7,2,9,14,7,2,2,3,1,5,5,1,2,2,3,6,3,3,6,3,1,4,4,3,1,4,3,3,13,3,2,2,1,1,2,3,2,3,2,5,7,3,1,2,7,2,1,1,3,1,8,2,4,3,5,4,7,5,4,2,10,4],\"xaxis\":\"x2\",\"type\":\"histogram\"},{\"name\":\"Texas\",\"opacity\":0.75,\"x\":[5,3,3,7,5,9,3,3,4,3,3,3,5,7,3,3,8,3,9,6,5,3,4,3,3,2,2,2,3,7,5,7,4,5,3,3,3,4,3,4,4,2,6,8,2,1,2,2,1,2,9,2,1,4,3,2,3,3,4,7,14,5,3,3,3,3,3,3,3,3,2,1,5,1,1,4,4,3,2,5,4,2,4,3,3,1,2,2,2,4,3,2,2,1,3,3,6,2,5,12,3,5,2,2,3,9,4,4,2,5,3,1,3,7,7,3,2,3,11,1,2,7,3,4,3,5,4,2,6,4,7,1,5,3,9,3,3,5,4,4,2,2,6,3,4,3,5,7,5,4,1,4,2,5,3,3,2,3,3,3,4,2,3,2,6,3,4,2,3,2,11,6,6,2,4,7,2,4,3,3,7,4,2,5,4,4,3,2,7,3,9,3,4,2,5,4,3,2,3,2,1,3,2,1,5,4,3,3,3,2,5,1,7,2,3,4,2,1,3,5,2,5,7,4,4,7,4,1,2,5,5,4,9,9,2,3,6,2,8,7,2,3,1,5,2,3,3,3,1,3,4,2,7,3,5,7,5,2,2,2,8,2,2,2,2,2,1,3,2,4,8,3,7,2,8,3,5,2,4,2,2,2,4,4,4,5,3,1,2,2,3,2,7,5,3,3,7,3,6,3,7,3,1,2,5,7,3,5,3,4,8,3,2,3,3,2,5,5,1,3,5,8,2,3,3,2,3,9,6,3,2,1,4,2,2,6,4,2,3,2,4,4,3,2,2,7,6,8,8,4,1,1,2,6,4,3,2,3,7,8,7,5,2,1,5,1,3,10,3,5,3,7,3,3,2,2,3,5,1,7,3,3,2,2,2,2,6,8,10,3,3,3,4,7,2,8,3,9,4,2,1,1,8,2,3,3,6,3,1,1,4,5,7,1,2,5,9,9,3,6,1,8,3,7,3,5,2,2,2,1,5,3,7,2,5,2,4,5,9,3,5,6,1,2,2,3,6,3,9,3,10,7,5,2,2,2,1,2,7,2,3,4,5,3,4,3,7,8,6,6,2,5,3,1,3,7,3,2,9,5,3,9,5,5,2,2,2,1,3,3,2,3,6,2,3,1,3,7,3,3,2,1,4,3,6,2,5,6,2,2,3,5,6,2,1,5,4,2,5,1,3,7,2,5,8,2,7,2,1,3,4,2,3,1,6,3,7,1,1,5,2,2,3,1,7,4,5,6,6,2,4,2,4,3,7,3,1,5,1,4,4,3,2,4,7,1,8,2,2,2,9,5,6,9,2,1,6,2,5,4,3,6,3,5,5,5,7,4,1,3,4,5,3,5,5,4,2,8,1,2,5,5,3,1,2,4,5,1,1,2,10,2,3,2,3,3,5,4,5,2,3,3,3,1,4,7,2,5,2,4,5,5,5,3,2,1,5,3,3,2,5,3,6,1,3,2,2,2,2,1,2,2,9,2,1,5,4,2,2,3,5,5,3,8,3,2,3,4,2,4,2,3,2,6,3,3,2,2,2,3,3,5,5,6,3,5,2,2,6,7,5,1,3,3,4,2,5,7,7,3,2,3,7,5,4,1,4,4,2,3,2,2,4,2,4,2,3,3,2,2,1,10,1,6,9,7,2,5,3,5,6,6,3,2,3,5,5,1,6,3,5,3,2,9,2,5,5,4,4,5,14,2,1,6,4,5,4,2,5,3,2,3,3,3,5,3,3,3,2,3,4,2,3,3,3,2,7,3,2,2,2,2,5,3,1,1,3,7,4,5,4,10,3,4,2,5,2,4,3,5,3,3,8,3,1,4,9,5,3,2,6,3,4,3,9,3,3,2,3,4,3,5,3,2,2,5,2,3,5,5,5,4,6,7,5,8,5,8,4,2,8,3,2,9,2,2,2,3,5,5,8,2,6,7,4,5,7,5,2,1,2,6,4,4,2,6,4,2,3,5,5,5,4,2,7,2,1,2,1,2,2,7,2,3,2,5,7,2,3,3,2,5,10,2,3,2,7,2,3,4,3,7,2,1,6,2,4,3,3,3,1,2,4,3,2,1,2,3,3,1,2,4,1,3,4,5,2,2,6,8,5,1,4,2,10,9,1,2,2,3,5,2,3,2,1,2,5,5,5,8,2,3,3,2,1,9,3,5,5,8,3,4,9,5,2,5,3,1,2,6,2,1,3,4,7,1,4,2,3,2,5,7,2,4,2],\"xaxis\":\"x3\",\"type\":\"histogram\"}],                        {\"title\":{\"text\":\"Quantity per order\"},\"xaxis\":{\"domain\":[0,0.3]},\"xaxis2\":{\"domain\":[0.35,0.65]},\"xaxis3\":{\"domain\":[0.7,1]},\"template\":{\"data\":{\"histogram2dcontour\":[{\"type\":\"histogram2dcontour\",\"colorbar\":{\"outlinewidth\":0,\"ticks\":\"\"},\"colorscale\":[[0.0,\"#0d0887\"],[0.1111111111111111,\"#46039f\"],[0.2222222222222222,\"#7201a8\"],[0.3333333333333333,\"#9c179e\"],[0.4444444444444444,\"#bd3786\"],[0.5555555555555556,\"#d8576b\"],[0.6666666666666666,\"#ed7953\"],[0.7777777777777778,\"#fb9f3a\"],[0.8888888888888888,\"#fdca26\"],[1.0,\"#f0f921\"]]}],\"choropleth\":[{\"type\":\"choropleth\",\"colorbar\":{\"outlinewidth\":0,\"ticks\":\"\"}}],\"histogram2d\":[{\"type\":\"histogram2d\",\"colorbar\":{\"outlinewidth\":0,\"ticks\":\"\"},\"colorscale\":[[0.0,\"#0d0887\"],[0.1111111111111111,\"#46039f\"],[0.2222222222222222,\"#7201a8\"],[0.3333333333333333,\"#9c179e\"],[0.4444444444444444,\"#bd3786\"],[0.5555555555555556,\"#d8576b\"],[0.6666666666666666,\"#ed7953\"],[0.7777777777777778,\"#fb9f3a\"],[0.8888888888888888,\"#fdca26\"],[1.0,\"#f0f921\"]]}],\"heatmap\":[{\"type\":\"heatmap\",\"colorbar\":{\"outlinewidth\":0,\"ticks\":\"\"},\"colorscale\":[[0.0,\"#0d0887\"],[0.1111111111111111,\"#46039f\"],[0.2222222222222222,\"#7201a8\"],[0.3333333333333333,\"#9c179e\"],[0.4444444444444444,\"#bd3786\"],[0.5555555555555556,\"#d8576b\"],[0.6666666666666666,\"#ed7953\"],[0.7777777777777778,\"#fb9f3a\"],[0.8888888888888888,\"#fdca26\"],[1.0,\"#f0f921\"]]}],\"heatmapgl\":[{\"type\":\"heatmapgl\",\"colorbar\":{\"outlinewidth\":0,\"ticks\":\"\"},\"colorscale\":[[0.0,\"#0d0887\"],[0.1111111111111111,\"#46039f\"],[0.2222222222222222,\"#7201a8\"],[0.3333333333333333,\"#9c179e\"],[0.4444444444444444,\"#bd3786\"],[0.5555555555555556,\"#d8576b\"],[0.6666666666666666,\"#ed7953\"],[0.7777777777777778,\"#fb9f3a\"],[0.8888888888888888,\"#fdca26\"],[1.0,\"#f0f921\"]]}],\"contourcarpet\":[{\"type\":\"contourcarpet\",\"colorbar\":{\"outlinewidth\":0,\"ticks\":\"\"}}],\"contour\":[{\"type\":\"contour\",\"colorbar\":{\"outlinewidth\":0,\"ticks\":\"\"},\"colorscale\":[[0.0,\"#0d0887\"],[0.1111111111111111,\"#46039f\"],[0.2222222222222222,\"#7201a8\"],[0.3333333333333333,\"#9c179e\"],[0.4444444444444444,\"#bd3786\"],[0.5555555555555556,\"#d8576b\"],[0.6666666666666666,\"#ed7953\"],[0.7777777777777778,\"#fb9f3a\"],[0.8888888888888888,\"#fdca26\"],[1.0,\"#f0f921\"]]}],\"surface\":[{\"type\":\"surface\",\"colorbar\":{\"outlinewidth\":0,\"ticks\":\"\"},\"colorscale\":[[0.0,\"#0d0887\"],[0.1111111111111111,\"#46039f\"],[0.2222222222222222,\"#7201a8\"],[0.3333333333333333,\"#9c179e\"],[0.4444444444444444,\"#bd3786\"],[0.5555555555555556,\"#d8576b\"],[0.6666666666666666,\"#ed7953\"],[0.7777777777777778,\"#fb9f3a\"],[0.8888888888888888,\"#fdca26\"],[1.0,\"#f0f921\"]]}],\"mesh3d\":[{\"type\":\"mesh3d\",\"colorbar\":{\"outlinewidth\":0,\"ticks\":\"\"}}],\"scatter\":[{\"fillpattern\":{\"fillmode\":\"overlay\",\"size\":10,\"solidity\":0.2},\"type\":\"scatter\"}],\"parcoords\":[{\"type\":\"parcoords\",\"line\":{\"colorbar\":{\"outlinewidth\":0,\"ticks\":\"\"}}}],\"scatterpolargl\":[{\"type\":\"scatterpolargl\",\"marker\":{\"colorbar\":{\"outlinewidth\":0,\"ticks\":\"\"}}}],\"bar\":[{\"error_x\":{\"color\":\"#2a3f5f\"},\"error_y\":{\"color\":\"#2a3f5f\"},\"marker\":{\"line\":{\"color\":\"#E5ECF6\",\"width\":0.5},\"pattern\":{\"fillmode\":\"overlay\",\"size\":10,\"solidity\":0.2}},\"type\":\"bar\"}],\"scattergeo\":[{\"type\":\"scattergeo\",\"marker\":{\"colorbar\":{\"outlinewidth\":0,\"ticks\":\"\"}}}],\"scatterpolar\":[{\"type\":\"scatterpolar\",\"marker\":{\"colorbar\":{\"outlinewidth\":0,\"ticks\":\"\"}}}],\"histogram\":[{\"marker\":{\"pattern\":{\"fillmode\":\"overlay\",\"size\":10,\"solidity\":0.2}},\"type\":\"histogram\"}],\"scattergl\":[{\"type\":\"scattergl\",\"marker\":{\"colorbar\":{\"outlinewidth\":0,\"ticks\":\"\"}}}],\"scatter3d\":[{\"type\":\"scatter3d\",\"line\":{\"colorbar\":{\"outlinewidth\":0,\"ticks\":\"\"}},\"marker\":{\"colorbar\":{\"outlinewidth\":0,\"ticks\":\"\"}}}],\"scattermapbox\":[{\"type\":\"scattermapbox\",\"marker\":{\"colorbar\":{\"outlinewidth\":0,\"ticks\":\"\"}}}],\"scatterternary\":[{\"type\":\"scatterternary\",\"marker\":{\"colorbar\":{\"outlinewidth\":0,\"ticks\":\"\"}}}],\"scattercarpet\":[{\"type\":\"scattercarpet\",\"marker\":{\"colorbar\":{\"outlinewidth\":0,\"ticks\":\"\"}}}],\"carpet\":[{\"aaxis\":{\"endlinecolor\":\"#2a3f5f\",\"gridcolor\":\"white\",\"linecolor\":\"white\",\"minorgridcolor\":\"white\",\"startlinecolor\":\"#2a3f5f\"},\"baxis\":{\"endlinecolor\":\"#2a3f5f\",\"gridcolor\":\"white\",\"linecolor\":\"white\",\"minorgridcolor\":\"white\",\"startlinecolor\":\"#2a3f5f\"},\"type\":\"carpet\"}],\"table\":[{\"cells\":{\"fill\":{\"color\":\"#EBF0F8\"},\"line\":{\"color\":\"white\"}},\"header\":{\"fill\":{\"color\":\"#C8D4E3\"},\"line\":{\"color\":\"white\"}},\"type\":\"table\"}],\"barpolar\":[{\"marker\":{\"line\":{\"color\":\"#E5ECF6\",\"width\":0.5},\"pattern\":{\"fillmode\":\"overlay\",\"size\":10,\"solidity\":0.2}},\"type\":\"barpolar\"}],\"pie\":[{\"automargin\":true,\"type\":\"pie\"}]},\"layout\":{\"autotypenumbers\":\"strict\",\"colorway\":[\"#636efa\",\"#EF553B\",\"#00cc96\",\"#ab63fa\",\"#FFA15A\",\"#19d3f3\",\"#FF6692\",\"#B6E880\",\"#FF97FF\",\"#FECB52\"],\"font\":{\"color\":\"#2a3f5f\"},\"hovermode\":\"closest\",\"hoverlabel\":{\"align\":\"left\"},\"paper_bgcolor\":\"white\",\"plot_bgcolor\":\"#E5ECF6\",\"polar\":{\"bgcolor\":\"#E5ECF6\",\"angularaxis\":{\"gridcolor\":\"white\",\"linecolor\":\"white\",\"ticks\":\"\"},\"radialaxis\":{\"gridcolor\":\"white\",\"linecolor\":\"white\",\"ticks\":\"\"}},\"ternary\":{\"bgcolor\":\"#E5ECF6\",\"aaxis\":{\"gridcolor\":\"white\",\"linecolor\":\"white\",\"ticks\":\"\"},\"baxis\":{\"gridcolor\":\"white\",\"linecolor\":\"white\",\"ticks\":\"\"},\"caxis\":{\"gridcolor\":\"white\",\"linecolor\":\"white\",\"ticks\":\"\"}},\"coloraxis\":{\"colorbar\":{\"outlinewidth\":0,\"ticks\":\"\"}},\"colorscale\":{\"sequential\":[[0.0,\"#0d0887\"],[0.1111111111111111,\"#46039f\"],[0.2222222222222222,\"#7201a8\"],[0.3333333333333333,\"#9c179e\"],[0.4444444444444444,\"#bd3786\"],[0.5555555555555556,\"#d8576b\"],[0.6666666666666666,\"#ed7953\"],[0.7777777777777778,\"#fb9f3a\"],[0.8888888888888888,\"#fdca26\"],[1.0,\"#f0f921\"]],\"sequentialminus\":[[0.0,\"#0d0887\"],[0.1111111111111111,\"#46039f\"],[0.2222222222222222,\"#7201a8\"],[0.3333333333333333,\"#9c179e\"],[0.4444444444444444,\"#bd3786\"],[0.5555555555555556,\"#d8576b\"],[0.6666666666666666,\"#ed7953\"],[0.7777777777777778,\"#fb9f3a\"],[0.8888888888888888,\"#fdca26\"],[1.0,\"#f0f921\"]],\"diverging\":[[0,\"#8e0152\"],[0.1,\"#c51b7d\"],[0.2,\"#de77ae\"],[0.3,\"#f1b6da\"],[0.4,\"#fde0ef\"],[0.5,\"#f7f7f7\"],[0.6,\"#e6f5d0\"],[0.7,\"#b8e186\"],[0.8,\"#7fbc41\"],[0.9,\"#4d9221\"],[1,\"#276419\"]]},\"xaxis\":{\"gridcolor\":\"white\",\"linecolor\":\"white\",\"ticks\":\"\",\"title\":{\"standoff\":15},\"zerolinecolor\":\"white\",\"automargin\":true,\"zerolinewidth\":2},\"yaxis\":{\"gridcolor\":\"white\",\"linecolor\":\"white\",\"ticks\":\"\",\"title\":{\"standoff\":15},\"zerolinecolor\":\"white\",\"automargin\":true,\"zerolinewidth\":2},\"scene\":{\"xaxis\":{\"backgroundcolor\":\"#E5ECF6\",\"gridcolor\":\"white\",\"linecolor\":\"white\",\"showbackground\":true,\"ticks\":\"\",\"zerolinecolor\":\"white\",\"gridwidth\":2},\"yaxis\":{\"backgroundcolor\":\"#E5ECF6\",\"gridcolor\":\"white\",\"linecolor\":\"white\",\"showbackground\":true,\"ticks\":\"\",\"zerolinecolor\":\"white\",\"gridwidth\":2},\"zaxis\":{\"backgroundcolor\":\"#E5ECF6\",\"gridcolor\":\"white\",\"linecolor\":\"white\",\"showbackground\":true,\"ticks\":\"\",\"zerolinecolor\":\"white\",\"gridwidth\":2}},\"shapedefaults\":{\"line\":{\"color\":\"#2a3f5f\"}},\"annotationdefaults\":{\"arrowcolor\":\"#2a3f5f\",\"arrowhead\":0,\"arrowwidth\":1},\"geo\":{\"bgcolor\":\"white\",\"landcolor\":\"#E5ECF6\",\"subunitcolor\":\"white\",\"showland\":true,\"showlakes\":true,\"lakecolor\":\"white\"},\"title\":{\"x\":0.05},\"mapbox\":{\"style\":\"light\"}}}},                        {\"responsive\": true}                    ).then(function(){\n",
       "                            \n",
       "var gd = document.getElementById('6fd7fbb4-0085-402c-864b-4fb814bf6f07');\n",
       "var x = new MutationObserver(function (mutations, observer) {{\n",
       "        var display = window.getComputedStyle(gd).display;\n",
       "        if (!display || display === 'none') {{\n",
       "            console.log([gd, 'removed!']);\n",
       "            Plotly.purge(gd);\n",
       "            observer.disconnect();\n",
       "        }}\n",
       "}});\n",
       "\n",
       "// Listen for the removal of the full notebook cells\n",
       "var notebookContainer = gd.closest('#notebook-container');\n",
       "if (notebookContainer) {{\n",
       "    x.observe(notebookContainer, {childList: true});\n",
       "}}\n",
       "\n",
       "// Listen for the clearing of the current output cell\n",
       "var outputEl = gd.closest('.output');\n",
       "if (outputEl) {{\n",
       "    x.observe(outputEl, {childList: true});\n",
       "}}\n",
       "\n",
       "                        })                };                });            </script>        </div>"
      ]
     },
     "metadata": {},
     "output_type": "display_data"
    }
   ],
   "source": [
    "trace1 = go.Histogram(x=df1.Quantity, opacity=0.75,\n",
    "                     name='California')\n",
    "trace2 = go.Histogram(x=df2.Quantity, opacity=0.75,xaxis='x2',\n",
    "                     name='New York')\n",
    "trace3 = go.Histogram(x=df3.Quantity, opacity=0.75,xaxis='x3',\n",
    "                     name='Texas')\n",
    "data = [trace1, trace2, trace3]\n",
    "layout = go.Layout(xaxis=dict(domain=[0,0.30]),\n",
    "                  xaxis2=dict(domain=[0.35,0.65]),\n",
    "                  xaxis3=dict(domain=[0.7,1]),\n",
    "                  title='Quantity per order')\n",
    "fig = go.Figure(data=data, layout=layout)\n",
    "fig.show()"
   ]
  },
  {
   "cell_type": "markdown",
   "metadata": {
    "id": "KRcREZg5imh7"
   },
   "source": [
    "## 4. Create an interactive stacked bar chart showing the revenue by state (bars) for each of the products categories for California, New York and Texas."
   ]
  },
  {
   "cell_type": "code",
   "execution_count": 26,
   "metadata": {},
   "outputs": [
    {
     "data": {
      "text/html": [
       "<div>\n",
       "<style scoped>\n",
       "    .dataframe tbody tr th:only-of-type {\n",
       "        vertical-align: middle;\n",
       "    }\n",
       "\n",
       "    .dataframe tbody tr th {\n",
       "        vertical-align: top;\n",
       "    }\n",
       "\n",
       "    .dataframe thead th {\n",
       "        text-align: right;\n",
       "    }\n",
       "</style>\n",
       "<table border=\"1\" class=\"dataframe\">\n",
       "  <thead>\n",
       "    <tr style=\"text-align: right;\">\n",
       "      <th></th>\n",
       "      <th>State</th>\n",
       "      <th>Category</th>\n",
       "      <th>Sales</th>\n",
       "    </tr>\n",
       "  </thead>\n",
       "  <tbody>\n",
       "    <tr>\n",
       "      <th>0</th>\n",
       "      <td>California</td>\n",
       "      <td>Furniture</td>\n",
       "      <td>156064.6015</td>\n",
       "    </tr>\n",
       "    <tr>\n",
       "      <th>1</th>\n",
       "      <td>California</td>\n",
       "      <td>Office Supplies</td>\n",
       "      <td>142351.9480</td>\n",
       "    </tr>\n",
       "    <tr>\n",
       "      <th>2</th>\n",
       "      <td>California</td>\n",
       "      <td>Technology</td>\n",
       "      <td>159271.0820</td>\n",
       "    </tr>\n",
       "    <tr>\n",
       "      <th>3</th>\n",
       "      <td>New York</td>\n",
       "      <td>Furniture</td>\n",
       "      <td>93372.7290</td>\n",
       "    </tr>\n",
       "    <tr>\n",
       "      <th>4</th>\n",
       "      <td>New York</td>\n",
       "      <td>Office Supplies</td>\n",
       "      <td>90020.0420</td>\n",
       "    </tr>\n",
       "    <tr>\n",
       "      <th>5</th>\n",
       "      <td>New York</td>\n",
       "      <td>Technology</td>\n",
       "      <td>127483.5000</td>\n",
       "    </tr>\n",
       "    <tr>\n",
       "      <th>6</th>\n",
       "      <td>Texas</td>\n",
       "      <td>Furniture</td>\n",
       "      <td>60593.2918</td>\n",
       "    </tr>\n",
       "    <tr>\n",
       "      <th>7</th>\n",
       "      <td>Texas</td>\n",
       "      <td>Office Supplies</td>\n",
       "      <td>44490.5300</td>\n",
       "    </tr>\n",
       "    <tr>\n",
       "      <th>8</th>\n",
       "      <td>Texas</td>\n",
       "      <td>Technology</td>\n",
       "      <td>65104.2240</td>\n",
       "    </tr>\n",
       "  </tbody>\n",
       "</table>\n",
       "</div>"
      ],
      "text/plain": [
       "        State         Category        Sales\n",
       "0  California        Furniture  156064.6015\n",
       "1  California  Office Supplies  142351.9480\n",
       "2  California       Technology  159271.0820\n",
       "3    New York        Furniture   93372.7290\n",
       "4    New York  Office Supplies   90020.0420\n",
       "5    New York       Technology  127483.5000\n",
       "6       Texas        Furniture   60593.2918\n",
       "7       Texas  Office Supplies   44490.5300\n",
       "8       Texas       Technology   65104.2240"
      ]
     },
     "execution_count": 26,
     "metadata": {},
     "output_type": "execute_result"
    }
   ],
   "source": [
    "states_list = ['California','New York','Texas']\n",
    "df2 = df.loc[df.State.isin(states_list)]\n",
    "df3 = df2[['State','Category','Sales']]\\\n",
    "        .groupby(['State','Category'],as_index=False).sum()\n",
    "df3"
   ]
  },
  {
   "cell_type": "code",
   "execution_count": 27,
   "metadata": {
    "scrolled": true
   },
   "outputs": [
    {
     "data": {
      "application/vnd.plotly.v1+json": {
       "config": {
        "plotlyServerURL": "https://plot.ly"
       },
       "data": [
        {
         "alignmentgroup": "True",
         "hovertemplate": "State=California<br>Category=%{x}<br>Sales=%{y}<extra></extra>",
         "legendgroup": "California",
         "marker": {
          "color": "#636efa",
          "pattern": {
           "shape": ""
          }
         },
         "name": "California",
         "offsetgroup": "California",
         "orientation": "v",
         "showlegend": true,
         "textposition": "auto",
         "type": "bar",
         "x": [
          "Furniture",
          "Office Supplies",
          "Technology"
         ],
         "xaxis": "x",
         "y": [
          156064.60150000002,
          142351.948,
          159271.082
         ],
         "yaxis": "y"
        },
        {
         "alignmentgroup": "True",
         "hovertemplate": "State=New York<br>Category=%{x}<br>Sales=%{y}<extra></extra>",
         "legendgroup": "New York",
         "marker": {
          "color": "#EF553B",
          "pattern": {
           "shape": ""
          }
         },
         "name": "New York",
         "offsetgroup": "New York",
         "orientation": "v",
         "showlegend": true,
         "textposition": "auto",
         "type": "bar",
         "x": [
          "Furniture",
          "Office Supplies",
          "Technology"
         ],
         "xaxis": "x",
         "y": [
          93372.729,
          90020.042,
          127483.5
         ],
         "yaxis": "y"
        },
        {
         "alignmentgroup": "True",
         "hovertemplate": "State=Texas<br>Category=%{x}<br>Sales=%{y}<extra></extra>",
         "legendgroup": "Texas",
         "marker": {
          "color": "#00cc96",
          "pattern": {
           "shape": ""
          }
         },
         "name": "Texas",
         "offsetgroup": "Texas",
         "orientation": "v",
         "showlegend": true,
         "textposition": "auto",
         "type": "bar",
         "x": [
          "Furniture",
          "Office Supplies",
          "Technology"
         ],
         "xaxis": "x",
         "y": [
          60593.2918,
          44490.53,
          65104.224
         ],
         "yaxis": "y"
        }
       ],
       "layout": {
        "barmode": "relative",
        "legend": {
         "title": {
          "text": "State"
         },
         "tracegroupgap": 0
        },
        "template": {
         "data": {
          "bar": [
           {
            "error_x": {
             "color": "#2a3f5f"
            },
            "error_y": {
             "color": "#2a3f5f"
            },
            "marker": {
             "line": {
              "color": "#E5ECF6",
              "width": 0.5
             },
             "pattern": {
              "fillmode": "overlay",
              "size": 10,
              "solidity": 0.2
             }
            },
            "type": "bar"
           }
          ],
          "barpolar": [
           {
            "marker": {
             "line": {
              "color": "#E5ECF6",
              "width": 0.5
             },
             "pattern": {
              "fillmode": "overlay",
              "size": 10,
              "solidity": 0.2
             }
            },
            "type": "barpolar"
           }
          ],
          "carpet": [
           {
            "aaxis": {
             "endlinecolor": "#2a3f5f",
             "gridcolor": "white",
             "linecolor": "white",
             "minorgridcolor": "white",
             "startlinecolor": "#2a3f5f"
            },
            "baxis": {
             "endlinecolor": "#2a3f5f",
             "gridcolor": "white",
             "linecolor": "white",
             "minorgridcolor": "white",
             "startlinecolor": "#2a3f5f"
            },
            "type": "carpet"
           }
          ],
          "choropleth": [
           {
            "colorbar": {
             "outlinewidth": 0,
             "ticks": ""
            },
            "type": "choropleth"
           }
          ],
          "contour": [
           {
            "colorbar": {
             "outlinewidth": 0,
             "ticks": ""
            },
            "colorscale": [
             [
              0,
              "#0d0887"
             ],
             [
              0.1111111111111111,
              "#46039f"
             ],
             [
              0.2222222222222222,
              "#7201a8"
             ],
             [
              0.3333333333333333,
              "#9c179e"
             ],
             [
              0.4444444444444444,
              "#bd3786"
             ],
             [
              0.5555555555555556,
              "#d8576b"
             ],
             [
              0.6666666666666666,
              "#ed7953"
             ],
             [
              0.7777777777777778,
              "#fb9f3a"
             ],
             [
              0.8888888888888888,
              "#fdca26"
             ],
             [
              1,
              "#f0f921"
             ]
            ],
            "type": "contour"
           }
          ],
          "contourcarpet": [
           {
            "colorbar": {
             "outlinewidth": 0,
             "ticks": ""
            },
            "type": "contourcarpet"
           }
          ],
          "heatmap": [
           {
            "colorbar": {
             "outlinewidth": 0,
             "ticks": ""
            },
            "colorscale": [
             [
              0,
              "#0d0887"
             ],
             [
              0.1111111111111111,
              "#46039f"
             ],
             [
              0.2222222222222222,
              "#7201a8"
             ],
             [
              0.3333333333333333,
              "#9c179e"
             ],
             [
              0.4444444444444444,
              "#bd3786"
             ],
             [
              0.5555555555555556,
              "#d8576b"
             ],
             [
              0.6666666666666666,
              "#ed7953"
             ],
             [
              0.7777777777777778,
              "#fb9f3a"
             ],
             [
              0.8888888888888888,
              "#fdca26"
             ],
             [
              1,
              "#f0f921"
             ]
            ],
            "type": "heatmap"
           }
          ],
          "heatmapgl": [
           {
            "colorbar": {
             "outlinewidth": 0,
             "ticks": ""
            },
            "colorscale": [
             [
              0,
              "#0d0887"
             ],
             [
              0.1111111111111111,
              "#46039f"
             ],
             [
              0.2222222222222222,
              "#7201a8"
             ],
             [
              0.3333333333333333,
              "#9c179e"
             ],
             [
              0.4444444444444444,
              "#bd3786"
             ],
             [
              0.5555555555555556,
              "#d8576b"
             ],
             [
              0.6666666666666666,
              "#ed7953"
             ],
             [
              0.7777777777777778,
              "#fb9f3a"
             ],
             [
              0.8888888888888888,
              "#fdca26"
             ],
             [
              1,
              "#f0f921"
             ]
            ],
            "type": "heatmapgl"
           }
          ],
          "histogram": [
           {
            "marker": {
             "pattern": {
              "fillmode": "overlay",
              "size": 10,
              "solidity": 0.2
             }
            },
            "type": "histogram"
           }
          ],
          "histogram2d": [
           {
            "colorbar": {
             "outlinewidth": 0,
             "ticks": ""
            },
            "colorscale": [
             [
              0,
              "#0d0887"
             ],
             [
              0.1111111111111111,
              "#46039f"
             ],
             [
              0.2222222222222222,
              "#7201a8"
             ],
             [
              0.3333333333333333,
              "#9c179e"
             ],
             [
              0.4444444444444444,
              "#bd3786"
             ],
             [
              0.5555555555555556,
              "#d8576b"
             ],
             [
              0.6666666666666666,
              "#ed7953"
             ],
             [
              0.7777777777777778,
              "#fb9f3a"
             ],
             [
              0.8888888888888888,
              "#fdca26"
             ],
             [
              1,
              "#f0f921"
             ]
            ],
            "type": "histogram2d"
           }
          ],
          "histogram2dcontour": [
           {
            "colorbar": {
             "outlinewidth": 0,
             "ticks": ""
            },
            "colorscale": [
             [
              0,
              "#0d0887"
             ],
             [
              0.1111111111111111,
              "#46039f"
             ],
             [
              0.2222222222222222,
              "#7201a8"
             ],
             [
              0.3333333333333333,
              "#9c179e"
             ],
             [
              0.4444444444444444,
              "#bd3786"
             ],
             [
              0.5555555555555556,
              "#d8576b"
             ],
             [
              0.6666666666666666,
              "#ed7953"
             ],
             [
              0.7777777777777778,
              "#fb9f3a"
             ],
             [
              0.8888888888888888,
              "#fdca26"
             ],
             [
              1,
              "#f0f921"
             ]
            ],
            "type": "histogram2dcontour"
           }
          ],
          "mesh3d": [
           {
            "colorbar": {
             "outlinewidth": 0,
             "ticks": ""
            },
            "type": "mesh3d"
           }
          ],
          "parcoords": [
           {
            "line": {
             "colorbar": {
              "outlinewidth": 0,
              "ticks": ""
             }
            },
            "type": "parcoords"
           }
          ],
          "pie": [
           {
            "automargin": true,
            "type": "pie"
           }
          ],
          "scatter": [
           {
            "fillpattern": {
             "fillmode": "overlay",
             "size": 10,
             "solidity": 0.2
            },
            "type": "scatter"
           }
          ],
          "scatter3d": [
           {
            "line": {
             "colorbar": {
              "outlinewidth": 0,
              "ticks": ""
             }
            },
            "marker": {
             "colorbar": {
              "outlinewidth": 0,
              "ticks": ""
             }
            },
            "type": "scatter3d"
           }
          ],
          "scattercarpet": [
           {
            "marker": {
             "colorbar": {
              "outlinewidth": 0,
              "ticks": ""
             }
            },
            "type": "scattercarpet"
           }
          ],
          "scattergeo": [
           {
            "marker": {
             "colorbar": {
              "outlinewidth": 0,
              "ticks": ""
             }
            },
            "type": "scattergeo"
           }
          ],
          "scattergl": [
           {
            "marker": {
             "colorbar": {
              "outlinewidth": 0,
              "ticks": ""
             }
            },
            "type": "scattergl"
           }
          ],
          "scattermapbox": [
           {
            "marker": {
             "colorbar": {
              "outlinewidth": 0,
              "ticks": ""
             }
            },
            "type": "scattermapbox"
           }
          ],
          "scatterpolar": [
           {
            "marker": {
             "colorbar": {
              "outlinewidth": 0,
              "ticks": ""
             }
            },
            "type": "scatterpolar"
           }
          ],
          "scatterpolargl": [
           {
            "marker": {
             "colorbar": {
              "outlinewidth": 0,
              "ticks": ""
             }
            },
            "type": "scatterpolargl"
           }
          ],
          "scatterternary": [
           {
            "marker": {
             "colorbar": {
              "outlinewidth": 0,
              "ticks": ""
             }
            },
            "type": "scatterternary"
           }
          ],
          "surface": [
           {
            "colorbar": {
             "outlinewidth": 0,
             "ticks": ""
            },
            "colorscale": [
             [
              0,
              "#0d0887"
             ],
             [
              0.1111111111111111,
              "#46039f"
             ],
             [
              0.2222222222222222,
              "#7201a8"
             ],
             [
              0.3333333333333333,
              "#9c179e"
             ],
             [
              0.4444444444444444,
              "#bd3786"
             ],
             [
              0.5555555555555556,
              "#d8576b"
             ],
             [
              0.6666666666666666,
              "#ed7953"
             ],
             [
              0.7777777777777778,
              "#fb9f3a"
             ],
             [
              0.8888888888888888,
              "#fdca26"
             ],
             [
              1,
              "#f0f921"
             ]
            ],
            "type": "surface"
           }
          ],
          "table": [
           {
            "cells": {
             "fill": {
              "color": "#EBF0F8"
             },
             "line": {
              "color": "white"
             }
            },
            "header": {
             "fill": {
              "color": "#C8D4E3"
             },
             "line": {
              "color": "white"
             }
            },
            "type": "table"
           }
          ]
         },
         "layout": {
          "annotationdefaults": {
           "arrowcolor": "#2a3f5f",
           "arrowhead": 0,
           "arrowwidth": 1
          },
          "autotypenumbers": "strict",
          "coloraxis": {
           "colorbar": {
            "outlinewidth": 0,
            "ticks": ""
           }
          },
          "colorscale": {
           "diverging": [
            [
             0,
             "#8e0152"
            ],
            [
             0.1,
             "#c51b7d"
            ],
            [
             0.2,
             "#de77ae"
            ],
            [
             0.3,
             "#f1b6da"
            ],
            [
             0.4,
             "#fde0ef"
            ],
            [
             0.5,
             "#f7f7f7"
            ],
            [
             0.6,
             "#e6f5d0"
            ],
            [
             0.7,
             "#b8e186"
            ],
            [
             0.8,
             "#7fbc41"
            ],
            [
             0.9,
             "#4d9221"
            ],
            [
             1,
             "#276419"
            ]
           ],
           "sequential": [
            [
             0,
             "#0d0887"
            ],
            [
             0.1111111111111111,
             "#46039f"
            ],
            [
             0.2222222222222222,
             "#7201a8"
            ],
            [
             0.3333333333333333,
             "#9c179e"
            ],
            [
             0.4444444444444444,
             "#bd3786"
            ],
            [
             0.5555555555555556,
             "#d8576b"
            ],
            [
             0.6666666666666666,
             "#ed7953"
            ],
            [
             0.7777777777777778,
             "#fb9f3a"
            ],
            [
             0.8888888888888888,
             "#fdca26"
            ],
            [
             1,
             "#f0f921"
            ]
           ],
           "sequentialminus": [
            [
             0,
             "#0d0887"
            ],
            [
             0.1111111111111111,
             "#46039f"
            ],
            [
             0.2222222222222222,
             "#7201a8"
            ],
            [
             0.3333333333333333,
             "#9c179e"
            ],
            [
             0.4444444444444444,
             "#bd3786"
            ],
            [
             0.5555555555555556,
             "#d8576b"
            ],
            [
             0.6666666666666666,
             "#ed7953"
            ],
            [
             0.7777777777777778,
             "#fb9f3a"
            ],
            [
             0.8888888888888888,
             "#fdca26"
            ],
            [
             1,
             "#f0f921"
            ]
           ]
          },
          "colorway": [
           "#636efa",
           "#EF553B",
           "#00cc96",
           "#ab63fa",
           "#FFA15A",
           "#19d3f3",
           "#FF6692",
           "#B6E880",
           "#FF97FF",
           "#FECB52"
          ],
          "font": {
           "color": "#2a3f5f"
          },
          "geo": {
           "bgcolor": "white",
           "lakecolor": "white",
           "landcolor": "#E5ECF6",
           "showlakes": true,
           "showland": true,
           "subunitcolor": "white"
          },
          "hoverlabel": {
           "align": "left"
          },
          "hovermode": "closest",
          "mapbox": {
           "style": "light"
          },
          "paper_bgcolor": "white",
          "plot_bgcolor": "#E5ECF6",
          "polar": {
           "angularaxis": {
            "gridcolor": "white",
            "linecolor": "white",
            "ticks": ""
           },
           "bgcolor": "#E5ECF6",
           "radialaxis": {
            "gridcolor": "white",
            "linecolor": "white",
            "ticks": ""
           }
          },
          "scene": {
           "xaxis": {
            "backgroundcolor": "#E5ECF6",
            "gridcolor": "white",
            "gridwidth": 2,
            "linecolor": "white",
            "showbackground": true,
            "ticks": "",
            "zerolinecolor": "white"
           },
           "yaxis": {
            "backgroundcolor": "#E5ECF6",
            "gridcolor": "white",
            "gridwidth": 2,
            "linecolor": "white",
            "showbackground": true,
            "ticks": "",
            "zerolinecolor": "white"
           },
           "zaxis": {
            "backgroundcolor": "#E5ECF6",
            "gridcolor": "white",
            "gridwidth": 2,
            "linecolor": "white",
            "showbackground": true,
            "ticks": "",
            "zerolinecolor": "white"
           }
          },
          "shapedefaults": {
           "line": {
            "color": "#2a3f5f"
           }
          },
          "ternary": {
           "aaxis": {
            "gridcolor": "white",
            "linecolor": "white",
            "ticks": ""
           },
           "baxis": {
            "gridcolor": "white",
            "linecolor": "white",
            "ticks": ""
           },
           "bgcolor": "#E5ECF6",
           "caxis": {
            "gridcolor": "white",
            "linecolor": "white",
            "ticks": ""
           }
          },
          "title": {
           "x": 0.05
          },
          "xaxis": {
           "automargin": true,
           "gridcolor": "white",
           "linecolor": "white",
           "ticks": "",
           "title": {
            "standoff": 15
           },
           "zerolinecolor": "white",
           "zerolinewidth": 2
          },
          "yaxis": {
           "automargin": true,
           "gridcolor": "white",
           "linecolor": "white",
           "ticks": "",
           "title": {
            "standoff": 15
           },
           "zerolinecolor": "white",
           "zerolinewidth": 2
          }
         }
        },
        "title": {
         "text": "revenue by state"
        },
        "xaxis": {
         "anchor": "y",
         "domain": [
          0,
          1
         ],
         "title": {
          "text": "Category"
         }
        },
        "yaxis": {
         "anchor": "x",
         "domain": [
          0,
          1
         ],
         "title": {
          "text": "Sales"
         }
        }
       }
      },
      "text/html": [
       "<div>                            <div id=\"b2d5ba46-d0d8-4eec-a60f-a7577f60403d\" class=\"plotly-graph-div\" style=\"height:525px; width:100%;\"></div>            <script type=\"text/javascript\">                require([\"plotly\"], function(Plotly) {                    window.PLOTLYENV=window.PLOTLYENV || {};                                    if (document.getElementById(\"b2d5ba46-d0d8-4eec-a60f-a7577f60403d\")) {                    Plotly.newPlot(                        \"b2d5ba46-d0d8-4eec-a60f-a7577f60403d\",                        [{\"alignmentgroup\":\"True\",\"hovertemplate\":\"State=California<br>Category=%{x}<br>Sales=%{y}<extra></extra>\",\"legendgroup\":\"California\",\"marker\":{\"color\":\"#636efa\",\"pattern\":{\"shape\":\"\"}},\"name\":\"California\",\"offsetgroup\":\"California\",\"orientation\":\"v\",\"showlegend\":true,\"textposition\":\"auto\",\"x\":[\"Furniture\",\"Office Supplies\",\"Technology\"],\"xaxis\":\"x\",\"y\":[156064.60150000002,142351.948,159271.082],\"yaxis\":\"y\",\"type\":\"bar\"},{\"alignmentgroup\":\"True\",\"hovertemplate\":\"State=New York<br>Category=%{x}<br>Sales=%{y}<extra></extra>\",\"legendgroup\":\"New York\",\"marker\":{\"color\":\"#EF553B\",\"pattern\":{\"shape\":\"\"}},\"name\":\"New York\",\"offsetgroup\":\"New York\",\"orientation\":\"v\",\"showlegend\":true,\"textposition\":\"auto\",\"x\":[\"Furniture\",\"Office Supplies\",\"Technology\"],\"xaxis\":\"x\",\"y\":[93372.729,90020.042,127483.5],\"yaxis\":\"y\",\"type\":\"bar\"},{\"alignmentgroup\":\"True\",\"hovertemplate\":\"State=Texas<br>Category=%{x}<br>Sales=%{y}<extra></extra>\",\"legendgroup\":\"Texas\",\"marker\":{\"color\":\"#00cc96\",\"pattern\":{\"shape\":\"\"}},\"name\":\"Texas\",\"offsetgroup\":\"Texas\",\"orientation\":\"v\",\"showlegend\":true,\"textposition\":\"auto\",\"x\":[\"Furniture\",\"Office Supplies\",\"Technology\"],\"xaxis\":\"x\",\"y\":[60593.2918,44490.53,65104.224],\"yaxis\":\"y\",\"type\":\"bar\"}],                        {\"template\":{\"data\":{\"histogram2dcontour\":[{\"type\":\"histogram2dcontour\",\"colorbar\":{\"outlinewidth\":0,\"ticks\":\"\"},\"colorscale\":[[0.0,\"#0d0887\"],[0.1111111111111111,\"#46039f\"],[0.2222222222222222,\"#7201a8\"],[0.3333333333333333,\"#9c179e\"],[0.4444444444444444,\"#bd3786\"],[0.5555555555555556,\"#d8576b\"],[0.6666666666666666,\"#ed7953\"],[0.7777777777777778,\"#fb9f3a\"],[0.8888888888888888,\"#fdca26\"],[1.0,\"#f0f921\"]]}],\"choropleth\":[{\"type\":\"choropleth\",\"colorbar\":{\"outlinewidth\":0,\"ticks\":\"\"}}],\"histogram2d\":[{\"type\":\"histogram2d\",\"colorbar\":{\"outlinewidth\":0,\"ticks\":\"\"},\"colorscale\":[[0.0,\"#0d0887\"],[0.1111111111111111,\"#46039f\"],[0.2222222222222222,\"#7201a8\"],[0.3333333333333333,\"#9c179e\"],[0.4444444444444444,\"#bd3786\"],[0.5555555555555556,\"#d8576b\"],[0.6666666666666666,\"#ed7953\"],[0.7777777777777778,\"#fb9f3a\"],[0.8888888888888888,\"#fdca26\"],[1.0,\"#f0f921\"]]}],\"heatmap\":[{\"type\":\"heatmap\",\"colorbar\":{\"outlinewidth\":0,\"ticks\":\"\"},\"colorscale\":[[0.0,\"#0d0887\"],[0.1111111111111111,\"#46039f\"],[0.2222222222222222,\"#7201a8\"],[0.3333333333333333,\"#9c179e\"],[0.4444444444444444,\"#bd3786\"],[0.5555555555555556,\"#d8576b\"],[0.6666666666666666,\"#ed7953\"],[0.7777777777777778,\"#fb9f3a\"],[0.8888888888888888,\"#fdca26\"],[1.0,\"#f0f921\"]]}],\"heatmapgl\":[{\"type\":\"heatmapgl\",\"colorbar\":{\"outlinewidth\":0,\"ticks\":\"\"},\"colorscale\":[[0.0,\"#0d0887\"],[0.1111111111111111,\"#46039f\"],[0.2222222222222222,\"#7201a8\"],[0.3333333333333333,\"#9c179e\"],[0.4444444444444444,\"#bd3786\"],[0.5555555555555556,\"#d8576b\"],[0.6666666666666666,\"#ed7953\"],[0.7777777777777778,\"#fb9f3a\"],[0.8888888888888888,\"#fdca26\"],[1.0,\"#f0f921\"]]}],\"contourcarpet\":[{\"type\":\"contourcarpet\",\"colorbar\":{\"outlinewidth\":0,\"ticks\":\"\"}}],\"contour\":[{\"type\":\"contour\",\"colorbar\":{\"outlinewidth\":0,\"ticks\":\"\"},\"colorscale\":[[0.0,\"#0d0887\"],[0.1111111111111111,\"#46039f\"],[0.2222222222222222,\"#7201a8\"],[0.3333333333333333,\"#9c179e\"],[0.4444444444444444,\"#bd3786\"],[0.5555555555555556,\"#d8576b\"],[0.6666666666666666,\"#ed7953\"],[0.7777777777777778,\"#fb9f3a\"],[0.8888888888888888,\"#fdca26\"],[1.0,\"#f0f921\"]]}],\"surface\":[{\"type\":\"surface\",\"colorbar\":{\"outlinewidth\":0,\"ticks\":\"\"},\"colorscale\":[[0.0,\"#0d0887\"],[0.1111111111111111,\"#46039f\"],[0.2222222222222222,\"#7201a8\"],[0.3333333333333333,\"#9c179e\"],[0.4444444444444444,\"#bd3786\"],[0.5555555555555556,\"#d8576b\"],[0.6666666666666666,\"#ed7953\"],[0.7777777777777778,\"#fb9f3a\"],[0.8888888888888888,\"#fdca26\"],[1.0,\"#f0f921\"]]}],\"mesh3d\":[{\"type\":\"mesh3d\",\"colorbar\":{\"outlinewidth\":0,\"ticks\":\"\"}}],\"scatter\":[{\"fillpattern\":{\"fillmode\":\"overlay\",\"size\":10,\"solidity\":0.2},\"type\":\"scatter\"}],\"parcoords\":[{\"type\":\"parcoords\",\"line\":{\"colorbar\":{\"outlinewidth\":0,\"ticks\":\"\"}}}],\"scatterpolargl\":[{\"type\":\"scatterpolargl\",\"marker\":{\"colorbar\":{\"outlinewidth\":0,\"ticks\":\"\"}}}],\"bar\":[{\"error_x\":{\"color\":\"#2a3f5f\"},\"error_y\":{\"color\":\"#2a3f5f\"},\"marker\":{\"line\":{\"color\":\"#E5ECF6\",\"width\":0.5},\"pattern\":{\"fillmode\":\"overlay\",\"size\":10,\"solidity\":0.2}},\"type\":\"bar\"}],\"scattergeo\":[{\"type\":\"scattergeo\",\"marker\":{\"colorbar\":{\"outlinewidth\":0,\"ticks\":\"\"}}}],\"scatterpolar\":[{\"type\":\"scatterpolar\",\"marker\":{\"colorbar\":{\"outlinewidth\":0,\"ticks\":\"\"}}}],\"histogram\":[{\"marker\":{\"pattern\":{\"fillmode\":\"overlay\",\"size\":10,\"solidity\":0.2}},\"type\":\"histogram\"}],\"scattergl\":[{\"type\":\"scattergl\",\"marker\":{\"colorbar\":{\"outlinewidth\":0,\"ticks\":\"\"}}}],\"scatter3d\":[{\"type\":\"scatter3d\",\"line\":{\"colorbar\":{\"outlinewidth\":0,\"ticks\":\"\"}},\"marker\":{\"colorbar\":{\"outlinewidth\":0,\"ticks\":\"\"}}}],\"scattermapbox\":[{\"type\":\"scattermapbox\",\"marker\":{\"colorbar\":{\"outlinewidth\":0,\"ticks\":\"\"}}}],\"scatterternary\":[{\"type\":\"scatterternary\",\"marker\":{\"colorbar\":{\"outlinewidth\":0,\"ticks\":\"\"}}}],\"scattercarpet\":[{\"type\":\"scattercarpet\",\"marker\":{\"colorbar\":{\"outlinewidth\":0,\"ticks\":\"\"}}}],\"carpet\":[{\"aaxis\":{\"endlinecolor\":\"#2a3f5f\",\"gridcolor\":\"white\",\"linecolor\":\"white\",\"minorgridcolor\":\"white\",\"startlinecolor\":\"#2a3f5f\"},\"baxis\":{\"endlinecolor\":\"#2a3f5f\",\"gridcolor\":\"white\",\"linecolor\":\"white\",\"minorgridcolor\":\"white\",\"startlinecolor\":\"#2a3f5f\"},\"type\":\"carpet\"}],\"table\":[{\"cells\":{\"fill\":{\"color\":\"#EBF0F8\"},\"line\":{\"color\":\"white\"}},\"header\":{\"fill\":{\"color\":\"#C8D4E3\"},\"line\":{\"color\":\"white\"}},\"type\":\"table\"}],\"barpolar\":[{\"marker\":{\"line\":{\"color\":\"#E5ECF6\",\"width\":0.5},\"pattern\":{\"fillmode\":\"overlay\",\"size\":10,\"solidity\":0.2}},\"type\":\"barpolar\"}],\"pie\":[{\"automargin\":true,\"type\":\"pie\"}]},\"layout\":{\"autotypenumbers\":\"strict\",\"colorway\":[\"#636efa\",\"#EF553B\",\"#00cc96\",\"#ab63fa\",\"#FFA15A\",\"#19d3f3\",\"#FF6692\",\"#B6E880\",\"#FF97FF\",\"#FECB52\"],\"font\":{\"color\":\"#2a3f5f\"},\"hovermode\":\"closest\",\"hoverlabel\":{\"align\":\"left\"},\"paper_bgcolor\":\"white\",\"plot_bgcolor\":\"#E5ECF6\",\"polar\":{\"bgcolor\":\"#E5ECF6\",\"angularaxis\":{\"gridcolor\":\"white\",\"linecolor\":\"white\",\"ticks\":\"\"},\"radialaxis\":{\"gridcolor\":\"white\",\"linecolor\":\"white\",\"ticks\":\"\"}},\"ternary\":{\"bgcolor\":\"#E5ECF6\",\"aaxis\":{\"gridcolor\":\"white\",\"linecolor\":\"white\",\"ticks\":\"\"},\"baxis\":{\"gridcolor\":\"white\",\"linecolor\":\"white\",\"ticks\":\"\"},\"caxis\":{\"gridcolor\":\"white\",\"linecolor\":\"white\",\"ticks\":\"\"}},\"coloraxis\":{\"colorbar\":{\"outlinewidth\":0,\"ticks\":\"\"}},\"colorscale\":{\"sequential\":[[0.0,\"#0d0887\"],[0.1111111111111111,\"#46039f\"],[0.2222222222222222,\"#7201a8\"],[0.3333333333333333,\"#9c179e\"],[0.4444444444444444,\"#bd3786\"],[0.5555555555555556,\"#d8576b\"],[0.6666666666666666,\"#ed7953\"],[0.7777777777777778,\"#fb9f3a\"],[0.8888888888888888,\"#fdca26\"],[1.0,\"#f0f921\"]],\"sequentialminus\":[[0.0,\"#0d0887\"],[0.1111111111111111,\"#46039f\"],[0.2222222222222222,\"#7201a8\"],[0.3333333333333333,\"#9c179e\"],[0.4444444444444444,\"#bd3786\"],[0.5555555555555556,\"#d8576b\"],[0.6666666666666666,\"#ed7953\"],[0.7777777777777778,\"#fb9f3a\"],[0.8888888888888888,\"#fdca26\"],[1.0,\"#f0f921\"]],\"diverging\":[[0,\"#8e0152\"],[0.1,\"#c51b7d\"],[0.2,\"#de77ae\"],[0.3,\"#f1b6da\"],[0.4,\"#fde0ef\"],[0.5,\"#f7f7f7\"],[0.6,\"#e6f5d0\"],[0.7,\"#b8e186\"],[0.8,\"#7fbc41\"],[0.9,\"#4d9221\"],[1,\"#276419\"]]},\"xaxis\":{\"gridcolor\":\"white\",\"linecolor\":\"white\",\"ticks\":\"\",\"title\":{\"standoff\":15},\"zerolinecolor\":\"white\",\"automargin\":true,\"zerolinewidth\":2},\"yaxis\":{\"gridcolor\":\"white\",\"linecolor\":\"white\",\"ticks\":\"\",\"title\":{\"standoff\":15},\"zerolinecolor\":\"white\",\"automargin\":true,\"zerolinewidth\":2},\"scene\":{\"xaxis\":{\"backgroundcolor\":\"#E5ECF6\",\"gridcolor\":\"white\",\"linecolor\":\"white\",\"showbackground\":true,\"ticks\":\"\",\"zerolinecolor\":\"white\",\"gridwidth\":2},\"yaxis\":{\"backgroundcolor\":\"#E5ECF6\",\"gridcolor\":\"white\",\"linecolor\":\"white\",\"showbackground\":true,\"ticks\":\"\",\"zerolinecolor\":\"white\",\"gridwidth\":2},\"zaxis\":{\"backgroundcolor\":\"#E5ECF6\",\"gridcolor\":\"white\",\"linecolor\":\"white\",\"showbackground\":true,\"ticks\":\"\",\"zerolinecolor\":\"white\",\"gridwidth\":2}},\"shapedefaults\":{\"line\":{\"color\":\"#2a3f5f\"}},\"annotationdefaults\":{\"arrowcolor\":\"#2a3f5f\",\"arrowhead\":0,\"arrowwidth\":1},\"geo\":{\"bgcolor\":\"white\",\"landcolor\":\"#E5ECF6\",\"subunitcolor\":\"white\",\"showland\":true,\"showlakes\":true,\"lakecolor\":\"white\"},\"title\":{\"x\":0.05},\"mapbox\":{\"style\":\"light\"}}},\"xaxis\":{\"anchor\":\"y\",\"domain\":[0.0,1.0],\"title\":{\"text\":\"Category\"}},\"yaxis\":{\"anchor\":\"x\",\"domain\":[0.0,1.0],\"title\":{\"text\":\"Sales\"}},\"legend\":{\"title\":{\"text\":\"State\"},\"tracegroupgap\":0},\"title\":{\"text\":\"revenue by state\"},\"barmode\":\"relative\"},                        {\"responsive\": true}                    ).then(function(){\n",
       "                            \n",
       "var gd = document.getElementById('b2d5ba46-d0d8-4eec-a60f-a7577f60403d');\n",
       "var x = new MutationObserver(function (mutations, observer) {{\n",
       "        var display = window.getComputedStyle(gd).display;\n",
       "        if (!display || display === 'none') {{\n",
       "            console.log([gd, 'removed!']);\n",
       "            Plotly.purge(gd);\n",
       "            observer.disconnect();\n",
       "        }}\n",
       "}});\n",
       "\n",
       "// Listen for the removal of the full notebook cells\n",
       "var notebookContainer = gd.closest('#notebook-container');\n",
       "if (notebookContainer) {{\n",
       "    x.observe(notebookContainer, {childList: true});\n",
       "}}\n",
       "\n",
       "// Listen for the clearing of the current output cell\n",
       "var outputEl = gd.closest('.output');\n",
       "if (outputEl) {{\n",
       "    x.observe(outputEl, {childList: true});\n",
       "}}\n",
       "\n",
       "                        })                };                });            </script>        </div>"
      ]
     },
     "metadata": {},
     "output_type": "display_data"
    }
   ],
   "source": [
    "import plotly.express as px\n",
    "fig = px.bar(df3,x='Category',\n",
    "            y='Sales',\n",
    "            color='State',\n",
    "            title='revenue by state')\n",
    "fig.show()"
   ]
  },
  {
   "cell_type": "markdown",
   "metadata": {
    "id": "a1XDvjVAimiG"
   },
   "source": [
    "## 5. Create an interactive line chart showing sale by day for California."
   ]
  },
  {
   "cell_type": "code",
   "execution_count": 28,
   "metadata": {},
   "outputs": [],
   "source": [
    "df2 = df.loc[df.State=='California']\n",
    "\n",
    "df2 = df2[['Order Date', 'Sales']].groupby('Order Date').sum()"
   ]
  },
  {
   "cell_type": "code",
   "execution_count": 30,
   "metadata": {
    "scrolled": true
   },
   "outputs": [
    {
     "data": {
      "application/vnd.plotly.v1+json": {
       "config": {
        "plotlyServerURL": "https://plot.ly"
       },
       "data": [
        {
         "mode": "lines",
         "type": "scatter",
         "x": [
          "2014-01-06T00:00:00",
          "2014-01-13T00:00:00",
          "2014-01-20T00:00:00",
          "2014-01-27T00:00:00",
          "2014-01-31T00:00:00",
          "2014-02-02T00:00:00",
          "2014-02-04T00:00:00",
          "2014-02-12T00:00:00",
          "2014-02-20T00:00:00",
          "2014-02-22T00:00:00",
          "2014-03-03T00:00:00",
          "2014-03-11T00:00:00",
          "2014-03-14T00:00:00",
          "2014-03-18T00:00:00",
          "2014-03-23T00:00:00",
          "2014-03-24T00:00:00",
          "2014-03-25T00:00:00",
          "2014-03-26T00:00:00",
          "2014-03-30T00:00:00",
          "2014-03-31T00:00:00",
          "2014-04-01T00:00:00",
          "2014-04-03T00:00:00",
          "2014-04-04T00:00:00",
          "2014-04-06T00:00:00",
          "2014-04-08T00:00:00",
          "2014-04-12T00:00:00",
          "2014-04-15T00:00:00",
          "2014-04-18T00:00:00",
          "2014-04-19T00:00:00",
          "2014-04-20T00:00:00",
          "2014-04-21T00:00:00",
          "2014-04-23T00:00:00",
          "2014-04-25T00:00:00",
          "2014-04-26T00:00:00",
          "2014-04-28T00:00:00",
          "2014-05-06T00:00:00",
          "2014-05-09T00:00:00",
          "2014-05-10T00:00:00",
          "2014-05-13T00:00:00",
          "2014-05-16T00:00:00",
          "2014-05-21T00:00:00",
          "2014-05-26T00:00:00",
          "2014-05-27T00:00:00",
          "2014-06-09T00:00:00",
          "2014-06-13T00:00:00",
          "2014-06-18T00:00:00",
          "2014-06-25T00:00:00",
          "2014-06-30T00:00:00",
          "2014-07-05T00:00:00",
          "2014-07-06T00:00:00",
          "2014-07-08T00:00:00",
          "2014-07-09T00:00:00",
          "2014-07-12T00:00:00",
          "2014-07-13T00:00:00",
          "2014-07-20T00:00:00",
          "2014-07-21T00:00:00",
          "2014-07-22T00:00:00",
          "2014-07-23T00:00:00",
          "2014-07-25T00:00:00",
          "2014-07-27T00:00:00",
          "2014-08-01T00:00:00",
          "2014-08-05T00:00:00",
          "2014-08-08T00:00:00",
          "2014-08-09T00:00:00",
          "2014-08-12T00:00:00",
          "2014-08-15T00:00:00",
          "2014-08-19T00:00:00",
          "2014-08-23T00:00:00",
          "2014-08-25T00:00:00",
          "2014-08-26T00:00:00",
          "2014-08-27T00:00:00",
          "2014-08-29T00:00:00",
          "2014-09-01T00:00:00",
          "2014-09-06T00:00:00",
          "2014-09-07T00:00:00",
          "2014-09-08T00:00:00",
          "2014-09-11T00:00:00",
          "2014-09-17T00:00:00",
          "2014-09-19T00:00:00",
          "2014-09-20T00:00:00",
          "2014-09-21T00:00:00",
          "2014-09-22T00:00:00",
          "2014-09-23T00:00:00",
          "2014-09-24T00:00:00",
          "2014-09-26T00:00:00",
          "2014-09-27T00:00:00",
          "2014-09-29T00:00:00",
          "2014-10-03T00:00:00",
          "2014-10-04T00:00:00",
          "2014-10-05T00:00:00",
          "2014-10-06T00:00:00",
          "2014-10-09T00:00:00",
          "2014-10-10T00:00:00",
          "2014-10-11T00:00:00",
          "2014-10-12T00:00:00",
          "2014-10-16T00:00:00",
          "2014-10-19T00:00:00",
          "2014-10-21T00:00:00",
          "2014-10-24T00:00:00",
          "2014-10-25T00:00:00",
          "2014-10-28T00:00:00",
          "2014-10-31T00:00:00",
          "2014-11-01T00:00:00",
          "2014-11-02T00:00:00",
          "2014-11-03T00:00:00",
          "2014-11-04T00:00:00",
          "2014-11-05T00:00:00",
          "2014-11-07T00:00:00",
          "2014-11-08T00:00:00",
          "2014-11-09T00:00:00",
          "2014-11-10T00:00:00",
          "2014-11-11T00:00:00",
          "2014-11-12T00:00:00",
          "2014-11-15T00:00:00",
          "2014-11-16T00:00:00",
          "2014-11-17T00:00:00",
          "2014-11-21T00:00:00",
          "2014-11-22T00:00:00",
          "2014-11-23T00:00:00",
          "2014-11-24T00:00:00",
          "2014-11-25T00:00:00",
          "2014-11-26T00:00:00",
          "2014-11-28T00:00:00",
          "2014-11-29T00:00:00",
          "2014-12-01T00:00:00",
          "2014-12-05T00:00:00",
          "2014-12-06T00:00:00",
          "2014-12-07T00:00:00",
          "2014-12-08T00:00:00",
          "2014-12-09T00:00:00",
          "2014-12-12T00:00:00",
          "2014-12-13T00:00:00",
          "2014-12-15T00:00:00",
          "2014-12-16T00:00:00",
          "2014-12-19T00:00:00",
          "2014-12-20T00:00:00",
          "2014-12-21T00:00:00",
          "2014-12-22T00:00:00",
          "2014-12-24T00:00:00",
          "2014-12-26T00:00:00",
          "2014-12-27T00:00:00",
          "2014-12-28T00:00:00",
          "2014-12-29T00:00:00",
          "2015-01-05T00:00:00",
          "2015-01-13T00:00:00",
          "2015-01-26T00:00:00",
          "2015-01-27T00:00:00",
          "2015-01-30T00:00:00",
          "2015-02-03T00:00:00",
          "2015-02-09T00:00:00",
          "2015-02-15T00:00:00",
          "2015-02-16T00:00:00",
          "2015-02-18T00:00:00",
          "2015-03-01T00:00:00",
          "2015-03-06T00:00:00",
          "2015-03-13T00:00:00",
          "2015-03-14T00:00:00",
          "2015-03-16T00:00:00",
          "2015-03-19T00:00:00",
          "2015-03-22T00:00:00",
          "2015-03-23T00:00:00",
          "2015-03-28T00:00:00",
          "2015-03-29T00:00:00",
          "2015-04-02T00:00:00",
          "2015-04-05T00:00:00",
          "2015-04-09T00:00:00",
          "2015-04-10T00:00:00",
          "2015-04-11T00:00:00",
          "2015-04-13T00:00:00",
          "2015-04-17T00:00:00",
          "2015-04-18T00:00:00",
          "2015-04-22T00:00:00",
          "2015-04-25T00:00:00",
          "2015-04-26T00:00:00",
          "2015-04-30T00:00:00",
          "2015-05-01T00:00:00",
          "2015-05-03T00:00:00",
          "2015-05-12T00:00:00",
          "2015-05-14T00:00:00",
          "2015-05-18T00:00:00",
          "2015-05-22T00:00:00",
          "2015-05-25T00:00:00",
          "2015-05-31T00:00:00",
          "2015-06-01T00:00:00",
          "2015-06-04T00:00:00",
          "2015-06-07T00:00:00",
          "2015-06-13T00:00:00",
          "2015-06-15T00:00:00",
          "2015-06-18T00:00:00",
          "2015-06-19T00:00:00",
          "2015-06-20T00:00:00",
          "2015-06-23T00:00:00",
          "2015-06-25T00:00:00",
          "2015-07-04T00:00:00",
          "2015-07-06T00:00:00",
          "2015-07-10T00:00:00",
          "2015-07-16T00:00:00",
          "2015-07-17T00:00:00",
          "2015-07-18T00:00:00",
          "2015-07-25T00:00:00",
          "2015-07-26T00:00:00",
          "2015-07-30T00:00:00",
          "2015-08-01T00:00:00",
          "2015-08-07T00:00:00",
          "2015-08-08T00:00:00",
          "2015-08-13T00:00:00",
          "2015-08-15T00:00:00",
          "2015-08-21T00:00:00",
          "2015-08-25T00:00:00",
          "2015-08-27T00:00:00",
          "2015-08-28T00:00:00",
          "2015-08-31T00:00:00",
          "2015-09-01T00:00:00",
          "2015-09-03T00:00:00",
          "2015-09-05T00:00:00",
          "2015-09-06T00:00:00",
          "2015-09-07T00:00:00",
          "2015-09-08T00:00:00",
          "2015-09-10T00:00:00",
          "2015-09-11T00:00:00",
          "2015-09-13T00:00:00",
          "2015-09-14T00:00:00",
          "2015-09-17T00:00:00",
          "2015-09-18T00:00:00",
          "2015-09-19T00:00:00",
          "2015-09-21T00:00:00",
          "2015-09-22T00:00:00",
          "2015-09-24T00:00:00",
          "2015-09-25T00:00:00",
          "2015-09-26T00:00:00",
          "2015-09-27T00:00:00",
          "2015-09-28T00:00:00",
          "2015-10-02T00:00:00",
          "2015-10-03T00:00:00",
          "2015-10-04T00:00:00",
          "2015-10-08T00:00:00",
          "2015-10-10T00:00:00",
          "2015-10-17T00:00:00",
          "2015-10-19T00:00:00",
          "2015-10-20T00:00:00",
          "2015-10-23T00:00:00",
          "2015-10-24T00:00:00",
          "2015-10-25T00:00:00",
          "2015-10-26T00:00:00",
          "2015-10-29T00:00:00",
          "2015-10-31T00:00:00",
          "2015-11-02T00:00:00",
          "2015-11-03T00:00:00",
          "2015-11-05T00:00:00",
          "2015-11-07T00:00:00",
          "2015-11-08T00:00:00",
          "2015-11-09T00:00:00",
          "2015-11-10T00:00:00",
          "2015-11-12T00:00:00",
          "2015-11-13T00:00:00",
          "2015-11-16T00:00:00",
          "2015-11-17T00:00:00",
          "2015-11-20T00:00:00",
          "2015-11-22T00:00:00",
          "2015-11-24T00:00:00",
          "2015-11-27T00:00:00",
          "2015-11-28T00:00:00",
          "2015-11-29T00:00:00",
          "2015-12-01T00:00:00",
          "2015-12-03T00:00:00",
          "2015-12-04T00:00:00",
          "2015-12-05T00:00:00",
          "2015-12-06T00:00:00",
          "2015-12-07T00:00:00",
          "2015-12-08T00:00:00",
          "2015-12-10T00:00:00",
          "2015-12-11T00:00:00",
          "2015-12-12T00:00:00",
          "2015-12-13T00:00:00",
          "2015-12-14T00:00:00",
          "2015-12-17T00:00:00",
          "2015-12-19T00:00:00",
          "2015-12-20T00:00:00",
          "2015-12-24T00:00:00",
          "2015-12-25T00:00:00",
          "2015-12-27T00:00:00",
          "2015-12-30T00:00:00",
          "2016-01-03T00:00:00",
          "2016-01-07T00:00:00",
          "2016-01-09T00:00:00",
          "2016-01-16T00:00:00",
          "2016-01-21T00:00:00",
          "2016-01-22T00:00:00",
          "2016-01-23T00:00:00",
          "2016-01-28T00:00:00",
          "2016-01-30T00:00:00",
          "2016-01-31T00:00:00",
          "2016-02-01T00:00:00",
          "2016-02-04T00:00:00",
          "2016-02-05T00:00:00",
          "2016-02-07T00:00:00",
          "2016-02-09T00:00:00",
          "2016-02-13T00:00:00",
          "2016-02-19T00:00:00",
          "2016-02-21T00:00:00",
          "2016-02-22T00:00:00",
          "2016-03-03T00:00:00",
          "2016-03-04T00:00:00",
          "2016-03-10T00:00:00",
          "2016-03-12T00:00:00",
          "2016-03-13T00:00:00",
          "2016-03-14T00:00:00",
          "2016-03-15T00:00:00",
          "2016-03-17T00:00:00",
          "2016-03-28T00:00:00",
          "2016-04-07T00:00:00",
          "2016-04-08T00:00:00",
          "2016-04-09T00:00:00",
          "2016-04-10T00:00:00",
          "2016-04-12T00:00:00",
          "2016-04-13T00:00:00",
          "2016-04-14T00:00:00",
          "2016-04-15T00:00:00",
          "2016-04-17T00:00:00",
          "2016-04-19T00:00:00",
          "2016-04-22T00:00:00",
          "2016-04-23T00:00:00",
          "2016-04-24T00:00:00",
          "2016-04-28T00:00:00",
          "2016-05-05T00:00:00",
          "2016-05-06T00:00:00",
          "2016-05-08T00:00:00",
          "2016-05-09T00:00:00",
          "2016-05-11T00:00:00",
          "2016-05-12T00:00:00",
          "2016-05-16T00:00:00",
          "2016-05-18T00:00:00",
          "2016-05-19T00:00:00",
          "2016-05-20T00:00:00",
          "2016-05-21T00:00:00",
          "2016-05-22T00:00:00",
          "2016-05-23T00:00:00",
          "2016-05-26T00:00:00",
          "2016-05-27T00:00:00",
          "2016-05-28T00:00:00",
          "2016-05-30T00:00:00",
          "2016-06-03T00:00:00",
          "2016-06-05T00:00:00",
          "2016-06-06T00:00:00",
          "2016-06-07T00:00:00",
          "2016-06-09T00:00:00",
          "2016-06-10T00:00:00",
          "2016-06-11T00:00:00",
          "2016-06-12T00:00:00",
          "2016-06-14T00:00:00",
          "2016-06-16T00:00:00",
          "2016-06-17T00:00:00",
          "2016-06-19T00:00:00",
          "2016-06-20T00:00:00",
          "2016-06-23T00:00:00",
          "2016-06-24T00:00:00",
          "2016-06-25T00:00:00",
          "2016-06-26T00:00:00",
          "2016-06-27T00:00:00",
          "2016-06-28T00:00:00",
          "2016-07-02T00:00:00",
          "2016-07-03T00:00:00",
          "2016-07-04T00:00:00",
          "2016-07-07T00:00:00",
          "2016-07-12T00:00:00",
          "2016-07-14T00:00:00",
          "2016-07-17T00:00:00",
          "2016-07-19T00:00:00",
          "2016-07-21T00:00:00",
          "2016-07-22T00:00:00",
          "2016-07-25T00:00:00",
          "2016-07-28T00:00:00",
          "2016-07-30T00:00:00",
          "2016-07-31T00:00:00",
          "2016-08-01T00:00:00",
          "2016-08-02T00:00:00",
          "2016-08-04T00:00:00",
          "2016-08-06T00:00:00",
          "2016-08-08T00:00:00",
          "2016-08-14T00:00:00",
          "2016-08-15T00:00:00",
          "2016-08-16T00:00:00",
          "2016-08-21T00:00:00",
          "2016-08-22T00:00:00",
          "2016-08-26T00:00:00",
          "2016-08-30T00:00:00",
          "2016-09-01T00:00:00",
          "2016-09-02T00:00:00",
          "2016-09-04T00:00:00",
          "2016-09-05T00:00:00",
          "2016-09-08T00:00:00",
          "2016-09-09T00:00:00",
          "2016-09-10T00:00:00",
          "2016-09-11T00:00:00",
          "2016-09-16T00:00:00",
          "2016-09-17T00:00:00",
          "2016-09-18T00:00:00",
          "2016-09-19T00:00:00",
          "2016-09-20T00:00:00",
          "2016-09-23T00:00:00",
          "2016-09-24T00:00:00",
          "2016-09-25T00:00:00",
          "2016-09-26T00:00:00",
          "2016-09-29T00:00:00",
          "2016-10-01T00:00:00",
          "2016-10-03T00:00:00",
          "2016-10-07T00:00:00",
          "2016-10-08T00:00:00",
          "2016-10-13T00:00:00",
          "2016-10-17T00:00:00",
          "2016-10-20T00:00:00",
          "2016-10-21T00:00:00",
          "2016-10-24T00:00:00",
          "2016-10-27T00:00:00",
          "2016-10-28T00:00:00",
          "2016-10-29T00:00:00",
          "2016-10-30T00:00:00",
          "2016-10-31T00:00:00",
          "2016-11-03T00:00:00",
          "2016-11-04T00:00:00",
          "2016-11-05T00:00:00",
          "2016-11-06T00:00:00",
          "2016-11-07T00:00:00",
          "2016-11-09T00:00:00",
          "2016-11-10T00:00:00",
          "2016-11-11T00:00:00",
          "2016-11-12T00:00:00",
          "2016-11-14T00:00:00",
          "2016-11-15T00:00:00",
          "2016-11-16T00:00:00",
          "2016-11-17T00:00:00",
          "2016-11-18T00:00:00",
          "2016-11-20T00:00:00",
          "2016-11-21T00:00:00",
          "2016-11-24T00:00:00",
          "2016-11-25T00:00:00",
          "2016-11-26T00:00:00",
          "2016-12-01T00:00:00",
          "2016-12-02T00:00:00",
          "2016-12-03T00:00:00",
          "2016-12-04T00:00:00",
          "2016-12-06T00:00:00",
          "2016-12-08T00:00:00",
          "2016-12-09T00:00:00",
          "2016-12-10T00:00:00",
          "2016-12-11T00:00:00",
          "2016-12-12T00:00:00",
          "2016-12-13T00:00:00",
          "2016-12-14T00:00:00",
          "2016-12-15T00:00:00",
          "2016-12-16T00:00:00",
          "2016-12-17T00:00:00",
          "2016-12-18T00:00:00",
          "2016-12-22T00:00:00",
          "2016-12-24T00:00:00",
          "2016-12-25T00:00:00",
          "2016-12-26T00:00:00",
          "2016-12-27T00:00:00",
          "2016-12-29T00:00:00",
          "2016-12-30T00:00:00",
          "2016-12-31T00:00:00",
          "2017-01-01T00:00:00",
          "2017-01-02T00:00:00",
          "2017-01-03T00:00:00",
          "2017-01-07T00:00:00",
          "2017-01-12T00:00:00",
          "2017-01-14T00:00:00",
          "2017-01-15T00:00:00",
          "2017-01-16T00:00:00",
          "2017-01-20T00:00:00",
          "2017-01-24T00:00:00",
          "2017-01-26T00:00:00",
          "2017-01-28T00:00:00",
          "2017-01-29T00:00:00",
          "2017-01-30T00:00:00",
          "2017-02-02T00:00:00",
          "2017-02-05T00:00:00",
          "2017-02-06T00:00:00",
          "2017-02-09T00:00:00",
          "2017-02-10T00:00:00",
          "2017-02-11T00:00:00",
          "2017-02-18T00:00:00",
          "2017-02-19T00:00:00",
          "2017-02-20T00:00:00",
          "2017-02-23T00:00:00",
          "2017-02-26T00:00:00",
          "2017-03-02T00:00:00",
          "2017-03-03T00:00:00",
          "2017-03-04T00:00:00",
          "2017-03-06T00:00:00",
          "2017-03-08T00:00:00",
          "2017-03-09T00:00:00",
          "2017-03-10T00:00:00",
          "2017-03-12T00:00:00",
          "2017-03-13T00:00:00",
          "2017-03-16T00:00:00",
          "2017-03-17T00:00:00",
          "2017-03-18T00:00:00",
          "2017-03-19T00:00:00",
          "2017-03-21T00:00:00",
          "2017-03-23T00:00:00",
          "2017-03-25T00:00:00",
          "2017-03-27T00:00:00",
          "2017-03-28T00:00:00",
          "2017-03-30T00:00:00",
          "2017-03-31T00:00:00",
          "2017-04-01T00:00:00",
          "2017-04-02T00:00:00",
          "2017-04-08T00:00:00",
          "2017-04-11T00:00:00",
          "2017-04-13T00:00:00",
          "2017-04-15T00:00:00",
          "2017-04-16T00:00:00",
          "2017-04-17T00:00:00",
          "2017-04-22T00:00:00",
          "2017-04-23T00:00:00",
          "2017-04-24T00:00:00",
          "2017-04-25T00:00:00",
          "2017-04-27T00:00:00",
          "2017-04-30T00:00:00",
          "2017-05-02T00:00:00",
          "2017-05-03T00:00:00",
          "2017-05-04T00:00:00",
          "2017-05-05T00:00:00",
          "2017-05-06T00:00:00",
          "2017-05-07T00:00:00",
          "2017-05-08T00:00:00",
          "2017-05-12T00:00:00",
          "2017-05-13T00:00:00",
          "2017-05-14T00:00:00",
          "2017-05-19T00:00:00",
          "2017-05-20T00:00:00",
          "2017-05-22T00:00:00",
          "2017-05-23T00:00:00",
          "2017-05-26T00:00:00",
          "2017-05-30T00:00:00",
          "2017-06-03T00:00:00",
          "2017-06-06T00:00:00",
          "2017-06-08T00:00:00",
          "2017-06-10T00:00:00",
          "2017-06-11T00:00:00",
          "2017-06-15T00:00:00",
          "2017-06-16T00:00:00",
          "2017-06-17T00:00:00",
          "2017-06-18T00:00:00",
          "2017-06-19T00:00:00",
          "2017-06-24T00:00:00",
          "2017-06-26T00:00:00",
          "2017-06-29T00:00:00",
          "2017-06-30T00:00:00",
          "2017-07-03T00:00:00",
          "2017-07-06T00:00:00",
          "2017-07-07T00:00:00",
          "2017-07-08T00:00:00",
          "2017-07-11T00:00:00",
          "2017-07-14T00:00:00",
          "2017-07-17T00:00:00",
          "2017-07-21T00:00:00",
          "2017-07-23T00:00:00",
          "2017-07-24T00:00:00",
          "2017-07-26T00:00:00",
          "2017-07-28T00:00:00",
          "2017-07-30T00:00:00",
          "2017-07-31T00:00:00",
          "2017-08-01T00:00:00",
          "2017-08-03T00:00:00",
          "2017-08-07T00:00:00",
          "2017-08-12T00:00:00",
          "2017-08-13T00:00:00",
          "2017-08-14T00:00:00",
          "2017-08-17T00:00:00",
          "2017-08-20T00:00:00",
          "2017-08-21T00:00:00",
          "2017-08-22T00:00:00",
          "2017-08-27T00:00:00",
          "2017-08-29T00:00:00",
          "2017-08-31T00:00:00",
          "2017-09-02T00:00:00",
          "2017-09-03T00:00:00",
          "2017-09-04T00:00:00",
          "2017-09-07T00:00:00",
          "2017-09-09T00:00:00",
          "2017-09-10T00:00:00",
          "2017-09-11T00:00:00",
          "2017-09-12T00:00:00",
          "2017-09-14T00:00:00",
          "2017-09-15T00:00:00",
          "2017-09-16T00:00:00",
          "2017-09-18T00:00:00",
          "2017-09-19T00:00:00",
          "2017-09-21T00:00:00",
          "2017-09-22T00:00:00",
          "2017-09-23T00:00:00",
          "2017-09-24T00:00:00",
          "2017-09-26T00:00:00",
          "2017-09-28T00:00:00",
          "2017-09-29T00:00:00",
          "2017-09-30T00:00:00",
          "2017-10-01T00:00:00",
          "2017-10-02T00:00:00",
          "2017-10-03T00:00:00",
          "2017-10-05T00:00:00",
          "2017-10-07T00:00:00",
          "2017-10-08T00:00:00",
          "2017-10-09T00:00:00",
          "2017-10-12T00:00:00",
          "2017-10-13T00:00:00",
          "2017-10-14T00:00:00",
          "2017-10-15T00:00:00",
          "2017-10-17T00:00:00",
          "2017-10-19T00:00:00",
          "2017-10-20T00:00:00",
          "2017-10-27T00:00:00",
          "2017-10-30T00:00:00",
          "2017-11-02T00:00:00",
          "2017-11-03T00:00:00",
          "2017-11-05T00:00:00",
          "2017-11-06T00:00:00",
          "2017-11-07T00:00:00",
          "2017-11-09T00:00:00",
          "2017-11-10T00:00:00",
          "2017-11-11T00:00:00",
          "2017-11-12T00:00:00",
          "2017-11-13T00:00:00",
          "2017-11-14T00:00:00",
          "2017-11-16T00:00:00",
          "2017-11-19T00:00:00",
          "2017-11-20T00:00:00",
          "2017-11-21T00:00:00",
          "2017-11-24T00:00:00",
          "2017-11-25T00:00:00",
          "2017-11-27T00:00:00",
          "2017-11-28T00:00:00",
          "2017-11-30T00:00:00",
          "2017-12-01T00:00:00",
          "2017-12-02T00:00:00",
          "2017-12-03T00:00:00",
          "2017-12-04T00:00:00",
          "2017-12-05T00:00:00",
          "2017-12-06T00:00:00",
          "2017-12-07T00:00:00",
          "2017-12-08T00:00:00",
          "2017-12-09T00:00:00",
          "2017-12-10T00:00:00",
          "2017-12-13T00:00:00",
          "2017-12-14T00:00:00",
          "2017-12-15T00:00:00",
          "2017-12-16T00:00:00",
          "2017-12-17T00:00:00",
          "2017-12-18T00:00:00",
          "2017-12-19T00:00:00",
          "2017-12-21T00:00:00",
          "2017-12-22T00:00:00",
          "2017-12-23T00:00:00",
          "2017-12-24T00:00:00",
          "2017-12-25T00:00:00",
          "2017-12-28T00:00:00",
          "2017-12-29T00:00:00",
          "2017-12-30T00:00:00"
         ],
         "y": [
          19.44,
          1679.749,
          38.66,
          426.67,
          290.666,
          12.350000000000001,
          134.38400000000001,
          129.568,
          12.96,
          19.44,
          626.3520000000001,
          7.98,
          13.940000000000001,
          4445.488,
          935.1519999999999,
          40.48,
          92.36,
          145.13000000000002,
          205.666,
          726.5480000000001,
          46.688,
          233.45,
          26.084,
          636.478,
          499.55199999999996,
          1879.723,
          294.71999999999997,
          323.458,
          76.14,
          59.92,
          16.520000000000003,
          48.91,
          2061.01,
          282.56800000000004,
          1679.96,
          254.456,
          235.76999999999998,
          1769.7840000000003,
          437.42600000000004,
          289.28,
          31.84,
          801.53,
          2139.9339999999997,
          3744.764,
          14.52,
          139.8,
          447.84,
          32.400000000000006,
          180.96000000000004,
          478.48,
          699.192,
          240.801,
          1211.75,
          351.216,
          891.466,
          1173.6160000000002,
          1155.772,
          992.828,
          8341.289999999999,
          514.28,
          19.752000000000002,
          550.164,
          2473.096,
          26.86,
          891.7760000000001,
          505.282,
          358.696,
          49.568000000000005,
          176.14,
          176.8,
          244.76000000000002,
          123.28,
          53.94,
          100.36,
          131.84000000000003,
          134.228,
          127.94999999999999,
          182.94,
          12.83,
          104.392,
          451.28400000000005,
          210.13,
          519.9830000000001,
          211.96,
          750.5600000000001,
          685.9,
          968.3,
          265.784,
          110.09800000000001,
          99.98,
          9.09,
          160.592,
          137.632,
          473.12800000000004,
          36.29,
          194.322,
          641.104,
          36.36,
          34.272,
          49.408,
          1252.602,
          1081.52,
          65.80000000000001,
          409.30400000000003,
          6.72,
          1767.6960000000001,
          20.04,
          123.14399999999999,
          333.576,
          1517.574,
          807.6859999999999,
          850.7560000000001,
          641.0240000000001,
          813.99,
          736.0725,
          1075.37,
          114.53,
          53.82000000000001,
          1037.19,
          272.432,
          1644.224,
          149.092,
          643.702,
          606.3199999999999,
          58.199999999999996,
          340.84,
          1261.33,
          173.51999999999998,
          119.32,
          34.68,
          4704.5405,
          90.24,
          6.16,
          2712.1160000000004,
          832.1379999999999,
          694.5340000000001,
          1897.92,
          11.76,
          1910.2740000000001,
          15.39,
          362.026,
          1049.97,
          1774.3980000000001,
          143.51999999999998,
          612.458,
          182.72,
          2803.92,
          2147.3360000000002,
          136.92,
          203.92,
          627.48,
          124.54999999999998,
          105.84400000000001,
          200.73600000000002,
          1555.2440000000001,
          1242.8960000000002,
          19.44,
          43.13,
          128.548,
          1701.44,
          466.04999999999995,
          199.64000000000001,
          295.68,
          71.976,
          892.224,
          369.91200000000003,
          12.832,
          692.7280000000001,
          2004.3760000000002,
          2572.5,
          1124.5700000000002,
          152.916,
          35.284,
          485.7840000000001,
          54.45,
          173.308,
          1140.5720000000001,
          38.519999999999996,
          2570.7075,
          10.86,
          3862.0980000000004,
          14.73,
          244.77999999999997,
          11.76,
          1109.95,
          7.52,
          36.624,
          225.57599999999996,
          51.98,
          205.73,
          383.616,
          366.99,
          618.792,
          22.848,
          170.35200000000003,
          39.92,
          2048.856,
          195.466,
          519.96,
          623.96,
          299.34000000000003,
          226.12999999999997,
          1011.6960000000001,
          19.152,
          158.672,
          82.36,
          497.59000000000003,
          1299.526,
          146.744,
          639.974,
          2017.532,
          2580.837,
          979.104,
          314.726,
          733.283,
          46.32,
          671.93,
          68.28,
          158.20000000000002,
          455.84999999999997,
          1336.352,
          170.13600000000002,
          32.400000000000006,
          684.84,
          83.80000000000001,
          609.4359999999999,
          266.03999999999996,
          1173.03,
          17.48,
          188.63,
          175.29,
          438.736,
          897.1800000000001,
          120.666,
          26.96,
          145.9,
          438.546,
          77.88,
          1910.6999999999998,
          695.5260000000001,
          1446.784,
          454.27200000000005,
          313.626,
          5.76,
          244.24,
          3058.1490000000003,
          1777.739,
          1345.418,
          62.8,
          190.72000000000003,
          496.87,
          2.48,
          79.9,
          15.700000000000001,
          723.164,
          18.9,
          1873.6060000000002,
          860.412,
          114.37,
          1218.7640000000001,
          505.71000000000004,
          45.28,
          60.604,
          2676.672,
          359.49899999999997,
          460.172,
          96.06,
          388.824,
          92.88,
          457.96000000000004,
          62.059999999999995,
          110.528,
          1287.986,
          966.066,
          472.116,
          450.194,
          1941.81,
          17.12,
          65.85600000000001,
          1240.46,
          1127.7,
          3251.3400000000006,
          114.46,
          34.58,
          727.878,
          102.218,
          1167.056,
          65.05000000000001,
          59.99,
          39.68,
          399.26,
          166.29200000000003,
          105.52,
          93.02,
          918.9659999999999,
          623.96,
          121.83,
          146.82,
          70.88,
          511.948,
          492.85,
          60.629999999999995,
          16.99,
          7558.262000000001,
          1652.342,
          4992.054,
          41.904,
          1356.5760000000002,
          84.784,
          93.9,
          1199.976,
          122.66,
          556.665,
          928.1220000000001,
          901.9120000000001,
          6.12,
          383.8,
          1265.268,
          257.499,
          156.51600000000002,
          31.56,
          441.568,
          3.9840000000000004,
          41.568000000000005,
          628.732,
          41.6,
          17.94,
          32.04,
          5.98,
          128.67,
          327.9,
          122.22,
          97.424,
          1064.624,
          121.436,
          222.38400000000001,
          37.05,
          1119.1480000000001,
          13.38,
          1157.6799999999998,
          206.72,
          71.08800000000001,
          79.792,
          3650.438,
          9.514000000000001,
          299.832,
          1388.7800000000002,
          902.712,
          213.46,
          1946.3529999999998,
          46.349999999999994,
          593.9659999999999,
          17.12,
          453.8,
          997.9340000000001,
          4861.33,
          60.81,
          284.24,
          201.584,
          41.32000000000001,
          195.184,
          16.92,
          1376.445,
          3352.5180000000005,
          95.76,
          292.796,
          77.88,
          425.954,
          423.05,
          6.3,
          744.894,
          18.9,
          715.64,
          863.128,
          1085.688,
          482.58400000000006,
          335.12,
          211.168,
          1016.184,
          121.09199999999998,
          608.216,
          204.54000000000002,
          3339.1220000000003,
          5.76,
          1776.5260000000003,
          387.00000000000006,
          34.66,
          1850.7780000000002,
          2824.2300000000005,
          228.12,
          557.0600000000001,
          55.36000000000001,
          276.78400000000005,
          3727.792,
          304.106,
          100.164,
          2295.9900000000002,
          187,
          475.694,
          22.979999999999997,
          1015,
          1553.314,
          562.4975,
          82.45,
          194.848,
          1027.676,
          37.824,
          61.96,
          256.196,
          138.826,
          406.432,
          792.7660000000001,
          1109.97,
          136.08800000000002,
          495.93199999999996,
          11.744,
          3.62,
          2489.34,
          2051.454,
          968.258,
          426.386,
          404.824,
          655.6700000000001,
          479.97,
          1778.298,
          531.5759999999999,
          878.3280000000001,
          17.22,
          1515.694,
          8.32,
          49.5,
          785.152,
          66.88,
          32.400000000000006,
          2948.032,
          194.35200000000003,
          4104.174,
          1255.5,
          303.358,
          3079.54,
          104.85,
          1037.7420000000002,
          1862.0140000000004,
          273.92,
          401.84799999999996,
          1937.9240000000002,
          440.15999999999997,
          1130.2079999999999,
          216.22400000000002,
          14.76,
          585.13,
          2003.52,
          1754.026,
          884.6800000000001,
          83.72,
          2875.544,
          1431.078,
          20.16,
          53.222,
          487.704,
          340.75199999999995,
          474.43,
          16.59,
          2070.2720000000004,
          332.8,
          9.78,
          154.9,
          21.400000000000002,
          427.59200000000004,
          544.952,
          412.9960000000001,
          11.84,
          277.71,
          136.526,
          271.644,
          753.624,
          2011.8999999999999,
          29.900000000000002,
          376.02000000000004,
          203.98299999999998,
          21.336,
          287.326,
          57.510000000000005,
          238.19799999999998,
          37.44,
          2847.646,
          784.3639999999999,
          1619.4640000000002,
          24.57,
          611.47,
          174.56000000000003,
          710.8040000000001,
          111.96,
          242.94,
          314.54999999999995,
          540.934,
          17.456,
          124.16,
          2128.398,
          745.2800000000001,
          211.84,
          1069.132,
          168.58,
          1435.96,
          265.07200000000006,
          29.700000000000003,
          5410.107999999999,
          25.11,
          440.30999999999995,
          241.81,
          436.70400000000006,
          79.14,
          349.493,
          562.702,
          18.28,
          183.38,
          1.81,
          559.2489999999999,
          183.61,
          292.5,
          269.18,
          881.84,
          745.634,
          23.16,
          152.94,
          499.93399999999997,
          3441.032,
          551.038,
          58.48,
          1418.21,
          859.9480000000001,
          868.4520000000001,
          130.64,
          171.288,
          12.96,
          72.62,
          60.622,
          31.35,
          1515.186,
          854.8249999999999,
          184.41,
          172.196,
          1231.5,
          51.312,
          956.8034999999999,
          74.88,
          520.22,
          83.76,
          2708.9519999999998,
          640.9490000000001,
          217.31,
          122.13600000000001,
          5.9399999999999995,
          221.07999999999998,
          1565.9720000000002,
          988.2040000000001,
          1775.009,
          1921.7000000000003,
          73.512,
          2399.96,
          2012.3020000000001,
          1170.564,
          356.65,
          93.52000000000001,
          241.436,
          275.58000000000004,
          2981.584,
          597.8599999999999,
          242.69400000000002,
          440.73599999999993,
          3397.7319999999995,
          616.7,
          1520.15,
          210.008,
          2971.7920000000004,
          148.02,
          890.0300000000001,
          1249.3220000000001,
          613.156,
          4068.726,
          229.26800000000003,
          557.83,
          369.536,
          2691.764,
          174.8,
          56.699999999999996,
          4171.888,
          32.7,
          163.38,
          190.01,
          71.37,
          21.96,
          1065.6000000000001,
          1403.8600000000001,
          1065.2160000000001,
          9.24,
          500.546,
          159.98,
          518.534,
          2073.88,
          171.288,
          874.9280000000001,
          1632.2399999999998,
          419.832,
          35.2,
          544.5500000000001,
          5325.884,
          55.82,
          993.21,
          63.432,
          135.012,
          24.678,
          914.0409999999999,
          1993.772,
          1326.982,
          2395.182,
          12.96,
          219.73999999999998,
          1283.1060000000002,
          950.038,
          361.014,
          186.85,
          36.136,
          104.95,
          355.808,
          2953.146,
          355.678,
          410.576,
          792.2320000000001,
          694.288,
          449.179,
          604.606,
          62.65,
          25.83,
          685.1279999999999,
          2235.938,
          166.44,
          11.76,
          92.94,
          10.68,
          424.41600000000005,
          4487.381,
          1689.5130000000001,
          194.304,
          261.52,
          134.91,
          273.92600000000004,
          814.5260000000001,
          535.578,
          344.235,
          36.672000000000004,
          1136.89,
          474.95,
          13.48,
          2970.4320000000002,
          424.172,
          1066.544,
          797.064,
          34.623999999999995
         ]
        }
       ],
       "layout": {
        "template": {
         "data": {
          "bar": [
           {
            "error_x": {
             "color": "#2a3f5f"
            },
            "error_y": {
             "color": "#2a3f5f"
            },
            "marker": {
             "line": {
              "color": "#E5ECF6",
              "width": 0.5
             },
             "pattern": {
              "fillmode": "overlay",
              "size": 10,
              "solidity": 0.2
             }
            },
            "type": "bar"
           }
          ],
          "barpolar": [
           {
            "marker": {
             "line": {
              "color": "#E5ECF6",
              "width": 0.5
             },
             "pattern": {
              "fillmode": "overlay",
              "size": 10,
              "solidity": 0.2
             }
            },
            "type": "barpolar"
           }
          ],
          "carpet": [
           {
            "aaxis": {
             "endlinecolor": "#2a3f5f",
             "gridcolor": "white",
             "linecolor": "white",
             "minorgridcolor": "white",
             "startlinecolor": "#2a3f5f"
            },
            "baxis": {
             "endlinecolor": "#2a3f5f",
             "gridcolor": "white",
             "linecolor": "white",
             "minorgridcolor": "white",
             "startlinecolor": "#2a3f5f"
            },
            "type": "carpet"
           }
          ],
          "choropleth": [
           {
            "colorbar": {
             "outlinewidth": 0,
             "ticks": ""
            },
            "type": "choropleth"
           }
          ],
          "contour": [
           {
            "colorbar": {
             "outlinewidth": 0,
             "ticks": ""
            },
            "colorscale": [
             [
              0,
              "#0d0887"
             ],
             [
              0.1111111111111111,
              "#46039f"
             ],
             [
              0.2222222222222222,
              "#7201a8"
             ],
             [
              0.3333333333333333,
              "#9c179e"
             ],
             [
              0.4444444444444444,
              "#bd3786"
             ],
             [
              0.5555555555555556,
              "#d8576b"
             ],
             [
              0.6666666666666666,
              "#ed7953"
             ],
             [
              0.7777777777777778,
              "#fb9f3a"
             ],
             [
              0.8888888888888888,
              "#fdca26"
             ],
             [
              1,
              "#f0f921"
             ]
            ],
            "type": "contour"
           }
          ],
          "contourcarpet": [
           {
            "colorbar": {
             "outlinewidth": 0,
             "ticks": ""
            },
            "type": "contourcarpet"
           }
          ],
          "heatmap": [
           {
            "colorbar": {
             "outlinewidth": 0,
             "ticks": ""
            },
            "colorscale": [
             [
              0,
              "#0d0887"
             ],
             [
              0.1111111111111111,
              "#46039f"
             ],
             [
              0.2222222222222222,
              "#7201a8"
             ],
             [
              0.3333333333333333,
              "#9c179e"
             ],
             [
              0.4444444444444444,
              "#bd3786"
             ],
             [
              0.5555555555555556,
              "#d8576b"
             ],
             [
              0.6666666666666666,
              "#ed7953"
             ],
             [
              0.7777777777777778,
              "#fb9f3a"
             ],
             [
              0.8888888888888888,
              "#fdca26"
             ],
             [
              1,
              "#f0f921"
             ]
            ],
            "type": "heatmap"
           }
          ],
          "heatmapgl": [
           {
            "colorbar": {
             "outlinewidth": 0,
             "ticks": ""
            },
            "colorscale": [
             [
              0,
              "#0d0887"
             ],
             [
              0.1111111111111111,
              "#46039f"
             ],
             [
              0.2222222222222222,
              "#7201a8"
             ],
             [
              0.3333333333333333,
              "#9c179e"
             ],
             [
              0.4444444444444444,
              "#bd3786"
             ],
             [
              0.5555555555555556,
              "#d8576b"
             ],
             [
              0.6666666666666666,
              "#ed7953"
             ],
             [
              0.7777777777777778,
              "#fb9f3a"
             ],
             [
              0.8888888888888888,
              "#fdca26"
             ],
             [
              1,
              "#f0f921"
             ]
            ],
            "type": "heatmapgl"
           }
          ],
          "histogram": [
           {
            "marker": {
             "pattern": {
              "fillmode": "overlay",
              "size": 10,
              "solidity": 0.2
             }
            },
            "type": "histogram"
           }
          ],
          "histogram2d": [
           {
            "colorbar": {
             "outlinewidth": 0,
             "ticks": ""
            },
            "colorscale": [
             [
              0,
              "#0d0887"
             ],
             [
              0.1111111111111111,
              "#46039f"
             ],
             [
              0.2222222222222222,
              "#7201a8"
             ],
             [
              0.3333333333333333,
              "#9c179e"
             ],
             [
              0.4444444444444444,
              "#bd3786"
             ],
             [
              0.5555555555555556,
              "#d8576b"
             ],
             [
              0.6666666666666666,
              "#ed7953"
             ],
             [
              0.7777777777777778,
              "#fb9f3a"
             ],
             [
              0.8888888888888888,
              "#fdca26"
             ],
             [
              1,
              "#f0f921"
             ]
            ],
            "type": "histogram2d"
           }
          ],
          "histogram2dcontour": [
           {
            "colorbar": {
             "outlinewidth": 0,
             "ticks": ""
            },
            "colorscale": [
             [
              0,
              "#0d0887"
             ],
             [
              0.1111111111111111,
              "#46039f"
             ],
             [
              0.2222222222222222,
              "#7201a8"
             ],
             [
              0.3333333333333333,
              "#9c179e"
             ],
             [
              0.4444444444444444,
              "#bd3786"
             ],
             [
              0.5555555555555556,
              "#d8576b"
             ],
             [
              0.6666666666666666,
              "#ed7953"
             ],
             [
              0.7777777777777778,
              "#fb9f3a"
             ],
             [
              0.8888888888888888,
              "#fdca26"
             ],
             [
              1,
              "#f0f921"
             ]
            ],
            "type": "histogram2dcontour"
           }
          ],
          "mesh3d": [
           {
            "colorbar": {
             "outlinewidth": 0,
             "ticks": ""
            },
            "type": "mesh3d"
           }
          ],
          "parcoords": [
           {
            "line": {
             "colorbar": {
              "outlinewidth": 0,
              "ticks": ""
             }
            },
            "type": "parcoords"
           }
          ],
          "pie": [
           {
            "automargin": true,
            "type": "pie"
           }
          ],
          "scatter": [
           {
            "fillpattern": {
             "fillmode": "overlay",
             "size": 10,
             "solidity": 0.2
            },
            "type": "scatter"
           }
          ],
          "scatter3d": [
           {
            "line": {
             "colorbar": {
              "outlinewidth": 0,
              "ticks": ""
             }
            },
            "marker": {
             "colorbar": {
              "outlinewidth": 0,
              "ticks": ""
             }
            },
            "type": "scatter3d"
           }
          ],
          "scattercarpet": [
           {
            "marker": {
             "colorbar": {
              "outlinewidth": 0,
              "ticks": ""
             }
            },
            "type": "scattercarpet"
           }
          ],
          "scattergeo": [
           {
            "marker": {
             "colorbar": {
              "outlinewidth": 0,
              "ticks": ""
             }
            },
            "type": "scattergeo"
           }
          ],
          "scattergl": [
           {
            "marker": {
             "colorbar": {
              "outlinewidth": 0,
              "ticks": ""
             }
            },
            "type": "scattergl"
           }
          ],
          "scattermapbox": [
           {
            "marker": {
             "colorbar": {
              "outlinewidth": 0,
              "ticks": ""
             }
            },
            "type": "scattermapbox"
           }
          ],
          "scatterpolar": [
           {
            "marker": {
             "colorbar": {
              "outlinewidth": 0,
              "ticks": ""
             }
            },
            "type": "scatterpolar"
           }
          ],
          "scatterpolargl": [
           {
            "marker": {
             "colorbar": {
              "outlinewidth": 0,
              "ticks": ""
             }
            },
            "type": "scatterpolargl"
           }
          ],
          "scatterternary": [
           {
            "marker": {
             "colorbar": {
              "outlinewidth": 0,
              "ticks": ""
             }
            },
            "type": "scatterternary"
           }
          ],
          "surface": [
           {
            "colorbar": {
             "outlinewidth": 0,
             "ticks": ""
            },
            "colorscale": [
             [
              0,
              "#0d0887"
             ],
             [
              0.1111111111111111,
              "#46039f"
             ],
             [
              0.2222222222222222,
              "#7201a8"
             ],
             [
              0.3333333333333333,
              "#9c179e"
             ],
             [
              0.4444444444444444,
              "#bd3786"
             ],
             [
              0.5555555555555556,
              "#d8576b"
             ],
             [
              0.6666666666666666,
              "#ed7953"
             ],
             [
              0.7777777777777778,
              "#fb9f3a"
             ],
             [
              0.8888888888888888,
              "#fdca26"
             ],
             [
              1,
              "#f0f921"
             ]
            ],
            "type": "surface"
           }
          ],
          "table": [
           {
            "cells": {
             "fill": {
              "color": "#EBF0F8"
             },
             "line": {
              "color": "white"
             }
            },
            "header": {
             "fill": {
              "color": "#C8D4E3"
             },
             "line": {
              "color": "white"
             }
            },
            "type": "table"
           }
          ]
         },
         "layout": {
          "annotationdefaults": {
           "arrowcolor": "#2a3f5f",
           "arrowhead": 0,
           "arrowwidth": 1
          },
          "autotypenumbers": "strict",
          "coloraxis": {
           "colorbar": {
            "outlinewidth": 0,
            "ticks": ""
           }
          },
          "colorscale": {
           "diverging": [
            [
             0,
             "#8e0152"
            ],
            [
             0.1,
             "#c51b7d"
            ],
            [
             0.2,
             "#de77ae"
            ],
            [
             0.3,
             "#f1b6da"
            ],
            [
             0.4,
             "#fde0ef"
            ],
            [
             0.5,
             "#f7f7f7"
            ],
            [
             0.6,
             "#e6f5d0"
            ],
            [
             0.7,
             "#b8e186"
            ],
            [
             0.8,
             "#7fbc41"
            ],
            [
             0.9,
             "#4d9221"
            ],
            [
             1,
             "#276419"
            ]
           ],
           "sequential": [
            [
             0,
             "#0d0887"
            ],
            [
             0.1111111111111111,
             "#46039f"
            ],
            [
             0.2222222222222222,
             "#7201a8"
            ],
            [
             0.3333333333333333,
             "#9c179e"
            ],
            [
             0.4444444444444444,
             "#bd3786"
            ],
            [
             0.5555555555555556,
             "#d8576b"
            ],
            [
             0.6666666666666666,
             "#ed7953"
            ],
            [
             0.7777777777777778,
             "#fb9f3a"
            ],
            [
             0.8888888888888888,
             "#fdca26"
            ],
            [
             1,
             "#f0f921"
            ]
           ],
           "sequentialminus": [
            [
             0,
             "#0d0887"
            ],
            [
             0.1111111111111111,
             "#46039f"
            ],
            [
             0.2222222222222222,
             "#7201a8"
            ],
            [
             0.3333333333333333,
             "#9c179e"
            ],
            [
             0.4444444444444444,
             "#bd3786"
            ],
            [
             0.5555555555555556,
             "#d8576b"
            ],
            [
             0.6666666666666666,
             "#ed7953"
            ],
            [
             0.7777777777777778,
             "#fb9f3a"
            ],
            [
             0.8888888888888888,
             "#fdca26"
            ],
            [
             1,
             "#f0f921"
            ]
           ]
          },
          "colorway": [
           "#636efa",
           "#EF553B",
           "#00cc96",
           "#ab63fa",
           "#FFA15A",
           "#19d3f3",
           "#FF6692",
           "#B6E880",
           "#FF97FF",
           "#FECB52"
          ],
          "font": {
           "color": "#2a3f5f"
          },
          "geo": {
           "bgcolor": "white",
           "lakecolor": "white",
           "landcolor": "#E5ECF6",
           "showlakes": true,
           "showland": true,
           "subunitcolor": "white"
          },
          "hoverlabel": {
           "align": "left"
          },
          "hovermode": "closest",
          "mapbox": {
           "style": "light"
          },
          "paper_bgcolor": "white",
          "plot_bgcolor": "#E5ECF6",
          "polar": {
           "angularaxis": {
            "gridcolor": "white",
            "linecolor": "white",
            "ticks": ""
           },
           "bgcolor": "#E5ECF6",
           "radialaxis": {
            "gridcolor": "white",
            "linecolor": "white",
            "ticks": ""
           }
          },
          "scene": {
           "xaxis": {
            "backgroundcolor": "#E5ECF6",
            "gridcolor": "white",
            "gridwidth": 2,
            "linecolor": "white",
            "showbackground": true,
            "ticks": "",
            "zerolinecolor": "white"
           },
           "yaxis": {
            "backgroundcolor": "#E5ECF6",
            "gridcolor": "white",
            "gridwidth": 2,
            "linecolor": "white",
            "showbackground": true,
            "ticks": "",
            "zerolinecolor": "white"
           },
           "zaxis": {
            "backgroundcolor": "#E5ECF6",
            "gridcolor": "white",
            "gridwidth": 2,
            "linecolor": "white",
            "showbackground": true,
            "ticks": "",
            "zerolinecolor": "white"
           }
          },
          "shapedefaults": {
           "line": {
            "color": "#2a3f5f"
           }
          },
          "ternary": {
           "aaxis": {
            "gridcolor": "white",
            "linecolor": "white",
            "ticks": ""
           },
           "baxis": {
            "gridcolor": "white",
            "linecolor": "white",
            "ticks": ""
           },
           "bgcolor": "#E5ECF6",
           "caxis": {
            "gridcolor": "white",
            "linecolor": "white",
            "ticks": ""
           }
          },
          "title": {
           "x": 0.05
          },
          "xaxis": {
           "automargin": true,
           "gridcolor": "white",
           "linecolor": "white",
           "ticks": "",
           "title": {
            "standoff": 15
           },
           "zerolinecolor": "white",
           "zerolinewidth": 2
          },
          "yaxis": {
           "automargin": true,
           "gridcolor": "white",
           "linecolor": "white",
           "ticks": "",
           "title": {
            "standoff": 15
           },
           "zerolinecolor": "white",
           "zerolinewidth": 2
          }
         }
        }
       }
      },
      "text/html": [
       "<div>                            <div id=\"dba9276a-e3a0-42ea-8d7f-611740bf79c1\" class=\"plotly-graph-div\" style=\"height:525px; width:100%;\"></div>            <script type=\"text/javascript\">                require([\"plotly\"], function(Plotly) {                    window.PLOTLYENV=window.PLOTLYENV || {};                                    if (document.getElementById(\"dba9276a-e3a0-42ea-8d7f-611740bf79c1\")) {                    Plotly.newPlot(                        \"dba9276a-e3a0-42ea-8d7f-611740bf79c1\",                        [{\"mode\":\"lines\",\"x\":[\"2014-01-06T00:00:00\",\"2014-01-13T00:00:00\",\"2014-01-20T00:00:00\",\"2014-01-27T00:00:00\",\"2014-01-31T00:00:00\",\"2014-02-02T00:00:00\",\"2014-02-04T00:00:00\",\"2014-02-12T00:00:00\",\"2014-02-20T00:00:00\",\"2014-02-22T00:00:00\",\"2014-03-03T00:00:00\",\"2014-03-11T00:00:00\",\"2014-03-14T00:00:00\",\"2014-03-18T00:00:00\",\"2014-03-23T00:00:00\",\"2014-03-24T00:00:00\",\"2014-03-25T00:00:00\",\"2014-03-26T00:00:00\",\"2014-03-30T00:00:00\",\"2014-03-31T00:00:00\",\"2014-04-01T00:00:00\",\"2014-04-03T00:00:00\",\"2014-04-04T00:00:00\",\"2014-04-06T00:00:00\",\"2014-04-08T00:00:00\",\"2014-04-12T00:00:00\",\"2014-04-15T00:00:00\",\"2014-04-18T00:00:00\",\"2014-04-19T00:00:00\",\"2014-04-20T00:00:00\",\"2014-04-21T00:00:00\",\"2014-04-23T00:00:00\",\"2014-04-25T00:00:00\",\"2014-04-26T00:00:00\",\"2014-04-28T00:00:00\",\"2014-05-06T00:00:00\",\"2014-05-09T00:00:00\",\"2014-05-10T00:00:00\",\"2014-05-13T00:00:00\",\"2014-05-16T00:00:00\",\"2014-05-21T00:00:00\",\"2014-05-26T00:00:00\",\"2014-05-27T00:00:00\",\"2014-06-09T00:00:00\",\"2014-06-13T00:00:00\",\"2014-06-18T00:00:00\",\"2014-06-25T00:00:00\",\"2014-06-30T00:00:00\",\"2014-07-05T00:00:00\",\"2014-07-06T00:00:00\",\"2014-07-08T00:00:00\",\"2014-07-09T00:00:00\",\"2014-07-12T00:00:00\",\"2014-07-13T00:00:00\",\"2014-07-20T00:00:00\",\"2014-07-21T00:00:00\",\"2014-07-22T00:00:00\",\"2014-07-23T00:00:00\",\"2014-07-25T00:00:00\",\"2014-07-27T00:00:00\",\"2014-08-01T00:00:00\",\"2014-08-05T00:00:00\",\"2014-08-08T00:00:00\",\"2014-08-09T00:00:00\",\"2014-08-12T00:00:00\",\"2014-08-15T00:00:00\",\"2014-08-19T00:00:00\",\"2014-08-23T00:00:00\",\"2014-08-25T00:00:00\",\"2014-08-26T00:00:00\",\"2014-08-27T00:00:00\",\"2014-08-29T00:00:00\",\"2014-09-01T00:00:00\",\"2014-09-06T00:00:00\",\"2014-09-07T00:00:00\",\"2014-09-08T00:00:00\",\"2014-09-11T00:00:00\",\"2014-09-17T00:00:00\",\"2014-09-19T00:00:00\",\"2014-09-20T00:00:00\",\"2014-09-21T00:00:00\",\"2014-09-22T00:00:00\",\"2014-09-23T00:00:00\",\"2014-09-24T00:00:00\",\"2014-09-26T00:00:00\",\"2014-09-27T00:00:00\",\"2014-09-29T00:00:00\",\"2014-10-03T00:00:00\",\"2014-10-04T00:00:00\",\"2014-10-05T00:00:00\",\"2014-10-06T00:00:00\",\"2014-10-09T00:00:00\",\"2014-10-10T00:00:00\",\"2014-10-11T00:00:00\",\"2014-10-12T00:00:00\",\"2014-10-16T00:00:00\",\"2014-10-19T00:00:00\",\"2014-10-21T00:00:00\",\"2014-10-24T00:00:00\",\"2014-10-25T00:00:00\",\"2014-10-28T00:00:00\",\"2014-10-31T00:00:00\",\"2014-11-01T00:00:00\",\"2014-11-02T00:00:00\",\"2014-11-03T00:00:00\",\"2014-11-04T00:00:00\",\"2014-11-05T00:00:00\",\"2014-11-07T00:00:00\",\"2014-11-08T00:00:00\",\"2014-11-09T00:00:00\",\"2014-11-10T00:00:00\",\"2014-11-11T00:00:00\",\"2014-11-12T00:00:00\",\"2014-11-15T00:00:00\",\"2014-11-16T00:00:00\",\"2014-11-17T00:00:00\",\"2014-11-21T00:00:00\",\"2014-11-22T00:00:00\",\"2014-11-23T00:00:00\",\"2014-11-24T00:00:00\",\"2014-11-25T00:00:00\",\"2014-11-26T00:00:00\",\"2014-11-28T00:00:00\",\"2014-11-29T00:00:00\",\"2014-12-01T00:00:00\",\"2014-12-05T00:00:00\",\"2014-12-06T00:00:00\",\"2014-12-07T00:00:00\",\"2014-12-08T00:00:00\",\"2014-12-09T00:00:00\",\"2014-12-12T00:00:00\",\"2014-12-13T00:00:00\",\"2014-12-15T00:00:00\",\"2014-12-16T00:00:00\",\"2014-12-19T00:00:00\",\"2014-12-20T00:00:00\",\"2014-12-21T00:00:00\",\"2014-12-22T00:00:00\",\"2014-12-24T00:00:00\",\"2014-12-26T00:00:00\",\"2014-12-27T00:00:00\",\"2014-12-28T00:00:00\",\"2014-12-29T00:00:00\",\"2015-01-05T00:00:00\",\"2015-01-13T00:00:00\",\"2015-01-26T00:00:00\",\"2015-01-27T00:00:00\",\"2015-01-30T00:00:00\",\"2015-02-03T00:00:00\",\"2015-02-09T00:00:00\",\"2015-02-15T00:00:00\",\"2015-02-16T00:00:00\",\"2015-02-18T00:00:00\",\"2015-03-01T00:00:00\",\"2015-03-06T00:00:00\",\"2015-03-13T00:00:00\",\"2015-03-14T00:00:00\",\"2015-03-16T00:00:00\",\"2015-03-19T00:00:00\",\"2015-03-22T00:00:00\",\"2015-03-23T00:00:00\",\"2015-03-28T00:00:00\",\"2015-03-29T00:00:00\",\"2015-04-02T00:00:00\",\"2015-04-05T00:00:00\",\"2015-04-09T00:00:00\",\"2015-04-10T00:00:00\",\"2015-04-11T00:00:00\",\"2015-04-13T00:00:00\",\"2015-04-17T00:00:00\",\"2015-04-18T00:00:00\",\"2015-04-22T00:00:00\",\"2015-04-25T00:00:00\",\"2015-04-26T00:00:00\",\"2015-04-30T00:00:00\",\"2015-05-01T00:00:00\",\"2015-05-03T00:00:00\",\"2015-05-12T00:00:00\",\"2015-05-14T00:00:00\",\"2015-05-18T00:00:00\",\"2015-05-22T00:00:00\",\"2015-05-25T00:00:00\",\"2015-05-31T00:00:00\",\"2015-06-01T00:00:00\",\"2015-06-04T00:00:00\",\"2015-06-07T00:00:00\",\"2015-06-13T00:00:00\",\"2015-06-15T00:00:00\",\"2015-06-18T00:00:00\",\"2015-06-19T00:00:00\",\"2015-06-20T00:00:00\",\"2015-06-23T00:00:00\",\"2015-06-25T00:00:00\",\"2015-07-04T00:00:00\",\"2015-07-06T00:00:00\",\"2015-07-10T00:00:00\",\"2015-07-16T00:00:00\",\"2015-07-17T00:00:00\",\"2015-07-18T00:00:00\",\"2015-07-25T00:00:00\",\"2015-07-26T00:00:00\",\"2015-07-30T00:00:00\",\"2015-08-01T00:00:00\",\"2015-08-07T00:00:00\",\"2015-08-08T00:00:00\",\"2015-08-13T00:00:00\",\"2015-08-15T00:00:00\",\"2015-08-21T00:00:00\",\"2015-08-25T00:00:00\",\"2015-08-27T00:00:00\",\"2015-08-28T00:00:00\",\"2015-08-31T00:00:00\",\"2015-09-01T00:00:00\",\"2015-09-03T00:00:00\",\"2015-09-05T00:00:00\",\"2015-09-06T00:00:00\",\"2015-09-07T00:00:00\",\"2015-09-08T00:00:00\",\"2015-09-10T00:00:00\",\"2015-09-11T00:00:00\",\"2015-09-13T00:00:00\",\"2015-09-14T00:00:00\",\"2015-09-17T00:00:00\",\"2015-09-18T00:00:00\",\"2015-09-19T00:00:00\",\"2015-09-21T00:00:00\",\"2015-09-22T00:00:00\",\"2015-09-24T00:00:00\",\"2015-09-25T00:00:00\",\"2015-09-26T00:00:00\",\"2015-09-27T00:00:00\",\"2015-09-28T00:00:00\",\"2015-10-02T00:00:00\",\"2015-10-03T00:00:00\",\"2015-10-04T00:00:00\",\"2015-10-08T00:00:00\",\"2015-10-10T00:00:00\",\"2015-10-17T00:00:00\",\"2015-10-19T00:00:00\",\"2015-10-20T00:00:00\",\"2015-10-23T00:00:00\",\"2015-10-24T00:00:00\",\"2015-10-25T00:00:00\",\"2015-10-26T00:00:00\",\"2015-10-29T00:00:00\",\"2015-10-31T00:00:00\",\"2015-11-02T00:00:00\",\"2015-11-03T00:00:00\",\"2015-11-05T00:00:00\",\"2015-11-07T00:00:00\",\"2015-11-08T00:00:00\",\"2015-11-09T00:00:00\",\"2015-11-10T00:00:00\",\"2015-11-12T00:00:00\",\"2015-11-13T00:00:00\",\"2015-11-16T00:00:00\",\"2015-11-17T00:00:00\",\"2015-11-20T00:00:00\",\"2015-11-22T00:00:00\",\"2015-11-24T00:00:00\",\"2015-11-27T00:00:00\",\"2015-11-28T00:00:00\",\"2015-11-29T00:00:00\",\"2015-12-01T00:00:00\",\"2015-12-03T00:00:00\",\"2015-12-04T00:00:00\",\"2015-12-05T00:00:00\",\"2015-12-06T00:00:00\",\"2015-12-07T00:00:00\",\"2015-12-08T00:00:00\",\"2015-12-10T00:00:00\",\"2015-12-11T00:00:00\",\"2015-12-12T00:00:00\",\"2015-12-13T00:00:00\",\"2015-12-14T00:00:00\",\"2015-12-17T00:00:00\",\"2015-12-19T00:00:00\",\"2015-12-20T00:00:00\",\"2015-12-24T00:00:00\",\"2015-12-25T00:00:00\",\"2015-12-27T00:00:00\",\"2015-12-30T00:00:00\",\"2016-01-03T00:00:00\",\"2016-01-07T00:00:00\",\"2016-01-09T00:00:00\",\"2016-01-16T00:00:00\",\"2016-01-21T00:00:00\",\"2016-01-22T00:00:00\",\"2016-01-23T00:00:00\",\"2016-01-28T00:00:00\",\"2016-01-30T00:00:00\",\"2016-01-31T00:00:00\",\"2016-02-01T00:00:00\",\"2016-02-04T00:00:00\",\"2016-02-05T00:00:00\",\"2016-02-07T00:00:00\",\"2016-02-09T00:00:00\",\"2016-02-13T00:00:00\",\"2016-02-19T00:00:00\",\"2016-02-21T00:00:00\",\"2016-02-22T00:00:00\",\"2016-03-03T00:00:00\",\"2016-03-04T00:00:00\",\"2016-03-10T00:00:00\",\"2016-03-12T00:00:00\",\"2016-03-13T00:00:00\",\"2016-03-14T00:00:00\",\"2016-03-15T00:00:00\",\"2016-03-17T00:00:00\",\"2016-03-28T00:00:00\",\"2016-04-07T00:00:00\",\"2016-04-08T00:00:00\",\"2016-04-09T00:00:00\",\"2016-04-10T00:00:00\",\"2016-04-12T00:00:00\",\"2016-04-13T00:00:00\",\"2016-04-14T00:00:00\",\"2016-04-15T00:00:00\",\"2016-04-17T00:00:00\",\"2016-04-19T00:00:00\",\"2016-04-22T00:00:00\",\"2016-04-23T00:00:00\",\"2016-04-24T00:00:00\",\"2016-04-28T00:00:00\",\"2016-05-05T00:00:00\",\"2016-05-06T00:00:00\",\"2016-05-08T00:00:00\",\"2016-05-09T00:00:00\",\"2016-05-11T00:00:00\",\"2016-05-12T00:00:00\",\"2016-05-16T00:00:00\",\"2016-05-18T00:00:00\",\"2016-05-19T00:00:00\",\"2016-05-20T00:00:00\",\"2016-05-21T00:00:00\",\"2016-05-22T00:00:00\",\"2016-05-23T00:00:00\",\"2016-05-26T00:00:00\",\"2016-05-27T00:00:00\",\"2016-05-28T00:00:00\",\"2016-05-30T00:00:00\",\"2016-06-03T00:00:00\",\"2016-06-05T00:00:00\",\"2016-06-06T00:00:00\",\"2016-06-07T00:00:00\",\"2016-06-09T00:00:00\",\"2016-06-10T00:00:00\",\"2016-06-11T00:00:00\",\"2016-06-12T00:00:00\",\"2016-06-14T00:00:00\",\"2016-06-16T00:00:00\",\"2016-06-17T00:00:00\",\"2016-06-19T00:00:00\",\"2016-06-20T00:00:00\",\"2016-06-23T00:00:00\",\"2016-06-24T00:00:00\",\"2016-06-25T00:00:00\",\"2016-06-26T00:00:00\",\"2016-06-27T00:00:00\",\"2016-06-28T00:00:00\",\"2016-07-02T00:00:00\",\"2016-07-03T00:00:00\",\"2016-07-04T00:00:00\",\"2016-07-07T00:00:00\",\"2016-07-12T00:00:00\",\"2016-07-14T00:00:00\",\"2016-07-17T00:00:00\",\"2016-07-19T00:00:00\",\"2016-07-21T00:00:00\",\"2016-07-22T00:00:00\",\"2016-07-25T00:00:00\",\"2016-07-28T00:00:00\",\"2016-07-30T00:00:00\",\"2016-07-31T00:00:00\",\"2016-08-01T00:00:00\",\"2016-08-02T00:00:00\",\"2016-08-04T00:00:00\",\"2016-08-06T00:00:00\",\"2016-08-08T00:00:00\",\"2016-08-14T00:00:00\",\"2016-08-15T00:00:00\",\"2016-08-16T00:00:00\",\"2016-08-21T00:00:00\",\"2016-08-22T00:00:00\",\"2016-08-26T00:00:00\",\"2016-08-30T00:00:00\",\"2016-09-01T00:00:00\",\"2016-09-02T00:00:00\",\"2016-09-04T00:00:00\",\"2016-09-05T00:00:00\",\"2016-09-08T00:00:00\",\"2016-09-09T00:00:00\",\"2016-09-10T00:00:00\",\"2016-09-11T00:00:00\",\"2016-09-16T00:00:00\",\"2016-09-17T00:00:00\",\"2016-09-18T00:00:00\",\"2016-09-19T00:00:00\",\"2016-09-20T00:00:00\",\"2016-09-23T00:00:00\",\"2016-09-24T00:00:00\",\"2016-09-25T00:00:00\",\"2016-09-26T00:00:00\",\"2016-09-29T00:00:00\",\"2016-10-01T00:00:00\",\"2016-10-03T00:00:00\",\"2016-10-07T00:00:00\",\"2016-10-08T00:00:00\",\"2016-10-13T00:00:00\",\"2016-10-17T00:00:00\",\"2016-10-20T00:00:00\",\"2016-10-21T00:00:00\",\"2016-10-24T00:00:00\",\"2016-10-27T00:00:00\",\"2016-10-28T00:00:00\",\"2016-10-29T00:00:00\",\"2016-10-30T00:00:00\",\"2016-10-31T00:00:00\",\"2016-11-03T00:00:00\",\"2016-11-04T00:00:00\",\"2016-11-05T00:00:00\",\"2016-11-06T00:00:00\",\"2016-11-07T00:00:00\",\"2016-11-09T00:00:00\",\"2016-11-10T00:00:00\",\"2016-11-11T00:00:00\",\"2016-11-12T00:00:00\",\"2016-11-14T00:00:00\",\"2016-11-15T00:00:00\",\"2016-11-16T00:00:00\",\"2016-11-17T00:00:00\",\"2016-11-18T00:00:00\",\"2016-11-20T00:00:00\",\"2016-11-21T00:00:00\",\"2016-11-24T00:00:00\",\"2016-11-25T00:00:00\",\"2016-11-26T00:00:00\",\"2016-12-01T00:00:00\",\"2016-12-02T00:00:00\",\"2016-12-03T00:00:00\",\"2016-12-04T00:00:00\",\"2016-12-06T00:00:00\",\"2016-12-08T00:00:00\",\"2016-12-09T00:00:00\",\"2016-12-10T00:00:00\",\"2016-12-11T00:00:00\",\"2016-12-12T00:00:00\",\"2016-12-13T00:00:00\",\"2016-12-14T00:00:00\",\"2016-12-15T00:00:00\",\"2016-12-16T00:00:00\",\"2016-12-17T00:00:00\",\"2016-12-18T00:00:00\",\"2016-12-22T00:00:00\",\"2016-12-24T00:00:00\",\"2016-12-25T00:00:00\",\"2016-12-26T00:00:00\",\"2016-12-27T00:00:00\",\"2016-12-29T00:00:00\",\"2016-12-30T00:00:00\",\"2016-12-31T00:00:00\",\"2017-01-01T00:00:00\",\"2017-01-02T00:00:00\",\"2017-01-03T00:00:00\",\"2017-01-07T00:00:00\",\"2017-01-12T00:00:00\",\"2017-01-14T00:00:00\",\"2017-01-15T00:00:00\",\"2017-01-16T00:00:00\",\"2017-01-20T00:00:00\",\"2017-01-24T00:00:00\",\"2017-01-26T00:00:00\",\"2017-01-28T00:00:00\",\"2017-01-29T00:00:00\",\"2017-01-30T00:00:00\",\"2017-02-02T00:00:00\",\"2017-02-05T00:00:00\",\"2017-02-06T00:00:00\",\"2017-02-09T00:00:00\",\"2017-02-10T00:00:00\",\"2017-02-11T00:00:00\",\"2017-02-18T00:00:00\",\"2017-02-19T00:00:00\",\"2017-02-20T00:00:00\",\"2017-02-23T00:00:00\",\"2017-02-26T00:00:00\",\"2017-03-02T00:00:00\",\"2017-03-03T00:00:00\",\"2017-03-04T00:00:00\",\"2017-03-06T00:00:00\",\"2017-03-08T00:00:00\",\"2017-03-09T00:00:00\",\"2017-03-10T00:00:00\",\"2017-03-12T00:00:00\",\"2017-03-13T00:00:00\",\"2017-03-16T00:00:00\",\"2017-03-17T00:00:00\",\"2017-03-18T00:00:00\",\"2017-03-19T00:00:00\",\"2017-03-21T00:00:00\",\"2017-03-23T00:00:00\",\"2017-03-25T00:00:00\",\"2017-03-27T00:00:00\",\"2017-03-28T00:00:00\",\"2017-03-30T00:00:00\",\"2017-03-31T00:00:00\",\"2017-04-01T00:00:00\",\"2017-04-02T00:00:00\",\"2017-04-08T00:00:00\",\"2017-04-11T00:00:00\",\"2017-04-13T00:00:00\",\"2017-04-15T00:00:00\",\"2017-04-16T00:00:00\",\"2017-04-17T00:00:00\",\"2017-04-22T00:00:00\",\"2017-04-23T00:00:00\",\"2017-04-24T00:00:00\",\"2017-04-25T00:00:00\",\"2017-04-27T00:00:00\",\"2017-04-30T00:00:00\",\"2017-05-02T00:00:00\",\"2017-05-03T00:00:00\",\"2017-05-04T00:00:00\",\"2017-05-05T00:00:00\",\"2017-05-06T00:00:00\",\"2017-05-07T00:00:00\",\"2017-05-08T00:00:00\",\"2017-05-12T00:00:00\",\"2017-05-13T00:00:00\",\"2017-05-14T00:00:00\",\"2017-05-19T00:00:00\",\"2017-05-20T00:00:00\",\"2017-05-22T00:00:00\",\"2017-05-23T00:00:00\",\"2017-05-26T00:00:00\",\"2017-05-30T00:00:00\",\"2017-06-03T00:00:00\",\"2017-06-06T00:00:00\",\"2017-06-08T00:00:00\",\"2017-06-10T00:00:00\",\"2017-06-11T00:00:00\",\"2017-06-15T00:00:00\",\"2017-06-16T00:00:00\",\"2017-06-17T00:00:00\",\"2017-06-18T00:00:00\",\"2017-06-19T00:00:00\",\"2017-06-24T00:00:00\",\"2017-06-26T00:00:00\",\"2017-06-29T00:00:00\",\"2017-06-30T00:00:00\",\"2017-07-03T00:00:00\",\"2017-07-06T00:00:00\",\"2017-07-07T00:00:00\",\"2017-07-08T00:00:00\",\"2017-07-11T00:00:00\",\"2017-07-14T00:00:00\",\"2017-07-17T00:00:00\",\"2017-07-21T00:00:00\",\"2017-07-23T00:00:00\",\"2017-07-24T00:00:00\",\"2017-07-26T00:00:00\",\"2017-07-28T00:00:00\",\"2017-07-30T00:00:00\",\"2017-07-31T00:00:00\",\"2017-08-01T00:00:00\",\"2017-08-03T00:00:00\",\"2017-08-07T00:00:00\",\"2017-08-12T00:00:00\",\"2017-08-13T00:00:00\",\"2017-08-14T00:00:00\",\"2017-08-17T00:00:00\",\"2017-08-20T00:00:00\",\"2017-08-21T00:00:00\",\"2017-08-22T00:00:00\",\"2017-08-27T00:00:00\",\"2017-08-29T00:00:00\",\"2017-08-31T00:00:00\",\"2017-09-02T00:00:00\",\"2017-09-03T00:00:00\",\"2017-09-04T00:00:00\",\"2017-09-07T00:00:00\",\"2017-09-09T00:00:00\",\"2017-09-10T00:00:00\",\"2017-09-11T00:00:00\",\"2017-09-12T00:00:00\",\"2017-09-14T00:00:00\",\"2017-09-15T00:00:00\",\"2017-09-16T00:00:00\",\"2017-09-18T00:00:00\",\"2017-09-19T00:00:00\",\"2017-09-21T00:00:00\",\"2017-09-22T00:00:00\",\"2017-09-23T00:00:00\",\"2017-09-24T00:00:00\",\"2017-09-26T00:00:00\",\"2017-09-28T00:00:00\",\"2017-09-29T00:00:00\",\"2017-09-30T00:00:00\",\"2017-10-01T00:00:00\",\"2017-10-02T00:00:00\",\"2017-10-03T00:00:00\",\"2017-10-05T00:00:00\",\"2017-10-07T00:00:00\",\"2017-10-08T00:00:00\",\"2017-10-09T00:00:00\",\"2017-10-12T00:00:00\",\"2017-10-13T00:00:00\",\"2017-10-14T00:00:00\",\"2017-10-15T00:00:00\",\"2017-10-17T00:00:00\",\"2017-10-19T00:00:00\",\"2017-10-20T00:00:00\",\"2017-10-27T00:00:00\",\"2017-10-30T00:00:00\",\"2017-11-02T00:00:00\",\"2017-11-03T00:00:00\",\"2017-11-05T00:00:00\",\"2017-11-06T00:00:00\",\"2017-11-07T00:00:00\",\"2017-11-09T00:00:00\",\"2017-11-10T00:00:00\",\"2017-11-11T00:00:00\",\"2017-11-12T00:00:00\",\"2017-11-13T00:00:00\",\"2017-11-14T00:00:00\",\"2017-11-16T00:00:00\",\"2017-11-19T00:00:00\",\"2017-11-20T00:00:00\",\"2017-11-21T00:00:00\",\"2017-11-24T00:00:00\",\"2017-11-25T00:00:00\",\"2017-11-27T00:00:00\",\"2017-11-28T00:00:00\",\"2017-11-30T00:00:00\",\"2017-12-01T00:00:00\",\"2017-12-02T00:00:00\",\"2017-12-03T00:00:00\",\"2017-12-04T00:00:00\",\"2017-12-05T00:00:00\",\"2017-12-06T00:00:00\",\"2017-12-07T00:00:00\",\"2017-12-08T00:00:00\",\"2017-12-09T00:00:00\",\"2017-12-10T00:00:00\",\"2017-12-13T00:00:00\",\"2017-12-14T00:00:00\",\"2017-12-15T00:00:00\",\"2017-12-16T00:00:00\",\"2017-12-17T00:00:00\",\"2017-12-18T00:00:00\",\"2017-12-19T00:00:00\",\"2017-12-21T00:00:00\",\"2017-12-22T00:00:00\",\"2017-12-23T00:00:00\",\"2017-12-24T00:00:00\",\"2017-12-25T00:00:00\",\"2017-12-28T00:00:00\",\"2017-12-29T00:00:00\",\"2017-12-30T00:00:00\"],\"y\":[19.44,1679.749,38.66,426.67,290.666,12.350000000000001,134.38400000000001,129.568,12.96,19.44,626.3520000000001,7.98,13.940000000000001,4445.488,935.1519999999999,40.48,92.36,145.13000000000002,205.666,726.5480000000001,46.688,233.45,26.084,636.478,499.55199999999996,1879.723,294.71999999999997,323.458,76.14,59.92,16.520000000000003,48.91,2061.01,282.56800000000004,1679.96,254.456,235.76999999999998,1769.7840000000003,437.42600000000004,289.28,31.84,801.53,2139.9339999999997,3744.764,14.52,139.8,447.84,32.400000000000006,180.96000000000004,478.48,699.192,240.801,1211.75,351.216,891.466,1173.6160000000002,1155.772,992.828,8341.289999999999,514.28,19.752000000000002,550.164,2473.096,26.86,891.7760000000001,505.282,358.696,49.568000000000005,176.14,176.8,244.76000000000002,123.28,53.94,100.36,131.84000000000003,134.228,127.94999999999999,182.94,12.83,104.392,451.28400000000005,210.13,519.9830000000001,211.96,750.5600000000001,685.9,968.3,265.784,110.09800000000001,99.98,9.09,160.592,137.632,473.12800000000004,36.29,194.322,641.104,36.36,34.272,49.408,1252.602,1081.52,65.80000000000001,409.30400000000003,6.72,1767.6960000000001,20.04,123.14399999999999,333.576,1517.574,807.6859999999999,850.7560000000001,641.0240000000001,813.99,736.0725,1075.37,114.53,53.82000000000001,1037.19,272.432,1644.224,149.092,643.702,606.3199999999999,58.199999999999996,340.84,1261.33,173.51999999999998,119.32,34.68,4704.5405,90.24,6.16,2712.1160000000004,832.1379999999999,694.5340000000001,1897.92,11.76,1910.2740000000001,15.39,362.026,1049.97,1774.3980000000001,143.51999999999998,612.458,182.72,2803.92,2147.3360000000002,136.92,203.92,627.48,124.54999999999998,105.84400000000001,200.73600000000002,1555.2440000000001,1242.8960000000002,19.44,43.13,128.548,1701.44,466.04999999999995,199.64000000000001,295.68,71.976,892.224,369.91200000000003,12.832,692.7280000000001,2004.3760000000002,2572.5,1124.5700000000002,152.916,35.284,485.7840000000001,54.45,173.308,1140.5720000000001,38.519999999999996,2570.7075,10.86,3862.0980000000004,14.73,244.77999999999997,11.76,1109.95,7.52,36.624,225.57599999999996,51.98,205.73,383.616,366.99,618.792,22.848,170.35200000000003,39.92,2048.856,195.466,519.96,623.96,299.34000000000003,226.12999999999997,1011.6960000000001,19.152,158.672,82.36,497.59000000000003,1299.526,146.744,639.974,2017.532,2580.837,979.104,314.726,733.283,46.32,671.93,68.28,158.20000000000002,455.84999999999997,1336.352,170.13600000000002,32.400000000000006,684.84,83.80000000000001,609.4359999999999,266.03999999999996,1173.03,17.48,188.63,175.29,438.736,897.1800000000001,120.666,26.96,145.9,438.546,77.88,1910.6999999999998,695.5260000000001,1446.784,454.27200000000005,313.626,5.76,244.24,3058.1490000000003,1777.739,1345.418,62.8,190.72000000000003,496.87,2.48,79.9,15.700000000000001,723.164,18.9,1873.6060000000002,860.412,114.37,1218.7640000000001,505.71000000000004,45.28,60.604,2676.672,359.49899999999997,460.172,96.06,388.824,92.88,457.96000000000004,62.059999999999995,110.528,1287.986,966.066,472.116,450.194,1941.81,17.12,65.85600000000001,1240.46,1127.7,3251.3400000000006,114.46,34.58,727.878,102.218,1167.056,65.05000000000001,59.99,39.68,399.26,166.29200000000003,105.52,93.02,918.9659999999999,623.96,121.83,146.82,70.88,511.948,492.85,60.629999999999995,16.99,7558.262000000001,1652.342,4992.054,41.904,1356.5760000000002,84.784,93.9,1199.976,122.66,556.665,928.1220000000001,901.9120000000001,6.12,383.8,1265.268,257.499,156.51600000000002,31.56,441.568,3.9840000000000004,41.568000000000005,628.732,41.6,17.94,32.04,5.98,128.67,327.9,122.22,97.424,1064.624,121.436,222.38400000000001,37.05,1119.1480000000001,13.38,1157.6799999999998,206.72,71.08800000000001,79.792,3650.438,9.514000000000001,299.832,1388.7800000000002,902.712,213.46,1946.3529999999998,46.349999999999994,593.9659999999999,17.12,453.8,997.9340000000001,4861.33,60.81,284.24,201.584,41.32000000000001,195.184,16.92,1376.445,3352.5180000000005,95.76,292.796,77.88,425.954,423.05,6.3,744.894,18.9,715.64,863.128,1085.688,482.58400000000006,335.12,211.168,1016.184,121.09199999999998,608.216,204.54000000000002,3339.1220000000003,5.76,1776.5260000000003,387.00000000000006,34.66,1850.7780000000002,2824.2300000000005,228.12,557.0600000000001,55.36000000000001,276.78400000000005,3727.792,304.106,100.164,2295.9900000000002,187.0,475.694,22.979999999999997,1015.0,1553.314,562.4975,82.45,194.848,1027.676,37.824,61.96,256.196,138.826,406.432,792.7660000000001,1109.97,136.08800000000002,495.93199999999996,11.744,3.62,2489.34,2051.454,968.258,426.386,404.824,655.6700000000001,479.97,1778.298,531.5759999999999,878.3280000000001,17.22,1515.694,8.32,49.5,785.152,66.88,32.400000000000006,2948.032,194.35200000000003,4104.174,1255.5,303.358,3079.54,104.85,1037.7420000000002,1862.0140000000004,273.92,401.84799999999996,1937.9240000000002,440.15999999999997,1130.2079999999999,216.22400000000002,14.76,585.13,2003.52,1754.026,884.6800000000001,83.72,2875.544,1431.078,20.16,53.222,487.704,340.75199999999995,474.43,16.59,2070.2720000000004,332.8,9.78,154.9,21.400000000000002,427.59200000000004,544.952,412.9960000000001,11.84,277.71,136.526,271.644,753.624,2011.8999999999999,29.900000000000002,376.02000000000004,203.98299999999998,21.336,287.326,57.510000000000005,238.19799999999998,37.44,2847.646,784.3639999999999,1619.4640000000002,24.57,611.47,174.56000000000003,710.8040000000001,111.96,242.94,314.54999999999995,540.934,17.456,124.16,2128.398,745.2800000000001,211.84,1069.132,168.58,1435.96,265.07200000000006,29.700000000000003,5410.107999999999,25.11,440.30999999999995,241.81,436.70400000000006,79.14,349.493,562.702,18.28,183.38,1.81,559.2489999999999,183.61,292.5,269.18,881.84,745.634,23.16,152.94,499.93399999999997,3441.032,551.038,58.48,1418.21,859.9480000000001,868.4520000000001,130.64,171.288,12.96,72.62,60.622,31.35,1515.186,854.8249999999999,184.41,172.196,1231.5,51.312,956.8034999999999,74.88,520.22,83.76,2708.9519999999998,640.9490000000001,217.31,122.13600000000001,5.9399999999999995,221.07999999999998,1565.9720000000002,988.2040000000001,1775.009,1921.7000000000003,73.512,2399.96,2012.3020000000001,1170.564,356.65,93.52000000000001,241.436,275.58000000000004,2981.584,597.8599999999999,242.69400000000002,440.73599999999993,3397.7319999999995,616.7,1520.15,210.008,2971.7920000000004,148.02,890.0300000000001,1249.3220000000001,613.156,4068.726,229.26800000000003,557.83,369.536,2691.764,174.8,56.699999999999996,4171.888,32.7,163.38,190.01,71.37,21.96,1065.6000000000001,1403.8600000000001,1065.2160000000001,9.24,500.546,159.98,518.534,2073.88,171.288,874.9280000000001,1632.2399999999998,419.832,35.2,544.5500000000001,5325.884,55.82,993.21,63.432,135.012,24.678,914.0409999999999,1993.772,1326.982,2395.182,12.96,219.73999999999998,1283.1060000000002,950.038,361.014,186.85,36.136,104.95,355.808,2953.146,355.678,410.576,792.2320000000001,694.288,449.179,604.606,62.65,25.83,685.1279999999999,2235.938,166.44,11.76,92.94,10.68,424.41600000000005,4487.381,1689.5130000000001,194.304,261.52,134.91,273.92600000000004,814.5260000000001,535.578,344.235,36.672000000000004,1136.89,474.95,13.48,2970.4320000000002,424.172,1066.544,797.064,34.623999999999995],\"type\":\"scatter\"}],                        {\"template\":{\"data\":{\"histogram2dcontour\":[{\"type\":\"histogram2dcontour\",\"colorbar\":{\"outlinewidth\":0,\"ticks\":\"\"},\"colorscale\":[[0.0,\"#0d0887\"],[0.1111111111111111,\"#46039f\"],[0.2222222222222222,\"#7201a8\"],[0.3333333333333333,\"#9c179e\"],[0.4444444444444444,\"#bd3786\"],[0.5555555555555556,\"#d8576b\"],[0.6666666666666666,\"#ed7953\"],[0.7777777777777778,\"#fb9f3a\"],[0.8888888888888888,\"#fdca26\"],[1.0,\"#f0f921\"]]}],\"choropleth\":[{\"type\":\"choropleth\",\"colorbar\":{\"outlinewidth\":0,\"ticks\":\"\"}}],\"histogram2d\":[{\"type\":\"histogram2d\",\"colorbar\":{\"outlinewidth\":0,\"ticks\":\"\"},\"colorscale\":[[0.0,\"#0d0887\"],[0.1111111111111111,\"#46039f\"],[0.2222222222222222,\"#7201a8\"],[0.3333333333333333,\"#9c179e\"],[0.4444444444444444,\"#bd3786\"],[0.5555555555555556,\"#d8576b\"],[0.6666666666666666,\"#ed7953\"],[0.7777777777777778,\"#fb9f3a\"],[0.8888888888888888,\"#fdca26\"],[1.0,\"#f0f921\"]]}],\"heatmap\":[{\"type\":\"heatmap\",\"colorbar\":{\"outlinewidth\":0,\"ticks\":\"\"},\"colorscale\":[[0.0,\"#0d0887\"],[0.1111111111111111,\"#46039f\"],[0.2222222222222222,\"#7201a8\"],[0.3333333333333333,\"#9c179e\"],[0.4444444444444444,\"#bd3786\"],[0.5555555555555556,\"#d8576b\"],[0.6666666666666666,\"#ed7953\"],[0.7777777777777778,\"#fb9f3a\"],[0.8888888888888888,\"#fdca26\"],[1.0,\"#f0f921\"]]}],\"heatmapgl\":[{\"type\":\"heatmapgl\",\"colorbar\":{\"outlinewidth\":0,\"ticks\":\"\"},\"colorscale\":[[0.0,\"#0d0887\"],[0.1111111111111111,\"#46039f\"],[0.2222222222222222,\"#7201a8\"],[0.3333333333333333,\"#9c179e\"],[0.4444444444444444,\"#bd3786\"],[0.5555555555555556,\"#d8576b\"],[0.6666666666666666,\"#ed7953\"],[0.7777777777777778,\"#fb9f3a\"],[0.8888888888888888,\"#fdca26\"],[1.0,\"#f0f921\"]]}],\"contourcarpet\":[{\"type\":\"contourcarpet\",\"colorbar\":{\"outlinewidth\":0,\"ticks\":\"\"}}],\"contour\":[{\"type\":\"contour\",\"colorbar\":{\"outlinewidth\":0,\"ticks\":\"\"},\"colorscale\":[[0.0,\"#0d0887\"],[0.1111111111111111,\"#46039f\"],[0.2222222222222222,\"#7201a8\"],[0.3333333333333333,\"#9c179e\"],[0.4444444444444444,\"#bd3786\"],[0.5555555555555556,\"#d8576b\"],[0.6666666666666666,\"#ed7953\"],[0.7777777777777778,\"#fb9f3a\"],[0.8888888888888888,\"#fdca26\"],[1.0,\"#f0f921\"]]}],\"surface\":[{\"type\":\"surface\",\"colorbar\":{\"outlinewidth\":0,\"ticks\":\"\"},\"colorscale\":[[0.0,\"#0d0887\"],[0.1111111111111111,\"#46039f\"],[0.2222222222222222,\"#7201a8\"],[0.3333333333333333,\"#9c179e\"],[0.4444444444444444,\"#bd3786\"],[0.5555555555555556,\"#d8576b\"],[0.6666666666666666,\"#ed7953\"],[0.7777777777777778,\"#fb9f3a\"],[0.8888888888888888,\"#fdca26\"],[1.0,\"#f0f921\"]]}],\"mesh3d\":[{\"type\":\"mesh3d\",\"colorbar\":{\"outlinewidth\":0,\"ticks\":\"\"}}],\"scatter\":[{\"fillpattern\":{\"fillmode\":\"overlay\",\"size\":10,\"solidity\":0.2},\"type\":\"scatter\"}],\"parcoords\":[{\"type\":\"parcoords\",\"line\":{\"colorbar\":{\"outlinewidth\":0,\"ticks\":\"\"}}}],\"scatterpolargl\":[{\"type\":\"scatterpolargl\",\"marker\":{\"colorbar\":{\"outlinewidth\":0,\"ticks\":\"\"}}}],\"bar\":[{\"error_x\":{\"color\":\"#2a3f5f\"},\"error_y\":{\"color\":\"#2a3f5f\"},\"marker\":{\"line\":{\"color\":\"#E5ECF6\",\"width\":0.5},\"pattern\":{\"fillmode\":\"overlay\",\"size\":10,\"solidity\":0.2}},\"type\":\"bar\"}],\"scattergeo\":[{\"type\":\"scattergeo\",\"marker\":{\"colorbar\":{\"outlinewidth\":0,\"ticks\":\"\"}}}],\"scatterpolar\":[{\"type\":\"scatterpolar\",\"marker\":{\"colorbar\":{\"outlinewidth\":0,\"ticks\":\"\"}}}],\"histogram\":[{\"marker\":{\"pattern\":{\"fillmode\":\"overlay\",\"size\":10,\"solidity\":0.2}},\"type\":\"histogram\"}],\"scattergl\":[{\"type\":\"scattergl\",\"marker\":{\"colorbar\":{\"outlinewidth\":0,\"ticks\":\"\"}}}],\"scatter3d\":[{\"type\":\"scatter3d\",\"line\":{\"colorbar\":{\"outlinewidth\":0,\"ticks\":\"\"}},\"marker\":{\"colorbar\":{\"outlinewidth\":0,\"ticks\":\"\"}}}],\"scattermapbox\":[{\"type\":\"scattermapbox\",\"marker\":{\"colorbar\":{\"outlinewidth\":0,\"ticks\":\"\"}}}],\"scatterternary\":[{\"type\":\"scatterternary\",\"marker\":{\"colorbar\":{\"outlinewidth\":0,\"ticks\":\"\"}}}],\"scattercarpet\":[{\"type\":\"scattercarpet\",\"marker\":{\"colorbar\":{\"outlinewidth\":0,\"ticks\":\"\"}}}],\"carpet\":[{\"aaxis\":{\"endlinecolor\":\"#2a3f5f\",\"gridcolor\":\"white\",\"linecolor\":\"white\",\"minorgridcolor\":\"white\",\"startlinecolor\":\"#2a3f5f\"},\"baxis\":{\"endlinecolor\":\"#2a3f5f\",\"gridcolor\":\"white\",\"linecolor\":\"white\",\"minorgridcolor\":\"white\",\"startlinecolor\":\"#2a3f5f\"},\"type\":\"carpet\"}],\"table\":[{\"cells\":{\"fill\":{\"color\":\"#EBF0F8\"},\"line\":{\"color\":\"white\"}},\"header\":{\"fill\":{\"color\":\"#C8D4E3\"},\"line\":{\"color\":\"white\"}},\"type\":\"table\"}],\"barpolar\":[{\"marker\":{\"line\":{\"color\":\"#E5ECF6\",\"width\":0.5},\"pattern\":{\"fillmode\":\"overlay\",\"size\":10,\"solidity\":0.2}},\"type\":\"barpolar\"}],\"pie\":[{\"automargin\":true,\"type\":\"pie\"}]},\"layout\":{\"autotypenumbers\":\"strict\",\"colorway\":[\"#636efa\",\"#EF553B\",\"#00cc96\",\"#ab63fa\",\"#FFA15A\",\"#19d3f3\",\"#FF6692\",\"#B6E880\",\"#FF97FF\",\"#FECB52\"],\"font\":{\"color\":\"#2a3f5f\"},\"hovermode\":\"closest\",\"hoverlabel\":{\"align\":\"left\"},\"paper_bgcolor\":\"white\",\"plot_bgcolor\":\"#E5ECF6\",\"polar\":{\"bgcolor\":\"#E5ECF6\",\"angularaxis\":{\"gridcolor\":\"white\",\"linecolor\":\"white\",\"ticks\":\"\"},\"radialaxis\":{\"gridcolor\":\"white\",\"linecolor\":\"white\",\"ticks\":\"\"}},\"ternary\":{\"bgcolor\":\"#E5ECF6\",\"aaxis\":{\"gridcolor\":\"white\",\"linecolor\":\"white\",\"ticks\":\"\"},\"baxis\":{\"gridcolor\":\"white\",\"linecolor\":\"white\",\"ticks\":\"\"},\"caxis\":{\"gridcolor\":\"white\",\"linecolor\":\"white\",\"ticks\":\"\"}},\"coloraxis\":{\"colorbar\":{\"outlinewidth\":0,\"ticks\":\"\"}},\"colorscale\":{\"sequential\":[[0.0,\"#0d0887\"],[0.1111111111111111,\"#46039f\"],[0.2222222222222222,\"#7201a8\"],[0.3333333333333333,\"#9c179e\"],[0.4444444444444444,\"#bd3786\"],[0.5555555555555556,\"#d8576b\"],[0.6666666666666666,\"#ed7953\"],[0.7777777777777778,\"#fb9f3a\"],[0.8888888888888888,\"#fdca26\"],[1.0,\"#f0f921\"]],\"sequentialminus\":[[0.0,\"#0d0887\"],[0.1111111111111111,\"#46039f\"],[0.2222222222222222,\"#7201a8\"],[0.3333333333333333,\"#9c179e\"],[0.4444444444444444,\"#bd3786\"],[0.5555555555555556,\"#d8576b\"],[0.6666666666666666,\"#ed7953\"],[0.7777777777777778,\"#fb9f3a\"],[0.8888888888888888,\"#fdca26\"],[1.0,\"#f0f921\"]],\"diverging\":[[0,\"#8e0152\"],[0.1,\"#c51b7d\"],[0.2,\"#de77ae\"],[0.3,\"#f1b6da\"],[0.4,\"#fde0ef\"],[0.5,\"#f7f7f7\"],[0.6,\"#e6f5d0\"],[0.7,\"#b8e186\"],[0.8,\"#7fbc41\"],[0.9,\"#4d9221\"],[1,\"#276419\"]]},\"xaxis\":{\"gridcolor\":\"white\",\"linecolor\":\"white\",\"ticks\":\"\",\"title\":{\"standoff\":15},\"zerolinecolor\":\"white\",\"automargin\":true,\"zerolinewidth\":2},\"yaxis\":{\"gridcolor\":\"white\",\"linecolor\":\"white\",\"ticks\":\"\",\"title\":{\"standoff\":15},\"zerolinecolor\":\"white\",\"automargin\":true,\"zerolinewidth\":2},\"scene\":{\"xaxis\":{\"backgroundcolor\":\"#E5ECF6\",\"gridcolor\":\"white\",\"linecolor\":\"white\",\"showbackground\":true,\"ticks\":\"\",\"zerolinecolor\":\"white\",\"gridwidth\":2},\"yaxis\":{\"backgroundcolor\":\"#E5ECF6\",\"gridcolor\":\"white\",\"linecolor\":\"white\",\"showbackground\":true,\"ticks\":\"\",\"zerolinecolor\":\"white\",\"gridwidth\":2},\"zaxis\":{\"backgroundcolor\":\"#E5ECF6\",\"gridcolor\":\"white\",\"linecolor\":\"white\",\"showbackground\":true,\"ticks\":\"\",\"zerolinecolor\":\"white\",\"gridwidth\":2}},\"shapedefaults\":{\"line\":{\"color\":\"#2a3f5f\"}},\"annotationdefaults\":{\"arrowcolor\":\"#2a3f5f\",\"arrowhead\":0,\"arrowwidth\":1},\"geo\":{\"bgcolor\":\"white\",\"landcolor\":\"#E5ECF6\",\"subunitcolor\":\"white\",\"showland\":true,\"showlakes\":true,\"lakecolor\":\"white\"},\"title\":{\"x\":0.05},\"mapbox\":{\"style\":\"light\"}}}},                        {\"responsive\": true}                    ).then(function(){\n",
       "                            \n",
       "var gd = document.getElementById('dba9276a-e3a0-42ea-8d7f-611740bf79c1');\n",
       "var x = new MutationObserver(function (mutations, observer) {{\n",
       "        var display = window.getComputedStyle(gd).display;\n",
       "        if (!display || display === 'none') {{\n",
       "            console.log([gd, 'removed!']);\n",
       "            Plotly.purge(gd);\n",
       "            observer.disconnect();\n",
       "        }}\n",
       "}});\n",
       "\n",
       "// Listen for the removal of the full notebook cells\n",
       "var notebookContainer = gd.closest('#notebook-container');\n",
       "if (notebookContainer) {{\n",
       "    x.observe(notebookContainer, {childList: true});\n",
       "}}\n",
       "\n",
       "// Listen for the clearing of the current output cell\n",
       "var outputEl = gd.closest('.output');\n",
       "if (outputEl) {{\n",
       "    x.observe(outputEl, {childList: true});\n",
       "}}\n",
       "\n",
       "                        })                };                });            </script>        </div>"
      ]
     },
     "metadata": {},
     "output_type": "display_data"
    }
   ],
   "source": [
    "fig = go.Figure()\n",
    "fig.add_trace(go.Scatter(\n",
    "                    x=df2.index,\n",
    "                    y=df2.Sales,\n",
    "                    mode='lines'))\n",
    "fig.show()"
   ]
  },
  {
   "cell_type": "code",
   "execution_count": null,
   "metadata": {},
   "outputs": [],
   "source": []
  }
 ],
 "metadata": {
  "colab": {
   "name": "widgets_plotly_superstore_enunciado.ipynb",
   "provenance": []
  },
  "kernelspec": {
   "display_name": "Python 3 (ipykernel)",
   "language": "python",
   "name": "python3"
  },
  "language_info": {
   "codemirror_mode": {
    "name": "ipython",
    "version": 3
   },
   "file_extension": ".py",
   "mimetype": "text/x-python",
   "name": "python",
   "nbconvert_exporter": "python",
   "pygments_lexer": "ipython3",
   "version": "3.10.4"
  }
 },
 "nbformat": 4,
 "nbformat_minor": 1
}
