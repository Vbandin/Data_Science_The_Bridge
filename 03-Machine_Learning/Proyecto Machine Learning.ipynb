{
 "cells": [
  {
   "cell_type": "markdown",
   "metadata": {},
   "source": [
    "# Proyecto Machine Learning\n",
    "Para el tercer módulo del bootcamp de Data Science tendrás que desarrollar un modelo de machine learning con los datos obtenidos en la etapa de Data Analysis (o con datos nuevos).\n",
    "\n",
    "* **Miembros**: El proyecto es individual\n",
    "* **Datos**: Los de EDA (si los tienes), siempre que tenga sentido. Si no, buscar en Kaggle (u otras fuentes) un tema que te interese.\n",
    "* **Fechas**: Las presentaciones se realizarán el sábado 11 de marzo. El entregable se enviará como tarde el 9 de marzo a las 23:59 a través del Clasroom.\n",
    "\n",
    "## Objetivo\n",
    "El objetivo de este proyecto es crear un modelo predictivo de Machine Learning utilizando los datos conseguidos en la etapa de Data Analysis. Tienes que desarrollar un workflow de Machine Learning (recogida de datos, limpieza, feature engineering...) y montar el modelo.\n",
    "Tendrás que aplicar conocimientos aprendidos hasta ahora de programación, limpieza de datos, visualización y modelado.\n",
    "\n",
    "\n",
    "## Evaluación\n",
    "**Presentación (80%) no más de 7 minutos donde expondrás tu caso. 10 minutos en total con las preguntas.**\n",
    "\n",
    "Código (10%) hay que entregar todo el código desarrollado.\n",
    "\n",
    "Subir el proyecto a tu GitHub personal. (10%) Este gran esfuerzo tiene que ser compartido y te recomiendo que te crees un repositorio en GitHub para ir añadiendo tus proyectos personales.\n",
    "\n",
    "## Entregable\n",
    "Consistirá en un .zip que habrá que subir a Google Classroom. En el zip debe constar:\n",
    "\n",
    "Presentación\n",
    "Código\n",
    "Documentación utilizada\n",
    "Archivo .txt con el enlace al repositorio de GitHub.\n",
    "\n",
    "\n",
    "## Presentación\n",
    "Se complica la presentación con respecto a la de EDA ya que hay que contar algo mucho más técnico. Empieza como en el EDA, exponiendo el caso, y desarrolla la solución de ML para tus datos. ¿Qué pretendes resolver con un modelo de ML? ¿Qué resultados has obtenido? ¿Qué modelos has probado? Partiendo de los datos del EDA, ¿qué nuevos datos has incorporado, o qué nuevos datos has sacado como nuevas entradas para tu modelo? \n",
    "\n",
    "¿Qué consecuencias de negocio tiene tu modelo? Por ejemplo, un 4% de mis pacientes me los va a predecir erróneamente como que tienen diabetes, cuando en realidad no la tienen. \n",
    "\n",
    "## Pasos del proyecto\n",
    "1. Consigue los datos\n",
    "2. Limpia los datos: duplicados, missings, outliers, columnas inútiles...\n",
    "3. Define tu problema de Machine Learning: clasifiación/regresión, supervisado/ no supervisado, series temporales, imágenes, texto...\n",
    "4. Exploratorio: obtén todos los estadísticos y gráficos que necesites para entender bien tu dataset.\n",
    "5. Prueba varios modelos\n",
    "6. Analiza los resultados mediante una métrica adecuada a tu problemática.\n",
    "7. Siguientes pasos. ¿Se puede enriquecer el modelo con otras pruebas o con otros datos?\n",
    "8. Bonus track (opcional): monta un dashboard/informe donde se vea cómo aprende tu modelo, qué hiperparámetros usa y resultados obtenidos.\n",
    "\n",
    "\n",
    "## Datos\n",
    "El volumen de los datos no debería ser inferior a 1.000 observaciones.\n",
    "1. Si ya tenías datos para el EDA, utiliza esos mismos datos, siempre que tenga sentido aplicar un algoritmo de Machine Learning para predecir algo.\n",
    "2. Si no tienes datos, ve a Kaggle y bájate un dataset de la temática que más te guste. Tanto en el enunciado del proyecto de EDA como en el Clasroom tienes varias fuentes de datos."
   ]
  }
 ],
 "metadata": {
  "kernelspec": {
   "display_name": "Python 3 (ipykernel)",
   "language": "python",
   "name": "python3"
  },
  "language_info": {
   "codemirror_mode": {
    "name": "ipython",
    "version": 3
   },
   "file_extension": ".py",
   "mimetype": "text/x-python",
   "name": "python",
   "nbconvert_exporter": "python",
   "pygments_lexer": "ipython3",
   "version": "3.10.4"
  }
 },
 "nbformat": 4,
 "nbformat_minor": 4
}
