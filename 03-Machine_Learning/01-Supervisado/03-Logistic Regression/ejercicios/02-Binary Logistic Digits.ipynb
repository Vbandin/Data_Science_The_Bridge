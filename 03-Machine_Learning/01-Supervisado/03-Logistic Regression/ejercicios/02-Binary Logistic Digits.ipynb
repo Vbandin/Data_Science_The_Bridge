{
 "cells": [
  {
   "cell_type": "markdown",
   "metadata": {},
   "source": [
    "En el archivo \"logistic_regression_digits\" hemos visto un ejemplo multiclase. Elimina todas las imágenes y etiqueta (label) cuyo valor del label no sea 1 o 9. Es decir, elimina todos los dígitos y quédate solo con los dígitos 1 y 9.\n",
    "\n",
    "Ahora, realiza un entrenamiento con logistic regression con los nuevos datos:\n",
    "\n",
    "- ¿Se mejora la precisión del algoritmo con dos clases? ¿por qué?\n",
    "\n",
    "LogisticRegression() es una clase que tiene varios parámetros de entrada. Investiga (toca, modifica, prueba) las variables y comenta si hay alguna de ellas que, modificándola, mejore el porcentaje de acierto del problema.\n",
    "\n",
    "https://scikit-learn.org/stable/modules/generated/sklearn.linear_model.LogisticRegression.html"
   ]
  },
  {
   "cell_type": "code",
   "execution_count": 1,
   "metadata": {},
   "outputs": [],
   "source": [
    "from sklearn.datasets import load_digits\n",
    "digits = load_digits() # 8x8 = 64 pixels  -- Very clean Dataset "
   ]
  },
  {
   "cell_type": "code",
   "execution_count": 4,
   "metadata": {},
   "outputs": [],
   "source": [
    "digits.data = digits.data[(digits.target==1) | (digits.target==9)]\n",
    "digits.target = digits.target[(digits.target==1) | (digits.target==9)] "
   ]
  },
  {
   "cell_type": "code",
   "execution_count": 5,
   "metadata": {},
   "outputs": [],
   "source": [
    "from sklearn.model_selection import train_test_split\n",
    "\n",
    "X_train, X_test, y_train, y_test = train_test_split(digits.data,\n",
    "                                                    digits.target,\n",
    "                                                    test_size=0.25,\n",
    "                                                    random_state=0)"
   ]
  },
  {
   "cell_type": "code",
   "execution_count": 12,
   "metadata": {
    "collapsed": true
   },
   "outputs": [
    {
     "name": "stderr",
     "output_type": "stream",
     "text": [
      "C:\\Users\\Rafa\\anaconda3\\envs\\general\\lib\\site-packages\\sklearn\\model_selection\\_validation.py:372: FitFailedWarning: \n",
      "1200 fits failed out of a total of 4800.\n",
      "The score on these train-test partitions for these parameters will be set to nan.\n",
      "If these failures are not expected, you can try to debug them by setting error_score='raise'.\n",
      "\n",
      "Below are more details about the failures:\n",
      "--------------------------------------------------------------------------------\n",
      "1200 fits failed with the following error:\n",
      "Traceback (most recent call last):\n",
      "  File \"C:\\Users\\Rafa\\anaconda3\\envs\\general\\lib\\site-packages\\sklearn\\model_selection\\_validation.py\", line 680, in _fit_and_score\n",
      "    estimator.fit(X_train, y_train, **fit_params)\n",
      "  File \"C:\\Users\\Rafa\\anaconda3\\envs\\general\\lib\\site-packages\\sklearn\\linear_model\\_logistic.py\", line 1461, in fit\n",
      "    solver = _check_solver(self.solver, self.penalty, self.dual)\n",
      "  File \"C:\\Users\\Rafa\\anaconda3\\envs\\general\\lib\\site-packages\\sklearn\\linear_model\\_logistic.py\", line 441, in _check_solver\n",
      "    raise ValueError(\n",
      "ValueError: Logistic Regression supports only penalties in ['l1', 'l2', 'elasticnet', 'none'], got None.\n",
      "\n",
      "  warnings.warn(some_fits_failed_message, FitFailedWarning)\n",
      "C:\\Users\\Rafa\\anaconda3\\envs\\general\\lib\\site-packages\\sklearn\\model_selection\\_search.py:969: UserWarning: One or more of the test scores are non-finite: [0.9892185  0.98934609 0.9892185         nan 0.99285486 0.98571201\n",
      " 0.99285486        nan 0.99285486 0.98571201 0.99285486        nan\n",
      " 0.9892185  0.98934609 0.99285486        nan 0.9892185  0.98571201\n",
      " 0.99285486        nan 0.9892185  0.98571201 0.99285486        nan\n",
      " 0.9892185  0.98934609 0.9892185         nan 0.98558214 0.98571201\n",
      " 0.99285486        nan 0.98558214 0.98571201 0.99285486        nan\n",
      " 0.98558214 0.98934609 0.99285486        nan 0.98571201 0.98571201\n",
      " 0.99285486        nan 0.98571201 0.98571201 0.99285486        nan\n",
      " 0.9892185  0.98934609 0.9892185         nan 0.98571201 0.98571201\n",
      " 0.99285486        nan 0.98571201 0.98571201 0.99285486        nan\n",
      " 0.9892185  0.98934609 0.9892185         nan 0.98571201 0.98571201\n",
      " 0.99285486        nan 0.98571201 0.98571201 0.99285486        nan\n",
      " 0.9892185  0.98934609 0.9892185         nan 0.98571201 0.98571201\n",
      " 0.99285486        nan 0.98571201 0.98571201 0.99285486        nan\n",
      " 0.98571201 0.98934609 0.9892185         nan 0.98571201 0.98571201\n",
      " 0.99285486        nan 0.98571201 0.98571201 0.99285486        nan\n",
      " 0.98571201 0.98934609 0.99285486        nan 0.98571201 0.98571201\n",
      " 0.99285486        nan 0.98571201 0.98571201 0.99285486        nan\n",
      " 0.98571201 0.98934609 0.9892185         nan 0.98571201 0.98571201\n",
      " 0.99285486        nan 0.98571201 0.98571201 0.99285486        nan\n",
      " 0.99285486 0.9892185  0.99285486        nan 0.99285486 0.98571201\n",
      " 0.99285486        nan 0.99285486 0.98571201 0.99285486        nan\n",
      " 0.99285486 0.9892185  0.9892185         nan 0.9892185  0.98571201\n",
      " 0.99285486        nan 0.9892185  0.98571201 0.99285486        nan\n",
      " 0.9892185  0.9892185  0.9892185         nan 0.9892185  0.98571201\n",
      " 0.99285486        nan 0.9892185  0.98571201 0.99285486        nan\n",
      " 0.9892185  0.9892185  0.9892185         nan 0.98207564 0.98571201\n",
      " 0.99285486        nan 0.98207564 0.98571201 0.99285486        nan\n",
      " 0.9892185  0.9892185  0.9892185         nan 0.98571201 0.98571201\n",
      " 0.99285486        nan 0.98571201 0.98571201 0.99285486        nan\n",
      " 0.9892185  0.9892185  0.9892185         nan 0.98571201 0.98571201\n",
      " 0.99285486        nan 0.98571201 0.98571201 0.99285486        nan\n",
      " 0.98558214 0.9892185  0.99285486        nan 0.98571201 0.98571201\n",
      " 0.99285486        nan 0.98571201 0.98571201 0.99285486        nan\n",
      " 0.98558214 0.9892185  0.9892185         nan 0.98571201 0.98571201\n",
      " 0.99285486        nan 0.98571201 0.98571201 0.99285486        nan\n",
      " 0.9892185  0.9892185  0.99285486        nan 0.98571201 0.98571201\n",
      " 0.99285486        nan 0.98571201 0.98571201 0.99285486        nan\n",
      " 0.9892185  0.9892185  0.99285486        nan 0.98571201 0.98571201\n",
      " 0.99285486        nan 0.98571201 0.98571201 0.99285486        nan\n",
      " 0.99285486 0.98558214 0.99285486        nan 0.99285486 0.98571201\n",
      " 0.99285486        nan 0.99285486 0.98571201 0.99285486        nan\n",
      " 0.9892185  0.9892185  0.9892185         nan 0.99285486 0.98571201\n",
      " 0.99285486        nan 0.9892185  0.98571201 0.99285486        nan\n",
      " 0.9892185  0.9892185  0.9892185         nan 0.9892185  0.98571201\n",
      " 0.99285486        nan 0.9892185  0.98571201 0.99285486        nan\n",
      " 0.9892185  0.99285486 0.9892185         nan 0.9892185  0.98571201\n",
      " 0.99285486        nan 0.9892185  0.98571201 0.99285486        nan\n",
      " 0.9892185  0.9892185  0.9892185         nan 0.98207564 0.98571201\n",
      " 0.99285486        nan 0.98207564 0.98571201 0.99285486        nan\n",
      " 0.9892185  0.98558214 0.99285486        nan 0.98571201 0.98571201\n",
      " 0.99285486        nan 0.98571201 0.98571201 0.99285486        nan\n",
      " 0.9892185  0.9892185  0.9892185         nan 0.98571201 0.98571201\n",
      " 0.99285486        nan 0.98571201 0.98571201 0.99285486        nan\n",
      " 0.9892185  0.9892185  0.99285486        nan 0.98571201 0.98571201\n",
      " 0.99285486        nan 0.98571201 0.98571201 0.99285486        nan\n",
      " 0.98558214 0.98558214 0.99285486        nan 0.98571201 0.98571201\n",
      " 0.99285486        nan 0.98571201 0.98571201 0.99285486        nan\n",
      " 0.9892185  0.9892185  0.9892185         nan 0.98571201 0.98571201\n",
      " 0.99285486        nan 0.98571201 0.98571201 0.99285486        nan\n",
      " 0.9892185  0.9892185  0.99285486        nan 0.99285486 0.98571201\n",
      " 0.99285486        nan 0.99285486 0.98571201 0.99285486        nan\n",
      " 0.9892185  0.9892185  0.99285486        nan 0.99285486 0.98571201\n",
      " 0.99285486        nan 0.99285486 0.98571201 0.99285486        nan\n",
      " 0.99285486 0.9892185  0.99285486        nan 0.9892185  0.98571201\n",
      " 0.99285486        nan 0.9892185  0.98571201 0.99285486        nan\n",
      " 0.99285486 0.9892185  0.9892185         nan 0.9892185  0.98571201\n",
      " 0.99285486        nan 0.9892185  0.98571201 0.99285486        nan\n",
      " 0.9892185  0.9892185  0.99285486        nan 0.98570973 0.98571201\n",
      " 0.99285486        nan 0.98570973 0.98571201 0.99285486        nan\n",
      " 0.9892185  0.9892185  0.9892185         nan 0.98570973 0.98571201\n",
      " 0.99285486        nan 0.98570973 0.98571201 0.99285486        nan\n",
      " 0.9892185  0.9892185  0.99285486        nan 0.98570973 0.98571201\n",
      " 0.99285486        nan 0.98571201 0.98571201 0.99285486        nan\n",
      " 0.9892185  0.9892185  0.9892185         nan 0.98571201 0.98571201\n",
      " 0.99285486        nan 0.98571201 0.98571201 0.99285486        nan\n",
      " 0.9892185  0.9892185  0.99285486        nan 0.98571201 0.98571201\n",
      " 0.99285486        nan 0.98571201 0.98571201 0.99285486        nan\n",
      " 0.9892185  0.9892185  0.99285486        nan 0.98571201 0.98571201\n",
      " 0.99285486        nan 0.98571201 0.98571201 0.99285486        nan\n",
      " 0.99285486 0.9892185  0.99285486        nan 0.99285486 0.98570973\n",
      " 0.99285486        nan 0.99285486 0.98571201 0.99285486        nan\n",
      " 0.9892185  0.99285486 0.99285486        nan 0.99285486 0.98570973\n",
      " 0.99285486        nan 0.99285486 0.98571201 0.99285486        nan\n",
      " 0.99285486 0.99285486 0.99285486        nan 0.99285486 0.98570973\n",
      " 0.99285486        nan 0.9892185  0.98571201 0.99285486        nan\n",
      " 0.99285486 0.9892185  0.9892185         nan 0.9892185  0.98570973\n",
      " 0.99285486        nan 0.9892185  0.98571201 0.99285486        nan\n",
      " 0.9892185  0.9892185  0.99285486        nan 0.9892185  0.98207564\n",
      " 0.99285486        nan 0.9892185  0.98571201 0.99285486        nan\n",
      " 0.9892185  0.9892185  0.99285486        nan 0.9892185  0.98570973\n",
      " 0.99285486        nan 0.98570973 0.98571201 0.99285486        nan\n",
      " 0.9892185  0.9892185  0.9892185         nan 0.98570973 0.98570973\n",
      " 0.99285486        nan 0.98934609 0.98571201 0.99285486        nan\n",
      " 0.9892185  0.9892185  0.99285486        nan 0.98570973 0.98570973\n",
      " 0.99285486        nan 0.98934609 0.98571201 0.99285486        nan\n",
      " 0.9892185  0.9892185  0.99285486        nan 0.98570973 0.98570973\n",
      " 0.99285486        nan 0.98570973 0.98571201 0.99285486        nan\n",
      " 0.9892185  0.9892185  0.99285486        nan 0.98570973 0.98570973\n",
      " 0.99285486        nan 0.98571201 0.98571201 0.99285486        nan\n",
      " 0.99285486 0.9892185  0.99285486        nan 0.99285486 0.98570973\n",
      " 0.99285486        nan 0.99285486 0.98934609 0.99285486        nan\n",
      " 0.99285486 0.9892185  0.99285486        nan 0.99285486 0.98570973\n",
      " 0.99285486        nan 0.99285486 0.98934609 0.99285486        nan\n",
      " 0.9892185  0.9892185  0.99285486        nan 0.99285486 0.98570973\n",
      " 0.99285486        nan 0.9892185  0.98934609 0.99285486        nan\n",
      " 0.9892185  0.99285486 0.99285486        nan 0.9892185  0.98570973\n",
      " 0.99285486        nan 0.9892185  0.98934609 0.99285486        nan\n",
      " 0.99285486 0.9892185  0.9892185         nan 0.9892185  0.98570973\n",
      " 0.99285486        nan 0.9892185  0.98934609 0.99285486        nan\n",
      " 0.9892185  0.9892185  0.99285486        nan 0.9892185  0.98570973\n",
      " 0.99285486        nan 0.98570973 0.98934609 0.99285486        nan\n",
      " 0.99285486 0.9892185  0.9892185         nan 0.9892185  0.98570973\n",
      " 0.99285486        nan 0.98934609 0.98934609 0.99285486        nan\n",
      " 0.9892185  0.9892185  0.9892185         nan 0.98570973 0.98570973\n",
      " 0.99285486        nan 0.98934609 0.98934609 0.99285486        nan\n",
      " 0.98558214 0.9892185  0.99285486        nan 0.98570973 0.98570973\n",
      " 0.99285486        nan 0.98934609 0.98934609 0.99285486        nan\n",
      " 0.9892185  0.99285486 0.99285486        nan 0.98570973 0.98570973\n",
      " 0.99285486        nan 0.98934609 0.98934609 0.99285486        nan\n",
      " 0.99285486 0.9892185  0.9892185         nan 0.99285486 0.98570973\n",
      " 0.99285486        nan 0.99285486 0.98934609 0.99285486        nan\n",
      " 0.9892185  0.99285486 0.9892185         nan 0.99285486 0.98570973\n",
      " 0.99285486        nan 0.99285486 0.98934609 0.99285486        nan\n",
      " 0.9892185  0.9892185  0.99285486        nan 0.99285486 0.98570973\n",
      " 0.99285486        nan 0.99285486 0.98934609 0.99285486        nan\n",
      " 0.9892185  0.9892185  0.99285486        nan 0.99285486 0.98570973\n",
      " 0.99285486        nan 0.9892185  0.98934609 0.99285486        nan\n",
      " 0.99285486 0.9892185  0.9892185         nan 0.9892185  0.98570973\n",
      " 0.99285486        nan 0.9892185  0.98934609 0.99285486        nan\n",
      " 0.99285486 0.9892185  0.99285486        nan 0.9892185  0.98570973\n",
      " 0.99285486        nan 0.9892185  0.98934609 0.99285486        nan\n",
      " 0.99285486 0.9892185  0.9892185         nan 0.9892185  0.98570973\n",
      " 0.99285486        nan 0.98934609 0.98934609 0.99285486        nan\n",
      " 0.9892185  0.9892185  0.99285486        nan 0.9892185  0.98570973\n",
      " 0.99285486        nan 0.98934609 0.98934609 0.99285486        nan\n",
      " 0.9892185  0.9892185  0.99285486        nan 0.98570973 0.98570973\n",
      " 0.99285486        nan 0.98934609 0.98934609 0.99285486        nan\n",
      " 0.99285486 0.9892185  0.9892185         nan 0.98570973 0.98570973\n",
      " 0.99285486        nan 0.98934609 0.98934609 0.99285486        nan\n",
      " 0.9892185  0.99285486 0.99285486        nan 0.99285486 0.98570973\n",
      " 0.99285486        nan 0.99285486 0.98934609 0.99285486        nan\n",
      " 0.99285486 0.99285486 0.99285486        nan 0.99285486 0.98570973\n",
      " 0.99285486        nan 0.99285486 0.98934609 0.99285486        nan\n",
      " 0.9892185  0.9892185  0.9892185         nan 0.99285486 0.98570973\n",
      " 0.99285486        nan 0.99285486 0.98570973 0.99285486        nan\n",
      " 0.99285486 0.99285486 0.9892185         nan 0.99285486 0.98570973\n",
      " 0.99285486        nan 0.9892185  0.98934609 0.99285486        nan\n",
      " 0.9892185  0.9892185  0.99285486        nan 0.9892185  0.98570973\n",
      " 0.99285486        nan 0.9892185  0.98934609 0.99285486        nan\n",
      " 0.99285486 0.9892185  0.99285486        nan 0.9892185  0.98570973\n",
      " 0.99285486        nan 0.9892185  0.98934609 0.99285486        nan\n",
      " 0.9892185  0.99285486 0.99285486        nan 0.9892185  0.98570973\n",
      " 0.99285486        nan 0.9892185  0.98934609 0.99285486        nan\n",
      " 0.99285486 0.9892185  0.9892185         nan 0.9892185  0.98570973\n",
      " 0.99285486        nan 0.98934609 0.98934609 0.99285486        nan\n",
      " 0.99285486 0.99285486 0.9892185         nan 0.9892185  0.98570973\n",
      " 0.99285486        nan 0.98934609 0.98934609 0.99285486        nan\n",
      " 0.9892185  0.99285486 0.99285486        nan 0.98570973 0.98570973\n",
      " 0.99285486        nan 0.98934609 0.98934609 0.99285486        nan]\n",
      "  warnings.warn(\n"
     ]
    },
    {
     "data": {
      "text/plain": [
       "GridSearchCV(cv=5, estimator=LogisticRegression(), n_jobs=-1,\n",
       "             param_grid={'C': [0.1, 0.2, 0.3, 0.5, 0.8, 1, 1.2, 1.5],\n",
       "                         'l1_ratio': array([0. , 0.1, 0.2, 0.3, 0.4, 0.5, 0.6, 0.7, 0.8, 0.9]),\n",
       "                         'max_iter': [100, 1000, 10000],\n",
       "                         'penalty': ['elasticnet', 'l1', 'l2', 'None'],\n",
       "                         'solver': ['saga']},\n",
       "             scoring='f1')"
      ]
     },
     "execution_count": 12,
     "metadata": {},
     "output_type": "execute_result"
    }
   ],
   "source": [
    "from sklearn.linear_model import LogisticRegression\n",
    "from sklearn.model_selection import GridSearchCV\n",
    "import numpy as np\n",
    "\n",
    "param_grid = {\n",
    "    'solver':['saga'],\n",
    "    'penalty':['elasticnet', 'l1', 'l2', 'None'],\n",
    "    'C': [0.1, 0.2, 0.3, 0.5, 0.8, 1, 1.2, 1.5],\n",
    "    'l1_ratio': np.arange(0, 1, 0.1),\n",
    "    'max_iter': [100,1000,10000]\n",
    "}\n",
    "\n",
    "model = LogisticRegression()\n",
    "\n",
    "grid_search = GridSearchCV(model,\n",
    "                           param_grid,\n",
    "                           cv=5,\n",
    "                           scoring='f1',\n",
    "                           n_jobs=-1\n",
    "                          )\n",
    "\n",
    "grid_search.fit(X_train, y_train)"
   ]
  },
  {
   "cell_type": "code",
   "execution_count": 13,
   "metadata": {},
   "outputs": [
    {
     "data": {
      "text/plain": [
       "{'C': 0.1,\n",
       " 'l1_ratio': 0.0,\n",
       " 'max_iter': 1000,\n",
       " 'penalty': 'elasticnet',\n",
       " 'solver': 'saga'}"
      ]
     },
     "execution_count": 13,
     "metadata": {},
     "output_type": "execute_result"
    }
   ],
   "source": [
    "grid_search.best_params_"
   ]
  },
  {
   "cell_type": "code",
   "execution_count": 14,
   "metadata": {},
   "outputs": [
    {
     "data": {
      "text/plain": [
       "0.9928548644338118"
      ]
     },
     "execution_count": 14,
     "metadata": {},
     "output_type": "execute_result"
    }
   ],
   "source": [
    "grid_search.best_score_"
   ]
  },
  {
   "cell_type": "code",
   "execution_count": 16,
   "metadata": {},
   "outputs": [],
   "source": [
    "y_pred = grid_search.best_estimator_.predict(X_test)"
   ]
  },
  {
   "cell_type": "code",
   "execution_count": 17,
   "metadata": {},
   "outputs": [
    {
     "name": "stdout",
     "output_type": "stream",
     "text": [
      "              precision    recall  f1-score   support\n",
      "\n",
      "           1       1.00      1.00      1.00        44\n",
      "           9       1.00      1.00      1.00        47\n",
      "\n",
      "    accuracy                           1.00        91\n",
      "   macro avg       1.00      1.00      1.00        91\n",
      "weighted avg       1.00      1.00      1.00        91\n",
      "\n"
     ]
    }
   ],
   "source": [
    "from sklearn.metrics import classification_report\n",
    "print(classification_report(y_test, y_pred))"
   ]
  },
  {
   "cell_type": "code",
   "execution_count": 20,
   "metadata": {},
   "outputs": [
    {
     "data": {
      "text/plain": [
       "array([0, 1, 1, 1, 1, 0, 0, 0, 1, 0, 1, 1, 1, 1, 1, 0, 1, 0, 1, 1, 0, 0,\n",
       "       0, 0, 0, 1, 1, 0, 1, 1, 0, 0, 1, 1, 0, 0, 0, 0, 1, 0, 1, 1, 1, 0,\n",
       "       1, 1, 0, 1, 1, 1, 1, 0, 0, 0, 0, 0, 0, 0, 1, 0, 1, 0, 1, 0, 0, 0,\n",
       "       1, 0, 0, 0, 0, 1, 1, 0, 0, 1, 1, 0, 1, 0, 0, 1, 0, 1, 1, 1, 1, 0,\n",
       "       0, 1, 0])"
      ]
     },
     "execution_count": 20,
     "metadata": {},
     "output_type": "execute_result"
    }
   ],
   "source": [
    "y_test2 = np.where(y_test==9,0,1)\n",
    "y_test2"
   ]
  },
  {
   "cell_type": "code",
   "execution_count": 25,
   "metadata": {
    "scrolled": true
   },
   "outputs": [
    {
     "data": {
      "text/plain": [
       "array([[4.92144103e-06, 9.99995079e-01],\n",
       "       [9.99633034e-01, 3.66965957e-04],\n",
       "       [9.99930718e-01, 6.92824796e-05],\n",
       "       [9.85965623e-01, 1.40343774e-02],\n",
       "       [9.99891201e-01, 1.08799213e-04],\n",
       "       [1.46929079e-05, 9.99985307e-01],\n",
       "       [4.64338433e-03, 9.95356616e-01],\n",
       "       [1.03299165e-02, 9.89670084e-01],\n",
       "       [9.99977209e-01, 2.27905737e-05],\n",
       "       [6.72020525e-02, 9.32797947e-01],\n",
       "       [9.98767923e-01, 1.23207746e-03],\n",
       "       [9.99571337e-01, 4.28663338e-04],\n",
       "       [9.74143202e-01, 2.58567983e-02],\n",
       "       [9.99950259e-01, 4.97412978e-05],\n",
       "       [9.99944464e-01, 5.55359241e-05],\n",
       "       [2.67730774e-01, 7.32269226e-01],\n",
       "       [8.93753702e-01, 1.06246298e-01],\n",
       "       [1.97668735e-04, 9.99802331e-01],\n",
       "       [9.96173012e-01, 3.82698771e-03],\n",
       "       [6.23880339e-01, 3.76119661e-01],\n",
       "       [1.29383428e-05, 9.99987062e-01],\n",
       "       [5.01812200e-03, 9.94981878e-01],\n",
       "       [8.13014855e-05, 9.99918699e-01],\n",
       "       [6.40845934e-04, 9.99359154e-01],\n",
       "       [9.33342592e-05, 9.99906666e-01],\n",
       "       [9.71227370e-01, 2.87726295e-02],\n",
       "       [9.99996880e-01, 3.11980073e-06],\n",
       "       [4.18293048e-04, 9.99581707e-01],\n",
       "       [9.98629467e-01, 1.37053307e-03],\n",
       "       [9.99043371e-01, 9.56629241e-04],\n",
       "       [3.85534267e-04, 9.99614466e-01],\n",
       "       [7.16079253e-06, 9.99992839e-01],\n",
       "       [9.99906388e-01, 9.36120196e-05],\n",
       "       [9.93953122e-01, 6.04687843e-03],\n",
       "       [1.02463871e-04, 9.99897536e-01],\n",
       "       [2.35397044e-02, 9.76460296e-01],\n",
       "       [7.83506488e-06, 9.99992165e-01],\n",
       "       [2.46455282e-04, 9.99753545e-01],\n",
       "       [9.62297825e-01, 3.77021753e-02],\n",
       "       [5.99469668e-06, 9.99994005e-01],\n",
       "       [9.88042299e-01, 1.19577013e-02],\n",
       "       [9.99932112e-01, 6.78883575e-05],\n",
       "       [9.93179102e-01, 6.82089833e-03],\n",
       "       [6.69988890e-04, 9.99330011e-01],\n",
       "       [9.99984173e-01, 1.58271171e-05],\n",
       "       [9.99999605e-01, 3.94975399e-07],\n",
       "       [1.92928889e-05, 9.99980707e-01],\n",
       "       [9.96178240e-01, 3.82175962e-03],\n",
       "       [9.99939663e-01, 6.03373427e-05],\n",
       "       [9.99829719e-01, 1.70281284e-04],\n",
       "       [9.99258052e-01, 7.41948112e-04],\n",
       "       [3.28983977e-05, 9.99967102e-01],\n",
       "       [5.95202450e-04, 9.99404798e-01],\n",
       "       [1.55971211e-05, 9.99984403e-01],\n",
       "       [2.13742819e-05, 9.99978626e-01],\n",
       "       [4.11848599e-04, 9.99588151e-01],\n",
       "       [1.93593181e-04, 9.99806407e-01],\n",
       "       [2.01327229e-05, 9.99979867e-01],\n",
       "       [9.99853121e-01, 1.46878818e-04],\n",
       "       [2.78543538e-06, 9.99997215e-01],\n",
       "       [9.03994130e-01, 9.60058700e-02],\n",
       "       [4.89638839e-03, 9.95103612e-01],\n",
       "       [9.99048617e-01, 9.51383391e-04],\n",
       "       [5.34222623e-04, 9.99465777e-01],\n",
       "       [4.25577135e-02, 9.57442287e-01],\n",
       "       [9.32168375e-06, 9.99990678e-01],\n",
       "       [9.98646601e-01, 1.35339862e-03],\n",
       "       [4.91225597e-03, 9.95087744e-01],\n",
       "       [1.25181222e-04, 9.99874819e-01],\n",
       "       [2.45505008e-02, 9.75449499e-01],\n",
       "       [4.26478461e-03, 9.95735215e-01],\n",
       "       [9.99953318e-01, 4.66822888e-05],\n",
       "       [9.99360288e-01, 6.39711900e-04],\n",
       "       [2.92395548e-04, 9.99707604e-01],\n",
       "       [4.64542352e-05, 9.99953546e-01],\n",
       "       [9.99750888e-01, 2.49111722e-04],\n",
       "       [9.99969549e-01, 3.04509901e-05],\n",
       "       [2.36496937e-04, 9.99763503e-01],\n",
       "       [9.95219643e-01, 4.78035655e-03],\n",
       "       [3.63925171e-03, 9.96360748e-01],\n",
       "       [8.02018901e-03, 9.91979811e-01],\n",
       "       [9.95793638e-01, 4.20636184e-03],\n",
       "       [2.39225957e-05, 9.99976077e-01],\n",
       "       [9.99958670e-01, 4.13303800e-05],\n",
       "       [9.99386314e-01, 6.13686268e-04],\n",
       "       [9.85537338e-01, 1.44626620e-02],\n",
       "       [9.96911304e-01, 3.08869615e-03],\n",
       "       [8.67680950e-05, 9.99913232e-01],\n",
       "       [3.43982699e-05, 9.99965602e-01],\n",
       "       [9.98587041e-01, 1.41295935e-03],\n",
       "       [5.26040972e-05, 9.99947396e-01]])"
      ]
     },
     "execution_count": 25,
     "metadata": {},
     "output_type": "execute_result"
    }
   ],
   "source": [
    "predictions"
   ]
  },
  {
   "cell_type": "code",
   "execution_count": 24,
   "metadata": {},
   "outputs": [
    {
     "data": {
      "image/png": "[encoded data removed]",
      "text/plain": [
       "<Figure size 640x480 with 1 Axes>"
      ]
     },
     "metadata": {},
     "output_type": "display_data"
    }
   ],
   "source": [
    "from sklearn.metrics import roc_curve, auc\n",
    "import matplotlib.pyplot as plt\n",
    "\n",
    "predictions = grid_search.best_estimator_.predict_proba(X_test)\n",
    "\n",
    "# Compute ROC curve and ROC area for each class\n",
    "fpr = dict()\n",
    "tpr = dict()\n",
    "roc_auc = dict()\n",
    "\n",
    "fpr, tpr, thresholds = roc_curve(y_test2, predictions[:, 0])\n",
    "roc_auc = auc(fpr, tpr)\n",
    "\n",
    "plt.plot(fpr, tpr, color='darkorange',label='ROC curve (area = %0.2f)' % roc_auc)\n",
    "plt.plot([0, 1], [0, 1], color='navy', linestyle='--')\n",
    "plt.xlim([0.0, 1.0])\n",
    "plt.ylim([0.0, 1.01])\n",
    "plt.xlabel('False Positive Rate', size = 12)\n",
    "plt.ylabel('True Positive Rate', size = 12)\n",
    "plt.title('Receiver Operating Characteristic')\n",
    "plt.legend(loc=\"lower right\")\n",
    "plt.show()"
   ]
  },
  {
   "cell_type": "code",
   "execution_count": null,
   "metadata": {},
   "outputs": [],
   "source": []
  }
 ],
 "metadata": {
  "kernelspec": {
   "display_name": "Python 3 (ipykernel)",
   "language": "python",
   "name": "python3"
  },
  "language_info": {
   "codemirror_mode": {
    "name": "ipython",
    "version": 3
   },
   "file_extension": ".py",
   "mimetype": "text/x-python",
   "name": "python",
   "nbconvert_exporter": "python",
   "pygments_lexer": "ipython3",
   "version": "3.10.8"
  }
 },
 "nbformat": 4,
 "nbformat_minor": 4
}
