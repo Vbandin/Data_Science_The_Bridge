{
 "cells": [
  {
   "cell_type": "markdown",
   "id": "66032c9c",
   "metadata": {},
   "source": [
    "https://www.codewars.com/kata/557cd6882bfa3c8a9f0000c1/train/python\n",
    "\n",
    "You ask a small girl,\"How old are you?\" She always says, \"x years old\", where x is a random number between 0 and 9.\n",
    "\n",
    "Write a program that returns the girl's age (0-9) as an integer.\n",
    "\n",
    "Assume the test input string is always a valid string. For example, the test input may be \"1 year old\" or \"5 years old\". The first character in the string is always a number."
   ]
  },
  {
   "cell_type": "code",
   "execution_count": null,
   "id": "d11703ab",
   "metadata": {},
   "outputs": [],
   "source": [
    "def get_age(age):\n",
    "    return int(age[0])"
   ]
  },
  {
   "cell_type": "code",
   "execution_count": null,
   "id": "04b83592",
   "metadata": {},
   "outputs": [],
   "source": [
    "# corrección\n",
    "int(age.split()[0])"
   ]
  },
  {
   "cell_type": "markdown",
   "id": "beb797de",
   "metadata": {},
   "source": [
    "https://www.codewars.com/kata/514a024011ea4fb54200004b/train/python\n",
    "Write a function that when given a URL as a string, parses out just the domain name and returns it as a string. For example:\n",
    "\n",
    "* url = \"http://github.com/carbonfive/raygun\" -> domain name = \"github\"\n",
    "* url = \"http://www.zombie-bites.com\"         -> domain name = \"zombie-bites\"\n",
    "* url = \"https://www.cnet.com\"                -> domain name = cnet\""
   ]
  },
  {
   "cell_type": "code",
   "execution_count": 9,
   "id": "19479560",
   "metadata": {},
   "outputs": [
    {
     "data": {
      "text/plain": [
       "'github'"
      ]
     },
     "execution_count": 9,
     "metadata": {},
     "output_type": "execute_result"
    }
   ],
   "source": [
    "def domain_name(url):\n",
    "    if 'http' in url and 'www' not in url:\n",
    "        url_splited = url.split(sep='/', maxsplit=-1)\n",
    "        domain = url_splited[2]\n",
    "        domain_splited = domain.split(sep='.', maxsplit=-1)\n",
    "        domain_name = domain_splited[0]\n",
    "        return domain_name\n",
    "    elif 'www' in url:\n",
    "        url_splited = url.split(sep='.', maxsplit=-1)\n",
    "        domain_name = url_splited[1]\n",
    "        return domain_name\n",
    "    elif 'http' in url and 'www' in url:\n",
    "        url_splited = url.split(sep='/', maxsplit=-1)\n",
    "        domain = url_splited[2]\n",
    "        domain_splited = domain.split(sep='.', maxsplit=-1)\n",
    "        domain_name = domain_splited[1]\n",
    "        return domain_name\n",
    "    elif 'http' not in url and 'www' not in url:\n",
    "        url_splited = url.split(sep='.', maxsplit=-1)\n",
    "        domain_name = url_splited[0]\n",
    "        return domain_name"
   ]
  },
  {
   "cell_type": "code",
   "execution_count": null,
   "id": "9ac7a295",
   "metadata": {},
   "outputs": [],
   "source": [
    "# Correccion\n",
    "def domain_name(url):\n",
    "    return url.replace('http://','').replace('https://','').replace('www.','').split('.')[0]"
   ]
  },
  {
   "cell_type": "markdown",
   "id": "dec5234e",
   "metadata": {},
   "source": [
    "https://www.codewars.com/kata/550498447451fbbd7600041c/train/python\n",
    "Given two arrays a and b write a function comp(a, b) (orcompSame(a, b)) that checks whether the two arrays have the \"same\" elements, with the same multiplicities (the multiplicity of a member is the number of times it appears). \"Same\" means, here, that the elements in b are the elements in a squared, regardless of the order.\n",
    "\n",
    "Examples\n",
    "Valid arrays\n",
    "a = [121, 144, 19, 161, 19, 144, 19, 11]  \n",
    "b = [121, 14641, 20736, 361, 25921, 361, 20736, 361]\n",
    "comp(a, b) returns true because in b 121 is the square of 11, 14641 is the square of 121, 20736 the square of 144, 361 the square of 19, 25921 the square of 161, and so on. It gets obvious if we write b's elements in terms of squares:\n",
    "\n",
    "a = [121, 144, 19, 161, 19, 144, 19, 11] \n",
    "b = [11*11, 121*121, 144*144, 19*19, 161*161, 19*19, 144*144, 19*19]\n",
    "Invalid arrays\n",
    "If, for example, we change the first number to something else, comp is not returning true anymore:\n",
    "\n",
    "a = [121, 144, 19, 161, 19, 144, 19, 11]  \n",
    "b = [132, 14641, 20736, 361, 25921, 361, 20736, 361]\n",
    "comp(a,b) returns false because in b 132 is not the square of any number of a.\n",
    "\n",
    "a = [121, 144, 19, 161, 19, 144, 19, 11]  \n",
    "b = [121, 14641, 20736, 36100, 25921, 361, 20736, 361]\n",
    "comp(a,b) returns false because in b 36100 is not the square of any number of a.\n",
    "\n",
    "Remarks\n",
    "a or b might be [] or {} (all languages except R, Shell).\n",
    "a or b might be nil or null or None or nothing (except in C++, COBOL, Crystal, D, Dart, Elixir, Fortran, F#, Haskell, Nim, OCaml, Pascal, Perl, PowerShell, Prolog, PureScript, R, Racket, Rust, Shell, Swift).\n",
    "If a or b are nil (or null or None, depending on the language), the problem doesn't make sense so return false.\n",
    "\n",
    "Note for C\n",
    "The two arrays have the same size (> 0) given as parameter in function comp."
   ]
  },
  {
   "cell_type": "code",
   "execution_count": 19,
   "id": "e48a39ca",
   "metadata": {},
   "outputs": [
    {
     "name": "stdout",
     "output_type": "stream",
     "text": [
      "<class 'int'>\n"
     ]
    }
   ],
   "source": [
    "# NO PASA TODOS LOS TESTS --> REVISAR MAS FRESCO\n",
    "def comp(array1, array2):\n",
    "    check_list = []\n",
    "    for ela in array1:\n",
    "        for elb in array2:\n",
    "            if type(ela) == 'NoneType':\n",
    "                return False\n",
    "            elif type(elb) == 'NoneType':\n",
    "                return False\n",
    "            elif elb == ela**2:\n",
    "                check_list.append(True)\n",
    "                continue\n",
    "    if len(check_list) == len(array1):\n",
    "        return True\n",
    "    else:\n",
    "        return False\n"
   ]
  },
  {
   "cell_type": "code",
   "execution_count": null,
   "id": "1d3de728",
   "metadata": {},
   "outputs": [],
   "source": [
    "def comp(array1, array2):\n",
    "    if array1 is None or array2 is None:\n",
    "        return False\n",
    "    else:\n",
    "        return sorted([el**2 for el in array1]) == sorted(array2)"
   ]
  },
  {
   "cell_type": "markdown",
   "id": "d3948e9d",
   "metadata": {},
   "source": [
    "https://www.codewars.com/kata/545a4c5a61aa4c6916000755/train/python\n",
    "As a part of this Kata, you need to create a function that when provided with a triplet, returns the index of the numerical element that lies between the other two elements.\n",
    "\n",
    "The input to the function will be an array of three distinct numbers (Haskell: a tuple).\n",
    "\n",
    "For example:\n",
    "\n",
    "gimme([2, 3, 1]) => 0\n",
    "2 is the number that fits between 1 and 3 and the index of 2 in the input array is 0.\n",
    "\n",
    "Another example (just to make sure it is clear):\n",
    "\n",
    "gimme([5, 10, 14]) => 1\n",
    "10 is the number that fits between 5 and 14 and the index of 10 in the input array is 1."
   ]
  },
  {
   "cell_type": "code",
   "execution_count": 26,
   "id": "a16b152d",
   "metadata": {},
   "outputs": [
    {
     "name": "stdout",
     "output_type": "stream",
     "text": [
      "0 2\n"
     ]
    }
   ],
   "source": [
    "def gimme(input_array):\n",
    "    sorted_list = sorted(input_array)\n",
    "    for index, value in enumerate(input_array):\n",
    "        if value == sorted_list[1]:\n",
    "            return index"
   ]
  },
  {
   "cell_type": "code",
   "execution_count": null,
   "id": "e24a3d8e",
   "metadata": {},
   "outputs": [],
   "source": [
    "# Corrección:\n",
    "def gimme(input_array):\n",
    "    return input_array.index(sorted(input_array)[1])"
   ]
  },
  {
   "cell_type": "markdown",
   "id": "c54c357c",
   "metadata": {},
   "source": [
    "https://www.codewars.com/kata/52c31f8e6605bcc646000082/train/python\n",
    "Write a function that takes an array of numbers (integers for the tests) and a target number. It should find two different items in the array that, when added together, give the target value. The indices of these items should then be returned in a tuple / list (depending on your language) like so: (index1, index2).\n",
    "\n",
    "For the purposes of this kata, some tests may have multiple answers; any valid solutions will be accepted.\n",
    "\n",
    "The input will always be valid (numbers will be an array of length 2 or greater, and all of the items will be numbers; target will always be the sum of two different items from that array).\n",
    "\n",
    "Based on: http://oj.leetcode.com/problems/two-sum/\n",
    "\n",
    "two_sum([1, 2, 3], 4) # returns [0, 2] or [2, 0]"
   ]
  },
  {
   "cell_type": "code",
   "execution_count": 40,
   "id": "68c272f8",
   "metadata": {},
   "outputs": [],
   "source": [
    "def two_sum(numbers, target):\n",
    "    for index, value in enumerate(numbers):\n",
    "        for el in numbers:\n",
    "            if el+value == target:\n",
    "                result = [index,numbers.index(el)]\n",
    "                break\n",
    "    return result"
   ]
  },
  {
   "cell_type": "code",
   "execution_count": null,
   "id": "0a938b82",
   "metadata": {},
   "outputs": [],
   "source": [
    "# Corrección:\n",
    "def two_sum(numbers, target):\n",
    "    for idx, el in enumerate(numbers):\n",
    "        for idx2, el2 in enumerate(numbers):\n",
    "            if idx!= idx2 and el+el2 == target:\n",
    "                return [idx,idx2]"
   ]
  },
  {
   "cell_type": "markdown",
   "id": "d80f7f12",
   "metadata": {},
   "source": [
    "https://www.codewars.com/kata/550f22f4d758534c1100025a/train/python\n",
    "\n",
    "Once upon a time, on a way through the old wild mountainous west,…\n",
    "… a man was given directions to go from one point to another. The directions were \"NORTH\", \"SOUTH\", \"WEST\", \"EAST\". Clearly \"NORTH\" and \"SOUTH\" are opposite, \"WEST\" and \"EAST\" too.\n",
    "\n",
    "Going to one direction and coming back the opposite direction right away is a needless effort. Since this is the wild west, with dreadful weather and not much water, it's important to save yourself some energy, otherwise you might die of thirst!\n",
    "\n",
    "How I crossed a mountainous desert the smart way.\n",
    "The directions given to the man are, for example, the following (depending on the language):\n",
    "\n",
    "[\"NORTH\", \"SOUTH\", \"SOUTH\", \"EAST\", \"WEST\", \"NORTH\", \"WEST\"].\n",
    "or\n",
    "{ \"NORTH\", \"SOUTH\", \"SOUTH\", \"EAST\", \"WEST\", \"NORTH\", \"WEST\" };\n",
    "or\n",
    "[North, South, South, East, West, North, West]\n",
    "You can immediately see that going \"NORTH\" and immediately \"SOUTH\" is not reasonable, better stay to the same place! So the task is to give to the man a simplified version of the plan. A better plan in this case is simply:\n",
    "\n",
    "[\"WEST\"]\n",
    "or\n",
    "{ \"WEST\" }\n",
    "or\n",
    "[West]\n",
    "Other examples:\n",
    "In [\"NORTH\", \"SOUTH\", \"EAST\", \"WEST\"], the direction \"NORTH\" + \"SOUTH\" is going north and coming back right away.\n",
    "\n",
    "The path becomes [\"EAST\", \"WEST\"], now \"EAST\" and \"WEST\" annihilate each other, therefore, the final result is [] (nil in Clojure).\n",
    "\n",
    "In [\"NORTH\", \"EAST\", \"WEST\", \"SOUTH\", \"WEST\", \"WEST\"], \"NORTH\" and \"SOUTH\" are not directly opposite but they become directly opposite after the reduction of \"EAST\" and \"WEST\" so the whole path is reducible to [\"WEST\", \"WEST\"].\n",
    "\n",
    "Task\n",
    "Write a function dirReduc which will take an array of strings and returns an array of strings with the needless directions removed (W<->E or S<->N side by side).\n",
    "\n",
    "The Haskell version takes a list of directions with data Direction = North | East | West | South.\n",
    "The Clojure version returns nil when the path is reduced to nothing.\n",
    "The Rust version takes a slice of enum Direction {North, East, West, South}.\n",
    "See more examples in \"Sample Tests:\"\n",
    "Notes\n",
    "Not all paths can be made simpler. The path [\"NORTH\", \"WEST\", \"SOUTH\", \"EAST\"] is not reducible. \"NORTH\" and \"WEST\", \"WEST\" and \"SOUTH\", \"SOUTH\" and \"EAST\" are not directly opposite of each other and can't become such. Hence the result path is itself : [\"NORTH\", \"WEST\", \"SOUTH\", \"EAST\"].\n",
    "if you want to translate, please ask before translating."
   ]
  },
  {
   "cell_type": "code",
   "execution_count": 73,
   "id": "18961bb4",
   "metadata": {},
   "outputs": [
    {
     "data": {
      "text/plain": [
       "['SOUTH', 'SOUTH', 'WEST', 'WEST']"
      ]
     },
     "execution_count": 73,
     "metadata": {},
     "output_type": "execute_result"
    }
   ],
   "source": [
    "a = [\"NORTH\", \"SOUTH\", \"SOUTH\", \"EAST\", \"WEST\", \"NORTH\", \"WEST\"]\n",
    "a2 = []\n",
    "for el in a:\n",
    "    if el == \"NORTH\" and a[a.index(el)+1] != \"SOUTH\" or el == \"SOUTH\" and a[a.index(el)+1] != \"NORTH\" or el == \"EAST\" and a[a.index(el)+1] != \"WEST\" or el == \"WEST\" and a[a.index(el)+1] != \"EAST\":\n",
    "        a2.append(el)\n",
    "\n",
    "a2"
   ]
  },
  {
   "cell_type": "code",
   "execution_count": 77,
   "id": "5dbdedfd",
   "metadata": {},
   "outputs": [],
   "source": [
    "# Corrección:\n",
    "\n",
    "route = [\"NORTH\", \"SOUTH\", \"SOUTH\", \"EAST\", \"WEST\", \"NORTH\", \"WEST\"]\n",
    "def dirReduc(a):\n",
    "    a2 = a.copy()\n",
    "    while True:\n",
    "        l1 = len(a2)\n",
    "        print(l1)\n",
    "        print(a2)\n",
    "        a2 = \" \".join(a2).replace('NORTH SOUTH','').replace('SOUTH NORTH','').replace('EAST WEST','').replace('WEST EAST','').split()\n",
    "        if len(a2) == l1: break\n",
    "    return a2"
   ]
  },
  {
   "cell_type": "code",
   "execution_count": 78,
   "id": "411db8ed",
   "metadata": {},
   "outputs": [
    {
     "name": "stdout",
     "output_type": "stream",
     "text": [
      "7\n",
      "['NORTH', 'SOUTH', 'SOUTH', 'EAST', 'WEST', 'NORTH', 'WEST']\n",
      "3\n",
      "['SOUTH', 'NORTH', 'WEST']\n",
      "1\n",
      "['WEST']\n"
     ]
    },
    {
     "data": {
      "text/plain": [
       "['WEST']"
      ]
     },
     "execution_count": 78,
     "metadata": {},
     "output_type": "execute_result"
    }
   ],
   "source": [
    "dirReduc(route)"
   ]
  },
  {
   "cell_type": "code",
   "execution_count": null,
   "id": "2e85d7fe",
   "metadata": {},
   "outputs": [],
   "source": []
  }
 ],
 "metadata": {
  "kernelspec": {
   "display_name": "Python 3 (ipykernel)",
   "language": "python",
   "name": "python3"
  },
  "language_info": {
   "codemirror_mode": {
    "name": "ipython",
    "version": 3
   },
   "file_extension": ".py",
   "mimetype": "text/x-python",
   "name": "python",
   "nbconvert_exporter": "python",
   "pygments_lexer": "ipython3",
   "version": "3.10.4"
  }
 },
 "nbformat": 4,
 "nbformat_minor": 5
}
