{
 "cells": [
  {
   "cell_type": "code",
   "execution_count": null,
   "id": "b7bd437e",
   "metadata": {},
   "outputs": [],
   "source": [
    "'''\n",
    "ENUNCIADO:\n",
    "\n",
    "Given two arrays a and b write a function comp(a, b) (orcompSame(a, b)) that checks whether the two arrays have the \"same\" elements, with the same multiplicities (the multiplicity of a member is the number of times it appears). \"Same\" means, here, that the elements in b are the elements in a squared, regardless of the order.\n",
    "\n",
    "Examples\n",
    "Valid arrays\n",
    "a = [121, 144, 19, 161, 19, 144, 19, 11]  \n",
    "b = [121, 14641, 20736, 361, 25921, 361, 20736, 361]\n",
    "comp(a, b) returns true because in b 121 is the square of 11, 14641 is the square of 121, 20736 the square of 144, 361 the square of 19, 25921 the square of 161, and so on. It gets obvious if we write b's elements in terms of squares:\n",
    "\n",
    "a = [121, 144, 19, 161, 19, 144, 19, 11] \n",
    "b = [11*11, 121*121, 144*144, 19*19, 161*161, 19*19, 144*144, 19*19]\n",
    "Invalid arrays\n",
    "If, for example, we change the first number to something else, comp is not returning true anymore:\n",
    "\n",
    "a = [121, 144, 19, 161, 19, 144, 19, 11]  \n",
    "b = [132, 14641, 20736, 361, 25921, 361, 20736, 361]\n",
    "comp(a,b) returns false because in b 132 is not the square of any number of a.\n",
    "\n",
    "a = [121, 144, 19, 161, 19, 144, 19, 11]  \n",
    "b = [121, 14641, 20736, 36100, 25921, 361, 20736, 361]\n",
    "comp(a,b) returns false because in b 36100 is not the square of any number of a.\n",
    "\n",
    "Remarks\n",
    "a or b might be [] or {} (all languages except R, Shell).\n",
    "a or b might be nil or null or None or nothing (except in C++, COBOL, Crystal, D, Dart, Elixir, Fortran, F#, Haskell, Nim, OCaml, Pascal, Perl, PowerShell, Prolog, PureScript, R, Racket, Rust, Shell, Swift).\n",
    "If a or b are nil (or null or None, depending on the language), the problem doesn't make sense so return false.\n",
    "\n",
    "Note for C\n",
    "The two arrays have the same size (> 0) given as parameter in function comp.\n",
    "'''"
   ]
  },
  {
   "cell_type": "code",
   "execution_count": 3,
   "id": "0796cf83",
   "metadata": {},
   "outputs": [],
   "source": [
    "a = [121, 144, 19, 161, 19, 144, 19, 11]  \n",
    "b = [121, 14641, 20736, 361, 25921, 361, 20736, 361]\n",
    "\n",
    "def comp(array1, array2):\n",
    "    i = 0\n",
    "    aBis = []\n",
    "    while i < len(a)-1:\n",
    "        for el in array1:\n",
    "            aBis.append(el**2)\n",
    "    resultado = []\n",
    "    for el in aBis:\n",
    "        if el in array2:\n",
    "            resultado.append(True)\n",
    "        else:\n",
    "            resultado.append(False)\n",
    "    print(resultado)\n",
    "    return resultado\n",
    "    \n"
   ]
  },
  {
   "cell_type": "code",
   "execution_count": 4,
   "id": "3277913b",
   "metadata": {},
   "outputs": [
    {
     "ename": "MemoryError",
     "evalue": "",
     "output_type": "error",
     "traceback": [
      "\u001b[1;31m---------------------------------------------------------------------------\u001b[0m",
      "\u001b[1;31mMemoryError\u001b[0m                               Traceback (most recent call last)",
      "\u001b[1;32m~\\AppData\\Local\\Temp\\ipykernel_11428\\3144156488.py\u001b[0m in \u001b[0;36m<module>\u001b[1;34m\u001b[0m\n\u001b[1;32m----> 1\u001b[1;33m \u001b[0mcomp\u001b[0m\u001b[1;33m(\u001b[0m\u001b[0ma\u001b[0m\u001b[1;33m,\u001b[0m\u001b[0mb\u001b[0m\u001b[1;33m)\u001b[0m\u001b[1;33m\u001b[0m\u001b[1;33m\u001b[0m\u001b[0m\n\u001b[0m",
      "\u001b[1;32m~\\AppData\\Local\\Temp\\ipykernel_11428\\3125605478.py\u001b[0m in \u001b[0;36mcomp\u001b[1;34m(array1, array2)\u001b[0m\n\u001b[0;32m      7\u001b[0m     \u001b[1;32mwhile\u001b[0m \u001b[0mi\u001b[0m \u001b[1;33m<\u001b[0m \u001b[0mlen\u001b[0m\u001b[1;33m(\u001b[0m\u001b[0ma\u001b[0m\u001b[1;33m)\u001b[0m\u001b[1;33m-\u001b[0m\u001b[1;36m1\u001b[0m\u001b[1;33m:\u001b[0m\u001b[1;33m\u001b[0m\u001b[1;33m\u001b[0m\u001b[0m\n\u001b[0;32m      8\u001b[0m         \u001b[1;32mfor\u001b[0m \u001b[0mel\u001b[0m \u001b[1;32min\u001b[0m \u001b[0marray1\u001b[0m\u001b[1;33m:\u001b[0m\u001b[1;33m\u001b[0m\u001b[1;33m\u001b[0m\u001b[0m\n\u001b[1;32m----> 9\u001b[1;33m             \u001b[0maBis\u001b[0m\u001b[1;33m.\u001b[0m\u001b[0mappend\u001b[0m\u001b[1;33m(\u001b[0m\u001b[0mel\u001b[0m\u001b[1;33m**\u001b[0m\u001b[1;36m2\u001b[0m\u001b[1;33m)\u001b[0m\u001b[1;33m\u001b[0m\u001b[1;33m\u001b[0m\u001b[0m\n\u001b[0m\u001b[0;32m     10\u001b[0m     \u001b[0mresultado\u001b[0m \u001b[1;33m=\u001b[0m \u001b[1;33m[\u001b[0m\u001b[1;33m]\u001b[0m\u001b[1;33m\u001b[0m\u001b[1;33m\u001b[0m\u001b[0m\n\u001b[0;32m     11\u001b[0m     \u001b[1;32mfor\u001b[0m \u001b[0mel\u001b[0m \u001b[1;32min\u001b[0m \u001b[0maBis\u001b[0m\u001b[1;33m:\u001b[0m\u001b[1;33m\u001b[0m\u001b[1;33m\u001b[0m\u001b[0m\n",
      "\u001b[1;31mMemoryError\u001b[0m: "
     ]
    }
   ],
   "source": [
    "comp(a,b)"
   ]
  },
  {
   "cell_type": "code",
   "execution_count": null,
   "id": "7d690b0e",
   "metadata": {},
   "outputs": [],
   "source": []
  },
  {
   "cell_type": "code",
   "execution_count": null,
   "id": "2b61e632",
   "metadata": {},
   "outputs": [],
   "source": [
    "a = [121, 144, 19, 161, 19, 144, 19, 11]  \n",
    "b = [121, 14641, 20736, 361, 25921, 361, 20736, 361]\n",
    "\n",
    "def comp(array1, array2):\n",
    "    i = 0\n",
    "    resultado = []\n",
    "    while i < len(a)-1:\n",
    "        for el in array1:\n",
    "            if el**2 in array2:\n",
    "                resultado.append(True)\n",
    "                i+=1\n",
    "            else:\n",
    "                resultado.append(False)\n",
    "                i+=1\n",
    "    return resultado"
   ]
  },
  {
   "cell_type": "code",
   "execution_count": null,
   "id": "cd7ed9b1",
   "metadata": {},
   "outputs": [],
   "source": [
    "comp(a,b)"
   ]
  },
  {
   "cell_type": "code",
   "execution_count": null,
   "id": "34021f9f",
   "metadata": {},
   "outputs": [],
   "source": [
    "a1 = [121, 144, 19, 161, 19, 144, 19, 11]  \n",
    "a2 = [121, 14641, 20736, 361, 25921, 361, 20736, 361]\n",
    "\n",
    "def comp(array1, array2):\n",
    "    i = 0\n",
    "    while i < len(a)-1:\n",
    "        for el in array1:\n",
    "            for el in array2:\n",
    "                if (array1[i])**2 in array2:\n",
    "                    print(True)\n",
    "                    i+=1\n",
    "                else:\n",
    "                    print(False)\n",
    "                    i+=1"
   ]
  },
  {
   "cell_type": "code",
   "execution_count": null,
   "id": "365cc2c5",
   "metadata": {},
   "outputs": [],
   "source": [
    "# Solución de Rafa"
   ]
  },
  {
   "cell_type": "code",
   "execution_count": 11,
   "id": "036af97e",
   "metadata": {},
   "outputs": [],
   "source": [
    "import math\n",
    "\n",
    "a = [121, 144, 19, 161, 19, 144, 19, 11]  \n",
    "b = [121, 14641, 20736, 361, 25921, 361, 20736, 361]\n",
    "\n",
    "def comp(a1,a2):\n",
    "    s1 = set(a1)\n",
    "    s2 = set(a2)\n",
    "\n",
    "    for s in s1:\n",
    "        if s**2 not in s2:\n",
    "            return False\n",
    "    for s in s2:\n",
    "        if math.sqrt(s) not in s1:\n",
    "            return False\n",
    "    return True"
   ]
  },
  {
   "cell_type": "code",
   "execution_count": 12,
   "id": "39c39576",
   "metadata": {},
   "outputs": [
    {
     "data": {
      "text/plain": [
       "True"
      ]
     },
     "execution_count": 12,
     "metadata": {},
     "output_type": "execute_result"
    }
   ],
   "source": [
    "comp(a,b)"
   ]
  },
  {
   "cell_type": "code",
   "execution_count": null,
   "id": "414b1508",
   "metadata": {},
   "outputs": [],
   "source": []
  },
  {
   "cell_type": "code",
   "execution_count": null,
   "id": "cb7c7419",
   "metadata": {},
   "outputs": [],
   "source": [
    "'''\n",
    "Enunciado 2\n",
    "Complete the solution so that it reverses the string passed into it.\n",
    "\n",
    "'world'  =>  'dlrow'\n",
    "'word'   =>  'drow'\n",
    "'''"
   ]
  },
  {
   "cell_type": "code",
   "execution_count": 13,
   "id": "434f3480",
   "metadata": {},
   "outputs": [],
   "source": [
    "def solution(string):\n",
    "    string2 = []\n",
    "    for letra in string:\n",
    "        string2.append(letra)\n",
    "    string2.reverse()\n",
    "    return ''.join(string2)"
   ]
  },
  {
   "cell_type": "code",
   "execution_count": 14,
   "id": "af82a3b5",
   "metadata": {},
   "outputs": [
    {
     "data": {
      "text/plain": [
       "'arbadacarba'"
      ]
     },
     "execution_count": 14,
     "metadata": {},
     "output_type": "execute_result"
    }
   ],
   "source": [
    "solution('abracadabra')"
   ]
  },
  {
   "cell_type": "code",
   "execution_count": null,
   "id": "3864e0dc",
   "metadata": {},
   "outputs": [],
   "source": [
    "# Mejor\n",
    "\n",
    "def solution(string):\n",
    "    return ''.join.reversed(string)\n",
    "\n",
    "'''\n",
    "tambien con [::-1]\n",
    "'''"
   ]
  },
  {
   "cell_type": "code",
   "execution_count": 15,
   "id": "04c30bfd",
   "metadata": {},
   "outputs": [
    {
     "data": {
      "text/plain": [
       "'arbadacarba'"
      ]
     },
     "execution_count": 15,
     "metadata": {},
     "output_type": "execute_result"
    }
   ],
   "source": [
    "solution('abracadabra')"
   ]
  },
  {
   "cell_type": "code",
   "execution_count": null,
   "id": "3c993858",
   "metadata": {},
   "outputs": [],
   "source": [
    "'''\n",
    "Enunciado 3\n",
    "Complete the solution so that it returns true if the first argument(string) passed in ends with the 2nd argument (also a string).\n",
    "\n",
    "Examples:\n",
    "\n",
    "solution('abc', 'bc') # returns true\n",
    "solution('abc', 'd') # returns false\n",
    "'''"
   ]
  },
  {
   "cell_type": "code",
   "execution_count": 18,
   "id": "52f653c4",
   "metadata": {},
   "outputs": [],
   "source": [
    "def solution(string, ending):\n",
    "    i = -1\n",
    "    for letra in ending:\n",
    "        if ending[i] == string[i]:\n",
    "            i-=1\n",
    "            return True\n",
    "        else:\n",
    "            return False"
   ]
  },
  {
   "cell_type": "code",
   "execution_count": 22,
   "id": "641f5ba2",
   "metadata": {},
   "outputs": [
    {
     "data": {
      "text/plain": [
       "True"
      ]
     },
     "execution_count": 22,
     "metadata": {},
     "output_type": "execute_result"
    }
   ],
   "source": [
    "solution('abcd','bcd')"
   ]
  },
  {
   "cell_type": "code",
   "execution_count": null,
   "id": "68eaa38b",
   "metadata": {},
   "outputs": [],
   "source": [
    "# Corrección Rafa\n",
    "def solution(string, ending):\n",
    "        return string[-len(ending):] == ending\n"
   ]
  },
  {
   "cell_type": "code",
   "execution_count": 23,
   "id": "74e125b2",
   "metadata": {},
   "outputs": [
    {
     "data": {
      "text/plain": [
       "True"
      ]
     },
     "execution_count": 23,
     "metadata": {},
     "output_type": "execute_result"
    }
   ],
   "source": [
    "solution('juan','an')"
   ]
  },
  {
   "cell_type": "code",
   "execution_count": null,
   "id": "869391d3",
   "metadata": {},
   "outputs": [],
   "source": [
    "'''\n",
    "Your goal in this kata is to implement a difference function, which subtracts one list from another and returns the result.\n",
    "\n",
    "It should remove all values from list a, which are present in list b keeping their order.\n",
    "\n",
    "array_diff([1,2],[1]) == [2]\n",
    "If a value is present in b, all of its occurrences must be removed from the other:\n",
    "\n",
    "array_diff([1,2,2,2,3],[2]) == [1,3]\n",
    "'''"
   ]
  },
  {
   "cell_type": "code",
   "execution_count": 3,
   "id": "52bf6cee",
   "metadata": {},
   "outputs": [],
   "source": [
    "def array_diff(a, b):\n",
    "    for elb in b:\n",
    "        for ela in a:\n",
    "            if elb in a:\n",
    "                a.remove(elb)\n",
    "    return a"
   ]
  },
  {
   "cell_type": "code",
   "execution_count": 4,
   "id": "def65b34",
   "metadata": {},
   "outputs": [
    {
     "data": {
      "text/plain": [
       "[1, 2, 4, 5, 6]"
      ]
     },
     "execution_count": 4,
     "metadata": {},
     "output_type": "execute_result"
    }
   ],
   "source": [
    "array_diff([1,3,2,3,4,3,5,3,6,3],[3])"
   ]
  },
  {
   "cell_type": "code",
   "execution_count": 6,
   "id": "b3172b3e",
   "metadata": {},
   "outputs": [
    {
     "data": {
      "text/plain": [
       "[2, 3, 3]"
      ]
     },
     "execution_count": 6,
     "metadata": {},
     "output_type": "execute_result"
    }
   ],
   "source": [
    "# Mejor con comprensión de listas\n",
    "\n",
    "a = [1,2,3,3,4,4]\n",
    "b = [1,4]\n",
    "\n",
    "[el for el in a if el not in b]"
   ]
  },
  {
   "cell_type": "code",
   "execution_count": 18,
   "id": "c11a89c0",
   "metadata": {},
   "outputs": [],
   "source": [
    "def array_diff2(a, b):\n",
    "    return [el for el in a if el not in b]"
   ]
  },
  {
   "cell_type": "code",
   "execution_count": 19,
   "id": "6bd01cac",
   "metadata": {},
   "outputs": [
    {
     "data": {
      "text/plain": [
       "[2, 3, 3]"
      ]
     },
     "execution_count": 19,
     "metadata": {},
     "output_type": "execute_result"
    }
   ],
   "source": [
    "a = [1,2,3,3,4,4]\n",
    "b = [1,4]\n",
    "\n",
    "array_diff2(a,b)"
   ]
  },
  {
   "cell_type": "code",
   "execution_count": null,
   "id": "70c22ff9",
   "metadata": {},
   "outputs": [],
   "source": [
    "'''\n",
    "The goal of this exercise is to convert a string to a new string where each character in the new string is \"(\" if that character appears only once in the original string, or \")\" if that character appears more than once in the original string. Ignore capitalization when determining if a character is a duplicate.\n",
    "\n",
    "Examples\n",
    "\"din\"      =>  \"(((\"\n",
    "\"recede\"   =>  \"()()()\"\n",
    "\"Success\"  =>  \")())())\"\n",
    "\"(( @\"     =>  \"))((\" \n",
    "Notes\n",
    "Assertion messages may be unclear about what they display in some languages. If you read \"...It Should encode XXX\", the \"XXX\" is the expected result, not the input!\n",
    "'''"
   ]
  },
  {
   "cell_type": "code",
   "execution_count": 16,
   "id": "a54017dc",
   "metadata": {},
   "outputs": [],
   "source": [
    "def duplicate_encode(word):\n",
    "    word = word.lower()\n",
    "    coded = []\n",
    "    for letra in word:\n",
    "        word.count(letra)\n",
    "        if word.count(letra) <= 1:\n",
    "            coded.append('(')\n",
    "        else:\n",
    "            coded.append(')')\n",
    "    return ''.join(coded)"
   ]
  },
  {
   "cell_type": "code",
   "execution_count": 17,
   "id": "e63c5a44",
   "metadata": {},
   "outputs": [
    {
     "data": {
      "text/plain": [
       "'()())()'"
      ]
     },
     "execution_count": 17,
     "metadata": {},
     "output_type": "execute_result"
    }
   ],
   "source": [
    "duplicate_encode('antonio')"
   ]
  },
  {
   "cell_type": "code",
   "execution_count": 21,
   "id": "717e073d",
   "metadata": {},
   "outputs": [],
   "source": [
    "def codificador_duplicados(palabra):\n",
    "    palabra = palabra.lower()\n",
    "    resultado = ''\n",
    "    for letra in palabra:\n",
    "        if palabra.count(letra) == 1:\n",
    "            resultado += '('\n",
    "        else:\n",
    "            resultado +=')'\n",
    "\n",
    "    return resultado"
   ]
  },
  {
   "cell_type": "code",
   "execution_count": 22,
   "id": "18327a8c",
   "metadata": {},
   "outputs": [
    {
     "data": {
      "text/plain": [
       "'()())()'"
      ]
     },
     "execution_count": 22,
     "metadata": {},
     "output_type": "execute_result"
    }
   ],
   "source": [
    "codificador_duplicados('antonio')"
   ]
  },
  {
   "cell_type": "code",
   "execution_count": null,
   "id": "58128973",
   "metadata": {},
   "outputs": [],
   "source": [
    "'''\n",
    "There is a bus moving in the city, and it takes and drop some people in each bus stop.\n",
    "\n",
    "You are provided with a list (or array) of integer pairs. Elements of each pair represent number of people get into bus (The first item) and number of people get off the bus (The second item) in a bus stop.\n",
    "\n",
    "Your task is to return number of people who are still in the bus after the last bus station (after the last array). Even though it is the last bus stop, the bus is not empty and some people are still in the bus, and they are probably sleeping there :D\n",
    "\n",
    "Take a look on the test cases.\n",
    "\n",
    "Please keep in mind that the test cases ensure that the number of people in the bus is always >= 0. So the return integer can't be negative.\n",
    "\n",
    "The second value in the first integer array is 0, since the bus is empty in the first bus stop.\n",
    "'''"
   ]
  },
  {
   "cell_type": "code",
   "execution_count": 23,
   "id": "9eaf015a",
   "metadata": {},
   "outputs": [
    {
     "data": {
      "text/plain": [
       "4"
      ]
     },
     "execution_count": 23,
     "metadata": {},
     "output_type": "execute_result"
    }
   ],
   "source": [
    "def total(a):\n",
    "    suben=[]\n",
    "    bajan=[]\n",
    "    for i in a:\n",
    "        suben.append(i[0])\n",
    "        bajan.append(i[1])\n",
    "    totalsuben=sum(suben)\n",
    "    totalbajan=sum(bajan)\n",
    "    total= totalsuben - totalbajan\n",
    "    return total\n",
    "total([[10,0],[3,5],[5,9]])\n",
    "\n",
    "# Se puede hacer con una sola lista (por ejemplo pasajeros) en lugar de con dos (suben y bajan) para luego restarlo)"
   ]
  },
  {
   "cell_type": "code",
   "execution_count": null,
   "id": "f72d6530",
   "metadata": {},
   "outputs": [],
   "source": [
    "'''\n",
    "Write Number in Expanded Form\n",
    "You will be given a number and you will need to return it as a string in Expanded Form. For example:\n",
    "\n",
    "expanded_form(12) # Should return '10 + 2'\n",
    "expanded_form(42) # Should return '40 + 2'\n",
    "expanded_form(70304) # Should return '70000 + 300 + 4'\n",
    "NOTE: All numbers will be whole numbers greater than 0.\n",
    "\n",
    "If you liked this kata, check out part 2!!\n",
    "'''"
   ]
  },
  {
   "cell_type": "code",
   "execution_count": 35,
   "id": "76c7ca75",
   "metadata": {},
   "outputs": [],
   "source": [
    "def expanded_form(num):\n",
    "    numStr = str(num)\n",
    "    cifras = len(numStr)\n",
    "    if cifras "
   ]
  },
  {
   "cell_type": "code",
   "execution_count": 36,
   "id": "ce6eae2e",
   "metadata": {},
   "outputs": [
    {
     "data": {
      "text/plain": [
       "2"
      ]
     },
     "execution_count": 36,
     "metadata": {},
     "output_type": "execute_result"
    }
   ],
   "source": [
    "expanded_form(32)"
   ]
  },
  {
   "cell_type": "code",
   "execution_count": 37,
   "id": "0ff67a0f",
   "metadata": {},
   "outputs": [],
   "source": [
    "def expanded_form2(num):\n",
    "    string = str(num)\n",
    "\n",
    "    var = []\n",
    "    for i, t in enumerate(string):\n",
    "        if t != '0':\n",
    "            var.append(t + '0'*(len(string)-1-i))\n",
    "\n",
    "    return \" + \".join(var)"
   ]
  },
  {
   "cell_type": "code",
   "execution_count": 39,
   "id": "70d6ab7f",
   "metadata": {},
   "outputs": [
    {
     "data": {
      "text/plain": [
       "'70000 + 300 + 4'"
      ]
     },
     "execution_count": 39,
     "metadata": {},
     "output_type": "execute_result"
    }
   ],
   "source": [
    "expanded_form2(70304)"
   ]
  },
  {
   "cell_type": "code",
   "execution_count": 40,
   "id": "9a7aabfe",
   "metadata": {},
   "outputs": [
    {
     "name": "stdout",
     "output_type": "stream",
     "text": [
      "10000\n",
      "100\n"
     ]
    },
    {
     "data": {
      "text/plain": [
       "[70000, 300, 4]"
      ]
     },
     "execution_count": 40,
     "metadata": {},
     "output_type": "execute_result"
    }
   ],
   "source": [
    "# Otra manera:\n",
    "\n",
    "res = []\n",
    "n = 70304\n",
    "while len(str(n))>1:\n",
    "    div = int('1'+'0'*(len(str(n))-1))\n",
    "    print(div)\n",
    "    aux = n\n",
    "    aux = n%div\n",
    "    res.append(n-aux)\n",
    "    n=aux\n",
    "res.append(n)\n",
    "res"
   ]
  },
  {
   "cell_type": "code",
   "execution_count": null,
   "id": "8518b698",
   "metadata": {},
   "outputs": [],
   "source": [
    "'''\n",
    "Implement the function unique_in_order which takes as argument a sequence and returns a list of items without any elements with the same value next to each other and preserving the original order of elements.\n",
    "\n",
    "For example:\n",
    "\n",
    "unique_in_order('AAAABBBCCDAABBB') == ['A', 'B', 'C', 'D', 'A', 'B']\n",
    "unique_in_order('ABBCcAD')         == ['A', 'B', 'C', 'c', 'A', 'D']\n",
    "unique_in_order([1,2,2,3,3])       == [1,2,3]\n",
    "\n",
    "'''"
   ]
  },
  {
   "cell_type": "code",
   "execution_count": 52,
   "id": "58644640",
   "metadata": {},
   "outputs": [],
   "source": [
    "def unique_in_order(iterable):\n",
    "    lista = []\n",
    "    for el in iterable:\n",
    "        lista.append(el)\n",
    "        if len(lista) >=2:\n",
    "            if lista[-2] == lista[-1]:\n",
    "                lista.pop()\n",
    "    return lista"
   ]
  },
  {
   "cell_type": "code",
   "execution_count": 53,
   "id": "80dd784b",
   "metadata": {},
   "outputs": [
    {
     "data": {
      "text/plain": [
       "['A', 'B', 'C', 'D', 'A', 'B']"
      ]
     },
     "execution_count": 53,
     "metadata": {},
     "output_type": "execute_result"
    }
   ],
   "source": [
    "unique_in_order('AAAABBBCCDAABBB')"
   ]
  },
  {
   "cell_type": "code",
   "execution_count": 54,
   "id": "1887971c",
   "metadata": {},
   "outputs": [
    {
     "data": {
      "text/plain": [
       "['A', 'B', 'C', 'c', 'A', 'D']"
      ]
     },
     "execution_count": 54,
     "metadata": {},
     "output_type": "execute_result"
    }
   ],
   "source": [
    "unique_in_order('ABBCcAD')"
   ]
  },
  {
   "cell_type": "code",
   "execution_count": 55,
   "id": "2444f35e",
   "metadata": {},
   "outputs": [
    {
     "data": {
      "text/plain": [
       "[1, 2, 3]"
      ]
     },
     "execution_count": 55,
     "metadata": {},
     "output_type": "execute_result"
    }
   ],
   "source": [
    "unique_in_order([1,2,2,3,3])"
   ]
  },
  {
   "cell_type": "code",
   "execution_count": null,
   "id": "c45edf5b",
   "metadata": {},
   "outputs": [],
   "source": [
    "Build a function that returns an array of integers from n to 1 where n>0.\n",
    "\n",
    "Example : n=5 --> [5,4,3,2,1]"
   ]
  },
  {
   "cell_type": "code",
   "execution_count": 62,
   "id": "a5011d98",
   "metadata": {},
   "outputs": [],
   "source": [
    "def reverse_seq(n):\n",
    "    lista = []\n",
    "    for i in range(n,0,-1):\n",
    "        lista.append(i)\n",
    "    return lista"
   ]
  },
  {
   "cell_type": "code",
   "execution_count": 63,
   "id": "50ce1351",
   "metadata": {},
   "outputs": [
    {
     "data": {
      "text/plain": [
       "[6, 5, 4, 3, 2, 1]"
      ]
     },
     "execution_count": 63,
     "metadata": {},
     "output_type": "execute_result"
    }
   ],
   "source": [
    "reverse_seq(6)"
   ]
  },
  {
   "cell_type": "code",
   "execution_count": null,
   "id": "86f2e9ed",
   "metadata": {},
   "outputs": [],
   "source": [
    "# DIA 2"
   ]
  },
  {
   "cell_type": "code",
   "execution_count": null,
   "id": "eeb75a2a",
   "metadata": {},
   "outputs": [],
   "source": [
    "'''\n",
    "This time no story, no theory. The examples below show you how to write function accum:\n",
    "\n",
    "Examples:\n",
    "accum(\"abcd\") -> \"A-Bb-Ccc-Dddd\"\n",
    "accum(\"RqaEzty\") -> \"R-Qq-Aaa-Eeee-Zzzzz-Tttttt-Yyyyyyy\"\n",
    "accum(\"cwAt\") -> \"C-Ww-Aaa-Tttt\"\n",
    "The parameter of accum is a string which includes only letters from a..z and A..Z.\n",
    "'''"
   ]
  },
  {
   "cell_type": "code",
   "execution_count": null,
   "id": "58e27b5d",
   "metadata": {},
   "outputs": [],
   "source": [
    "def accum(s):\n",
    "    for i in s"
   ]
  },
  {
   "cell_type": "code",
   "execution_count": null,
   "id": "2f3cbbba",
   "metadata": {},
   "outputs": [],
   "source": []
  },
  {
   "cell_type": "code",
   "execution_count": null,
   "id": "f4b1efd5",
   "metadata": {},
   "outputs": [],
   "source": []
  }
 ],
 "metadata": {
  "kernelspec": {
   "display_name": "Python 3 (ipykernel)",
   "language": "python",
   "name": "python3"
  },
  "language_info": {
   "codemirror_mode": {
    "name": "ipython",
    "version": 3
   },
   "file_extension": ".py",
   "mimetype": "text/x-python",
   "name": "python",
   "nbconvert_exporter": "python",
   "pygments_lexer": "ipython3",
   "version": "3.10.4"
  }
 },
 "nbformat": 4,
 "nbformat_minor": 5
}
