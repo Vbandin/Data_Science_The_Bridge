{
 "cells": [
  {
   "cell_type": "code",
   "execution_count": null,
   "id": "05a88c41",
   "metadata": {},
   "outputs": [],
   "source": [
    "# w3resource.com - Cruza los vendedores con los clientes de la misma ciudad\n",
    "SELECT salesman.name, customer.cust_name, salesman.city\n",
    "FROM salesman\n",
    "JOIN customer\n",
    "ON salesman.city = customer.city"
   ]
  },
  {
   "cell_type": "code",
   "execution_count": null,
   "id": "5275522d",
   "metadata": {},
   "outputs": [],
   "source": [
    "# w3resource.com - Localiza los clientes y los vendedores que trabajan para ellos\n",
    "\n",
    "SELECT salesman.name, customer.cust_name\n",
    "FROM salesman\n",
    "JOIN customer\n",
    "ON salesman.salesman_id = customer.salesman_id"
   ]
  },
  {
   "cell_type": "code",
   "execution_count": null,
   "id": "2110fb09",
   "metadata": {},
   "outputs": [],
   "source": [
    "# w3resource.com - Encontrar los vendedores que generen ordenes para sus clientes pero no esten en la misma ciudad\n",
    "SELECT ord_no, cust_name, orders.customer_id, orders.salesmand_id\n",
    "FROM orders\n",
    "JOIN customer\n",
    "ON orders.customer_id = customer.customer_id\n",
    "JOIN salesman\n",
    "ON orders.salesman_id = salesman.salesman_id\n",
    "WHERE salesman.city <> customer.city\n",
    "\n",
    "# También:\n",
    "SELECT ord_no, cust_name, orders.customer_id, orders.salesmand_id\n",
    "FROM orders\n",
    "JOIN customer\n",
    "ON orders.customer_id = customer.customer_id\n",
    "JOIN salesman\n",
    "ON orders.salesman_id = salesman.salesman_id AND salesman.city <> customer.city"
   ]
  },
  {
   "cell_type": "code",
   "execution_count": null,
   "id": "8601cf1b",
   "metadata": {},
   "outputs": [],
   "source": [
    "# w3resource.com - Encontrar las ventas realizadas por clientes\n",
    "\n",
    "SELECT ord_no, cust_name\n",
    "FROM orders\n",
    "JOIN customer\n",
    "ON orders.customer_id = customer.customer_id"
   ]
  },
  {
   "cell_type": "code",
   "execution_count": null,
   "id": "5c382ab4",
   "metadata": {},
   "outputs": [],
   "source": [
    "# w3resource.com - Encontrar clientes que tengan grade y son atendidos por un comercial que tiene una ciudad asignada\n",
    "\n",
    "SELECT cust_name AS Customer, grade AS Grade\n",
    "FROM salesman\n",
    "JOIN customer\n",
    "ON salesman.salesman_id = customer.salesman_id\n",
    "WHERE grade IS NOT NULL AND salesman.city IS NOT NULL"
   ]
  },
  {
   "cell_type": "code",
   "execution_count": null,
   "id": "dec0db9f",
   "metadata": {},
   "outputs": [],
   "source": [
    "# w3resource.com - Encontrar clientes que tienen un comercial que gane una comision entre el 12 y el 14%\n",
    "SELECT cust_name AS Customer, customer.city AS City\n",
    "FROM customer\n",
    "JOIN salesman\n",
    "ON customer.salesman_id = salesman.salesman_id\n",
    "WHERE commission >= 0.12 AND commission <=0.14\n",
    "\n",
    "# Mejor con un between:\n",
    "\n",
    "WHERE commission BETWEEN 0.12 AND 0.14"
   ]
  },
  {
   "cell_type": "code",
   "execution_count": null,
   "id": "fac54cca",
   "metadata": {},
   "outputs": [],
   "source": [
    "# w3resource.com - Encontrar pedidos hechos por vendedores ordenadas por clientes cuyo grades es superior o igual a 200\n",
    "\n",
    "SELECT  customer.cust_name, \n",
    "        commission AS \"Commission%\",\n",
    "        purch_amt*commission AS Commission\n",
    "FROM orders\n",
    "JOIN customer\n",
    "ON orders.customer_id = customer.customer_id\n",
    "JOIN salesman\n",
    "ON orders.salesman_id = salesman.salesman_id\n",
    "WHERE customer.grade>=200\n"
   ]
  },
  {
   "cell_type": "code",
   "execution_count": null,
   "id": "df9ece53",
   "metadata": {},
   "outputs": [],
   "source": [
    "# w3resource.com - Encontrar los clientes que han hecho alguna orden el 5 de octubre\n",
    "\n",
    "SELECT  customer.customer_id,\n",
    "        cust_name,\n",
    "        customer.city,\n",
    "        grade,\n",
    "        salesman.salesman_id\n",
    "        ord_no,\n",
    "        purch_amt,\n",
    "        ord_date,\n",
    "FROM    orders\n",
    "JOIN    customer\n",
    "ON      orders.customer_id = customer.customer_id\n",
    "JOIN    salesman\n",
    "ON      orders.salesman_id = salesman.salesman_id\n",
    "WHERE   orders.ord_date = '2012-10-05'"
   ]
  },
  {
   "cell_type": "code",
   "execution_count": null,
   "id": "7c9efe3d",
   "metadata": {},
   "outputs": [],
   "source": [
    "# w3resource.com - Encontrar ordenes iguales o superiores a la media del importe de los pedidos\n",
    "\n",
    "SELECT  ord_no,\n",
    "        purch_amt,\n",
    "        ord_date,\n",
    "        customer_id,\n",
    "        salesman_id\n",
    "FROM orders\n",
    "GROUP BY\n",
    "WHERE purch_amt >= (SELECT AVG(purch_amt) FROM orders)\n",
    "\n",
    "# Necesito hacer una subquery para calcular la media agregada"
   ]
  },
  {
   "cell_type": "code",
   "execution_count": null,
   "id": "512ac32d",
   "metadata": {},
   "outputs": [],
   "source": [
    "# w3resource.com - Encontrar las sumas de pedidos agrupadas por fecha eliminando todas las fechas donde la suma es menor de 1000 sobre el maximo para esa fecha\n",
    "\n",
    "SELECT  ord_date,\n",
    "        SUM(purch_amt) as total_purch\n",
    "        MAX(purch_amt) as max_purch\n",
    "FROM orders\n",
    "GROUP BY ord_date\n",
    "HAVING SUM(purch_amt) >= 1000+MAX(purch_amt)\n",
    "# Cuando quiero filtrar una agregacion se usa HAVING en lugar de WHERE"
   ]
  }
 ],
 "metadata": {
  "kernelspec": {
   "display_name": "Python 3 (ipykernel)",
   "language": "python",
   "name": "python3"
  },
  "language_info": {
   "codemirror_mode": {
    "name": "ipython",
    "version": 3
   },
   "file_extension": ".py",
   "mimetype": "text/x-python",
   "name": "python",
   "nbconvert_exporter": "python",
   "pygments_lexer": "ipython3",
   "version": "3.10.4"
  }
 },
 "nbformat": 4,
 "nbformat_minor": 5
}
