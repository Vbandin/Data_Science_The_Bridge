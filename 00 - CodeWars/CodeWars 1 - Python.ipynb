{
 "cells": [
  {
   "cell_type": "code",
   "execution_count": null,
   "id": "b7bd437e",
   "metadata": {},
   "outputs": [],
   "source": [
    "'''\n",
    "ENUNCIADO:\n",
    "\n",
    "Given two arrays a and b write a function comp(a, b) (orcompSame(a, b)) that checks whether the two arrays have the \"same\" elements, with the same multiplicities (the multiplicity of a member is the number of times it appears). \"Same\" means, here, that the elements in b are the elements in a squared, regardless of the order.\n",
    "\n",
    "Examples\n",
    "Valid arrays\n",
    "a = [121, 144, 19, 161, 19, 144, 19, 11]  \n",
    "b = [121, 14641, 20736, 361, 25921, 361, 20736, 361]\n",
    "comp(a, b) returns true because in b 121 is the square of 11, 14641 is the square of 121, 20736 the square of 144, 361 the square of 19, 25921 the square of 161, and so on. It gets obvious if we write b's elements in terms of squares:\n",
    "\n",
    "a = [121, 144, 19, 161, 19, 144, 19, 11] \n",
    "b = [11*11, 121*121, 144*144, 19*19, 161*161, 19*19, 144*144, 19*19]\n",
    "Invalid arrays\n",
    "If, for example, we change the first number to something else, comp is not returning true anymore:\n",
    "\n",
    "a = [121, 144, 19, 161, 19, 144, 19, 11]  \n",
    "b = [132, 14641, 20736, 361, 25921, 361, 20736, 361]\n",
    "comp(a,b) returns false because in b 132 is not the square of any number of a.\n",
    "\n",
    "a = [121, 144, 19, 161, 19, 144, 19, 11]  \n",
    "b = [121, 14641, 20736, 36100, 25921, 361, 20736, 361]\n",
    "comp(a,b) returns false because in b 36100 is not the square of any number of a.\n",
    "\n",
    "Remarks\n",
    "a or b might be [] or {} (all languages except R, Shell).\n",
    "a or b might be nil or null or None or nothing (except in C++, COBOL, Crystal, D, Dart, Elixir, Fortran, F#, Haskell, Nim, OCaml, Pascal, Perl, PowerShell, Prolog, PureScript, R, Racket, Rust, Shell, Swift).\n",
    "If a or b are nil (or null or None, depending on the language), the problem doesn't make sense so return false.\n",
    "\n",
    "Note for C\n",
    "The two arrays have the same size (> 0) given as parameter in function comp.\n",
    "'''"
   ]
  },
  {
   "cell_type": "code",
   "execution_count": 3,
   "id": "0796cf83",
   "metadata": {},
   "outputs": [],
   "source": [
    "a = [121, 144, 19, 161, 19, 144, 19, 11]  \n",
    "b = [121, 14641, 20736, 361, 25921, 361, 20736, 361]\n",
    "\n",
    "def comp(array1, array2):\n",
    "    i = 0\n",
    "    aBis = []\n",
    "    while i < len(a)-1:\n",
    "        for el in array1:\n",
    "            aBis.append(el**2)\n",
    "    resultado = []\n",
    "    for el in aBis:\n",
    "        if el in array2:\n",
    "            resultado.append(True)\n",
    "        else:\n",
    "            resultado.append(False)\n",
    "    print(resultado)\n",
    "    return resultado\n",
    "    \n"
   ]
  },
  {
   "cell_type": "code",
   "execution_count": 4,
   "id": "3277913b",
   "metadata": {},
   "outputs": [
    {
     "ename": "MemoryError",
     "evalue": "",
     "output_type": "error",
     "traceback": [
      "\u001b[1;31m---------------------------------------------------------------------------\u001b[0m",
      "\u001b[1;31mMemoryError\u001b[0m                               Traceback (most recent call last)",
      "\u001b[1;32m~\\AppData\\Local\\Temp\\ipykernel_11428\\3144156488.py\u001b[0m in \u001b[0;36m<module>\u001b[1;34m\u001b[0m\n\u001b[1;32m----> 1\u001b[1;33m \u001b[0mcomp\u001b[0m\u001b[1;33m(\u001b[0m\u001b[0ma\u001b[0m\u001b[1;33m,\u001b[0m\u001b[0mb\u001b[0m\u001b[1;33m)\u001b[0m\u001b[1;33m\u001b[0m\u001b[1;33m\u001b[0m\u001b[0m\n\u001b[0m",
      "\u001b[1;32m~\\AppData\\Local\\Temp\\ipykernel_11428\\3125605478.py\u001b[0m in \u001b[0;36mcomp\u001b[1;34m(array1, array2)\u001b[0m\n\u001b[0;32m      7\u001b[0m     \u001b[1;32mwhile\u001b[0m \u001b[0mi\u001b[0m \u001b[1;33m<\u001b[0m \u001b[0mlen\u001b[0m\u001b[1;33m(\u001b[0m\u001b[0ma\u001b[0m\u001b[1;33m)\u001b[0m\u001b[1;33m-\u001b[0m\u001b[1;36m1\u001b[0m\u001b[1;33m:\u001b[0m\u001b[1;33m\u001b[0m\u001b[1;33m\u001b[0m\u001b[0m\n\u001b[0;32m      8\u001b[0m         \u001b[1;32mfor\u001b[0m \u001b[0mel\u001b[0m \u001b[1;32min\u001b[0m \u001b[0marray1\u001b[0m\u001b[1;33m:\u001b[0m\u001b[1;33m\u001b[0m\u001b[1;33m\u001b[0m\u001b[0m\n\u001b[1;32m----> 9\u001b[1;33m             \u001b[0maBis\u001b[0m\u001b[1;33m.\u001b[0m\u001b[0mappend\u001b[0m\u001b[1;33m(\u001b[0m\u001b[0mel\u001b[0m\u001b[1;33m**\u001b[0m\u001b[1;36m2\u001b[0m\u001b[1;33m)\u001b[0m\u001b[1;33m\u001b[0m\u001b[1;33m\u001b[0m\u001b[0m\n\u001b[0m\u001b[0;32m     10\u001b[0m     \u001b[0mresultado\u001b[0m \u001b[1;33m=\u001b[0m \u001b[1;33m[\u001b[0m\u001b[1;33m]\u001b[0m\u001b[1;33m\u001b[0m\u001b[1;33m\u001b[0m\u001b[0m\n\u001b[0;32m     11\u001b[0m     \u001b[1;32mfor\u001b[0m \u001b[0mel\u001b[0m \u001b[1;32min\u001b[0m \u001b[0maBis\u001b[0m\u001b[1;33m:\u001b[0m\u001b[1;33m\u001b[0m\u001b[1;33m\u001b[0m\u001b[0m\n",
      "\u001b[1;31mMemoryError\u001b[0m: "
     ]
    }
   ],
   "source": [
    "comp(a,b)"
   ]
  },
  {
   "cell_type": "code",
   "execution_count": null,
   "id": "7d690b0e",
   "metadata": {},
   "outputs": [],
   "source": []
  },
  {
   "cell_type": "code",
   "execution_count": null,
   "id": "2b61e632",
   "metadata": {},
   "outputs": [],
   "source": [
    "a = [121, 144, 19, 161, 19, 144, 19, 11]  \n",
    "b = [121, 14641, 20736, 361, 25921, 361, 20736, 361]\n",
    "\n",
    "def comp(array1, array2):\n",
    "    i = 0\n",
    "    resultado = []\n",
    "    while i < len(a)-1:\n",
    "        for el in array1:\n",
    "            if el**2 in array2:\n",
    "                resultado.append(True)\n",
    "                i+=1\n",
    "            else:\n",
    "                resultado.append(False)\n",
    "                i+=1\n",
    "    return resultado"
   ]
  },
  {
   "cell_type": "code",
   "execution_count": null,
   "id": "cd7ed9b1",
   "metadata": {},
   "outputs": [],
   "source": [
    "comp(a,b)"
   ]
  },
  {
   "cell_type": "code",
   "execution_count": null,
   "id": "34021f9f",
   "metadata": {},
   "outputs": [],
   "source": [
    "a1 = [121, 144, 19, 161, 19, 144, 19, 11]  \n",
    "a2 = [121, 14641, 20736, 361, 25921, 361, 20736, 361]\n",
    "\n",
    "def comp(array1, array2):\n",
    "    i = 0\n",
    "    while i < len(a)-1:\n",
    "        for el in array1:\n",
    "            for el in array2:\n",
    "                if (array1[i])**2 in array2:\n",
    "                    print(True)\n",
    "                    i+=1\n",
    "                else:\n",
    "                    print(False)\n",
    "                    i+=1"
   ]
  },
  {
   "cell_type": "code",
   "execution_count": null,
   "id": "365cc2c5",
   "metadata": {},
   "outputs": [],
   "source": [
    "# Solución de Rafa"
   ]
  },
  {
   "cell_type": "code",
   "execution_count": 11,
   "id": "036af97e",
   "metadata": {},
   "outputs": [],
   "source": [
    "import math\n",
    "\n",
    "a = [121, 144, 19, 161, 19, 144, 19, 11]  \n",
    "b = [121, 14641, 20736, 361, 25921, 361, 20736, 361]\n",
    "\n",
    "def comp(a1,a2):\n",
    "    s1 = set(a1)\n",
    "    s2 = set(a2)\n",
    "\n",
    "    for s in s1:\n",
    "        if s**2 not in s2:\n",
    "            return False\n",
    "    for s in s2:\n",
    "        if math.sqrt(s) not in s1:\n",
    "            return False\n",
    "    return True"
   ]
  },
  {
   "cell_type": "code",
   "execution_count": 12,
   "id": "39c39576",
   "metadata": {},
   "outputs": [
    {
     "data": {
      "text/plain": [
       "True"
      ]
     },
     "execution_count": 12,
     "metadata": {},
     "output_type": "execute_result"
    }
   ],
   "source": [
    "comp(a,b)"
   ]
  },
  {
   "cell_type": "code",
   "execution_count": null,
   "id": "414b1508",
   "metadata": {},
   "outputs": [],
   "source": []
  },
  {
   "cell_type": "code",
   "execution_count": null,
   "id": "cb7c7419",
   "metadata": {},
   "outputs": [],
   "source": [
    "'''\n",
    "Enunciado 2\n",
    "Complete the solution so that it reverses the string passed into it.\n",
    "\n",
    "'world'  =>  'dlrow'\n",
    "'word'   =>  'drow'\n",
    "'''"
   ]
  },
  {
   "cell_type": "code",
   "execution_count": 13,
   "id": "434f3480",
   "metadata": {},
   "outputs": [],
   "source": [
    "def solution(string):\n",
    "    string2 = []\n",
    "    for letra in string:\n",
    "        string2.append(letra)\n",
    "    string2.reverse()\n",
    "    return ''.join(string2)"
   ]
  },
  {
   "cell_type": "code",
   "execution_count": 14,
   "id": "af82a3b5",
   "metadata": {},
   "outputs": [
    {
     "data": {
      "text/plain": [
       "'arbadacarba'"
      ]
     },
     "execution_count": 14,
     "metadata": {},
     "output_type": "execute_result"
    }
   ],
   "source": [
    "solution('abracadabra')"
   ]
  },
  {
   "cell_type": "code",
   "execution_count": null,
   "id": "3864e0dc",
   "metadata": {},
   "outputs": [],
   "source": [
    "# Mejor\n",
    "\n",
    "def solution(string):\n",
    "    return ''.join.reversed(string)\n",
    "\n",
    "'''\n",
    "tambien con [::-1]\n",
    "'''"
   ]
  },
  {
   "cell_type": "code",
   "execution_count": 15,
   "id": "04c30bfd",
   "metadata": {},
   "outputs": [
    {
     "data": {
      "text/plain": [
       "'arbadacarba'"
      ]
     },
     "execution_count": 15,
     "metadata": {},
     "output_type": "execute_result"
    }
   ],
   "source": [
    "solution('abracadabra')"
   ]
  },
  {
   "cell_type": "code",
   "execution_count": null,
   "id": "3c993858",
   "metadata": {},
   "outputs": [],
   "source": [
    "'''\n",
    "Enunciado 3\n",
    "Complete the solution so that it returns true if the first argument(string) passed in ends with the 2nd argument (also a string).\n",
    "\n",
    "Examples:\n",
    "\n",
    "solution('abc', 'bc') # returns true\n",
    "solution('abc', 'd') # returns false\n",
    "'''"
   ]
  },
  {
   "cell_type": "code",
   "execution_count": 18,
   "id": "52f653c4",
   "metadata": {},
   "outputs": [],
   "source": [
    "def solution(string, ending):\n",
    "    i = -1\n",
    "    for letra in ending:\n",
    "        if ending[i] == string[i]:\n",
    "            i-=1\n",
    "            return True\n",
    "        else:\n",
    "            return False"
   ]
  },
  {
   "cell_type": "code",
   "execution_count": 22,
   "id": "641f5ba2",
   "metadata": {},
   "outputs": [
    {
     "data": {
      "text/plain": [
       "True"
      ]
     },
     "execution_count": 22,
     "metadata": {},
     "output_type": "execute_result"
    }
   ],
   "source": [
    "solution('abcd','bcd')"
   ]
  },
  {
   "cell_type": "code",
   "execution_count": null,
   "id": "68eaa38b",
   "metadata": {},
   "outputs": [],
   "source": [
    "# Corrección Rafa\n",
    "def solution(string, ending):\n",
    "        return string[-len(ending):] == ending\n"
   ]
  },
  {
   "cell_type": "code",
   "execution_count": 23,
   "id": "74e125b2",
   "metadata": {},
   "outputs": [
    {
     "data": {
      "text/plain": [
       "True"
      ]
     },
     "execution_count": 23,
     "metadata": {},
     "output_type": "execute_result"
    }
   ],
   "source": [
    "solution('juan','an')"
   ]
  },
  {
   "cell_type": "code",
   "execution_count": null,
   "id": "869391d3",
   "metadata": {},
   "outputs": [],
   "source": [
    "'''\n",
    "Your goal in this kata is to implement a difference function, which subtracts one list from another and returns the result.\n",
    "\n",
    "It should remove all values from list a, which are present in list b keeping their order.\n",
    "\n",
    "array_diff([1,2],[1]) == [2]\n",
    "If a value is present in b, all of its occurrences must be removed from the other:\n",
    "\n",
    "array_diff([1,2,2,2,3],[2]) == [1,3]\n",
    "'''"
   ]
  },
  {
   "cell_type": "code",
   "execution_count": 3,
   "id": "52bf6cee",
   "metadata": {},
   "outputs": [],
   "source": [
    "def array_diff(a, b):\n",
    "    for elb in b:\n",
    "        for ela in a:\n",
    "            if elb in a:\n",
    "                a.remove(elb)\n",
    "    return a"
   ]
  },
  {
   "cell_type": "code",
   "execution_count": 4,
   "id": "def65b34",
   "metadata": {},
   "outputs": [
    {
     "data": {
      "text/plain": [
       "[1, 2, 4, 5, 6]"
      ]
     },
     "execution_count": 4,
     "metadata": {},
     "output_type": "execute_result"
    }
   ],
   "source": [
    "array_diff([1,3,2,3,4,3,5,3,6,3],[3])"
   ]
  },
  {
   "cell_type": "code",
   "execution_count": 6,
   "id": "b3172b3e",
   "metadata": {},
   "outputs": [
    {
     "data": {
      "text/plain": [
       "[2, 3, 3]"
      ]
     },
     "execution_count": 6,
     "metadata": {},
     "output_type": "execute_result"
    }
   ],
   "source": [
    "# Mejor con comprensión de listas\n",
    "\n",
    "a = [1,2,3,3,4,4]\n",
    "b = [1,4]\n",
    "\n",
    "[el for el in a if el not in b]"
   ]
  },
  {
   "cell_type": "code",
   "execution_count": 18,
   "id": "c11a89c0",
   "metadata": {},
   "outputs": [],
   "source": [
    "def array_diff2(a, b):\n",
    "    return [el for el in a if el not in b]"
   ]
  },
  {
   "cell_type": "code",
   "execution_count": 19,
   "id": "6bd01cac",
   "metadata": {},
   "outputs": [
    {
     "data": {
      "text/plain": [
       "[2, 3, 3]"
      ]
     },
     "execution_count": 19,
     "metadata": {},
     "output_type": "execute_result"
    }
   ],
   "source": [
    "a = [1,2,3,3,4,4]\n",
    "b = [1,4]\n",
    "\n",
    "array_diff2(a,b)"
   ]
  },
  {
   "cell_type": "code",
   "execution_count": null,
   "id": "70c22ff9",
   "metadata": {},
   "outputs": [],
   "source": [
    "'''\n",
    "The goal of this exercise is to convert a string to a new string where each character in the new string is \"(\" if that character appears only once in the original string, or \")\" if that character appears more than once in the original string. Ignore capitalization when determining if a character is a duplicate.\n",
    "\n",
    "Examples\n",
    "\"din\"      =>  \"(((\"\n",
    "\"recede\"   =>  \"()()()\"\n",
    "\"Success\"  =>  \")())())\"\n",
    "\"(( @\"     =>  \"))((\" \n",
    "Notes\n",
    "Assertion messages may be unclear about what they display in some languages. If you read \"...It Should encode XXX\", the \"XXX\" is the expected result, not the input!\n",
    "'''"
   ]
  },
  {
   "cell_type": "code",
   "execution_count": 16,
   "id": "a54017dc",
   "metadata": {},
   "outputs": [],
   "source": [
    "def duplicate_encode(word):\n",
    "    word = word.lower()\n",
    "    coded = []\n",
    "    for letra in word:\n",
    "        word.count(letra)\n",
    "        if word.count(letra) <= 1:\n",
    "            coded.append('(')\n",
    "        else:\n",
    "            coded.append(')')\n",
    "    return ''.join(coded)"
   ]
  },
  {
   "cell_type": "code",
   "execution_count": 17,
   "id": "e63c5a44",
   "metadata": {},
   "outputs": [
    {
     "data": {
      "text/plain": [
       "'()())()'"
      ]
     },
     "execution_count": 17,
     "metadata": {},
     "output_type": "execute_result"
    }
   ],
   "source": [
    "duplicate_encode('antonio')"
   ]
  },
  {
   "cell_type": "code",
   "execution_count": 21,
   "id": "717e073d",
   "metadata": {},
   "outputs": [],
   "source": [
    "def codificador_duplicados(palabra):\n",
    "    palabra = palabra.lower()\n",
    "    resultado = ''\n",
    "    for letra in palabra:\n",
    "        if palabra.count(letra) == 1:\n",
    "            resultado += '('\n",
    "        else:\n",
    "            resultado +=')'\n",
    "\n",
    "    return resultado"
   ]
  },
  {
   "cell_type": "code",
   "execution_count": 22,
   "id": "18327a8c",
   "metadata": {},
   "outputs": [
    {
     "data": {
      "text/plain": [
       "'()())()'"
      ]
     },
     "execution_count": 22,
     "metadata": {},
     "output_type": "execute_result"
    }
   ],
   "source": [
    "codificador_duplicados('antonio')"
   ]
  },
  {
   "cell_type": "code",
   "execution_count": null,
   "id": "58128973",
   "metadata": {},
   "outputs": [],
   "source": [
    "'''\n",
    "There is a bus moving in the city, and it takes and drop some people in each bus stop.\n",
    "\n",
    "You are provided with a list (or array) of integer pairs. Elements of each pair represent number of people get into bus (The first item) and number of people get off the bus (The second item) in a bus stop.\n",
    "\n",
    "Your task is to return number of people who are still in the bus after the last bus station (after the last array). Even though it is the last bus stop, the bus is not empty and some people are still in the bus, and they are probably sleeping there :D\n",
    "\n",
    "Take a look on the test cases.\n",
    "\n",
    "Please keep in mind that the test cases ensure that the number of people in the bus is always >= 0. So the return integer can't be negative.\n",
    "\n",
    "The second value in the first integer array is 0, since the bus is empty in the first bus stop.\n",
    "'''"
   ]
  },
  {
   "cell_type": "code",
   "execution_count": 23,
   "id": "9eaf015a",
   "metadata": {},
   "outputs": [
    {
     "data": {
      "text/plain": [
       "4"
      ]
     },
     "execution_count": 23,
     "metadata": {},
     "output_type": "execute_result"
    }
   ],
   "source": [
    "def total(a):\n",
    "    suben=[]\n",
    "    bajan=[]\n",
    "    for i in a:\n",
    "        suben.append(i[0])\n",
    "        bajan.append(i[1])\n",
    "    totalsuben=sum(suben)\n",
    "    totalbajan=sum(bajan)\n",
    "    total= totalsuben - totalbajan\n",
    "    return total\n",
    "total([[10,0],[3,5],[5,9]])\n",
    "\n",
    "# Se puede hacer con una sola lista (por ejemplo pasajeros) en lugar de con dos (suben y bajan) para luego restarlo)"
   ]
  },
  {
   "cell_type": "code",
   "execution_count": null,
   "id": "f72d6530",
   "metadata": {},
   "outputs": [],
   "source": [
    "'''\n",
    "Write Number in Expanded Form\n",
    "You will be given a number and you will need to return it as a string in Expanded Form. For example:\n",
    "\n",
    "expanded_form(12) # Should return '10 + 2'\n",
    "expanded_form(42) # Should return '40 + 2'\n",
    "expanded_form(70304) # Should return '70000 + 300 + 4'\n",
    "NOTE: All numbers will be whole numbers greater than 0.\n",
    "\n",
    "If you liked this kata, check out part 2!!\n",
    "'''"
   ]
  },
  {
   "cell_type": "code",
   "execution_count": 35,
   "id": "76c7ca75",
   "metadata": {},
   "outputs": [],
   "source": [
    "def expanded_form(num):\n",
    "    numStr = str(num)\n",
    "    cifras = len(numStr)\n",
    "    if cifras "
   ]
  },
  {
   "cell_type": "code",
   "execution_count": 36,
   "id": "ce6eae2e",
   "metadata": {},
   "outputs": [
    {
     "data": {
      "text/plain": [
       "2"
      ]
     },
     "execution_count": 36,
     "metadata": {},
     "output_type": "execute_result"
    }
   ],
   "source": [
    "expanded_form(32)"
   ]
  },
  {
   "cell_type": "code",
   "execution_count": 37,
   "id": "0ff67a0f",
   "metadata": {},
   "outputs": [],
   "source": [
    "def expanded_form2(num):\n",
    "    string = str(num)\n",
    "\n",
    "    var = []\n",
    "    for i, t in enumerate(string):\n",
    "        if t != '0':\n",
    "            var.append(t + '0'*(len(string)-1-i))\n",
    "\n",
    "    return \" + \".join(var)"
   ]
  },
  {
   "cell_type": "code",
   "execution_count": 39,
   "id": "70d6ab7f",
   "metadata": {},
   "outputs": [
    {
     "data": {
      "text/plain": [
       "'70000 + 300 + 4'"
      ]
     },
     "execution_count": 39,
     "metadata": {},
     "output_type": "execute_result"
    }
   ],
   "source": [
    "expanded_form2(70304)"
   ]
  },
  {
   "cell_type": "code",
   "execution_count": 40,
   "id": "9a7aabfe",
   "metadata": {},
   "outputs": [
    {
     "name": "stdout",
     "output_type": "stream",
     "text": [
      "10000\n",
      "100\n"
     ]
    },
    {
     "data": {
      "text/plain": [
       "[70000, 300, 4]"
      ]
     },
     "execution_count": 40,
     "metadata": {},
     "output_type": "execute_result"
    }
   ],
   "source": [
    "# Otra manera:\n",
    "\n",
    "res = []\n",
    "n = 70304\n",
    "while len(str(n))>1:\n",
    "    div = int('1'+'0'*(len(str(n))-1))\n",
    "    print(div)\n",
    "    aux = n\n",
    "    aux = n%div\n",
    "    res.append(n-aux)\n",
    "    n=aux\n",
    "res.append(n)\n",
    "res"
   ]
  },
  {
   "cell_type": "code",
   "execution_count": null,
   "id": "8518b698",
   "metadata": {},
   "outputs": [],
   "source": [
    "'''\n",
    "Implement the function unique_in_order which takes as argument a sequence and returns a list of items without any elements with the same value next to each other and preserving the original order of elements.\n",
    "\n",
    "For example:\n",
    "\n",
    "unique_in_order('AAAABBBCCDAABBB') == ['A', 'B', 'C', 'D', 'A', 'B']\n",
    "unique_in_order('ABBCcAD')         == ['A', 'B', 'C', 'c', 'A', 'D']\n",
    "unique_in_order([1,2,2,3,3])       == [1,2,3]\n",
    "\n",
    "'''"
   ]
  },
  {
   "cell_type": "code",
   "execution_count": 52,
   "id": "58644640",
   "metadata": {},
   "outputs": [],
   "source": [
    "def unique_in_order(iterable):\n",
    "    lista = []\n",
    "    for el in iterable:\n",
    "        lista.append(el)\n",
    "        if len(lista) >=2:\n",
    "            if lista[-2] == lista[-1]:\n",
    "                lista.pop()\n",
    "    return lista"
   ]
  },
  {
   "cell_type": "code",
   "execution_count": 53,
   "id": "80dd784b",
   "metadata": {},
   "outputs": [
    {
     "data": {
      "text/plain": [
       "['A', 'B', 'C', 'D', 'A', 'B']"
      ]
     },
     "execution_count": 53,
     "metadata": {},
     "output_type": "execute_result"
    }
   ],
   "source": [
    "unique_in_order('AAAABBBCCDAABBB')"
   ]
  },
  {
   "cell_type": "code",
   "execution_count": 54,
   "id": "1887971c",
   "metadata": {},
   "outputs": [
    {
     "data": {
      "text/plain": [
       "['A', 'B', 'C', 'c', 'A', 'D']"
      ]
     },
     "execution_count": 54,
     "metadata": {},
     "output_type": "execute_result"
    }
   ],
   "source": [
    "unique_in_order('ABBCcAD')"
   ]
  },
  {
   "cell_type": "code",
   "execution_count": 55,
   "id": "2444f35e",
   "metadata": {},
   "outputs": [
    {
     "data": {
      "text/plain": [
       "[1, 2, 3]"
      ]
     },
     "execution_count": 55,
     "metadata": {},
     "output_type": "execute_result"
    }
   ],
   "source": [
    "unique_in_order([1,2,2,3,3])"
   ]
  },
  {
   "cell_type": "code",
   "execution_count": null,
   "id": "c45edf5b",
   "metadata": {},
   "outputs": [],
   "source": [
    "Build a function that returns an array of integers from n to 1 where n>0.\n",
    "\n",
    "Example : n=5 --> [5,4,3,2,1]"
   ]
  },
  {
   "cell_type": "code",
   "execution_count": 62,
   "id": "a5011d98",
   "metadata": {},
   "outputs": [],
   "source": [
    "def reverse_seq(n):\n",
    "    lista = []\n",
    "    for i in range(n,0,-1):\n",
    "        lista.append(i)\n",
    "    return lista"
   ]
  },
  {
   "cell_type": "code",
   "execution_count": 63,
   "id": "50ce1351",
   "metadata": {},
   "outputs": [
    {
     "data": {
      "text/plain": [
       "[6, 5, 4, 3, 2, 1]"
      ]
     },
     "execution_count": 63,
     "metadata": {},
     "output_type": "execute_result"
    }
   ],
   "source": [
    "reverse_seq(6)"
   ]
  },
  {
   "cell_type": "code",
   "execution_count": null,
   "id": "fdca87ff",
   "metadata": {},
   "outputs": [],
   "source": [
    "# DIA 2"
   ]
  },
  {
   "cell_type": "code",
   "execution_count": null,
   "id": "06577309",
   "metadata": {},
   "outputs": [],
   "source": [
    "'''\n",
    "This time no story, no theory. The examples below show you how to write function accum:\n",
    "\n",
    "Examples:\n",
    "accum(\"abcd\") -> \"A-Bb-Ccc-Dddd\"\n",
    "accum(\"RqaEzty\") -> \"R-Qq-Aaa-Eeee-Zzzzz-Tttttt-Yyyyyyy\"\n",
    "accum(\"cwAt\") -> \"C-Ww-Aaa-Tttt\"\n",
    "The parameter of accum is a string which includes only letters from a..z and A..Z.\n",
    "'''"
   ]
  },
  {
   "cell_type": "code",
   "execution_count": 1,
   "id": "614da80c",
   "metadata": {},
   "outputs": [
    {
     "name": "stdout",
     "output_type": "stream",
     "text": [
      "['A', 'Bb', 'Ccc', 'Dddd']\n"
     ]
    }
   ],
   "source": [
    "\n",
    "s = 'abcd'\n",
    "s_new = []\n",
    "for letter in range(len(s)):\n",
    "    l_new = s[letter] * (letter+1)\n",
    "    s_new.append(l_new.title())\n",
    "print(s_new)"
   ]
  },
  {
   "cell_type": "code",
   "execution_count": 2,
   "id": "65ca3263",
   "metadata": {},
   "outputs": [],
   "source": [
    "def accum(s):\n",
    "    s_new = []\n",
    "    for letter in range(len(s)):\n",
    "        l_new = s[letter] * (letter+1)\n",
    "        s_new.append(l_new.title())\n",
    "    return '-'.join(s_new)"
   ]
  },
  {
   "cell_type": "code",
   "execution_count": null,
   "id": "d546b6b6",
   "metadata": {},
   "outputs": [],
   "source": [
    "'''\n",
    "Your task is to find the first element of an array that is not consecutive.\n",
    "\n",
    "By not consecutive we mean not exactly 1 larger than the previous element of the array.\n",
    "\n",
    "E.g. If we have an array [1,2,3,4,6,7,8] then 1 then 2 then 3 then 4 are all consecutive but 6 is not, so that's the first non-consecutive number.\n",
    "\n",
    "If the whole array is consecutive then return null2.\n",
    "\n",
    "The array will always have at least 2 elements1 and all elements will be numbers. The numbers will also all be unique and in ascending order. The numbers could be positive or negative and the first non-consecutive could be either too!\n",
    "\n",
    "If you like this Kata, maybe try this one next: https://www.codewars.com/kata/represent-array-of-numbers-as-ranges\n",
    "\n",
    "1 Can you write a solution that will return null2 for both [] and [ x ] though? (This is an empty array and one with a single number and is not tested for, but you can write your own example test. )\n",
    "\n",
    "2\n",
    "Swift, Ruby and Crystal: nil\n",
    "Haskell: Nothing\n",
    "Python, Rust, Scala: None\n",
    "Julia: nothing\n",
    "Nim: none(int) (See options)\n",
    "\n",
    "'''"
   ]
  },
  {
   "cell_type": "code",
   "execution_count": 3,
   "id": "5d314dc2",
   "metadata": {},
   "outputs": [
    {
     "ename": "SyntaxError",
     "evalue": "'return' outside function (3377016128.py, line 7)",
     "output_type": "error",
     "traceback": [
      "\u001b[1;36m  File \u001b[1;32m\"C:\\Users\\Victor\\AppData\\Local\\Temp\\ipykernel_23568\\3377016128.py\"\u001b[1;36m, line \u001b[1;32m7\u001b[0m\n\u001b[1;33m    return null\u001b[0m\n\u001b[1;37m    ^\u001b[0m\n\u001b[1;31mSyntaxError\u001b[0m\u001b[1;31m:\u001b[0m 'return' outside function\n"
     ]
    }
   ],
   "source": [
    "arr = [1,2,3,4,5,6,8,9]\n",
    "\n",
    "array_checker = []\n",
    "for i in arr:\n",
    "    array_checker.append(i)\n",
    "    if array_checker[-1] - i != 1:\n",
    "        return null\n",
    "        break"
   ]
  },
  {
   "cell_type": "code",
   "execution_count": 16,
   "id": "b62d787c",
   "metadata": {},
   "outputs": [],
   "source": [
    "arr = [1,2,3,4,5,6,7,8,9]\n",
    "\n",
    "for i in range(len(arr)):\n",
    "    if i!=len(arr)-1 and arr[i]+1 != arr[i+1]:\n",
    "        print(arr[i+1])"
   ]
  },
  {
   "cell_type": "code",
   "execution_count": 17,
   "id": "b157a0ab",
   "metadata": {},
   "outputs": [],
   "source": [
    "def first_non_consecutive(arr):\n",
    "    for i in range(len(arr)):\n",
    "        if i!=len(arr)-1 and arr[i]+1 != arr[i+1]:\n",
    "            return(arr[i+1])\n",
    "    return None"
   ]
  },
  {
   "cell_type": "code",
   "execution_count": 18,
   "id": "d2933c94",
   "metadata": {},
   "outputs": [],
   "source": [
    "first_non_consecutive(arr)"
   ]
  },
  {
   "cell_type": "code",
   "execution_count": null,
   "id": "7b12b116",
   "metadata": {},
   "outputs": [],
   "source": [
    "'''\n",
    "Your team is writing a fancy new text editor and you've been tasked with implementing the line numbering.\n",
    "\n",
    "Write a function which takes a list of strings and returns each line prepended by the correct number.\n",
    "\n",
    "The numbering starts at 1. The format is n: string. Notice the colon and space in between.\n",
    "\n",
    "Examples: (Input --> Output)\n",
    "\n",
    "[] --> []\n",
    "[\"a\", \"b\", \"c\"] --> [\"1: a\", \"2: b\", \"3: c\"]\n",
    "\n",
    "'''"
   ]
  },
  {
   "cell_type": "code",
   "execution_count": 23,
   "id": "91e291b1",
   "metadata": {},
   "outputs": [
    {
     "data": {
      "text/plain": [
       "['1: a', '2: b', '3: c']"
      ]
     },
     "execution_count": 23,
     "metadata": {},
     "output_type": "execute_result"
    }
   ],
   "source": [
    "lines = [\"a\", \"b\", \"c\"]\n",
    "i = 1\n",
    "k=0\n",
    "indx = []\n",
    "for line in lines:\n",
    "    indx.append((str(i)+': '+lines[k]))\n",
    "    i+=1\n",
    "    k+=1\n",
    "    \n",
    "indx  \n",
    "    \n",
    "    "
   ]
  },
  {
   "cell_type": "code",
   "execution_count": null,
   "id": "f93632c4",
   "metadata": {},
   "outputs": [],
   "source": [
    "def number(lines):\n",
    "    i = 1\n",
    "    k=0\n",
    "    indx = []\n",
    "    for line in lines:\n",
    "        indx.append((str(i)+': '+lines[k]))\n",
    "        i+=1\n",
    "        k+=1\n",
    "\n",
    "    return indx"
   ]
  },
  {
   "cell_type": "code",
   "execution_count": null,
   "id": "3a2b5222",
   "metadata": {},
   "outputs": [],
   "source": [
    "a = lines = [\"a\", \"b\", \"c\"]\n",
    "\n",
    "res = []\n",
    "\n",
    "for i, letra in enumerate(a):\n",
    "    res.append(str(i+1))"
   ]
  },
  {
   "cell_type": "code",
   "execution_count": null,
   "id": "15bdf8a8",
   "metadata": {},
   "outputs": [],
   "source": [
    "'''\n",
    "You are given an odd-length array of integers, in which all of them are the same, except for one single number.\n",
    "\n",
    "Complete the method which accepts such an array, and returns that single different number.\n",
    "\n",
    "The input array will always be valid! (odd-length >= 3)\n",
    "\n",
    "Examples\n",
    "[1, 1, 2] ==> 2\n",
    "[17, 17, 3, 17, 17, 17, 17] ==> 3\n",
    "'''"
   ]
  },
  {
   "cell_type": "code",
   "execution_count": 25,
   "id": "752c5f13",
   "metadata": {},
   "outputs": [
    {
     "name": "stdout",
     "output_type": "stream",
     "text": [
      "2\n"
     ]
    }
   ],
   "source": [
    "L = [1, 1, 2]\n",
    "\n",
    "\n",
    "for el in set(L):\n",
    "    if L.count(el)==1:\n",
    "        print(el)"
   ]
  },
  {
   "cell_type": "code",
   "execution_count": null,
   "id": "ebc4defd",
   "metadata": {},
   "outputs": [],
   "source": [
    "def stray(arr):\n",
    "    for el in set(arr):\n",
    "        if arr.count(el)==1:\n",
    "            return(el)\n",
    "        else:\n",
    "            None"
   ]
  },
  {
   "cell_type": "code",
   "execution_count": null,
   "id": "dc0a8907",
   "metadata": {},
   "outputs": [],
   "source": [
    "'''\n",
    "The number 89 is the first integer with more than one digit that fulfills the property partially introduced in the title of this kata. What's the use of saying \"Eureka\"? Because this sum gives the same number.\n",
    "\n",
    "In effect: 89 = 8^1 + 9^2\n",
    "\n",
    "The next number in having this property is 135.\n",
    "\n",
    "See this property again: 135 = 1^1 + 3^2 + 5^3\n",
    "\n",
    "We need a function to collect these numbers, that may receive two integers a, b that defines the range [a, b] (inclusive) and outputs a list of the sorted numbers in the range that fulfills the property described above.\n",
    "\n",
    "Let's see some cases (input -> output):\n",
    "\n",
    "1, 10 -> [1, 2, 3, 4, 5, 6, 7, 8, 9]\n",
    "\n",
    "1, 100 -> [1, 2, 3, 4, 5, 6, 7, 8, 9, 89]\n",
    "If there are no numbers of this kind in the range [a, b] the function should output an empty list.\n",
    "\n",
    "90, 100 --> []\n",
    "Enjoy it!!\n",
    "'''"
   ]
  },
  {
   "cell_type": "code",
   "execution_count": 29,
   "id": "805f342a",
   "metadata": {},
   "outputs": [
    {
     "ename": "IndentationError",
     "evalue": "unexpected indent (2564901624.py, line 2)",
     "output_type": "error",
     "traceback": [
      "\u001b[1;36m  File \u001b[1;32m\"C:\\Users\\Victor\\AppData\\Local\\Temp\\ipykernel_23568\\2564901624.py\"\u001b[1;36m, line \u001b[1;32m2\u001b[0m\n\u001b[1;33m    cifras = str(num).split()\u001b[0m\n\u001b[1;37m    ^\u001b[0m\n\u001b[1;31mIndentationError\u001b[0m\u001b[1;31m:\u001b[0m unexpected indent\n"
     ]
    }
   ],
   "source": [
    "for num in range(1,100):\n",
    "    cifras = str(num).split()\n",
    "    for cifra in cifras:\n",
    "        i=0\n",
    "        k=1\n",
    "        print(int(cifras[i])**k)\n",
    "        i+=1\n",
    "        k+=1\n",
    "    "
   ]
  },
  {
   "cell_type": "code",
   "execution_count": 34,
   "id": "22c683db",
   "metadata": {},
   "outputs": [
    {
     "name": "stdout",
     "output_type": "stream",
     "text": [
      "[1, 1, 2, 3, 4, 5, 6, 7, 8, 9, 89]\n"
     ]
    }
   ],
   "source": [
    "a = 1\n",
    "b = 100\n",
    "output = []\n",
    "for i in range(a, b+1):\n",
    "    if i < 10:\n",
    "        output.append(i)\n",
    "    else:\n",
    "        out = 0\n",
    "        for index, value in enumerate(str(i)):\n",
    "            out += int(value)**(index+1)\n",
    "    if out == i:\n",
    "        output.append(i)\n",
    "        \n",
    "print(output)"
   ]
  },
  {
   "cell_type": "code",
   "execution_count": 31,
   "id": "60a23d86",
   "metadata": {},
   "outputs": [
    {
     "name": "stdout",
     "output_type": "stream",
     "text": [
      "0 1\n",
      "1 3\n",
      "2 5\n"
     ]
    },
    {
     "data": {
      "text/plain": [
       "135"
      ]
     },
     "execution_count": 31,
     "metadata": {},
     "output_type": "execute_result"
    }
   ],
   "source": [
    "i = 135\n",
    "out = 0\n",
    "for index, value in enumerate(str(i)):\n",
    "    print(index,value)\n",
    "    out += int(value)**(index+1)\n",
    "out"
   ]
  },
  {
   "cell_type": "code",
   "execution_count": null,
   "id": "9984f0fa",
   "metadata": {},
   "outputs": [],
   "source": []
  },
  {
   "cell_type": "code",
   "execution_count": null,
   "id": "ff410ecf",
   "metadata": {},
   "outputs": [],
   "source": [
    "def sum_dig_pow(a, b): # range(a, b + 1) will be studied by the function\n",
    "    # your code here\n",
    "    return []"
   ]
  },
  {
   "cell_type": "code",
   "execution_count": null,
   "id": "3ee195fb",
   "metadata": {},
   "outputs": [],
   "source": [
    "'''\n",
    "Complete the solution so that the function will break up camel casing, using a space between words.\n",
    "\n",
    "Example\n",
    "\"camelCasing\"  =>  \"camel Casing\"\n",
    "\"identifier\"   =>  \"identifier\"\n",
    "\"\"             =>  \"\"\n",
    "\n",
    "'''"
   ]
  },
  {
   "cell_type": "code",
   "execution_count": 40,
   "id": "beccc976",
   "metadata": {},
   "outputs": [
    {
     "ename": "AttributeError",
     "evalue": "'str' object has no attribute 'append'",
     "output_type": "error",
     "traceback": [
      "\u001b[1;31m---------------------------------------------------------------------------\u001b[0m",
      "\u001b[1;31mAttributeError\u001b[0m                            Traceback (most recent call last)",
      "\u001b[1;32m~\\AppData\\Local\\Temp\\ipykernel_23568\\3334190207.py\u001b[0m in \u001b[0;36m<module>\u001b[1;34m\u001b[0m\n\u001b[0;32m      3\u001b[0m \u001b[1;32mfor\u001b[0m \u001b[0mindex\u001b[0m\u001b[1;33m,\u001b[0m\u001b[0mletra\u001b[0m \u001b[1;32min\u001b[0m \u001b[0menumerate\u001b[0m\u001b[1;33m(\u001b[0m\u001b[0mpalabra\u001b[0m\u001b[1;33m)\u001b[0m\u001b[1;33m:\u001b[0m\u001b[1;33m\u001b[0m\u001b[1;33m\u001b[0m\u001b[0m\n\u001b[0;32m      4\u001b[0m     \u001b[1;32mif\u001b[0m \u001b[0mletra\u001b[0m \u001b[1;33m!=\u001b[0m \u001b[0mletra\u001b[0m\u001b[1;33m.\u001b[0m\u001b[0mupper\u001b[0m\u001b[1;33m:\u001b[0m\u001b[1;33m\u001b[0m\u001b[1;33m\u001b[0m\u001b[0m\n\u001b[1;32m----> 5\u001b[1;33m         \u001b[0mpalabra1\u001b[0m\u001b[1;33m.\u001b[0m\u001b[0mappend\u001b[0m\u001b[1;33m(\u001b[0m\u001b[0mletra\u001b[0m\u001b[1;33m)\u001b[0m\u001b[1;33m\u001b[0m\u001b[1;33m\u001b[0m\u001b[0m\n\u001b[0m\u001b[0;32m      6\u001b[0m \u001b[1;33m\u001b[0m\u001b[0m\n\u001b[0;32m      7\u001b[0m \u001b[0mpalabra1\u001b[0m\u001b[1;33m\u001b[0m\u001b[1;33m\u001b[0m\u001b[0m\n",
      "\u001b[1;31mAttributeError\u001b[0m: 'str' object has no attribute 'append'"
     ]
    }
   ],
   "source": [
    "palabra = \"camelCasing\"\n",
    "palabra1 = ''\n",
    "for index,letra in enumerate(palabra):\n",
    "    if letra != letra.upper:\n",
    "        palabra1.append(letra)\n",
    "\n",
    "palabra1\n",
    "    "
   ]
  },
  {
   "cell_type": "code",
   "execution_count": null,
   "id": "235804a1",
   "metadata": {},
   "outputs": [],
   "source": [
    "def solution(s):\n",
    "    string = ''\n",
    "    for letra in s:\n",
    "        if letra >= 'A' and letra <= 'Z':\n",
    "            string += ' ' + letra\n",
    "        else:\n",
    "            string += letra\n",
    "    return string"
   ]
  },
  {
   "cell_type": "code",
   "execution_count": null,
   "id": "29e9d3aa",
   "metadata": {},
   "outputs": [],
   "source": [
    "def solution(s):\n",
    "    string = ''\n",
    "    for letra in s:\n",
    "        if letra.isupper():\n",
    "            string += ' ' + letra\n",
    "        else:\n",
    "            string += letra\n",
    "    return string"
   ]
  },
  {
   "cell_type": "code",
   "execution_count": null,
   "id": "7048fd0f",
   "metadata": {},
   "outputs": [],
   "source": [
    "'''\n",
    "Take an integer n (n >= 0) and a digit d (0 <= d <= 9) as an integer.\n",
    "\n",
    "Square all numbers k (0 <= k <= n) between 0 and n.\n",
    "\n",
    "Count the numbers of digits d used in the writing of all the k**2.\n",
    "\n",
    "Call nb_dig (or nbDig or ...) the function taking n and d as parameters and returning this count.\n",
    "\n",
    "Examples:\n",
    "n = 10, d = 1 \n",
    "the k*k are 0, 1, 4, 9, 16, 25, 36, 49, 64, 81, 100\n",
    "We are using the digit 1 in: 1, 16, 81, 100. The total count is then 4.\n",
    "\n",
    "nb_dig(25, 1) returns 11 since\n",
    "the k*k that contain the digit 1 are:\n",
    "1, 16, 81, 100, 121, 144, 169, 196, 361, 441.\n",
    "So there are 11 digits 1 for the squares of numbers between 0 and 25.\n",
    "Note that 121 has twice the digit 1.\n",
    "'''"
   ]
  },
  {
   "cell_type": "code",
   "execution_count": 47,
   "id": "854f47bf",
   "metadata": {
    "scrolled": true
   },
   "outputs": [
    {
     "name": "stdout",
     "output_type": "stream",
     "text": [
      "25\n"
     ]
    }
   ],
   "source": [
    "n = 10\n",
    "d = 2\n",
    "listaCuadrado = []\n",
    "\n",
    "for i in range(0,n+1):\n",
    "    listaCuadrado.append(i*i)\n",
    "for k in listaCuadrado:\n",
    "    if str(d) in str(k):\n",
    "        print(k)"
   ]
  },
  {
   "cell_type": "code",
   "execution_count": 52,
   "id": "d1f98b91",
   "metadata": {
    "scrolled": true
   },
   "outputs": [
    {
     "data": {
      "text/plain": [
       "11"
      ]
     },
     "execution_count": 52,
     "metadata": {},
     "output_type": "execute_result"
    }
   ],
   "source": [
    "n = 25\n",
    "d = 1\n",
    "listaCuadrado = []\n",
    "\n",
    "for i in range(0,n+1):\n",
    "    listaCuadrado.append(i*i)\n",
    "    suma = 0\n",
    "for k in listaCuadrado:\n",
    "    suma += str(k).count(str(d))\n",
    "suma"
   ]
  },
  {
   "cell_type": "code",
   "execution_count": null,
   "id": "dbf9de49",
   "metadata": {},
   "outputs": [],
   "source": [
    "n = 10\n",
    "d = 1\n",
    "listaCuadrado = []\n",
    "\n",
    "for i in range(0,n+1):\n",
    "    listaCuadrado.append(i*i)\n",
    "    suma = 0\n",
    "for k in listaCuadrado:\n",
    "    suma += str(k).count(str(d))\n",
    "suma"
   ]
  },
  {
   "cell_type": "code",
   "execution_count": null,
   "id": "0b6f1c4d",
   "metadata": {},
   "outputs": [],
   "source": [
    "def nb_dig(n, d):\n",
    "    suma = 0\n",
    "    for el in str(numero**2) for numero in range(0,n+1)\n",
    "        suma += str(k).count(str(d))\n",
    "    return suma\n"
   ]
  },
  {
   "cell_type": "code",
   "execution_count": 49,
   "id": "5bc6d8b5",
   "metadata": {},
   "outputs": [],
   "source": [
    "def nb_dig(n, d):\n",
    "    listaCuadrado = []\n",
    "\n",
    "    for i in range(0,n+1):\n",
    "        listaCuadrado.append(i*i)\n",
    "\n",
    "    for k in listaCuadrado:\n",
    "        if str(d) in str(k):\n",
    "            return k"
   ]
  },
  {
   "cell_type": "code",
   "execution_count": null,
   "id": "2d71f55c",
   "metadata": {},
   "outputs": [],
   "source": [
    "'''\n",
    "Your function takes two arguments:\n",
    "\n",
    "current father's age (years)\n",
    "current age of his son (years)\n",
    "Сalculate how many years ago the father was twice as old as his son (or in how many years he will be twice as old). The answer is always greater or equal to 0, no matter if it was in the past or it is in the future.\n",
    "\n",
    "'''"
   ]
  },
  {
   "cell_type": "code",
   "execution_count": 63,
   "id": "79a9dab7",
   "metadata": {},
   "outputs": [
    {
     "name": "stdout",
     "output_type": "stream",
     "text": [
      "7\n"
     ]
    }
   ],
   "source": [
    "dad_years = 43\n",
    "son_years = 25\n",
    "\n",
    "if dad_years/son_years >=2:\n",
    "    print(dad_years%son_years)\n",
    "    \n",
    "if dad_years/son_years <2:\n",
    "    print(son_years*2-dad_years)   \n"
   ]
  },
  {
   "cell_type": "code",
   "execution_count": 61,
   "id": "4c7e8ddc",
   "metadata": {},
   "outputs": [],
   "source": [
    "def twice_as_old(dad_years_old, son_years_old):\n",
    "    pass"
   ]
  },
  {
   "cell_type": "code",
   "execution_count": 67,
   "id": "7e8bd457",
   "metadata": {},
   "outputs": [],
   "source": [
    "def twice_as_old(a, b):\n",
    "    x = a - b*2\n",
    "    if x>=0: return x\n",
    "    else:  return -x"
   ]
  },
  {
   "cell_type": "code",
   "execution_count": 69,
   "id": "84288294",
   "metadata": {},
   "outputs": [
    {
     "data": {
      "text/plain": [
       "13"
      ]
     },
     "execution_count": 69,
     "metadata": {},
     "output_type": "execute_result"
    }
   ],
   "source": [
    "twice_as_old(47, 30)"
   ]
  },
  {
   "cell_type": "code",
   "execution_count": null,
   "id": "93f46ced",
   "metadata": {},
   "outputs": [],
   "source": [
    "'''\n",
    "In this kata you will create a function that takes a list of non-negative integers and strings and returns a new list \n",
    "with the strings filtered out.\n",
    "\n",
    "Example\n",
    "filter_list([1,2,'a','b']) == [1,2]\n",
    "filter_list([1,'a','b',0,15]) == [1,0,15]\n",
    "filter_list([1,2,'aasf','1','123',123]) == [1,2,123]\n",
    "\n",
    "'''"
   ]
  },
  {
   "cell_type": "code",
   "execution_count": 72,
   "id": "b7e25410",
   "metadata": {},
   "outputs": [],
   "source": [
    "l = [1,2,'a','b']\n",
    "\n",
    "filter_list=[]\n",
    "for elem in l:\n",
    "    if type(elem)==int and elem > 0:\n",
    "        filter_list.append(elem)"
   ]
  },
  {
   "cell_type": "code",
   "execution_count": 73,
   "id": "9db89eb1",
   "metadata": {},
   "outputs": [
    {
     "data": {
      "text/plain": [
       "[1, 2]"
      ]
     },
     "execution_count": 73,
     "metadata": {},
     "output_type": "execute_result"
    }
   ],
   "source": [
    "[el for el in l if type(el)==int]"
   ]
  },
  {
   "cell_type": "code",
   "execution_count": 74,
   "id": "4f674001",
   "metadata": {},
   "outputs": [
    {
     "data": {
      "text/plain": [
       "[1, 2]"
      ]
     },
     "execution_count": 74,
     "metadata": {},
     "output_type": "execute_result"
    }
   ],
   "source": [
    "[el for el in l if isinstance(el,int)]"
   ]
  },
  {
   "cell_type": "code",
   "execution_count": null,
   "id": "208dc685",
   "metadata": {},
   "outputs": [],
   "source": [
    "'''\n",
    "altERnaTIng cAsE <=> ALTerNAtiNG CaSe\n",
    "altERnaTIng cAsE <=> ALTerNAtiNG CaSe\n",
    "Define String.prototype.toAlternatingCase (or a similar function/method such as \n",
    "to_alternating_case/toAlternatingCase/ToAlternatingCase in your selected language; see the initial solution for details) \n",
    "such that each lowercase letter becomes uppercase and each uppercase letter becomes lowercase. For example:\n",
    "\n",
    "\"hello world\".toAlternatingCase() === \"HELLO WORLD\"\n",
    "\"HELLO WORLD\".toAlternatingCase() === \"hello world\"\n",
    "\"hello WORLD\".toAlternatingCase() === \"HELLO world\"\n",
    "\"HeLLo WoRLD\".toAlternatingCase() === \"hEllO wOrld\"\n",
    "\"12345\".toAlternatingCase() === \"12345\" // Non-alphabetical characters are unaffected\n",
    "\"1a2b3c4d5e\".toAlternatingCase() === \"1A2B3C4D5E\"\n",
    "\"String.prototype.toAlternatingCase\".toAlternatingCase() === \"sTRING.PROTOTYPE.TOaLTERNATINGcASE\"\n",
    "As usual, your function/method should be pure, i.e. it should not mutate the original string.\n",
    "\n",
    "'''"
   ]
  },
  {
   "cell_type": "code",
   "execution_count": 82,
   "id": "470b97ee",
   "metadata": {},
   "outputs": [
    {
     "data": {
      "text/plain": [
       "'HeLlo WOrlD'"
      ]
     },
     "execution_count": 82,
     "metadata": {},
     "output_type": "execute_result"
    }
   ],
   "source": [
    "palabra = \"hElLO woRLd\"\n",
    "palabraFormateada = []\n",
    "for i in palabra:\n",
    "    if i.isupper():\n",
    "        palabraFormateada.append(i.lower())\n",
    "    else:\n",
    "        palabraFormateada.append(i.upper())\n",
    "palabraFormateada\n",
    "\n",
    "''.join(palabraFormateada)"
   ]
  },
  {
   "cell_type": "code",
   "execution_count": 76,
   "id": "6f4b0b0e",
   "metadata": {},
   "outputs": [
    {
     "ename": "SyntaxError",
     "evalue": "invalid syntax (766358135.py, line 3)",
     "output_type": "error",
     "traceback": [
      "\u001b[1;36m  File \u001b[1;32m\"C:\\Users\\Victor\\AppData\\Local\\Temp\\ipykernel_23568\\766358135.py\"\u001b[1;36m, line \u001b[1;32m3\u001b[0m\n\u001b[1;33m    ''.join[s.lower() if s.isupper() else s.upper for s in string]\u001b[0m\n\u001b[1;37m                                                  ^\u001b[0m\n\u001b[1;31mSyntaxError\u001b[0m\u001b[1;31m:\u001b[0m invalid syntax\n"
     ]
    }
   ],
   "source": [
    "string = 'hOLa'\n",
    "\n",
    "''.join[s.lower() if s.isupper() else s.upper for s in string]"
   ]
  },
  {
   "cell_type": "code",
   "execution_count": null,
   "id": "bf881aac",
   "metadata": {},
   "outputs": [],
   "source": [
    "'''\n",
    "Your task is to sort a given string. Each word in the string will contain a single number. This number is the position the word\n",
    "should have in the result.\n",
    "\n",
    "Note: Numbers can be from 1 to 9. So 1 will be the first word (not 0).\n",
    "\n",
    "If the input string is empty, return an empty string. The words in the input String will only contain valid consecutive numbers.\n",
    "\n",
    "Examples\n",
    "\"is2 Thi1s T4est 3a\"  -->  \"Thi1s is2 3a T4est\"\n",
    "\"4of Fo1r pe6ople g3ood th5e the2\"  -->  \"Fo1r the2 g3ood 4of th5e pe6ople\"\n",
    "\"\"  -->  \"\"\n",
    "'''"
   ]
  },
  {
   "cell_type": "code",
   "execution_count": 84,
   "id": "95dc34d3",
   "metadata": {},
   "outputs": [
    {
     "data": {
      "text/plain": [
       "['is2', 'Thi1s', 'T4est', '3a']"
      ]
     },
     "execution_count": 84,
     "metadata": {},
     "output_type": "execute_result"
    }
   ],
   "source": [
    "entrada = \"is2 Thi1s T4est 3a\"\n",
    "\n",
    "analisis = entrada.split()\n",
    "\n",
    "i=0\n",
    "k=0\n",
    "\n",
    "for str(i) in range(0,len(analisis)+1):\n",
    "    for char in analisis[i]:\n",
    "        if char == str(i):\n",
    "            \n",
    "\n",
    "    "
   ]
  },
  {
   "cell_type": "code",
   "execution_count": 85,
   "id": "2863d7d0",
   "metadata": {},
   "outputs": [
    {
     "name": "stdout",
     "output_type": "stream",
     "text": [
      "Fo1r the2 g3ood 4of th5e pe6ople\n"
     ]
    }
   ],
   "source": [
    "sentence = \"4of Fo1r pe6ople g3ood th5e the2\"\n",
    "s = []\n",
    "for a in range(1,10):\n",
    "    for b in sentence.split():\n",
    "        if str(a) in b:\n",
    "            s.append(b)\n",
    "print(' '.join(s))"
   ]
  },
  {
   "cell_type": "code",
   "execution_count": null,
   "id": "5b7de149",
   "metadata": {},
   "outputs": [],
   "source": [
    "'''\n",
    "Given an integer as input, can you round it to the next (meaning, \"greater than or equal\") multiple of 5?\n",
    "\n",
    "Examples:\n",
    "\n",
    "input:    output:\n",
    "0    ->   0\n",
    "2    ->   5\n",
    "3    ->   5\n",
    "12   ->   15\n",
    "21   ->   25\n",
    "30   ->   30\n",
    "-2   ->   0\n",
    "-5   ->   -5\n",
    "etc.\n",
    "Input may be any positive or negative integer (including 0).\n",
    "\n",
    "You can assume that all inputs are valid integers.\n",
    "'''"
   ]
  },
  {
   "cell_type": "code",
   "execution_count": 97,
   "id": "ea95e38a",
   "metadata": {},
   "outputs": [
    {
     "name": "stdout",
     "output_type": "stream",
     "text": [
      "100\n",
      "20\n"
     ]
    },
    {
     "data": {
      "text/plain": [
       "1.2"
      ]
     },
     "execution_count": 97,
     "metadata": {},
     "output_type": "execute_result"
    }
   ],
   "source": [
    "import math\n",
    "math.ceil(1.1)\n",
    "\n",
    "number = 6\n",
    "\n",
    "print(5*math.ceil(num/5))\n",
    "print(math.ceil(num/5))\n",
    "\n",
    "6/5\n"
   ]
  },
  {
   "cell_type": "code",
   "execution_count": 98,
   "id": "9e71eeb6",
   "metadata": {},
   "outputs": [
    {
     "name": "stdout",
     "output_type": "stream",
     "text": [
      "17\n",
      "18\n",
      "19\n",
      "21\n"
     ]
    }
   ],
   "source": [
    "n = 17\n",
    "\n",
    "for k in range(5):\n",
    "    if (n+k)%5 != 0:\n",
    "        print(n+k)"
   ]
  },
  {
   "cell_type": "code",
   "execution_count": 99,
   "id": "ece4e6d3",
   "metadata": {},
   "outputs": [
    {
     "data": {
      "text/plain": [
       "20"
      ]
     },
     "execution_count": 99,
     "metadata": {},
     "output_type": "execute_result"
    }
   ],
   "source": [
    "while  n%5 !=0:\n",
    "    n+=1\n",
    "n"
   ]
  },
  {
   "cell_type": "code",
   "execution_count": 105,
   "id": "8d8eda24",
   "metadata": {},
   "outputs": [
    {
     "name": "stdout",
     "output_type": "stream",
     "text": [
      "3.4\n",
      "17\n"
     ]
    }
   ],
   "source": [
    "import math\n",
    "n = 17\n",
    "m = n/5\n",
    "print(m)\n",
    "print(math.ceil(5*m))"
   ]
  },
  {
   "cell_type": "code",
   "execution_count": 103,
   "id": "78a36389",
   "metadata": {},
   "outputs": [
    {
     "data": {
      "text/plain": [
       "3"
      ]
     },
     "execution_count": 103,
     "metadata": {},
     "output_type": "execute_result"
    }
   ],
   "source": [
    "n=12\n",
    "m = n//5+1\n",
    "m"
   ]
  },
  {
   "cell_type": "code",
   "execution_count": null,
   "id": "7246a8ee",
   "metadata": {},
   "outputs": [],
   "source": []
  }
 ],
 "metadata": {
  "kernelspec": {
   "display_name": "Python 3 (ipykernel)",
   "language": "python",
   "name": "python3"
  },
  "language_info": {
   "codemirror_mode": {
    "name": "ipython",
    "version": 3
   },
   "file_extension": ".py",
   "mimetype": "text/x-python",
   "name": "python",
   "nbconvert_exporter": "python",
   "pygments_lexer": "ipython3",
   "version": "3.10.4"
  }
 },
 "nbformat": 4,
 "nbformat_minor": 5
}
